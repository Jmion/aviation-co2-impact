{
 "cells": [
  {
   "cell_type": "markdown",
   "metadata": {},
   "source": [
    "# Datasets openflights\n",
    "https://openflights.org/data.html\n",
    "\n",
    "### Unique IDs :\n",
    "\n",
    "Airports : Airport_ID\n",
    "\n",
    "Airlines : Airline_ID\n",
    "\n",
    "Planes : Name  "
   ]
  },
  {
   "cell_type": "code",
   "execution_count": 1,
   "metadata": {},
   "outputs": [],
   "source": [
    "import numpy as np\n",
    "import pandas as pd\n",
    "import os #Concatenate path for file"
   ]
  },
  {
   "cell_type": "code",
   "execution_count": 2,
   "metadata": {},
   "outputs": [],
   "source": [
    "# Load the data\n",
    "def load_dataset(filename, sep=','):\n",
    "    dirpath = \"./data\"\n",
    "    filepath = os.path.join(dirpath, filename)\n",
    "    with open(filepath, 'r', encoding='utf8') as file:\n",
    "        raw_data = pd.read_csv(file, sep, header=None)\n",
    "    return raw_data"
   ]
  },
  {
   "cell_type": "code",
   "execution_count": 3,
   "metadata": {},
   "outputs": [],
   "source": [
    "# Load data\n",
    "airports_raw = load_dataset('openflight/airports.dat')\n",
    "airlines_raw = load_dataset('openflight/airlines.dat')\n",
    "planes_raw = load_dataset('openflight/planes.dat')\n",
    "routes_raw = load_dataset('openflight/routes.dat')\n",
    "# Name the columns\n",
    "airports_raw.columns = ['Airport_ID', 'Name', 'City', 'Country', 'IATA', 'ICAO', 'Latitude', 'Longitude', 'Altitude', 'Timezone', 'DST', 'Tz_database', 'Type', 'Source']\n",
    "airlines_raw.columns = ['Airline_ID', 'Name', 'Alias', 'IATA', 'ICAO', 'Callsign', 'Country','Active']\n",
    "planes_raw.columns   = ['Name', 'IATA', 'ICAO']\n",
    "routes_raw.columns   = ['Airline', 'Airline_ID', 'src_airport', 'src_airport_ID', 'dest_airport', 'dest_airport_ID', 'Codeshare', 'Stops', 'Equipment']"
   ]
  },
  {
   "cell_type": "code",
   "execution_count": 4,
   "metadata": {},
   "outputs": [],
   "source": [
    "def remove_backslash_n(dataset):\n",
    "    return dataset.replace('\\\\N', np.nan)\n"
   ]
  },
  {
   "cell_type": "code",
   "execution_count": 91,
   "metadata": {},
   "outputs": [],
   "source": [
    "def clean_airlines(airlines_data_raw):\n",
    "    airlines = airlines_data_raw.drop(airlines_data_raw[airlines_data_raw.Airline_ID == -1].index).reset_index()\n",
    "    airlines = remove_backslash_n(airlines)\n",
    "    airlines[airlines.Airline_ID == 1] = airlines[airlines.Airline_ID == 1].replace('-', np.nan)\n",
    "    return airlines"
   ]
  },
  {
   "cell_type": "code",
   "execution_count": 92,
   "metadata": {},
   "outputs": [],
   "source": [
    "# Cleaned dataset\n",
    "airports  = remove_backslash_n(airports_raw)\n",
    "airlines  = clean_airlines(airlines_raw)\n",
    "planes    = remove_backslash_n(planes_raw)\n",
    "routes    = remove_backslash_n(routes_raw)"
   ]
  }
 ],
 "metadata": {
  "kernelspec": {
   "display_name": "Python 3",
   "language": "python",
   "name": "python3"
  },
  "language_info": {
   "codemirror_mode": {
    "name": "ipython",
    "version": 3
   },
   "file_extension": ".py",
   "mimetype": "text/x-python",
   "name": "python",
   "nbconvert_exporter": "python",
   "pygments_lexer": "ipython3",
   "version": "3.7.4"
  }
 },
 "nbformat": 4,
 "nbformat_minor": 4
}
