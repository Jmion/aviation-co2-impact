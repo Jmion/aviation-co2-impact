{
 "cells": [
  {
   "cell_type": "markdown",
   "metadata": {},
   "source": [
    "# Datasets openflights\n",
    "https://openflights.org/data.html\n",
    "\n",
    "### Unique IDs :\n",
    "\n",
    "Airports : Airport_ID\n",
    "\n",
    "Airlines : Airline_ID\n",
    "\n",
    "Planes : Name  "
   ]
  },
  {
   "cell_type": "code",
   "execution_count": 3,
   "metadata": {},
   "outputs": [],
   "source": [
    "import numpy as np\n",
    "import pandas as pd\n",
    "import os #Concatenate path for file"
   ]
  },
  {
   "cell_type": "code",
   "execution_count": 9,
   "metadata": {},
   "outputs": [],
   "source": [
    "# Load the data\n",
    "def load_dataset(filename, sep=','):\n",
    "    dirpath = os.path.join(\".\",\"data\", \"openflight\")\n",
    "    filepath = os.path.join(dirpath, filename)\n",
    "    raw_data = pd.read_csv(filepath, sep, header=None, encoding='utf-8')\n",
    "    return raw_data"
   ]
  },
  {
   "cell_type": "code",
   "execution_count": 10,
   "metadata": {},
   "outputs": [],
   "source": [
    "# Load data\n",
    "airports_raw = load_dataset('airports.dat.xz')\n",
    "airlines_raw = load_dataset('airlines.dat.xz')\n",
    "planes_raw = load_dataset('planes.dat.xz')\n",
    "routes_raw = load_dataset('routes.dat.xz')\n",
    "# Name the columns\n",
    "airports_raw.columns = ['Airport_ID', 'Name', 'City', 'Country', 'IATA', 'ICAO', 'Latitude', 'Longitude', 'Altitude', 'Timezone', 'DST', 'Tz_database', 'Type', 'Source']\n",
    "airlines_raw.columns = ['Airline_ID', 'Name', 'Alias', 'IATA', 'ICAO', 'Callsign', 'Country','Active']\n",
    "planes_raw.columns   = ['Name', 'IATA', 'ICAO']\n",
    "routes_raw.columns   = ['Airline', 'Airline_ID', 'src_airport', 'src_airport_ID', 'dest_airport', 'dest_airport_ID', 'Codeshare', 'Stops', 'Equipment']"
   ]
  },
  {
   "cell_type": "code",
   "execution_count": 6,
   "metadata": {},
   "outputs": [],
   "source": [
    "def remove_backslash_n(dataset):\n",
    "    return dataset.replace('\\\\N', np.nan)\n"
   ]
  },
  {
   "cell_type": "code",
   "execution_count": 7,
   "metadata": {},
   "outputs": [],
   "source": [
    "def clean_airlines(airlines_data_raw):\n",
    "    airlines = airlines_data_raw.drop(airlines_data_raw[airlines_data_raw.Airline_ID == -1].index).reset_index()\n",
    "    airlines = remove_backslash_n(airlines)\n",
    "    airlines[airlines.Airline_ID == 1] = airlines[airlines.Airline_ID == 1].replace('-', np.nan)\n",
    "    return airlines"
   ]
  },
  {
   "cell_type": "code",
   "execution_count": 8,
   "metadata": {},
   "outputs": [],
   "source": [
    "# Cleaned dataset\n",
    "airports  = remove_backslash_n(airports_raw)\n",
    "airlines  = clean_airlines(airlines_raw)\n",
    "planes    = remove_backslash_n(planes_raw)\n",
    "routes    = remove_backslash_n(routes_raw)"
   ]
  },
  {
   "cell_type": "code",
   "execution_count": null,
   "metadata": {},
   "outputs": [],
   "source": []
  }
 ],
 "metadata": {
  "kernelspec": {
   "display_name": "Python 3",
   "language": "python",
   "name": "python3"
  },
  "language_info": {
   "codemirror_mode": {
    "name": "ipython",
    "version": 3
   },
   "file_extension": ".py",
   "mimetype": "text/x-python",
   "name": "python",
   "nbconvert_exporter": "python",
   "pygments_lexer": "ipython3",
   "version": "3.7.3"
  }
 },
 "nbformat": 4,
 "nbformat_minor": 4
}
