{
 "cells": [
  {
   "cell_type": "code",
   "execution_count": 10,
   "metadata": {},
   "outputs": [],
   "source": [
    "from wikipedia_parsing import CO2_ratio\n",
    "from wikipedia_parsing import commuter as commuter_aircraft\n",
    "from wikipedia_parsing import long_haul as long_haul_aircraft\n",
    "from wikipedia_parsing import medium_haul as medium_haul_aircraft\n",
    "from wikipedia_parsing import regional as regional_airfraft\n",
    "from wikipedia_parsing import short_haul as short_haul_aircraft\n",
    "\n",
    "import open_flight_exploratory\n",
    "import pandas as pd"
   ]
  },
  {
   "cell_type": "markdown",
   "metadata": {},
   "source": [
    "# Aviation and global carbon emissions\n",
    "Our data was imported and cleaned in 2 helper function that take car of parsing the data and cleaning it. This reduces these long processes to a single import. This will allow use to focus on the analysis of our data in this notebook without being distracted with the fetching and cleaning of the data."
   ]
  },
  {
   "cell_type": "markdown",
   "metadata": {},
   "source": [
    "# Carbon emission by class of plane\n",
    "\n",
    "To start our analysis of what role does the aviation industry play in the global carbon emissions let's look at what type of jet's tends to polute the most. The aircraft data parsed from the wikipedia pages will be used to analyse that type of jets tend to pollute the most."
   ]
  },
  {
   "cell_type": "markdown",
   "metadata": {},
   "source": [
    "Note that wikipedia only gave us the fuel burn in kg/km, and L/100km per seat. To get how much one passenger pollutes we need to convert the liters of fuel (jet A-1 keroseen) to: $$\\frac{\\textit{kg of CO}_2}{100 \\text{ km}}$$\n",
    "\n",
    "According to https://authors.library.caltech.edu/25832/1/galcit_fm99-4.pdf jet fuel is mostly composed of Nonae $C_9H_{20}$. We will assume for the sake of simplicity that jet fuel is composed of a 100% Nonane. We will also make the assumption that aircraft fuel cumbustion is hapening under conditions where the fuel will undergo total combustion. Luckily we remember of chemistry course from high school.\n",
    "\n",
    "$$C_9H_{20} + 14 O_2 \\rightarrow 9CO_2 + 10 H_2O $$\n",
    "\n",
    "\n",
    "| Element | Molar mass (g) |\n",
    "|:-------:|:----------:|\n",
    "|    C    |   12.011   |\n",
    "|    H    |    1.008   |\n",
    "|    O    |   15.999   |\n",
    "\n",
    "Using the mass of each element from the table above we can calculate the molar mass of $C_9H_{20}$ and $CO_2$.\n",
    "\n",
    "|   Molecule  | Molar mass (g) |\n",
    "|:-----------:|:----------:|\n",
    "| $C_9H_{20}$ |   128.259  |\n",
    "|    $CO_2$   |    43.99   |\n",
    "\n",
    "From the stoichiometric equation of the complete combustion of one mole of $C_9H_{20}$ we know that nine moles of $CO_2$ will be produced. \n",
    "\n",
    "One mole of Nonane will produce:\n",
    "$$128.259 \\, g \\,C_9H_{20}= 9* 43.99 \\, g \\, CO_2$$\n",
    "$$128.259 \\, g \\,C_9H_{20}=395.91 \\, g \\, CO_2$$\n",
    "$$1 \\, g \\,C_9H_{20}=3.087 \\, g \\, CO_2$$\n",
    "\n",
    "According to wikipedia the density of $C_9H_{20}$ is $0.718 \\frac{\\text{g}}{\\text{ml}}$"
   ]
  },
  {
   "cell_type": "code",
   "execution_count": 4,
   "metadata": {},
   "outputs": [
    {
     "data": {
      "text/plain": [
       "Fuel burn kg/km          2.717619\n",
       "Fuel per seat L/100km    3.351667\n",
       "CO2 kg/km                8.979013\n",
       "dtype: float64"
      ]
     },
     "execution_count": 4,
     "metadata": {},
     "output_type": "execute_result"
    }
   ],
   "source": [
    "regional_airfraft.mean()"
   ]
  },
  {
   "cell_type": "code",
   "execution_count": 5,
   "metadata": {},
   "outputs": [
    {
     "data": {
      "text/plain": [
       "Fuel burn kg/km          2.013333\n",
       "Fuel per seat L/100km    4.683333\n",
       "CO2 kg/km                6.652053\n",
       "dtype: float64"
      ]
     },
     "execution_count": 5,
     "metadata": {},
     "output_type": "execute_result"
    }
   ],
   "source": [
    "commuter_aircraft.mean()"
   ]
  },
  {
   "cell_type": "code",
   "execution_count": 6,
   "metadata": {},
   "outputs": [
    {
     "data": {
      "text/plain": [
       "Fuel burn kg/km           3.108000\n",
       "Fuel per seat L/100km     2.687200\n",
       "CO2 kg/km                10.268832\n",
       "dtype: float64"
      ]
     },
     "execution_count": 6,
     "metadata": {},
     "output_type": "execute_result"
    }
   ],
   "source": [
    "short_haul_aircraft.mean()"
   ]
  },
  {
   "cell_type": "code",
   "execution_count": 7,
   "metadata": {},
   "outputs": [
    {
     "data": {
      "text/plain": [
       "Fuel burn kg/km           5.582222\n",
       "Fuel per seat L/100km     2.743704\n",
       "CO2 kg/km                18.443662\n",
       "dtype: float64"
      ]
     },
     "execution_count": 7,
     "metadata": {},
     "output_type": "execute_result"
    }
   ],
   "source": [
    "medium_haul_aircraft.mean()"
   ]
  },
  {
   "cell_type": "code",
   "execution_count": 8,
   "metadata": {},
   "outputs": [
    {
     "data": {
      "text/plain": [
       "Fuel burn kg/km           8.138095\n",
       "Fuel per seat L/100km     2.958095\n",
       "CO2 kg/km                26.888267\n",
       "dtype: float64"
      ]
     },
     "execution_count": 8,
     "metadata": {},
     "output_type": "execute_result"
    }
   ],
   "source": [
    "long_haul_aircraft.mean()"
   ]
  },
  {
   "cell_type": "code",
   "execution_count": 11,
   "metadata": {},
   "outputs": [],
   "source": [
    "all_aircraft = pd.concat([commuter_aircraft, regional_airfraft, short_haul_aircraft, medium_haul_aircraft, long_haul_aircraft])"
   ]
  },
  {
   "cell_type": "code",
   "execution_count": 12,
   "metadata": {},
   "outputs": [
    {
     "data": {
      "text/plain": [
       "Fuel burn kg/km           4.133083\n",
       "Fuel per seat L/100km     3.221429\n",
       "CO2 kg/km                13.655705\n",
       "dtype: float64"
      ]
     },
     "execution_count": 12,
     "metadata": {},
     "output_type": "execute_result"
    }
   ],
   "source": [
    "all_aircraft.mean()"
   ]
  },
  {
   "cell_type": "code",
   "execution_count": null,
   "metadata": {},
   "outputs": [],
   "source": []
  }
 ],
 "metadata": {
  "kernelspec": {
   "display_name": "Python 3",
   "language": "python",
   "name": "python3"
  },
  "language_info": {
   "codemirror_mode": {
    "name": "ipython",
    "version": 3
   },
   "file_extension": ".py",
   "mimetype": "text/x-python",
   "name": "python",
   "nbconvert_exporter": "python",
   "pygments_lexer": "ipython3",
   "version": "3.6.9"
  }
 },
 "nbformat": 4,
 "nbformat_minor": 4
}
