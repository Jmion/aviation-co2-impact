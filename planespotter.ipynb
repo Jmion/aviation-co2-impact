{
 "cells": [
  {
   "cell_type": "code",
   "execution_count": 35,
   "metadata": {},
   "outputs": [],
   "source": [
    "import pandas as pd\n",
    "import os\n",
    "from all_aircrafts import all_aircrafts\n",
    "import matplotlib.pyplot as plt\n",
    "import seaborn as sns\n",
    "import numpy as np"
   ]
  },
  {
   "cell_type": "code",
   "execution_count": 36,
   "metadata": {},
   "outputs": [],
   "source": [
    "import folium\n",
    "from geopy.geocoders import Nominatim\n",
    "from folium.plugins import MarkerCluster\n",
    "\n",
    "import plotly.express as px\n",
    "import plotly.figure_factory as ff"
   ]
  },
  {
   "cell_type": "markdown",
   "metadata": {},
   "source": [
    "## Planespotter data\n",
    "\n",
    "After analysing the task at hand of identifying if some airlines are better to fly with than other we decided that we needed to get our hands on the fleets of each airline. To do that we contacted planespotter.net"
   ]
  },
  {
   "cell_type": "code",
   "execution_count": 37,
   "metadata": {},
   "outputs": [],
   "source": [
    "path = os.path.join(\".\", \"data\", \"planespotter\", \"2019-11-12 prodlist.xlsx\")\n",
    "planespotter_aircrafts = pd.read_excel(path)"
   ]
  },
  {
   "cell_type": "code",
   "execution_count": 38,
   "metadata": {
    "scrolled": true
   },
   "outputs": [
    {
     "data": {
      "text/html": [
       "<div>\n",
       "<style scoped>\n",
       "    .dataframe tbody tr th:only-of-type {\n",
       "        vertical-align: middle;\n",
       "    }\n",
       "\n",
       "    .dataframe tbody tr th {\n",
       "        vertical-align: top;\n",
       "    }\n",
       "\n",
       "    .dataframe thead th {\n",
       "        text-align: right;\n",
       "    }\n",
       "</style>\n",
       "<table border=\"1\" class=\"dataframe\">\n",
       "  <thead>\n",
       "    <tr style=\"text-align: right;\">\n",
       "      <th></th>\n",
       "      <th>Aircraft Manufacturer</th>\n",
       "      <th>Aircraft Type</th>\n",
       "      <th>Operator</th>\n",
       "      <th>Operator ID</th>\n",
       "      <th>Operator Category</th>\n",
       "      <th>Operator Country</th>\n",
       "      <th>Operator Parent/Group</th>\n",
       "      <th>Parent/Group ID</th>\n",
       "      <th>Parent/Group Country</th>\n",
       "      <th>First Operator</th>\n",
       "      <th>...</th>\n",
       "      <th>Build Country</th>\n",
       "      <th>First Customer Delivery Date</th>\n",
       "      <th>Delivery Date Operator</th>\n",
       "      <th>Exit Date Operator</th>\n",
       "      <th>Nr. of Engines</th>\n",
       "      <th>Engine Manufacturer</th>\n",
       "      <th>Engine Type</th>\n",
       "      <th>Config (Pax/Combi/Cargo/Other)</th>\n",
       "      <th>Seat Total</th>\n",
       "      <th>Age (Years)</th>\n",
       "    </tr>\n",
       "  </thead>\n",
       "  <tbody>\n",
       "    <tr>\n",
       "      <th>0</th>\n",
       "      <td>Airbus</td>\n",
       "      <td>Airbus A300B1</td>\n",
       "      <td>Airbus Industrie</td>\n",
       "      <td>1336</td>\n",
       "      <td>Manufacturer</td>\n",
       "      <td>France</td>\n",
       "      <td>NaN</td>\n",
       "      <td>NaN</td>\n",
       "      <td>NaN</td>\n",
       "      <td>NaN</td>\n",
       "      <td>...</td>\n",
       "      <td>France</td>\n",
       "      <td>NaN</td>\n",
       "      <td>1972-01-01</td>\n",
       "      <td>NaN</td>\n",
       "      <td>2</td>\n",
       "      <td>General Electric</td>\n",
       "      <td>CF6-50</td>\n",
       "      <td>Other</td>\n",
       "      <td>0</td>\n",
       "      <td>1.7</td>\n",
       "    </tr>\n",
       "    <tr>\n",
       "      <th>1</th>\n",
       "      <td>Airbus</td>\n",
       "      <td>Airbus A300B1</td>\n",
       "      <td>TEA - Trans European Airlines</td>\n",
       "      <td>294</td>\n",
       "      <td>Airline</td>\n",
       "      <td>Belgium</td>\n",
       "      <td>NaN</td>\n",
       "      <td>NaN</td>\n",
       "      <td>NaN</td>\n",
       "      <td>TEA - Trans European Airlines</td>\n",
       "      <td>...</td>\n",
       "      <td>France</td>\n",
       "      <td>1974-11-01</td>\n",
       "      <td>1974-11-01</td>\n",
       "      <td>NaN</td>\n",
       "      <td>2</td>\n",
       "      <td>General Electric</td>\n",
       "      <td>CF6-50</td>\n",
       "      <td>NaN</td>\n",
       "      <td>0</td>\n",
       "      <td>30.4</td>\n",
       "    </tr>\n",
       "    <tr>\n",
       "      <th>2</th>\n",
       "      <td>Airbus</td>\n",
       "      <td>Airbus A300B2</td>\n",
       "      <td>SA Novespace</td>\n",
       "      <td>7216</td>\n",
       "      <td>Other</td>\n",
       "      <td>France</td>\n",
       "      <td>NaN</td>\n",
       "      <td>NaN</td>\n",
       "      <td>NaN</td>\n",
       "      <td>SA Novespace</td>\n",
       "      <td>...</td>\n",
       "      <td>France</td>\n",
       "      <td>2005-01-01</td>\n",
       "      <td>2005-01-01</td>\n",
       "      <td>NaN</td>\n",
       "      <td>2</td>\n",
       "      <td>General Electric</td>\n",
       "      <td>CF6-50</td>\n",
       "      <td>NaN</td>\n",
       "      <td>0</td>\n",
       "      <td>46.4</td>\n",
       "    </tr>\n",
       "    <tr>\n",
       "      <th>3</th>\n",
       "      <td>Airbus</td>\n",
       "      <td>Airbus A300B2</td>\n",
       "      <td>Air Inter</td>\n",
       "      <td>1309</td>\n",
       "      <td>Airline</td>\n",
       "      <td>France</td>\n",
       "      <td>NaN</td>\n",
       "      <td>NaN</td>\n",
       "      <td>NaN</td>\n",
       "      <td>Air Inter</td>\n",
       "      <td>...</td>\n",
       "      <td>France</td>\n",
       "      <td>1977-01-01</td>\n",
       "      <td>1977-01-01</td>\n",
       "      <td>NaN</td>\n",
       "      <td>2</td>\n",
       "      <td>General Electric</td>\n",
       "      <td>CF6-50</td>\n",
       "      <td>NaN</td>\n",
       "      <td>0</td>\n",
       "      <td>19.4</td>\n",
       "    </tr>\n",
       "    <tr>\n",
       "      <th>4</th>\n",
       "      <td>Airbus</td>\n",
       "      <td>Airbus A300B2</td>\n",
       "      <td>Air France</td>\n",
       "      <td>1306</td>\n",
       "      <td>Airline</td>\n",
       "      <td>France</td>\n",
       "      <td>Air France-KLM</td>\n",
       "      <td>11321.0</td>\n",
       "      <td>France</td>\n",
       "      <td>Air France</td>\n",
       "      <td>...</td>\n",
       "      <td>France</td>\n",
       "      <td>1974-05-01</td>\n",
       "      <td>1974-05-01</td>\n",
       "      <td>NaN</td>\n",
       "      <td>2</td>\n",
       "      <td>General Electric</td>\n",
       "      <td>CF6-50</td>\n",
       "      <td>NaN</td>\n",
       "      <td>0</td>\n",
       "      <td>23.1</td>\n",
       "    </tr>\n",
       "  </tbody>\n",
       "</table>\n",
       "<p>5 rows × 25 columns</p>\n",
       "</div>"
      ],
      "text/plain": [
       "  Aircraft Manufacturer  Aircraft Type                       Operator  \\\n",
       "0                Airbus  Airbus A300B1               Airbus Industrie   \n",
       "1                Airbus  Airbus A300B1  TEA - Trans European Airlines   \n",
       "2                Airbus  Airbus A300B2                   SA Novespace   \n",
       "3                Airbus  Airbus A300B2                      Air Inter   \n",
       "4                Airbus  Airbus A300B2                     Air France   \n",
       "\n",
       "   Operator ID Operator Category Operator Country Operator Parent/Group  \\\n",
       "0         1336      Manufacturer           France                   NaN   \n",
       "1          294           Airline          Belgium                   NaN   \n",
       "2         7216             Other           France                   NaN   \n",
       "3         1309           Airline           France                   NaN   \n",
       "4         1306           Airline           France        Air France-KLM   \n",
       "\n",
       "   Parent/Group ID Parent/Group Country                 First Operator  ...  \\\n",
       "0              NaN                  NaN                            NaN  ...   \n",
       "1              NaN                  NaN  TEA - Trans European Airlines  ...   \n",
       "2              NaN                  NaN                   SA Novespace  ...   \n",
       "3              NaN                  NaN                      Air Inter  ...   \n",
       "4          11321.0               France                     Air France  ...   \n",
       "\n",
       "   Build Country First Customer Delivery Date Delivery Date Operator  \\\n",
       "0         France                          NaN             1972-01-01   \n",
       "1         France                   1974-11-01             1974-11-01   \n",
       "2         France                   2005-01-01             2005-01-01   \n",
       "3         France                   1977-01-01             1977-01-01   \n",
       "4         France                   1974-05-01             1974-05-01   \n",
       "\n",
       "  Exit Date Operator Nr. of Engines Engine Manufacturer Engine Type  \\\n",
       "0                NaN              2    General Electric      CF6-50   \n",
       "1                NaN              2    General Electric      CF6-50   \n",
       "2                NaN              2    General Electric      CF6-50   \n",
       "3                NaN              2    General Electric      CF6-50   \n",
       "4                NaN              2    General Electric      CF6-50   \n",
       "\n",
       "  Config (Pax/Combi/Cargo/Other) Seat Total  Age (Years)  \n",
       "0                          Other          0          1.7  \n",
       "1                            NaN          0         30.4  \n",
       "2                            NaN          0         46.4  \n",
       "3                            NaN          0         19.4  \n",
       "4                            NaN          0         23.1  \n",
       "\n",
       "[5 rows x 25 columns]"
      ]
     },
     "execution_count": 38,
     "metadata": {},
     "output_type": "execute_result"
    }
   ],
   "source": [
    "planespotter_aircrafts.head()"
   ]
  },
  {
   "cell_type": "code",
   "execution_count": 39,
   "metadata": {},
   "outputs": [
    {
     "data": {
      "text/html": [
       "<div>\n",
       "<style scoped>\n",
       "    .dataframe tbody tr th:only-of-type {\n",
       "        vertical-align: middle;\n",
       "    }\n",
       "\n",
       "    .dataframe tbody tr th {\n",
       "        vertical-align: top;\n",
       "    }\n",
       "\n",
       "    .dataframe thead th {\n",
       "        text-align: right;\n",
       "    }\n",
       "</style>\n",
       "<table border=\"1\" class=\"dataframe\">\n",
       "  <thead>\n",
       "    <tr style=\"text-align: right;\">\n",
       "      <th></th>\n",
       "      <th>Planespotter name</th>\n",
       "      <th>Wiki name</th>\n",
       "    </tr>\n",
       "  </thead>\n",
       "  <tbody>\n",
       "    <tr>\n",
       "      <th>0</th>\n",
       "      <td>ATR 42</td>\n",
       "      <td>ATR 42</td>\n",
       "    </tr>\n",
       "    <tr>\n",
       "      <th>1</th>\n",
       "      <td>ATR 72</td>\n",
       "      <td>ATR 72</td>\n",
       "    </tr>\n",
       "    <tr>\n",
       "      <th>2</th>\n",
       "      <td>Airbus A220-100</td>\n",
       "      <td>Airbus A220-100</td>\n",
       "    </tr>\n",
       "    <tr>\n",
       "      <th>3</th>\n",
       "      <td>Airbus A220-300</td>\n",
       "      <td>Airbus A220-300</td>\n",
       "    </tr>\n",
       "    <tr>\n",
       "      <th>4</th>\n",
       "      <td>Airbus A300-600</td>\n",
       "      <td>Airbus A300-600</td>\n",
       "    </tr>\n",
       "  </tbody>\n",
       "</table>\n",
       "</div>"
      ],
      "text/plain": [
       "  Planespotter name        Wiki name\n",
       "0            ATR 42           ATR 42\n",
       "1            ATR 72           ATR 72\n",
       "2   Airbus A220-100  Airbus A220-100\n",
       "3   Airbus A220-300  Airbus A220-300\n",
       "4   Airbus A300-600  Airbus A300-600"
      ]
     },
     "execution_count": 39,
     "metadata": {},
     "output_type": "execute_result"
    }
   ],
   "source": [
    "planespotter_aircrafts_dictionnary = planespotter_aircrafts.groupby(\"Aircraft Type\").count()\n",
    "planespotter_aircrafts_dictionnary = planespotter_aircrafts_dictionnary.reset_index()\n",
    "planespotter_aircrafts_dictionnary[\"Wiki name\"] = planespotter_aircrafts_dictionnary[\"Aircraft Type\"]\n",
    "planespotter_aircrafts_dictionnary = planespotter_aircrafts_dictionnary[[\"Aircraft Type\", \"Wiki name\"]]\n",
    "planespotter_aircrafts_dictionnary = planespotter_aircrafts_dictionnary.rename(columns={\"Aircraft Type\": \"Planespotter name\"})\n",
    "planespotter_aircrafts_dictionnary.head()"
   ]
  },
  {
   "cell_type": "code",
   "execution_count": 40,
   "metadata": {},
   "outputs": [
    {
     "data": {
      "text/html": [
       "<div>\n",
       "<style scoped>\n",
       "    .dataframe tbody tr th:only-of-type {\n",
       "        vertical-align: middle;\n",
       "    }\n",
       "\n",
       "    .dataframe tbody tr th {\n",
       "        vertical-align: top;\n",
       "    }\n",
       "\n",
       "    .dataframe thead th {\n",
       "        text-align: right;\n",
       "    }\n",
       "</style>\n",
       "<table border=\"1\" class=\"dataframe\">\n",
       "  <thead>\n",
       "    <tr style=\"text-align: right;\">\n",
       "      <th></th>\n",
       "      <th>Model</th>\n",
       "      <th>Seats</th>\n",
       "      <th>First flight</th>\n",
       "      <th>Fuel burn kg/km</th>\n",
       "      <th>Fuel per seat L/100km</th>\n",
       "      <th>Sector km</th>\n",
       "      <th>CO2 per seat kg/100km</th>\n",
       "      <th>CO2 kg/km</th>\n",
       "      <th>Aircraft type</th>\n",
       "    </tr>\n",
       "  </thead>\n",
       "  <tbody>\n",
       "    <tr>\n",
       "      <th>0</th>\n",
       "      <td>Antonov An-148 (241 nmi)</td>\n",
       "      <td>89</td>\n",
       "      <td>2004</td>\n",
       "      <td>4.23</td>\n",
       "      <td>5.95</td>\n",
       "      <td>560.0</td>\n",
       "      <td>13.187973</td>\n",
       "      <td>13.05378</td>\n",
       "      <td>commuter_aircraft</td>\n",
       "    </tr>\n",
       "    <tr>\n",
       "      <th>1</th>\n",
       "      <td>Antonov An-158 (241 nmi)</td>\n",
       "      <td>99</td>\n",
       "      <td>2010</td>\n",
       "      <td>4.34</td>\n",
       "      <td>5.47</td>\n",
       "      <td>560.0</td>\n",
       "      <td>12.124069</td>\n",
       "      <td>13.39324</td>\n",
       "      <td>commuter_aircraft</td>\n",
       "    </tr>\n",
       "    <tr>\n",
       "      <th>2</th>\n",
       "      <td>ATR 42-500</td>\n",
       "      <td>48</td>\n",
       "      <td>1995</td>\n",
       "      <td>1.26</td>\n",
       "      <td>3.15</td>\n",
       "      <td>560.0</td>\n",
       "      <td>6.981868</td>\n",
       "      <td>3.88836</td>\n",
       "      <td>commuter_aircraft</td>\n",
       "    </tr>\n",
       "    <tr>\n",
       "      <th>3</th>\n",
       "      <td>ATR 72-500</td>\n",
       "      <td>70</td>\n",
       "      <td>1997</td>\n",
       "      <td>1.42</td>\n",
       "      <td>2.53</td>\n",
       "      <td>560.0</td>\n",
       "      <td>5.607659</td>\n",
       "      <td>4.38212</td>\n",
       "      <td>commuter_aircraft</td>\n",
       "    </tr>\n",
       "    <tr>\n",
       "      <th>4</th>\n",
       "      <td>Beechcraft 1900D (226 nm)</td>\n",
       "      <td>19</td>\n",
       "      <td>1982</td>\n",
       "      <td>1.00</td>\n",
       "      <td>6.57</td>\n",
       "      <td>560.0</td>\n",
       "      <td>14.562182</td>\n",
       "      <td>3.08600</td>\n",
       "      <td>commuter_aircraft</td>\n",
       "    </tr>\n",
       "    <tr>\n",
       "      <th>...</th>\n",
       "      <td>...</td>\n",
       "      <td>...</td>\n",
       "      <td>...</td>\n",
       "      <td>...</td>\n",
       "      <td>...</td>\n",
       "      <td>...</td>\n",
       "      <td>...</td>\n",
       "      <td>...</td>\n",
       "      <td>...</td>\n",
       "    </tr>\n",
       "    <tr>\n",
       "      <th>128</th>\n",
       "      <td>Boeing 777-9X</td>\n",
       "      <td>395</td>\n",
       "      <td>2020</td>\n",
       "      <td>9.04</td>\n",
       "      <td>2.85</td>\n",
       "      <td>13300.0</td>\n",
       "      <td>6.316928</td>\n",
       "      <td>27.89744</td>\n",
       "      <td>long_haul_aircraft</td>\n",
       "    </tr>\n",
       "    <tr>\n",
       "      <th>129</th>\n",
       "      <td>Boeing 787-8</td>\n",
       "      <td>243</td>\n",
       "      <td>2011</td>\n",
       "      <td>5.38</td>\n",
       "      <td>2.77</td>\n",
       "      <td>8610.0</td>\n",
       "      <td>6.139611</td>\n",
       "      <td>16.60268</td>\n",
       "      <td>long_haul_aircraft</td>\n",
       "    </tr>\n",
       "    <tr>\n",
       "      <th>130</th>\n",
       "      <td>Boeing 787-9</td>\n",
       "      <td>294</td>\n",
       "      <td>2013</td>\n",
       "      <td>5.85</td>\n",
       "      <td>2.49</td>\n",
       "      <td>8610.0</td>\n",
       "      <td>5.519000</td>\n",
       "      <td>18.05310</td>\n",
       "      <td>long_haul_aircraft</td>\n",
       "    </tr>\n",
       "    <tr>\n",
       "      <th>131</th>\n",
       "      <td>Boeing 787-9</td>\n",
       "      <td>304</td>\n",
       "      <td>2013</td>\n",
       "      <td>5.63</td>\n",
       "      <td>2.31</td>\n",
       "      <td>9208.0</td>\n",
       "      <td>5.120036</td>\n",
       "      <td>17.37418</td>\n",
       "      <td>long_haul_aircraft</td>\n",
       "    </tr>\n",
       "    <tr>\n",
       "      <th>132</th>\n",
       "      <td>Boeing 787-9</td>\n",
       "      <td>291</td>\n",
       "      <td>2013</td>\n",
       "      <td>7.18</td>\n",
       "      <td>3.08</td>\n",
       "      <td>12116.0</td>\n",
       "      <td>6.826715</td>\n",
       "      <td>22.15748</td>\n",
       "      <td>long_haul_aircraft</td>\n",
       "    </tr>\n",
       "  </tbody>\n",
       "</table>\n",
       "<p>133 rows × 9 columns</p>\n",
       "</div>"
      ],
      "text/plain": [
       "                         Model  Seats  First flight  Fuel burn kg/km  \\\n",
       "0     Antonov An-148 (241 nmi)     89          2004             4.23   \n",
       "1     Antonov An-158 (241 nmi)     99          2010             4.34   \n",
       "2                   ATR 42-500     48          1995             1.26   \n",
       "3                   ATR 72-500     70          1997             1.42   \n",
       "4    Beechcraft 1900D (226 nm)     19          1982             1.00   \n",
       "..                         ...    ...           ...              ...   \n",
       "128              Boeing 777-9X    395          2020             9.04   \n",
       "129               Boeing 787-8    243          2011             5.38   \n",
       "130               Boeing 787-9    294          2013             5.85   \n",
       "131               Boeing 787-9    304          2013             5.63   \n",
       "132               Boeing 787-9    291          2013             7.18   \n",
       "\n",
       "     Fuel per seat L/100km  Sector km  CO2 per seat kg/100km  CO2 kg/km  \\\n",
       "0                     5.95      560.0              13.187973   13.05378   \n",
       "1                     5.47      560.0              12.124069   13.39324   \n",
       "2                     3.15      560.0               6.981868    3.88836   \n",
       "3                     2.53      560.0               5.607659    4.38212   \n",
       "4                     6.57      560.0              14.562182    3.08600   \n",
       "..                     ...        ...                    ...        ...   \n",
       "128                   2.85    13300.0               6.316928   27.89744   \n",
       "129                   2.77     8610.0               6.139611   16.60268   \n",
       "130                   2.49     8610.0               5.519000   18.05310   \n",
       "131                   2.31     9208.0               5.120036   17.37418   \n",
       "132                   3.08    12116.0               6.826715   22.15748   \n",
       "\n",
       "          Aircraft type  \n",
       "0     commuter_aircraft  \n",
       "1     commuter_aircraft  \n",
       "2     commuter_aircraft  \n",
       "3     commuter_aircraft  \n",
       "4     commuter_aircraft  \n",
       "..                  ...  \n",
       "128  long_haul_aircraft  \n",
       "129  long_haul_aircraft  \n",
       "130  long_haul_aircraft  \n",
       "131  long_haul_aircraft  \n",
       "132  long_haul_aircraft  \n",
       "\n",
       "[133 rows x 9 columns]"
      ]
     },
     "execution_count": 40,
     "metadata": {},
     "output_type": "execute_result"
    }
   ],
   "source": [
    "all_aircrafts = all_aircrafts.reset_index()\n",
    "all_aircrafts = all_aircrafts.drop('index', axis=1)\n",
    "all_aircrafts"
   ]
  },
  {
   "cell_type": "markdown",
   "metadata": {},
   "source": [
    "# Export data"
   ]
  },
  {
   "cell_type": "code",
   "execution_count": 41,
   "metadata": {},
   "outputs": [],
   "source": [
    "wiki_aircrafts_names = all_aircrafts.Model.unique()\n",
    "wiki_aircrafts_names.sort()\n",
    "path = os.path.join(\".\", \"data\", \"wikipedia\", \"wiki_aircrafts_names.csv\")\n",
    "pd.Series(wiki_aircrafts_names).to_csv(path, header=True)"
   ]
  },
  {
   "cell_type": "code",
   "execution_count": 42,
   "metadata": {},
   "outputs": [],
   "source": [
    "path = os.path.join(\".\", \"data\", \"planespotter\", \"planespotter_aircratfs_dictionnary.csv\")\n",
    "planespotter_aircrafts_dictionnary.to_csv(path)"
   ]
  },
  {
   "cell_type": "markdown",
   "metadata": {},
   "source": [
    "We will now nanualy go and create the dataset that matches planespotters aicraft model names to the names of the wikipedia aircrafts. It is not worth automating this step since the dataset that we need to produce is not that large. Doing it by hand also allows use to ensure that there is no mistakes in the pairing."
   ]
  },
  {
   "cell_type": "markdown",
   "metadata": {},
   "source": [
    "# Import data once manually updated"
   ]
  },
  {
   "cell_type": "code",
   "execution_count": 43,
   "metadata": {},
   "outputs": [],
   "source": [
    "path = os.path.join(\".\", \"data\", \"planespotter\", \"planespotter_aircratfs_dictionnary_corrected.csv\")\n",
    "planespotter_aircrafts_dictionnary_corrected = pd.read_csv(path)"
   ]
  },
  {
   "cell_type": "markdown",
   "metadata": {},
   "source": [
    "We had to make the dataset that links the planespottes naming ot the wikipedia names manually."
   ]
  },
  {
   "cell_type": "markdown",
   "metadata": {},
   "source": [
    "# Merge all_aircrafts and the dictionnary"
   ]
  },
  {
   "cell_type": "code",
   "execution_count": 44,
   "metadata": {},
   "outputs": [
    {
     "data": {
      "text/html": [
       "<div>\n",
       "<style scoped>\n",
       "    .dataframe tbody tr th:only-of-type {\n",
       "        vertical-align: middle;\n",
       "    }\n",
       "\n",
       "    .dataframe tbody tr th {\n",
       "        vertical-align: top;\n",
       "    }\n",
       "\n",
       "    .dataframe thead th {\n",
       "        text-align: right;\n",
       "    }\n",
       "</style>\n",
       "<table border=\"1\" class=\"dataframe\">\n",
       "  <thead>\n",
       "    <tr style=\"text-align: right;\">\n",
       "      <th></th>\n",
       "      <th>Seats</th>\n",
       "      <th>First flight</th>\n",
       "      <th>Fuel burn kg/km</th>\n",
       "      <th>Fuel per seat L/100km</th>\n",
       "      <th>Sector km</th>\n",
       "      <th>CO2 per seat kg/100km</th>\n",
       "      <th>CO2 kg/km</th>\n",
       "      <th>Aircraft type</th>\n",
       "    </tr>\n",
       "    <tr>\n",
       "      <th>Model</th>\n",
       "      <th></th>\n",
       "      <th></th>\n",
       "      <th></th>\n",
       "      <th></th>\n",
       "      <th></th>\n",
       "      <th></th>\n",
       "      <th></th>\n",
       "      <th></th>\n",
       "    </tr>\n",
       "  </thead>\n",
       "  <tbody>\n",
       "    <tr>\n",
       "      <th>Antonov An-148 (241 nmi)</th>\n",
       "      <td>89</td>\n",
       "      <td>2004</td>\n",
       "      <td>4.23</td>\n",
       "      <td>5.95</td>\n",
       "      <td>560.0</td>\n",
       "      <td>13.187973</td>\n",
       "      <td>13.05378</td>\n",
       "      <td>commuter_aircraft</td>\n",
       "    </tr>\n",
       "    <tr>\n",
       "      <th>Antonov An-158 (241 nmi)</th>\n",
       "      <td>99</td>\n",
       "      <td>2010</td>\n",
       "      <td>4.34</td>\n",
       "      <td>5.47</td>\n",
       "      <td>560.0</td>\n",
       "      <td>12.124069</td>\n",
       "      <td>13.39324</td>\n",
       "      <td>commuter_aircraft</td>\n",
       "    </tr>\n",
       "    <tr>\n",
       "      <th>ATR 42-500</th>\n",
       "      <td>48</td>\n",
       "      <td>1995</td>\n",
       "      <td>1.26</td>\n",
       "      <td>3.15</td>\n",
       "      <td>560.0</td>\n",
       "      <td>6.981868</td>\n",
       "      <td>3.88836</td>\n",
       "      <td>commuter_aircraft</td>\n",
       "    </tr>\n",
       "    <tr>\n",
       "      <th>ATR 72-500</th>\n",
       "      <td>70</td>\n",
       "      <td>1997</td>\n",
       "      <td>1.42</td>\n",
       "      <td>2.53</td>\n",
       "      <td>560.0</td>\n",
       "      <td>5.607659</td>\n",
       "      <td>4.38212</td>\n",
       "      <td>commuter_aircraft</td>\n",
       "    </tr>\n",
       "    <tr>\n",
       "      <th>Beechcraft 1900D (226 nm)</th>\n",
       "      <td>19</td>\n",
       "      <td>1982</td>\n",
       "      <td>1.00</td>\n",
       "      <td>6.57</td>\n",
       "      <td>560.0</td>\n",
       "      <td>14.562182</td>\n",
       "      <td>3.08600</td>\n",
       "      <td>commuter_aircraft</td>\n",
       "    </tr>\n",
       "  </tbody>\n",
       "</table>\n",
       "</div>"
      ],
      "text/plain": [
       "                           Seats  First flight  Fuel burn kg/km  \\\n",
       "Model                                                             \n",
       "Antonov An-148 (241 nmi)      89          2004             4.23   \n",
       "Antonov An-158 (241 nmi)      99          2010             4.34   \n",
       "ATR 42-500                    48          1995             1.26   \n",
       "ATR 72-500                    70          1997             1.42   \n",
       "Beechcraft 1900D (226 nm)     19          1982             1.00   \n",
       "\n",
       "                           Fuel per seat L/100km  Sector km  \\\n",
       "Model                                                         \n",
       "Antonov An-148 (241 nmi)                    5.95      560.0   \n",
       "Antonov An-158 (241 nmi)                    5.47      560.0   \n",
       "ATR 42-500                                  3.15      560.0   \n",
       "ATR 72-500                                  2.53      560.0   \n",
       "Beechcraft 1900D (226 nm)                   6.57      560.0   \n",
       "\n",
       "                           CO2 per seat kg/100km  CO2 kg/km      Aircraft type  \n",
       "Model                                                                           \n",
       "Antonov An-148 (241 nmi)               13.187973   13.05378  commuter_aircraft  \n",
       "Antonov An-158 (241 nmi)               12.124069   13.39324  commuter_aircraft  \n",
       "ATR 42-500                              6.981868    3.88836  commuter_aircraft  \n",
       "ATR 72-500                              5.607659    4.38212  commuter_aircraft  \n",
       "Beechcraft 1900D (226 nm)              14.562182    3.08600  commuter_aircraft  "
      ]
     },
     "execution_count": 44,
     "metadata": {},
     "output_type": "execute_result"
    }
   ],
   "source": [
    "all_aircrafts = all_aircrafts.set_index('Model')\n",
    "all_aircrafts.head()"
   ]
  },
  {
   "cell_type": "code",
   "execution_count": 45,
   "metadata": {},
   "outputs": [
    {
     "data": {
      "text/html": [
       "<div>\n",
       "<style scoped>\n",
       "    .dataframe tbody tr th:only-of-type {\n",
       "        vertical-align: middle;\n",
       "    }\n",
       "\n",
       "    .dataframe tbody tr th {\n",
       "        vertical-align: top;\n",
       "    }\n",
       "\n",
       "    .dataframe thead th {\n",
       "        text-align: right;\n",
       "    }\n",
       "</style>\n",
       "<table border=\"1\" class=\"dataframe\">\n",
       "  <thead>\n",
       "    <tr style=\"text-align: right;\">\n",
       "      <th></th>\n",
       "      <th>Planespotter name</th>\n",
       "    </tr>\n",
       "    <tr>\n",
       "      <th>Model</th>\n",
       "      <th></th>\n",
       "    </tr>\n",
       "  </thead>\n",
       "  <tbody>\n",
       "    <tr>\n",
       "      <th>ATR 42-500</th>\n",
       "      <td>ATR 42</td>\n",
       "    </tr>\n",
       "    <tr>\n",
       "      <th>ATR 72-500</th>\n",
       "      <td>ATR 72</td>\n",
       "    </tr>\n",
       "    <tr>\n",
       "      <th>Airbus A220-100</th>\n",
       "      <td>Airbus A220-100</td>\n",
       "    </tr>\n",
       "    <tr>\n",
       "      <th>Airbus A220 100</th>\n",
       "      <td>Airbus A220-100</td>\n",
       "    </tr>\n",
       "    <tr>\n",
       "      <th>Airbus A220-300</th>\n",
       "      <td>Airbus A220-300</td>\n",
       "    </tr>\n",
       "  </tbody>\n",
       "</table>\n",
       "</div>"
      ],
      "text/plain": [
       "                Planespotter name\n",
       "Model                            \n",
       "ATR 42-500                 ATR 42\n",
       "ATR 72-500                 ATR 72\n",
       "Airbus A220-100   Airbus A220-100\n",
       "Airbus A220 100   Airbus A220-100\n",
       "Airbus A220-300   Airbus A220-300"
      ]
     },
     "execution_count": 45,
     "metadata": {},
     "output_type": "execute_result"
    }
   ],
   "source": [
    "# Join planespotter_aircrafts_dictionnary_corrected and all_aircrafts\n",
    "planespotter_aircrafts_dictionnary_corrected = planespotter_aircrafts_dictionnary_corrected.rename(columns={'Wiki name':'Model'})[[\"Model\", \"Planespotter name\"]]\n",
    "planespotter_aircrafts_dictionnary_corrected = planespotter_aircrafts_dictionnary_corrected.set_index('Model')\n",
    "planespotter_aircrafts_dictionnary_corrected.head()"
   ]
  },
  {
   "cell_type": "markdown",
   "metadata": {},
   "source": [
    "Our Model collum which is an idex is actually our wikipedia name. It is simply named model to facilitate the join opperation with the planespotter dataset."
   ]
  },
  {
   "cell_type": "code",
   "execution_count": 46,
   "metadata": {},
   "outputs": [],
   "source": [
    "all_aircrafts_corrected = all_aircrafts.join(planespotter_aircrafts_dictionnary_corrected, how = 'inner')"
   ]
  },
  {
   "cell_type": "code",
   "execution_count": 47,
   "metadata": {},
   "outputs": [],
   "source": [
    "all_aircrafts_corrected = all_aircrafts_corrected.reset_index().drop(['Model'], axis=1).rename(columns={\"Planespotter name\": \"Model\"}).set_index(\"Model\")"
   ]
  },
  {
   "cell_type": "code",
   "execution_count": 48,
   "metadata": {},
   "outputs": [
    {
     "data": {
      "text/html": [
       "<div>\n",
       "<style scoped>\n",
       "    .dataframe tbody tr th:only-of-type {\n",
       "        vertical-align: middle;\n",
       "    }\n",
       "\n",
       "    .dataframe tbody tr th {\n",
       "        vertical-align: top;\n",
       "    }\n",
       "\n",
       "    .dataframe thead th {\n",
       "        text-align: right;\n",
       "    }\n",
       "</style>\n",
       "<table border=\"1\" class=\"dataframe\">\n",
       "  <thead>\n",
       "    <tr style=\"text-align: right;\">\n",
       "      <th></th>\n",
       "      <th>Seats</th>\n",
       "      <th>First flight</th>\n",
       "      <th>Fuel burn kg/km</th>\n",
       "      <th>Fuel per seat L/100km</th>\n",
       "      <th>Sector km</th>\n",
       "      <th>CO2 per seat kg/100km</th>\n",
       "      <th>CO2 kg/km</th>\n",
       "      <th>Aircraft type</th>\n",
       "    </tr>\n",
       "    <tr>\n",
       "      <th>Model</th>\n",
       "      <th></th>\n",
       "      <th></th>\n",
       "      <th></th>\n",
       "      <th></th>\n",
       "      <th></th>\n",
       "      <th></th>\n",
       "      <th></th>\n",
       "      <th></th>\n",
       "    </tr>\n",
       "  </thead>\n",
       "  <tbody>\n",
       "    <tr>\n",
       "      <th>ATR 42</th>\n",
       "      <td>48</td>\n",
       "      <td>1995</td>\n",
       "      <td>1.26</td>\n",
       "      <td>3.15</td>\n",
       "      <td>560.0</td>\n",
       "      <td>6.981868</td>\n",
       "      <td>3.88836</td>\n",
       "      <td>commuter_aircraft</td>\n",
       "    </tr>\n",
       "    <tr>\n",
       "      <th>ATR 72</th>\n",
       "      <td>70</td>\n",
       "      <td>1997</td>\n",
       "      <td>1.42</td>\n",
       "      <td>2.53</td>\n",
       "      <td>560.0</td>\n",
       "      <td>5.607659</td>\n",
       "      <td>4.38212</td>\n",
       "      <td>commuter_aircraft</td>\n",
       "    </tr>\n",
       "    <tr>\n",
       "      <th>Airbus A220-100</th>\n",
       "      <td>115</td>\n",
       "      <td>2013</td>\n",
       "      <td>2.80</td>\n",
       "      <td>3.07</td>\n",
       "      <td>1100.0</td>\n",
       "      <td>6.804551</td>\n",
       "      <td>8.64080</td>\n",
       "      <td>regional_aircraft</td>\n",
       "    </tr>\n",
       "    <tr>\n",
       "      <th>Airbus A220-300</th>\n",
       "      <td>140</td>\n",
       "      <td>2015</td>\n",
       "      <td>3.10</td>\n",
       "      <td>2.75</td>\n",
       "      <td>1100.0</td>\n",
       "      <td>6.095282</td>\n",
       "      <td>9.56660</td>\n",
       "      <td>regional_aircraft</td>\n",
       "    </tr>\n",
       "    <tr>\n",
       "      <th>Airbus A220-100</th>\n",
       "      <td>125</td>\n",
       "      <td>2013</td>\n",
       "      <td>2.57</td>\n",
       "      <td>2.57</td>\n",
       "      <td>930.0</td>\n",
       "      <td>5.696318</td>\n",
       "      <td>7.93102</td>\n",
       "      <td>regional_aircraft</td>\n",
       "    </tr>\n",
       "  </tbody>\n",
       "</table>\n",
       "</div>"
      ],
      "text/plain": [
       "                 Seats  First flight  Fuel burn kg/km  Fuel per seat L/100km  \\\n",
       "Model                                                                          \n",
       "ATR 42              48          1995             1.26                   3.15   \n",
       "ATR 72              70          1997             1.42                   2.53   \n",
       "Airbus A220-100    115          2013             2.80                   3.07   \n",
       "Airbus A220-300    140          2015             3.10                   2.75   \n",
       "Airbus A220-100    125          2013             2.57                   2.57   \n",
       "\n",
       "                 Sector km  CO2 per seat kg/100km  CO2 kg/km  \\\n",
       "Model                                                          \n",
       "ATR 42               560.0               6.981868    3.88836   \n",
       "ATR 72               560.0               5.607659    4.38212   \n",
       "Airbus A220-100     1100.0               6.804551    8.64080   \n",
       "Airbus A220-300     1100.0               6.095282    9.56660   \n",
       "Airbus A220-100      930.0               5.696318    7.93102   \n",
       "\n",
       "                     Aircraft type  \n",
       "Model                               \n",
       "ATR 42           commuter_aircraft  \n",
       "ATR 72           commuter_aircraft  \n",
       "Airbus A220-100  regional_aircraft  \n",
       "Airbus A220-300  regional_aircraft  \n",
       "Airbus A220-100  regional_aircraft  "
      ]
     },
     "execution_count": 48,
     "metadata": {},
     "output_type": "execute_result"
    }
   ],
   "source": [
    "all_aircrafts_corrected.head()"
   ]
  },
  {
   "cell_type": "code",
   "execution_count": 49,
   "metadata": {},
   "outputs": [
    {
     "data": {
      "text/plain": [
       "False"
      ]
     },
     "execution_count": 49,
     "metadata": {},
     "output_type": "execute_result"
    }
   ],
   "source": [
    "all_aircrafts_corrected.index.is_unique"
   ]
  },
  {
   "cell_type": "markdown",
   "metadata": {},
   "source": [
    "Ohh dear, we do not have unique aircraft model names. This is bothersome. Let's fix this issue by averaging the data that we have. This should give use a good estimate of the fuel comsumption and co2 production without having to inspect all the details. As we can see above the issue is that aircrafts of the same model can be equiped with different number of seats. This means that the overal mass of the aircraft is slightly different which explains the slight difference in fuel burn / km observed."
   ]
  },
  {
   "cell_type": "code",
   "execution_count": 50,
   "metadata": {},
   "outputs": [
    {
     "data": {
      "text/html": [
       "<div>\n",
       "<style scoped>\n",
       "    .dataframe tbody tr th:only-of-type {\n",
       "        vertical-align: middle;\n",
       "    }\n",
       "\n",
       "    .dataframe tbody tr th {\n",
       "        vertical-align: top;\n",
       "    }\n",
       "\n",
       "    .dataframe thead th {\n",
       "        text-align: right;\n",
       "    }\n",
       "</style>\n",
       "<table border=\"1\" class=\"dataframe\">\n",
       "  <thead>\n",
       "    <tr style=\"text-align: right;\">\n",
       "      <th></th>\n",
       "      <th>Seats</th>\n",
       "      <th>First flight</th>\n",
       "      <th>Fuel burn kg/km</th>\n",
       "      <th>Fuel per seat L/100km</th>\n",
       "      <th>Sector km</th>\n",
       "      <th>CO2 per seat kg/100km</th>\n",
       "      <th>CO2 kg/km</th>\n",
       "    </tr>\n",
       "    <tr>\n",
       "      <th>Model</th>\n",
       "      <th></th>\n",
       "      <th></th>\n",
       "      <th></th>\n",
       "      <th></th>\n",
       "      <th></th>\n",
       "      <th></th>\n",
       "      <th></th>\n",
       "    </tr>\n",
       "  </thead>\n",
       "  <tbody>\n",
       "    <tr>\n",
       "      <th>ATR 42</th>\n",
       "      <td>48.000000</td>\n",
       "      <td>1995.0</td>\n",
       "      <td>1.2600</td>\n",
       "      <td>3.1500</td>\n",
       "      <td>560.0</td>\n",
       "      <td>6.981868</td>\n",
       "      <td>3.888360</td>\n",
       "    </tr>\n",
       "    <tr>\n",
       "      <th>ATR 72</th>\n",
       "      <td>70.000000</td>\n",
       "      <td>1997.0</td>\n",
       "      <td>1.4200</td>\n",
       "      <td>2.5300</td>\n",
       "      <td>560.0</td>\n",
       "      <td>5.607659</td>\n",
       "      <td>4.382120</td>\n",
       "    </tr>\n",
       "    <tr>\n",
       "      <th>Airbus A220-100</th>\n",
       "      <td>121.666667</td>\n",
       "      <td>2013.0</td>\n",
       "      <td>2.5500</td>\n",
       "      <td>2.6400</td>\n",
       "      <td>1310.0</td>\n",
       "      <td>5.851470</td>\n",
       "      <td>7.869300</td>\n",
       "    </tr>\n",
       "    <tr>\n",
       "      <th>Airbus A220-300</th>\n",
       "      <td>148.750000</td>\n",
       "      <td>2015.0</td>\n",
       "      <td>2.7025</td>\n",
       "      <td>2.2075</td>\n",
       "      <td>1457.5</td>\n",
       "      <td>4.892849</td>\n",
       "      <td>8.339915</td>\n",
       "    </tr>\n",
       "    <tr>\n",
       "      <th>Airbus A318-100</th>\n",
       "      <td>124.000000</td>\n",
       "      <td>1995.0</td>\n",
       "      <td>2.9300</td>\n",
       "      <td>2.9500</td>\n",
       "      <td>1900.0</td>\n",
       "      <td>6.538575</td>\n",
       "      <td>9.041980</td>\n",
       "    </tr>\n",
       "  </tbody>\n",
       "</table>\n",
       "</div>"
      ],
      "text/plain": [
       "                      Seats  First flight  Fuel burn kg/km  \\\n",
       "Model                                                        \n",
       "ATR 42            48.000000        1995.0           1.2600   \n",
       "ATR 72            70.000000        1997.0           1.4200   \n",
       "Airbus A220-100  121.666667        2013.0           2.5500   \n",
       "Airbus A220-300  148.750000        2015.0           2.7025   \n",
       "Airbus A318-100  124.000000        1995.0           2.9300   \n",
       "\n",
       "                 Fuel per seat L/100km  Sector km  CO2 per seat kg/100km  \\\n",
       "Model                                                                      \n",
       "ATR 42                          3.1500      560.0               6.981868   \n",
       "ATR 72                          2.5300      560.0               5.607659   \n",
       "Airbus A220-100                 2.6400     1310.0               5.851470   \n",
       "Airbus A220-300                 2.2075     1457.5               4.892849   \n",
       "Airbus A318-100                 2.9500     1900.0               6.538575   \n",
       "\n",
       "                 CO2 kg/km  \n",
       "Model                       \n",
       "ATR 42            3.888360  \n",
       "ATR 72            4.382120  \n",
       "Airbus A220-100   7.869300  \n",
       "Airbus A220-300   8.339915  \n",
       "Airbus A318-100   9.041980  "
      ]
     },
     "execution_count": 50,
     "metadata": {},
     "output_type": "execute_result"
    }
   ],
   "source": [
    "all_aircrafts_corrected = all_aircrafts_corrected.reset_index().groupby(\"Model\").mean()\n",
    "all_aircrafts_corrected.head()"
   ]
  },
  {
   "cell_type": "code",
   "execution_count": 51,
   "metadata": {},
   "outputs": [
    {
     "data": {
      "text/plain": [
       "True"
      ]
     },
     "execution_count": 51,
     "metadata": {},
     "output_type": "execute_result"
    }
   ],
   "source": [
    "all_aircrafts_corrected.index.is_unique"
   ]
  },
  {
   "cell_type": "markdown",
   "metadata": {},
   "source": [
    "Problem fixed!"
   ]
  },
  {
   "cell_type": "code",
   "execution_count": 52,
   "metadata": {},
   "outputs": [
    {
     "data": {
      "text/html": [
       "<div>\n",
       "<style scoped>\n",
       "    .dataframe tbody tr th:only-of-type {\n",
       "        vertical-align: middle;\n",
       "    }\n",
       "\n",
       "    .dataframe tbody tr th {\n",
       "        vertical-align: top;\n",
       "    }\n",
       "\n",
       "    .dataframe thead th {\n",
       "        text-align: right;\n",
       "    }\n",
       "</style>\n",
       "<table border=\"1\" class=\"dataframe\">\n",
       "  <thead>\n",
       "    <tr style=\"text-align: right;\">\n",
       "      <th></th>\n",
       "      <th>Aircraft Manufacturer</th>\n",
       "      <th>Operator</th>\n",
       "      <th>Operator ID</th>\n",
       "      <th>Operator Category</th>\n",
       "      <th>Operator Country</th>\n",
       "      <th>Operator Parent/Group</th>\n",
       "      <th>Parent/Group ID</th>\n",
       "      <th>Parent/Group Country</th>\n",
       "      <th>First Operator</th>\n",
       "      <th>First Operator ID</th>\n",
       "      <th>...</th>\n",
       "      <th>Build Country</th>\n",
       "      <th>First Customer Delivery Date</th>\n",
       "      <th>Delivery Date Operator</th>\n",
       "      <th>Exit Date Operator</th>\n",
       "      <th>Nr. of Engines</th>\n",
       "      <th>Engine Manufacturer</th>\n",
       "      <th>Engine Type</th>\n",
       "      <th>Config (Pax/Combi/Cargo/Other)</th>\n",
       "      <th>Seat Total</th>\n",
       "      <th>Age (Years)</th>\n",
       "    </tr>\n",
       "    <tr>\n",
       "      <th>Model</th>\n",
       "      <th></th>\n",
       "      <th></th>\n",
       "      <th></th>\n",
       "      <th></th>\n",
       "      <th></th>\n",
       "      <th></th>\n",
       "      <th></th>\n",
       "      <th></th>\n",
       "      <th></th>\n",
       "      <th></th>\n",
       "      <th></th>\n",
       "      <th></th>\n",
       "      <th></th>\n",
       "      <th></th>\n",
       "      <th></th>\n",
       "      <th></th>\n",
       "      <th></th>\n",
       "      <th></th>\n",
       "      <th></th>\n",
       "      <th></th>\n",
       "      <th></th>\n",
       "    </tr>\n",
       "  </thead>\n",
       "  <tbody>\n",
       "    <tr>\n",
       "      <th>Airbus A300B1</th>\n",
       "      <td>Airbus</td>\n",
       "      <td>Airbus Industrie</td>\n",
       "      <td>1336</td>\n",
       "      <td>Manufacturer</td>\n",
       "      <td>France</td>\n",
       "      <td>NaN</td>\n",
       "      <td>NaN</td>\n",
       "      <td>NaN</td>\n",
       "      <td>NaN</td>\n",
       "      <td>NaN</td>\n",
       "      <td>...</td>\n",
       "      <td>France</td>\n",
       "      <td>NaN</td>\n",
       "      <td>1972-01-01</td>\n",
       "      <td>NaN</td>\n",
       "      <td>2</td>\n",
       "      <td>General Electric</td>\n",
       "      <td>CF6-50</td>\n",
       "      <td>Other</td>\n",
       "      <td>0</td>\n",
       "      <td>1.7</td>\n",
       "    </tr>\n",
       "    <tr>\n",
       "      <th>Airbus A300B1</th>\n",
       "      <td>Airbus</td>\n",
       "      <td>TEA - Trans European Airlines</td>\n",
       "      <td>294</td>\n",
       "      <td>Airline</td>\n",
       "      <td>Belgium</td>\n",
       "      <td>NaN</td>\n",
       "      <td>NaN</td>\n",
       "      <td>NaN</td>\n",
       "      <td>TEA - Trans European Airlines</td>\n",
       "      <td>294.0</td>\n",
       "      <td>...</td>\n",
       "      <td>France</td>\n",
       "      <td>1974-11-01</td>\n",
       "      <td>1974-11-01</td>\n",
       "      <td>NaN</td>\n",
       "      <td>2</td>\n",
       "      <td>General Electric</td>\n",
       "      <td>CF6-50</td>\n",
       "      <td>NaN</td>\n",
       "      <td>0</td>\n",
       "      <td>30.4</td>\n",
       "    </tr>\n",
       "    <tr>\n",
       "      <th>Airbus A300B2</th>\n",
       "      <td>Airbus</td>\n",
       "      <td>SA Novespace</td>\n",
       "      <td>7216</td>\n",
       "      <td>Other</td>\n",
       "      <td>France</td>\n",
       "      <td>NaN</td>\n",
       "      <td>NaN</td>\n",
       "      <td>NaN</td>\n",
       "      <td>SA Novespace</td>\n",
       "      <td>7216.0</td>\n",
       "      <td>...</td>\n",
       "      <td>France</td>\n",
       "      <td>2005-01-01</td>\n",
       "      <td>2005-01-01</td>\n",
       "      <td>NaN</td>\n",
       "      <td>2</td>\n",
       "      <td>General Electric</td>\n",
       "      <td>CF6-50</td>\n",
       "      <td>NaN</td>\n",
       "      <td>0</td>\n",
       "      <td>46.4</td>\n",
       "    </tr>\n",
       "    <tr>\n",
       "      <th>Airbus A300B2</th>\n",
       "      <td>Airbus</td>\n",
       "      <td>Air Inter</td>\n",
       "      <td>1309</td>\n",
       "      <td>Airline</td>\n",
       "      <td>France</td>\n",
       "      <td>NaN</td>\n",
       "      <td>NaN</td>\n",
       "      <td>NaN</td>\n",
       "      <td>Air Inter</td>\n",
       "      <td>1309.0</td>\n",
       "      <td>...</td>\n",
       "      <td>France</td>\n",
       "      <td>1977-01-01</td>\n",
       "      <td>1977-01-01</td>\n",
       "      <td>NaN</td>\n",
       "      <td>2</td>\n",
       "      <td>General Electric</td>\n",
       "      <td>CF6-50</td>\n",
       "      <td>NaN</td>\n",
       "      <td>0</td>\n",
       "      <td>19.4</td>\n",
       "    </tr>\n",
       "    <tr>\n",
       "      <th>Airbus A300B2</th>\n",
       "      <td>Airbus</td>\n",
       "      <td>Air France</td>\n",
       "      <td>1306</td>\n",
       "      <td>Airline</td>\n",
       "      <td>France</td>\n",
       "      <td>Air France-KLM</td>\n",
       "      <td>11321.0</td>\n",
       "      <td>France</td>\n",
       "      <td>Air France</td>\n",
       "      <td>1306.0</td>\n",
       "      <td>...</td>\n",
       "      <td>France</td>\n",
       "      <td>1974-05-01</td>\n",
       "      <td>1974-05-01</td>\n",
       "      <td>NaN</td>\n",
       "      <td>2</td>\n",
       "      <td>General Electric</td>\n",
       "      <td>CF6-50</td>\n",
       "      <td>NaN</td>\n",
       "      <td>0</td>\n",
       "      <td>23.1</td>\n",
       "    </tr>\n",
       "  </tbody>\n",
       "</table>\n",
       "<p>5 rows × 24 columns</p>\n",
       "</div>"
      ],
      "text/plain": [
       "              Aircraft Manufacturer                       Operator  \\\n",
       "Model                                                                \n",
       "Airbus A300B1                Airbus               Airbus Industrie   \n",
       "Airbus A300B1                Airbus  TEA - Trans European Airlines   \n",
       "Airbus A300B2                Airbus                   SA Novespace   \n",
       "Airbus A300B2                Airbus                      Air Inter   \n",
       "Airbus A300B2                Airbus                     Air France   \n",
       "\n",
       "               Operator ID Operator Category Operator Country  \\\n",
       "Model                                                           \n",
       "Airbus A300B1         1336      Manufacturer           France   \n",
       "Airbus A300B1          294           Airline          Belgium   \n",
       "Airbus A300B2         7216             Other           France   \n",
       "Airbus A300B2         1309           Airline           France   \n",
       "Airbus A300B2         1306           Airline           France   \n",
       "\n",
       "              Operator Parent/Group  Parent/Group ID Parent/Group Country  \\\n",
       "Model                                                                       \n",
       "Airbus A300B1                   NaN              NaN                  NaN   \n",
       "Airbus A300B1                   NaN              NaN                  NaN   \n",
       "Airbus A300B2                   NaN              NaN                  NaN   \n",
       "Airbus A300B2                   NaN              NaN                  NaN   \n",
       "Airbus A300B2        Air France-KLM          11321.0               France   \n",
       "\n",
       "                              First Operator  First Operator ID  ...  \\\n",
       "Model                                                            ...   \n",
       "Airbus A300B1                            NaN                NaN  ...   \n",
       "Airbus A300B1  TEA - Trans European Airlines              294.0  ...   \n",
       "Airbus A300B2                   SA Novespace             7216.0  ...   \n",
       "Airbus A300B2                      Air Inter             1309.0  ...   \n",
       "Airbus A300B2                     Air France             1306.0  ...   \n",
       "\n",
       "              Build Country First Customer Delivery Date  \\\n",
       "Model                                                      \n",
       "Airbus A300B1        France                          NaN   \n",
       "Airbus A300B1        France                   1974-11-01   \n",
       "Airbus A300B2        France                   2005-01-01   \n",
       "Airbus A300B2        France                   1977-01-01   \n",
       "Airbus A300B2        France                   1974-05-01   \n",
       "\n",
       "              Delivery Date Operator Exit Date Operator Nr. of Engines  \\\n",
       "Model                                                                    \n",
       "Airbus A300B1             1972-01-01                NaN              2   \n",
       "Airbus A300B1             1974-11-01                NaN              2   \n",
       "Airbus A300B2             2005-01-01                NaN              2   \n",
       "Airbus A300B2             1977-01-01                NaN              2   \n",
       "Airbus A300B2             1974-05-01                NaN              2   \n",
       "\n",
       "              Engine Manufacturer Engine Type Config (Pax/Combi/Cargo/Other)  \\\n",
       "Model                                                                          \n",
       "Airbus A300B1    General Electric      CF6-50                          Other   \n",
       "Airbus A300B1    General Electric      CF6-50                            NaN   \n",
       "Airbus A300B2    General Electric      CF6-50                            NaN   \n",
       "Airbus A300B2    General Electric      CF6-50                            NaN   \n",
       "Airbus A300B2    General Electric      CF6-50                            NaN   \n",
       "\n",
       "               Seat Total Age (Years)  \n",
       "Model                                  \n",
       "Airbus A300B1           0         1.7  \n",
       "Airbus A300B1           0        30.4  \n",
       "Airbus A300B2           0        46.4  \n",
       "Airbus A300B2           0        19.4  \n",
       "Airbus A300B2           0        23.1  \n",
       "\n",
       "[5 rows x 24 columns]"
      ]
     },
     "execution_count": 52,
     "metadata": {},
     "output_type": "execute_result"
    }
   ],
   "source": [
    "planespotter_aircrafts = planespotter_aircrafts.rename(columns={\"Aircraft Type\":\"Model\"}).reset_index().drop('index', axis = 1).set_index('Model')\n",
    "planespotter_aircrafts.head()"
   ]
  },
  {
   "cell_type": "code",
   "execution_count": 53,
   "metadata": {},
   "outputs": [],
   "source": [
    "aircrafts_airlines = all_aircrafts_corrected.join(planespotter_aircrafts, how = 'inner')"
   ]
  },
  {
   "cell_type": "code",
   "execution_count": 54,
   "metadata": {},
   "outputs": [
    {
     "data": {
      "text/plain": [
       "Index(['Seats', 'First flight', 'Fuel burn kg/km', 'Fuel per seat L/100km',\n",
       "       'Sector km', 'CO2 per seat kg/100km', 'CO2 kg/km',\n",
       "       'Aircraft Manufacturer', 'Operator', 'Operator ID', 'Operator Category',\n",
       "       'Operator Country', 'Operator Parent/Group', 'Parent/Group ID',\n",
       "       'Parent/Group Country', 'First Operator', 'First Operator ID',\n",
       "       'First Operator Category', 'First Operator Country', 'Status',\n",
       "       'Build Date', 'Build Country', 'First Customer Delivery Date',\n",
       "       'Delivery Date Operator', 'Exit Date Operator', 'Nr. of Engines',\n",
       "       'Engine Manufacturer', 'Engine Type', 'Config (Pax/Combi/Cargo/Other)',\n",
       "       'Seat Total', 'Age (Years)'],\n",
       "      dtype='object')"
      ]
     },
     "execution_count": 54,
     "metadata": {},
     "output_type": "execute_result"
    }
   ],
   "source": [
    "aircrafts_airlines.columns"
   ]
  },
  {
   "cell_type": "code",
   "execution_count": 55,
   "metadata": {},
   "outputs": [
    {
     "data": {
      "text/html": [
       "<div>\n",
       "<style scoped>\n",
       "    .dataframe tbody tr th:only-of-type {\n",
       "        vertical-align: middle;\n",
       "    }\n",
       "\n",
       "    .dataframe tbody tr th {\n",
       "        vertical-align: top;\n",
       "    }\n",
       "\n",
       "    .dataframe thead th {\n",
       "        text-align: right;\n",
       "    }\n",
       "</style>\n",
       "<table border=\"1\" class=\"dataframe\">\n",
       "  <thead>\n",
       "    <tr style=\"text-align: right;\">\n",
       "      <th></th>\n",
       "      <th>Seats</th>\n",
       "      <th>First flight</th>\n",
       "      <th>Fuel burn kg/km</th>\n",
       "      <th>Fuel per seat L/100km</th>\n",
       "      <th>Sector km</th>\n",
       "      <th>CO2 per seat kg/100km</th>\n",
       "      <th>CO2 kg/km</th>\n",
       "      <th>Operator ID</th>\n",
       "      <th>Parent/Group ID</th>\n",
       "      <th>First Operator ID</th>\n",
       "      <th>Nr. of Engines</th>\n",
       "      <th>Seat Total</th>\n",
       "      <th>Age (Years)</th>\n",
       "    </tr>\n",
       "    <tr>\n",
       "      <th>Operator</th>\n",
       "      <th></th>\n",
       "      <th></th>\n",
       "      <th></th>\n",
       "      <th></th>\n",
       "      <th></th>\n",
       "      <th></th>\n",
       "      <th></th>\n",
       "      <th></th>\n",
       "      <th></th>\n",
       "      <th></th>\n",
       "      <th></th>\n",
       "      <th></th>\n",
       "      <th></th>\n",
       "    </tr>\n",
       "  </thead>\n",
       "  <tbody>\n",
       "    <tr>\n",
       "      <th>'Ohana by Hawaiian</th>\n",
       "      <td>57.428571</td>\n",
       "      <td>1995.857143</td>\n",
       "      <td>1.328571</td>\n",
       "      <td>2.884286</td>\n",
       "      <td>560.000000</td>\n",
       "      <td>6.392921</td>\n",
       "      <td>4.099971</td>\n",
       "      <td>10163.0</td>\n",
       "      <td>NaN</td>\n",
       "      <td>1594.428571</td>\n",
       "      <td>2.000000</td>\n",
       "      <td>27.428571</td>\n",
       "      <td>20.814286</td>\n",
       "    </tr>\n",
       "    <tr>\n",
       "      <th>19th Hole</th>\n",
       "      <td>70.000000</td>\n",
       "      <td>1997.000000</td>\n",
       "      <td>1.420000</td>\n",
       "      <td>2.530000</td>\n",
       "      <td>560.000000</td>\n",
       "      <td>5.607659</td>\n",
       "      <td>4.382120</td>\n",
       "      <td>10259.0</td>\n",
       "      <td>NaN</td>\n",
       "      <td>1042.000000</td>\n",
       "      <td>2.000000</td>\n",
       "      <td>0.000000</td>\n",
       "      <td>22.000000</td>\n",
       "    </tr>\n",
       "    <tr>\n",
       "      <th>21 Air</th>\n",
       "      <td>199.333333</td>\n",
       "      <td>1984.000000</td>\n",
       "      <td>4.923333</td>\n",
       "      <td>3.113333</td>\n",
       "      <td>5833.333333</td>\n",
       "      <td>6.900597</td>\n",
       "      <td>15.193407</td>\n",
       "      <td>10467.0</td>\n",
       "      <td>NaN</td>\n",
       "      <td>380.000000</td>\n",
       "      <td>2.000000</td>\n",
       "      <td>0.000000</td>\n",
       "      <td>32.750000</td>\n",
       "    </tr>\n",
       "    <tr>\n",
       "      <th>2Excel Aviation</th>\n",
       "      <td>126.000000</td>\n",
       "      <td>1984.000000</td>\n",
       "      <td>3.490000</td>\n",
       "      <td>3.460000</td>\n",
       "      <td>939.000000</td>\n",
       "      <td>7.668972</td>\n",
       "      <td>10.770140</td>\n",
       "      <td>10108.0</td>\n",
       "      <td>NaN</td>\n",
       "      <td>2229.500000</td>\n",
       "      <td>2.000000</td>\n",
       "      <td>31.000000</td>\n",
       "      <td>27.550000</td>\n",
       "    </tr>\n",
       "    <tr>\n",
       "      <th>328 Support Services</th>\n",
       "      <td>31.500000</td>\n",
       "      <td>1991.000000</td>\n",
       "      <td>1.150000</td>\n",
       "      <td>4.555000</td>\n",
       "      <td>830.000000</td>\n",
       "      <td>10.096003</td>\n",
       "      <td>3.548900</td>\n",
       "      <td>9935.0</td>\n",
       "      <td>NaN</td>\n",
       "      <td>3889.250000</td>\n",
       "      <td>2.000000</td>\n",
       "      <td>7.750000</td>\n",
       "      <td>23.900000</td>\n",
       "    </tr>\n",
       "    <tr>\n",
       "      <th>...</th>\n",
       "      <td>...</td>\n",
       "      <td>...</td>\n",
       "      <td>...</td>\n",
       "      <td>...</td>\n",
       "      <td>...</td>\n",
       "      <td>...</td>\n",
       "      <td>...</td>\n",
       "      <td>...</td>\n",
       "      <td>...</td>\n",
       "      <td>...</td>\n",
       "      <td>...</td>\n",
       "      <td>...</td>\n",
       "      <td>...</td>\n",
       "    </tr>\n",
       "    <tr>\n",
       "      <th>flyadeal</th>\n",
       "      <td>150.000000</td>\n",
       "      <td>1987.000000</td>\n",
       "      <td>3.020000</td>\n",
       "      <td>2.520000</td>\n",
       "      <td>2942.000000</td>\n",
       "      <td>5.585494</td>\n",
       "      <td>9.319720</td>\n",
       "      <td>11044.0</td>\n",
       "      <td>NaN</td>\n",
       "      <td>11044.000000</td>\n",
       "      <td>2.000000</td>\n",
       "      <td>186.000000</td>\n",
       "      <td>1.627273</td>\n",
       "    </tr>\n",
       "    <tr>\n",
       "      <th>flydubai</th>\n",
       "      <td>162.579235</td>\n",
       "      <td>2002.573770</td>\n",
       "      <td>3.263060</td>\n",
       "      <td>2.502459</td>\n",
       "      <td>2012.349727</td>\n",
       "      <td>5.546615</td>\n",
       "      <td>10.069803</td>\n",
       "      <td>8579.0</td>\n",
       "      <td>NaN</td>\n",
       "      <td>8579.000000</td>\n",
       "      <td>2.000000</td>\n",
       "      <td>175.016393</td>\n",
       "      <td>4.336066</td>\n",
       "    </tr>\n",
       "    <tr>\n",
       "      <th>flynas</th>\n",
       "      <td>161.888889</td>\n",
       "      <td>1992.333333</td>\n",
       "      <td>3.435278</td>\n",
       "      <td>2.605833</td>\n",
       "      <td>2796.722222</td>\n",
       "      <td>5.775741</td>\n",
       "      <td>10.601267</td>\n",
       "      <td>10290.0</td>\n",
       "      <td>NaN</td>\n",
       "      <td>6354.638889</td>\n",
       "      <td>2.111111</td>\n",
       "      <td>121.000000</td>\n",
       "      <td>11.242857</td>\n",
       "    </tr>\n",
       "    <tr>\n",
       "      <th>go! (Mesa Airlines)</th>\n",
       "      <td>50.000000</td>\n",
       "      <td>1995.000000</td>\n",
       "      <td>1.990000</td>\n",
       "      <td>4.960000</td>\n",
       "      <td>815.000000</td>\n",
       "      <td>10.993671</td>\n",
       "      <td>6.141140</td>\n",
       "      <td>8751.0</td>\n",
       "      <td>NaN</td>\n",
       "      <td>5938.000000</td>\n",
       "      <td>2.000000</td>\n",
       "      <td>50.000000</td>\n",
       "      <td>11.300000</td>\n",
       "    </tr>\n",
       "    <tr>\n",
       "      <th>iXAir</th>\n",
       "      <td>37.000000</td>\n",
       "      <td>1998.000000</td>\n",
       "      <td>1.440000</td>\n",
       "      <td>4.860000</td>\n",
       "      <td>1104.000000</td>\n",
       "      <td>10.772025</td>\n",
       "      <td>4.443840</td>\n",
       "      <td>9416.0</td>\n",
       "      <td>NaN</td>\n",
       "      <td>9416.000000</td>\n",
       "      <td>2.000000</td>\n",
       "      <td>0.000000</td>\n",
       "      <td>17.000000</td>\n",
       "    </tr>\n",
       "  </tbody>\n",
       "</table>\n",
       "<p>1923 rows × 13 columns</p>\n",
       "</div>"
      ],
      "text/plain": [
       "                           Seats  First flight  Fuel burn kg/km  \\\n",
       "Operator                                                          \n",
       "'Ohana by Hawaiian     57.428571   1995.857143         1.328571   \n",
       "19th Hole              70.000000   1997.000000         1.420000   \n",
       "21 Air                199.333333   1984.000000         4.923333   \n",
       "2Excel Aviation       126.000000   1984.000000         3.490000   \n",
       "328 Support Services   31.500000   1991.000000         1.150000   \n",
       "...                          ...           ...              ...   \n",
       "flyadeal              150.000000   1987.000000         3.020000   \n",
       "flydubai              162.579235   2002.573770         3.263060   \n",
       "flynas                161.888889   1992.333333         3.435278   \n",
       "go! (Mesa Airlines)    50.000000   1995.000000         1.990000   \n",
       "iXAir                  37.000000   1998.000000         1.440000   \n",
       "\n",
       "                      Fuel per seat L/100km    Sector km  \\\n",
       "Operator                                                   \n",
       "'Ohana by Hawaiian                 2.884286   560.000000   \n",
       "19th Hole                          2.530000   560.000000   \n",
       "21 Air                             3.113333  5833.333333   \n",
       "2Excel Aviation                    3.460000   939.000000   \n",
       "328 Support Services               4.555000   830.000000   \n",
       "...                                     ...          ...   \n",
       "flyadeal                           2.520000  2942.000000   \n",
       "flydubai                           2.502459  2012.349727   \n",
       "flynas                             2.605833  2796.722222   \n",
       "go! (Mesa Airlines)                4.960000   815.000000   \n",
       "iXAir                              4.860000  1104.000000   \n",
       "\n",
       "                      CO2 per seat kg/100km  CO2 kg/km  Operator ID  \\\n",
       "Operator                                                              \n",
       "'Ohana by Hawaiian                 6.392921   4.099971      10163.0   \n",
       "19th Hole                          5.607659   4.382120      10259.0   \n",
       "21 Air                             6.900597  15.193407      10467.0   \n",
       "2Excel Aviation                    7.668972  10.770140      10108.0   \n",
       "328 Support Services              10.096003   3.548900       9935.0   \n",
       "...                                     ...        ...          ...   \n",
       "flyadeal                           5.585494   9.319720      11044.0   \n",
       "flydubai                           5.546615  10.069803       8579.0   \n",
       "flynas                             5.775741  10.601267      10290.0   \n",
       "go! (Mesa Airlines)               10.993671   6.141140       8751.0   \n",
       "iXAir                             10.772025   4.443840       9416.0   \n",
       "\n",
       "                      Parent/Group ID  First Operator ID  Nr. of Engines  \\\n",
       "Operator                                                                   \n",
       "'Ohana by Hawaiian                NaN        1594.428571        2.000000   \n",
       "19th Hole                         NaN        1042.000000        2.000000   \n",
       "21 Air                            NaN         380.000000        2.000000   \n",
       "2Excel Aviation                   NaN        2229.500000        2.000000   \n",
       "328 Support Services              NaN        3889.250000        2.000000   \n",
       "...                               ...                ...             ...   \n",
       "flyadeal                          NaN       11044.000000        2.000000   \n",
       "flydubai                          NaN        8579.000000        2.000000   \n",
       "flynas                            NaN        6354.638889        2.111111   \n",
       "go! (Mesa Airlines)               NaN        5938.000000        2.000000   \n",
       "iXAir                             NaN        9416.000000        2.000000   \n",
       "\n",
       "                      Seat Total  Age (Years)  \n",
       "Operator                                       \n",
       "'Ohana by Hawaiian     27.428571    20.814286  \n",
       "19th Hole               0.000000    22.000000  \n",
       "21 Air                  0.000000    32.750000  \n",
       "2Excel Aviation        31.000000    27.550000  \n",
       "328 Support Services    7.750000    23.900000  \n",
       "...                          ...          ...  \n",
       "flyadeal              186.000000     1.627273  \n",
       "flydubai              175.016393     4.336066  \n",
       "flynas                121.000000    11.242857  \n",
       "go! (Mesa Airlines)    50.000000    11.300000  \n",
       "iXAir                   0.000000    17.000000  \n",
       "\n",
       "[1923 rows x 13 columns]"
      ]
     },
     "execution_count": 55,
     "metadata": {},
     "output_type": "execute_result"
    }
   ],
   "source": [
    "aircrafts_airlines.groupby(\"Operator\").mean()"
   ]
  },
  {
   "cell_type": "code",
   "execution_count": 56,
   "metadata": {
    "scrolled": false
   },
   "outputs": [
    {
     "data": {
      "text/html": [
       "<div>\n",
       "<style scoped>\n",
       "    .dataframe tbody tr th:only-of-type {\n",
       "        vertical-align: middle;\n",
       "    }\n",
       "\n",
       "    .dataframe tbody tr th {\n",
       "        vertical-align: top;\n",
       "    }\n",
       "\n",
       "    .dataframe thead th {\n",
       "        text-align: right;\n",
       "    }\n",
       "</style>\n",
       "<table border=\"1\" class=\"dataframe\">\n",
       "  <thead>\n",
       "    <tr style=\"text-align: right;\">\n",
       "      <th></th>\n",
       "      <th>Number of planes</th>\n",
       "    </tr>\n",
       "    <tr>\n",
       "      <th>Aircraft Manufacturer</th>\n",
       "      <th></th>\n",
       "    </tr>\n",
       "  </thead>\n",
       "  <tbody>\n",
       "    <tr>\n",
       "      <th>ATR</th>\n",
       "      <td>17</td>\n",
       "    </tr>\n",
       "    <tr>\n",
       "      <th>Airbus</th>\n",
       "      <td>26</td>\n",
       "    </tr>\n",
       "    <tr>\n",
       "      <th>Boeing</th>\n",
       "      <td>49</td>\n",
       "    </tr>\n",
       "    <tr>\n",
       "      <th>Bombardier</th>\n",
       "      <td>23</td>\n",
       "    </tr>\n",
       "    <tr>\n",
       "      <th>Dornier</th>\n",
       "      <td>11</td>\n",
       "    </tr>\n",
       "    <tr>\n",
       "      <th>Embraer</th>\n",
       "      <td>23</td>\n",
       "    </tr>\n",
       "    <tr>\n",
       "      <th>Eurocopter</th>\n",
       "      <td>9</td>\n",
       "    </tr>\n",
       "    <tr>\n",
       "      <th>Lockheed Martin</th>\n",
       "      <td>1</td>\n",
       "    </tr>\n",
       "  </tbody>\n",
       "</table>\n",
       "</div>"
      ],
      "text/plain": [
       "                       Number of planes\n",
       "Aircraft Manufacturer                  \n",
       "ATR                                  17\n",
       "Airbus                               26\n",
       "Boeing                               49\n",
       "Bombardier                           23\n",
       "Dornier                              11\n",
       "Embraer                              23\n",
       "Eurocopter                            9\n",
       "Lockheed Martin                       1"
      ]
     },
     "execution_count": 56,
     "metadata": {},
     "output_type": "execute_result"
    }
   ],
   "source": [
    "(aircrafts_airlines[aircrafts_airlines[\"Operator Category\"] == \"Manufacturer\"])\\\n",
    "    .groupby([\"Aircraft Manufacturer\"])\\\n",
    "    .count()[[\"Seats\"]].rename(columns={\"Seats\": \"Number of planes\"})"
   ]
  },
  {
   "cell_type": "markdown",
   "metadata": {},
   "source": [
    "## Let's look at the largest airlines in the world"
   ]
  },
  {
   "cell_type": "code",
   "execution_count": 57,
   "metadata": {},
   "outputs": [
    {
     "data": {
      "text/plain": [
       "array(['Governmental', 'Airline', 'Private', 'Air Force', 'Manufacturer',\n",
       "       'Leasing Company', nan, 'Brand', 'Trustee', 'Other',\n",
       "       'Business Airline'], dtype=object)"
      ]
     },
     "execution_count": 57,
     "metadata": {},
     "output_type": "execute_result"
    }
   ],
   "source": [
    "aircrafts_airlines[\"Operator Category\"].unique()"
   ]
  },
  {
   "cell_type": "markdown",
   "metadata": {},
   "source": [
    "Ok we have a few different types of operator. We will focus on Airline."
   ]
  },
  {
   "cell_type": "markdown",
   "metadata": {},
   "source": [
    "We will consider a large airline to have at least 30 aircrafts"
   ]
  },
  {
   "cell_type": "code",
   "execution_count": 58,
   "metadata": {},
   "outputs": [
    {
     "data": {
      "text/plain": [
       "Index(['Seats', 'First flight', 'Fuel burn kg/km', 'Fuel per seat L/100km',\n",
       "       'Sector km', 'CO2 per seat kg/100km', 'CO2 kg/km',\n",
       "       'Aircraft Manufacturer', 'Operator', 'Operator ID', 'Operator Category',\n",
       "       'Operator Country', 'Operator Parent/Group', 'Parent/Group ID',\n",
       "       'Parent/Group Country', 'First Operator', 'First Operator ID',\n",
       "       'First Operator Category', 'First Operator Country', 'Status',\n",
       "       'Build Date', 'Build Country', 'First Customer Delivery Date',\n",
       "       'Delivery Date Operator', 'Exit Date Operator', 'Nr. of Engines',\n",
       "       'Engine Manufacturer', 'Engine Type', 'Config (Pax/Combi/Cargo/Other)',\n",
       "       'Seat Total', 'Age (Years)'],\n",
       "      dtype='object')"
      ]
     },
     "execution_count": 58,
     "metadata": {},
     "output_type": "execute_result"
    }
   ],
   "source": [
    "aircrafts_airlines.columns"
   ]
  },
  {
   "cell_type": "code",
   "execution_count": 70,
   "metadata": {},
   "outputs": [],
   "source": [
    "big_airlines = aircrafts_airlines.copy()\n",
    "big_airlines = big_airlines[big_airlines[\"Operator Category\"] == 'Airline']\n",
    "big_airlines = big_airlines[big_airlines[\"Status\"] == \"Active\"]\n",
    "big_airlines = big_airlines.groupby(['Operator', 'Operator ID']).count()\n",
    "big_airlines = big_airlines[[\"Seats\"]].rename(columns={\"Seats\": \"Nb planes\"})\n",
    "big_airlines = big_airlines.sort_values(\"Nb planes\", ascending = False)"
   ]
  },
  {
   "cell_type": "markdown",
   "metadata": {},
   "source": [
    "# TODO comment at large airlines"
   ]
  },
  {
   "cell_type": "code",
   "execution_count": 77,
   "metadata": {},
   "outputs": [],
   "source": [
    "big_airlines = big_airlines[big_airlines['Nb planes'] > 30].reset_index()"
   ]
  },
  {
   "cell_type": "code",
   "execution_count": 78,
   "metadata": {},
   "outputs": [
    {
     "data": {
      "text/plain": [
       "169"
      ]
     },
     "execution_count": 78,
     "metadata": {},
     "output_type": "execute_result"
    }
   ],
   "source": [
    "big_airlines_list = big_airlines.Operator.tolist()\n",
    "len(big_airlines_list)"
   ]
  },
  {
   "cell_type": "markdown",
   "metadata": {},
   "source": [
    "Let's have a look if we have many manufacturers of aircrafts in our dataset."
   ]
  },
  {
   "cell_type": "markdown",
   "metadata": {},
   "source": [
    "We have narrowed down all of our airlines almost 2000 from the, to the 10% that have the most aircrafts. We also removed the manufactrers from the list but these are few compared to the number of small airlines."
   ]
  },
  {
   "cell_type": "code",
   "execution_count": 79,
   "metadata": {},
   "outputs": [
    {
     "data": {
      "text/html": [
       "<div>\n",
       "<style scoped>\n",
       "    .dataframe tbody tr th:only-of-type {\n",
       "        vertical-align: middle;\n",
       "    }\n",
       "\n",
       "    .dataframe tbody tr th {\n",
       "        vertical-align: top;\n",
       "    }\n",
       "\n",
       "    .dataframe thead th {\n",
       "        text-align: right;\n",
       "    }\n",
       "</style>\n",
       "<table border=\"1\" class=\"dataframe\">\n",
       "  <thead>\n",
       "    <tr style=\"text-align: right;\">\n",
       "      <th></th>\n",
       "      <th>Operator</th>\n",
       "      <th>CO2 per seat kg/100km</th>\n",
       "    </tr>\n",
       "  </thead>\n",
       "  <tbody>\n",
       "    <tr>\n",
       "      <th>0</th>\n",
       "      <td>Aegean Airlines</td>\n",
       "      <td>5.582835</td>\n",
       "    </tr>\n",
       "    <tr>\n",
       "      <th>1</th>\n",
       "      <td>Aer Lingus</td>\n",
       "      <td>5.840812</td>\n",
       "    </tr>\n",
       "    <tr>\n",
       "      <th>2</th>\n",
       "      <td>Aeroflot - Russian Airlines</td>\n",
       "      <td>5.776314</td>\n",
       "    </tr>\n",
       "    <tr>\n",
       "      <th>3</th>\n",
       "      <td>Aerolineas Argentinas</td>\n",
       "      <td>6.072240</td>\n",
       "    </tr>\n",
       "    <tr>\n",
       "      <th>4</th>\n",
       "      <td>Aeromexico</td>\n",
       "      <td>5.764839</td>\n",
       "    </tr>\n",
       "  </tbody>\n",
       "</table>\n",
       "</div>"
      ],
      "text/plain": [
       "                      Operator  CO2 per seat kg/100km\n",
       "0              Aegean Airlines               5.582835\n",
       "1                   Aer Lingus               5.840812\n",
       "2  Aeroflot - Russian Airlines               5.776314\n",
       "3        Aerolineas Argentinas               6.072240\n",
       "4                   Aeromexico               5.764839"
      ]
     },
     "execution_count": 79,
     "metadata": {},
     "output_type": "execute_result"
    }
   ],
   "source": [
    "plot_airlines = aircrafts_airlines.copy()\n",
    "plot_airlines = plot_airlines.reset_index()[[\"Operator\", \"CO2 per seat kg/100km\"]]\n",
    "plot_airlines = plot_airlines[[x in big_airlines_list for x in plot_airlines[\"Operator\"]]]\n",
    "plot_airlines = plot_airlines.groupby('Operator').mean().reset_index()\n",
    "plot_airlines.head()"
   ]
  },
  {
   "cell_type": "code",
   "execution_count": 117,
   "metadata": {
    "scrolled": false
   },
   "outputs": [
    {
     "data": {
      "application/vnd.plotly.v1+json": {
       "config": {
        "plotlyServerURL": "https://plot.ly"
       },
       "data": [
        {
         "alignmentgroup": "True",
         "hoverlabel": {
          "namelength": 0
         },
         "hovertemplate": "Operator=%{x}<br>CO2 per seat kg/100km=%{y}",
         "legendgroup": "",
         "marker": {
          "color": "#636efa"
         },
         "name": "",
         "offsetgroup": "",
         "orientation": "v",
         "showlegend": false,
         "textposition": "auto",
         "type": "bar",
         "x": [
          "GoAir",
          "IndiGo",
          "Vistara",
          "AirAsia",
          "VietJetAir",
          "Interjet",
          "Pegasus",
          "Volaris",
          "Frontier Airlines",
          "Spring Airlines",
          "Air Arabia",
          "Vietnam Airlines",
          "Vueling",
          "Wizz Air",
          "Loong Air",
          "flydubai",
          "Juneyao Airlines",
          "Aegean Airlines",
          "China West Air",
          "Jetstar Airways",
          "Ural Airlines",
          "Cebu Pacific",
          "Wings Air",
          "Batik Air",
          "Scoot",
          "Lion Air",
          "Thai Lion Air",
          "Citilink",
          "Chengdu Airlines",
          "Shenzhen Airlines",
          "Norwegian Air International",
          "Sichuan Airlines",
          "SunExpress",
          "Spirit Airlines",
          "Malindo Air",
          "TUIfly",
          "Air India",
          "Xiamen Airlines",
          "TUI Airways",
          "Shanghai Airlines",
          "Aeromexico",
          "flynas",
          "Air New Zealand",
          "Aeroflot - Russian Airlines",
          "Thai AirAsia",
          "LATAM Airlines Chile",
          "China Southern Airlines",
          "Viva Aerobus",
          "LATAM Airlines Brasil",
          "TAP - Air Portugal",
          "Shandong Airlines",
          "Ryanair",
          "Turkish Airlines",
          "Anadolu Jet",
          "Transavia France",
          "easyJet",
          "GOL Transportes Aéreos",
          "China Eastern Airlines",
          "Aer Lingus",
          "Lucky Air",
          "Gulf Air",
          "Jeju Air",
          "Avianca",
          "Capital Airlines",
          "Condor",
          "Nordwind Airlines",
          "Air Europa",
          "EgyptAir",
          "Swiss",
          "Air China",
          "easyJet Europe",
          "Hainan Airlines",
          "Oman Air",
          "Air Canada",
          "Uzbekistan Airways",
          "China United Airlines",
          "Hawaiian Airlines",
          "Bangkok Airways",
          "Qatar Airways",
          "Virgin Australia",
          "SpiceJet",
          "American Airlines",
          "Transavia",
          "Icelandair",
          "Air Baltic",
          "All Nippon Airways",
          "Allegiant Air",
          "Japan Airlines",
          "Royal Air Maroc",
          "EVA Airways",
          "Delta Air Lines",
          "Philippine Airlines",
          "Etihad Airways",
          "Copa Airlines",
          "Air Algérie",
          "Alitalia",
          "United Airlines",
          "Alaska Airlines",
          "Ethiopian Airlines",
          "Aerolineas Argentinas",
          "JetBlue Airways",
          "Eurowings",
          "Cathay Dragon",
          "El Al Israel Airlines",
          "Air France",
          "WestJet",
          "Air Transat",
          "S7 - Siberia Airlines",
          "Saudi Arabian Airlines",
          "Ukraine International Airlines",
          "Garuda Indonesia",
          "British Airways",
          "Malaysia Airlines",
          "Air Astana",
          "Air Canada Rouge",
          "Singapore Airlines",
          "Azul Linhas Aéreas Brasileiras",
          "Brussels Airlines",
          "Korean Air Lines",
          "Asiana Airlines",
          "Rossiya - Russian Airlines",
          "Finnair",
          "Lufthansa",
          "Qantas",
          "KLM Royal Dutch Airlines",
          "Federal Express (FedEx)",
          "Cathay Pacific",
          "Tibet Airlines",
          "Iberia",
          "Southwest Airlines",
          "Amazon Prime Air",
          "Jet2",
          "Austrian Airlines",
          "United Parcel Service (UPS)",
          "Emirates",
          "Thai Airways International",
          "China Airlines",
          "Virgin Atlantic Airways",
          "SAS Scandinavian Airlines",
          "South African Airways",
          "SF Airlines (ShunFeng Airlines)",
          "Kenya Airways",
          "LOT - Polish Airlines",
          "QantasLink",
          "WestJet Encore",
          "Kalitta Air",
          "Atlas Air",
          "Flybe",
          "Tianjin Airlines",
          "Horizon Air",
          "Air Nostrum",
          "Aeroméxico Connect",
          "KLM Cityhopper",
          "HOP!",
          "J-Air",
          "Trans States Airlines",
          "Piedmont Airlines",
          "CommutAir",
          "ExpressJet Airlines",
          "Compass Airlines",
          "Republic Airlines",
          "China Express Airlines",
          "American Eagle",
          "Lufthansa CityLine",
          "Mesa Airlines",
          "Endeavor Air",
          "SkyWest Airlines",
          "PSA Airlines",
          "Air Wisconsin"
         ],
         "xaxis": "x",
         "y": [
          5.152137002068974,
          5.3231988785977595,
          5.392584459418609,
          5.410836799200007,
          5.415886486956516,
          5.421159198,
          5.457660932093019,
          5.494372940000001,
          5.494874205663721,
          5.507436169565224,
          5.517453968372096,
          5.518614137590905,
          5.524037762727275,
          5.525246744181813,
          5.526227946521743,
          5.5466153262295075,
          5.569092471599998,
          5.5828345608,
          5.5918270800000025,
          5.597669274084508,
          5.599713158490566,
          5.60538568153846,
          5.607658979999997,
          5.619123459310346,
          5.645251981764709,
          5.651816480930222,
          5.654904702631581,
          5.659618756721316,
          5.6702125760000035,
          5.682924196551722,
          5.686393145373131,
          5.705438879259256,
          5.707560563478265,
          5.712550892112674,
          5.717913955384618,
          5.724577561500004,
          5.734799821104287,
          5.739092587704905,
          5.749910631230774,
          5.760651205312491,
          5.764838855487806,
          5.775740985000002,
          5.776120516849317,
          5.7763142089655135,
          5.783437047500005,
          5.789264066249997,
          5.7940443562993,
          5.795135062500003,
          5.795356029202449,
          5.807069189708733,
          5.809275294666657,
          5.815280484406764,
          5.817974716605494,
          5.829305580000002,
          5.829305580000003,
          5.831768319999994,
          5.834231059999989,
          5.838116317487139,
          5.8408118242622935,
          5.84464173363636,
          5.847579634787236,
          5.852649211276598,
          5.853960465937495,
          5.856909918461538,
          5.860531264528303,
          5.871461894117645,
          5.876141617500009,
          5.879497291956523,
          5.88340641677419,
          5.895473377946808,
          5.898549919270058,
          5.906169246732267,
          5.906367136967222,
          5.9111133250908985,
          5.9146059381818175,
          5.916869668888888,
          5.934155425531913,
          5.934218304,
          5.934646484931806,
          5.93476196547169,
          5.940672973720926,
          5.940823529421428,
          5.941887980000004,
          5.961933139024388,
          5.962023239268293,
          5.980075254306925,
          5.994309159999999,
          6.005364865783781,
          6.008876893220346,
          6.019024514999989,
          6.019263509965606,
          6.023600046382977,
          6.035390378031484,
          6.038392205999995,
          6.05897731551724,
          6.061948600465117,
          6.063443280762751,
          6.063671826153823,
          6.069037926874997,
          6.0722402715254225,
          6.08150346810808,
          6.093985321052635,
          6.1136099688461485,
          6.119356906551724,
          6.139342276542544,
          6.14062230249999,
          6.14364075818182,
          6.164238219999999,
          6.169516813455888,
          6.172307623404255,
          6.173567274834427,
          6.1808598880415335,
          6.198064678235289,
          6.223836528000002,
          6.233839041230777,
          6.237885011029415,
          6.255450812592595,
          6.255807370909091,
          6.266013627391307,
          6.273241233913049,
          6.273984071249997,
          6.299196372000006,
          6.314450873294126,
          6.324340307727268,
          6.330192096413045,
          6.33647032013653,
          6.339426900603017,
          6.369912192,
          6.374947357058827,
          6.377021113932243,
          6.389412528648644,
          6.390046001379299,
          6.44252784,
          6.4595379279069824,
          6.479560637765959,
          6.493943134636356,
          6.495796906199995,
          6.56524358184211,
          6.644009169432995,
          6.680871817199999,
          6.712061051111112,
          6.802466763076927,
          6.8290294063793135,
          6.845185830000001,
          6.92645625,
          7.050256295384611,
          7.06542195163636,
          7.158298593600004,
          7.498361310461542,
          7.656162913636367,
          7.966385909999997,
          8.06117414033899,
          8.176950180000006,
          8.296786354500002,
          8.519541187500003,
          8.524702076470586,
          8.555558759999998,
          8.555558759999998,
          8.77441642927153,
          8.799370020000001,
          9.04318128,
          9.071189350363632,
          9.246047823486473,
          9.374173535999999,
          10.314102884400022,
          10.610563736769246,
          10.676280020520437,
          10.752992062826095,
          10.98102813845071
         ],
         "yaxis": "y"
        }
       ],
       "layout": {
        "barmode": "relative",
        "height": 600,
        "legend": {
         "tracegroupgap": 0
        },
        "margin": {
         "t": 60
        },
        "template": {
         "data": {
          "bar": [
           {
            "error_x": {
             "color": "#2a3f5f"
            },
            "error_y": {
             "color": "#2a3f5f"
            },
            "marker": {
             "line": {
              "color": "#E5ECF6",
              "width": 0.5
             }
            },
            "type": "bar"
           }
          ],
          "barpolar": [
           {
            "marker": {
             "line": {
              "color": "#E5ECF6",
              "width": 0.5
             }
            },
            "type": "barpolar"
           }
          ],
          "carpet": [
           {
            "aaxis": {
             "endlinecolor": "#2a3f5f",
             "gridcolor": "white",
             "linecolor": "white",
             "minorgridcolor": "white",
             "startlinecolor": "#2a3f5f"
            },
            "baxis": {
             "endlinecolor": "#2a3f5f",
             "gridcolor": "white",
             "linecolor": "white",
             "minorgridcolor": "white",
             "startlinecolor": "#2a3f5f"
            },
            "type": "carpet"
           }
          ],
          "choropleth": [
           {
            "colorbar": {
             "outlinewidth": 0,
             "ticks": ""
            },
            "type": "choropleth"
           }
          ],
          "contour": [
           {
            "colorbar": {
             "outlinewidth": 0,
             "ticks": ""
            },
            "colorscale": [
             [
              0,
              "#0d0887"
             ],
             [
              0.1111111111111111,
              "#46039f"
             ],
             [
              0.2222222222222222,
              "#7201a8"
             ],
             [
              0.3333333333333333,
              "#9c179e"
             ],
             [
              0.4444444444444444,
              "#bd3786"
             ],
             [
              0.5555555555555556,
              "#d8576b"
             ],
             [
              0.6666666666666666,
              "#ed7953"
             ],
             [
              0.7777777777777778,
              "#fb9f3a"
             ],
             [
              0.8888888888888888,
              "#fdca26"
             ],
             [
              1,
              "#f0f921"
             ]
            ],
            "type": "contour"
           }
          ],
          "contourcarpet": [
           {
            "colorbar": {
             "outlinewidth": 0,
             "ticks": ""
            },
            "type": "contourcarpet"
           }
          ],
          "heatmap": [
           {
            "colorbar": {
             "outlinewidth": 0,
             "ticks": ""
            },
            "colorscale": [
             [
              0,
              "#0d0887"
             ],
             [
              0.1111111111111111,
              "#46039f"
             ],
             [
              0.2222222222222222,
              "#7201a8"
             ],
             [
              0.3333333333333333,
              "#9c179e"
             ],
             [
              0.4444444444444444,
              "#bd3786"
             ],
             [
              0.5555555555555556,
              "#d8576b"
             ],
             [
              0.6666666666666666,
              "#ed7953"
             ],
             [
              0.7777777777777778,
              "#fb9f3a"
             ],
             [
              0.8888888888888888,
              "#fdca26"
             ],
             [
              1,
              "#f0f921"
             ]
            ],
            "type": "heatmap"
           }
          ],
          "heatmapgl": [
           {
            "colorbar": {
             "outlinewidth": 0,
             "ticks": ""
            },
            "colorscale": [
             [
              0,
              "#0d0887"
             ],
             [
              0.1111111111111111,
              "#46039f"
             ],
             [
              0.2222222222222222,
              "#7201a8"
             ],
             [
              0.3333333333333333,
              "#9c179e"
             ],
             [
              0.4444444444444444,
              "#bd3786"
             ],
             [
              0.5555555555555556,
              "#d8576b"
             ],
             [
              0.6666666666666666,
              "#ed7953"
             ],
             [
              0.7777777777777778,
              "#fb9f3a"
             ],
             [
              0.8888888888888888,
              "#fdca26"
             ],
             [
              1,
              "#f0f921"
             ]
            ],
            "type": "heatmapgl"
           }
          ],
          "histogram": [
           {
            "marker": {
             "colorbar": {
              "outlinewidth": 0,
              "ticks": ""
             }
            },
            "type": "histogram"
           }
          ],
          "histogram2d": [
           {
            "colorbar": {
             "outlinewidth": 0,
             "ticks": ""
            },
            "colorscale": [
             [
              0,
              "#0d0887"
             ],
             [
              0.1111111111111111,
              "#46039f"
             ],
             [
              0.2222222222222222,
              "#7201a8"
             ],
             [
              0.3333333333333333,
              "#9c179e"
             ],
             [
              0.4444444444444444,
              "#bd3786"
             ],
             [
              0.5555555555555556,
              "#d8576b"
             ],
             [
              0.6666666666666666,
              "#ed7953"
             ],
             [
              0.7777777777777778,
              "#fb9f3a"
             ],
             [
              0.8888888888888888,
              "#fdca26"
             ],
             [
              1,
              "#f0f921"
             ]
            ],
            "type": "histogram2d"
           }
          ],
          "histogram2dcontour": [
           {
            "colorbar": {
             "outlinewidth": 0,
             "ticks": ""
            },
            "colorscale": [
             [
              0,
              "#0d0887"
             ],
             [
              0.1111111111111111,
              "#46039f"
             ],
             [
              0.2222222222222222,
              "#7201a8"
             ],
             [
              0.3333333333333333,
              "#9c179e"
             ],
             [
              0.4444444444444444,
              "#bd3786"
             ],
             [
              0.5555555555555556,
              "#d8576b"
             ],
             [
              0.6666666666666666,
              "#ed7953"
             ],
             [
              0.7777777777777778,
              "#fb9f3a"
             ],
             [
              0.8888888888888888,
              "#fdca26"
             ],
             [
              1,
              "#f0f921"
             ]
            ],
            "type": "histogram2dcontour"
           }
          ],
          "mesh3d": [
           {
            "colorbar": {
             "outlinewidth": 0,
             "ticks": ""
            },
            "type": "mesh3d"
           }
          ],
          "parcoords": [
           {
            "line": {
             "colorbar": {
              "outlinewidth": 0,
              "ticks": ""
             }
            },
            "type": "parcoords"
           }
          ],
          "pie": [
           {
            "automargin": true,
            "type": "pie"
           }
          ],
          "scatter": [
           {
            "marker": {
             "colorbar": {
              "outlinewidth": 0,
              "ticks": ""
             }
            },
            "type": "scatter"
           }
          ],
          "scatter3d": [
           {
            "line": {
             "colorbar": {
              "outlinewidth": 0,
              "ticks": ""
             }
            },
            "marker": {
             "colorbar": {
              "outlinewidth": 0,
              "ticks": ""
             }
            },
            "type": "scatter3d"
           }
          ],
          "scattercarpet": [
           {
            "marker": {
             "colorbar": {
              "outlinewidth": 0,
              "ticks": ""
             }
            },
            "type": "scattercarpet"
           }
          ],
          "scattergeo": [
           {
            "marker": {
             "colorbar": {
              "outlinewidth": 0,
              "ticks": ""
             }
            },
            "type": "scattergeo"
           }
          ],
          "scattergl": [
           {
            "marker": {
             "colorbar": {
              "outlinewidth": 0,
              "ticks": ""
             }
            },
            "type": "scattergl"
           }
          ],
          "scattermapbox": [
           {
            "marker": {
             "colorbar": {
              "outlinewidth": 0,
              "ticks": ""
             }
            },
            "type": "scattermapbox"
           }
          ],
          "scatterpolar": [
           {
            "marker": {
             "colorbar": {
              "outlinewidth": 0,
              "ticks": ""
             }
            },
            "type": "scatterpolar"
           }
          ],
          "scatterpolargl": [
           {
            "marker": {
             "colorbar": {
              "outlinewidth": 0,
              "ticks": ""
             }
            },
            "type": "scatterpolargl"
           }
          ],
          "scatterternary": [
           {
            "marker": {
             "colorbar": {
              "outlinewidth": 0,
              "ticks": ""
             }
            },
            "type": "scatterternary"
           }
          ],
          "surface": [
           {
            "colorbar": {
             "outlinewidth": 0,
             "ticks": ""
            },
            "colorscale": [
             [
              0,
              "#0d0887"
             ],
             [
              0.1111111111111111,
              "#46039f"
             ],
             [
              0.2222222222222222,
              "#7201a8"
             ],
             [
              0.3333333333333333,
              "#9c179e"
             ],
             [
              0.4444444444444444,
              "#bd3786"
             ],
             [
              0.5555555555555556,
              "#d8576b"
             ],
             [
              0.6666666666666666,
              "#ed7953"
             ],
             [
              0.7777777777777778,
              "#fb9f3a"
             ],
             [
              0.8888888888888888,
              "#fdca26"
             ],
             [
              1,
              "#f0f921"
             ]
            ],
            "type": "surface"
           }
          ],
          "table": [
           {
            "cells": {
             "fill": {
              "color": "#EBF0F8"
             },
             "line": {
              "color": "white"
             }
            },
            "header": {
             "fill": {
              "color": "#C8D4E3"
             },
             "line": {
              "color": "white"
             }
            },
            "type": "table"
           }
          ]
         },
         "layout": {
          "annotationdefaults": {
           "arrowcolor": "#2a3f5f",
           "arrowhead": 0,
           "arrowwidth": 1
          },
          "coloraxis": {
           "colorbar": {
            "outlinewidth": 0,
            "ticks": ""
           }
          },
          "colorscale": {
           "diverging": [
            [
             0,
             "#8e0152"
            ],
            [
             0.1,
             "#c51b7d"
            ],
            [
             0.2,
             "#de77ae"
            ],
            [
             0.3,
             "#f1b6da"
            ],
            [
             0.4,
             "#fde0ef"
            ],
            [
             0.5,
             "#f7f7f7"
            ],
            [
             0.6,
             "#e6f5d0"
            ],
            [
             0.7,
             "#b8e186"
            ],
            [
             0.8,
             "#7fbc41"
            ],
            [
             0.9,
             "#4d9221"
            ],
            [
             1,
             "#276419"
            ]
           ],
           "sequential": [
            [
             0,
             "#0d0887"
            ],
            [
             0.1111111111111111,
             "#46039f"
            ],
            [
             0.2222222222222222,
             "#7201a8"
            ],
            [
             0.3333333333333333,
             "#9c179e"
            ],
            [
             0.4444444444444444,
             "#bd3786"
            ],
            [
             0.5555555555555556,
             "#d8576b"
            ],
            [
             0.6666666666666666,
             "#ed7953"
            ],
            [
             0.7777777777777778,
             "#fb9f3a"
            ],
            [
             0.8888888888888888,
             "#fdca26"
            ],
            [
             1,
             "#f0f921"
            ]
           ],
           "sequentialminus": [
            [
             0,
             "#0d0887"
            ],
            [
             0.1111111111111111,
             "#46039f"
            ],
            [
             0.2222222222222222,
             "#7201a8"
            ],
            [
             0.3333333333333333,
             "#9c179e"
            ],
            [
             0.4444444444444444,
             "#bd3786"
            ],
            [
             0.5555555555555556,
             "#d8576b"
            ],
            [
             0.6666666666666666,
             "#ed7953"
            ],
            [
             0.7777777777777778,
             "#fb9f3a"
            ],
            [
             0.8888888888888888,
             "#fdca26"
            ],
            [
             1,
             "#f0f921"
            ]
           ]
          },
          "colorway": [
           "#636efa",
           "#EF553B",
           "#00cc96",
           "#ab63fa",
           "#FFA15A",
           "#19d3f3",
           "#FF6692",
           "#B6E880",
           "#FF97FF",
           "#FECB52"
          ],
          "font": {
           "color": "#2a3f5f"
          },
          "geo": {
           "bgcolor": "white",
           "lakecolor": "white",
           "landcolor": "#E5ECF6",
           "showlakes": true,
           "showland": true,
           "subunitcolor": "white"
          },
          "hoverlabel": {
           "align": "left"
          },
          "hovermode": "closest",
          "mapbox": {
           "style": "light"
          },
          "paper_bgcolor": "white",
          "plot_bgcolor": "#E5ECF6",
          "polar": {
           "angularaxis": {
            "gridcolor": "white",
            "linecolor": "white",
            "ticks": ""
           },
           "bgcolor": "#E5ECF6",
           "radialaxis": {
            "gridcolor": "white",
            "linecolor": "white",
            "ticks": ""
           }
          },
          "scene": {
           "xaxis": {
            "backgroundcolor": "#E5ECF6",
            "gridcolor": "white",
            "gridwidth": 2,
            "linecolor": "white",
            "showbackground": true,
            "ticks": "",
            "zerolinecolor": "white"
           },
           "yaxis": {
            "backgroundcolor": "#E5ECF6",
            "gridcolor": "white",
            "gridwidth": 2,
            "linecolor": "white",
            "showbackground": true,
            "ticks": "",
            "zerolinecolor": "white"
           },
           "zaxis": {
            "backgroundcolor": "#E5ECF6",
            "gridcolor": "white",
            "gridwidth": 2,
            "linecolor": "white",
            "showbackground": true,
            "ticks": "",
            "zerolinecolor": "white"
           }
          },
          "shapedefaults": {
           "line": {
            "color": "#2a3f5f"
           }
          },
          "ternary": {
           "aaxis": {
            "gridcolor": "white",
            "linecolor": "white",
            "ticks": ""
           },
           "baxis": {
            "gridcolor": "white",
            "linecolor": "white",
            "ticks": ""
           },
           "bgcolor": "#E5ECF6",
           "caxis": {
            "gridcolor": "white",
            "linecolor": "white",
            "ticks": ""
           }
          },
          "title": {
           "x": 0.05
          },
          "xaxis": {
           "automargin": true,
           "gridcolor": "white",
           "linecolor": "white",
           "ticks": "",
           "title": {
            "standoff": 15
           },
           "zerolinecolor": "white",
           "zerolinewidth": 2
          },
          "yaxis": {
           "automargin": true,
           "gridcolor": "white",
           "linecolor": "white",
           "ticks": "",
           "title": {
            "standoff": 15
           },
           "zerolinecolor": "white",
           "zerolinewidth": 2
          }
         }
        },
        "xaxis": {
         "anchor": "y",
         "domain": [
          0,
          1
         ],
         "title": {
          "text": "Operator"
         }
        },
        "yaxis": {
         "anchor": "x",
         "domain": [
          0,
          1
         ],
         "title": {
          "text": "CO2 per seat kg/100km"
         }
        }
       }
      },
      "text/html": [
       "<div>\n",
       "        \n",
       "        \n",
       "            <div id=\"9713f7a3-b956-4226-9902-b503ec738a1f\" class=\"plotly-graph-div\" style=\"height:600px; width:100%;\"></div>\n",
       "            <script type=\"text/javascript\">\n",
       "                require([\"plotly\"], function(Plotly) {\n",
       "                    window.PLOTLYENV=window.PLOTLYENV || {};\n",
       "                    \n",
       "                if (document.getElementById(\"9713f7a3-b956-4226-9902-b503ec738a1f\")) {\n",
       "                    Plotly.newPlot(\n",
       "                        '9713f7a3-b956-4226-9902-b503ec738a1f',\n",
       "                        [{\"alignmentgroup\": \"True\", \"hoverlabel\": {\"namelength\": 0}, \"hovertemplate\": \"Operator=%{x}<br>CO2 per seat kg/100km=%{y}\", \"legendgroup\": \"\", \"marker\": {\"color\": \"#636efa\"}, \"name\": \"\", \"offsetgroup\": \"\", \"orientation\": \"v\", \"showlegend\": false, \"textposition\": \"auto\", \"type\": \"bar\", \"x\": [\"GoAir\", \"IndiGo\", \"Vistara\", \"AirAsia\", \"VietJetAir\", \"Interjet\", \"Pegasus\", \"Volaris\", \"Frontier Airlines\", \"Spring Airlines\", \"Air Arabia\", \"Vietnam Airlines\", \"Vueling\", \"Wizz Air\", \"Loong Air\", \"flydubai\", \"Juneyao Airlines\", \"Aegean Airlines\", \"China West Air\", \"Jetstar Airways\", \"Ural Airlines\", \"Cebu Pacific\", \"Wings Air\", \"Batik Air\", \"Scoot\", \"Lion Air\", \"Thai Lion Air\", \"Citilink\", \"Chengdu Airlines\", \"Shenzhen Airlines\", \"Norwegian Air International\", \"Sichuan Airlines\", \"SunExpress\", \"Spirit Airlines\", \"Malindo Air\", \"TUIfly\", \"Air India\", \"Xiamen Airlines\", \"TUI Airways\", \"Shanghai Airlines\", \"Aeromexico\", \"flynas\", \"Air New Zealand\", \"Aeroflot - Russian Airlines\", \"Thai AirAsia\", \"LATAM Airlines Chile\", \"China Southern Airlines\", \"Viva Aerobus\", \"LATAM Airlines Brasil\", \"TAP - Air Portugal\", \"Shandong Airlines\", \"Ryanair\", \"Turkish Airlines\", \"Anadolu Jet\", \"Transavia France\", \"easyJet\", \"GOL Transportes A\\u00e9reos\", \"China Eastern Airlines\", \"Aer Lingus\", \"Lucky Air\", \"Gulf Air\", \"Jeju Air\", \"Avianca\", \"Capital Airlines\", \"Condor\", \"Nordwind Airlines\", \"Air Europa\", \"EgyptAir\", \"Swiss\", \"Air China\", \"easyJet Europe\", \"Hainan Airlines\", \"Oman Air\", \"Air Canada\", \"Uzbekistan Airways\", \"China United Airlines\", \"Hawaiian Airlines\", \"Bangkok Airways\", \"Qatar Airways\", \"Virgin Australia\", \"SpiceJet\", \"American Airlines\", \"Transavia\", \"Icelandair\", \"Air Baltic\", \"All Nippon Airways\", \"Allegiant Air\", \"Japan Airlines\", \"Royal Air Maroc\", \"EVA Airways\", \"Delta Air Lines\", \"Philippine Airlines\", \"Etihad Airways\", \"Copa Airlines\", \"Air Alg\\u00e9rie\", \"Alitalia\", \"United Airlines\", \"Alaska Airlines\", \"Ethiopian Airlines\", \"Aerolineas Argentinas\", \"JetBlue Airways\", \"Eurowings\", \"Cathay Dragon\", \"El Al Israel Airlines\", \"Air France\", \"WestJet\", \"Air Transat\", \"S7 - Siberia Airlines\", \"Saudi Arabian Airlines\", \"Ukraine International Airlines\", \"Garuda Indonesia\", \"British Airways\", \"Malaysia Airlines\", \"Air Astana\", \"Air Canada Rouge\", \"Singapore Airlines\", \"Azul Linhas A\\u00e9reas Brasileiras\", \"Brussels Airlines\", \"Korean Air Lines\", \"Asiana Airlines\", \"Rossiya - Russian Airlines\", \"Finnair\", \"Lufthansa\", \"Qantas\", \"KLM Royal Dutch Airlines\", \"Federal Express (FedEx)\", \"Cathay Pacific\", \"Tibet Airlines\", \"Iberia\", \"Southwest Airlines\", \"Amazon Prime Air\", \"Jet2\", \"Austrian Airlines\", \"United Parcel Service (UPS)\", \"Emirates\", \"Thai Airways International\", \"China Airlines\", \"Virgin Atlantic Airways\", \"SAS Scandinavian Airlines\", \"South African Airways\", \"SF Airlines (ShunFeng Airlines)\", \"Kenya Airways\", \"LOT - Polish Airlines\", \"QantasLink\", \"WestJet Encore\", \"Kalitta Air\", \"Atlas Air\", \"Flybe\", \"Tianjin Airlines\", \"Horizon Air\", \"Air Nostrum\", \"Aerom\\u00e9xico Connect\", \"KLM Cityhopper\", \"HOP!\", \"J-Air\", \"Trans States Airlines\", \"Piedmont Airlines\", \"CommutAir\", \"ExpressJet Airlines\", \"Compass Airlines\", \"Republic Airlines\", \"China Express Airlines\", \"American Eagle\", \"Lufthansa CityLine\", \"Mesa Airlines\", \"Endeavor Air\", \"SkyWest Airlines\", \"PSA Airlines\", \"Air Wisconsin\"], \"xaxis\": \"x\", \"y\": [5.152137002068974, 5.3231988785977595, 5.392584459418609, 5.410836799200007, 5.415886486956516, 5.421159198, 5.457660932093019, 5.494372940000001, 5.494874205663721, 5.507436169565224, 5.517453968372096, 5.518614137590905, 5.524037762727275, 5.525246744181813, 5.526227946521743, 5.5466153262295075, 5.569092471599998, 5.5828345608, 5.5918270800000025, 5.597669274084508, 5.599713158490566, 5.60538568153846, 5.607658979999997, 5.619123459310346, 5.645251981764709, 5.651816480930222, 5.654904702631581, 5.659618756721316, 5.6702125760000035, 5.682924196551722, 5.686393145373131, 5.705438879259256, 5.707560563478265, 5.712550892112674, 5.717913955384618, 5.724577561500004, 5.734799821104287, 5.739092587704905, 5.749910631230774, 5.760651205312491, 5.764838855487806, 5.775740985000002, 5.776120516849317, 5.7763142089655135, 5.783437047500005, 5.789264066249997, 5.7940443562993, 5.795135062500003, 5.795356029202449, 5.807069189708733, 5.809275294666657, 5.815280484406764, 5.817974716605494, 5.829305580000002, 5.829305580000003, 5.831768319999994, 5.834231059999989, 5.838116317487139, 5.8408118242622935, 5.84464173363636, 5.847579634787236, 5.852649211276598, 5.853960465937495, 5.856909918461538, 5.860531264528303, 5.871461894117645, 5.876141617500009, 5.879497291956523, 5.88340641677419, 5.895473377946808, 5.898549919270058, 5.906169246732267, 5.906367136967222, 5.9111133250908985, 5.9146059381818175, 5.916869668888888, 5.934155425531913, 5.934218304, 5.934646484931806, 5.93476196547169, 5.940672973720926, 5.940823529421428, 5.941887980000004, 5.961933139024388, 5.962023239268293, 5.980075254306925, 5.994309159999999, 6.005364865783781, 6.008876893220346, 6.019024514999989, 6.019263509965606, 6.023600046382977, 6.035390378031484, 6.038392205999995, 6.05897731551724, 6.061948600465117, 6.063443280762751, 6.063671826153823, 6.069037926874997, 6.0722402715254225, 6.08150346810808, 6.093985321052635, 6.1136099688461485, 6.119356906551724, 6.139342276542544, 6.14062230249999, 6.14364075818182, 6.164238219999999, 6.169516813455888, 6.172307623404255, 6.173567274834427, 6.1808598880415335, 6.198064678235289, 6.223836528000002, 6.233839041230777, 6.237885011029415, 6.255450812592595, 6.255807370909091, 6.266013627391307, 6.273241233913049, 6.273984071249997, 6.299196372000006, 6.314450873294126, 6.324340307727268, 6.330192096413045, 6.33647032013653, 6.339426900603017, 6.369912192, 6.374947357058827, 6.377021113932243, 6.389412528648644, 6.390046001379299, 6.44252784, 6.4595379279069824, 6.479560637765959, 6.493943134636356, 6.495796906199995, 6.56524358184211, 6.644009169432995, 6.680871817199999, 6.712061051111112, 6.802466763076927, 6.8290294063793135, 6.845185830000001, 6.92645625, 7.050256295384611, 7.06542195163636, 7.158298593600004, 7.498361310461542, 7.656162913636367, 7.966385909999997, 8.06117414033899, 8.176950180000006, 8.296786354500002, 8.519541187500003, 8.524702076470586, 8.555558759999998, 8.555558759999998, 8.77441642927153, 8.799370020000001, 9.04318128, 9.071189350363632, 9.246047823486473, 9.374173535999999, 10.314102884400022, 10.610563736769246, 10.676280020520437, 10.752992062826095, 10.98102813845071], \"yaxis\": \"y\"}],\n",
       "                        {\"barmode\": \"relative\", \"height\": 600, \"legend\": {\"tracegroupgap\": 0}, \"margin\": {\"t\": 60}, \"template\": {\"data\": {\"bar\": [{\"error_x\": {\"color\": \"#2a3f5f\"}, \"error_y\": {\"color\": \"#2a3f5f\"}, \"marker\": {\"line\": {\"color\": \"#E5ECF6\", \"width\": 0.5}}, \"type\": \"bar\"}], \"barpolar\": [{\"marker\": {\"line\": {\"color\": \"#E5ECF6\", \"width\": 0.5}}, \"type\": \"barpolar\"}], \"carpet\": [{\"aaxis\": {\"endlinecolor\": \"#2a3f5f\", \"gridcolor\": \"white\", \"linecolor\": \"white\", \"minorgridcolor\": \"white\", \"startlinecolor\": \"#2a3f5f\"}, \"baxis\": {\"endlinecolor\": \"#2a3f5f\", \"gridcolor\": \"white\", \"linecolor\": \"white\", \"minorgridcolor\": \"white\", \"startlinecolor\": \"#2a3f5f\"}, \"type\": \"carpet\"}], \"choropleth\": [{\"colorbar\": {\"outlinewidth\": 0, \"ticks\": \"\"}, \"type\": \"choropleth\"}], \"contour\": [{\"colorbar\": {\"outlinewidth\": 0, \"ticks\": \"\"}, \"colorscale\": [[0.0, \"#0d0887\"], [0.1111111111111111, \"#46039f\"], [0.2222222222222222, \"#7201a8\"], [0.3333333333333333, \"#9c179e\"], [0.4444444444444444, \"#bd3786\"], [0.5555555555555556, \"#d8576b\"], [0.6666666666666666, \"#ed7953\"], [0.7777777777777778, \"#fb9f3a\"], [0.8888888888888888, \"#fdca26\"], [1.0, \"#f0f921\"]], \"type\": \"contour\"}], \"contourcarpet\": [{\"colorbar\": {\"outlinewidth\": 0, \"ticks\": \"\"}, \"type\": \"contourcarpet\"}], \"heatmap\": [{\"colorbar\": {\"outlinewidth\": 0, \"ticks\": \"\"}, \"colorscale\": [[0.0, \"#0d0887\"], [0.1111111111111111, \"#46039f\"], [0.2222222222222222, \"#7201a8\"], [0.3333333333333333, \"#9c179e\"], [0.4444444444444444, \"#bd3786\"], [0.5555555555555556, \"#d8576b\"], [0.6666666666666666, \"#ed7953\"], [0.7777777777777778, \"#fb9f3a\"], [0.8888888888888888, \"#fdca26\"], [1.0, \"#f0f921\"]], \"type\": \"heatmap\"}], \"heatmapgl\": [{\"colorbar\": {\"outlinewidth\": 0, \"ticks\": \"\"}, \"colorscale\": [[0.0, \"#0d0887\"], [0.1111111111111111, \"#46039f\"], [0.2222222222222222, \"#7201a8\"], [0.3333333333333333, \"#9c179e\"], [0.4444444444444444, \"#bd3786\"], [0.5555555555555556, \"#d8576b\"], [0.6666666666666666, \"#ed7953\"], [0.7777777777777778, \"#fb9f3a\"], [0.8888888888888888, \"#fdca26\"], [1.0, \"#f0f921\"]], \"type\": \"heatmapgl\"}], \"histogram\": [{\"marker\": {\"colorbar\": {\"outlinewidth\": 0, \"ticks\": \"\"}}, \"type\": \"histogram\"}], \"histogram2d\": [{\"colorbar\": {\"outlinewidth\": 0, \"ticks\": \"\"}, \"colorscale\": [[0.0, \"#0d0887\"], [0.1111111111111111, \"#46039f\"], [0.2222222222222222, \"#7201a8\"], [0.3333333333333333, \"#9c179e\"], [0.4444444444444444, \"#bd3786\"], [0.5555555555555556, \"#d8576b\"], [0.6666666666666666, \"#ed7953\"], [0.7777777777777778, \"#fb9f3a\"], [0.8888888888888888, \"#fdca26\"], [1.0, \"#f0f921\"]], \"type\": \"histogram2d\"}], \"histogram2dcontour\": [{\"colorbar\": {\"outlinewidth\": 0, \"ticks\": \"\"}, \"colorscale\": [[0.0, \"#0d0887\"], [0.1111111111111111, \"#46039f\"], [0.2222222222222222, \"#7201a8\"], [0.3333333333333333, \"#9c179e\"], [0.4444444444444444, \"#bd3786\"], [0.5555555555555556, \"#d8576b\"], [0.6666666666666666, \"#ed7953\"], [0.7777777777777778, \"#fb9f3a\"], [0.8888888888888888, \"#fdca26\"], [1.0, \"#f0f921\"]], \"type\": \"histogram2dcontour\"}], \"mesh3d\": [{\"colorbar\": {\"outlinewidth\": 0, \"ticks\": \"\"}, \"type\": \"mesh3d\"}], \"parcoords\": [{\"line\": {\"colorbar\": {\"outlinewidth\": 0, \"ticks\": \"\"}}, \"type\": \"parcoords\"}], \"pie\": [{\"automargin\": true, \"type\": \"pie\"}], \"scatter\": [{\"marker\": {\"colorbar\": {\"outlinewidth\": 0, \"ticks\": \"\"}}, \"type\": \"scatter\"}], \"scatter3d\": [{\"line\": {\"colorbar\": {\"outlinewidth\": 0, \"ticks\": \"\"}}, \"marker\": {\"colorbar\": {\"outlinewidth\": 0, \"ticks\": \"\"}}, \"type\": \"scatter3d\"}], \"scattercarpet\": [{\"marker\": {\"colorbar\": {\"outlinewidth\": 0, \"ticks\": \"\"}}, \"type\": \"scattercarpet\"}], \"scattergeo\": [{\"marker\": {\"colorbar\": {\"outlinewidth\": 0, \"ticks\": \"\"}}, \"type\": \"scattergeo\"}], \"scattergl\": [{\"marker\": {\"colorbar\": {\"outlinewidth\": 0, \"ticks\": \"\"}}, \"type\": \"scattergl\"}], \"scattermapbox\": [{\"marker\": {\"colorbar\": {\"outlinewidth\": 0, \"ticks\": \"\"}}, \"type\": \"scattermapbox\"}], \"scatterpolar\": [{\"marker\": {\"colorbar\": {\"outlinewidth\": 0, \"ticks\": \"\"}}, \"type\": \"scatterpolar\"}], \"scatterpolargl\": [{\"marker\": {\"colorbar\": {\"outlinewidth\": 0, \"ticks\": \"\"}}, \"type\": \"scatterpolargl\"}], \"scatterternary\": [{\"marker\": {\"colorbar\": {\"outlinewidth\": 0, \"ticks\": \"\"}}, \"type\": \"scatterternary\"}], \"surface\": [{\"colorbar\": {\"outlinewidth\": 0, \"ticks\": \"\"}, \"colorscale\": [[0.0, \"#0d0887\"], [0.1111111111111111, \"#46039f\"], [0.2222222222222222, \"#7201a8\"], [0.3333333333333333, \"#9c179e\"], [0.4444444444444444, \"#bd3786\"], [0.5555555555555556, \"#d8576b\"], [0.6666666666666666, \"#ed7953\"], [0.7777777777777778, \"#fb9f3a\"], [0.8888888888888888, \"#fdca26\"], [1.0, \"#f0f921\"]], \"type\": \"surface\"}], \"table\": [{\"cells\": {\"fill\": {\"color\": \"#EBF0F8\"}, \"line\": {\"color\": \"white\"}}, \"header\": {\"fill\": {\"color\": \"#C8D4E3\"}, \"line\": {\"color\": \"white\"}}, \"type\": \"table\"}]}, \"layout\": {\"annotationdefaults\": {\"arrowcolor\": \"#2a3f5f\", \"arrowhead\": 0, \"arrowwidth\": 1}, \"coloraxis\": {\"colorbar\": {\"outlinewidth\": 0, \"ticks\": \"\"}}, \"colorscale\": {\"diverging\": [[0, \"#8e0152\"], [0.1, \"#c51b7d\"], [0.2, \"#de77ae\"], [0.3, \"#f1b6da\"], [0.4, \"#fde0ef\"], [0.5, \"#f7f7f7\"], [0.6, \"#e6f5d0\"], [0.7, \"#b8e186\"], [0.8, \"#7fbc41\"], [0.9, \"#4d9221\"], [1, \"#276419\"]], \"sequential\": [[0.0, \"#0d0887\"], [0.1111111111111111, \"#46039f\"], [0.2222222222222222, \"#7201a8\"], [0.3333333333333333, \"#9c179e\"], [0.4444444444444444, \"#bd3786\"], [0.5555555555555556, \"#d8576b\"], [0.6666666666666666, \"#ed7953\"], [0.7777777777777778, \"#fb9f3a\"], [0.8888888888888888, \"#fdca26\"], [1.0, \"#f0f921\"]], \"sequentialminus\": [[0.0, \"#0d0887\"], [0.1111111111111111, \"#46039f\"], [0.2222222222222222, \"#7201a8\"], [0.3333333333333333, \"#9c179e\"], [0.4444444444444444, \"#bd3786\"], [0.5555555555555556, \"#d8576b\"], [0.6666666666666666, \"#ed7953\"], [0.7777777777777778, \"#fb9f3a\"], [0.8888888888888888, \"#fdca26\"], [1.0, \"#f0f921\"]]}, \"colorway\": [\"#636efa\", \"#EF553B\", \"#00cc96\", \"#ab63fa\", \"#FFA15A\", \"#19d3f3\", \"#FF6692\", \"#B6E880\", \"#FF97FF\", \"#FECB52\"], \"font\": {\"color\": \"#2a3f5f\"}, \"geo\": {\"bgcolor\": \"white\", \"lakecolor\": \"white\", \"landcolor\": \"#E5ECF6\", \"showlakes\": true, \"showland\": true, \"subunitcolor\": \"white\"}, \"hoverlabel\": {\"align\": \"left\"}, \"hovermode\": \"closest\", \"mapbox\": {\"style\": \"light\"}, \"paper_bgcolor\": \"white\", \"plot_bgcolor\": \"#E5ECF6\", \"polar\": {\"angularaxis\": {\"gridcolor\": \"white\", \"linecolor\": \"white\", \"ticks\": \"\"}, \"bgcolor\": \"#E5ECF6\", \"radialaxis\": {\"gridcolor\": \"white\", \"linecolor\": \"white\", \"ticks\": \"\"}}, \"scene\": {\"xaxis\": {\"backgroundcolor\": \"#E5ECF6\", \"gridcolor\": \"white\", \"gridwidth\": 2, \"linecolor\": \"white\", \"showbackground\": true, \"ticks\": \"\", \"zerolinecolor\": \"white\"}, \"yaxis\": {\"backgroundcolor\": \"#E5ECF6\", \"gridcolor\": \"white\", \"gridwidth\": 2, \"linecolor\": \"white\", \"showbackground\": true, \"ticks\": \"\", \"zerolinecolor\": \"white\"}, \"zaxis\": {\"backgroundcolor\": \"#E5ECF6\", \"gridcolor\": \"white\", \"gridwidth\": 2, \"linecolor\": \"white\", \"showbackground\": true, \"ticks\": \"\", \"zerolinecolor\": \"white\"}}, \"shapedefaults\": {\"line\": {\"color\": \"#2a3f5f\"}}, \"ternary\": {\"aaxis\": {\"gridcolor\": \"white\", \"linecolor\": \"white\", \"ticks\": \"\"}, \"baxis\": {\"gridcolor\": \"white\", \"linecolor\": \"white\", \"ticks\": \"\"}, \"bgcolor\": \"#E5ECF6\", \"caxis\": {\"gridcolor\": \"white\", \"linecolor\": \"white\", \"ticks\": \"\"}}, \"title\": {\"x\": 0.05}, \"xaxis\": {\"automargin\": true, \"gridcolor\": \"white\", \"linecolor\": \"white\", \"ticks\": \"\", \"title\": {\"standoff\": 15}, \"zerolinecolor\": \"white\", \"zerolinewidth\": 2}, \"yaxis\": {\"automargin\": true, \"gridcolor\": \"white\", \"linecolor\": \"white\", \"ticks\": \"\", \"title\": {\"standoff\": 15}, \"zerolinecolor\": \"white\", \"zerolinewidth\": 2}}}, \"xaxis\": {\"anchor\": \"y\", \"domain\": [0.0, 1.0], \"title\": {\"text\": \"Operator\"}}, \"yaxis\": {\"anchor\": \"x\", \"domain\": [0.0, 1.0], \"title\": {\"text\": \"CO2 per seat kg/100km\"}}},\n",
       "                        {\"responsive\": true}\n",
       "                    ).then(function(){\n",
       "                            \n",
       "var gd = document.getElementById('9713f7a3-b956-4226-9902-b503ec738a1f');\n",
       "var x = new MutationObserver(function (mutations, observer) {{\n",
       "        var display = window.getComputedStyle(gd).display;\n",
       "        if (!display || display === 'none') {{\n",
       "            console.log([gd, 'removed!']);\n",
       "            Plotly.purge(gd);\n",
       "            observer.disconnect();\n",
       "        }}\n",
       "}});\n",
       "\n",
       "// Listen for the removal of the full notebook cells\n",
       "var notebookContainer = gd.closest('#notebook-container');\n",
       "if (notebookContainer) {{\n",
       "    x.observe(notebookContainer, {childList: true});\n",
       "}}\n",
       "\n",
       "// Listen for the clearing of the current output cell\n",
       "var outputEl = gd.closest('.output');\n",
       "if (outputEl) {{\n",
       "    x.observe(outputEl, {childList: true});\n",
       "}}\n",
       "\n",
       "                        })\n",
       "                };\n",
       "                });\n",
       "            </script>\n",
       "        </div>"
      ]
     },
     "metadata": {},
     "output_type": "display_data"
    }
   ],
   "source": [
    "px.bar(data_frame = plot_airlines.sort_values(\"CO2 per seat kg/100km\"), x=\"Operator\", y=\"CO2 per seat kg/100km\")"
   ]
  },
  {
   "cell_type": "code",
   "execution_count": 81,
   "metadata": {},
   "outputs": [],
   "source": [
    "big_polluters = plot_airlines[plot_airlines[\"CO2 per seat kg/100km\"] > 8]"
   ]
  },
  {
   "cell_type": "markdown",
   "metadata": {},
   "source": [
    "After a bit of reasearch we have noticed that most of these airlines are subsidaries of larger airlines but are the regional sector. For example *Lufthansa CityLine* is a compagny that belongs entirely to *Lufthansa* and opperates flights on there behalf."
   ]
  },
  {
   "cell_type": "markdown",
   "metadata": {},
   "source": [
    "Let's have a closer look at what is hapenning with the *Lufthansa CityLine*"
   ]
  },
  {
   "cell_type": "code",
   "execution_count": 82,
   "metadata": {},
   "outputs": [],
   "source": [
    "lufthansa_fleet = aircrafts_airlines[aircrafts_airlines['Operator'] == \"Lufthansa CityLine\"]\n",
    "lufthansa_fleet= lufthansa_fleet.reset_index().groupby('Model').count()"
   ]
  },
  {
   "cell_type": "code",
   "execution_count": 83,
   "metadata": {},
   "outputs": [
    {
     "data": {
      "text/html": [
       "<div>\n",
       "<style scoped>\n",
       "    .dataframe tbody tr th:only-of-type {\n",
       "        vertical-align: middle;\n",
       "    }\n",
       "\n",
       "    .dataframe tbody tr th {\n",
       "        vertical-align: top;\n",
       "    }\n",
       "\n",
       "    .dataframe thead th {\n",
       "        text-align: right;\n",
       "    }\n",
       "</style>\n",
       "<table border=\"1\" class=\"dataframe\">\n",
       "  <thead>\n",
       "    <tr style=\"text-align: right;\">\n",
       "      <th></th>\n",
       "      <th>Seats</th>\n",
       "      <th>First flight</th>\n",
       "      <th>Fuel burn kg/km</th>\n",
       "      <th>Fuel per seat L/100km</th>\n",
       "      <th>Sector km</th>\n",
       "      <th>CO2 per seat kg/100km</th>\n",
       "      <th>CO2 kg/km</th>\n",
       "      <th>Aircraft Manufacturer</th>\n",
       "      <th>Operator</th>\n",
       "      <th>Operator ID</th>\n",
       "      <th>...</th>\n",
       "      <th>Build Country</th>\n",
       "      <th>First Customer Delivery Date</th>\n",
       "      <th>Delivery Date Operator</th>\n",
       "      <th>Exit Date Operator</th>\n",
       "      <th>Nr. of Engines</th>\n",
       "      <th>Engine Manufacturer</th>\n",
       "      <th>Engine Type</th>\n",
       "      <th>Config (Pax/Combi/Cargo/Other)</th>\n",
       "      <th>Seat Total</th>\n",
       "      <th>Age (Years)</th>\n",
       "    </tr>\n",
       "    <tr>\n",
       "      <th>Model</th>\n",
       "      <th></th>\n",
       "      <th></th>\n",
       "      <th></th>\n",
       "      <th></th>\n",
       "      <th></th>\n",
       "      <th></th>\n",
       "      <th></th>\n",
       "      <th></th>\n",
       "      <th></th>\n",
       "      <th></th>\n",
       "      <th></th>\n",
       "      <th></th>\n",
       "      <th></th>\n",
       "      <th></th>\n",
       "      <th></th>\n",
       "      <th></th>\n",
       "      <th></th>\n",
       "      <th></th>\n",
       "      <th></th>\n",
       "      <th></th>\n",
       "      <th></th>\n",
       "    </tr>\n",
       "  </thead>\n",
       "  <tbody>\n",
       "    <tr>\n",
       "      <th>Airbus A319-100</th>\n",
       "      <td>3</td>\n",
       "      <td>3</td>\n",
       "      <td>3</td>\n",
       "      <td>3</td>\n",
       "      <td>3</td>\n",
       "      <td>3</td>\n",
       "      <td>3</td>\n",
       "      <td>3</td>\n",
       "      <td>3</td>\n",
       "      <td>3</td>\n",
       "      <td>...</td>\n",
       "      <td>3</td>\n",
       "      <td>3</td>\n",
       "      <td>3</td>\n",
       "      <td>0</td>\n",
       "      <td>3</td>\n",
       "      <td>3</td>\n",
       "      <td>3</td>\n",
       "      <td>3</td>\n",
       "      <td>3</td>\n",
       "      <td>3</td>\n",
       "    </tr>\n",
       "    <tr>\n",
       "      <th>Bombardier CRJ-100</th>\n",
       "      <td>1</td>\n",
       "      <td>1</td>\n",
       "      <td>1</td>\n",
       "      <td>1</td>\n",
       "      <td>1</td>\n",
       "      <td>1</td>\n",
       "      <td>1</td>\n",
       "      <td>1</td>\n",
       "      <td>1</td>\n",
       "      <td>1</td>\n",
       "      <td>...</td>\n",
       "      <td>1</td>\n",
       "      <td>1</td>\n",
       "      <td>1</td>\n",
       "      <td>0</td>\n",
       "      <td>1</td>\n",
       "      <td>1</td>\n",
       "      <td>1</td>\n",
       "      <td>1</td>\n",
       "      <td>1</td>\n",
       "      <td>0</td>\n",
       "    </tr>\n",
       "    <tr>\n",
       "      <th>Bombardier CRJ-700</th>\n",
       "      <td>9</td>\n",
       "      <td>9</td>\n",
       "      <td>9</td>\n",
       "      <td>9</td>\n",
       "      <td>9</td>\n",
       "      <td>9</td>\n",
       "      <td>9</td>\n",
       "      <td>9</td>\n",
       "      <td>9</td>\n",
       "      <td>9</td>\n",
       "      <td>...</td>\n",
       "      <td>9</td>\n",
       "      <td>9</td>\n",
       "      <td>9</td>\n",
       "      <td>0</td>\n",
       "      <td>9</td>\n",
       "      <td>9</td>\n",
       "      <td>9</td>\n",
       "      <td>9</td>\n",
       "      <td>9</td>\n",
       "      <td>6</td>\n",
       "    </tr>\n",
       "    <tr>\n",
       "      <th>Bombardier CRJ-900</th>\n",
       "      <td>35</td>\n",
       "      <td>35</td>\n",
       "      <td>35</td>\n",
       "      <td>35</td>\n",
       "      <td>35</td>\n",
       "      <td>35</td>\n",
       "      <td>35</td>\n",
       "      <td>35</td>\n",
       "      <td>35</td>\n",
       "      <td>35</td>\n",
       "      <td>...</td>\n",
       "      <td>35</td>\n",
       "      <td>35</td>\n",
       "      <td>35</td>\n",
       "      <td>0</td>\n",
       "      <td>35</td>\n",
       "      <td>35</td>\n",
       "      <td>35</td>\n",
       "      <td>35</td>\n",
       "      <td>35</td>\n",
       "      <td>35</td>\n",
       "    </tr>\n",
       "    <tr>\n",
       "      <th>Embraer ERJ-190</th>\n",
       "      <td>9</td>\n",
       "      <td>9</td>\n",
       "      <td>9</td>\n",
       "      <td>9</td>\n",
       "      <td>9</td>\n",
       "      <td>9</td>\n",
       "      <td>9</td>\n",
       "      <td>9</td>\n",
       "      <td>9</td>\n",
       "      <td>9</td>\n",
       "      <td>...</td>\n",
       "      <td>9</td>\n",
       "      <td>9</td>\n",
       "      <td>9</td>\n",
       "      <td>0</td>\n",
       "      <td>9</td>\n",
       "      <td>9</td>\n",
       "      <td>9</td>\n",
       "      <td>9</td>\n",
       "      <td>9</td>\n",
       "      <td>9</td>\n",
       "    </tr>\n",
       "    <tr>\n",
       "      <th>Embraer ERJ-195</th>\n",
       "      <td>3</td>\n",
       "      <td>3</td>\n",
       "      <td>3</td>\n",
       "      <td>3</td>\n",
       "      <td>3</td>\n",
       "      <td>3</td>\n",
       "      <td>3</td>\n",
       "      <td>3</td>\n",
       "      <td>3</td>\n",
       "      <td>3</td>\n",
       "      <td>...</td>\n",
       "      <td>3</td>\n",
       "      <td>3</td>\n",
       "      <td>3</td>\n",
       "      <td>0</td>\n",
       "      <td>3</td>\n",
       "      <td>3</td>\n",
       "      <td>3</td>\n",
       "      <td>3</td>\n",
       "      <td>3</td>\n",
       "      <td>3</td>\n",
       "    </tr>\n",
       "  </tbody>\n",
       "</table>\n",
       "<p>6 rows × 31 columns</p>\n",
       "</div>"
      ],
      "text/plain": [
       "                    Seats  First flight  Fuel burn kg/km  \\\n",
       "Model                                                      \n",
       "Airbus A319-100         3             3                3   \n",
       "Bombardier CRJ-100      1             1                1   \n",
       "Bombardier CRJ-700      9             9                9   \n",
       "Bombardier CRJ-900     35            35               35   \n",
       "Embraer ERJ-190         9             9                9   \n",
       "Embraer ERJ-195         3             3                3   \n",
       "\n",
       "                    Fuel per seat L/100km  Sector km  CO2 per seat kg/100km  \\\n",
       "Model                                                                         \n",
       "Airbus A319-100                         3          3                      3   \n",
       "Bombardier CRJ-100                      1          1                      1   \n",
       "Bombardier CRJ-700                      9          9                      9   \n",
       "Bombardier CRJ-900                     35         35                     35   \n",
       "Embraer ERJ-190                         9          9                      9   \n",
       "Embraer ERJ-195                         3          3                      3   \n",
       "\n",
       "                    CO2 kg/km  Aircraft Manufacturer  Operator  Operator ID  \\\n",
       "Model                                                                         \n",
       "Airbus A319-100             3                      3         3            3   \n",
       "Bombardier CRJ-100          1                      1         1            1   \n",
       "Bombardier CRJ-700          9                      9         9            9   \n",
       "Bombardier CRJ-900         35                     35        35           35   \n",
       "Embraer ERJ-190             9                      9         9            9   \n",
       "Embraer ERJ-195             3                      3         3            3   \n",
       "\n",
       "                    ...  Build Country  First Customer Delivery Date  \\\n",
       "Model               ...                                                \n",
       "Airbus A319-100     ...              3                             3   \n",
       "Bombardier CRJ-100  ...              1                             1   \n",
       "Bombardier CRJ-700  ...              9                             9   \n",
       "Bombardier CRJ-900  ...             35                            35   \n",
       "Embraer ERJ-190     ...              9                             9   \n",
       "Embraer ERJ-195     ...              3                             3   \n",
       "\n",
       "                    Delivery Date Operator  Exit Date Operator  \\\n",
       "Model                                                            \n",
       "Airbus A319-100                          3                   0   \n",
       "Bombardier CRJ-100                       1                   0   \n",
       "Bombardier CRJ-700                       9                   0   \n",
       "Bombardier CRJ-900                      35                   0   \n",
       "Embraer ERJ-190                          9                   0   \n",
       "Embraer ERJ-195                          3                   0   \n",
       "\n",
       "                    Nr. of Engines  Engine Manufacturer  Engine Type  \\\n",
       "Model                                                                  \n",
       "Airbus A319-100                  3                    3            3   \n",
       "Bombardier CRJ-100               1                    1            1   \n",
       "Bombardier CRJ-700               9                    9            9   \n",
       "Bombardier CRJ-900              35                   35           35   \n",
       "Embraer ERJ-190                  9                    9            9   \n",
       "Embraer ERJ-195                  3                    3            3   \n",
       "\n",
       "                    Config (Pax/Combi/Cargo/Other)  Seat Total  Age (Years)  \n",
       "Model                                                                        \n",
       "Airbus A319-100                                  3           3            3  \n",
       "Bombardier CRJ-100                               1           1            0  \n",
       "Bombardier CRJ-700                               9           9            6  \n",
       "Bombardier CRJ-900                              35          35           35  \n",
       "Embraer ERJ-190                                  9           9            9  \n",
       "Embraer ERJ-195                                  3           3            3  \n",
       "\n",
       "[6 rows x 31 columns]"
      ]
     },
     "execution_count": 83,
     "metadata": {},
     "output_type": "execute_result"
    }
   ],
   "source": [
    "lufthansa_fleet"
   ]
  },
  {
   "cell_type": "markdown",
   "metadata": {},
   "source": [
    "We can notice that our hypothesis about regional aircrafts is confirmed. Most of *Lufthnasa CityLine* fleet are **Bombardier CRJ-900**."
   ]
  },
  {
   "cell_type": "code",
   "execution_count": 84,
   "metadata": {},
   "outputs": [],
   "source": [
    "aircrafts_used_by_big_polluters = aircrafts_airlines.reset_index().set_index(\"Operator\")\\\n",
    ".loc[big_polluters.Operator.values].groupby(\"Model\").\\\n",
    "count()[[\"Seats\"]].rename(columns={\"Seats\": \"Number of aircrafts\"})\\\n",
    ".join(all_aircrafts_corrected, how =\"inner\")"
   ]
  },
  {
   "cell_type": "code",
   "execution_count": 85,
   "metadata": {
    "scrolled": false
   },
   "outputs": [
    {
     "data": {
      "text/html": [
       "<div>\n",
       "<style scoped>\n",
       "    .dataframe tbody tr th:only-of-type {\n",
       "        vertical-align: middle;\n",
       "    }\n",
       "\n",
       "    .dataframe tbody tr th {\n",
       "        vertical-align: top;\n",
       "    }\n",
       "\n",
       "    .dataframe thead th {\n",
       "        text-align: right;\n",
       "    }\n",
       "</style>\n",
       "<table border=\"1\" class=\"dataframe\">\n",
       "  <thead>\n",
       "    <tr style=\"text-align: right;\">\n",
       "      <th></th>\n",
       "      <th>Number of aircrafts</th>\n",
       "      <th>Seats</th>\n",
       "      <th>First flight</th>\n",
       "      <th>Fuel burn kg/km</th>\n",
       "      <th>Fuel per seat L/100km</th>\n",
       "      <th>Sector km</th>\n",
       "      <th>CO2 per seat kg/100km</th>\n",
       "      <th>CO2 kg/km</th>\n",
       "    </tr>\n",
       "    <tr>\n",
       "      <th>Model</th>\n",
       "      <th></th>\n",
       "      <th></th>\n",
       "      <th></th>\n",
       "      <th></th>\n",
       "      <th></th>\n",
       "      <th></th>\n",
       "      <th></th>\n",
       "      <th></th>\n",
       "    </tr>\n",
       "  </thead>\n",
       "  <tbody>\n",
       "    <tr>\n",
       "      <th>ATR 42</th>\n",
       "      <td>23</td>\n",
       "      <td>48.0</td>\n",
       "      <td>1995.0</td>\n",
       "      <td>1.260</td>\n",
       "      <td>3.150</td>\n",
       "      <td>560.0</td>\n",
       "      <td>6.981868</td>\n",
       "      <td>3.88836</td>\n",
       "    </tr>\n",
       "    <tr>\n",
       "      <th>ATR 72</th>\n",
       "      <td>7</td>\n",
       "      <td>70.0</td>\n",
       "      <td>1997.0</td>\n",
       "      <td>1.420</td>\n",
       "      <td>2.530</td>\n",
       "      <td>560.0</td>\n",
       "      <td>5.607659</td>\n",
       "      <td>4.38212</td>\n",
       "    </tr>\n",
       "    <tr>\n",
       "      <th>Airbus A319-100</th>\n",
       "      <td>3</td>\n",
       "      <td>124.0</td>\n",
       "      <td>1995.0</td>\n",
       "      <td>2.930</td>\n",
       "      <td>2.950</td>\n",
       "      <td>1900.0</td>\n",
       "      <td>6.538575</td>\n",
       "      <td>9.04198</td>\n",
       "    </tr>\n",
       "    <tr>\n",
       "      <th>Airbus A320-200</th>\n",
       "      <td>11</td>\n",
       "      <td>150.0</td>\n",
       "      <td>1987.0</td>\n",
       "      <td>3.020</td>\n",
       "      <td>2.520</td>\n",
       "      <td>2942.0</td>\n",
       "      <td>5.585494</td>\n",
       "      <td>9.31972</td>\n",
       "    </tr>\n",
       "    <tr>\n",
       "      <th>Bombardier CRJ-100</th>\n",
       "      <td>20</td>\n",
       "      <td>50.0</td>\n",
       "      <td>1991.0</td>\n",
       "      <td>2.040</td>\n",
       "      <td>5.090</td>\n",
       "      <td>814.5</td>\n",
       "      <td>11.281812</td>\n",
       "      <td>6.29544</td>\n",
       "    </tr>\n",
       "    <tr>\n",
       "      <th>Bombardier CRJ-1000</th>\n",
       "      <td>14</td>\n",
       "      <td>100.0</td>\n",
       "      <td>2009.0</td>\n",
       "      <td>2.660</td>\n",
       "      <td>3.330</td>\n",
       "      <td>930.0</td>\n",
       "      <td>7.380832</td>\n",
       "      <td>8.20876</td>\n",
       "    </tr>\n",
       "    <tr>\n",
       "      <th>Bombardier CRJ-200</th>\n",
       "      <td>475</td>\n",
       "      <td>50.0</td>\n",
       "      <td>1995.0</td>\n",
       "      <td>1.990</td>\n",
       "      <td>4.960</td>\n",
       "      <td>815.0</td>\n",
       "      <td>10.993671</td>\n",
       "      <td>6.14114</td>\n",
       "    </tr>\n",
       "    <tr>\n",
       "      <th>Bombardier CRJ-700</th>\n",
       "      <td>189</td>\n",
       "      <td>70.0</td>\n",
       "      <td>1999.0</td>\n",
       "      <td>2.700</td>\n",
       "      <td>4.805</td>\n",
       "      <td>811.5</td>\n",
       "      <td>10.650119</td>\n",
       "      <td>8.33220</td>\n",
       "    </tr>\n",
       "    <tr>\n",
       "      <th>Bombardier CRJ-900</th>\n",
       "      <td>268</td>\n",
       "      <td>88.0</td>\n",
       "      <td>2001.0</td>\n",
       "      <td>3.125</td>\n",
       "      <td>4.425</td>\n",
       "      <td>810.5</td>\n",
       "      <td>9.807862</td>\n",
       "      <td>9.64375</td>\n",
       "    </tr>\n",
       "    <tr>\n",
       "      <th>Dornier Do-328</th>\n",
       "      <td>5</td>\n",
       "      <td>31.5</td>\n",
       "      <td>1991.0</td>\n",
       "      <td>1.150</td>\n",
       "      <td>4.555</td>\n",
       "      <td>830.0</td>\n",
       "      <td>10.096003</td>\n",
       "      <td>3.54890</td>\n",
       "    </tr>\n",
       "    <tr>\n",
       "      <th>Embraer EMB-120 Brasilia</th>\n",
       "      <td>29</td>\n",
       "      <td>30.0</td>\n",
       "      <td>1983.0</td>\n",
       "      <td>0.920</td>\n",
       "      <td>3.820</td>\n",
       "      <td>560.0</td>\n",
       "      <td>8.466900</td>\n",
       "      <td>2.83912</td>\n",
       "    </tr>\n",
       "    <tr>\n",
       "      <th>Embraer ERJ-145</th>\n",
       "      <td>332</td>\n",
       "      <td>50.0</td>\n",
       "      <td>1996.0</td>\n",
       "      <td>1.550</td>\n",
       "      <td>3.860</td>\n",
       "      <td>1107.0</td>\n",
       "      <td>8.555559</td>\n",
       "      <td>4.78330</td>\n",
       "    </tr>\n",
       "    <tr>\n",
       "      <th>Embraer ERJ-170</th>\n",
       "      <td>93</td>\n",
       "      <td>80.0</td>\n",
       "      <td>2002.0</td>\n",
       "      <td>2.600</td>\n",
       "      <td>4.080</td>\n",
       "      <td>1122.0</td>\n",
       "      <td>9.043181</td>\n",
       "      <td>8.02360</td>\n",
       "    </tr>\n",
       "    <tr>\n",
       "      <th>Embraer ERJ-175</th>\n",
       "      <td>223</td>\n",
       "      <td>88.0</td>\n",
       "      <td>2005.0</td>\n",
       "      <td>2.800</td>\n",
       "      <td>3.970</td>\n",
       "      <td>1120.0</td>\n",
       "      <td>8.799370</td>\n",
       "      <td>8.64080</td>\n",
       "    </tr>\n",
       "    <tr>\n",
       "      <th>Embraer ERJ-190</th>\n",
       "      <td>119</td>\n",
       "      <td>114.0</td>\n",
       "      <td>2004.0</td>\n",
       "      <td>3.240</td>\n",
       "      <td>3.540</td>\n",
       "      <td>1124.0</td>\n",
       "      <td>7.846290</td>\n",
       "      <td>9.99864</td>\n",
       "    </tr>\n",
       "    <tr>\n",
       "      <th>Embraer ERJ-195</th>\n",
       "      <td>3</td>\n",
       "      <td>122.0</td>\n",
       "      <td>2004.0</td>\n",
       "      <td>3.210</td>\n",
       "      <td>3.280</td>\n",
       "      <td>1124.0</td>\n",
       "      <td>7.270008</td>\n",
       "      <td>9.90606</td>\n",
       "    </tr>\n",
       "  </tbody>\n",
       "</table>\n",
       "</div>"
      ],
      "text/plain": [
       "                          Number of aircrafts  Seats  First flight  \\\n",
       "Model                                                                \n",
       "ATR 42                                     23   48.0        1995.0   \n",
       "ATR 72                                      7   70.0        1997.0   \n",
       "Airbus A319-100                             3  124.0        1995.0   \n",
       "Airbus A320-200                            11  150.0        1987.0   \n",
       "Bombardier CRJ-100                         20   50.0        1991.0   \n",
       "Bombardier CRJ-1000                        14  100.0        2009.0   \n",
       "Bombardier CRJ-200                        475   50.0        1995.0   \n",
       "Bombardier CRJ-700                        189   70.0        1999.0   \n",
       "Bombardier CRJ-900                        268   88.0        2001.0   \n",
       "Dornier Do-328                              5   31.5        1991.0   \n",
       "Embraer EMB-120 Brasilia                   29   30.0        1983.0   \n",
       "Embraer ERJ-145                           332   50.0        1996.0   \n",
       "Embraer ERJ-170                            93   80.0        2002.0   \n",
       "Embraer ERJ-175                           223   88.0        2005.0   \n",
       "Embraer ERJ-190                           119  114.0        2004.0   \n",
       "Embraer ERJ-195                             3  122.0        2004.0   \n",
       "\n",
       "                          Fuel burn kg/km  Fuel per seat L/100km  Sector km  \\\n",
       "Model                                                                         \n",
       "ATR 42                              1.260                  3.150      560.0   \n",
       "ATR 72                              1.420                  2.530      560.0   \n",
       "Airbus A319-100                     2.930                  2.950     1900.0   \n",
       "Airbus A320-200                     3.020                  2.520     2942.0   \n",
       "Bombardier CRJ-100                  2.040                  5.090      814.5   \n",
       "Bombardier CRJ-1000                 2.660                  3.330      930.0   \n",
       "Bombardier CRJ-200                  1.990                  4.960      815.0   \n",
       "Bombardier CRJ-700                  2.700                  4.805      811.5   \n",
       "Bombardier CRJ-900                  3.125                  4.425      810.5   \n",
       "Dornier Do-328                      1.150                  4.555      830.0   \n",
       "Embraer EMB-120 Brasilia            0.920                  3.820      560.0   \n",
       "Embraer ERJ-145                     1.550                  3.860     1107.0   \n",
       "Embraer ERJ-170                     2.600                  4.080     1122.0   \n",
       "Embraer ERJ-175                     2.800                  3.970     1120.0   \n",
       "Embraer ERJ-190                     3.240                  3.540     1124.0   \n",
       "Embraer ERJ-195                     3.210                  3.280     1124.0   \n",
       "\n",
       "                          CO2 per seat kg/100km  CO2 kg/km  \n",
       "Model                                                       \n",
       "ATR 42                                 6.981868    3.88836  \n",
       "ATR 72                                 5.607659    4.38212  \n",
       "Airbus A319-100                        6.538575    9.04198  \n",
       "Airbus A320-200                        5.585494    9.31972  \n",
       "Bombardier CRJ-100                    11.281812    6.29544  \n",
       "Bombardier CRJ-1000                    7.380832    8.20876  \n",
       "Bombardier CRJ-200                    10.993671    6.14114  \n",
       "Bombardier CRJ-700                    10.650119    8.33220  \n",
       "Bombardier CRJ-900                     9.807862    9.64375  \n",
       "Dornier Do-328                        10.096003    3.54890  \n",
       "Embraer EMB-120 Brasilia               8.466900    2.83912  \n",
       "Embraer ERJ-145                        8.555559    4.78330  \n",
       "Embraer ERJ-170                        9.043181    8.02360  \n",
       "Embraer ERJ-175                        8.799370    8.64080  \n",
       "Embraer ERJ-190                        7.846290    9.99864  \n",
       "Embraer ERJ-195                        7.270008    9.90606  "
      ]
     },
     "execution_count": 85,
     "metadata": {},
     "output_type": "execute_result"
    }
   ],
   "source": [
    "aircrafts_used_by_big_polluters"
   ]
  },
  {
   "cell_type": "code",
   "execution_count": 86,
   "metadata": {},
   "outputs": [
    {
     "data": {
      "application/vnd.plotly.v1+json": {
       "config": {
        "plotlyServerURL": "https://plot.ly"
       },
       "data": [
        {
         "alignmentgroup": "True",
         "hoverlabel": {
          "namelength": 0
         },
         "hovertemplate": "<b>%{hovertext}</b><br><br>Model=%{x}<br>Number of aircrafts=%{y}<br>CO2 per seat kg/100km=%{marker.color}",
         "hovertext": [
          "Airbus A320-200",
          "ATR 72",
          "Airbus A319-100",
          "ATR 42",
          "Embraer ERJ-195",
          "Bombardier CRJ-1000",
          "Embraer ERJ-190",
          "Embraer EMB-120 Brasilia",
          "Embraer ERJ-145",
          "Embraer ERJ-175",
          "Embraer ERJ-170",
          "Bombardier CRJ-900",
          "Dornier Do-328",
          "Bombardier CRJ-700",
          "Bombardier CRJ-200",
          "Bombardier CRJ-100"
         ],
         "legendgroup": "",
         "marker": {
          "color": [
           5.5854943200000005,
           5.60765898,
           6.538574700000001,
           6.9818679,
           7.2700084799999996,
           7.38083178,
           7.846289639999999,
           8.46690012,
           8.55555876,
           8.799370020000001,
           9.04318128,
           9.80786205,
           10.09600263,
           10.65011913,
           10.99367136,
           11.28181194
          ],
          "coloraxis": "coloraxis"
         },
         "name": "",
         "offsetgroup": "",
         "orientation": "v",
         "showlegend": false,
         "textposition": "auto",
         "type": "bar",
         "x": [
          "Airbus A320-200",
          "ATR 72",
          "Airbus A319-100",
          "ATR 42",
          "Embraer ERJ-195",
          "Bombardier CRJ-1000",
          "Embraer ERJ-190",
          "Embraer EMB-120 Brasilia",
          "Embraer ERJ-145",
          "Embraer ERJ-175",
          "Embraer ERJ-170",
          "Bombardier CRJ-900",
          "Dornier Do-328",
          "Bombardier CRJ-700",
          "Bombardier CRJ-200",
          "Bombardier CRJ-100"
         ],
         "xaxis": "x",
         "y": [
          11,
          7,
          3,
          23,
          3,
          14,
          119,
          29,
          332,
          223,
          93,
          268,
          5,
          189,
          475,
          20
         ],
         "yaxis": "y"
        }
       ],
       "layout": {
        "barmode": "relative",
        "coloraxis": {
         "colorbar": {
          "title": {
           "text": "CO2 per seat kg/100km"
          }
         },
         "colorscale": [
          [
           0,
           "#0d0887"
          ],
          [
           0.1111111111111111,
           "#46039f"
          ],
          [
           0.2222222222222222,
           "#7201a8"
          ],
          [
           0.3333333333333333,
           "#9c179e"
          ],
          [
           0.4444444444444444,
           "#bd3786"
          ],
          [
           0.5555555555555556,
           "#d8576b"
          ],
          [
           0.6666666666666666,
           "#ed7953"
          ],
          [
           0.7777777777777778,
           "#fb9f3a"
          ],
          [
           0.8888888888888888,
           "#fdca26"
          ],
          [
           1,
           "#f0f921"
          ]
         ]
        },
        "height": 600,
        "legend": {
         "tracegroupgap": 0
        },
        "template": {
         "data": {
          "bar": [
           {
            "error_x": {
             "color": "#2a3f5f"
            },
            "error_y": {
             "color": "#2a3f5f"
            },
            "marker": {
             "line": {
              "color": "#E5ECF6",
              "width": 0.5
             }
            },
            "type": "bar"
           }
          ],
          "barpolar": [
           {
            "marker": {
             "line": {
              "color": "#E5ECF6",
              "width": 0.5
             }
            },
            "type": "barpolar"
           }
          ],
          "carpet": [
           {
            "aaxis": {
             "endlinecolor": "#2a3f5f",
             "gridcolor": "white",
             "linecolor": "white",
             "minorgridcolor": "white",
             "startlinecolor": "#2a3f5f"
            },
            "baxis": {
             "endlinecolor": "#2a3f5f",
             "gridcolor": "white",
             "linecolor": "white",
             "minorgridcolor": "white",
             "startlinecolor": "#2a3f5f"
            },
            "type": "carpet"
           }
          ],
          "choropleth": [
           {
            "colorbar": {
             "outlinewidth": 0,
             "ticks": ""
            },
            "type": "choropleth"
           }
          ],
          "contour": [
           {
            "colorbar": {
             "outlinewidth": 0,
             "ticks": ""
            },
            "colorscale": [
             [
              0,
              "#0d0887"
             ],
             [
              0.1111111111111111,
              "#46039f"
             ],
             [
              0.2222222222222222,
              "#7201a8"
             ],
             [
              0.3333333333333333,
              "#9c179e"
             ],
             [
              0.4444444444444444,
              "#bd3786"
             ],
             [
              0.5555555555555556,
              "#d8576b"
             ],
             [
              0.6666666666666666,
              "#ed7953"
             ],
             [
              0.7777777777777778,
              "#fb9f3a"
             ],
             [
              0.8888888888888888,
              "#fdca26"
             ],
             [
              1,
              "#f0f921"
             ]
            ],
            "type": "contour"
           }
          ],
          "contourcarpet": [
           {
            "colorbar": {
             "outlinewidth": 0,
             "ticks": ""
            },
            "type": "contourcarpet"
           }
          ],
          "heatmap": [
           {
            "colorbar": {
             "outlinewidth": 0,
             "ticks": ""
            },
            "colorscale": [
             [
              0,
              "#0d0887"
             ],
             [
              0.1111111111111111,
              "#46039f"
             ],
             [
              0.2222222222222222,
              "#7201a8"
             ],
             [
              0.3333333333333333,
              "#9c179e"
             ],
             [
              0.4444444444444444,
              "#bd3786"
             ],
             [
              0.5555555555555556,
              "#d8576b"
             ],
             [
              0.6666666666666666,
              "#ed7953"
             ],
             [
              0.7777777777777778,
              "#fb9f3a"
             ],
             [
              0.8888888888888888,
              "#fdca26"
             ],
             [
              1,
              "#f0f921"
             ]
            ],
            "type": "heatmap"
           }
          ],
          "heatmapgl": [
           {
            "colorbar": {
             "outlinewidth": 0,
             "ticks": ""
            },
            "colorscale": [
             [
              0,
              "#0d0887"
             ],
             [
              0.1111111111111111,
              "#46039f"
             ],
             [
              0.2222222222222222,
              "#7201a8"
             ],
             [
              0.3333333333333333,
              "#9c179e"
             ],
             [
              0.4444444444444444,
              "#bd3786"
             ],
             [
              0.5555555555555556,
              "#d8576b"
             ],
             [
              0.6666666666666666,
              "#ed7953"
             ],
             [
              0.7777777777777778,
              "#fb9f3a"
             ],
             [
              0.8888888888888888,
              "#fdca26"
             ],
             [
              1,
              "#f0f921"
             ]
            ],
            "type": "heatmapgl"
           }
          ],
          "histogram": [
           {
            "marker": {
             "colorbar": {
              "outlinewidth": 0,
              "ticks": ""
             }
            },
            "type": "histogram"
           }
          ],
          "histogram2d": [
           {
            "colorbar": {
             "outlinewidth": 0,
             "ticks": ""
            },
            "colorscale": [
             [
              0,
              "#0d0887"
             ],
             [
              0.1111111111111111,
              "#46039f"
             ],
             [
              0.2222222222222222,
              "#7201a8"
             ],
             [
              0.3333333333333333,
              "#9c179e"
             ],
             [
              0.4444444444444444,
              "#bd3786"
             ],
             [
              0.5555555555555556,
              "#d8576b"
             ],
             [
              0.6666666666666666,
              "#ed7953"
             ],
             [
              0.7777777777777778,
              "#fb9f3a"
             ],
             [
              0.8888888888888888,
              "#fdca26"
             ],
             [
              1,
              "#f0f921"
             ]
            ],
            "type": "histogram2d"
           }
          ],
          "histogram2dcontour": [
           {
            "colorbar": {
             "outlinewidth": 0,
             "ticks": ""
            },
            "colorscale": [
             [
              0,
              "#0d0887"
             ],
             [
              0.1111111111111111,
              "#46039f"
             ],
             [
              0.2222222222222222,
              "#7201a8"
             ],
             [
              0.3333333333333333,
              "#9c179e"
             ],
             [
              0.4444444444444444,
              "#bd3786"
             ],
             [
              0.5555555555555556,
              "#d8576b"
             ],
             [
              0.6666666666666666,
              "#ed7953"
             ],
             [
              0.7777777777777778,
              "#fb9f3a"
             ],
             [
              0.8888888888888888,
              "#fdca26"
             ],
             [
              1,
              "#f0f921"
             ]
            ],
            "type": "histogram2dcontour"
           }
          ],
          "mesh3d": [
           {
            "colorbar": {
             "outlinewidth": 0,
             "ticks": ""
            },
            "type": "mesh3d"
           }
          ],
          "parcoords": [
           {
            "line": {
             "colorbar": {
              "outlinewidth": 0,
              "ticks": ""
             }
            },
            "type": "parcoords"
           }
          ],
          "pie": [
           {
            "automargin": true,
            "type": "pie"
           }
          ],
          "scatter": [
           {
            "marker": {
             "colorbar": {
              "outlinewidth": 0,
              "ticks": ""
             }
            },
            "type": "scatter"
           }
          ],
          "scatter3d": [
           {
            "line": {
             "colorbar": {
              "outlinewidth": 0,
              "ticks": ""
             }
            },
            "marker": {
             "colorbar": {
              "outlinewidth": 0,
              "ticks": ""
             }
            },
            "type": "scatter3d"
           }
          ],
          "scattercarpet": [
           {
            "marker": {
             "colorbar": {
              "outlinewidth": 0,
              "ticks": ""
             }
            },
            "type": "scattercarpet"
           }
          ],
          "scattergeo": [
           {
            "marker": {
             "colorbar": {
              "outlinewidth": 0,
              "ticks": ""
             }
            },
            "type": "scattergeo"
           }
          ],
          "scattergl": [
           {
            "marker": {
             "colorbar": {
              "outlinewidth": 0,
              "ticks": ""
             }
            },
            "type": "scattergl"
           }
          ],
          "scattermapbox": [
           {
            "marker": {
             "colorbar": {
              "outlinewidth": 0,
              "ticks": ""
             }
            },
            "type": "scattermapbox"
           }
          ],
          "scatterpolar": [
           {
            "marker": {
             "colorbar": {
              "outlinewidth": 0,
              "ticks": ""
             }
            },
            "type": "scatterpolar"
           }
          ],
          "scatterpolargl": [
           {
            "marker": {
             "colorbar": {
              "outlinewidth": 0,
              "ticks": ""
             }
            },
            "type": "scatterpolargl"
           }
          ],
          "scatterternary": [
           {
            "marker": {
             "colorbar": {
              "outlinewidth": 0,
              "ticks": ""
             }
            },
            "type": "scatterternary"
           }
          ],
          "surface": [
           {
            "colorbar": {
             "outlinewidth": 0,
             "ticks": ""
            },
            "colorscale": [
             [
              0,
              "#0d0887"
             ],
             [
              0.1111111111111111,
              "#46039f"
             ],
             [
              0.2222222222222222,
              "#7201a8"
             ],
             [
              0.3333333333333333,
              "#9c179e"
             ],
             [
              0.4444444444444444,
              "#bd3786"
             ],
             [
              0.5555555555555556,
              "#d8576b"
             ],
             [
              0.6666666666666666,
              "#ed7953"
             ],
             [
              0.7777777777777778,
              "#fb9f3a"
             ],
             [
              0.8888888888888888,
              "#fdca26"
             ],
             [
              1,
              "#f0f921"
             ]
            ],
            "type": "surface"
           }
          ],
          "table": [
           {
            "cells": {
             "fill": {
              "color": "#EBF0F8"
             },
             "line": {
              "color": "white"
             }
            },
            "header": {
             "fill": {
              "color": "#C8D4E3"
             },
             "line": {
              "color": "white"
             }
            },
            "type": "table"
           }
          ]
         },
         "layout": {
          "annotationdefaults": {
           "arrowcolor": "#2a3f5f",
           "arrowhead": 0,
           "arrowwidth": 1
          },
          "coloraxis": {
           "colorbar": {
            "outlinewidth": 0,
            "ticks": ""
           }
          },
          "colorscale": {
           "diverging": [
            [
             0,
             "#8e0152"
            ],
            [
             0.1,
             "#c51b7d"
            ],
            [
             0.2,
             "#de77ae"
            ],
            [
             0.3,
             "#f1b6da"
            ],
            [
             0.4,
             "#fde0ef"
            ],
            [
             0.5,
             "#f7f7f7"
            ],
            [
             0.6,
             "#e6f5d0"
            ],
            [
             0.7,
             "#b8e186"
            ],
            [
             0.8,
             "#7fbc41"
            ],
            [
             0.9,
             "#4d9221"
            ],
            [
             1,
             "#276419"
            ]
           ],
           "sequential": [
            [
             0,
             "#0d0887"
            ],
            [
             0.1111111111111111,
             "#46039f"
            ],
            [
             0.2222222222222222,
             "#7201a8"
            ],
            [
             0.3333333333333333,
             "#9c179e"
            ],
            [
             0.4444444444444444,
             "#bd3786"
            ],
            [
             0.5555555555555556,
             "#d8576b"
            ],
            [
             0.6666666666666666,
             "#ed7953"
            ],
            [
             0.7777777777777778,
             "#fb9f3a"
            ],
            [
             0.8888888888888888,
             "#fdca26"
            ],
            [
             1,
             "#f0f921"
            ]
           ],
           "sequentialminus": [
            [
             0,
             "#0d0887"
            ],
            [
             0.1111111111111111,
             "#46039f"
            ],
            [
             0.2222222222222222,
             "#7201a8"
            ],
            [
             0.3333333333333333,
             "#9c179e"
            ],
            [
             0.4444444444444444,
             "#bd3786"
            ],
            [
             0.5555555555555556,
             "#d8576b"
            ],
            [
             0.6666666666666666,
             "#ed7953"
            ],
            [
             0.7777777777777778,
             "#fb9f3a"
            ],
            [
             0.8888888888888888,
             "#fdca26"
            ],
            [
             1,
             "#f0f921"
            ]
           ]
          },
          "colorway": [
           "#636efa",
           "#EF553B",
           "#00cc96",
           "#ab63fa",
           "#FFA15A",
           "#19d3f3",
           "#FF6692",
           "#B6E880",
           "#FF97FF",
           "#FECB52"
          ],
          "font": {
           "color": "#2a3f5f"
          },
          "geo": {
           "bgcolor": "white",
           "lakecolor": "white",
           "landcolor": "#E5ECF6",
           "showlakes": true,
           "showland": true,
           "subunitcolor": "white"
          },
          "hoverlabel": {
           "align": "left"
          },
          "hovermode": "closest",
          "mapbox": {
           "style": "light"
          },
          "paper_bgcolor": "white",
          "plot_bgcolor": "#E5ECF6",
          "polar": {
           "angularaxis": {
            "gridcolor": "white",
            "linecolor": "white",
            "ticks": ""
           },
           "bgcolor": "#E5ECF6",
           "radialaxis": {
            "gridcolor": "white",
            "linecolor": "white",
            "ticks": ""
           }
          },
          "scene": {
           "xaxis": {
            "backgroundcolor": "#E5ECF6",
            "gridcolor": "white",
            "gridwidth": 2,
            "linecolor": "white",
            "showbackground": true,
            "ticks": "",
            "zerolinecolor": "white"
           },
           "yaxis": {
            "backgroundcolor": "#E5ECF6",
            "gridcolor": "white",
            "gridwidth": 2,
            "linecolor": "white",
            "showbackground": true,
            "ticks": "",
            "zerolinecolor": "white"
           },
           "zaxis": {
            "backgroundcolor": "#E5ECF6",
            "gridcolor": "white",
            "gridwidth": 2,
            "linecolor": "white",
            "showbackground": true,
            "ticks": "",
            "zerolinecolor": "white"
           }
          },
          "shapedefaults": {
           "line": {
            "color": "#2a3f5f"
           }
          },
          "ternary": {
           "aaxis": {
            "gridcolor": "white",
            "linecolor": "white",
            "ticks": ""
           },
           "baxis": {
            "gridcolor": "white",
            "linecolor": "white",
            "ticks": ""
           },
           "bgcolor": "#E5ECF6",
           "caxis": {
            "gridcolor": "white",
            "linecolor": "white",
            "ticks": ""
           }
          },
          "title": {
           "x": 0.05
          },
          "xaxis": {
           "automargin": true,
           "gridcolor": "white",
           "linecolor": "white",
           "ticks": "",
           "title": {
            "standoff": 15
           },
           "zerolinecolor": "white",
           "zerolinewidth": 2
          },
          "yaxis": {
           "automargin": true,
           "gridcolor": "white",
           "linecolor": "white",
           "ticks": "",
           "title": {
            "standoff": 15
           },
           "zerolinecolor": "white",
           "zerolinewidth": 2
          }
         }
        },
        "title": {
         "text": "Jet's used for regional flights. Colors indicate CO2 per seat"
        },
        "xaxis": {
         "anchor": "y",
         "domain": [
          0,
          1
         ],
         "title": {
          "text": "Model"
         }
        },
        "yaxis": {
         "anchor": "x",
         "domain": [
          0,
          1
         ],
         "title": {
          "text": "Number of aircrafts"
         }
        }
       }
      },
      "text/html": [
       "<div>\n",
       "        \n",
       "        \n",
       "            <div id=\"1dc889dc-89da-4af5-b3f2-220bb75dbcb9\" class=\"plotly-graph-div\" style=\"height:600px; width:100%;\"></div>\n",
       "            <script type=\"text/javascript\">\n",
       "                require([\"plotly\"], function(Plotly) {\n",
       "                    window.PLOTLYENV=window.PLOTLYENV || {};\n",
       "                    \n",
       "                if (document.getElementById(\"1dc889dc-89da-4af5-b3f2-220bb75dbcb9\")) {\n",
       "                    Plotly.newPlot(\n",
       "                        '1dc889dc-89da-4af5-b3f2-220bb75dbcb9',\n",
       "                        [{\"alignmentgroup\": \"True\", \"hoverlabel\": {\"namelength\": 0}, \"hovertemplate\": \"<b>%{hovertext}</b><br><br>Model=%{x}<br>Number of aircrafts=%{y}<br>CO2 per seat kg/100km=%{marker.color}\", \"hovertext\": [\"Airbus A320-200\", \"ATR 72\", \"Airbus A319-100\", \"ATR 42\", \"Embraer ERJ-195\", \"Bombardier CRJ-1000\", \"Embraer ERJ-190\", \"Embraer EMB-120 Brasilia\", \"Embraer ERJ-145\", \"Embraer ERJ-175\", \"Embraer ERJ-170\", \"Bombardier CRJ-900\", \"Dornier Do-328\", \"Bombardier CRJ-700\", \"Bombardier CRJ-200\", \"Bombardier CRJ-100\"], \"legendgroup\": \"\", \"marker\": {\"color\": [5.5854943200000005, 5.60765898, 6.538574700000001, 6.9818679, 7.2700084799999996, 7.38083178, 7.846289639999999, 8.46690012, 8.55555876, 8.799370020000001, 9.04318128, 9.80786205, 10.09600263, 10.65011913, 10.99367136, 11.28181194], \"coloraxis\": \"coloraxis\"}, \"name\": \"\", \"offsetgroup\": \"\", \"orientation\": \"v\", \"showlegend\": false, \"textposition\": \"auto\", \"type\": \"bar\", \"x\": [\"Airbus A320-200\", \"ATR 72\", \"Airbus A319-100\", \"ATR 42\", \"Embraer ERJ-195\", \"Bombardier CRJ-1000\", \"Embraer ERJ-190\", \"Embraer EMB-120 Brasilia\", \"Embraer ERJ-145\", \"Embraer ERJ-175\", \"Embraer ERJ-170\", \"Bombardier CRJ-900\", \"Dornier Do-328\", \"Bombardier CRJ-700\", \"Bombardier CRJ-200\", \"Bombardier CRJ-100\"], \"xaxis\": \"x\", \"y\": [11, 7, 3, 23, 3, 14, 119, 29, 332, 223, 93, 268, 5, 189, 475, 20], \"yaxis\": \"y\"}],\n",
       "                        {\"barmode\": \"relative\", \"coloraxis\": {\"colorbar\": {\"title\": {\"text\": \"CO2 per seat kg/100km\"}}, \"colorscale\": [[0.0, \"#0d0887\"], [0.1111111111111111, \"#46039f\"], [0.2222222222222222, \"#7201a8\"], [0.3333333333333333, \"#9c179e\"], [0.4444444444444444, \"#bd3786\"], [0.5555555555555556, \"#d8576b\"], [0.6666666666666666, \"#ed7953\"], [0.7777777777777778, \"#fb9f3a\"], [0.8888888888888888, \"#fdca26\"], [1.0, \"#f0f921\"]]}, \"height\": 600, \"legend\": {\"tracegroupgap\": 0}, \"template\": {\"data\": {\"bar\": [{\"error_x\": {\"color\": \"#2a3f5f\"}, \"error_y\": {\"color\": \"#2a3f5f\"}, \"marker\": {\"line\": {\"color\": \"#E5ECF6\", \"width\": 0.5}}, \"type\": \"bar\"}], \"barpolar\": [{\"marker\": {\"line\": {\"color\": \"#E5ECF6\", \"width\": 0.5}}, \"type\": \"barpolar\"}], \"carpet\": [{\"aaxis\": {\"endlinecolor\": \"#2a3f5f\", \"gridcolor\": \"white\", \"linecolor\": \"white\", \"minorgridcolor\": \"white\", \"startlinecolor\": \"#2a3f5f\"}, \"baxis\": {\"endlinecolor\": \"#2a3f5f\", \"gridcolor\": \"white\", \"linecolor\": \"white\", \"minorgridcolor\": \"white\", \"startlinecolor\": \"#2a3f5f\"}, \"type\": \"carpet\"}], \"choropleth\": [{\"colorbar\": {\"outlinewidth\": 0, \"ticks\": \"\"}, \"type\": \"choropleth\"}], \"contour\": [{\"colorbar\": {\"outlinewidth\": 0, \"ticks\": \"\"}, \"colorscale\": [[0.0, \"#0d0887\"], [0.1111111111111111, \"#46039f\"], [0.2222222222222222, \"#7201a8\"], [0.3333333333333333, \"#9c179e\"], [0.4444444444444444, \"#bd3786\"], [0.5555555555555556, \"#d8576b\"], [0.6666666666666666, \"#ed7953\"], [0.7777777777777778, \"#fb9f3a\"], [0.8888888888888888, \"#fdca26\"], [1.0, \"#f0f921\"]], \"type\": \"contour\"}], \"contourcarpet\": [{\"colorbar\": {\"outlinewidth\": 0, \"ticks\": \"\"}, \"type\": \"contourcarpet\"}], \"heatmap\": [{\"colorbar\": {\"outlinewidth\": 0, \"ticks\": \"\"}, \"colorscale\": [[0.0, \"#0d0887\"], [0.1111111111111111, \"#46039f\"], [0.2222222222222222, \"#7201a8\"], [0.3333333333333333, \"#9c179e\"], [0.4444444444444444, \"#bd3786\"], [0.5555555555555556, \"#d8576b\"], [0.6666666666666666, \"#ed7953\"], [0.7777777777777778, \"#fb9f3a\"], [0.8888888888888888, \"#fdca26\"], [1.0, \"#f0f921\"]], \"type\": \"heatmap\"}], \"heatmapgl\": [{\"colorbar\": {\"outlinewidth\": 0, \"ticks\": \"\"}, \"colorscale\": [[0.0, \"#0d0887\"], [0.1111111111111111, \"#46039f\"], [0.2222222222222222, \"#7201a8\"], [0.3333333333333333, \"#9c179e\"], [0.4444444444444444, \"#bd3786\"], [0.5555555555555556, \"#d8576b\"], [0.6666666666666666, \"#ed7953\"], [0.7777777777777778, \"#fb9f3a\"], [0.8888888888888888, \"#fdca26\"], [1.0, \"#f0f921\"]], \"type\": \"heatmapgl\"}], \"histogram\": [{\"marker\": {\"colorbar\": {\"outlinewidth\": 0, \"ticks\": \"\"}}, \"type\": \"histogram\"}], \"histogram2d\": [{\"colorbar\": {\"outlinewidth\": 0, \"ticks\": \"\"}, \"colorscale\": [[0.0, \"#0d0887\"], [0.1111111111111111, \"#46039f\"], [0.2222222222222222, \"#7201a8\"], [0.3333333333333333, \"#9c179e\"], [0.4444444444444444, \"#bd3786\"], [0.5555555555555556, \"#d8576b\"], [0.6666666666666666, \"#ed7953\"], [0.7777777777777778, \"#fb9f3a\"], [0.8888888888888888, \"#fdca26\"], [1.0, \"#f0f921\"]], \"type\": \"histogram2d\"}], \"histogram2dcontour\": [{\"colorbar\": {\"outlinewidth\": 0, \"ticks\": \"\"}, \"colorscale\": [[0.0, \"#0d0887\"], [0.1111111111111111, \"#46039f\"], [0.2222222222222222, \"#7201a8\"], [0.3333333333333333, \"#9c179e\"], [0.4444444444444444, \"#bd3786\"], [0.5555555555555556, \"#d8576b\"], [0.6666666666666666, \"#ed7953\"], [0.7777777777777778, \"#fb9f3a\"], [0.8888888888888888, \"#fdca26\"], [1.0, \"#f0f921\"]], \"type\": \"histogram2dcontour\"}], \"mesh3d\": [{\"colorbar\": {\"outlinewidth\": 0, \"ticks\": \"\"}, \"type\": \"mesh3d\"}], \"parcoords\": [{\"line\": {\"colorbar\": {\"outlinewidth\": 0, \"ticks\": \"\"}}, \"type\": \"parcoords\"}], \"pie\": [{\"automargin\": true, \"type\": \"pie\"}], \"scatter\": [{\"marker\": {\"colorbar\": {\"outlinewidth\": 0, \"ticks\": \"\"}}, \"type\": \"scatter\"}], \"scatter3d\": [{\"line\": {\"colorbar\": {\"outlinewidth\": 0, \"ticks\": \"\"}}, \"marker\": {\"colorbar\": {\"outlinewidth\": 0, \"ticks\": \"\"}}, \"type\": \"scatter3d\"}], \"scattercarpet\": [{\"marker\": {\"colorbar\": {\"outlinewidth\": 0, \"ticks\": \"\"}}, \"type\": \"scattercarpet\"}], \"scattergeo\": [{\"marker\": {\"colorbar\": {\"outlinewidth\": 0, \"ticks\": \"\"}}, \"type\": \"scattergeo\"}], \"scattergl\": [{\"marker\": {\"colorbar\": {\"outlinewidth\": 0, \"ticks\": \"\"}}, \"type\": \"scattergl\"}], \"scattermapbox\": [{\"marker\": {\"colorbar\": {\"outlinewidth\": 0, \"ticks\": \"\"}}, \"type\": \"scattermapbox\"}], \"scatterpolar\": [{\"marker\": {\"colorbar\": {\"outlinewidth\": 0, \"ticks\": \"\"}}, \"type\": \"scatterpolar\"}], \"scatterpolargl\": [{\"marker\": {\"colorbar\": {\"outlinewidth\": 0, \"ticks\": \"\"}}, \"type\": \"scatterpolargl\"}], \"scatterternary\": [{\"marker\": {\"colorbar\": {\"outlinewidth\": 0, \"ticks\": \"\"}}, \"type\": \"scatterternary\"}], \"surface\": [{\"colorbar\": {\"outlinewidth\": 0, \"ticks\": \"\"}, \"colorscale\": [[0.0, \"#0d0887\"], [0.1111111111111111, \"#46039f\"], [0.2222222222222222, \"#7201a8\"], [0.3333333333333333, \"#9c179e\"], [0.4444444444444444, \"#bd3786\"], [0.5555555555555556, \"#d8576b\"], [0.6666666666666666, \"#ed7953\"], [0.7777777777777778, \"#fb9f3a\"], [0.8888888888888888, \"#fdca26\"], [1.0, \"#f0f921\"]], \"type\": \"surface\"}], \"table\": [{\"cells\": {\"fill\": {\"color\": \"#EBF0F8\"}, \"line\": {\"color\": \"white\"}}, \"header\": {\"fill\": {\"color\": \"#C8D4E3\"}, \"line\": {\"color\": \"white\"}}, \"type\": \"table\"}]}, \"layout\": {\"annotationdefaults\": {\"arrowcolor\": \"#2a3f5f\", \"arrowhead\": 0, \"arrowwidth\": 1}, \"coloraxis\": {\"colorbar\": {\"outlinewidth\": 0, \"ticks\": \"\"}}, \"colorscale\": {\"diverging\": [[0, \"#8e0152\"], [0.1, \"#c51b7d\"], [0.2, \"#de77ae\"], [0.3, \"#f1b6da\"], [0.4, \"#fde0ef\"], [0.5, \"#f7f7f7\"], [0.6, \"#e6f5d0\"], [0.7, \"#b8e186\"], [0.8, \"#7fbc41\"], [0.9, \"#4d9221\"], [1, \"#276419\"]], \"sequential\": [[0.0, \"#0d0887\"], [0.1111111111111111, \"#46039f\"], [0.2222222222222222, \"#7201a8\"], [0.3333333333333333, \"#9c179e\"], [0.4444444444444444, \"#bd3786\"], [0.5555555555555556, \"#d8576b\"], [0.6666666666666666, \"#ed7953\"], [0.7777777777777778, \"#fb9f3a\"], [0.8888888888888888, \"#fdca26\"], [1.0, \"#f0f921\"]], \"sequentialminus\": [[0.0, \"#0d0887\"], [0.1111111111111111, \"#46039f\"], [0.2222222222222222, \"#7201a8\"], [0.3333333333333333, \"#9c179e\"], [0.4444444444444444, \"#bd3786\"], [0.5555555555555556, \"#d8576b\"], [0.6666666666666666, \"#ed7953\"], [0.7777777777777778, \"#fb9f3a\"], [0.8888888888888888, \"#fdca26\"], [1.0, \"#f0f921\"]]}, \"colorway\": [\"#636efa\", \"#EF553B\", \"#00cc96\", \"#ab63fa\", \"#FFA15A\", \"#19d3f3\", \"#FF6692\", \"#B6E880\", \"#FF97FF\", \"#FECB52\"], \"font\": {\"color\": \"#2a3f5f\"}, \"geo\": {\"bgcolor\": \"white\", \"lakecolor\": \"white\", \"landcolor\": \"#E5ECF6\", \"showlakes\": true, \"showland\": true, \"subunitcolor\": \"white\"}, \"hoverlabel\": {\"align\": \"left\"}, \"hovermode\": \"closest\", \"mapbox\": {\"style\": \"light\"}, \"paper_bgcolor\": \"white\", \"plot_bgcolor\": \"#E5ECF6\", \"polar\": {\"angularaxis\": {\"gridcolor\": \"white\", \"linecolor\": \"white\", \"ticks\": \"\"}, \"bgcolor\": \"#E5ECF6\", \"radialaxis\": {\"gridcolor\": \"white\", \"linecolor\": \"white\", \"ticks\": \"\"}}, \"scene\": {\"xaxis\": {\"backgroundcolor\": \"#E5ECF6\", \"gridcolor\": \"white\", \"gridwidth\": 2, \"linecolor\": \"white\", \"showbackground\": true, \"ticks\": \"\", \"zerolinecolor\": \"white\"}, \"yaxis\": {\"backgroundcolor\": \"#E5ECF6\", \"gridcolor\": \"white\", \"gridwidth\": 2, \"linecolor\": \"white\", \"showbackground\": true, \"ticks\": \"\", \"zerolinecolor\": \"white\"}, \"zaxis\": {\"backgroundcolor\": \"#E5ECF6\", \"gridcolor\": \"white\", \"gridwidth\": 2, \"linecolor\": \"white\", \"showbackground\": true, \"ticks\": \"\", \"zerolinecolor\": \"white\"}}, \"shapedefaults\": {\"line\": {\"color\": \"#2a3f5f\"}}, \"ternary\": {\"aaxis\": {\"gridcolor\": \"white\", \"linecolor\": \"white\", \"ticks\": \"\"}, \"baxis\": {\"gridcolor\": \"white\", \"linecolor\": \"white\", \"ticks\": \"\"}, \"bgcolor\": \"#E5ECF6\", \"caxis\": {\"gridcolor\": \"white\", \"linecolor\": \"white\", \"ticks\": \"\"}}, \"title\": {\"x\": 0.05}, \"xaxis\": {\"automargin\": true, \"gridcolor\": \"white\", \"linecolor\": \"white\", \"ticks\": \"\", \"title\": {\"standoff\": 15}, \"zerolinecolor\": \"white\", \"zerolinewidth\": 2}, \"yaxis\": {\"automargin\": true, \"gridcolor\": \"white\", \"linecolor\": \"white\", \"ticks\": \"\", \"title\": {\"standoff\": 15}, \"zerolinecolor\": \"white\", \"zerolinewidth\": 2}}}, \"title\": {\"text\": \"Jet's used for regional flights. Colors indicate CO2 per seat\"}, \"xaxis\": {\"anchor\": \"y\", \"domain\": [0.0, 1.0], \"title\": {\"text\": \"Model\"}}, \"yaxis\": {\"anchor\": \"x\", \"domain\": [0.0, 1.0], \"title\": {\"text\": \"Number of aircrafts\"}}},\n",
       "                        {\"responsive\": true}\n",
       "                    ).then(function(){\n",
       "                            \n",
       "var gd = document.getElementById('1dc889dc-89da-4af5-b3f2-220bb75dbcb9');\n",
       "var x = new MutationObserver(function (mutations, observer) {{\n",
       "        var display = window.getComputedStyle(gd).display;\n",
       "        if (!display || display === 'none') {{\n",
       "            console.log([gd, 'removed!']);\n",
       "            Plotly.purge(gd);\n",
       "            observer.disconnect();\n",
       "        }}\n",
       "}});\n",
       "\n",
       "// Listen for the removal of the full notebook cells\n",
       "var notebookContainer = gd.closest('#notebook-container');\n",
       "if (notebookContainer) {{\n",
       "    x.observe(notebookContainer, {childList: true});\n",
       "}}\n",
       "\n",
       "// Listen for the clearing of the current output cell\n",
       "var outputEl = gd.closest('.output');\n",
       "if (outputEl) {{\n",
       "    x.observe(outputEl, {childList: true});\n",
       "}}\n",
       "\n",
       "                        })\n",
       "                };\n",
       "                });\n",
       "            </script>\n",
       "        </div>"
      ]
     },
     "metadata": {},
     "output_type": "display_data"
    }
   ],
   "source": [
    "px.bar(data_frame=aircrafts_used_by_big_polluters.sort_values(\"CO2 per seat kg/100km\").reset_index(),\n",
    "             x = \"Model\",\n",
    "             y = \"Number of aircrafts\",\n",
    "             hover_name=\"Model\",\n",
    "             color= \"CO2 per seat kg/100km\",\n",
    "             color_discrete_sequence=np.repeat(px.colors.sequential.Inferno, 3),\n",
    "             title=\"Jet's used for regional flights. Colors indicate CO2 per seat\",\n",
    "            )"
   ]
  },
  {
   "cell_type": "code",
   "execution_count": 87,
   "metadata": {},
   "outputs": [
    {
     "data": {
      "application/vnd.plotly.v1+json": {
       "config": {
        "plotlyServerURL": "https://plot.ly"
       },
       "data": [
        {
         "alignmentgroup": "True",
         "boxpoints": "all",
         "customdata": [
          [
           3.88836,
           6.9818679
          ],
          [
           4.38212,
           5.60765898
          ],
          [
           9.04198,
           6.538574700000001
          ],
          [
           9.31972,
           5.5854943200000005
          ],
          [
           6.295439999999999,
           11.28181194
          ],
          [
           8.20876,
           7.38083178
          ],
          [
           6.14114,
           10.99367136
          ],
          [
           8.3322,
           10.65011913
          ],
          [
           9.64375,
           9.80786205
          ],
          [
           3.5488999999999997,
           10.09600263
          ],
          [
           2.83912,
           8.46690012
          ],
          [
           4.7833,
           8.55555876
          ],
          [
           8.0236,
           9.04318128
          ],
          [
           8.640799999999999,
           8.799370020000001
          ],
          [
           9.99864,
           7.846289639999999
          ],
          [
           9.90606,
           7.2700084799999996
          ]
         ],
         "hoverlabel": {
          "namelength": 0
         },
         "hovertemplate": "<b>%{hovertext}</b><br><br>CO2 per seat kg/100km=%{customdata[1]}<br>Sector km=%{y}<br>CO2 kg/km=%{customdata[0]}",
         "hovertext": [
          "ATR 42",
          "ATR 72",
          "Airbus A319-100",
          "Airbus A320-200",
          "Bombardier CRJ-100",
          "Bombardier CRJ-1000",
          "Bombardier CRJ-200",
          "Bombardier CRJ-700",
          "Bombardier CRJ-900",
          "Dornier Do-328",
          "Embraer EMB-120 Brasilia",
          "Embraer ERJ-145",
          "Embraer ERJ-170",
          "Embraer ERJ-175",
          "Embraer ERJ-190",
          "Embraer ERJ-195"
         ],
         "legendgroup": "",
         "marker": {
          "color": "#636efa"
         },
         "name": "",
         "notched": false,
         "offsetgroup": "",
         "orientation": "v",
         "showlegend": false,
         "type": "box",
         "x": [
          6.9818679,
          5.60765898,
          6.538574700000001,
          5.5854943200000005,
          11.28181194,
          7.38083178,
          10.99367136,
          10.65011913,
          9.80786205,
          10.09600263,
          8.46690012,
          8.55555876,
          9.04318128,
          8.799370020000001,
          7.846289639999999,
          7.2700084799999996
         ],
         "x0": " ",
         "xaxis": "x",
         "y": [
          560,
          560,
          1900,
          2942,
          814.5,
          930,
          815,
          811.5,
          810.5,
          830,
          560,
          1107,
          1122,
          1120,
          1124,
          1124
         ],
         "y0": " ",
         "yaxis": "y"
        }
       ],
       "layout": {
        "boxmode": "group",
        "height": 600,
        "legend": {
         "tracegroupgap": 0
        },
        "margin": {
         "t": 60
        },
        "template": {
         "data": {
          "bar": [
           {
            "error_x": {
             "color": "#2a3f5f"
            },
            "error_y": {
             "color": "#2a3f5f"
            },
            "marker": {
             "line": {
              "color": "#E5ECF6",
              "width": 0.5
             }
            },
            "type": "bar"
           }
          ],
          "barpolar": [
           {
            "marker": {
             "line": {
              "color": "#E5ECF6",
              "width": 0.5
             }
            },
            "type": "barpolar"
           }
          ],
          "carpet": [
           {
            "aaxis": {
             "endlinecolor": "#2a3f5f",
             "gridcolor": "white",
             "linecolor": "white",
             "minorgridcolor": "white",
             "startlinecolor": "#2a3f5f"
            },
            "baxis": {
             "endlinecolor": "#2a3f5f",
             "gridcolor": "white",
             "linecolor": "white",
             "minorgridcolor": "white",
             "startlinecolor": "#2a3f5f"
            },
            "type": "carpet"
           }
          ],
          "choropleth": [
           {
            "colorbar": {
             "outlinewidth": 0,
             "ticks": ""
            },
            "type": "choropleth"
           }
          ],
          "contour": [
           {
            "colorbar": {
             "outlinewidth": 0,
             "ticks": ""
            },
            "colorscale": [
             [
              0,
              "#0d0887"
             ],
             [
              0.1111111111111111,
              "#46039f"
             ],
             [
              0.2222222222222222,
              "#7201a8"
             ],
             [
              0.3333333333333333,
              "#9c179e"
             ],
             [
              0.4444444444444444,
              "#bd3786"
             ],
             [
              0.5555555555555556,
              "#d8576b"
             ],
             [
              0.6666666666666666,
              "#ed7953"
             ],
             [
              0.7777777777777778,
              "#fb9f3a"
             ],
             [
              0.8888888888888888,
              "#fdca26"
             ],
             [
              1,
              "#f0f921"
             ]
            ],
            "type": "contour"
           }
          ],
          "contourcarpet": [
           {
            "colorbar": {
             "outlinewidth": 0,
             "ticks": ""
            },
            "type": "contourcarpet"
           }
          ],
          "heatmap": [
           {
            "colorbar": {
             "outlinewidth": 0,
             "ticks": ""
            },
            "colorscale": [
             [
              0,
              "#0d0887"
             ],
             [
              0.1111111111111111,
              "#46039f"
             ],
             [
              0.2222222222222222,
              "#7201a8"
             ],
             [
              0.3333333333333333,
              "#9c179e"
             ],
             [
              0.4444444444444444,
              "#bd3786"
             ],
             [
              0.5555555555555556,
              "#d8576b"
             ],
             [
              0.6666666666666666,
              "#ed7953"
             ],
             [
              0.7777777777777778,
              "#fb9f3a"
             ],
             [
              0.8888888888888888,
              "#fdca26"
             ],
             [
              1,
              "#f0f921"
             ]
            ],
            "type": "heatmap"
           }
          ],
          "heatmapgl": [
           {
            "colorbar": {
             "outlinewidth": 0,
             "ticks": ""
            },
            "colorscale": [
             [
              0,
              "#0d0887"
             ],
             [
              0.1111111111111111,
              "#46039f"
             ],
             [
              0.2222222222222222,
              "#7201a8"
             ],
             [
              0.3333333333333333,
              "#9c179e"
             ],
             [
              0.4444444444444444,
              "#bd3786"
             ],
             [
              0.5555555555555556,
              "#d8576b"
             ],
             [
              0.6666666666666666,
              "#ed7953"
             ],
             [
              0.7777777777777778,
              "#fb9f3a"
             ],
             [
              0.8888888888888888,
              "#fdca26"
             ],
             [
              1,
              "#f0f921"
             ]
            ],
            "type": "heatmapgl"
           }
          ],
          "histogram": [
           {
            "marker": {
             "colorbar": {
              "outlinewidth": 0,
              "ticks": ""
             }
            },
            "type": "histogram"
           }
          ],
          "histogram2d": [
           {
            "colorbar": {
             "outlinewidth": 0,
             "ticks": ""
            },
            "colorscale": [
             [
              0,
              "#0d0887"
             ],
             [
              0.1111111111111111,
              "#46039f"
             ],
             [
              0.2222222222222222,
              "#7201a8"
             ],
             [
              0.3333333333333333,
              "#9c179e"
             ],
             [
              0.4444444444444444,
              "#bd3786"
             ],
             [
              0.5555555555555556,
              "#d8576b"
             ],
             [
              0.6666666666666666,
              "#ed7953"
             ],
             [
              0.7777777777777778,
              "#fb9f3a"
             ],
             [
              0.8888888888888888,
              "#fdca26"
             ],
             [
              1,
              "#f0f921"
             ]
            ],
            "type": "histogram2d"
           }
          ],
          "histogram2dcontour": [
           {
            "colorbar": {
             "outlinewidth": 0,
             "ticks": ""
            },
            "colorscale": [
             [
              0,
              "#0d0887"
             ],
             [
              0.1111111111111111,
              "#46039f"
             ],
             [
              0.2222222222222222,
              "#7201a8"
             ],
             [
              0.3333333333333333,
              "#9c179e"
             ],
             [
              0.4444444444444444,
              "#bd3786"
             ],
             [
              0.5555555555555556,
              "#d8576b"
             ],
             [
              0.6666666666666666,
              "#ed7953"
             ],
             [
              0.7777777777777778,
              "#fb9f3a"
             ],
             [
              0.8888888888888888,
              "#fdca26"
             ],
             [
              1,
              "#f0f921"
             ]
            ],
            "type": "histogram2dcontour"
           }
          ],
          "mesh3d": [
           {
            "colorbar": {
             "outlinewidth": 0,
             "ticks": ""
            },
            "type": "mesh3d"
           }
          ],
          "parcoords": [
           {
            "line": {
             "colorbar": {
              "outlinewidth": 0,
              "ticks": ""
             }
            },
            "type": "parcoords"
           }
          ],
          "pie": [
           {
            "automargin": true,
            "type": "pie"
           }
          ],
          "scatter": [
           {
            "marker": {
             "colorbar": {
              "outlinewidth": 0,
              "ticks": ""
             }
            },
            "type": "scatter"
           }
          ],
          "scatter3d": [
           {
            "line": {
             "colorbar": {
              "outlinewidth": 0,
              "ticks": ""
             }
            },
            "marker": {
             "colorbar": {
              "outlinewidth": 0,
              "ticks": ""
             }
            },
            "type": "scatter3d"
           }
          ],
          "scattercarpet": [
           {
            "marker": {
             "colorbar": {
              "outlinewidth": 0,
              "ticks": ""
             }
            },
            "type": "scattercarpet"
           }
          ],
          "scattergeo": [
           {
            "marker": {
             "colorbar": {
              "outlinewidth": 0,
              "ticks": ""
             }
            },
            "type": "scattergeo"
           }
          ],
          "scattergl": [
           {
            "marker": {
             "colorbar": {
              "outlinewidth": 0,
              "ticks": ""
             }
            },
            "type": "scattergl"
           }
          ],
          "scattermapbox": [
           {
            "marker": {
             "colorbar": {
              "outlinewidth": 0,
              "ticks": ""
             }
            },
            "type": "scattermapbox"
           }
          ],
          "scatterpolar": [
           {
            "marker": {
             "colorbar": {
              "outlinewidth": 0,
              "ticks": ""
             }
            },
            "type": "scatterpolar"
           }
          ],
          "scatterpolargl": [
           {
            "marker": {
             "colorbar": {
              "outlinewidth": 0,
              "ticks": ""
             }
            },
            "type": "scatterpolargl"
           }
          ],
          "scatterternary": [
           {
            "marker": {
             "colorbar": {
              "outlinewidth": 0,
              "ticks": ""
             }
            },
            "type": "scatterternary"
           }
          ],
          "surface": [
           {
            "colorbar": {
             "outlinewidth": 0,
             "ticks": ""
            },
            "colorscale": [
             [
              0,
              "#0d0887"
             ],
             [
              0.1111111111111111,
              "#46039f"
             ],
             [
              0.2222222222222222,
              "#7201a8"
             ],
             [
              0.3333333333333333,
              "#9c179e"
             ],
             [
              0.4444444444444444,
              "#bd3786"
             ],
             [
              0.5555555555555556,
              "#d8576b"
             ],
             [
              0.6666666666666666,
              "#ed7953"
             ],
             [
              0.7777777777777778,
              "#fb9f3a"
             ],
             [
              0.8888888888888888,
              "#fdca26"
             ],
             [
              1,
              "#f0f921"
             ]
            ],
            "type": "surface"
           }
          ],
          "table": [
           {
            "cells": {
             "fill": {
              "color": "#EBF0F8"
             },
             "line": {
              "color": "white"
             }
            },
            "header": {
             "fill": {
              "color": "#C8D4E3"
             },
             "line": {
              "color": "white"
             }
            },
            "type": "table"
           }
          ]
         },
         "layout": {
          "annotationdefaults": {
           "arrowcolor": "#2a3f5f",
           "arrowhead": 0,
           "arrowwidth": 1
          },
          "coloraxis": {
           "colorbar": {
            "outlinewidth": 0,
            "ticks": ""
           }
          },
          "colorscale": {
           "diverging": [
            [
             0,
             "#8e0152"
            ],
            [
             0.1,
             "#c51b7d"
            ],
            [
             0.2,
             "#de77ae"
            ],
            [
             0.3,
             "#f1b6da"
            ],
            [
             0.4,
             "#fde0ef"
            ],
            [
             0.5,
             "#f7f7f7"
            ],
            [
             0.6,
             "#e6f5d0"
            ],
            [
             0.7,
             "#b8e186"
            ],
            [
             0.8,
             "#7fbc41"
            ],
            [
             0.9,
             "#4d9221"
            ],
            [
             1,
             "#276419"
            ]
           ],
           "sequential": [
            [
             0,
             "#0d0887"
            ],
            [
             0.1111111111111111,
             "#46039f"
            ],
            [
             0.2222222222222222,
             "#7201a8"
            ],
            [
             0.3333333333333333,
             "#9c179e"
            ],
            [
             0.4444444444444444,
             "#bd3786"
            ],
            [
             0.5555555555555556,
             "#d8576b"
            ],
            [
             0.6666666666666666,
             "#ed7953"
            ],
            [
             0.7777777777777778,
             "#fb9f3a"
            ],
            [
             0.8888888888888888,
             "#fdca26"
            ],
            [
             1,
             "#f0f921"
            ]
           ],
           "sequentialminus": [
            [
             0,
             "#0d0887"
            ],
            [
             0.1111111111111111,
             "#46039f"
            ],
            [
             0.2222222222222222,
             "#7201a8"
            ],
            [
             0.3333333333333333,
             "#9c179e"
            ],
            [
             0.4444444444444444,
             "#bd3786"
            ],
            [
             0.5555555555555556,
             "#d8576b"
            ],
            [
             0.6666666666666666,
             "#ed7953"
            ],
            [
             0.7777777777777778,
             "#fb9f3a"
            ],
            [
             0.8888888888888888,
             "#fdca26"
            ],
            [
             1,
             "#f0f921"
            ]
           ]
          },
          "colorway": [
           "#636efa",
           "#EF553B",
           "#00cc96",
           "#ab63fa",
           "#FFA15A",
           "#19d3f3",
           "#FF6692",
           "#B6E880",
           "#FF97FF",
           "#FECB52"
          ],
          "font": {
           "color": "#2a3f5f"
          },
          "geo": {
           "bgcolor": "white",
           "lakecolor": "white",
           "landcolor": "#E5ECF6",
           "showlakes": true,
           "showland": true,
           "subunitcolor": "white"
          },
          "hoverlabel": {
           "align": "left"
          },
          "hovermode": "closest",
          "mapbox": {
           "style": "light"
          },
          "paper_bgcolor": "white",
          "plot_bgcolor": "#E5ECF6",
          "polar": {
           "angularaxis": {
            "gridcolor": "white",
            "linecolor": "white",
            "ticks": ""
           },
           "bgcolor": "#E5ECF6",
           "radialaxis": {
            "gridcolor": "white",
            "linecolor": "white",
            "ticks": ""
           }
          },
          "scene": {
           "xaxis": {
            "backgroundcolor": "#E5ECF6",
            "gridcolor": "white",
            "gridwidth": 2,
            "linecolor": "white",
            "showbackground": true,
            "ticks": "",
            "zerolinecolor": "white"
           },
           "yaxis": {
            "backgroundcolor": "#E5ECF6",
            "gridcolor": "white",
            "gridwidth": 2,
            "linecolor": "white",
            "showbackground": true,
            "ticks": "",
            "zerolinecolor": "white"
           },
           "zaxis": {
            "backgroundcolor": "#E5ECF6",
            "gridcolor": "white",
            "gridwidth": 2,
            "linecolor": "white",
            "showbackground": true,
            "ticks": "",
            "zerolinecolor": "white"
           }
          },
          "shapedefaults": {
           "line": {
            "color": "#2a3f5f"
           }
          },
          "ternary": {
           "aaxis": {
            "gridcolor": "white",
            "linecolor": "white",
            "ticks": ""
           },
           "baxis": {
            "gridcolor": "white",
            "linecolor": "white",
            "ticks": ""
           },
           "bgcolor": "#E5ECF6",
           "caxis": {
            "gridcolor": "white",
            "linecolor": "white",
            "ticks": ""
           }
          },
          "title": {
           "x": 0.05
          },
          "xaxis": {
           "automargin": true,
           "gridcolor": "white",
           "linecolor": "white",
           "ticks": "",
           "title": {
            "standoff": 15
           },
           "zerolinecolor": "white",
           "zerolinewidth": 2
          },
          "yaxis": {
           "automargin": true,
           "gridcolor": "white",
           "linecolor": "white",
           "ticks": "",
           "title": {
            "standoff": 15
           },
           "zerolinecolor": "white",
           "zerolinewidth": 2
          }
         }
        },
        "xaxis": {
         "anchor": "y",
         "domain": [
          0,
          1
         ],
         "title": {
          "text": "CO2 per seat kg/100km"
         }
        },
        "yaxis": {
         "anchor": "x",
         "domain": [
          0,
          1
         ],
         "title": {
          "text": "Sector km"
         }
        }
       }
      },
      "text/html": [
       "<div>\n",
       "        \n",
       "        \n",
       "            <div id=\"90f936ab-ef62-47d8-8825-dcf2e95b6c26\" class=\"plotly-graph-div\" style=\"height:600px; width:100%;\"></div>\n",
       "            <script type=\"text/javascript\">\n",
       "                require([\"plotly\"], function(Plotly) {\n",
       "                    window.PLOTLYENV=window.PLOTLYENV || {};\n",
       "                    \n",
       "                if (document.getElementById(\"90f936ab-ef62-47d8-8825-dcf2e95b6c26\")) {\n",
       "                    Plotly.newPlot(\n",
       "                        '90f936ab-ef62-47d8-8825-dcf2e95b6c26',\n",
       "                        [{\"alignmentgroup\": \"True\", \"boxpoints\": \"all\", \"customdata\": [[3.88836, 6.9818679], [4.38212, 5.60765898], [9.04198, 6.538574700000001], [9.31972, 5.5854943200000005], [6.295439999999999, 11.28181194], [8.20876, 7.38083178], [6.14114, 10.99367136], [8.3322, 10.65011913], [9.64375, 9.80786205], [3.5488999999999997, 10.09600263], [2.83912, 8.46690012], [4.7833, 8.55555876], [8.0236, 9.04318128], [8.640799999999999, 8.799370020000001], [9.99864, 7.846289639999999], [9.90606, 7.2700084799999996]], \"hoverlabel\": {\"namelength\": 0}, \"hovertemplate\": \"<b>%{hovertext}</b><br><br>CO2 per seat kg/100km=%{customdata[1]}<br>Sector km=%{y}<br>CO2 kg/km=%{customdata[0]}\", \"hovertext\": [\"ATR 42\", \"ATR 72\", \"Airbus A319-100\", \"Airbus A320-200\", \"Bombardier CRJ-100\", \"Bombardier CRJ-1000\", \"Bombardier CRJ-200\", \"Bombardier CRJ-700\", \"Bombardier CRJ-900\", \"Dornier Do-328\", \"Embraer EMB-120 Brasilia\", \"Embraer ERJ-145\", \"Embraer ERJ-170\", \"Embraer ERJ-175\", \"Embraer ERJ-190\", \"Embraer ERJ-195\"], \"legendgroup\": \"\", \"marker\": {\"color\": \"#636efa\"}, \"name\": \"\", \"notched\": false, \"offsetgroup\": \"\", \"orientation\": \"v\", \"showlegend\": false, \"type\": \"box\", \"x\": [6.9818679, 5.60765898, 6.538574700000001, 5.5854943200000005, 11.28181194, 7.38083178, 10.99367136, 10.65011913, 9.80786205, 10.09600263, 8.46690012, 8.55555876, 9.04318128, 8.799370020000001, 7.846289639999999, 7.2700084799999996], \"x0\": \" \", \"xaxis\": \"x\", \"y\": [560.0, 560.0, 1900.0, 2942.0, 814.5, 930.0, 815.0, 811.5, 810.5, 830.0, 560.0, 1107.0, 1122.0, 1120.0, 1124.0, 1124.0], \"y0\": \" \", \"yaxis\": \"y\"}],\n",
       "                        {\"boxmode\": \"group\", \"height\": 600, \"legend\": {\"tracegroupgap\": 0}, \"margin\": {\"t\": 60}, \"template\": {\"data\": {\"bar\": [{\"error_x\": {\"color\": \"#2a3f5f\"}, \"error_y\": {\"color\": \"#2a3f5f\"}, \"marker\": {\"line\": {\"color\": \"#E5ECF6\", \"width\": 0.5}}, \"type\": \"bar\"}], \"barpolar\": [{\"marker\": {\"line\": {\"color\": \"#E5ECF6\", \"width\": 0.5}}, \"type\": \"barpolar\"}], \"carpet\": [{\"aaxis\": {\"endlinecolor\": \"#2a3f5f\", \"gridcolor\": \"white\", \"linecolor\": \"white\", \"minorgridcolor\": \"white\", \"startlinecolor\": \"#2a3f5f\"}, \"baxis\": {\"endlinecolor\": \"#2a3f5f\", \"gridcolor\": \"white\", \"linecolor\": \"white\", \"minorgridcolor\": \"white\", \"startlinecolor\": \"#2a3f5f\"}, \"type\": \"carpet\"}], \"choropleth\": [{\"colorbar\": {\"outlinewidth\": 0, \"ticks\": \"\"}, \"type\": \"choropleth\"}], \"contour\": [{\"colorbar\": {\"outlinewidth\": 0, \"ticks\": \"\"}, \"colorscale\": [[0.0, \"#0d0887\"], [0.1111111111111111, \"#46039f\"], [0.2222222222222222, \"#7201a8\"], [0.3333333333333333, \"#9c179e\"], [0.4444444444444444, \"#bd3786\"], [0.5555555555555556, \"#d8576b\"], [0.6666666666666666, \"#ed7953\"], [0.7777777777777778, \"#fb9f3a\"], [0.8888888888888888, \"#fdca26\"], [1.0, \"#f0f921\"]], \"type\": \"contour\"}], \"contourcarpet\": [{\"colorbar\": {\"outlinewidth\": 0, \"ticks\": \"\"}, \"type\": \"contourcarpet\"}], \"heatmap\": [{\"colorbar\": {\"outlinewidth\": 0, \"ticks\": \"\"}, \"colorscale\": [[0.0, \"#0d0887\"], [0.1111111111111111, \"#46039f\"], [0.2222222222222222, \"#7201a8\"], [0.3333333333333333, \"#9c179e\"], [0.4444444444444444, \"#bd3786\"], [0.5555555555555556, \"#d8576b\"], [0.6666666666666666, \"#ed7953\"], [0.7777777777777778, \"#fb9f3a\"], [0.8888888888888888, \"#fdca26\"], [1.0, \"#f0f921\"]], \"type\": \"heatmap\"}], \"heatmapgl\": [{\"colorbar\": {\"outlinewidth\": 0, \"ticks\": \"\"}, \"colorscale\": [[0.0, \"#0d0887\"], [0.1111111111111111, \"#46039f\"], [0.2222222222222222, \"#7201a8\"], [0.3333333333333333, \"#9c179e\"], [0.4444444444444444, \"#bd3786\"], [0.5555555555555556, \"#d8576b\"], [0.6666666666666666, \"#ed7953\"], [0.7777777777777778, \"#fb9f3a\"], [0.8888888888888888, \"#fdca26\"], [1.0, \"#f0f921\"]], \"type\": \"heatmapgl\"}], \"histogram\": [{\"marker\": {\"colorbar\": {\"outlinewidth\": 0, \"ticks\": \"\"}}, \"type\": \"histogram\"}], \"histogram2d\": [{\"colorbar\": {\"outlinewidth\": 0, \"ticks\": \"\"}, \"colorscale\": [[0.0, \"#0d0887\"], [0.1111111111111111, \"#46039f\"], [0.2222222222222222, \"#7201a8\"], [0.3333333333333333, \"#9c179e\"], [0.4444444444444444, \"#bd3786\"], [0.5555555555555556, \"#d8576b\"], [0.6666666666666666, \"#ed7953\"], [0.7777777777777778, \"#fb9f3a\"], [0.8888888888888888, \"#fdca26\"], [1.0, \"#f0f921\"]], \"type\": \"histogram2d\"}], \"histogram2dcontour\": [{\"colorbar\": {\"outlinewidth\": 0, \"ticks\": \"\"}, \"colorscale\": [[0.0, \"#0d0887\"], [0.1111111111111111, \"#46039f\"], [0.2222222222222222, \"#7201a8\"], [0.3333333333333333, \"#9c179e\"], [0.4444444444444444, \"#bd3786\"], [0.5555555555555556, \"#d8576b\"], [0.6666666666666666, \"#ed7953\"], [0.7777777777777778, \"#fb9f3a\"], [0.8888888888888888, \"#fdca26\"], [1.0, \"#f0f921\"]], \"type\": \"histogram2dcontour\"}], \"mesh3d\": [{\"colorbar\": {\"outlinewidth\": 0, \"ticks\": \"\"}, \"type\": \"mesh3d\"}], \"parcoords\": [{\"line\": {\"colorbar\": {\"outlinewidth\": 0, \"ticks\": \"\"}}, \"type\": \"parcoords\"}], \"pie\": [{\"automargin\": true, \"type\": \"pie\"}], \"scatter\": [{\"marker\": {\"colorbar\": {\"outlinewidth\": 0, \"ticks\": \"\"}}, \"type\": \"scatter\"}], \"scatter3d\": [{\"line\": {\"colorbar\": {\"outlinewidth\": 0, \"ticks\": \"\"}}, \"marker\": {\"colorbar\": {\"outlinewidth\": 0, \"ticks\": \"\"}}, \"type\": \"scatter3d\"}], \"scattercarpet\": [{\"marker\": {\"colorbar\": {\"outlinewidth\": 0, \"ticks\": \"\"}}, \"type\": \"scattercarpet\"}], \"scattergeo\": [{\"marker\": {\"colorbar\": {\"outlinewidth\": 0, \"ticks\": \"\"}}, \"type\": \"scattergeo\"}], \"scattergl\": [{\"marker\": {\"colorbar\": {\"outlinewidth\": 0, \"ticks\": \"\"}}, \"type\": \"scattergl\"}], \"scattermapbox\": [{\"marker\": {\"colorbar\": {\"outlinewidth\": 0, \"ticks\": \"\"}}, \"type\": \"scattermapbox\"}], \"scatterpolar\": [{\"marker\": {\"colorbar\": {\"outlinewidth\": 0, \"ticks\": \"\"}}, \"type\": \"scatterpolar\"}], \"scatterpolargl\": [{\"marker\": {\"colorbar\": {\"outlinewidth\": 0, \"ticks\": \"\"}}, \"type\": \"scatterpolargl\"}], \"scatterternary\": [{\"marker\": {\"colorbar\": {\"outlinewidth\": 0, \"ticks\": \"\"}}, \"type\": \"scatterternary\"}], \"surface\": [{\"colorbar\": {\"outlinewidth\": 0, \"ticks\": \"\"}, \"colorscale\": [[0.0, \"#0d0887\"], [0.1111111111111111, \"#46039f\"], [0.2222222222222222, \"#7201a8\"], [0.3333333333333333, \"#9c179e\"], [0.4444444444444444, \"#bd3786\"], [0.5555555555555556, \"#d8576b\"], [0.6666666666666666, \"#ed7953\"], [0.7777777777777778, \"#fb9f3a\"], [0.8888888888888888, \"#fdca26\"], [1.0, \"#f0f921\"]], \"type\": \"surface\"}], \"table\": [{\"cells\": {\"fill\": {\"color\": \"#EBF0F8\"}, \"line\": {\"color\": \"white\"}}, \"header\": {\"fill\": {\"color\": \"#C8D4E3\"}, \"line\": {\"color\": \"white\"}}, \"type\": \"table\"}]}, \"layout\": {\"annotationdefaults\": {\"arrowcolor\": \"#2a3f5f\", \"arrowhead\": 0, \"arrowwidth\": 1}, \"coloraxis\": {\"colorbar\": {\"outlinewidth\": 0, \"ticks\": \"\"}}, \"colorscale\": {\"diverging\": [[0, \"#8e0152\"], [0.1, \"#c51b7d\"], [0.2, \"#de77ae\"], [0.3, \"#f1b6da\"], [0.4, \"#fde0ef\"], [0.5, \"#f7f7f7\"], [0.6, \"#e6f5d0\"], [0.7, \"#b8e186\"], [0.8, \"#7fbc41\"], [0.9, \"#4d9221\"], [1, \"#276419\"]], \"sequential\": [[0.0, \"#0d0887\"], [0.1111111111111111, \"#46039f\"], [0.2222222222222222, \"#7201a8\"], [0.3333333333333333, \"#9c179e\"], [0.4444444444444444, \"#bd3786\"], [0.5555555555555556, \"#d8576b\"], [0.6666666666666666, \"#ed7953\"], [0.7777777777777778, \"#fb9f3a\"], [0.8888888888888888, \"#fdca26\"], [1.0, \"#f0f921\"]], \"sequentialminus\": [[0.0, \"#0d0887\"], [0.1111111111111111, \"#46039f\"], [0.2222222222222222, \"#7201a8\"], [0.3333333333333333, \"#9c179e\"], [0.4444444444444444, \"#bd3786\"], [0.5555555555555556, \"#d8576b\"], [0.6666666666666666, \"#ed7953\"], [0.7777777777777778, \"#fb9f3a\"], [0.8888888888888888, \"#fdca26\"], [1.0, \"#f0f921\"]]}, \"colorway\": [\"#636efa\", \"#EF553B\", \"#00cc96\", \"#ab63fa\", \"#FFA15A\", \"#19d3f3\", \"#FF6692\", \"#B6E880\", \"#FF97FF\", \"#FECB52\"], \"font\": {\"color\": \"#2a3f5f\"}, \"geo\": {\"bgcolor\": \"white\", \"lakecolor\": \"white\", \"landcolor\": \"#E5ECF6\", \"showlakes\": true, \"showland\": true, \"subunitcolor\": \"white\"}, \"hoverlabel\": {\"align\": \"left\"}, \"hovermode\": \"closest\", \"mapbox\": {\"style\": \"light\"}, \"paper_bgcolor\": \"white\", \"plot_bgcolor\": \"#E5ECF6\", \"polar\": {\"angularaxis\": {\"gridcolor\": \"white\", \"linecolor\": \"white\", \"ticks\": \"\"}, \"bgcolor\": \"#E5ECF6\", \"radialaxis\": {\"gridcolor\": \"white\", \"linecolor\": \"white\", \"ticks\": \"\"}}, \"scene\": {\"xaxis\": {\"backgroundcolor\": \"#E5ECF6\", \"gridcolor\": \"white\", \"gridwidth\": 2, \"linecolor\": \"white\", \"showbackground\": true, \"ticks\": \"\", \"zerolinecolor\": \"white\"}, \"yaxis\": {\"backgroundcolor\": \"#E5ECF6\", \"gridcolor\": \"white\", \"gridwidth\": 2, \"linecolor\": \"white\", \"showbackground\": true, \"ticks\": \"\", \"zerolinecolor\": \"white\"}, \"zaxis\": {\"backgroundcolor\": \"#E5ECF6\", \"gridcolor\": \"white\", \"gridwidth\": 2, \"linecolor\": \"white\", \"showbackground\": true, \"ticks\": \"\", \"zerolinecolor\": \"white\"}}, \"shapedefaults\": {\"line\": {\"color\": \"#2a3f5f\"}}, \"ternary\": {\"aaxis\": {\"gridcolor\": \"white\", \"linecolor\": \"white\", \"ticks\": \"\"}, \"baxis\": {\"gridcolor\": \"white\", \"linecolor\": \"white\", \"ticks\": \"\"}, \"bgcolor\": \"#E5ECF6\", \"caxis\": {\"gridcolor\": \"white\", \"linecolor\": \"white\", \"ticks\": \"\"}}, \"title\": {\"x\": 0.05}, \"xaxis\": {\"automargin\": true, \"gridcolor\": \"white\", \"linecolor\": \"white\", \"ticks\": \"\", \"title\": {\"standoff\": 15}, \"zerolinecolor\": \"white\", \"zerolinewidth\": 2}, \"yaxis\": {\"automargin\": true, \"gridcolor\": \"white\", \"linecolor\": \"white\", \"ticks\": \"\", \"title\": {\"standoff\": 15}, \"zerolinecolor\": \"white\", \"zerolinewidth\": 2}}}, \"xaxis\": {\"anchor\": \"y\", \"domain\": [0.0, 1.0], \"title\": {\"text\": \"CO2 per seat kg/100km\"}}, \"yaxis\": {\"anchor\": \"x\", \"domain\": [0.0, 1.0], \"title\": {\"text\": \"Sector km\"}}},\n",
       "                        {\"responsive\": true}\n",
       "                    ).then(function(){\n",
       "                            \n",
       "var gd = document.getElementById('90f936ab-ef62-47d8-8825-dcf2e95b6c26');\n",
       "var x = new MutationObserver(function (mutations, observer) {{\n",
       "        var display = window.getComputedStyle(gd).display;\n",
       "        if (!display || display === 'none') {{\n",
       "            console.log([gd, 'removed!']);\n",
       "            Plotly.purge(gd);\n",
       "            observer.disconnect();\n",
       "        }}\n",
       "}});\n",
       "\n",
       "// Listen for the removal of the full notebook cells\n",
       "var notebookContainer = gd.closest('#notebook-container');\n",
       "if (notebookContainer) {{\n",
       "    x.observe(notebookContainer, {childList: true});\n",
       "}}\n",
       "\n",
       "// Listen for the clearing of the current output cell\n",
       "var outputEl = gd.closest('.output');\n",
       "if (outputEl) {{\n",
       "    x.observe(outputEl, {childList: true});\n",
       "}}\n",
       "\n",
       "                        })\n",
       "                };\n",
       "                });\n",
       "            </script>\n",
       "        </div>"
      ]
     },
     "metadata": {},
     "output_type": "display_data"
    }
   ],
   "source": [
    "px.box(\n",
    "    aircrafts_used_by_big_polluters.reset_index(),\n",
    "    x=\"CO2 per seat kg/100km\",\n",
    "    y= \"Sector km\",\n",
    "    points=\"all\",\n",
    "    hover_data = [\"CO2 kg/km\", \"CO2 per seat kg/100km\"],\n",
    "    hover_name =\"Model\")"
   ]
  },
  {
   "cell_type": "code",
   "execution_count": 89,
   "metadata": {},
   "outputs": [
    {
     "data": {
      "application/vnd.plotly.v1+json": {
       "config": {
        "plotlyServerURL": "https://plot.ly"
       },
       "data": [
        {
         "alignmentgroup": "True",
         "bingroup": "x",
         "histfunc": "sum",
         "hoverlabel": {
          "namelength": 0
         },
         "hovertemplate": "Sector km=%{x}<br>sum of Number of aircrafts=%{y}",
         "legendgroup": "",
         "marker": {
          "color": "#636efa"
         },
         "name": "",
         "nbinsx": 30,
         "offsetgroup": "",
         "orientation": "v",
         "showlegend": false,
         "type": "histogram",
         "x": [
          560,
          560,
          1900,
          2942,
          814.5,
          930,
          815,
          811.5,
          810.5,
          830,
          560,
          1107,
          1122,
          1120,
          1124,
          1124
         ],
         "xaxis": "x",
         "y": [
          23,
          7,
          3,
          11,
          20,
          14,
          475,
          189,
          268,
          5,
          29,
          332,
          93,
          223,
          119,
          3
         ],
         "yaxis": "y"
        },
        {
         "alignmentgroup": "True",
         "boxpoints": "all",
         "fillcolor": "rgba(255,255,255,0)",
         "hoverlabel": {
          "namelength": 0
         },
         "hoveron": "points",
         "hovertemplate": "Sector km=%{x}",
         "jitter": 0,
         "legendgroup": "",
         "line": {
          "color": "rgba(255,255,255,0)"
         },
         "marker": {
          "color": "#636efa",
          "symbol": "line-ns-open"
         },
         "name": "",
         "offsetgroup": "",
         "showlegend": false,
         "type": "box",
         "x": [
          560,
          560,
          1900,
          2942,
          814.5,
          930,
          815,
          811.5,
          810.5,
          830,
          560,
          1107,
          1122,
          1120,
          1124,
          1124
         ],
         "xaxis": "x2",
         "yaxis": "y2"
        }
       ],
       "layout": {
        "barmode": "relative",
        "height": 600,
        "legend": {
         "tracegroupgap": 0
        },
        "margin": {
         "t": 60
        },
        "template": {
         "data": {
          "bar": [
           {
            "error_x": {
             "color": "#2a3f5f"
            },
            "error_y": {
             "color": "#2a3f5f"
            },
            "marker": {
             "line": {
              "color": "#E5ECF6",
              "width": 0.5
             }
            },
            "type": "bar"
           }
          ],
          "barpolar": [
           {
            "marker": {
             "line": {
              "color": "#E5ECF6",
              "width": 0.5
             }
            },
            "type": "barpolar"
           }
          ],
          "carpet": [
           {
            "aaxis": {
             "endlinecolor": "#2a3f5f",
             "gridcolor": "white",
             "linecolor": "white",
             "minorgridcolor": "white",
             "startlinecolor": "#2a3f5f"
            },
            "baxis": {
             "endlinecolor": "#2a3f5f",
             "gridcolor": "white",
             "linecolor": "white",
             "minorgridcolor": "white",
             "startlinecolor": "#2a3f5f"
            },
            "type": "carpet"
           }
          ],
          "choropleth": [
           {
            "colorbar": {
             "outlinewidth": 0,
             "ticks": ""
            },
            "type": "choropleth"
           }
          ],
          "contour": [
           {
            "colorbar": {
             "outlinewidth": 0,
             "ticks": ""
            },
            "colorscale": [
             [
              0,
              "#0d0887"
             ],
             [
              0.1111111111111111,
              "#46039f"
             ],
             [
              0.2222222222222222,
              "#7201a8"
             ],
             [
              0.3333333333333333,
              "#9c179e"
             ],
             [
              0.4444444444444444,
              "#bd3786"
             ],
             [
              0.5555555555555556,
              "#d8576b"
             ],
             [
              0.6666666666666666,
              "#ed7953"
             ],
             [
              0.7777777777777778,
              "#fb9f3a"
             ],
             [
              0.8888888888888888,
              "#fdca26"
             ],
             [
              1,
              "#f0f921"
             ]
            ],
            "type": "contour"
           }
          ],
          "contourcarpet": [
           {
            "colorbar": {
             "outlinewidth": 0,
             "ticks": ""
            },
            "type": "contourcarpet"
           }
          ],
          "heatmap": [
           {
            "colorbar": {
             "outlinewidth": 0,
             "ticks": ""
            },
            "colorscale": [
             [
              0,
              "#0d0887"
             ],
             [
              0.1111111111111111,
              "#46039f"
             ],
             [
              0.2222222222222222,
              "#7201a8"
             ],
             [
              0.3333333333333333,
              "#9c179e"
             ],
             [
              0.4444444444444444,
              "#bd3786"
             ],
             [
              0.5555555555555556,
              "#d8576b"
             ],
             [
              0.6666666666666666,
              "#ed7953"
             ],
             [
              0.7777777777777778,
              "#fb9f3a"
             ],
             [
              0.8888888888888888,
              "#fdca26"
             ],
             [
              1,
              "#f0f921"
             ]
            ],
            "type": "heatmap"
           }
          ],
          "heatmapgl": [
           {
            "colorbar": {
             "outlinewidth": 0,
             "ticks": ""
            },
            "colorscale": [
             [
              0,
              "#0d0887"
             ],
             [
              0.1111111111111111,
              "#46039f"
             ],
             [
              0.2222222222222222,
              "#7201a8"
             ],
             [
              0.3333333333333333,
              "#9c179e"
             ],
             [
              0.4444444444444444,
              "#bd3786"
             ],
             [
              0.5555555555555556,
              "#d8576b"
             ],
             [
              0.6666666666666666,
              "#ed7953"
             ],
             [
              0.7777777777777778,
              "#fb9f3a"
             ],
             [
              0.8888888888888888,
              "#fdca26"
             ],
             [
              1,
              "#f0f921"
             ]
            ],
            "type": "heatmapgl"
           }
          ],
          "histogram": [
           {
            "marker": {
             "colorbar": {
              "outlinewidth": 0,
              "ticks": ""
             }
            },
            "type": "histogram"
           }
          ],
          "histogram2d": [
           {
            "colorbar": {
             "outlinewidth": 0,
             "ticks": ""
            },
            "colorscale": [
             [
              0,
              "#0d0887"
             ],
             [
              0.1111111111111111,
              "#46039f"
             ],
             [
              0.2222222222222222,
              "#7201a8"
             ],
             [
              0.3333333333333333,
              "#9c179e"
             ],
             [
              0.4444444444444444,
              "#bd3786"
             ],
             [
              0.5555555555555556,
              "#d8576b"
             ],
             [
              0.6666666666666666,
              "#ed7953"
             ],
             [
              0.7777777777777778,
              "#fb9f3a"
             ],
             [
              0.8888888888888888,
              "#fdca26"
             ],
             [
              1,
              "#f0f921"
             ]
            ],
            "type": "histogram2d"
           }
          ],
          "histogram2dcontour": [
           {
            "colorbar": {
             "outlinewidth": 0,
             "ticks": ""
            },
            "colorscale": [
             [
              0,
              "#0d0887"
             ],
             [
              0.1111111111111111,
              "#46039f"
             ],
             [
              0.2222222222222222,
              "#7201a8"
             ],
             [
              0.3333333333333333,
              "#9c179e"
             ],
             [
              0.4444444444444444,
              "#bd3786"
             ],
             [
              0.5555555555555556,
              "#d8576b"
             ],
             [
              0.6666666666666666,
              "#ed7953"
             ],
             [
              0.7777777777777778,
              "#fb9f3a"
             ],
             [
              0.8888888888888888,
              "#fdca26"
             ],
             [
              1,
              "#f0f921"
             ]
            ],
            "type": "histogram2dcontour"
           }
          ],
          "mesh3d": [
           {
            "colorbar": {
             "outlinewidth": 0,
             "ticks": ""
            },
            "type": "mesh3d"
           }
          ],
          "parcoords": [
           {
            "line": {
             "colorbar": {
              "outlinewidth": 0,
              "ticks": ""
             }
            },
            "type": "parcoords"
           }
          ],
          "pie": [
           {
            "automargin": true,
            "type": "pie"
           }
          ],
          "scatter": [
           {
            "marker": {
             "colorbar": {
              "outlinewidth": 0,
              "ticks": ""
             }
            },
            "type": "scatter"
           }
          ],
          "scatter3d": [
           {
            "line": {
             "colorbar": {
              "outlinewidth": 0,
              "ticks": ""
             }
            },
            "marker": {
             "colorbar": {
              "outlinewidth": 0,
              "ticks": ""
             }
            },
            "type": "scatter3d"
           }
          ],
          "scattercarpet": [
           {
            "marker": {
             "colorbar": {
              "outlinewidth": 0,
              "ticks": ""
             }
            },
            "type": "scattercarpet"
           }
          ],
          "scattergeo": [
           {
            "marker": {
             "colorbar": {
              "outlinewidth": 0,
              "ticks": ""
             }
            },
            "type": "scattergeo"
           }
          ],
          "scattergl": [
           {
            "marker": {
             "colorbar": {
              "outlinewidth": 0,
              "ticks": ""
             }
            },
            "type": "scattergl"
           }
          ],
          "scattermapbox": [
           {
            "marker": {
             "colorbar": {
              "outlinewidth": 0,
              "ticks": ""
             }
            },
            "type": "scattermapbox"
           }
          ],
          "scatterpolar": [
           {
            "marker": {
             "colorbar": {
              "outlinewidth": 0,
              "ticks": ""
             }
            },
            "type": "scatterpolar"
           }
          ],
          "scatterpolargl": [
           {
            "marker": {
             "colorbar": {
              "outlinewidth": 0,
              "ticks": ""
             }
            },
            "type": "scatterpolargl"
           }
          ],
          "scatterternary": [
           {
            "marker": {
             "colorbar": {
              "outlinewidth": 0,
              "ticks": ""
             }
            },
            "type": "scatterternary"
           }
          ],
          "surface": [
           {
            "colorbar": {
             "outlinewidth": 0,
             "ticks": ""
            },
            "colorscale": [
             [
              0,
              "#0d0887"
             ],
             [
              0.1111111111111111,
              "#46039f"
             ],
             [
              0.2222222222222222,
              "#7201a8"
             ],
             [
              0.3333333333333333,
              "#9c179e"
             ],
             [
              0.4444444444444444,
              "#bd3786"
             ],
             [
              0.5555555555555556,
              "#d8576b"
             ],
             [
              0.6666666666666666,
              "#ed7953"
             ],
             [
              0.7777777777777778,
              "#fb9f3a"
             ],
             [
              0.8888888888888888,
              "#fdca26"
             ],
             [
              1,
              "#f0f921"
             ]
            ],
            "type": "surface"
           }
          ],
          "table": [
           {
            "cells": {
             "fill": {
              "color": "#EBF0F8"
             },
             "line": {
              "color": "white"
             }
            },
            "header": {
             "fill": {
              "color": "#C8D4E3"
             },
             "line": {
              "color": "white"
             }
            },
            "type": "table"
           }
          ]
         },
         "layout": {
          "annotationdefaults": {
           "arrowcolor": "#2a3f5f",
           "arrowhead": 0,
           "arrowwidth": 1
          },
          "coloraxis": {
           "colorbar": {
            "outlinewidth": 0,
            "ticks": ""
           }
          },
          "colorscale": {
           "diverging": [
            [
             0,
             "#8e0152"
            ],
            [
             0.1,
             "#c51b7d"
            ],
            [
             0.2,
             "#de77ae"
            ],
            [
             0.3,
             "#f1b6da"
            ],
            [
             0.4,
             "#fde0ef"
            ],
            [
             0.5,
             "#f7f7f7"
            ],
            [
             0.6,
             "#e6f5d0"
            ],
            [
             0.7,
             "#b8e186"
            ],
            [
             0.8,
             "#7fbc41"
            ],
            [
             0.9,
             "#4d9221"
            ],
            [
             1,
             "#276419"
            ]
           ],
           "sequential": [
            [
             0,
             "#0d0887"
            ],
            [
             0.1111111111111111,
             "#46039f"
            ],
            [
             0.2222222222222222,
             "#7201a8"
            ],
            [
             0.3333333333333333,
             "#9c179e"
            ],
            [
             0.4444444444444444,
             "#bd3786"
            ],
            [
             0.5555555555555556,
             "#d8576b"
            ],
            [
             0.6666666666666666,
             "#ed7953"
            ],
            [
             0.7777777777777778,
             "#fb9f3a"
            ],
            [
             0.8888888888888888,
             "#fdca26"
            ],
            [
             1,
             "#f0f921"
            ]
           ],
           "sequentialminus": [
            [
             0,
             "#0d0887"
            ],
            [
             0.1111111111111111,
             "#46039f"
            ],
            [
             0.2222222222222222,
             "#7201a8"
            ],
            [
             0.3333333333333333,
             "#9c179e"
            ],
            [
             0.4444444444444444,
             "#bd3786"
            ],
            [
             0.5555555555555556,
             "#d8576b"
            ],
            [
             0.6666666666666666,
             "#ed7953"
            ],
            [
             0.7777777777777778,
             "#fb9f3a"
            ],
            [
             0.8888888888888888,
             "#fdca26"
            ],
            [
             1,
             "#f0f921"
            ]
           ]
          },
          "colorway": [
           "#636efa",
           "#EF553B",
           "#00cc96",
           "#ab63fa",
           "#FFA15A",
           "#19d3f3",
           "#FF6692",
           "#B6E880",
           "#FF97FF",
           "#FECB52"
          ],
          "font": {
           "color": "#2a3f5f"
          },
          "geo": {
           "bgcolor": "white",
           "lakecolor": "white",
           "landcolor": "#E5ECF6",
           "showlakes": true,
           "showland": true,
           "subunitcolor": "white"
          },
          "hoverlabel": {
           "align": "left"
          },
          "hovermode": "closest",
          "mapbox": {
           "style": "light"
          },
          "paper_bgcolor": "white",
          "plot_bgcolor": "#E5ECF6",
          "polar": {
           "angularaxis": {
            "gridcolor": "white",
            "linecolor": "white",
            "ticks": ""
           },
           "bgcolor": "#E5ECF6",
           "radialaxis": {
            "gridcolor": "white",
            "linecolor": "white",
            "ticks": ""
           }
          },
          "scene": {
           "xaxis": {
            "backgroundcolor": "#E5ECF6",
            "gridcolor": "white",
            "gridwidth": 2,
            "linecolor": "white",
            "showbackground": true,
            "ticks": "",
            "zerolinecolor": "white"
           },
           "yaxis": {
            "backgroundcolor": "#E5ECF6",
            "gridcolor": "white",
            "gridwidth": 2,
            "linecolor": "white",
            "showbackground": true,
            "ticks": "",
            "zerolinecolor": "white"
           },
           "zaxis": {
            "backgroundcolor": "#E5ECF6",
            "gridcolor": "white",
            "gridwidth": 2,
            "linecolor": "white",
            "showbackground": true,
            "ticks": "",
            "zerolinecolor": "white"
           }
          },
          "shapedefaults": {
           "line": {
            "color": "#2a3f5f"
           }
          },
          "ternary": {
           "aaxis": {
            "gridcolor": "white",
            "linecolor": "white",
            "ticks": ""
           },
           "baxis": {
            "gridcolor": "white",
            "linecolor": "white",
            "ticks": ""
           },
           "bgcolor": "#E5ECF6",
           "caxis": {
            "gridcolor": "white",
            "linecolor": "white",
            "ticks": ""
           }
          },
          "title": {
           "x": 0.05
          },
          "xaxis": {
           "automargin": true,
           "gridcolor": "white",
           "linecolor": "white",
           "ticks": "",
           "title": {
            "standoff": 15
           },
           "zerolinecolor": "white",
           "zerolinewidth": 2
          },
          "yaxis": {
           "automargin": true,
           "gridcolor": "white",
           "linecolor": "white",
           "ticks": "",
           "title": {
            "standoff": 15
           },
           "zerolinecolor": "white",
           "zerolinewidth": 2
          }
         }
        },
        "xaxis": {
         "anchor": "y",
         "domain": [
          0,
          1
         ],
         "title": {
          "text": "Sector km"
         }
        },
        "xaxis2": {
         "anchor": "y2",
         "domain": [
          0,
          1
         ],
         "matches": "x",
         "showgrid": true,
         "showticklabels": false
        },
        "yaxis": {
         "anchor": "x",
         "domain": [
          0,
          0.8316
         ],
         "title": {
          "text": "sum of Number of aircrafts"
         }
        },
        "yaxis2": {
         "anchor": "x2",
         "domain": [
          0.8416,
          1
         ],
         "matches": "y2",
         "showgrid": false,
         "showline": false,
         "showticklabels": false,
         "ticks": ""
        }
       }
      },
      "text/html": [
       "<div>\n",
       "        \n",
       "        \n",
       "            <div id=\"66493f3d-7a48-4346-8d15-83e7fd644119\" class=\"plotly-graph-div\" style=\"height:600px; width:100%;\"></div>\n",
       "            <script type=\"text/javascript\">\n",
       "                require([\"plotly\"], function(Plotly) {\n",
       "                    window.PLOTLYENV=window.PLOTLYENV || {};\n",
       "                    \n",
       "                if (document.getElementById(\"66493f3d-7a48-4346-8d15-83e7fd644119\")) {\n",
       "                    Plotly.newPlot(\n",
       "                        '66493f3d-7a48-4346-8d15-83e7fd644119',\n",
       "                        [{\"alignmentgroup\": \"True\", \"bingroup\": \"x\", \"histfunc\": \"sum\", \"hoverlabel\": {\"namelength\": 0}, \"hovertemplate\": \"Sector km=%{x}<br>sum of Number of aircrafts=%{y}\", \"legendgroup\": \"\", \"marker\": {\"color\": \"#636efa\"}, \"name\": \"\", \"nbinsx\": 30, \"offsetgroup\": \"\", \"orientation\": \"v\", \"showlegend\": false, \"type\": \"histogram\", \"x\": [560.0, 560.0, 1900.0, 2942.0, 814.5, 930.0, 815.0, 811.5, 810.5, 830.0, 560.0, 1107.0, 1122.0, 1120.0, 1124.0, 1124.0], \"xaxis\": \"x\", \"y\": [23, 7, 3, 11, 20, 14, 475, 189, 268, 5, 29, 332, 93, 223, 119, 3], \"yaxis\": \"y\"}, {\"alignmentgroup\": \"True\", \"boxpoints\": \"all\", \"fillcolor\": \"rgba(255,255,255,0)\", \"hoverlabel\": {\"namelength\": 0}, \"hoveron\": \"points\", \"hovertemplate\": \"Sector km=%{x}\", \"jitter\": 0, \"legendgroup\": \"\", \"line\": {\"color\": \"rgba(255,255,255,0)\"}, \"marker\": {\"color\": \"#636efa\", \"symbol\": \"line-ns-open\"}, \"name\": \"\", \"offsetgroup\": \"\", \"showlegend\": false, \"type\": \"box\", \"x\": [560.0, 560.0, 1900.0, 2942.0, 814.5, 930.0, 815.0, 811.5, 810.5, 830.0, 560.0, 1107.0, 1122.0, 1120.0, 1124.0, 1124.0], \"xaxis\": \"x2\", \"yaxis\": \"y2\"}],\n",
       "                        {\"barmode\": \"relative\", \"height\": 600, \"legend\": {\"tracegroupgap\": 0}, \"margin\": {\"t\": 60}, \"template\": {\"data\": {\"bar\": [{\"error_x\": {\"color\": \"#2a3f5f\"}, \"error_y\": {\"color\": \"#2a3f5f\"}, \"marker\": {\"line\": {\"color\": \"#E5ECF6\", \"width\": 0.5}}, \"type\": \"bar\"}], \"barpolar\": [{\"marker\": {\"line\": {\"color\": \"#E5ECF6\", \"width\": 0.5}}, \"type\": \"barpolar\"}], \"carpet\": [{\"aaxis\": {\"endlinecolor\": \"#2a3f5f\", \"gridcolor\": \"white\", \"linecolor\": \"white\", \"minorgridcolor\": \"white\", \"startlinecolor\": \"#2a3f5f\"}, \"baxis\": {\"endlinecolor\": \"#2a3f5f\", \"gridcolor\": \"white\", \"linecolor\": \"white\", \"minorgridcolor\": \"white\", \"startlinecolor\": \"#2a3f5f\"}, \"type\": \"carpet\"}], \"choropleth\": [{\"colorbar\": {\"outlinewidth\": 0, \"ticks\": \"\"}, \"type\": \"choropleth\"}], \"contour\": [{\"colorbar\": {\"outlinewidth\": 0, \"ticks\": \"\"}, \"colorscale\": [[0.0, \"#0d0887\"], [0.1111111111111111, \"#46039f\"], [0.2222222222222222, \"#7201a8\"], [0.3333333333333333, \"#9c179e\"], [0.4444444444444444, \"#bd3786\"], [0.5555555555555556, \"#d8576b\"], [0.6666666666666666, \"#ed7953\"], [0.7777777777777778, \"#fb9f3a\"], [0.8888888888888888, \"#fdca26\"], [1.0, \"#f0f921\"]], \"type\": \"contour\"}], \"contourcarpet\": [{\"colorbar\": {\"outlinewidth\": 0, \"ticks\": \"\"}, \"type\": \"contourcarpet\"}], \"heatmap\": [{\"colorbar\": {\"outlinewidth\": 0, \"ticks\": \"\"}, \"colorscale\": [[0.0, \"#0d0887\"], [0.1111111111111111, \"#46039f\"], [0.2222222222222222, \"#7201a8\"], [0.3333333333333333, \"#9c179e\"], [0.4444444444444444, \"#bd3786\"], [0.5555555555555556, \"#d8576b\"], [0.6666666666666666, \"#ed7953\"], [0.7777777777777778, \"#fb9f3a\"], [0.8888888888888888, \"#fdca26\"], [1.0, \"#f0f921\"]], \"type\": \"heatmap\"}], \"heatmapgl\": [{\"colorbar\": {\"outlinewidth\": 0, \"ticks\": \"\"}, \"colorscale\": [[0.0, \"#0d0887\"], [0.1111111111111111, \"#46039f\"], [0.2222222222222222, \"#7201a8\"], [0.3333333333333333, \"#9c179e\"], [0.4444444444444444, \"#bd3786\"], [0.5555555555555556, \"#d8576b\"], [0.6666666666666666, \"#ed7953\"], [0.7777777777777778, \"#fb9f3a\"], [0.8888888888888888, \"#fdca26\"], [1.0, \"#f0f921\"]], \"type\": \"heatmapgl\"}], \"histogram\": [{\"marker\": {\"colorbar\": {\"outlinewidth\": 0, \"ticks\": \"\"}}, \"type\": \"histogram\"}], \"histogram2d\": [{\"colorbar\": {\"outlinewidth\": 0, \"ticks\": \"\"}, \"colorscale\": [[0.0, \"#0d0887\"], [0.1111111111111111, \"#46039f\"], [0.2222222222222222, \"#7201a8\"], [0.3333333333333333, \"#9c179e\"], [0.4444444444444444, \"#bd3786\"], [0.5555555555555556, \"#d8576b\"], [0.6666666666666666, \"#ed7953\"], [0.7777777777777778, \"#fb9f3a\"], [0.8888888888888888, \"#fdca26\"], [1.0, \"#f0f921\"]], \"type\": \"histogram2d\"}], \"histogram2dcontour\": [{\"colorbar\": {\"outlinewidth\": 0, \"ticks\": \"\"}, \"colorscale\": [[0.0, \"#0d0887\"], [0.1111111111111111, \"#46039f\"], [0.2222222222222222, \"#7201a8\"], [0.3333333333333333, \"#9c179e\"], [0.4444444444444444, \"#bd3786\"], [0.5555555555555556, \"#d8576b\"], [0.6666666666666666, \"#ed7953\"], [0.7777777777777778, \"#fb9f3a\"], [0.8888888888888888, \"#fdca26\"], [1.0, \"#f0f921\"]], \"type\": \"histogram2dcontour\"}], \"mesh3d\": [{\"colorbar\": {\"outlinewidth\": 0, \"ticks\": \"\"}, \"type\": \"mesh3d\"}], \"parcoords\": [{\"line\": {\"colorbar\": {\"outlinewidth\": 0, \"ticks\": \"\"}}, \"type\": \"parcoords\"}], \"pie\": [{\"automargin\": true, \"type\": \"pie\"}], \"scatter\": [{\"marker\": {\"colorbar\": {\"outlinewidth\": 0, \"ticks\": \"\"}}, \"type\": \"scatter\"}], \"scatter3d\": [{\"line\": {\"colorbar\": {\"outlinewidth\": 0, \"ticks\": \"\"}}, \"marker\": {\"colorbar\": {\"outlinewidth\": 0, \"ticks\": \"\"}}, \"type\": \"scatter3d\"}], \"scattercarpet\": [{\"marker\": {\"colorbar\": {\"outlinewidth\": 0, \"ticks\": \"\"}}, \"type\": \"scattercarpet\"}], \"scattergeo\": [{\"marker\": {\"colorbar\": {\"outlinewidth\": 0, \"ticks\": \"\"}}, \"type\": \"scattergeo\"}], \"scattergl\": [{\"marker\": {\"colorbar\": {\"outlinewidth\": 0, \"ticks\": \"\"}}, \"type\": \"scattergl\"}], \"scattermapbox\": [{\"marker\": {\"colorbar\": {\"outlinewidth\": 0, \"ticks\": \"\"}}, \"type\": \"scattermapbox\"}], \"scatterpolar\": [{\"marker\": {\"colorbar\": {\"outlinewidth\": 0, \"ticks\": \"\"}}, \"type\": \"scatterpolar\"}], \"scatterpolargl\": [{\"marker\": {\"colorbar\": {\"outlinewidth\": 0, \"ticks\": \"\"}}, \"type\": \"scatterpolargl\"}], \"scatterternary\": [{\"marker\": {\"colorbar\": {\"outlinewidth\": 0, \"ticks\": \"\"}}, \"type\": \"scatterternary\"}], \"surface\": [{\"colorbar\": {\"outlinewidth\": 0, \"ticks\": \"\"}, \"colorscale\": [[0.0, \"#0d0887\"], [0.1111111111111111, \"#46039f\"], [0.2222222222222222, \"#7201a8\"], [0.3333333333333333, \"#9c179e\"], [0.4444444444444444, \"#bd3786\"], [0.5555555555555556, \"#d8576b\"], [0.6666666666666666, \"#ed7953\"], [0.7777777777777778, \"#fb9f3a\"], [0.8888888888888888, \"#fdca26\"], [1.0, \"#f0f921\"]], \"type\": \"surface\"}], \"table\": [{\"cells\": {\"fill\": {\"color\": \"#EBF0F8\"}, \"line\": {\"color\": \"white\"}}, \"header\": {\"fill\": {\"color\": \"#C8D4E3\"}, \"line\": {\"color\": \"white\"}}, \"type\": \"table\"}]}, \"layout\": {\"annotationdefaults\": {\"arrowcolor\": \"#2a3f5f\", \"arrowhead\": 0, \"arrowwidth\": 1}, \"coloraxis\": {\"colorbar\": {\"outlinewidth\": 0, \"ticks\": \"\"}}, \"colorscale\": {\"diverging\": [[0, \"#8e0152\"], [0.1, \"#c51b7d\"], [0.2, \"#de77ae\"], [0.3, \"#f1b6da\"], [0.4, \"#fde0ef\"], [0.5, \"#f7f7f7\"], [0.6, \"#e6f5d0\"], [0.7, \"#b8e186\"], [0.8, \"#7fbc41\"], [0.9, \"#4d9221\"], [1, \"#276419\"]], \"sequential\": [[0.0, \"#0d0887\"], [0.1111111111111111, \"#46039f\"], [0.2222222222222222, \"#7201a8\"], [0.3333333333333333, \"#9c179e\"], [0.4444444444444444, \"#bd3786\"], [0.5555555555555556, \"#d8576b\"], [0.6666666666666666, \"#ed7953\"], [0.7777777777777778, \"#fb9f3a\"], [0.8888888888888888, \"#fdca26\"], [1.0, \"#f0f921\"]], \"sequentialminus\": [[0.0, \"#0d0887\"], [0.1111111111111111, \"#46039f\"], [0.2222222222222222, \"#7201a8\"], [0.3333333333333333, \"#9c179e\"], [0.4444444444444444, \"#bd3786\"], [0.5555555555555556, \"#d8576b\"], [0.6666666666666666, \"#ed7953\"], [0.7777777777777778, \"#fb9f3a\"], [0.8888888888888888, \"#fdca26\"], [1.0, \"#f0f921\"]]}, \"colorway\": [\"#636efa\", \"#EF553B\", \"#00cc96\", \"#ab63fa\", \"#FFA15A\", \"#19d3f3\", \"#FF6692\", \"#B6E880\", \"#FF97FF\", \"#FECB52\"], \"font\": {\"color\": \"#2a3f5f\"}, \"geo\": {\"bgcolor\": \"white\", \"lakecolor\": \"white\", \"landcolor\": \"#E5ECF6\", \"showlakes\": true, \"showland\": true, \"subunitcolor\": \"white\"}, \"hoverlabel\": {\"align\": \"left\"}, \"hovermode\": \"closest\", \"mapbox\": {\"style\": \"light\"}, \"paper_bgcolor\": \"white\", \"plot_bgcolor\": \"#E5ECF6\", \"polar\": {\"angularaxis\": {\"gridcolor\": \"white\", \"linecolor\": \"white\", \"ticks\": \"\"}, \"bgcolor\": \"#E5ECF6\", \"radialaxis\": {\"gridcolor\": \"white\", \"linecolor\": \"white\", \"ticks\": \"\"}}, \"scene\": {\"xaxis\": {\"backgroundcolor\": \"#E5ECF6\", \"gridcolor\": \"white\", \"gridwidth\": 2, \"linecolor\": \"white\", \"showbackground\": true, \"ticks\": \"\", \"zerolinecolor\": \"white\"}, \"yaxis\": {\"backgroundcolor\": \"#E5ECF6\", \"gridcolor\": \"white\", \"gridwidth\": 2, \"linecolor\": \"white\", \"showbackground\": true, \"ticks\": \"\", \"zerolinecolor\": \"white\"}, \"zaxis\": {\"backgroundcolor\": \"#E5ECF6\", \"gridcolor\": \"white\", \"gridwidth\": 2, \"linecolor\": \"white\", \"showbackground\": true, \"ticks\": \"\", \"zerolinecolor\": \"white\"}}, \"shapedefaults\": {\"line\": {\"color\": \"#2a3f5f\"}}, \"ternary\": {\"aaxis\": {\"gridcolor\": \"white\", \"linecolor\": \"white\", \"ticks\": \"\"}, \"baxis\": {\"gridcolor\": \"white\", \"linecolor\": \"white\", \"ticks\": \"\"}, \"bgcolor\": \"#E5ECF6\", \"caxis\": {\"gridcolor\": \"white\", \"linecolor\": \"white\", \"ticks\": \"\"}}, \"title\": {\"x\": 0.05}, \"xaxis\": {\"automargin\": true, \"gridcolor\": \"white\", \"linecolor\": \"white\", \"ticks\": \"\", \"title\": {\"standoff\": 15}, \"zerolinecolor\": \"white\", \"zerolinewidth\": 2}, \"yaxis\": {\"automargin\": true, \"gridcolor\": \"white\", \"linecolor\": \"white\", \"ticks\": \"\", \"title\": {\"standoff\": 15}, \"zerolinecolor\": \"white\", \"zerolinewidth\": 2}}}, \"xaxis\": {\"anchor\": \"y\", \"domain\": [0.0, 1.0], \"title\": {\"text\": \"Sector km\"}}, \"xaxis2\": {\"anchor\": \"y2\", \"domain\": [0.0, 1.0], \"matches\": \"x\", \"showgrid\": true, \"showticklabels\": false}, \"yaxis\": {\"anchor\": \"x\", \"domain\": [0.0, 0.8316], \"title\": {\"text\": \"sum of Number of aircrafts\"}}, \"yaxis2\": {\"anchor\": \"x2\", \"domain\": [0.8416, 1.0], \"matches\": \"y2\", \"showgrid\": false, \"showline\": false, \"showticklabels\": false, \"ticks\": \"\"}},\n",
       "                        {\"responsive\": true}\n",
       "                    ).then(function(){\n",
       "                            \n",
       "var gd = document.getElementById('66493f3d-7a48-4346-8d15-83e7fd644119');\n",
       "var x = new MutationObserver(function (mutations, observer) {{\n",
       "        var display = window.getComputedStyle(gd).display;\n",
       "        if (!display || display === 'none') {{\n",
       "            console.log([gd, 'removed!']);\n",
       "            Plotly.purge(gd);\n",
       "            observer.disconnect();\n",
       "        }}\n",
       "}});\n",
       "\n",
       "// Listen for the removal of the full notebook cells\n",
       "var notebookContainer = gd.closest('#notebook-container');\n",
       "if (notebookContainer) {{\n",
       "    x.observe(notebookContainer, {childList: true});\n",
       "}}\n",
       "\n",
       "// Listen for the clearing of the current output cell\n",
       "var outputEl = gd.closest('.output');\n",
       "if (outputEl) {{\n",
       "    x.observe(outputEl, {childList: true});\n",
       "}}\n",
       "\n",
       "                        })\n",
       "                };\n",
       "                });\n",
       "            </script>\n",
       "        </div>"
      ]
     },
     "metadata": {},
     "output_type": "display_data"
    }
   ],
   "source": [
    "px.histogram(\n",
    "    aircrafts_used_by_big_polluters,\n",
    "    x = \"Sector km\",\n",
    "    y =\"Number of aircrafts\",\n",
    "    histfunc=\"sum\",\n",
    "    nbins=30,\n",
    "    marginal=\"rug\")"
   ]
  },
  {
   "cell_type": "markdown",
   "metadata": {},
   "source": [
    "Ok let's state the what we can conclude from the above few graphs. We can see that most of the aircrafts that pollute a lot are used for short ranges. The main culpride is the Bombardier CRJ-200."
   ]
  },
  {
   "cell_type": "markdown",
   "metadata": {},
   "source": [
    "<img src=\"https://www.aircraftcompare.com/wp-content/uploads/2009/01/Bombardier-CRJ-200-Air-Wisconsin.jpg\" alt=\"logo\" />"
   ]
  },
  {
   "cell_type": "markdown",
   "metadata": {},
   "source": [
    "These small jets are used to connect small airports to main hubs."
   ]
  },
  {
   "cell_type": "code",
   "execution_count": 90,
   "metadata": {
    "scrolled": false
   },
   "outputs": [
    {
     "data": {
      "text/html": [
       "<div>\n",
       "<style scoped>\n",
       "    .dataframe tbody tr th:only-of-type {\n",
       "        vertical-align: middle;\n",
       "    }\n",
       "\n",
       "    .dataframe tbody tr th {\n",
       "        vertical-align: top;\n",
       "    }\n",
       "\n",
       "    .dataframe thead th {\n",
       "        text-align: right;\n",
       "    }\n",
       "</style>\n",
       "<table border=\"1\" class=\"dataframe\">\n",
       "  <thead>\n",
       "    <tr style=\"text-align: right;\">\n",
       "      <th></th>\n",
       "      <th></th>\n",
       "      <th>Seats</th>\n",
       "      <th>First flight</th>\n",
       "      <th>Fuel burn kg/km</th>\n",
       "      <th>Fuel per seat L/100km</th>\n",
       "      <th>Sector km</th>\n",
       "      <th>CO2 per seat kg/100km</th>\n",
       "      <th>CO2 kg/km</th>\n",
       "      <th>Operator ID</th>\n",
       "      <th>Parent/Group ID</th>\n",
       "      <th>First Operator ID</th>\n",
       "      <th>Nr. of Engines</th>\n",
       "      <th>Seat Total</th>\n",
       "      <th>Age (Years)</th>\n",
       "    </tr>\n",
       "    <tr>\n",
       "      <th>Operator</th>\n",
       "      <th>Model</th>\n",
       "      <th></th>\n",
       "      <th></th>\n",
       "      <th></th>\n",
       "      <th></th>\n",
       "      <th></th>\n",
       "      <th></th>\n",
       "      <th></th>\n",
       "      <th></th>\n",
       "      <th></th>\n",
       "      <th></th>\n",
       "      <th></th>\n",
       "      <th></th>\n",
       "      <th></th>\n",
       "    </tr>\n",
       "  </thead>\n",
       "  <tbody>\n",
       "    <tr>\n",
       "      <th rowspan=\"2\" valign=\"top\">'Ohana by Hawaiian</th>\n",
       "      <th>ATR 42</th>\n",
       "      <td>48.000000</td>\n",
       "      <td>1995.0</td>\n",
       "      <td>1.260000</td>\n",
       "      <td>3.150000</td>\n",
       "      <td>560.000000</td>\n",
       "      <td>6.981868</td>\n",
       "      <td>3.888360</td>\n",
       "      <td>10163.0</td>\n",
       "      <td>NaN</td>\n",
       "      <td>1441.75</td>\n",
       "      <td>2.0</td>\n",
       "      <td>48.0</td>\n",
       "      <td>16.700</td>\n",
       "    </tr>\n",
       "    <tr>\n",
       "      <th>ATR 72</th>\n",
       "      <td>70.000000</td>\n",
       "      <td>1997.0</td>\n",
       "      <td>1.420000</td>\n",
       "      <td>2.530000</td>\n",
       "      <td>560.000000</td>\n",
       "      <td>5.607659</td>\n",
       "      <td>4.382120</td>\n",
       "      <td>10163.0</td>\n",
       "      <td>NaN</td>\n",
       "      <td>1798.00</td>\n",
       "      <td>2.0</td>\n",
       "      <td>0.0</td>\n",
       "      <td>26.300</td>\n",
       "    </tr>\n",
       "    <tr>\n",
       "      <th>19th Hole</th>\n",
       "      <th>ATR 72</th>\n",
       "      <td>70.000000</td>\n",
       "      <td>1997.0</td>\n",
       "      <td>1.420000</td>\n",
       "      <td>2.530000</td>\n",
       "      <td>560.000000</td>\n",
       "      <td>5.607659</td>\n",
       "      <td>4.382120</td>\n",
       "      <td>10259.0</td>\n",
       "      <td>NaN</td>\n",
       "      <td>1042.00</td>\n",
       "      <td>2.0</td>\n",
       "      <td>0.0</td>\n",
       "      <td>22.000</td>\n",
       "    </tr>\n",
       "    <tr>\n",
       "      <th>21 Air</th>\n",
       "      <th>Boeing 767-200</th>\n",
       "      <td>199.333333</td>\n",
       "      <td>1984.0</td>\n",
       "      <td>4.923333</td>\n",
       "      <td>3.113333</td>\n",
       "      <td>5833.333333</td>\n",
       "      <td>6.900597</td>\n",
       "      <td>15.193407</td>\n",
       "      <td>10467.0</td>\n",
       "      <td>NaN</td>\n",
       "      <td>380.00</td>\n",
       "      <td>2.0</td>\n",
       "      <td>0.0</td>\n",
       "      <td>32.750</td>\n",
       "    </tr>\n",
       "    <tr>\n",
       "      <th>2Excel Aviation</th>\n",
       "      <th>Boeing 737-300</th>\n",
       "      <td>126.000000</td>\n",
       "      <td>1984.0</td>\n",
       "      <td>3.490000</td>\n",
       "      <td>3.460000</td>\n",
       "      <td>939.000000</td>\n",
       "      <td>7.668972</td>\n",
       "      <td>10.770140</td>\n",
       "      <td>10108.0</td>\n",
       "      <td>NaN</td>\n",
       "      <td>2229.50</td>\n",
       "      <td>2.0</td>\n",
       "      <td>31.0</td>\n",
       "      <td>27.550</td>\n",
       "    </tr>\n",
       "    <tr>\n",
       "      <th>...</th>\n",
       "      <th>...</th>\n",
       "      <td>...</td>\n",
       "      <td>...</td>\n",
       "      <td>...</td>\n",
       "      <td>...</td>\n",
       "      <td>...</td>\n",
       "      <td>...</td>\n",
       "      <td>...</td>\n",
       "      <td>...</td>\n",
       "      <td>...</td>\n",
       "      <td>...</td>\n",
       "      <td>...</td>\n",
       "      <td>...</td>\n",
       "      <td>...</td>\n",
       "    </tr>\n",
       "    <tr>\n",
       "      <th rowspan=\"3\" valign=\"top\">flynas</th>\n",
       "      <th>Airbus A320neo</th>\n",
       "      <td>154.000000</td>\n",
       "      <td>2015.0</td>\n",
       "      <td>2.790000</td>\n",
       "      <td>2.250000</td>\n",
       "      <td>1220.000000</td>\n",
       "      <td>4.987049</td>\n",
       "      <td>8.609940</td>\n",
       "      <td>10290.0</td>\n",
       "      <td>NaN</td>\n",
       "      <td>10290.00</td>\n",
       "      <td>2.0</td>\n",
       "      <td>0.0</td>\n",
       "      <td>0.625</td>\n",
       "    </tr>\n",
       "    <tr>\n",
       "      <th>Boeing 747-400</th>\n",
       "      <td>416.000000</td>\n",
       "      <td>1988.0</td>\n",
       "      <td>10.940000</td>\n",
       "      <td>3.290000</td>\n",
       "      <td>7492.000000</td>\n",
       "      <td>7.292173</td>\n",
       "      <td>33.760840</td>\n",
       "      <td>10290.0</td>\n",
       "      <td>NaN</td>\n",
       "      <td>4596.50</td>\n",
       "      <td>4.0</td>\n",
       "      <td>0.0</td>\n",
       "      <td>18.800</td>\n",
       "    </tr>\n",
       "    <tr>\n",
       "      <th>Embraer ERJ-190</th>\n",
       "      <td>114.000000</td>\n",
       "      <td>2004.0</td>\n",
       "      <td>3.240000</td>\n",
       "      <td>3.540000</td>\n",
       "      <td>1124.000000</td>\n",
       "      <td>7.846290</td>\n",
       "      <td>9.998640</td>\n",
       "      <td>10290.0</td>\n",
       "      <td>NaN</td>\n",
       "      <td>7832.00</td>\n",
       "      <td>2.0</td>\n",
       "      <td>0.0</td>\n",
       "      <td>8.450</td>\n",
       "    </tr>\n",
       "    <tr>\n",
       "      <th>go! (Mesa Airlines)</th>\n",
       "      <th>Bombardier CRJ-200</th>\n",
       "      <td>50.000000</td>\n",
       "      <td>1995.0</td>\n",
       "      <td>1.990000</td>\n",
       "      <td>4.960000</td>\n",
       "      <td>815.000000</td>\n",
       "      <td>10.993671</td>\n",
       "      <td>6.141140</td>\n",
       "      <td>8751.0</td>\n",
       "      <td>NaN</td>\n",
       "      <td>5938.00</td>\n",
       "      <td>2.0</td>\n",
       "      <td>50.0</td>\n",
       "      <td>11.300</td>\n",
       "    </tr>\n",
       "    <tr>\n",
       "      <th>iXAir</th>\n",
       "      <th>Eurocopter EC135</th>\n",
       "      <td>37.000000</td>\n",
       "      <td>1998.0</td>\n",
       "      <td>1.440000</td>\n",
       "      <td>4.860000</td>\n",
       "      <td>1104.000000</td>\n",
       "      <td>10.772025</td>\n",
       "      <td>4.443840</td>\n",
       "      <td>9416.0</td>\n",
       "      <td>NaN</td>\n",
       "      <td>9416.00</td>\n",
       "      <td>2.0</td>\n",
       "      <td>0.0</td>\n",
       "      <td>17.000</td>\n",
       "    </tr>\n",
       "  </tbody>\n",
       "</table>\n",
       "<p>4091 rows × 13 columns</p>\n",
       "</div>"
      ],
      "text/plain": [
       "                                             Seats  First flight  \\\n",
       "Operator            Model                                          \n",
       "'Ohana by Hawaiian  ATR 42               48.000000        1995.0   \n",
       "                    ATR 72               70.000000        1997.0   \n",
       "19th Hole           ATR 72               70.000000        1997.0   \n",
       "21 Air              Boeing 767-200      199.333333        1984.0   \n",
       "2Excel Aviation     Boeing 737-300      126.000000        1984.0   \n",
       "...                                            ...           ...   \n",
       "flynas              Airbus A320neo      154.000000        2015.0   \n",
       "                    Boeing 747-400      416.000000        1988.0   \n",
       "                    Embraer ERJ-190     114.000000        2004.0   \n",
       "go! (Mesa Airlines) Bombardier CRJ-200   50.000000        1995.0   \n",
       "iXAir               Eurocopter EC135     37.000000        1998.0   \n",
       "\n",
       "                                        Fuel burn kg/km  \\\n",
       "Operator            Model                                 \n",
       "'Ohana by Hawaiian  ATR 42                     1.260000   \n",
       "                    ATR 72                     1.420000   \n",
       "19th Hole           ATR 72                     1.420000   \n",
       "21 Air              Boeing 767-200             4.923333   \n",
       "2Excel Aviation     Boeing 737-300             3.490000   \n",
       "...                                                 ...   \n",
       "flynas              Airbus A320neo             2.790000   \n",
       "                    Boeing 747-400            10.940000   \n",
       "                    Embraer ERJ-190            3.240000   \n",
       "go! (Mesa Airlines) Bombardier CRJ-200         1.990000   \n",
       "iXAir               Eurocopter EC135           1.440000   \n",
       "\n",
       "                                        Fuel per seat L/100km    Sector km  \\\n",
       "Operator            Model                                                    \n",
       "'Ohana by Hawaiian  ATR 42                           3.150000   560.000000   \n",
       "                    ATR 72                           2.530000   560.000000   \n",
       "19th Hole           ATR 72                           2.530000   560.000000   \n",
       "21 Air              Boeing 767-200                   3.113333  5833.333333   \n",
       "2Excel Aviation     Boeing 737-300                   3.460000   939.000000   \n",
       "...                                                       ...          ...   \n",
       "flynas              Airbus A320neo                   2.250000  1220.000000   \n",
       "                    Boeing 747-400                   3.290000  7492.000000   \n",
       "                    Embraer ERJ-190                  3.540000  1124.000000   \n",
       "go! (Mesa Airlines) Bombardier CRJ-200               4.960000   815.000000   \n",
       "iXAir               Eurocopter EC135                 4.860000  1104.000000   \n",
       "\n",
       "                                        CO2 per seat kg/100km  CO2 kg/km  \\\n",
       "Operator            Model                                                  \n",
       "'Ohana by Hawaiian  ATR 42                           6.981868   3.888360   \n",
       "                    ATR 72                           5.607659   4.382120   \n",
       "19th Hole           ATR 72                           5.607659   4.382120   \n",
       "21 Air              Boeing 767-200                   6.900597  15.193407   \n",
       "2Excel Aviation     Boeing 737-300                   7.668972  10.770140   \n",
       "...                                                       ...        ...   \n",
       "flynas              Airbus A320neo                   4.987049   8.609940   \n",
       "                    Boeing 747-400                   7.292173  33.760840   \n",
       "                    Embraer ERJ-190                  7.846290   9.998640   \n",
       "go! (Mesa Airlines) Bombardier CRJ-200              10.993671   6.141140   \n",
       "iXAir               Eurocopter EC135                10.772025   4.443840   \n",
       "\n",
       "                                        Operator ID  Parent/Group ID  \\\n",
       "Operator            Model                                              \n",
       "'Ohana by Hawaiian  ATR 42                  10163.0              NaN   \n",
       "                    ATR 72                  10163.0              NaN   \n",
       "19th Hole           ATR 72                  10259.0              NaN   \n",
       "21 Air              Boeing 767-200          10467.0              NaN   \n",
       "2Excel Aviation     Boeing 737-300          10108.0              NaN   \n",
       "...                                             ...              ...   \n",
       "flynas              Airbus A320neo          10290.0              NaN   \n",
       "                    Boeing 747-400          10290.0              NaN   \n",
       "                    Embraer ERJ-190         10290.0              NaN   \n",
       "go! (Mesa Airlines) Bombardier CRJ-200       8751.0              NaN   \n",
       "iXAir               Eurocopter EC135         9416.0              NaN   \n",
       "\n",
       "                                        First Operator ID  Nr. of Engines  \\\n",
       "Operator            Model                                                   \n",
       "'Ohana by Hawaiian  ATR 42                        1441.75             2.0   \n",
       "                    ATR 72                        1798.00             2.0   \n",
       "19th Hole           ATR 72                        1042.00             2.0   \n",
       "21 Air              Boeing 767-200                 380.00             2.0   \n",
       "2Excel Aviation     Boeing 737-300                2229.50             2.0   \n",
       "...                                                   ...             ...   \n",
       "flynas              Airbus A320neo               10290.00             2.0   \n",
       "                    Boeing 747-400                4596.50             4.0   \n",
       "                    Embraer ERJ-190               7832.00             2.0   \n",
       "go! (Mesa Airlines) Bombardier CRJ-200            5938.00             2.0   \n",
       "iXAir               Eurocopter EC135              9416.00             2.0   \n",
       "\n",
       "                                        Seat Total  Age (Years)  \n",
       "Operator            Model                                        \n",
       "'Ohana by Hawaiian  ATR 42                    48.0       16.700  \n",
       "                    ATR 72                     0.0       26.300  \n",
       "19th Hole           ATR 72                     0.0       22.000  \n",
       "21 Air              Boeing 767-200             0.0       32.750  \n",
       "2Excel Aviation     Boeing 737-300            31.0       27.550  \n",
       "...                                            ...          ...  \n",
       "flynas              Airbus A320neo             0.0        0.625  \n",
       "                    Boeing 747-400             0.0       18.800  \n",
       "                    Embraer ERJ-190            0.0        8.450  \n",
       "go! (Mesa Airlines) Bombardier CRJ-200        50.0       11.300  \n",
       "iXAir               Eurocopter EC135           0.0       17.000  \n",
       "\n",
       "[4091 rows x 13 columns]"
      ]
     },
     "execution_count": 90,
     "metadata": {},
     "output_type": "execute_result"
    }
   ],
   "source": [
    "aircrafts_airlines.reset_index().groupby([\"Operator\", \"Model\"]).mean()"
   ]
  },
  {
   "cell_type": "code",
   "execution_count": 91,
   "metadata": {},
   "outputs": [
    {
     "data": {
      "text/html": [
       "<div>\n",
       "<style scoped>\n",
       "    .dataframe tbody tr th:only-of-type {\n",
       "        vertical-align: middle;\n",
       "    }\n",
       "\n",
       "    .dataframe tbody tr th {\n",
       "        vertical-align: top;\n",
       "    }\n",
       "\n",
       "    .dataframe thead th {\n",
       "        text-align: right;\n",
       "    }\n",
       "</style>\n",
       "<table border=\"1\" class=\"dataframe\">\n",
       "  <thead>\n",
       "    <tr style=\"text-align: right;\">\n",
       "      <th></th>\n",
       "      <th>Nb planes</th>\n",
       "    </tr>\n",
       "    <tr>\n",
       "      <th>Operator Country</th>\n",
       "      <th></th>\n",
       "    </tr>\n",
       "  </thead>\n",
       "  <tbody>\n",
       "    <tr>\n",
       "      <th>United States</th>\n",
       "      <td>7347</td>\n",
       "    </tr>\n",
       "    <tr>\n",
       "      <th>China</th>\n",
       "      <td>4052</td>\n",
       "    </tr>\n",
       "    <tr>\n",
       "      <th>United Kingdom</th>\n",
       "      <td>1024</td>\n",
       "    </tr>\n",
       "    <tr>\n",
       "      <th>Russian Federation</th>\n",
       "      <td>879</td>\n",
       "    </tr>\n",
       "    <tr>\n",
       "      <th>India</th>\n",
       "      <td>795</td>\n",
       "    </tr>\n",
       "    <tr>\n",
       "      <th>...</th>\n",
       "      <td>...</td>\n",
       "    </tr>\n",
       "    <tr>\n",
       "      <th>Solomon Islands</th>\n",
       "      <td>1</td>\n",
       "    </tr>\n",
       "    <tr>\n",
       "      <th>Greenland</th>\n",
       "      <td>1</td>\n",
       "    </tr>\n",
       "    <tr>\n",
       "      <th>Guinea</th>\n",
       "      <td>1</td>\n",
       "    </tr>\n",
       "    <tr>\n",
       "      <th>Saint Vincent And The Grenadines</th>\n",
       "      <td>1</td>\n",
       "    </tr>\n",
       "    <tr>\n",
       "      <th>Saint Pierre And Miquelon</th>\n",
       "      <td>1</td>\n",
       "    </tr>\n",
       "  </tbody>\n",
       "</table>\n",
       "<p>177 rows × 1 columns</p>\n",
       "</div>"
      ],
      "text/plain": [
       "                                  Nb planes\n",
       "Operator Country                           \n",
       "United States                          7347\n",
       "China                                  4052\n",
       "United Kingdom                         1024\n",
       "Russian Federation                      879\n",
       "India                                   795\n",
       "...                                     ...\n",
       "Solomon Islands                           1\n",
       "Greenland                                 1\n",
       "Guinea                                    1\n",
       "Saint Vincent And The Grenadines          1\n",
       "Saint Pierre And Miquelon                 1\n",
       "\n",
       "[177 rows x 1 columns]"
      ]
     },
     "execution_count": 91,
     "metadata": {},
     "output_type": "execute_result"
    }
   ],
   "source": [
    "airlines_country = aircrafts_airlines.copy()\n",
    "airlines_country = airlines_country[airlines_country[\"Operator Category\"] == 'Airline']\n",
    "airlines_country = airlines_country.groupby('Operator Country').count()\n",
    "airlines_country = airlines_country[[\"Seats\"]].rename(columns={\"Seats\": \"Nb planes\"})\n",
    "airlines_country = airlines_country.sort_values(\"Nb planes\", ascending = False)\n",
    "airlines_country"
   ]
  },
  {
   "cell_type": "code",
   "execution_count": 92,
   "metadata": {},
   "outputs": [
    {
     "data": {
      "text/html": [
       "<div>\n",
       "<style scoped>\n",
       "    .dataframe tbody tr th:only-of-type {\n",
       "        vertical-align: middle;\n",
       "    }\n",
       "\n",
       "    .dataframe tbody tr th {\n",
       "        vertical-align: top;\n",
       "    }\n",
       "\n",
       "    .dataframe thead th {\n",
       "        text-align: right;\n",
       "    }\n",
       "</style>\n",
       "<table border=\"1\" class=\"dataframe\">\n",
       "  <thead>\n",
       "    <tr style=\"text-align: right;\">\n",
       "      <th></th>\n",
       "      <th>Operator Country</th>\n",
       "      <th>Nb planes</th>\n",
       "    </tr>\n",
       "  </thead>\n",
       "  <tbody>\n",
       "    <tr>\n",
       "      <th>0</th>\n",
       "      <td>United States</td>\n",
       "      <td>7347</td>\n",
       "    </tr>\n",
       "    <tr>\n",
       "      <th>1</th>\n",
       "      <td>China</td>\n",
       "      <td>4052</td>\n",
       "    </tr>\n",
       "    <tr>\n",
       "      <th>2</th>\n",
       "      <td>United Kingdom</td>\n",
       "      <td>1024</td>\n",
       "    </tr>\n",
       "    <tr>\n",
       "      <th>3</th>\n",
       "      <td>Russian Federation</td>\n",
       "      <td>879</td>\n",
       "    </tr>\n",
       "    <tr>\n",
       "      <th>4</th>\n",
       "      <td>India</td>\n",
       "      <td>795</td>\n",
       "    </tr>\n",
       "    <tr>\n",
       "      <th>...</th>\n",
       "      <td>...</td>\n",
       "      <td>...</td>\n",
       "    </tr>\n",
       "    <tr>\n",
       "      <th>77</th>\n",
       "      <td>Sri Lanka</td>\n",
       "      <td>38</td>\n",
       "    </tr>\n",
       "    <tr>\n",
       "      <th>78</th>\n",
       "      <td>Belarus</td>\n",
       "      <td>33</td>\n",
       "    </tr>\n",
       "    <tr>\n",
       "      <th>79</th>\n",
       "      <td>Uzbekistan</td>\n",
       "      <td>33</td>\n",
       "    </tr>\n",
       "    <tr>\n",
       "      <th>80</th>\n",
       "      <td>Cambodia</td>\n",
       "      <td>32</td>\n",
       "    </tr>\n",
       "    <tr>\n",
       "      <th>81</th>\n",
       "      <td>Nepal</td>\n",
       "      <td>32</td>\n",
       "    </tr>\n",
       "  </tbody>\n",
       "</table>\n",
       "<p>82 rows × 2 columns</p>\n",
       "</div>"
      ],
      "text/plain": [
       "      Operator Country  Nb planes\n",
       "0        United States       7347\n",
       "1                China       4052\n",
       "2       United Kingdom       1024\n",
       "3   Russian Federation        879\n",
       "4                India        795\n",
       "..                 ...        ...\n",
       "77           Sri Lanka         38\n",
       "78             Belarus         33\n",
       "79          Uzbekistan         33\n",
       "80            Cambodia         32\n",
       "81               Nepal         32\n",
       "\n",
       "[82 rows x 2 columns]"
      ]
     },
     "execution_count": 92,
     "metadata": {},
     "output_type": "execute_result"
    }
   ],
   "source": [
    "airlines_country = airlines_country[airlines_country['Nb planes'] > 30].reset_index()\n",
    "airlines_country_list = airlines_country['Operator Country'].tolist()\n",
    "airlines_country"
   ]
  },
  {
   "cell_type": "code",
   "execution_count": 93,
   "metadata": {
    "scrolled": false
   },
   "outputs": [
    {
     "data": {
      "application/vnd.plotly.v1+json": {
       "config": {
        "plotlyServerURL": "https://plot.ly"
       },
       "data": [
        {
         "coloraxis": "coloraxis",
         "geo": "geo",
         "hoverlabel": {
          "namelength": 0
         },
         "hovertemplate": "<b>%{hovertext}</b><br><br>Operator Country=%{location}<br>Nb planes=%{z}",
         "hovertext": [
          "United States",
          "China",
          "United Kingdom",
          "Russian Federation",
          "India",
          "Japan",
          "Germany",
          "Canada",
          "Indonesia",
          "Ireland",
          "Brazil",
          "Turkey",
          "Spain",
          "United Arab Emirates",
          "France",
          "Korea, Republic Of",
          "Mexico",
          "Australia",
          "Thailand",
          "Hong Kong",
          "Malaysia",
          "Austria",
          "Saudi Arabia",
          "Sweden",
          "Singapore",
          "Philippines",
          "Netherlands",
          "Qatar",
          "Taiwan",
          "Viet Nam",
          "Colombia",
          "Italy",
          "South Africa",
          "Chile",
          "Switzerland",
          "Portugal",
          "Poland",
          "Egypt",
          "Ethiopia",
          "Argentina",
          "Hungary",
          "Ukraine",
          "Panama",
          "Belgium",
          "Greece",
          "Iran, Islamic Republic Of",
          "Israel",
          "Finland",
          "Nigeria",
          "Denmark",
          "New Zealand",
          "Kenya",
          "Kazakhstan",
          "Morocco",
          "Norway",
          "Oman",
          "Algeria",
          "Pakistan",
          "Latvia",
          "Myanmar",
          "Bahrain",
          "Kuwait",
          "Tunisia",
          "Malta",
          "Iceland",
          "Romania",
          "Czech Republic",
          "Libya",
          "Bangladesh",
          "Luxembourg",
          "Lithuania",
          "Azerbaijan",
          "Bulgaria",
          "Venezuela",
          "Jordan",
          "Iraq",
          "Bolivia",
          "Sri Lanka",
          "Belarus",
          "Uzbekistan",
          "Cambodia",
          "Nepal"
         ],
         "locationmode": "country names",
         "locations": [
          "United States",
          "China",
          "United Kingdom",
          "Russian Federation",
          "India",
          "Japan",
          "Germany",
          "Canada",
          "Indonesia",
          "Ireland",
          "Brazil",
          "Turkey",
          "Spain",
          "United Arab Emirates",
          "France",
          "Korea, Republic Of",
          "Mexico",
          "Australia",
          "Thailand",
          "Hong Kong",
          "Malaysia",
          "Austria",
          "Saudi Arabia",
          "Sweden",
          "Singapore",
          "Philippines",
          "Netherlands",
          "Qatar",
          "Taiwan",
          "Viet Nam",
          "Colombia",
          "Italy",
          "South Africa",
          "Chile",
          "Switzerland",
          "Portugal",
          "Poland",
          "Egypt",
          "Ethiopia",
          "Argentina",
          "Hungary",
          "Ukraine",
          "Panama",
          "Belgium",
          "Greece",
          "Iran, Islamic Republic Of",
          "Israel",
          "Finland",
          "Nigeria",
          "Denmark",
          "New Zealand",
          "Kenya",
          "Kazakhstan",
          "Morocco",
          "Norway",
          "Oman",
          "Algeria",
          "Pakistan",
          "Latvia",
          "Myanmar",
          "Bahrain",
          "Kuwait",
          "Tunisia",
          "Malta",
          "Iceland",
          "Romania",
          "Czech Republic",
          "Libya",
          "Bangladesh",
          "Luxembourg",
          "Lithuania",
          "Azerbaijan",
          "Bulgaria",
          "Venezuela",
          "Jordan",
          "Iraq",
          "Bolivia",
          "Sri Lanka",
          "Belarus",
          "Uzbekistan",
          "Cambodia",
          "Nepal"
         ],
         "name": "",
         "type": "choropleth",
         "z": [
          7347,
          4052,
          1024,
          879,
          795,
          748,
          735,
          680,
          640,
          601,
          576,
          574,
          522,
          517,
          486,
          449,
          432,
          412,
          369,
          328,
          308,
          275,
          263,
          259,
          253,
          250,
          249,
          247,
          237,
          219,
          202,
          196,
          194,
          189,
          171,
          164,
          150,
          133,
          126,
          120,
          118,
          112,
          106,
          105,
          103,
          88,
          88,
          88,
          83,
          82,
          81,
          79,
          79,
          78,
          73,
          70,
          69,
          64,
          61,
          56,
          56,
          55,
          55,
          55,
          52,
          51,
          50,
          49,
          49,
          47,
          45,
          43,
          43,
          42,
          41,
          40,
          39,
          38,
          33,
          33,
          32,
          32
         ]
        }
       ],
       "layout": {
        "coloraxis": {
         "colorbar": {
          "title": {
           "text": "Nb planes"
          }
         },
         "colorscale": [
          [
           0,
           "rgb(255,247,236)"
          ],
          [
           0.125,
           "rgb(254,232,200)"
          ],
          [
           0.25,
           "rgb(253,212,158)"
          ],
          [
           0.375,
           "rgb(253,187,132)"
          ],
          [
           0.5,
           "rgb(252,141,89)"
          ],
          [
           0.625,
           "rgb(239,101,72)"
          ],
          [
           0.75,
           "rgb(215,48,31)"
          ],
          [
           0.875,
           "rgb(179,0,0)"
          ],
          [
           1,
           "rgb(127,0,0)"
          ]
         ]
        },
        "geo": {
         "center": {},
         "domain": {
          "x": [
           0,
           1
          ],
          "y": [
           0,
           1
          ]
         },
         "projection": {
          "type": "natural earth"
         }
        },
        "height": 600,
        "legend": {
         "tracegroupgap": 0
        },
        "template": {
         "data": {
          "bar": [
           {
            "error_x": {
             "color": "#2a3f5f"
            },
            "error_y": {
             "color": "#2a3f5f"
            },
            "marker": {
             "line": {
              "color": "#E5ECF6",
              "width": 0.5
             }
            },
            "type": "bar"
           }
          ],
          "barpolar": [
           {
            "marker": {
             "line": {
              "color": "#E5ECF6",
              "width": 0.5
             }
            },
            "type": "barpolar"
           }
          ],
          "carpet": [
           {
            "aaxis": {
             "endlinecolor": "#2a3f5f",
             "gridcolor": "white",
             "linecolor": "white",
             "minorgridcolor": "white",
             "startlinecolor": "#2a3f5f"
            },
            "baxis": {
             "endlinecolor": "#2a3f5f",
             "gridcolor": "white",
             "linecolor": "white",
             "minorgridcolor": "white",
             "startlinecolor": "#2a3f5f"
            },
            "type": "carpet"
           }
          ],
          "choropleth": [
           {
            "colorbar": {
             "outlinewidth": 0,
             "ticks": ""
            },
            "type": "choropleth"
           }
          ],
          "contour": [
           {
            "colorbar": {
             "outlinewidth": 0,
             "ticks": ""
            },
            "colorscale": [
             [
              0,
              "#0d0887"
             ],
             [
              0.1111111111111111,
              "#46039f"
             ],
             [
              0.2222222222222222,
              "#7201a8"
             ],
             [
              0.3333333333333333,
              "#9c179e"
             ],
             [
              0.4444444444444444,
              "#bd3786"
             ],
             [
              0.5555555555555556,
              "#d8576b"
             ],
             [
              0.6666666666666666,
              "#ed7953"
             ],
             [
              0.7777777777777778,
              "#fb9f3a"
             ],
             [
              0.8888888888888888,
              "#fdca26"
             ],
             [
              1,
              "#f0f921"
             ]
            ],
            "type": "contour"
           }
          ],
          "contourcarpet": [
           {
            "colorbar": {
             "outlinewidth": 0,
             "ticks": ""
            },
            "type": "contourcarpet"
           }
          ],
          "heatmap": [
           {
            "colorbar": {
             "outlinewidth": 0,
             "ticks": ""
            },
            "colorscale": [
             [
              0,
              "#0d0887"
             ],
             [
              0.1111111111111111,
              "#46039f"
             ],
             [
              0.2222222222222222,
              "#7201a8"
             ],
             [
              0.3333333333333333,
              "#9c179e"
             ],
             [
              0.4444444444444444,
              "#bd3786"
             ],
             [
              0.5555555555555556,
              "#d8576b"
             ],
             [
              0.6666666666666666,
              "#ed7953"
             ],
             [
              0.7777777777777778,
              "#fb9f3a"
             ],
             [
              0.8888888888888888,
              "#fdca26"
             ],
             [
              1,
              "#f0f921"
             ]
            ],
            "type": "heatmap"
           }
          ],
          "heatmapgl": [
           {
            "colorbar": {
             "outlinewidth": 0,
             "ticks": ""
            },
            "colorscale": [
             [
              0,
              "#0d0887"
             ],
             [
              0.1111111111111111,
              "#46039f"
             ],
             [
              0.2222222222222222,
              "#7201a8"
             ],
             [
              0.3333333333333333,
              "#9c179e"
             ],
             [
              0.4444444444444444,
              "#bd3786"
             ],
             [
              0.5555555555555556,
              "#d8576b"
             ],
             [
              0.6666666666666666,
              "#ed7953"
             ],
             [
              0.7777777777777778,
              "#fb9f3a"
             ],
             [
              0.8888888888888888,
              "#fdca26"
             ],
             [
              1,
              "#f0f921"
             ]
            ],
            "type": "heatmapgl"
           }
          ],
          "histogram": [
           {
            "marker": {
             "colorbar": {
              "outlinewidth": 0,
              "ticks": ""
             }
            },
            "type": "histogram"
           }
          ],
          "histogram2d": [
           {
            "colorbar": {
             "outlinewidth": 0,
             "ticks": ""
            },
            "colorscale": [
             [
              0,
              "#0d0887"
             ],
             [
              0.1111111111111111,
              "#46039f"
             ],
             [
              0.2222222222222222,
              "#7201a8"
             ],
             [
              0.3333333333333333,
              "#9c179e"
             ],
             [
              0.4444444444444444,
              "#bd3786"
             ],
             [
              0.5555555555555556,
              "#d8576b"
             ],
             [
              0.6666666666666666,
              "#ed7953"
             ],
             [
              0.7777777777777778,
              "#fb9f3a"
             ],
             [
              0.8888888888888888,
              "#fdca26"
             ],
             [
              1,
              "#f0f921"
             ]
            ],
            "type": "histogram2d"
           }
          ],
          "histogram2dcontour": [
           {
            "colorbar": {
             "outlinewidth": 0,
             "ticks": ""
            },
            "colorscale": [
             [
              0,
              "#0d0887"
             ],
             [
              0.1111111111111111,
              "#46039f"
             ],
             [
              0.2222222222222222,
              "#7201a8"
             ],
             [
              0.3333333333333333,
              "#9c179e"
             ],
             [
              0.4444444444444444,
              "#bd3786"
             ],
             [
              0.5555555555555556,
              "#d8576b"
             ],
             [
              0.6666666666666666,
              "#ed7953"
             ],
             [
              0.7777777777777778,
              "#fb9f3a"
             ],
             [
              0.8888888888888888,
              "#fdca26"
             ],
             [
              1,
              "#f0f921"
             ]
            ],
            "type": "histogram2dcontour"
           }
          ],
          "mesh3d": [
           {
            "colorbar": {
             "outlinewidth": 0,
             "ticks": ""
            },
            "type": "mesh3d"
           }
          ],
          "parcoords": [
           {
            "line": {
             "colorbar": {
              "outlinewidth": 0,
              "ticks": ""
             }
            },
            "type": "parcoords"
           }
          ],
          "pie": [
           {
            "automargin": true,
            "type": "pie"
           }
          ],
          "scatter": [
           {
            "marker": {
             "colorbar": {
              "outlinewidth": 0,
              "ticks": ""
             }
            },
            "type": "scatter"
           }
          ],
          "scatter3d": [
           {
            "line": {
             "colorbar": {
              "outlinewidth": 0,
              "ticks": ""
             }
            },
            "marker": {
             "colorbar": {
              "outlinewidth": 0,
              "ticks": ""
             }
            },
            "type": "scatter3d"
           }
          ],
          "scattercarpet": [
           {
            "marker": {
             "colorbar": {
              "outlinewidth": 0,
              "ticks": ""
             }
            },
            "type": "scattercarpet"
           }
          ],
          "scattergeo": [
           {
            "marker": {
             "colorbar": {
              "outlinewidth": 0,
              "ticks": ""
             }
            },
            "type": "scattergeo"
           }
          ],
          "scattergl": [
           {
            "marker": {
             "colorbar": {
              "outlinewidth": 0,
              "ticks": ""
             }
            },
            "type": "scattergl"
           }
          ],
          "scattermapbox": [
           {
            "marker": {
             "colorbar": {
              "outlinewidth": 0,
              "ticks": ""
             }
            },
            "type": "scattermapbox"
           }
          ],
          "scatterpolar": [
           {
            "marker": {
             "colorbar": {
              "outlinewidth": 0,
              "ticks": ""
             }
            },
            "type": "scatterpolar"
           }
          ],
          "scatterpolargl": [
           {
            "marker": {
             "colorbar": {
              "outlinewidth": 0,
              "ticks": ""
             }
            },
            "type": "scatterpolargl"
           }
          ],
          "scatterternary": [
           {
            "marker": {
             "colorbar": {
              "outlinewidth": 0,
              "ticks": ""
             }
            },
            "type": "scatterternary"
           }
          ],
          "surface": [
           {
            "colorbar": {
             "outlinewidth": 0,
             "ticks": ""
            },
            "colorscale": [
             [
              0,
              "#0d0887"
             ],
             [
              0.1111111111111111,
              "#46039f"
             ],
             [
              0.2222222222222222,
              "#7201a8"
             ],
             [
              0.3333333333333333,
              "#9c179e"
             ],
             [
              0.4444444444444444,
              "#bd3786"
             ],
             [
              0.5555555555555556,
              "#d8576b"
             ],
             [
              0.6666666666666666,
              "#ed7953"
             ],
             [
              0.7777777777777778,
              "#fb9f3a"
             ],
             [
              0.8888888888888888,
              "#fdca26"
             ],
             [
              1,
              "#f0f921"
             ]
            ],
            "type": "surface"
           }
          ],
          "table": [
           {
            "cells": {
             "fill": {
              "color": "#EBF0F8"
             },
             "line": {
              "color": "white"
             }
            },
            "header": {
             "fill": {
              "color": "#C8D4E3"
             },
             "line": {
              "color": "white"
             }
            },
            "type": "table"
           }
          ]
         },
         "layout": {
          "annotationdefaults": {
           "arrowcolor": "#2a3f5f",
           "arrowhead": 0,
           "arrowwidth": 1
          },
          "coloraxis": {
           "colorbar": {
            "outlinewidth": 0,
            "ticks": ""
           }
          },
          "colorscale": {
           "diverging": [
            [
             0,
             "#8e0152"
            ],
            [
             0.1,
             "#c51b7d"
            ],
            [
             0.2,
             "#de77ae"
            ],
            [
             0.3,
             "#f1b6da"
            ],
            [
             0.4,
             "#fde0ef"
            ],
            [
             0.5,
             "#f7f7f7"
            ],
            [
             0.6,
             "#e6f5d0"
            ],
            [
             0.7,
             "#b8e186"
            ],
            [
             0.8,
             "#7fbc41"
            ],
            [
             0.9,
             "#4d9221"
            ],
            [
             1,
             "#276419"
            ]
           ],
           "sequential": [
            [
             0,
             "#0d0887"
            ],
            [
             0.1111111111111111,
             "#46039f"
            ],
            [
             0.2222222222222222,
             "#7201a8"
            ],
            [
             0.3333333333333333,
             "#9c179e"
            ],
            [
             0.4444444444444444,
             "#bd3786"
            ],
            [
             0.5555555555555556,
             "#d8576b"
            ],
            [
             0.6666666666666666,
             "#ed7953"
            ],
            [
             0.7777777777777778,
             "#fb9f3a"
            ],
            [
             0.8888888888888888,
             "#fdca26"
            ],
            [
             1,
             "#f0f921"
            ]
           ],
           "sequentialminus": [
            [
             0,
             "#0d0887"
            ],
            [
             0.1111111111111111,
             "#46039f"
            ],
            [
             0.2222222222222222,
             "#7201a8"
            ],
            [
             0.3333333333333333,
             "#9c179e"
            ],
            [
             0.4444444444444444,
             "#bd3786"
            ],
            [
             0.5555555555555556,
             "#d8576b"
            ],
            [
             0.6666666666666666,
             "#ed7953"
            ],
            [
             0.7777777777777778,
             "#fb9f3a"
            ],
            [
             0.8888888888888888,
             "#fdca26"
            ],
            [
             1,
             "#f0f921"
            ]
           ]
          },
          "colorway": [
           "#636efa",
           "#EF553B",
           "#00cc96",
           "#ab63fa",
           "#FFA15A",
           "#19d3f3",
           "#FF6692",
           "#B6E880",
           "#FF97FF",
           "#FECB52"
          ],
          "font": {
           "color": "#2a3f5f"
          },
          "geo": {
           "bgcolor": "white",
           "lakecolor": "white",
           "landcolor": "#E5ECF6",
           "showlakes": true,
           "showland": true,
           "subunitcolor": "white"
          },
          "hoverlabel": {
           "align": "left"
          },
          "hovermode": "closest",
          "mapbox": {
           "style": "light"
          },
          "paper_bgcolor": "white",
          "plot_bgcolor": "#E5ECF6",
          "polar": {
           "angularaxis": {
            "gridcolor": "white",
            "linecolor": "white",
            "ticks": ""
           },
           "bgcolor": "#E5ECF6",
           "radialaxis": {
            "gridcolor": "white",
            "linecolor": "white",
            "ticks": ""
           }
          },
          "scene": {
           "xaxis": {
            "backgroundcolor": "#E5ECF6",
            "gridcolor": "white",
            "gridwidth": 2,
            "linecolor": "white",
            "showbackground": true,
            "ticks": "",
            "zerolinecolor": "white"
           },
           "yaxis": {
            "backgroundcolor": "#E5ECF6",
            "gridcolor": "white",
            "gridwidth": 2,
            "linecolor": "white",
            "showbackground": true,
            "ticks": "",
            "zerolinecolor": "white"
           },
           "zaxis": {
            "backgroundcolor": "#E5ECF6",
            "gridcolor": "white",
            "gridwidth": 2,
            "linecolor": "white",
            "showbackground": true,
            "ticks": "",
            "zerolinecolor": "white"
           }
          },
          "shapedefaults": {
           "line": {
            "color": "#2a3f5f"
           }
          },
          "ternary": {
           "aaxis": {
            "gridcolor": "white",
            "linecolor": "white",
            "ticks": ""
           },
           "baxis": {
            "gridcolor": "white",
            "linecolor": "white",
            "ticks": ""
           },
           "bgcolor": "#E5ECF6",
           "caxis": {
            "gridcolor": "white",
            "linecolor": "white",
            "ticks": ""
           }
          },
          "title": {
           "x": 0.05
          },
          "xaxis": {
           "automargin": true,
           "gridcolor": "white",
           "linecolor": "white",
           "ticks": "",
           "title": {
            "standoff": 15
           },
           "zerolinecolor": "white",
           "zerolinewidth": 2
          },
          "yaxis": {
           "automargin": true,
           "gridcolor": "white",
           "linecolor": "white",
           "ticks": "",
           "title": {
            "standoff": 15
           },
           "zerolinecolor": "white",
           "zerolinewidth": 2
          }
         }
        },
        "title": {
         "text": "Planes per country"
        }
       }
      },
      "text/html": [
       "<div>\n",
       "        \n",
       "        \n",
       "            <div id=\"b198bc55-5595-4c39-9a04-e17e1caf4cd7\" class=\"plotly-graph-div\" style=\"height:600px; width:100%;\"></div>\n",
       "            <script type=\"text/javascript\">\n",
       "                require([\"plotly\"], function(Plotly) {\n",
       "                    window.PLOTLYENV=window.PLOTLYENV || {};\n",
       "                    \n",
       "                if (document.getElementById(\"b198bc55-5595-4c39-9a04-e17e1caf4cd7\")) {\n",
       "                    Plotly.newPlot(\n",
       "                        'b198bc55-5595-4c39-9a04-e17e1caf4cd7',\n",
       "                        [{\"coloraxis\": \"coloraxis\", \"geo\": \"geo\", \"hoverlabel\": {\"namelength\": 0}, \"hovertemplate\": \"<b>%{hovertext}</b><br><br>Operator Country=%{location}<br>Nb planes=%{z}\", \"hovertext\": [\"United States\", \"China\", \"United Kingdom\", \"Russian Federation\", \"India\", \"Japan\", \"Germany\", \"Canada\", \"Indonesia\", \"Ireland\", \"Brazil\", \"Turkey\", \"Spain\", \"United Arab Emirates\", \"France\", \"Korea, Republic Of\", \"Mexico\", \"Australia\", \"Thailand\", \"Hong Kong\", \"Malaysia\", \"Austria\", \"Saudi Arabia\", \"Sweden\", \"Singapore\", \"Philippines\", \"Netherlands\", \"Qatar\", \"Taiwan\", \"Viet Nam\", \"Colombia\", \"Italy\", \"South Africa\", \"Chile\", \"Switzerland\", \"Portugal\", \"Poland\", \"Egypt\", \"Ethiopia\", \"Argentina\", \"Hungary\", \"Ukraine\", \"Panama\", \"Belgium\", \"Greece\", \"Iran, Islamic Republic Of\", \"Israel\", \"Finland\", \"Nigeria\", \"Denmark\", \"New Zealand\", \"Kenya\", \"Kazakhstan\", \"Morocco\", \"Norway\", \"Oman\", \"Algeria\", \"Pakistan\", \"Latvia\", \"Myanmar\", \"Bahrain\", \"Kuwait\", \"Tunisia\", \"Malta\", \"Iceland\", \"Romania\", \"Czech Republic\", \"Libya\", \"Bangladesh\", \"Luxembourg\", \"Lithuania\", \"Azerbaijan\", \"Bulgaria\", \"Venezuela\", \"Jordan\", \"Iraq\", \"Bolivia\", \"Sri Lanka\", \"Belarus\", \"Uzbekistan\", \"Cambodia\", \"Nepal\"], \"locationmode\": \"country names\", \"locations\": [\"United States\", \"China\", \"United Kingdom\", \"Russian Federation\", \"India\", \"Japan\", \"Germany\", \"Canada\", \"Indonesia\", \"Ireland\", \"Brazil\", \"Turkey\", \"Spain\", \"United Arab Emirates\", \"France\", \"Korea, Republic Of\", \"Mexico\", \"Australia\", \"Thailand\", \"Hong Kong\", \"Malaysia\", \"Austria\", \"Saudi Arabia\", \"Sweden\", \"Singapore\", \"Philippines\", \"Netherlands\", \"Qatar\", \"Taiwan\", \"Viet Nam\", \"Colombia\", \"Italy\", \"South Africa\", \"Chile\", \"Switzerland\", \"Portugal\", \"Poland\", \"Egypt\", \"Ethiopia\", \"Argentina\", \"Hungary\", \"Ukraine\", \"Panama\", \"Belgium\", \"Greece\", \"Iran, Islamic Republic Of\", \"Israel\", \"Finland\", \"Nigeria\", \"Denmark\", \"New Zealand\", \"Kenya\", \"Kazakhstan\", \"Morocco\", \"Norway\", \"Oman\", \"Algeria\", \"Pakistan\", \"Latvia\", \"Myanmar\", \"Bahrain\", \"Kuwait\", \"Tunisia\", \"Malta\", \"Iceland\", \"Romania\", \"Czech Republic\", \"Libya\", \"Bangladesh\", \"Luxembourg\", \"Lithuania\", \"Azerbaijan\", \"Bulgaria\", \"Venezuela\", \"Jordan\", \"Iraq\", \"Bolivia\", \"Sri Lanka\", \"Belarus\", \"Uzbekistan\", \"Cambodia\", \"Nepal\"], \"name\": \"\", \"type\": \"choropleth\", \"z\": [7347, 4052, 1024, 879, 795, 748, 735, 680, 640, 601, 576, 574, 522, 517, 486, 449, 432, 412, 369, 328, 308, 275, 263, 259, 253, 250, 249, 247, 237, 219, 202, 196, 194, 189, 171, 164, 150, 133, 126, 120, 118, 112, 106, 105, 103, 88, 88, 88, 83, 82, 81, 79, 79, 78, 73, 70, 69, 64, 61, 56, 56, 55, 55, 55, 52, 51, 50, 49, 49, 47, 45, 43, 43, 42, 41, 40, 39, 38, 33, 33, 32, 32]}],\n",
       "                        {\"coloraxis\": {\"colorbar\": {\"title\": {\"text\": \"Nb planes\"}}, \"colorscale\": [[0.0, \"rgb(255,247,236)\"], [0.125, \"rgb(254,232,200)\"], [0.25, \"rgb(253,212,158)\"], [0.375, \"rgb(253,187,132)\"], [0.5, \"rgb(252,141,89)\"], [0.625, \"rgb(239,101,72)\"], [0.75, \"rgb(215,48,31)\"], [0.875, \"rgb(179,0,0)\"], [1.0, \"rgb(127,0,0)\"]]}, \"geo\": {\"center\": {}, \"domain\": {\"x\": [0.0, 1.0], \"y\": [0.0, 1.0]}, \"projection\": {\"type\": \"natural earth\"}}, \"height\": 600, \"legend\": {\"tracegroupgap\": 0}, \"template\": {\"data\": {\"bar\": [{\"error_x\": {\"color\": \"#2a3f5f\"}, \"error_y\": {\"color\": \"#2a3f5f\"}, \"marker\": {\"line\": {\"color\": \"#E5ECF6\", \"width\": 0.5}}, \"type\": \"bar\"}], \"barpolar\": [{\"marker\": {\"line\": {\"color\": \"#E5ECF6\", \"width\": 0.5}}, \"type\": \"barpolar\"}], \"carpet\": [{\"aaxis\": {\"endlinecolor\": \"#2a3f5f\", \"gridcolor\": \"white\", \"linecolor\": \"white\", \"minorgridcolor\": \"white\", \"startlinecolor\": \"#2a3f5f\"}, \"baxis\": {\"endlinecolor\": \"#2a3f5f\", \"gridcolor\": \"white\", \"linecolor\": \"white\", \"minorgridcolor\": \"white\", \"startlinecolor\": \"#2a3f5f\"}, \"type\": \"carpet\"}], \"choropleth\": [{\"colorbar\": {\"outlinewidth\": 0, \"ticks\": \"\"}, \"type\": \"choropleth\"}], \"contour\": [{\"colorbar\": {\"outlinewidth\": 0, \"ticks\": \"\"}, \"colorscale\": [[0.0, \"#0d0887\"], [0.1111111111111111, \"#46039f\"], [0.2222222222222222, \"#7201a8\"], [0.3333333333333333, \"#9c179e\"], [0.4444444444444444, \"#bd3786\"], [0.5555555555555556, \"#d8576b\"], [0.6666666666666666, \"#ed7953\"], [0.7777777777777778, \"#fb9f3a\"], [0.8888888888888888, \"#fdca26\"], [1.0, \"#f0f921\"]], \"type\": \"contour\"}], \"contourcarpet\": [{\"colorbar\": {\"outlinewidth\": 0, \"ticks\": \"\"}, \"type\": \"contourcarpet\"}], \"heatmap\": [{\"colorbar\": {\"outlinewidth\": 0, \"ticks\": \"\"}, \"colorscale\": [[0.0, \"#0d0887\"], [0.1111111111111111, \"#46039f\"], [0.2222222222222222, \"#7201a8\"], [0.3333333333333333, \"#9c179e\"], [0.4444444444444444, \"#bd3786\"], [0.5555555555555556, \"#d8576b\"], [0.6666666666666666, \"#ed7953\"], [0.7777777777777778, \"#fb9f3a\"], [0.8888888888888888, \"#fdca26\"], [1.0, \"#f0f921\"]], \"type\": \"heatmap\"}], \"heatmapgl\": [{\"colorbar\": {\"outlinewidth\": 0, \"ticks\": \"\"}, \"colorscale\": [[0.0, \"#0d0887\"], [0.1111111111111111, \"#46039f\"], [0.2222222222222222, \"#7201a8\"], [0.3333333333333333, \"#9c179e\"], [0.4444444444444444, \"#bd3786\"], [0.5555555555555556, \"#d8576b\"], [0.6666666666666666, \"#ed7953\"], [0.7777777777777778, \"#fb9f3a\"], [0.8888888888888888, \"#fdca26\"], [1.0, \"#f0f921\"]], \"type\": \"heatmapgl\"}], \"histogram\": [{\"marker\": {\"colorbar\": {\"outlinewidth\": 0, \"ticks\": \"\"}}, \"type\": \"histogram\"}], \"histogram2d\": [{\"colorbar\": {\"outlinewidth\": 0, \"ticks\": \"\"}, \"colorscale\": [[0.0, \"#0d0887\"], [0.1111111111111111, \"#46039f\"], [0.2222222222222222, \"#7201a8\"], [0.3333333333333333, \"#9c179e\"], [0.4444444444444444, \"#bd3786\"], [0.5555555555555556, \"#d8576b\"], [0.6666666666666666, \"#ed7953\"], [0.7777777777777778, \"#fb9f3a\"], [0.8888888888888888, \"#fdca26\"], [1.0, \"#f0f921\"]], \"type\": \"histogram2d\"}], \"histogram2dcontour\": [{\"colorbar\": {\"outlinewidth\": 0, \"ticks\": \"\"}, \"colorscale\": [[0.0, \"#0d0887\"], [0.1111111111111111, \"#46039f\"], [0.2222222222222222, \"#7201a8\"], [0.3333333333333333, \"#9c179e\"], [0.4444444444444444, \"#bd3786\"], [0.5555555555555556, \"#d8576b\"], [0.6666666666666666, \"#ed7953\"], [0.7777777777777778, \"#fb9f3a\"], [0.8888888888888888, \"#fdca26\"], [1.0, \"#f0f921\"]], \"type\": \"histogram2dcontour\"}], \"mesh3d\": [{\"colorbar\": {\"outlinewidth\": 0, \"ticks\": \"\"}, \"type\": \"mesh3d\"}], \"parcoords\": [{\"line\": {\"colorbar\": {\"outlinewidth\": 0, \"ticks\": \"\"}}, \"type\": \"parcoords\"}], \"pie\": [{\"automargin\": true, \"type\": \"pie\"}], \"scatter\": [{\"marker\": {\"colorbar\": {\"outlinewidth\": 0, \"ticks\": \"\"}}, \"type\": \"scatter\"}], \"scatter3d\": [{\"line\": {\"colorbar\": {\"outlinewidth\": 0, \"ticks\": \"\"}}, \"marker\": {\"colorbar\": {\"outlinewidth\": 0, \"ticks\": \"\"}}, \"type\": \"scatter3d\"}], \"scattercarpet\": [{\"marker\": {\"colorbar\": {\"outlinewidth\": 0, \"ticks\": \"\"}}, \"type\": \"scattercarpet\"}], \"scattergeo\": [{\"marker\": {\"colorbar\": {\"outlinewidth\": 0, \"ticks\": \"\"}}, \"type\": \"scattergeo\"}], \"scattergl\": [{\"marker\": {\"colorbar\": {\"outlinewidth\": 0, \"ticks\": \"\"}}, \"type\": \"scattergl\"}], \"scattermapbox\": [{\"marker\": {\"colorbar\": {\"outlinewidth\": 0, \"ticks\": \"\"}}, \"type\": \"scattermapbox\"}], \"scatterpolar\": [{\"marker\": {\"colorbar\": {\"outlinewidth\": 0, \"ticks\": \"\"}}, \"type\": \"scatterpolar\"}], \"scatterpolargl\": [{\"marker\": {\"colorbar\": {\"outlinewidth\": 0, \"ticks\": \"\"}}, \"type\": \"scatterpolargl\"}], \"scatterternary\": [{\"marker\": {\"colorbar\": {\"outlinewidth\": 0, \"ticks\": \"\"}}, \"type\": \"scatterternary\"}], \"surface\": [{\"colorbar\": {\"outlinewidth\": 0, \"ticks\": \"\"}, \"colorscale\": [[0.0, \"#0d0887\"], [0.1111111111111111, \"#46039f\"], [0.2222222222222222, \"#7201a8\"], [0.3333333333333333, \"#9c179e\"], [0.4444444444444444, \"#bd3786\"], [0.5555555555555556, \"#d8576b\"], [0.6666666666666666, \"#ed7953\"], [0.7777777777777778, \"#fb9f3a\"], [0.8888888888888888, \"#fdca26\"], [1.0, \"#f0f921\"]], \"type\": \"surface\"}], \"table\": [{\"cells\": {\"fill\": {\"color\": \"#EBF0F8\"}, \"line\": {\"color\": \"white\"}}, \"header\": {\"fill\": {\"color\": \"#C8D4E3\"}, \"line\": {\"color\": \"white\"}}, \"type\": \"table\"}]}, \"layout\": {\"annotationdefaults\": {\"arrowcolor\": \"#2a3f5f\", \"arrowhead\": 0, \"arrowwidth\": 1}, \"coloraxis\": {\"colorbar\": {\"outlinewidth\": 0, \"ticks\": \"\"}}, \"colorscale\": {\"diverging\": [[0, \"#8e0152\"], [0.1, \"#c51b7d\"], [0.2, \"#de77ae\"], [0.3, \"#f1b6da\"], [0.4, \"#fde0ef\"], [0.5, \"#f7f7f7\"], [0.6, \"#e6f5d0\"], [0.7, \"#b8e186\"], [0.8, \"#7fbc41\"], [0.9, \"#4d9221\"], [1, \"#276419\"]], \"sequential\": [[0.0, \"#0d0887\"], [0.1111111111111111, \"#46039f\"], [0.2222222222222222, \"#7201a8\"], [0.3333333333333333, \"#9c179e\"], [0.4444444444444444, \"#bd3786\"], [0.5555555555555556, \"#d8576b\"], [0.6666666666666666, \"#ed7953\"], [0.7777777777777778, \"#fb9f3a\"], [0.8888888888888888, \"#fdca26\"], [1.0, \"#f0f921\"]], \"sequentialminus\": [[0.0, \"#0d0887\"], [0.1111111111111111, \"#46039f\"], [0.2222222222222222, \"#7201a8\"], [0.3333333333333333, \"#9c179e\"], [0.4444444444444444, \"#bd3786\"], [0.5555555555555556, \"#d8576b\"], [0.6666666666666666, \"#ed7953\"], [0.7777777777777778, \"#fb9f3a\"], [0.8888888888888888, \"#fdca26\"], [1.0, \"#f0f921\"]]}, \"colorway\": [\"#636efa\", \"#EF553B\", \"#00cc96\", \"#ab63fa\", \"#FFA15A\", \"#19d3f3\", \"#FF6692\", \"#B6E880\", \"#FF97FF\", \"#FECB52\"], \"font\": {\"color\": \"#2a3f5f\"}, \"geo\": {\"bgcolor\": \"white\", \"lakecolor\": \"white\", \"landcolor\": \"#E5ECF6\", \"showlakes\": true, \"showland\": true, \"subunitcolor\": \"white\"}, \"hoverlabel\": {\"align\": \"left\"}, \"hovermode\": \"closest\", \"mapbox\": {\"style\": \"light\"}, \"paper_bgcolor\": \"white\", \"plot_bgcolor\": \"#E5ECF6\", \"polar\": {\"angularaxis\": {\"gridcolor\": \"white\", \"linecolor\": \"white\", \"ticks\": \"\"}, \"bgcolor\": \"#E5ECF6\", \"radialaxis\": {\"gridcolor\": \"white\", \"linecolor\": \"white\", \"ticks\": \"\"}}, \"scene\": {\"xaxis\": {\"backgroundcolor\": \"#E5ECF6\", \"gridcolor\": \"white\", \"gridwidth\": 2, \"linecolor\": \"white\", \"showbackground\": true, \"ticks\": \"\", \"zerolinecolor\": \"white\"}, \"yaxis\": {\"backgroundcolor\": \"#E5ECF6\", \"gridcolor\": \"white\", \"gridwidth\": 2, \"linecolor\": \"white\", \"showbackground\": true, \"ticks\": \"\", \"zerolinecolor\": \"white\"}, \"zaxis\": {\"backgroundcolor\": \"#E5ECF6\", \"gridcolor\": \"white\", \"gridwidth\": 2, \"linecolor\": \"white\", \"showbackground\": true, \"ticks\": \"\", \"zerolinecolor\": \"white\"}}, \"shapedefaults\": {\"line\": {\"color\": \"#2a3f5f\"}}, \"ternary\": {\"aaxis\": {\"gridcolor\": \"white\", \"linecolor\": \"white\", \"ticks\": \"\"}, \"baxis\": {\"gridcolor\": \"white\", \"linecolor\": \"white\", \"ticks\": \"\"}, \"bgcolor\": \"#E5ECF6\", \"caxis\": {\"gridcolor\": \"white\", \"linecolor\": \"white\", \"ticks\": \"\"}}, \"title\": {\"x\": 0.05}, \"xaxis\": {\"automargin\": true, \"gridcolor\": \"white\", \"linecolor\": \"white\", \"ticks\": \"\", \"title\": {\"standoff\": 15}, \"zerolinecolor\": \"white\", \"zerolinewidth\": 2}, \"yaxis\": {\"automargin\": true, \"gridcolor\": \"white\", \"linecolor\": \"white\", \"ticks\": \"\", \"title\": {\"standoff\": 15}, \"zerolinecolor\": \"white\", \"zerolinewidth\": 2}}}, \"title\": {\"text\": \"Planes per country\"}},\n",
       "                        {\"responsive\": true}\n",
       "                    ).then(function(){\n",
       "                            \n",
       "var gd = document.getElementById('b198bc55-5595-4c39-9a04-e17e1caf4cd7');\n",
       "var x = new MutationObserver(function (mutations, observer) {{\n",
       "        var display = window.getComputedStyle(gd).display;\n",
       "        if (!display || display === 'none') {{\n",
       "            console.log([gd, 'removed!']);\n",
       "            Plotly.purge(gd);\n",
       "            observer.disconnect();\n",
       "        }}\n",
       "}});\n",
       "\n",
       "// Listen for the removal of the full notebook cells\n",
       "var notebookContainer = gd.closest('#notebook-container');\n",
       "if (notebookContainer) {{\n",
       "    x.observe(notebookContainer, {childList: true});\n",
       "}}\n",
       "\n",
       "// Listen for the clearing of the current output cell\n",
       "var outputEl = gd.closest('.output');\n",
       "if (outputEl) {{\n",
       "    x.observe(outputEl, {childList: true});\n",
       "}}\n",
       "\n",
       "                        })\n",
       "                };\n",
       "                });\n",
       "            </script>\n",
       "        </div>"
      ]
     },
     "metadata": {},
     "output_type": "display_data"
    }
   ],
   "source": [
    "fig = px.choropleth(\n",
    "    airlines_country,\n",
    "    locations = \"Operator Country\",\n",
    "    locationmode = \"country names\",\n",
    "    color = \"Nb planes\",\n",
    "    hover_name=\"Operator Country\",\n",
    "    projection = \"natural earth\",\n",
    "    color_continuous_scale = px.colors.sequential.OrRd,\n",
    "    title = \"Planes per country\")\n",
    "fig.show()"
   ]
  },
  {
   "cell_type": "markdown",
   "metadata": {},
   "source": [
    "We see that the US, China, and the UK are dominating which countries have the most aircrafts. Let's look at the world without these 3 mega countries."
   ]
  },
  {
   "cell_type": "code",
   "execution_count": 94,
   "metadata": {},
   "outputs": [
    {
     "data": {
      "application/vnd.plotly.v1+json": {
       "config": {
        "plotlyServerURL": "https://plot.ly"
       },
       "data": [
        {
         "coloraxis": "coloraxis",
         "geo": "geo",
         "hoverlabel": {
          "namelength": 0
         },
         "hovertemplate": "<b>%{hovertext}</b><br><br>Operator Country=%{location}<br>Nb planes=%{z}",
         "hovertext": [
          879,
          795,
          748,
          735,
          680,
          640,
          601,
          576,
          574,
          522,
          517,
          486,
          449,
          432,
          412,
          369,
          328,
          308,
          275,
          263,
          259,
          253,
          250,
          249,
          247,
          237,
          219,
          202,
          196,
          194,
          189,
          171,
          164,
          150,
          133,
          126,
          120,
          118,
          112,
          106,
          105,
          103,
          88,
          88,
          88,
          83,
          82,
          81,
          79,
          79,
          78,
          73,
          70,
          69,
          64,
          61,
          56,
          56,
          55,
          55,
          55,
          52,
          51,
          50,
          49,
          49,
          47,
          45,
          43,
          43,
          42,
          41,
          40,
          39,
          38,
          33,
          33,
          32,
          32
         ],
         "locationmode": "country names",
         "locations": [
          "Russian Federation",
          "India",
          "Japan",
          "Germany",
          "Canada",
          "Indonesia",
          "Ireland",
          "Brazil",
          "Turkey",
          "Spain",
          "United Arab Emirates",
          "France",
          "Korea, Republic Of",
          "Mexico",
          "Australia",
          "Thailand",
          "Hong Kong",
          "Malaysia",
          "Austria",
          "Saudi Arabia",
          "Sweden",
          "Singapore",
          "Philippines",
          "Netherlands",
          "Qatar",
          "Taiwan",
          "Viet Nam",
          "Colombia",
          "Italy",
          "South Africa",
          "Chile",
          "Switzerland",
          "Portugal",
          "Poland",
          "Egypt",
          "Ethiopia",
          "Argentina",
          "Hungary",
          "Ukraine",
          "Panama",
          "Belgium",
          "Greece",
          "Iran, Islamic Republic Of",
          "Israel",
          "Finland",
          "Nigeria",
          "Denmark",
          "New Zealand",
          "Kenya",
          "Kazakhstan",
          "Morocco",
          "Norway",
          "Oman",
          "Algeria",
          "Pakistan",
          "Latvia",
          "Myanmar",
          "Bahrain",
          "Kuwait",
          "Tunisia",
          "Malta",
          "Iceland",
          "Romania",
          "Czech Republic",
          "Libya",
          "Bangladesh",
          "Luxembourg",
          "Lithuania",
          "Azerbaijan",
          "Bulgaria",
          "Venezuela",
          "Jordan",
          "Iraq",
          "Bolivia",
          "Sri Lanka",
          "Belarus",
          "Uzbekistan",
          "Cambodia",
          "Nepal"
         ],
         "name": "",
         "type": "choropleth",
         "z": [
          879,
          795,
          748,
          735,
          680,
          640,
          601,
          576,
          574,
          522,
          517,
          486,
          449,
          432,
          412,
          369,
          328,
          308,
          275,
          263,
          259,
          253,
          250,
          249,
          247,
          237,
          219,
          202,
          196,
          194,
          189,
          171,
          164,
          150,
          133,
          126,
          120,
          118,
          112,
          106,
          105,
          103,
          88,
          88,
          88,
          83,
          82,
          81,
          79,
          79,
          78,
          73,
          70,
          69,
          64,
          61,
          56,
          56,
          55,
          55,
          55,
          52,
          51,
          50,
          49,
          49,
          47,
          45,
          43,
          43,
          42,
          41,
          40,
          39,
          38,
          33,
          33,
          32,
          32
         ]
        }
       ],
       "layout": {
        "coloraxis": {
         "colorbar": {
          "title": {
           "text": "Nb planes"
          }
         },
         "colorscale": [
          [
           0,
           "rgb(255,247,236)"
          ],
          [
           0.125,
           "rgb(254,232,200)"
          ],
          [
           0.25,
           "rgb(253,212,158)"
          ],
          [
           0.375,
           "rgb(253,187,132)"
          ],
          [
           0.5,
           "rgb(252,141,89)"
          ],
          [
           0.625,
           "rgb(239,101,72)"
          ],
          [
           0.75,
           "rgb(215,48,31)"
          ],
          [
           0.875,
           "rgb(179,0,0)"
          ],
          [
           1,
           "rgb(127,0,0)"
          ]
         ]
        },
        "geo": {
         "center": {},
         "domain": {
          "x": [
           0,
           1
          ],
          "y": [
           0,
           1
          ]
         },
         "projection": {
          "type": "natural earth"
         }
        },
        "height": 600,
        "legend": {
         "tracegroupgap": 0
        },
        "template": {
         "data": {
          "bar": [
           {
            "error_x": {
             "color": "#2a3f5f"
            },
            "error_y": {
             "color": "#2a3f5f"
            },
            "marker": {
             "line": {
              "color": "#E5ECF6",
              "width": 0.5
             }
            },
            "type": "bar"
           }
          ],
          "barpolar": [
           {
            "marker": {
             "line": {
              "color": "#E5ECF6",
              "width": 0.5
             }
            },
            "type": "barpolar"
           }
          ],
          "carpet": [
           {
            "aaxis": {
             "endlinecolor": "#2a3f5f",
             "gridcolor": "white",
             "linecolor": "white",
             "minorgridcolor": "white",
             "startlinecolor": "#2a3f5f"
            },
            "baxis": {
             "endlinecolor": "#2a3f5f",
             "gridcolor": "white",
             "linecolor": "white",
             "minorgridcolor": "white",
             "startlinecolor": "#2a3f5f"
            },
            "type": "carpet"
           }
          ],
          "choropleth": [
           {
            "colorbar": {
             "outlinewidth": 0,
             "ticks": ""
            },
            "type": "choropleth"
           }
          ],
          "contour": [
           {
            "colorbar": {
             "outlinewidth": 0,
             "ticks": ""
            },
            "colorscale": [
             [
              0,
              "#0d0887"
             ],
             [
              0.1111111111111111,
              "#46039f"
             ],
             [
              0.2222222222222222,
              "#7201a8"
             ],
             [
              0.3333333333333333,
              "#9c179e"
             ],
             [
              0.4444444444444444,
              "#bd3786"
             ],
             [
              0.5555555555555556,
              "#d8576b"
             ],
             [
              0.6666666666666666,
              "#ed7953"
             ],
             [
              0.7777777777777778,
              "#fb9f3a"
             ],
             [
              0.8888888888888888,
              "#fdca26"
             ],
             [
              1,
              "#f0f921"
             ]
            ],
            "type": "contour"
           }
          ],
          "contourcarpet": [
           {
            "colorbar": {
             "outlinewidth": 0,
             "ticks": ""
            },
            "type": "contourcarpet"
           }
          ],
          "heatmap": [
           {
            "colorbar": {
             "outlinewidth": 0,
             "ticks": ""
            },
            "colorscale": [
             [
              0,
              "#0d0887"
             ],
             [
              0.1111111111111111,
              "#46039f"
             ],
             [
              0.2222222222222222,
              "#7201a8"
             ],
             [
              0.3333333333333333,
              "#9c179e"
             ],
             [
              0.4444444444444444,
              "#bd3786"
             ],
             [
              0.5555555555555556,
              "#d8576b"
             ],
             [
              0.6666666666666666,
              "#ed7953"
             ],
             [
              0.7777777777777778,
              "#fb9f3a"
             ],
             [
              0.8888888888888888,
              "#fdca26"
             ],
             [
              1,
              "#f0f921"
             ]
            ],
            "type": "heatmap"
           }
          ],
          "heatmapgl": [
           {
            "colorbar": {
             "outlinewidth": 0,
             "ticks": ""
            },
            "colorscale": [
             [
              0,
              "#0d0887"
             ],
             [
              0.1111111111111111,
              "#46039f"
             ],
             [
              0.2222222222222222,
              "#7201a8"
             ],
             [
              0.3333333333333333,
              "#9c179e"
             ],
             [
              0.4444444444444444,
              "#bd3786"
             ],
             [
              0.5555555555555556,
              "#d8576b"
             ],
             [
              0.6666666666666666,
              "#ed7953"
             ],
             [
              0.7777777777777778,
              "#fb9f3a"
             ],
             [
              0.8888888888888888,
              "#fdca26"
             ],
             [
              1,
              "#f0f921"
             ]
            ],
            "type": "heatmapgl"
           }
          ],
          "histogram": [
           {
            "marker": {
             "colorbar": {
              "outlinewidth": 0,
              "ticks": ""
             }
            },
            "type": "histogram"
           }
          ],
          "histogram2d": [
           {
            "colorbar": {
             "outlinewidth": 0,
             "ticks": ""
            },
            "colorscale": [
             [
              0,
              "#0d0887"
             ],
             [
              0.1111111111111111,
              "#46039f"
             ],
             [
              0.2222222222222222,
              "#7201a8"
             ],
             [
              0.3333333333333333,
              "#9c179e"
             ],
             [
              0.4444444444444444,
              "#bd3786"
             ],
             [
              0.5555555555555556,
              "#d8576b"
             ],
             [
              0.6666666666666666,
              "#ed7953"
             ],
             [
              0.7777777777777778,
              "#fb9f3a"
             ],
             [
              0.8888888888888888,
              "#fdca26"
             ],
             [
              1,
              "#f0f921"
             ]
            ],
            "type": "histogram2d"
           }
          ],
          "histogram2dcontour": [
           {
            "colorbar": {
             "outlinewidth": 0,
             "ticks": ""
            },
            "colorscale": [
             [
              0,
              "#0d0887"
             ],
             [
              0.1111111111111111,
              "#46039f"
             ],
             [
              0.2222222222222222,
              "#7201a8"
             ],
             [
              0.3333333333333333,
              "#9c179e"
             ],
             [
              0.4444444444444444,
              "#bd3786"
             ],
             [
              0.5555555555555556,
              "#d8576b"
             ],
             [
              0.6666666666666666,
              "#ed7953"
             ],
             [
              0.7777777777777778,
              "#fb9f3a"
             ],
             [
              0.8888888888888888,
              "#fdca26"
             ],
             [
              1,
              "#f0f921"
             ]
            ],
            "type": "histogram2dcontour"
           }
          ],
          "mesh3d": [
           {
            "colorbar": {
             "outlinewidth": 0,
             "ticks": ""
            },
            "type": "mesh3d"
           }
          ],
          "parcoords": [
           {
            "line": {
             "colorbar": {
              "outlinewidth": 0,
              "ticks": ""
             }
            },
            "type": "parcoords"
           }
          ],
          "pie": [
           {
            "automargin": true,
            "type": "pie"
           }
          ],
          "scatter": [
           {
            "marker": {
             "colorbar": {
              "outlinewidth": 0,
              "ticks": ""
             }
            },
            "type": "scatter"
           }
          ],
          "scatter3d": [
           {
            "line": {
             "colorbar": {
              "outlinewidth": 0,
              "ticks": ""
             }
            },
            "marker": {
             "colorbar": {
              "outlinewidth": 0,
              "ticks": ""
             }
            },
            "type": "scatter3d"
           }
          ],
          "scattercarpet": [
           {
            "marker": {
             "colorbar": {
              "outlinewidth": 0,
              "ticks": ""
             }
            },
            "type": "scattercarpet"
           }
          ],
          "scattergeo": [
           {
            "marker": {
             "colorbar": {
              "outlinewidth": 0,
              "ticks": ""
             }
            },
            "type": "scattergeo"
           }
          ],
          "scattergl": [
           {
            "marker": {
             "colorbar": {
              "outlinewidth": 0,
              "ticks": ""
             }
            },
            "type": "scattergl"
           }
          ],
          "scattermapbox": [
           {
            "marker": {
             "colorbar": {
              "outlinewidth": 0,
              "ticks": ""
             }
            },
            "type": "scattermapbox"
           }
          ],
          "scatterpolar": [
           {
            "marker": {
             "colorbar": {
              "outlinewidth": 0,
              "ticks": ""
             }
            },
            "type": "scatterpolar"
           }
          ],
          "scatterpolargl": [
           {
            "marker": {
             "colorbar": {
              "outlinewidth": 0,
              "ticks": ""
             }
            },
            "type": "scatterpolargl"
           }
          ],
          "scatterternary": [
           {
            "marker": {
             "colorbar": {
              "outlinewidth": 0,
              "ticks": ""
             }
            },
            "type": "scatterternary"
           }
          ],
          "surface": [
           {
            "colorbar": {
             "outlinewidth": 0,
             "ticks": ""
            },
            "colorscale": [
             [
              0,
              "#0d0887"
             ],
             [
              0.1111111111111111,
              "#46039f"
             ],
             [
              0.2222222222222222,
              "#7201a8"
             ],
             [
              0.3333333333333333,
              "#9c179e"
             ],
             [
              0.4444444444444444,
              "#bd3786"
             ],
             [
              0.5555555555555556,
              "#d8576b"
             ],
             [
              0.6666666666666666,
              "#ed7953"
             ],
             [
              0.7777777777777778,
              "#fb9f3a"
             ],
             [
              0.8888888888888888,
              "#fdca26"
             ],
             [
              1,
              "#f0f921"
             ]
            ],
            "type": "surface"
           }
          ],
          "table": [
           {
            "cells": {
             "fill": {
              "color": "#EBF0F8"
             },
             "line": {
              "color": "white"
             }
            },
            "header": {
             "fill": {
              "color": "#C8D4E3"
             },
             "line": {
              "color": "white"
             }
            },
            "type": "table"
           }
          ]
         },
         "layout": {
          "annotationdefaults": {
           "arrowcolor": "#2a3f5f",
           "arrowhead": 0,
           "arrowwidth": 1
          },
          "coloraxis": {
           "colorbar": {
            "outlinewidth": 0,
            "ticks": ""
           }
          },
          "colorscale": {
           "diverging": [
            [
             0,
             "#8e0152"
            ],
            [
             0.1,
             "#c51b7d"
            ],
            [
             0.2,
             "#de77ae"
            ],
            [
             0.3,
             "#f1b6da"
            ],
            [
             0.4,
             "#fde0ef"
            ],
            [
             0.5,
             "#f7f7f7"
            ],
            [
             0.6,
             "#e6f5d0"
            ],
            [
             0.7,
             "#b8e186"
            ],
            [
             0.8,
             "#7fbc41"
            ],
            [
             0.9,
             "#4d9221"
            ],
            [
             1,
             "#276419"
            ]
           ],
           "sequential": [
            [
             0,
             "#0d0887"
            ],
            [
             0.1111111111111111,
             "#46039f"
            ],
            [
             0.2222222222222222,
             "#7201a8"
            ],
            [
             0.3333333333333333,
             "#9c179e"
            ],
            [
             0.4444444444444444,
             "#bd3786"
            ],
            [
             0.5555555555555556,
             "#d8576b"
            ],
            [
             0.6666666666666666,
             "#ed7953"
            ],
            [
             0.7777777777777778,
             "#fb9f3a"
            ],
            [
             0.8888888888888888,
             "#fdca26"
            ],
            [
             1,
             "#f0f921"
            ]
           ],
           "sequentialminus": [
            [
             0,
             "#0d0887"
            ],
            [
             0.1111111111111111,
             "#46039f"
            ],
            [
             0.2222222222222222,
             "#7201a8"
            ],
            [
             0.3333333333333333,
             "#9c179e"
            ],
            [
             0.4444444444444444,
             "#bd3786"
            ],
            [
             0.5555555555555556,
             "#d8576b"
            ],
            [
             0.6666666666666666,
             "#ed7953"
            ],
            [
             0.7777777777777778,
             "#fb9f3a"
            ],
            [
             0.8888888888888888,
             "#fdca26"
            ],
            [
             1,
             "#f0f921"
            ]
           ]
          },
          "colorway": [
           "#636efa",
           "#EF553B",
           "#00cc96",
           "#ab63fa",
           "#FFA15A",
           "#19d3f3",
           "#FF6692",
           "#B6E880",
           "#FF97FF",
           "#FECB52"
          ],
          "font": {
           "color": "#2a3f5f"
          },
          "geo": {
           "bgcolor": "white",
           "lakecolor": "white",
           "landcolor": "#E5ECF6",
           "showlakes": true,
           "showland": true,
           "subunitcolor": "white"
          },
          "hoverlabel": {
           "align": "left"
          },
          "hovermode": "closest",
          "mapbox": {
           "style": "light"
          },
          "paper_bgcolor": "white",
          "plot_bgcolor": "#E5ECF6",
          "polar": {
           "angularaxis": {
            "gridcolor": "white",
            "linecolor": "white",
            "ticks": ""
           },
           "bgcolor": "#E5ECF6",
           "radialaxis": {
            "gridcolor": "white",
            "linecolor": "white",
            "ticks": ""
           }
          },
          "scene": {
           "xaxis": {
            "backgroundcolor": "#E5ECF6",
            "gridcolor": "white",
            "gridwidth": 2,
            "linecolor": "white",
            "showbackground": true,
            "ticks": "",
            "zerolinecolor": "white"
           },
           "yaxis": {
            "backgroundcolor": "#E5ECF6",
            "gridcolor": "white",
            "gridwidth": 2,
            "linecolor": "white",
            "showbackground": true,
            "ticks": "",
            "zerolinecolor": "white"
           },
           "zaxis": {
            "backgroundcolor": "#E5ECF6",
            "gridcolor": "white",
            "gridwidth": 2,
            "linecolor": "white",
            "showbackground": true,
            "ticks": "",
            "zerolinecolor": "white"
           }
          },
          "shapedefaults": {
           "line": {
            "color": "#2a3f5f"
           }
          },
          "ternary": {
           "aaxis": {
            "gridcolor": "white",
            "linecolor": "white",
            "ticks": ""
           },
           "baxis": {
            "gridcolor": "white",
            "linecolor": "white",
            "ticks": ""
           },
           "bgcolor": "#E5ECF6",
           "caxis": {
            "gridcolor": "white",
            "linecolor": "white",
            "ticks": ""
           }
          },
          "title": {
           "x": 0.05
          },
          "xaxis": {
           "automargin": true,
           "gridcolor": "white",
           "linecolor": "white",
           "ticks": "",
           "title": {
            "standoff": 15
           },
           "zerolinecolor": "white",
           "zerolinewidth": 2
          },
          "yaxis": {
           "automargin": true,
           "gridcolor": "white",
           "linecolor": "white",
           "ticks": "",
           "title": {
            "standoff": 15
           },
           "zerolinecolor": "white",
           "zerolinewidth": 2
          }
         }
        },
        "title": {
         "text": "Planes per country without the largest 3"
        }
       }
      },
      "text/html": [
       "<div>\n",
       "        \n",
       "        \n",
       "            <div id=\"10339ee4-9a10-4847-a706-7dc29507e1cd\" class=\"plotly-graph-div\" style=\"height:600px; width:100%;\"></div>\n",
       "            <script type=\"text/javascript\">\n",
       "                require([\"plotly\"], function(Plotly) {\n",
       "                    window.PLOTLYENV=window.PLOTLYENV || {};\n",
       "                    \n",
       "                if (document.getElementById(\"10339ee4-9a10-4847-a706-7dc29507e1cd\")) {\n",
       "                    Plotly.newPlot(\n",
       "                        '10339ee4-9a10-4847-a706-7dc29507e1cd',\n",
       "                        [{\"coloraxis\": \"coloraxis\", \"geo\": \"geo\", \"hoverlabel\": {\"namelength\": 0}, \"hovertemplate\": \"<b>%{hovertext}</b><br><br>Operator Country=%{location}<br>Nb planes=%{z}\", \"hovertext\": [879.0, 795.0, 748.0, 735.0, 680.0, 640.0, 601.0, 576.0, 574.0, 522.0, 517.0, 486.0, 449.0, 432.0, 412.0, 369.0, 328.0, 308.0, 275.0, 263.0, 259.0, 253.0, 250.0, 249.0, 247.0, 237.0, 219.0, 202.0, 196.0, 194.0, 189.0, 171.0, 164.0, 150.0, 133.0, 126.0, 120.0, 118.0, 112.0, 106.0, 105.0, 103.0, 88.0, 88.0, 88.0, 83.0, 82.0, 81.0, 79.0, 79.0, 78.0, 73.0, 70.0, 69.0, 64.0, 61.0, 56.0, 56.0, 55.0, 55.0, 55.0, 52.0, 51.0, 50.0, 49.0, 49.0, 47.0, 45.0, 43.0, 43.0, 42.0, 41.0, 40.0, 39.0, 38.0, 33.0, 33.0, 32.0, 32.0], \"locationmode\": \"country names\", \"locations\": [\"Russian Federation\", \"India\", \"Japan\", \"Germany\", \"Canada\", \"Indonesia\", \"Ireland\", \"Brazil\", \"Turkey\", \"Spain\", \"United Arab Emirates\", \"France\", \"Korea, Republic Of\", \"Mexico\", \"Australia\", \"Thailand\", \"Hong Kong\", \"Malaysia\", \"Austria\", \"Saudi Arabia\", \"Sweden\", \"Singapore\", \"Philippines\", \"Netherlands\", \"Qatar\", \"Taiwan\", \"Viet Nam\", \"Colombia\", \"Italy\", \"South Africa\", \"Chile\", \"Switzerland\", \"Portugal\", \"Poland\", \"Egypt\", \"Ethiopia\", \"Argentina\", \"Hungary\", \"Ukraine\", \"Panama\", \"Belgium\", \"Greece\", \"Iran, Islamic Republic Of\", \"Israel\", \"Finland\", \"Nigeria\", \"Denmark\", \"New Zealand\", \"Kenya\", \"Kazakhstan\", \"Morocco\", \"Norway\", \"Oman\", \"Algeria\", \"Pakistan\", \"Latvia\", \"Myanmar\", \"Bahrain\", \"Kuwait\", \"Tunisia\", \"Malta\", \"Iceland\", \"Romania\", \"Czech Republic\", \"Libya\", \"Bangladesh\", \"Luxembourg\", \"Lithuania\", \"Azerbaijan\", \"Bulgaria\", \"Venezuela\", \"Jordan\", \"Iraq\", \"Bolivia\", \"Sri Lanka\", \"Belarus\", \"Uzbekistan\", \"Cambodia\", \"Nepal\"], \"name\": \"\", \"type\": \"choropleth\", \"z\": [879, 795, 748, 735, 680, 640, 601, 576, 574, 522, 517, 486, 449, 432, 412, 369, 328, 308, 275, 263, 259, 253, 250, 249, 247, 237, 219, 202, 196, 194, 189, 171, 164, 150, 133, 126, 120, 118, 112, 106, 105, 103, 88, 88, 88, 83, 82, 81, 79, 79, 78, 73, 70, 69, 64, 61, 56, 56, 55, 55, 55, 52, 51, 50, 49, 49, 47, 45, 43, 43, 42, 41, 40, 39, 38, 33, 33, 32, 32]}],\n",
       "                        {\"coloraxis\": {\"colorbar\": {\"title\": {\"text\": \"Nb planes\"}}, \"colorscale\": [[0.0, \"rgb(255,247,236)\"], [0.125, \"rgb(254,232,200)\"], [0.25, \"rgb(253,212,158)\"], [0.375, \"rgb(253,187,132)\"], [0.5, \"rgb(252,141,89)\"], [0.625, \"rgb(239,101,72)\"], [0.75, \"rgb(215,48,31)\"], [0.875, \"rgb(179,0,0)\"], [1.0, \"rgb(127,0,0)\"]]}, \"geo\": {\"center\": {}, \"domain\": {\"x\": [0.0, 1.0], \"y\": [0.0, 1.0]}, \"projection\": {\"type\": \"natural earth\"}}, \"height\": 600, \"legend\": {\"tracegroupgap\": 0}, \"template\": {\"data\": {\"bar\": [{\"error_x\": {\"color\": \"#2a3f5f\"}, \"error_y\": {\"color\": \"#2a3f5f\"}, \"marker\": {\"line\": {\"color\": \"#E5ECF6\", \"width\": 0.5}}, \"type\": \"bar\"}], \"barpolar\": [{\"marker\": {\"line\": {\"color\": \"#E5ECF6\", \"width\": 0.5}}, \"type\": \"barpolar\"}], \"carpet\": [{\"aaxis\": {\"endlinecolor\": \"#2a3f5f\", \"gridcolor\": \"white\", \"linecolor\": \"white\", \"minorgridcolor\": \"white\", \"startlinecolor\": \"#2a3f5f\"}, \"baxis\": {\"endlinecolor\": \"#2a3f5f\", \"gridcolor\": \"white\", \"linecolor\": \"white\", \"minorgridcolor\": \"white\", \"startlinecolor\": \"#2a3f5f\"}, \"type\": \"carpet\"}], \"choropleth\": [{\"colorbar\": {\"outlinewidth\": 0, \"ticks\": \"\"}, \"type\": \"choropleth\"}], \"contour\": [{\"colorbar\": {\"outlinewidth\": 0, \"ticks\": \"\"}, \"colorscale\": [[0.0, \"#0d0887\"], [0.1111111111111111, \"#46039f\"], [0.2222222222222222, \"#7201a8\"], [0.3333333333333333, \"#9c179e\"], [0.4444444444444444, \"#bd3786\"], [0.5555555555555556, \"#d8576b\"], [0.6666666666666666, \"#ed7953\"], [0.7777777777777778, \"#fb9f3a\"], [0.8888888888888888, \"#fdca26\"], [1.0, \"#f0f921\"]], \"type\": \"contour\"}], \"contourcarpet\": [{\"colorbar\": {\"outlinewidth\": 0, \"ticks\": \"\"}, \"type\": \"contourcarpet\"}], \"heatmap\": [{\"colorbar\": {\"outlinewidth\": 0, \"ticks\": \"\"}, \"colorscale\": [[0.0, \"#0d0887\"], [0.1111111111111111, \"#46039f\"], [0.2222222222222222, \"#7201a8\"], [0.3333333333333333, \"#9c179e\"], [0.4444444444444444, \"#bd3786\"], [0.5555555555555556, \"#d8576b\"], [0.6666666666666666, \"#ed7953\"], [0.7777777777777778, \"#fb9f3a\"], [0.8888888888888888, \"#fdca26\"], [1.0, \"#f0f921\"]], \"type\": \"heatmap\"}], \"heatmapgl\": [{\"colorbar\": {\"outlinewidth\": 0, \"ticks\": \"\"}, \"colorscale\": [[0.0, \"#0d0887\"], [0.1111111111111111, \"#46039f\"], [0.2222222222222222, \"#7201a8\"], [0.3333333333333333, \"#9c179e\"], [0.4444444444444444, \"#bd3786\"], [0.5555555555555556, \"#d8576b\"], [0.6666666666666666, \"#ed7953\"], [0.7777777777777778, \"#fb9f3a\"], [0.8888888888888888, \"#fdca26\"], [1.0, \"#f0f921\"]], \"type\": \"heatmapgl\"}], \"histogram\": [{\"marker\": {\"colorbar\": {\"outlinewidth\": 0, \"ticks\": \"\"}}, \"type\": \"histogram\"}], \"histogram2d\": [{\"colorbar\": {\"outlinewidth\": 0, \"ticks\": \"\"}, \"colorscale\": [[0.0, \"#0d0887\"], [0.1111111111111111, \"#46039f\"], [0.2222222222222222, \"#7201a8\"], [0.3333333333333333, \"#9c179e\"], [0.4444444444444444, \"#bd3786\"], [0.5555555555555556, \"#d8576b\"], [0.6666666666666666, \"#ed7953\"], [0.7777777777777778, \"#fb9f3a\"], [0.8888888888888888, \"#fdca26\"], [1.0, \"#f0f921\"]], \"type\": \"histogram2d\"}], \"histogram2dcontour\": [{\"colorbar\": {\"outlinewidth\": 0, \"ticks\": \"\"}, \"colorscale\": [[0.0, \"#0d0887\"], [0.1111111111111111, \"#46039f\"], [0.2222222222222222, \"#7201a8\"], [0.3333333333333333, \"#9c179e\"], [0.4444444444444444, \"#bd3786\"], [0.5555555555555556, \"#d8576b\"], [0.6666666666666666, \"#ed7953\"], [0.7777777777777778, \"#fb9f3a\"], [0.8888888888888888, \"#fdca26\"], [1.0, \"#f0f921\"]], \"type\": \"histogram2dcontour\"}], \"mesh3d\": [{\"colorbar\": {\"outlinewidth\": 0, \"ticks\": \"\"}, \"type\": \"mesh3d\"}], \"parcoords\": [{\"line\": {\"colorbar\": {\"outlinewidth\": 0, \"ticks\": \"\"}}, \"type\": \"parcoords\"}], \"pie\": [{\"automargin\": true, \"type\": \"pie\"}], \"scatter\": [{\"marker\": {\"colorbar\": {\"outlinewidth\": 0, \"ticks\": \"\"}}, \"type\": \"scatter\"}], \"scatter3d\": [{\"line\": {\"colorbar\": {\"outlinewidth\": 0, \"ticks\": \"\"}}, \"marker\": {\"colorbar\": {\"outlinewidth\": 0, \"ticks\": \"\"}}, \"type\": \"scatter3d\"}], \"scattercarpet\": [{\"marker\": {\"colorbar\": {\"outlinewidth\": 0, \"ticks\": \"\"}}, \"type\": \"scattercarpet\"}], \"scattergeo\": [{\"marker\": {\"colorbar\": {\"outlinewidth\": 0, \"ticks\": \"\"}}, \"type\": \"scattergeo\"}], \"scattergl\": [{\"marker\": {\"colorbar\": {\"outlinewidth\": 0, \"ticks\": \"\"}}, \"type\": \"scattergl\"}], \"scattermapbox\": [{\"marker\": {\"colorbar\": {\"outlinewidth\": 0, \"ticks\": \"\"}}, \"type\": \"scattermapbox\"}], \"scatterpolar\": [{\"marker\": {\"colorbar\": {\"outlinewidth\": 0, \"ticks\": \"\"}}, \"type\": \"scatterpolar\"}], \"scatterpolargl\": [{\"marker\": {\"colorbar\": {\"outlinewidth\": 0, \"ticks\": \"\"}}, \"type\": \"scatterpolargl\"}], \"scatterternary\": [{\"marker\": {\"colorbar\": {\"outlinewidth\": 0, \"ticks\": \"\"}}, \"type\": \"scatterternary\"}], \"surface\": [{\"colorbar\": {\"outlinewidth\": 0, \"ticks\": \"\"}, \"colorscale\": [[0.0, \"#0d0887\"], [0.1111111111111111, \"#46039f\"], [0.2222222222222222, \"#7201a8\"], [0.3333333333333333, \"#9c179e\"], [0.4444444444444444, \"#bd3786\"], [0.5555555555555556, \"#d8576b\"], [0.6666666666666666, \"#ed7953\"], [0.7777777777777778, \"#fb9f3a\"], [0.8888888888888888, \"#fdca26\"], [1.0, \"#f0f921\"]], \"type\": \"surface\"}], \"table\": [{\"cells\": {\"fill\": {\"color\": \"#EBF0F8\"}, \"line\": {\"color\": \"white\"}}, \"header\": {\"fill\": {\"color\": \"#C8D4E3\"}, \"line\": {\"color\": \"white\"}}, \"type\": \"table\"}]}, \"layout\": {\"annotationdefaults\": {\"arrowcolor\": \"#2a3f5f\", \"arrowhead\": 0, \"arrowwidth\": 1}, \"coloraxis\": {\"colorbar\": {\"outlinewidth\": 0, \"ticks\": \"\"}}, \"colorscale\": {\"diverging\": [[0, \"#8e0152\"], [0.1, \"#c51b7d\"], [0.2, \"#de77ae\"], [0.3, \"#f1b6da\"], [0.4, \"#fde0ef\"], [0.5, \"#f7f7f7\"], [0.6, \"#e6f5d0\"], [0.7, \"#b8e186\"], [0.8, \"#7fbc41\"], [0.9, \"#4d9221\"], [1, \"#276419\"]], \"sequential\": [[0.0, \"#0d0887\"], [0.1111111111111111, \"#46039f\"], [0.2222222222222222, \"#7201a8\"], [0.3333333333333333, \"#9c179e\"], [0.4444444444444444, \"#bd3786\"], [0.5555555555555556, \"#d8576b\"], [0.6666666666666666, \"#ed7953\"], [0.7777777777777778, \"#fb9f3a\"], [0.8888888888888888, \"#fdca26\"], [1.0, \"#f0f921\"]], \"sequentialminus\": [[0.0, \"#0d0887\"], [0.1111111111111111, \"#46039f\"], [0.2222222222222222, \"#7201a8\"], [0.3333333333333333, \"#9c179e\"], [0.4444444444444444, \"#bd3786\"], [0.5555555555555556, \"#d8576b\"], [0.6666666666666666, \"#ed7953\"], [0.7777777777777778, \"#fb9f3a\"], [0.8888888888888888, \"#fdca26\"], [1.0, \"#f0f921\"]]}, \"colorway\": [\"#636efa\", \"#EF553B\", \"#00cc96\", \"#ab63fa\", \"#FFA15A\", \"#19d3f3\", \"#FF6692\", \"#B6E880\", \"#FF97FF\", \"#FECB52\"], \"font\": {\"color\": \"#2a3f5f\"}, \"geo\": {\"bgcolor\": \"white\", \"lakecolor\": \"white\", \"landcolor\": \"#E5ECF6\", \"showlakes\": true, \"showland\": true, \"subunitcolor\": \"white\"}, \"hoverlabel\": {\"align\": \"left\"}, \"hovermode\": \"closest\", \"mapbox\": {\"style\": \"light\"}, \"paper_bgcolor\": \"white\", \"plot_bgcolor\": \"#E5ECF6\", \"polar\": {\"angularaxis\": {\"gridcolor\": \"white\", \"linecolor\": \"white\", \"ticks\": \"\"}, \"bgcolor\": \"#E5ECF6\", \"radialaxis\": {\"gridcolor\": \"white\", \"linecolor\": \"white\", \"ticks\": \"\"}}, \"scene\": {\"xaxis\": {\"backgroundcolor\": \"#E5ECF6\", \"gridcolor\": \"white\", \"gridwidth\": 2, \"linecolor\": \"white\", \"showbackground\": true, \"ticks\": \"\", \"zerolinecolor\": \"white\"}, \"yaxis\": {\"backgroundcolor\": \"#E5ECF6\", \"gridcolor\": \"white\", \"gridwidth\": 2, \"linecolor\": \"white\", \"showbackground\": true, \"ticks\": \"\", \"zerolinecolor\": \"white\"}, \"zaxis\": {\"backgroundcolor\": \"#E5ECF6\", \"gridcolor\": \"white\", \"gridwidth\": 2, \"linecolor\": \"white\", \"showbackground\": true, \"ticks\": \"\", \"zerolinecolor\": \"white\"}}, \"shapedefaults\": {\"line\": {\"color\": \"#2a3f5f\"}}, \"ternary\": {\"aaxis\": {\"gridcolor\": \"white\", \"linecolor\": \"white\", \"ticks\": \"\"}, \"baxis\": {\"gridcolor\": \"white\", \"linecolor\": \"white\", \"ticks\": \"\"}, \"bgcolor\": \"#E5ECF6\", \"caxis\": {\"gridcolor\": \"white\", \"linecolor\": \"white\", \"ticks\": \"\"}}, \"title\": {\"x\": 0.05}, \"xaxis\": {\"automargin\": true, \"gridcolor\": \"white\", \"linecolor\": \"white\", \"ticks\": \"\", \"title\": {\"standoff\": 15}, \"zerolinecolor\": \"white\", \"zerolinewidth\": 2}, \"yaxis\": {\"automargin\": true, \"gridcolor\": \"white\", \"linecolor\": \"white\", \"ticks\": \"\", \"title\": {\"standoff\": 15}, \"zerolinecolor\": \"white\", \"zerolinewidth\": 2}}}, \"title\": {\"text\": \"Planes per country without the largest 3\"}},\n",
       "                        {\"responsive\": true}\n",
       "                    ).then(function(){\n",
       "                            \n",
       "var gd = document.getElementById('10339ee4-9a10-4847-a706-7dc29507e1cd');\n",
       "var x = new MutationObserver(function (mutations, observer) {{\n",
       "        var display = window.getComputedStyle(gd).display;\n",
       "        if (!display || display === 'none') {{\n",
       "            console.log([gd, 'removed!']);\n",
       "            Plotly.purge(gd);\n",
       "            observer.disconnect();\n",
       "        }}\n",
       "}});\n",
       "\n",
       "// Listen for the removal of the full notebook cells\n",
       "var notebookContainer = gd.closest('#notebook-container');\n",
       "if (notebookContainer) {{\n",
       "    x.observe(notebookContainer, {childList: true});\n",
       "}}\n",
       "\n",
       "// Listen for the clearing of the current output cell\n",
       "var outputEl = gd.closest('.output');\n",
       "if (outputEl) {{\n",
       "    x.observe(outputEl, {childList: true});\n",
       "}}\n",
       "\n",
       "                        })\n",
       "                };\n",
       "                });\n",
       "            </script>\n",
       "        </div>"
      ]
     },
     "metadata": {},
     "output_type": "display_data"
    }
   ],
   "source": [
    "fig = px.choropleth(\n",
    "    airlines_country.iloc[3:],\n",
    "    locations = \"Operator Country\",\n",
    "    locationmode = \"country names\",\n",
    "    color = \"Nb planes\",\n",
    "    hover_name = \"Nb planes\", \n",
    "    projection = \"natural earth\",\n",
    "    color_continuous_scale = px.colors.sequential.OrRd,\n",
    "    title = \"Planes per country without the largest 3\")\n",
    "fig.show()"
   ]
  },
  {
   "cell_type": "markdown",
   "metadata": {},
   "source": [
    "## CO2 emmisions average by country\n",
    "\n",
    "We will look at the average CO2 emmissions per country."
   ]
  },
  {
   "cell_type": "code",
   "execution_count": 95,
   "metadata": {},
   "outputs": [
    {
     "data": {
      "text/html": [
       "<div>\n",
       "<style scoped>\n",
       "    .dataframe tbody tr th:only-of-type {\n",
       "        vertical-align: middle;\n",
       "    }\n",
       "\n",
       "    .dataframe tbody tr th {\n",
       "        vertical-align: top;\n",
       "    }\n",
       "\n",
       "    .dataframe thead th {\n",
       "        text-align: right;\n",
       "    }\n",
       "</style>\n",
       "<table border=\"1\" class=\"dataframe\">\n",
       "  <thead>\n",
       "    <tr style=\"text-align: right;\">\n",
       "      <th></th>\n",
       "      <th>Operator Country</th>\n",
       "      <th>CO2 per seat kg/100km</th>\n",
       "    </tr>\n",
       "  </thead>\n",
       "  <tbody>\n",
       "    <tr>\n",
       "      <th>0</th>\n",
       "      <td>Algeria</td>\n",
       "      <td>6.091895</td>\n",
       "    </tr>\n",
       "    <tr>\n",
       "      <th>1</th>\n",
       "      <td>Argentina</td>\n",
       "      <td>6.733893</td>\n",
       "    </tr>\n",
       "    <tr>\n",
       "      <th>2</th>\n",
       "      <td>Australia</td>\n",
       "      <td>6.229032</td>\n",
       "    </tr>\n",
       "    <tr>\n",
       "      <th>3</th>\n",
       "      <td>Austria</td>\n",
       "      <td>6.889562</td>\n",
       "    </tr>\n",
       "    <tr>\n",
       "      <th>4</th>\n",
       "      <td>Azerbaijan</td>\n",
       "      <td>6.653428</td>\n",
       "    </tr>\n",
       "  </tbody>\n",
       "</table>\n",
       "</div>"
      ],
      "text/plain": [
       "  Operator Country  CO2 per seat kg/100km\n",
       "0          Algeria               6.091895\n",
       "1        Argentina               6.733893\n",
       "2        Australia               6.229032\n",
       "3          Austria               6.889562\n",
       "4       Azerbaijan               6.653428"
      ]
     },
     "execution_count": 95,
     "metadata": {},
     "output_type": "execute_result"
    }
   ],
   "source": [
    "plot_country = aircrafts_airlines.copy()\n",
    "plot_country = plot_country.reset_index()[[\"Operator Country\", \"CO2 per seat kg/100km\"]]\n",
    "plot_country = plot_country[[x in airlines_country_list for x in plot_country[\"Operator Country\"]]]\n",
    "plot_country = plot_country.groupby('Operator Country').mean().reset_index()\n",
    "plot_country.head()"
   ]
  },
  {
   "cell_type": "code",
   "execution_count": 99,
   "metadata": {},
   "outputs": [
    {
     "data": {
      "application/vnd.plotly.v1+json": {
       "config": {
        "plotlyServerURL": "https://plot.ly"
       },
       "data": [
        {
         "alignmentgroup": "True",
         "bingroup": "x",
         "histfunc": "sum",
         "hoverlabel": {
          "namelength": 0
         },
         "hovertemplate": "Operator Country=%{x}<br>sum of CO2 per seat kg/100km=%{y}",
         "legendgroup": "",
         "marker": {
          "color": "#636efa"
         },
         "name": "",
         "offsetgroup": "",
         "orientation": "v",
         "showlegend": false,
         "type": "histogram",
         "x": [
          "Viet Nam",
          "India",
          "Cambodia",
          "Latvia",
          "Oman",
          "Malaysia",
          "Chile",
          "New Zealand",
          "Uzbekistan",
          "Singapore",
          "Turkey",
          "Ireland",
          "Hungary",
          "Kuwait",
          "Myanmar",
          "Bangladesh",
          "Morocco",
          "Qatar",
          "Philippines",
          "China",
          "Panama",
          "Bahrain",
          "Indonesia",
          "Algeria",
          "Saudi Arabia",
          "Sri Lanka",
          "Korea, Republic Of",
          "Egypt",
          "Thailand",
          "Portugal",
          "Taiwan",
          "Ethiopia",
          "Pakistan",
          "Israel",
          "Greece",
          "United Arab Emirates",
          "Australia",
          "Hong Kong",
          "Iceland",
          "Iran, Islamic Republic Of",
          "Brazil",
          "Belgium",
          "Colombia",
          "Tunisia",
          "Lithuania",
          "Mexico",
          "Japan",
          "Russian Federation",
          "Ukraine",
          "Sweden",
          "United Kingdom",
          "Azerbaijan",
          "Luxembourg",
          "Spain",
          "Finland",
          "Bulgaria",
          "Italy",
          "Argentina",
          "Czech Republic",
          "Netherlands",
          "Norway",
          "Austria",
          "Nepal",
          "Switzerland",
          "Poland",
          "Libya",
          "Canada",
          "Malta",
          "France",
          "Denmark",
          "United States",
          "South Africa",
          "Germany",
          "Kazakhstan",
          "Venezuela",
          "Romania",
          "Jordan",
          "Kenya",
          "Nigeria",
          "Belarus",
          "Bolivia",
          "Iraq"
         ],
         "xaxis": "x",
         "y": [
          5.476399998424651,
          5.668226519723944,
          5.694974307272728,
          5.834574228688527,
          5.877636852500003,
          5.879791749999995,
          5.880994409300517,
          5.891979155641023,
          5.9146059381818175,
          5.925874433804339,
          5.951385687508147,
          5.970612675719987,
          5.973260429062499,
          5.974405376065569,
          5.979609680624999,
          5.98234728,
          5.989657317777777,
          5.996726907634605,
          6.02537416235999,
          6.0267654902390975,
          6.060919306981128,
          6.067729596250001,
          6.069940595887863,
          6.091895232499996,
          6.0975014077173855,
          6.10344742736842,
          6.123483071363637,
          6.155373281842101,
          6.167084554319366,
          6.17865644327273,
          6.181239404117639,
          6.187443680833333,
          6.192872167164176,
          6.215402335280904,
          6.223610222162164,
          6.225435354444434,
          6.229031736666657,
          6.247522292117656,
          6.283396947692308,
          6.2957895816666705,
          6.333923329339616,
          6.343592857636363,
          6.362381335542434,
          6.387709886250001,
          6.4091330856000015,
          6.519150042119228,
          6.5259799100305855,
          6.579628683696608,
          6.61457699791305,
          6.621835834833341,
          6.640271560862522,
          6.65342793818182,
          6.654879582580641,
          6.655589622906974,
          6.672165780000005,
          6.681301677272727,
          6.6977080419827475,
          6.733893436666665,
          6.738708541764713,
          6.769066090218101,
          6.870729761079554,
          6.889561763375377,
          6.907985699999999,
          6.909325888744184,
          6.9765653994101084,
          7.00171468705882,
          7.011882014811029,
          7.026280233707861,
          7.028178987277167,
          7.1316745721951245,
          7.20382616038993,
          7.205592436874986,
          7.239429017929195,
          7.281747540666668,
          7.336502460000003,
          7.455485883582092,
          7.487829037500005,
          7.659807226329117,
          7.66166715370787,
          7.672983108,
          8.07892384923077,
          8.251430556393448
         ],
         "yaxis": "y"
        }
       ],
       "layout": {
        "barmode": "relative",
        "height": 600,
        "legend": {
         "tracegroupgap": 0
        },
        "margin": {
         "t": 60
        },
        "template": {
         "data": {
          "bar": [
           {
            "error_x": {
             "color": "#2a3f5f"
            },
            "error_y": {
             "color": "#2a3f5f"
            },
            "marker": {
             "line": {
              "color": "#E5ECF6",
              "width": 0.5
             }
            },
            "type": "bar"
           }
          ],
          "barpolar": [
           {
            "marker": {
             "line": {
              "color": "#E5ECF6",
              "width": 0.5
             }
            },
            "type": "barpolar"
           }
          ],
          "carpet": [
           {
            "aaxis": {
             "endlinecolor": "#2a3f5f",
             "gridcolor": "white",
             "linecolor": "white",
             "minorgridcolor": "white",
             "startlinecolor": "#2a3f5f"
            },
            "baxis": {
             "endlinecolor": "#2a3f5f",
             "gridcolor": "white",
             "linecolor": "white",
             "minorgridcolor": "white",
             "startlinecolor": "#2a3f5f"
            },
            "type": "carpet"
           }
          ],
          "choropleth": [
           {
            "colorbar": {
             "outlinewidth": 0,
             "ticks": ""
            },
            "type": "choropleth"
           }
          ],
          "contour": [
           {
            "colorbar": {
             "outlinewidth": 0,
             "ticks": ""
            },
            "colorscale": [
             [
              0,
              "#0d0887"
             ],
             [
              0.1111111111111111,
              "#46039f"
             ],
             [
              0.2222222222222222,
              "#7201a8"
             ],
             [
              0.3333333333333333,
              "#9c179e"
             ],
             [
              0.4444444444444444,
              "#bd3786"
             ],
             [
              0.5555555555555556,
              "#d8576b"
             ],
             [
              0.6666666666666666,
              "#ed7953"
             ],
             [
              0.7777777777777778,
              "#fb9f3a"
             ],
             [
              0.8888888888888888,
              "#fdca26"
             ],
             [
              1,
              "#f0f921"
             ]
            ],
            "type": "contour"
           }
          ],
          "contourcarpet": [
           {
            "colorbar": {
             "outlinewidth": 0,
             "ticks": ""
            },
            "type": "contourcarpet"
           }
          ],
          "heatmap": [
           {
            "colorbar": {
             "outlinewidth": 0,
             "ticks": ""
            },
            "colorscale": [
             [
              0,
              "#0d0887"
             ],
             [
              0.1111111111111111,
              "#46039f"
             ],
             [
              0.2222222222222222,
              "#7201a8"
             ],
             [
              0.3333333333333333,
              "#9c179e"
             ],
             [
              0.4444444444444444,
              "#bd3786"
             ],
             [
              0.5555555555555556,
              "#d8576b"
             ],
             [
              0.6666666666666666,
              "#ed7953"
             ],
             [
              0.7777777777777778,
              "#fb9f3a"
             ],
             [
              0.8888888888888888,
              "#fdca26"
             ],
             [
              1,
              "#f0f921"
             ]
            ],
            "type": "heatmap"
           }
          ],
          "heatmapgl": [
           {
            "colorbar": {
             "outlinewidth": 0,
             "ticks": ""
            },
            "colorscale": [
             [
              0,
              "#0d0887"
             ],
             [
              0.1111111111111111,
              "#46039f"
             ],
             [
              0.2222222222222222,
              "#7201a8"
             ],
             [
              0.3333333333333333,
              "#9c179e"
             ],
             [
              0.4444444444444444,
              "#bd3786"
             ],
             [
              0.5555555555555556,
              "#d8576b"
             ],
             [
              0.6666666666666666,
              "#ed7953"
             ],
             [
              0.7777777777777778,
              "#fb9f3a"
             ],
             [
              0.8888888888888888,
              "#fdca26"
             ],
             [
              1,
              "#f0f921"
             ]
            ],
            "type": "heatmapgl"
           }
          ],
          "histogram": [
           {
            "marker": {
             "colorbar": {
              "outlinewidth": 0,
              "ticks": ""
             }
            },
            "type": "histogram"
           }
          ],
          "histogram2d": [
           {
            "colorbar": {
             "outlinewidth": 0,
             "ticks": ""
            },
            "colorscale": [
             [
              0,
              "#0d0887"
             ],
             [
              0.1111111111111111,
              "#46039f"
             ],
             [
              0.2222222222222222,
              "#7201a8"
             ],
             [
              0.3333333333333333,
              "#9c179e"
             ],
             [
              0.4444444444444444,
              "#bd3786"
             ],
             [
              0.5555555555555556,
              "#d8576b"
             ],
             [
              0.6666666666666666,
              "#ed7953"
             ],
             [
              0.7777777777777778,
              "#fb9f3a"
             ],
             [
              0.8888888888888888,
              "#fdca26"
             ],
             [
              1,
              "#f0f921"
             ]
            ],
            "type": "histogram2d"
           }
          ],
          "histogram2dcontour": [
           {
            "colorbar": {
             "outlinewidth": 0,
             "ticks": ""
            },
            "colorscale": [
             [
              0,
              "#0d0887"
             ],
             [
              0.1111111111111111,
              "#46039f"
             ],
             [
              0.2222222222222222,
              "#7201a8"
             ],
             [
              0.3333333333333333,
              "#9c179e"
             ],
             [
              0.4444444444444444,
              "#bd3786"
             ],
             [
              0.5555555555555556,
              "#d8576b"
             ],
             [
              0.6666666666666666,
              "#ed7953"
             ],
             [
              0.7777777777777778,
              "#fb9f3a"
             ],
             [
              0.8888888888888888,
              "#fdca26"
             ],
             [
              1,
              "#f0f921"
             ]
            ],
            "type": "histogram2dcontour"
           }
          ],
          "mesh3d": [
           {
            "colorbar": {
             "outlinewidth": 0,
             "ticks": ""
            },
            "type": "mesh3d"
           }
          ],
          "parcoords": [
           {
            "line": {
             "colorbar": {
              "outlinewidth": 0,
              "ticks": ""
             }
            },
            "type": "parcoords"
           }
          ],
          "pie": [
           {
            "automargin": true,
            "type": "pie"
           }
          ],
          "scatter": [
           {
            "marker": {
             "colorbar": {
              "outlinewidth": 0,
              "ticks": ""
             }
            },
            "type": "scatter"
           }
          ],
          "scatter3d": [
           {
            "line": {
             "colorbar": {
              "outlinewidth": 0,
              "ticks": ""
             }
            },
            "marker": {
             "colorbar": {
              "outlinewidth": 0,
              "ticks": ""
             }
            },
            "type": "scatter3d"
           }
          ],
          "scattercarpet": [
           {
            "marker": {
             "colorbar": {
              "outlinewidth": 0,
              "ticks": ""
             }
            },
            "type": "scattercarpet"
           }
          ],
          "scattergeo": [
           {
            "marker": {
             "colorbar": {
              "outlinewidth": 0,
              "ticks": ""
             }
            },
            "type": "scattergeo"
           }
          ],
          "scattergl": [
           {
            "marker": {
             "colorbar": {
              "outlinewidth": 0,
              "ticks": ""
             }
            },
            "type": "scattergl"
           }
          ],
          "scattermapbox": [
           {
            "marker": {
             "colorbar": {
              "outlinewidth": 0,
              "ticks": ""
             }
            },
            "type": "scattermapbox"
           }
          ],
          "scatterpolar": [
           {
            "marker": {
             "colorbar": {
              "outlinewidth": 0,
              "ticks": ""
             }
            },
            "type": "scatterpolar"
           }
          ],
          "scatterpolargl": [
           {
            "marker": {
             "colorbar": {
              "outlinewidth": 0,
              "ticks": ""
             }
            },
            "type": "scatterpolargl"
           }
          ],
          "scatterternary": [
           {
            "marker": {
             "colorbar": {
              "outlinewidth": 0,
              "ticks": ""
             }
            },
            "type": "scatterternary"
           }
          ],
          "surface": [
           {
            "colorbar": {
             "outlinewidth": 0,
             "ticks": ""
            },
            "colorscale": [
             [
              0,
              "#0d0887"
             ],
             [
              0.1111111111111111,
              "#46039f"
             ],
             [
              0.2222222222222222,
              "#7201a8"
             ],
             [
              0.3333333333333333,
              "#9c179e"
             ],
             [
              0.4444444444444444,
              "#bd3786"
             ],
             [
              0.5555555555555556,
              "#d8576b"
             ],
             [
              0.6666666666666666,
              "#ed7953"
             ],
             [
              0.7777777777777778,
              "#fb9f3a"
             ],
             [
              0.8888888888888888,
              "#fdca26"
             ],
             [
              1,
              "#f0f921"
             ]
            ],
            "type": "surface"
           }
          ],
          "table": [
           {
            "cells": {
             "fill": {
              "color": "#EBF0F8"
             },
             "line": {
              "color": "white"
             }
            },
            "header": {
             "fill": {
              "color": "#C8D4E3"
             },
             "line": {
              "color": "white"
             }
            },
            "type": "table"
           }
          ]
         },
         "layout": {
          "annotationdefaults": {
           "arrowcolor": "#2a3f5f",
           "arrowhead": 0,
           "arrowwidth": 1
          },
          "coloraxis": {
           "colorbar": {
            "outlinewidth": 0,
            "ticks": ""
           }
          },
          "colorscale": {
           "diverging": [
            [
             0,
             "#8e0152"
            ],
            [
             0.1,
             "#c51b7d"
            ],
            [
             0.2,
             "#de77ae"
            ],
            [
             0.3,
             "#f1b6da"
            ],
            [
             0.4,
             "#fde0ef"
            ],
            [
             0.5,
             "#f7f7f7"
            ],
            [
             0.6,
             "#e6f5d0"
            ],
            [
             0.7,
             "#b8e186"
            ],
            [
             0.8,
             "#7fbc41"
            ],
            [
             0.9,
             "#4d9221"
            ],
            [
             1,
             "#276419"
            ]
           ],
           "sequential": [
            [
             0,
             "#0d0887"
            ],
            [
             0.1111111111111111,
             "#46039f"
            ],
            [
             0.2222222222222222,
             "#7201a8"
            ],
            [
             0.3333333333333333,
             "#9c179e"
            ],
            [
             0.4444444444444444,
             "#bd3786"
            ],
            [
             0.5555555555555556,
             "#d8576b"
            ],
            [
             0.6666666666666666,
             "#ed7953"
            ],
            [
             0.7777777777777778,
             "#fb9f3a"
            ],
            [
             0.8888888888888888,
             "#fdca26"
            ],
            [
             1,
             "#f0f921"
            ]
           ],
           "sequentialminus": [
            [
             0,
             "#0d0887"
            ],
            [
             0.1111111111111111,
             "#46039f"
            ],
            [
             0.2222222222222222,
             "#7201a8"
            ],
            [
             0.3333333333333333,
             "#9c179e"
            ],
            [
             0.4444444444444444,
             "#bd3786"
            ],
            [
             0.5555555555555556,
             "#d8576b"
            ],
            [
             0.6666666666666666,
             "#ed7953"
            ],
            [
             0.7777777777777778,
             "#fb9f3a"
            ],
            [
             0.8888888888888888,
             "#fdca26"
            ],
            [
             1,
             "#f0f921"
            ]
           ]
          },
          "colorway": [
           "#636efa",
           "#EF553B",
           "#00cc96",
           "#ab63fa",
           "#FFA15A",
           "#19d3f3",
           "#FF6692",
           "#B6E880",
           "#FF97FF",
           "#FECB52"
          ],
          "font": {
           "color": "#2a3f5f"
          },
          "geo": {
           "bgcolor": "white",
           "lakecolor": "white",
           "landcolor": "#E5ECF6",
           "showlakes": true,
           "showland": true,
           "subunitcolor": "white"
          },
          "hoverlabel": {
           "align": "left"
          },
          "hovermode": "closest",
          "mapbox": {
           "style": "light"
          },
          "paper_bgcolor": "white",
          "plot_bgcolor": "#E5ECF6",
          "polar": {
           "angularaxis": {
            "gridcolor": "white",
            "linecolor": "white",
            "ticks": ""
           },
           "bgcolor": "#E5ECF6",
           "radialaxis": {
            "gridcolor": "white",
            "linecolor": "white",
            "ticks": ""
           }
          },
          "scene": {
           "xaxis": {
            "backgroundcolor": "#E5ECF6",
            "gridcolor": "white",
            "gridwidth": 2,
            "linecolor": "white",
            "showbackground": true,
            "ticks": "",
            "zerolinecolor": "white"
           },
           "yaxis": {
            "backgroundcolor": "#E5ECF6",
            "gridcolor": "white",
            "gridwidth": 2,
            "linecolor": "white",
            "showbackground": true,
            "ticks": "",
            "zerolinecolor": "white"
           },
           "zaxis": {
            "backgroundcolor": "#E5ECF6",
            "gridcolor": "white",
            "gridwidth": 2,
            "linecolor": "white",
            "showbackground": true,
            "ticks": "",
            "zerolinecolor": "white"
           }
          },
          "shapedefaults": {
           "line": {
            "color": "#2a3f5f"
           }
          },
          "ternary": {
           "aaxis": {
            "gridcolor": "white",
            "linecolor": "white",
            "ticks": ""
           },
           "baxis": {
            "gridcolor": "white",
            "linecolor": "white",
            "ticks": ""
           },
           "bgcolor": "#E5ECF6",
           "caxis": {
            "gridcolor": "white",
            "linecolor": "white",
            "ticks": ""
           }
          },
          "title": {
           "x": 0.05
          },
          "xaxis": {
           "automargin": true,
           "gridcolor": "white",
           "linecolor": "white",
           "ticks": "",
           "title": {
            "standoff": 15
           },
           "zerolinecolor": "white",
           "zerolinewidth": 2
          },
          "yaxis": {
           "automargin": true,
           "gridcolor": "white",
           "linecolor": "white",
           "ticks": "",
           "title": {
            "standoff": 15
           },
           "zerolinecolor": "white",
           "zerolinewidth": 2
          }
         }
        },
        "xaxis": {
         "anchor": "y",
         "domain": [
          0,
          1
         ],
         "title": {
          "text": "Operator Country"
         }
        },
        "yaxis": {
         "anchor": "x",
         "domain": [
          0,
          1
         ],
         "title": {
          "text": "sum of CO2 per seat kg/100km"
         }
        }
       }
      },
      "text/html": [
       "<div>\n",
       "        \n",
       "        \n",
       "            <div id=\"ea94c892-7028-437c-8b34-a43a8ef6cbc6\" class=\"plotly-graph-div\" style=\"height:600px; width:100%;\"></div>\n",
       "            <script type=\"text/javascript\">\n",
       "                require([\"plotly\"], function(Plotly) {\n",
       "                    window.PLOTLYENV=window.PLOTLYENV || {};\n",
       "                    \n",
       "                if (document.getElementById(\"ea94c892-7028-437c-8b34-a43a8ef6cbc6\")) {\n",
       "                    Plotly.newPlot(\n",
       "                        'ea94c892-7028-437c-8b34-a43a8ef6cbc6',\n",
       "                        [{\"alignmentgroup\": \"True\", \"bingroup\": \"x\", \"histfunc\": \"sum\", \"hoverlabel\": {\"namelength\": 0}, \"hovertemplate\": \"Operator Country=%{x}<br>sum of CO2 per seat kg/100km=%{y}\", \"legendgroup\": \"\", \"marker\": {\"color\": \"#636efa\"}, \"name\": \"\", \"offsetgroup\": \"\", \"orientation\": \"v\", \"showlegend\": false, \"type\": \"histogram\", \"x\": [\"Viet Nam\", \"India\", \"Cambodia\", \"Latvia\", \"Oman\", \"Malaysia\", \"Chile\", \"New Zealand\", \"Uzbekistan\", \"Singapore\", \"Turkey\", \"Ireland\", \"Hungary\", \"Kuwait\", \"Myanmar\", \"Bangladesh\", \"Morocco\", \"Qatar\", \"Philippines\", \"China\", \"Panama\", \"Bahrain\", \"Indonesia\", \"Algeria\", \"Saudi Arabia\", \"Sri Lanka\", \"Korea, Republic Of\", \"Egypt\", \"Thailand\", \"Portugal\", \"Taiwan\", \"Ethiopia\", \"Pakistan\", \"Israel\", \"Greece\", \"United Arab Emirates\", \"Australia\", \"Hong Kong\", \"Iceland\", \"Iran, Islamic Republic Of\", \"Brazil\", \"Belgium\", \"Colombia\", \"Tunisia\", \"Lithuania\", \"Mexico\", \"Japan\", \"Russian Federation\", \"Ukraine\", \"Sweden\", \"United Kingdom\", \"Azerbaijan\", \"Luxembourg\", \"Spain\", \"Finland\", \"Bulgaria\", \"Italy\", \"Argentina\", \"Czech Republic\", \"Netherlands\", \"Norway\", \"Austria\", \"Nepal\", \"Switzerland\", \"Poland\", \"Libya\", \"Canada\", \"Malta\", \"France\", \"Denmark\", \"United States\", \"South Africa\", \"Germany\", \"Kazakhstan\", \"Venezuela\", \"Romania\", \"Jordan\", \"Kenya\", \"Nigeria\", \"Belarus\", \"Bolivia\", \"Iraq\"], \"xaxis\": \"x\", \"y\": [5.476399998424651, 5.668226519723944, 5.694974307272728, 5.834574228688527, 5.877636852500003, 5.879791749999995, 5.880994409300517, 5.891979155641023, 5.9146059381818175, 5.925874433804339, 5.951385687508147, 5.970612675719987, 5.973260429062499, 5.974405376065569, 5.979609680624999, 5.98234728, 5.989657317777777, 5.996726907634605, 6.02537416235999, 6.0267654902390975, 6.060919306981128, 6.067729596250001, 6.069940595887863, 6.091895232499996, 6.0975014077173855, 6.10344742736842, 6.123483071363637, 6.155373281842101, 6.167084554319366, 6.17865644327273, 6.181239404117639, 6.187443680833333, 6.192872167164176, 6.215402335280904, 6.223610222162164, 6.225435354444434, 6.229031736666657, 6.247522292117656, 6.283396947692308, 6.2957895816666705, 6.333923329339616, 6.343592857636363, 6.362381335542434, 6.387709886250001, 6.4091330856000015, 6.519150042119228, 6.5259799100305855, 6.579628683696608, 6.61457699791305, 6.621835834833341, 6.640271560862522, 6.65342793818182, 6.654879582580641, 6.655589622906974, 6.672165780000005, 6.681301677272727, 6.6977080419827475, 6.733893436666665, 6.738708541764713, 6.769066090218101, 6.870729761079554, 6.889561763375377, 6.907985699999999, 6.909325888744184, 6.9765653994101084, 7.00171468705882, 7.011882014811029, 7.026280233707861, 7.028178987277167, 7.1316745721951245, 7.20382616038993, 7.205592436874986, 7.239429017929195, 7.281747540666668, 7.336502460000003, 7.455485883582092, 7.487829037500005, 7.659807226329117, 7.66166715370787, 7.672983108, 8.07892384923077, 8.251430556393448], \"yaxis\": \"y\"}],\n",
       "                        {\"barmode\": \"relative\", \"height\": 600, \"legend\": {\"tracegroupgap\": 0}, \"margin\": {\"t\": 60}, \"template\": {\"data\": {\"bar\": [{\"error_x\": {\"color\": \"#2a3f5f\"}, \"error_y\": {\"color\": \"#2a3f5f\"}, \"marker\": {\"line\": {\"color\": \"#E5ECF6\", \"width\": 0.5}}, \"type\": \"bar\"}], \"barpolar\": [{\"marker\": {\"line\": {\"color\": \"#E5ECF6\", \"width\": 0.5}}, \"type\": \"barpolar\"}], \"carpet\": [{\"aaxis\": {\"endlinecolor\": \"#2a3f5f\", \"gridcolor\": \"white\", \"linecolor\": \"white\", \"minorgridcolor\": \"white\", \"startlinecolor\": \"#2a3f5f\"}, \"baxis\": {\"endlinecolor\": \"#2a3f5f\", \"gridcolor\": \"white\", \"linecolor\": \"white\", \"minorgridcolor\": \"white\", \"startlinecolor\": \"#2a3f5f\"}, \"type\": \"carpet\"}], \"choropleth\": [{\"colorbar\": {\"outlinewidth\": 0, \"ticks\": \"\"}, \"type\": \"choropleth\"}], \"contour\": [{\"colorbar\": {\"outlinewidth\": 0, \"ticks\": \"\"}, \"colorscale\": [[0.0, \"#0d0887\"], [0.1111111111111111, \"#46039f\"], [0.2222222222222222, \"#7201a8\"], [0.3333333333333333, \"#9c179e\"], [0.4444444444444444, \"#bd3786\"], [0.5555555555555556, \"#d8576b\"], [0.6666666666666666, \"#ed7953\"], [0.7777777777777778, \"#fb9f3a\"], [0.8888888888888888, \"#fdca26\"], [1.0, \"#f0f921\"]], \"type\": \"contour\"}], \"contourcarpet\": [{\"colorbar\": {\"outlinewidth\": 0, \"ticks\": \"\"}, \"type\": \"contourcarpet\"}], \"heatmap\": [{\"colorbar\": {\"outlinewidth\": 0, \"ticks\": \"\"}, \"colorscale\": [[0.0, \"#0d0887\"], [0.1111111111111111, \"#46039f\"], [0.2222222222222222, \"#7201a8\"], [0.3333333333333333, \"#9c179e\"], [0.4444444444444444, \"#bd3786\"], [0.5555555555555556, \"#d8576b\"], [0.6666666666666666, \"#ed7953\"], [0.7777777777777778, \"#fb9f3a\"], [0.8888888888888888, \"#fdca26\"], [1.0, \"#f0f921\"]], \"type\": \"heatmap\"}], \"heatmapgl\": [{\"colorbar\": {\"outlinewidth\": 0, \"ticks\": \"\"}, \"colorscale\": [[0.0, \"#0d0887\"], [0.1111111111111111, \"#46039f\"], [0.2222222222222222, \"#7201a8\"], [0.3333333333333333, \"#9c179e\"], [0.4444444444444444, \"#bd3786\"], [0.5555555555555556, \"#d8576b\"], [0.6666666666666666, \"#ed7953\"], [0.7777777777777778, \"#fb9f3a\"], [0.8888888888888888, \"#fdca26\"], [1.0, \"#f0f921\"]], \"type\": \"heatmapgl\"}], \"histogram\": [{\"marker\": {\"colorbar\": {\"outlinewidth\": 0, \"ticks\": \"\"}}, \"type\": \"histogram\"}], \"histogram2d\": [{\"colorbar\": {\"outlinewidth\": 0, \"ticks\": \"\"}, \"colorscale\": [[0.0, \"#0d0887\"], [0.1111111111111111, \"#46039f\"], [0.2222222222222222, \"#7201a8\"], [0.3333333333333333, \"#9c179e\"], [0.4444444444444444, \"#bd3786\"], [0.5555555555555556, \"#d8576b\"], [0.6666666666666666, \"#ed7953\"], [0.7777777777777778, \"#fb9f3a\"], [0.8888888888888888, \"#fdca26\"], [1.0, \"#f0f921\"]], \"type\": \"histogram2d\"}], \"histogram2dcontour\": [{\"colorbar\": {\"outlinewidth\": 0, \"ticks\": \"\"}, \"colorscale\": [[0.0, \"#0d0887\"], [0.1111111111111111, \"#46039f\"], [0.2222222222222222, \"#7201a8\"], [0.3333333333333333, \"#9c179e\"], [0.4444444444444444, \"#bd3786\"], [0.5555555555555556, \"#d8576b\"], [0.6666666666666666, \"#ed7953\"], [0.7777777777777778, \"#fb9f3a\"], [0.8888888888888888, \"#fdca26\"], [1.0, \"#f0f921\"]], \"type\": \"histogram2dcontour\"}], \"mesh3d\": [{\"colorbar\": {\"outlinewidth\": 0, \"ticks\": \"\"}, \"type\": \"mesh3d\"}], \"parcoords\": [{\"line\": {\"colorbar\": {\"outlinewidth\": 0, \"ticks\": \"\"}}, \"type\": \"parcoords\"}], \"pie\": [{\"automargin\": true, \"type\": \"pie\"}], \"scatter\": [{\"marker\": {\"colorbar\": {\"outlinewidth\": 0, \"ticks\": \"\"}}, \"type\": \"scatter\"}], \"scatter3d\": [{\"line\": {\"colorbar\": {\"outlinewidth\": 0, \"ticks\": \"\"}}, \"marker\": {\"colorbar\": {\"outlinewidth\": 0, \"ticks\": \"\"}}, \"type\": \"scatter3d\"}], \"scattercarpet\": [{\"marker\": {\"colorbar\": {\"outlinewidth\": 0, \"ticks\": \"\"}}, \"type\": \"scattercarpet\"}], \"scattergeo\": [{\"marker\": {\"colorbar\": {\"outlinewidth\": 0, \"ticks\": \"\"}}, \"type\": \"scattergeo\"}], \"scattergl\": [{\"marker\": {\"colorbar\": {\"outlinewidth\": 0, \"ticks\": \"\"}}, \"type\": \"scattergl\"}], \"scattermapbox\": [{\"marker\": {\"colorbar\": {\"outlinewidth\": 0, \"ticks\": \"\"}}, \"type\": \"scattermapbox\"}], \"scatterpolar\": [{\"marker\": {\"colorbar\": {\"outlinewidth\": 0, \"ticks\": \"\"}}, \"type\": \"scatterpolar\"}], \"scatterpolargl\": [{\"marker\": {\"colorbar\": {\"outlinewidth\": 0, \"ticks\": \"\"}}, \"type\": \"scatterpolargl\"}], \"scatterternary\": [{\"marker\": {\"colorbar\": {\"outlinewidth\": 0, \"ticks\": \"\"}}, \"type\": \"scatterternary\"}], \"surface\": [{\"colorbar\": {\"outlinewidth\": 0, \"ticks\": \"\"}, \"colorscale\": [[0.0, \"#0d0887\"], [0.1111111111111111, \"#46039f\"], [0.2222222222222222, \"#7201a8\"], [0.3333333333333333, \"#9c179e\"], [0.4444444444444444, \"#bd3786\"], [0.5555555555555556, \"#d8576b\"], [0.6666666666666666, \"#ed7953\"], [0.7777777777777778, \"#fb9f3a\"], [0.8888888888888888, \"#fdca26\"], [1.0, \"#f0f921\"]], \"type\": \"surface\"}], \"table\": [{\"cells\": {\"fill\": {\"color\": \"#EBF0F8\"}, \"line\": {\"color\": \"white\"}}, \"header\": {\"fill\": {\"color\": \"#C8D4E3\"}, \"line\": {\"color\": \"white\"}}, \"type\": \"table\"}]}, \"layout\": {\"annotationdefaults\": {\"arrowcolor\": \"#2a3f5f\", \"arrowhead\": 0, \"arrowwidth\": 1}, \"coloraxis\": {\"colorbar\": {\"outlinewidth\": 0, \"ticks\": \"\"}}, \"colorscale\": {\"diverging\": [[0, \"#8e0152\"], [0.1, \"#c51b7d\"], [0.2, \"#de77ae\"], [0.3, \"#f1b6da\"], [0.4, \"#fde0ef\"], [0.5, \"#f7f7f7\"], [0.6, \"#e6f5d0\"], [0.7, \"#b8e186\"], [0.8, \"#7fbc41\"], [0.9, \"#4d9221\"], [1, \"#276419\"]], \"sequential\": [[0.0, \"#0d0887\"], [0.1111111111111111, \"#46039f\"], [0.2222222222222222, \"#7201a8\"], [0.3333333333333333, \"#9c179e\"], [0.4444444444444444, \"#bd3786\"], [0.5555555555555556, \"#d8576b\"], [0.6666666666666666, \"#ed7953\"], [0.7777777777777778, \"#fb9f3a\"], [0.8888888888888888, \"#fdca26\"], [1.0, \"#f0f921\"]], \"sequentialminus\": [[0.0, \"#0d0887\"], [0.1111111111111111, \"#46039f\"], [0.2222222222222222, \"#7201a8\"], [0.3333333333333333, \"#9c179e\"], [0.4444444444444444, \"#bd3786\"], [0.5555555555555556, \"#d8576b\"], [0.6666666666666666, \"#ed7953\"], [0.7777777777777778, \"#fb9f3a\"], [0.8888888888888888, \"#fdca26\"], [1.0, \"#f0f921\"]]}, \"colorway\": [\"#636efa\", \"#EF553B\", \"#00cc96\", \"#ab63fa\", \"#FFA15A\", \"#19d3f3\", \"#FF6692\", \"#B6E880\", \"#FF97FF\", \"#FECB52\"], \"font\": {\"color\": \"#2a3f5f\"}, \"geo\": {\"bgcolor\": \"white\", \"lakecolor\": \"white\", \"landcolor\": \"#E5ECF6\", \"showlakes\": true, \"showland\": true, \"subunitcolor\": \"white\"}, \"hoverlabel\": {\"align\": \"left\"}, \"hovermode\": \"closest\", \"mapbox\": {\"style\": \"light\"}, \"paper_bgcolor\": \"white\", \"plot_bgcolor\": \"#E5ECF6\", \"polar\": {\"angularaxis\": {\"gridcolor\": \"white\", \"linecolor\": \"white\", \"ticks\": \"\"}, \"bgcolor\": \"#E5ECF6\", \"radialaxis\": {\"gridcolor\": \"white\", \"linecolor\": \"white\", \"ticks\": \"\"}}, \"scene\": {\"xaxis\": {\"backgroundcolor\": \"#E5ECF6\", \"gridcolor\": \"white\", \"gridwidth\": 2, \"linecolor\": \"white\", \"showbackground\": true, \"ticks\": \"\", \"zerolinecolor\": \"white\"}, \"yaxis\": {\"backgroundcolor\": \"#E5ECF6\", \"gridcolor\": \"white\", \"gridwidth\": 2, \"linecolor\": \"white\", \"showbackground\": true, \"ticks\": \"\", \"zerolinecolor\": \"white\"}, \"zaxis\": {\"backgroundcolor\": \"#E5ECF6\", \"gridcolor\": \"white\", \"gridwidth\": 2, \"linecolor\": \"white\", \"showbackground\": true, \"ticks\": \"\", \"zerolinecolor\": \"white\"}}, \"shapedefaults\": {\"line\": {\"color\": \"#2a3f5f\"}}, \"ternary\": {\"aaxis\": {\"gridcolor\": \"white\", \"linecolor\": \"white\", \"ticks\": \"\"}, \"baxis\": {\"gridcolor\": \"white\", \"linecolor\": \"white\", \"ticks\": \"\"}, \"bgcolor\": \"#E5ECF6\", \"caxis\": {\"gridcolor\": \"white\", \"linecolor\": \"white\", \"ticks\": \"\"}}, \"title\": {\"x\": 0.05}, \"xaxis\": {\"automargin\": true, \"gridcolor\": \"white\", \"linecolor\": \"white\", \"ticks\": \"\", \"title\": {\"standoff\": 15}, \"zerolinecolor\": \"white\", \"zerolinewidth\": 2}, \"yaxis\": {\"automargin\": true, \"gridcolor\": \"white\", \"linecolor\": \"white\", \"ticks\": \"\", \"title\": {\"standoff\": 15}, \"zerolinecolor\": \"white\", \"zerolinewidth\": 2}}}, \"xaxis\": {\"anchor\": \"y\", \"domain\": [0.0, 1.0], \"title\": {\"text\": \"Operator Country\"}}, \"yaxis\": {\"anchor\": \"x\", \"domain\": [0.0, 1.0], \"title\": {\"text\": \"sum of CO2 per seat kg/100km\"}}},\n",
       "                        {\"responsive\": true}\n",
       "                    ).then(function(){\n",
       "                            \n",
       "var gd = document.getElementById('ea94c892-7028-437c-8b34-a43a8ef6cbc6');\n",
       "var x = new MutationObserver(function (mutations, observer) {{\n",
       "        var display = window.getComputedStyle(gd).display;\n",
       "        if (!display || display === 'none') {{\n",
       "            console.log([gd, 'removed!']);\n",
       "            Plotly.purge(gd);\n",
       "            observer.disconnect();\n",
       "        }}\n",
       "}});\n",
       "\n",
       "// Listen for the removal of the full notebook cells\n",
       "var notebookContainer = gd.closest('#notebook-container');\n",
       "if (notebookContainer) {{\n",
       "    x.observe(notebookContainer, {childList: true});\n",
       "}}\n",
       "\n",
       "// Listen for the clearing of the current output cell\n",
       "var outputEl = gd.closest('.output');\n",
       "if (outputEl) {{\n",
       "    x.observe(outputEl, {childList: true});\n",
       "}}\n",
       "\n",
       "                        })\n",
       "                };\n",
       "                });\n",
       "            </script>\n",
       "        </div>"
      ]
     },
     "metadata": {},
     "output_type": "display_data"
    }
   ],
   "source": [
    "px.histogram(plot_country.sort_values(\"CO2 per seat kg/100km\"), x = \"Operator Country\", y = \"CO2 per seat kg/100km\", histfunc=\"sum\")"
   ]
  },
  {
   "cell_type": "code",
   "execution_count": 100,
   "metadata": {
    "scrolled": false
   },
   "outputs": [
    {
     "data": {
      "text/plain": [
       "'\\nPossible colours for our graphs\\n\\nBrwnyl\\nBluered\\n'"
      ]
     },
     "execution_count": 100,
     "metadata": {},
     "output_type": "execute_result"
    }
   ],
   "source": [
    "\"\"\"\n",
    "Possible colours for our graphs\n",
    "\n",
    "Brwnyl\n",
    "Bluered\n",
    "\"\"\""
   ]
  },
  {
   "cell_type": "code",
   "execution_count": 103,
   "metadata": {},
   "outputs": [
    {
     "data": {
      "application/vnd.plotly.v1+json": {
       "config": {
        "plotlyServerURL": "https://plot.ly"
       },
       "data": [
        {
         "coloraxis": "coloraxis",
         "geo": "geo",
         "hoverlabel": {
          "namelength": 0
         },
         "hovertemplate": "<b>%{hovertext}</b><br><br>Operator Country=%{location}<br>CO2 per seat kg/100km=%{z}",
         "hovertext": [
          6.091895232499996,
          6.733893436666665,
          6.229031736666657,
          6.889561763375377,
          6.65342793818182,
          6.067729596250001,
          5.98234728,
          7.672983108,
          6.343592857636363,
          8.07892384923077,
          6.333923329339616,
          6.681301677272727,
          5.694974307272728,
          7.011882014811029,
          5.880994409300517,
          6.0267654902390975,
          6.362381335542434,
          6.738708541764713,
          7.1316745721951245,
          6.155373281842101,
          6.187443680833333,
          6.672165780000005,
          7.028178987277167,
          7.239429017929195,
          6.223610222162164,
          6.247522292117656,
          5.973260429062499,
          6.283396947692308,
          5.668226519723944,
          6.069940595887863,
          6.2957895816666705,
          8.251430556393448,
          5.970612675719987,
          6.215402335280904,
          6.6977080419827475,
          6.5259799100305855,
          7.487829037500005,
          7.281747540666668,
          7.659807226329117,
          6.123483071363637,
          5.974405376065569,
          5.834574228688527,
          7.00171468705882,
          6.4091330856000015,
          6.654879582580641,
          5.879791749999995,
          7.026280233707861,
          6.519150042119228,
          5.989657317777777,
          5.979609680624999,
          6.907985699999999,
          6.769066090218101,
          5.891979155641023,
          7.66166715370787,
          6.870729761079554,
          5.877636852500003,
          6.192872167164176,
          6.060919306981128,
          6.02537416235999,
          6.9765653994101084,
          6.17865644327273,
          5.996726907634605,
          7.455485883582092,
          6.579628683696608,
          6.0975014077173855,
          5.925874433804339,
          7.205592436874986,
          6.655589622906974,
          6.10344742736842,
          6.621835834833341,
          6.909325888744184,
          6.181239404117639,
          6.167084554319366,
          6.387709886250001,
          5.951385687508147,
          6.61457699791305,
          6.225435354444434,
          6.640271560862522,
          7.20382616038993,
          5.9146059381818175,
          7.336502460000003,
          5.476399998424651
         ],
         "locationmode": "country names",
         "locations": [
          "Algeria",
          "Argentina",
          "Australia",
          "Austria",
          "Azerbaijan",
          "Bahrain",
          "Bangladesh",
          "Belarus",
          "Belgium",
          "Bolivia",
          "Brazil",
          "Bulgaria",
          "Cambodia",
          "Canada",
          "Chile",
          "China",
          "Colombia",
          "Czech Republic",
          "Denmark",
          "Egypt",
          "Ethiopia",
          "Finland",
          "France",
          "Germany",
          "Greece",
          "Hong Kong",
          "Hungary",
          "Iceland",
          "India",
          "Indonesia",
          "Iran, Islamic Republic Of",
          "Iraq",
          "Ireland",
          "Israel",
          "Italy",
          "Japan",
          "Jordan",
          "Kazakhstan",
          "Kenya",
          "Korea, Republic Of",
          "Kuwait",
          "Latvia",
          "Libya",
          "Lithuania",
          "Luxembourg",
          "Malaysia",
          "Malta",
          "Mexico",
          "Morocco",
          "Myanmar",
          "Nepal",
          "Netherlands",
          "New Zealand",
          "Nigeria",
          "Norway",
          "Oman",
          "Pakistan",
          "Panama",
          "Philippines",
          "Poland",
          "Portugal",
          "Qatar",
          "Romania",
          "Russian Federation",
          "Saudi Arabia",
          "Singapore",
          "South Africa",
          "Spain",
          "Sri Lanka",
          "Sweden",
          "Switzerland",
          "Taiwan",
          "Thailand",
          "Tunisia",
          "Turkey",
          "Ukraine",
          "United Arab Emirates",
          "United Kingdom",
          "United States",
          "Uzbekistan",
          "Venezuela",
          "Viet Nam"
         ],
         "name": "",
         "type": "choropleth",
         "z": [
          6.091895232499996,
          6.733893436666665,
          6.229031736666657,
          6.889561763375377,
          6.65342793818182,
          6.067729596250001,
          5.98234728,
          7.672983108,
          6.343592857636363,
          8.07892384923077,
          6.333923329339616,
          6.681301677272727,
          5.694974307272728,
          7.011882014811029,
          5.880994409300517,
          6.0267654902390975,
          6.362381335542434,
          6.738708541764713,
          7.1316745721951245,
          6.155373281842101,
          6.187443680833333,
          6.672165780000005,
          7.028178987277167,
          7.239429017929195,
          6.223610222162164,
          6.247522292117656,
          5.973260429062499,
          6.283396947692308,
          5.668226519723944,
          6.069940595887863,
          6.2957895816666705,
          8.251430556393448,
          5.970612675719987,
          6.215402335280904,
          6.6977080419827475,
          6.5259799100305855,
          7.487829037500005,
          7.281747540666668,
          7.659807226329117,
          6.123483071363637,
          5.974405376065569,
          5.834574228688527,
          7.00171468705882,
          6.4091330856000015,
          6.654879582580641,
          5.879791749999995,
          7.026280233707861,
          6.519150042119228,
          5.989657317777777,
          5.979609680624999,
          6.907985699999999,
          6.769066090218101,
          5.891979155641023,
          7.66166715370787,
          6.870729761079554,
          5.877636852500003,
          6.192872167164176,
          6.060919306981128,
          6.02537416235999,
          6.9765653994101084,
          6.17865644327273,
          5.996726907634605,
          7.455485883582092,
          6.579628683696608,
          6.0975014077173855,
          5.925874433804339,
          7.205592436874986,
          6.655589622906974,
          6.10344742736842,
          6.621835834833341,
          6.909325888744184,
          6.181239404117639,
          6.167084554319366,
          6.387709886250001,
          5.951385687508147,
          6.61457699791305,
          6.225435354444434,
          6.640271560862522,
          7.20382616038993,
          5.9146059381818175,
          7.336502460000003,
          5.476399998424651
         ]
        }
       ],
       "layout": {
        "coloraxis": {
         "colorbar": {
          "title": {
           "text": "CO2 per seat kg/100km"
          }
         },
         "colorscale": [
          [
           0,
           "rgb(255,247,236)"
          ],
          [
           0.125,
           "rgb(254,232,200)"
          ],
          [
           0.25,
           "rgb(253,212,158)"
          ],
          [
           0.375,
           "rgb(253,187,132)"
          ],
          [
           0.5,
           "rgb(252,141,89)"
          ],
          [
           0.625,
           "rgb(239,101,72)"
          ],
          [
           0.75,
           "rgb(215,48,31)"
          ],
          [
           0.875,
           "rgb(179,0,0)"
          ],
          [
           1,
           "rgb(127,0,0)"
          ]
         ]
        },
        "geo": {
         "center": {},
         "domain": {
          "x": [
           0,
           1
          ],
          "y": [
           0,
           1
          ]
         },
         "projection": {
          "type": "natural earth"
         }
        },
        "height": 600,
        "legend": {
         "tracegroupgap": 0
        },
        "template": {
         "data": {
          "bar": [
           {
            "error_x": {
             "color": "#2a3f5f"
            },
            "error_y": {
             "color": "#2a3f5f"
            },
            "marker": {
             "line": {
              "color": "#E5ECF6",
              "width": 0.5
             }
            },
            "type": "bar"
           }
          ],
          "barpolar": [
           {
            "marker": {
             "line": {
              "color": "#E5ECF6",
              "width": 0.5
             }
            },
            "type": "barpolar"
           }
          ],
          "carpet": [
           {
            "aaxis": {
             "endlinecolor": "#2a3f5f",
             "gridcolor": "white",
             "linecolor": "white",
             "minorgridcolor": "white",
             "startlinecolor": "#2a3f5f"
            },
            "baxis": {
             "endlinecolor": "#2a3f5f",
             "gridcolor": "white",
             "linecolor": "white",
             "minorgridcolor": "white",
             "startlinecolor": "#2a3f5f"
            },
            "type": "carpet"
           }
          ],
          "choropleth": [
           {
            "colorbar": {
             "outlinewidth": 0,
             "ticks": ""
            },
            "type": "choropleth"
           }
          ],
          "contour": [
           {
            "colorbar": {
             "outlinewidth": 0,
             "ticks": ""
            },
            "colorscale": [
             [
              0,
              "#0d0887"
             ],
             [
              0.1111111111111111,
              "#46039f"
             ],
             [
              0.2222222222222222,
              "#7201a8"
             ],
             [
              0.3333333333333333,
              "#9c179e"
             ],
             [
              0.4444444444444444,
              "#bd3786"
             ],
             [
              0.5555555555555556,
              "#d8576b"
             ],
             [
              0.6666666666666666,
              "#ed7953"
             ],
             [
              0.7777777777777778,
              "#fb9f3a"
             ],
             [
              0.8888888888888888,
              "#fdca26"
             ],
             [
              1,
              "#f0f921"
             ]
            ],
            "type": "contour"
           }
          ],
          "contourcarpet": [
           {
            "colorbar": {
             "outlinewidth": 0,
             "ticks": ""
            },
            "type": "contourcarpet"
           }
          ],
          "heatmap": [
           {
            "colorbar": {
             "outlinewidth": 0,
             "ticks": ""
            },
            "colorscale": [
             [
              0,
              "#0d0887"
             ],
             [
              0.1111111111111111,
              "#46039f"
             ],
             [
              0.2222222222222222,
              "#7201a8"
             ],
             [
              0.3333333333333333,
              "#9c179e"
             ],
             [
              0.4444444444444444,
              "#bd3786"
             ],
             [
              0.5555555555555556,
              "#d8576b"
             ],
             [
              0.6666666666666666,
              "#ed7953"
             ],
             [
              0.7777777777777778,
              "#fb9f3a"
             ],
             [
              0.8888888888888888,
              "#fdca26"
             ],
             [
              1,
              "#f0f921"
             ]
            ],
            "type": "heatmap"
           }
          ],
          "heatmapgl": [
           {
            "colorbar": {
             "outlinewidth": 0,
             "ticks": ""
            },
            "colorscale": [
             [
              0,
              "#0d0887"
             ],
             [
              0.1111111111111111,
              "#46039f"
             ],
             [
              0.2222222222222222,
              "#7201a8"
             ],
             [
              0.3333333333333333,
              "#9c179e"
             ],
             [
              0.4444444444444444,
              "#bd3786"
             ],
             [
              0.5555555555555556,
              "#d8576b"
             ],
             [
              0.6666666666666666,
              "#ed7953"
             ],
             [
              0.7777777777777778,
              "#fb9f3a"
             ],
             [
              0.8888888888888888,
              "#fdca26"
             ],
             [
              1,
              "#f0f921"
             ]
            ],
            "type": "heatmapgl"
           }
          ],
          "histogram": [
           {
            "marker": {
             "colorbar": {
              "outlinewidth": 0,
              "ticks": ""
             }
            },
            "type": "histogram"
           }
          ],
          "histogram2d": [
           {
            "colorbar": {
             "outlinewidth": 0,
             "ticks": ""
            },
            "colorscale": [
             [
              0,
              "#0d0887"
             ],
             [
              0.1111111111111111,
              "#46039f"
             ],
             [
              0.2222222222222222,
              "#7201a8"
             ],
             [
              0.3333333333333333,
              "#9c179e"
             ],
             [
              0.4444444444444444,
              "#bd3786"
             ],
             [
              0.5555555555555556,
              "#d8576b"
             ],
             [
              0.6666666666666666,
              "#ed7953"
             ],
             [
              0.7777777777777778,
              "#fb9f3a"
             ],
             [
              0.8888888888888888,
              "#fdca26"
             ],
             [
              1,
              "#f0f921"
             ]
            ],
            "type": "histogram2d"
           }
          ],
          "histogram2dcontour": [
           {
            "colorbar": {
             "outlinewidth": 0,
             "ticks": ""
            },
            "colorscale": [
             [
              0,
              "#0d0887"
             ],
             [
              0.1111111111111111,
              "#46039f"
             ],
             [
              0.2222222222222222,
              "#7201a8"
             ],
             [
              0.3333333333333333,
              "#9c179e"
             ],
             [
              0.4444444444444444,
              "#bd3786"
             ],
             [
              0.5555555555555556,
              "#d8576b"
             ],
             [
              0.6666666666666666,
              "#ed7953"
             ],
             [
              0.7777777777777778,
              "#fb9f3a"
             ],
             [
              0.8888888888888888,
              "#fdca26"
             ],
             [
              1,
              "#f0f921"
             ]
            ],
            "type": "histogram2dcontour"
           }
          ],
          "mesh3d": [
           {
            "colorbar": {
             "outlinewidth": 0,
             "ticks": ""
            },
            "type": "mesh3d"
           }
          ],
          "parcoords": [
           {
            "line": {
             "colorbar": {
              "outlinewidth": 0,
              "ticks": ""
             }
            },
            "type": "parcoords"
           }
          ],
          "pie": [
           {
            "automargin": true,
            "type": "pie"
           }
          ],
          "scatter": [
           {
            "marker": {
             "colorbar": {
              "outlinewidth": 0,
              "ticks": ""
             }
            },
            "type": "scatter"
           }
          ],
          "scatter3d": [
           {
            "line": {
             "colorbar": {
              "outlinewidth": 0,
              "ticks": ""
             }
            },
            "marker": {
             "colorbar": {
              "outlinewidth": 0,
              "ticks": ""
             }
            },
            "type": "scatter3d"
           }
          ],
          "scattercarpet": [
           {
            "marker": {
             "colorbar": {
              "outlinewidth": 0,
              "ticks": ""
             }
            },
            "type": "scattercarpet"
           }
          ],
          "scattergeo": [
           {
            "marker": {
             "colorbar": {
              "outlinewidth": 0,
              "ticks": ""
             }
            },
            "type": "scattergeo"
           }
          ],
          "scattergl": [
           {
            "marker": {
             "colorbar": {
              "outlinewidth": 0,
              "ticks": ""
             }
            },
            "type": "scattergl"
           }
          ],
          "scattermapbox": [
           {
            "marker": {
             "colorbar": {
              "outlinewidth": 0,
              "ticks": ""
             }
            },
            "type": "scattermapbox"
           }
          ],
          "scatterpolar": [
           {
            "marker": {
             "colorbar": {
              "outlinewidth": 0,
              "ticks": ""
             }
            },
            "type": "scatterpolar"
           }
          ],
          "scatterpolargl": [
           {
            "marker": {
             "colorbar": {
              "outlinewidth": 0,
              "ticks": ""
             }
            },
            "type": "scatterpolargl"
           }
          ],
          "scatterternary": [
           {
            "marker": {
             "colorbar": {
              "outlinewidth": 0,
              "ticks": ""
             }
            },
            "type": "scatterternary"
           }
          ],
          "surface": [
           {
            "colorbar": {
             "outlinewidth": 0,
             "ticks": ""
            },
            "colorscale": [
             [
              0,
              "#0d0887"
             ],
             [
              0.1111111111111111,
              "#46039f"
             ],
             [
              0.2222222222222222,
              "#7201a8"
             ],
             [
              0.3333333333333333,
              "#9c179e"
             ],
             [
              0.4444444444444444,
              "#bd3786"
             ],
             [
              0.5555555555555556,
              "#d8576b"
             ],
             [
              0.6666666666666666,
              "#ed7953"
             ],
             [
              0.7777777777777778,
              "#fb9f3a"
             ],
             [
              0.8888888888888888,
              "#fdca26"
             ],
             [
              1,
              "#f0f921"
             ]
            ],
            "type": "surface"
           }
          ],
          "table": [
           {
            "cells": {
             "fill": {
              "color": "#EBF0F8"
             },
             "line": {
              "color": "white"
             }
            },
            "header": {
             "fill": {
              "color": "#C8D4E3"
             },
             "line": {
              "color": "white"
             }
            },
            "type": "table"
           }
          ]
         },
         "layout": {
          "annotationdefaults": {
           "arrowcolor": "#2a3f5f",
           "arrowhead": 0,
           "arrowwidth": 1
          },
          "coloraxis": {
           "colorbar": {
            "outlinewidth": 0,
            "ticks": ""
           }
          },
          "colorscale": {
           "diverging": [
            [
             0,
             "#8e0152"
            ],
            [
             0.1,
             "#c51b7d"
            ],
            [
             0.2,
             "#de77ae"
            ],
            [
             0.3,
             "#f1b6da"
            ],
            [
             0.4,
             "#fde0ef"
            ],
            [
             0.5,
             "#f7f7f7"
            ],
            [
             0.6,
             "#e6f5d0"
            ],
            [
             0.7,
             "#b8e186"
            ],
            [
             0.8,
             "#7fbc41"
            ],
            [
             0.9,
             "#4d9221"
            ],
            [
             1,
             "#276419"
            ]
           ],
           "sequential": [
            [
             0,
             "#0d0887"
            ],
            [
             0.1111111111111111,
             "#46039f"
            ],
            [
             0.2222222222222222,
             "#7201a8"
            ],
            [
             0.3333333333333333,
             "#9c179e"
            ],
            [
             0.4444444444444444,
             "#bd3786"
            ],
            [
             0.5555555555555556,
             "#d8576b"
            ],
            [
             0.6666666666666666,
             "#ed7953"
            ],
            [
             0.7777777777777778,
             "#fb9f3a"
            ],
            [
             0.8888888888888888,
             "#fdca26"
            ],
            [
             1,
             "#f0f921"
            ]
           ],
           "sequentialminus": [
            [
             0,
             "#0d0887"
            ],
            [
             0.1111111111111111,
             "#46039f"
            ],
            [
             0.2222222222222222,
             "#7201a8"
            ],
            [
             0.3333333333333333,
             "#9c179e"
            ],
            [
             0.4444444444444444,
             "#bd3786"
            ],
            [
             0.5555555555555556,
             "#d8576b"
            ],
            [
             0.6666666666666666,
             "#ed7953"
            ],
            [
             0.7777777777777778,
             "#fb9f3a"
            ],
            [
             0.8888888888888888,
             "#fdca26"
            ],
            [
             1,
             "#f0f921"
            ]
           ]
          },
          "colorway": [
           "#636efa",
           "#EF553B",
           "#00cc96",
           "#ab63fa",
           "#FFA15A",
           "#19d3f3",
           "#FF6692",
           "#B6E880",
           "#FF97FF",
           "#FECB52"
          ],
          "font": {
           "color": "#2a3f5f"
          },
          "geo": {
           "bgcolor": "white",
           "lakecolor": "white",
           "landcolor": "#E5ECF6",
           "showlakes": true,
           "showland": true,
           "subunitcolor": "white"
          },
          "hoverlabel": {
           "align": "left"
          },
          "hovermode": "closest",
          "mapbox": {
           "style": "light"
          },
          "paper_bgcolor": "white",
          "plot_bgcolor": "#E5ECF6",
          "polar": {
           "angularaxis": {
            "gridcolor": "white",
            "linecolor": "white",
            "ticks": ""
           },
           "bgcolor": "#E5ECF6",
           "radialaxis": {
            "gridcolor": "white",
            "linecolor": "white",
            "ticks": ""
           }
          },
          "scene": {
           "xaxis": {
            "backgroundcolor": "#E5ECF6",
            "gridcolor": "white",
            "gridwidth": 2,
            "linecolor": "white",
            "showbackground": true,
            "ticks": "",
            "zerolinecolor": "white"
           },
           "yaxis": {
            "backgroundcolor": "#E5ECF6",
            "gridcolor": "white",
            "gridwidth": 2,
            "linecolor": "white",
            "showbackground": true,
            "ticks": "",
            "zerolinecolor": "white"
           },
           "zaxis": {
            "backgroundcolor": "#E5ECF6",
            "gridcolor": "white",
            "gridwidth": 2,
            "linecolor": "white",
            "showbackground": true,
            "ticks": "",
            "zerolinecolor": "white"
           }
          },
          "shapedefaults": {
           "line": {
            "color": "#2a3f5f"
           }
          },
          "ternary": {
           "aaxis": {
            "gridcolor": "white",
            "linecolor": "white",
            "ticks": ""
           },
           "baxis": {
            "gridcolor": "white",
            "linecolor": "white",
            "ticks": ""
           },
           "bgcolor": "#E5ECF6",
           "caxis": {
            "gridcolor": "white",
            "linecolor": "white",
            "ticks": ""
           }
          },
          "title": {
           "x": 0.05
          },
          "xaxis": {
           "automargin": true,
           "gridcolor": "white",
           "linecolor": "white",
           "ticks": "",
           "title": {
            "standoff": 15
           },
           "zerolinecolor": "white",
           "zerolinewidth": 2
          },
          "yaxis": {
           "automargin": true,
           "gridcolor": "white",
           "linecolor": "white",
           "ticks": "",
           "title": {
            "standoff": 15
           },
           "zerolinecolor": "white",
           "zerolinewidth": 2
          }
         }
        },
        "title": {
         "text": "Average CO2 per seat kg/100km"
        }
       }
      },
      "text/html": [
       "<div>\n",
       "        \n",
       "        \n",
       "            <div id=\"1e70ab44-e90a-4a63-91ec-f150c7d199dc\" class=\"plotly-graph-div\" style=\"height:600px; width:100%;\"></div>\n",
       "            <script type=\"text/javascript\">\n",
       "                require([\"plotly\"], function(Plotly) {\n",
       "                    window.PLOTLYENV=window.PLOTLYENV || {};\n",
       "                    \n",
       "                if (document.getElementById(\"1e70ab44-e90a-4a63-91ec-f150c7d199dc\")) {\n",
       "                    Plotly.newPlot(\n",
       "                        '1e70ab44-e90a-4a63-91ec-f150c7d199dc',\n",
       "                        [{\"coloraxis\": \"coloraxis\", \"geo\": \"geo\", \"hoverlabel\": {\"namelength\": 0}, \"hovertemplate\": \"<b>%{hovertext}</b><br><br>Operator Country=%{location}<br>CO2 per seat kg/100km=%{z}\", \"hovertext\": [6.091895232499996, 6.733893436666665, 6.229031736666657, 6.889561763375377, 6.65342793818182, 6.067729596250001, 5.98234728, 7.672983108, 6.343592857636363, 8.07892384923077, 6.333923329339616, 6.681301677272727, 5.694974307272728, 7.011882014811029, 5.880994409300517, 6.0267654902390975, 6.362381335542434, 6.738708541764713, 7.1316745721951245, 6.155373281842101, 6.187443680833333, 6.672165780000005, 7.028178987277167, 7.239429017929195, 6.223610222162164, 6.247522292117656, 5.973260429062499, 6.283396947692308, 5.668226519723944, 6.069940595887863, 6.2957895816666705, 8.251430556393448, 5.970612675719987, 6.215402335280904, 6.6977080419827475, 6.5259799100305855, 7.487829037500005, 7.281747540666668, 7.659807226329117, 6.123483071363637, 5.974405376065569, 5.834574228688527, 7.00171468705882, 6.4091330856000015, 6.654879582580641, 5.879791749999995, 7.026280233707861, 6.519150042119228, 5.989657317777777, 5.979609680624999, 6.907985699999999, 6.769066090218101, 5.891979155641023, 7.66166715370787, 6.870729761079554, 5.877636852500003, 6.192872167164176, 6.060919306981128, 6.02537416235999, 6.9765653994101084, 6.17865644327273, 5.996726907634605, 7.455485883582092, 6.579628683696608, 6.0975014077173855, 5.925874433804339, 7.205592436874986, 6.655589622906974, 6.10344742736842, 6.621835834833341, 6.909325888744184, 6.181239404117639, 6.167084554319366, 6.387709886250001, 5.951385687508147, 6.61457699791305, 6.225435354444434, 6.640271560862522, 7.20382616038993, 5.9146059381818175, 7.336502460000003, 5.476399998424651], \"locationmode\": \"country names\", \"locations\": [\"Algeria\", \"Argentina\", \"Australia\", \"Austria\", \"Azerbaijan\", \"Bahrain\", \"Bangladesh\", \"Belarus\", \"Belgium\", \"Bolivia\", \"Brazil\", \"Bulgaria\", \"Cambodia\", \"Canada\", \"Chile\", \"China\", \"Colombia\", \"Czech Republic\", \"Denmark\", \"Egypt\", \"Ethiopia\", \"Finland\", \"France\", \"Germany\", \"Greece\", \"Hong Kong\", \"Hungary\", \"Iceland\", \"India\", \"Indonesia\", \"Iran, Islamic Republic Of\", \"Iraq\", \"Ireland\", \"Israel\", \"Italy\", \"Japan\", \"Jordan\", \"Kazakhstan\", \"Kenya\", \"Korea, Republic Of\", \"Kuwait\", \"Latvia\", \"Libya\", \"Lithuania\", \"Luxembourg\", \"Malaysia\", \"Malta\", \"Mexico\", \"Morocco\", \"Myanmar\", \"Nepal\", \"Netherlands\", \"New Zealand\", \"Nigeria\", \"Norway\", \"Oman\", \"Pakistan\", \"Panama\", \"Philippines\", \"Poland\", \"Portugal\", \"Qatar\", \"Romania\", \"Russian Federation\", \"Saudi Arabia\", \"Singapore\", \"South Africa\", \"Spain\", \"Sri Lanka\", \"Sweden\", \"Switzerland\", \"Taiwan\", \"Thailand\", \"Tunisia\", \"Turkey\", \"Ukraine\", \"United Arab Emirates\", \"United Kingdom\", \"United States\", \"Uzbekistan\", \"Venezuela\", \"Viet Nam\"], \"name\": \"\", \"type\": \"choropleth\", \"z\": [6.091895232499996, 6.733893436666665, 6.229031736666657, 6.889561763375377, 6.65342793818182, 6.067729596250001, 5.98234728, 7.672983108, 6.343592857636363, 8.07892384923077, 6.333923329339616, 6.681301677272727, 5.694974307272728, 7.011882014811029, 5.880994409300517, 6.0267654902390975, 6.362381335542434, 6.738708541764713, 7.1316745721951245, 6.155373281842101, 6.187443680833333, 6.672165780000005, 7.028178987277167, 7.239429017929195, 6.223610222162164, 6.247522292117656, 5.973260429062499, 6.283396947692308, 5.668226519723944, 6.069940595887863, 6.2957895816666705, 8.251430556393448, 5.970612675719987, 6.215402335280904, 6.6977080419827475, 6.5259799100305855, 7.487829037500005, 7.281747540666668, 7.659807226329117, 6.123483071363637, 5.974405376065569, 5.834574228688527, 7.00171468705882, 6.4091330856000015, 6.654879582580641, 5.879791749999995, 7.026280233707861, 6.519150042119228, 5.989657317777777, 5.979609680624999, 6.907985699999999, 6.769066090218101, 5.891979155641023, 7.66166715370787, 6.870729761079554, 5.877636852500003, 6.192872167164176, 6.060919306981128, 6.02537416235999, 6.9765653994101084, 6.17865644327273, 5.996726907634605, 7.455485883582092, 6.579628683696608, 6.0975014077173855, 5.925874433804339, 7.205592436874986, 6.655589622906974, 6.10344742736842, 6.621835834833341, 6.909325888744184, 6.181239404117639, 6.167084554319366, 6.387709886250001, 5.951385687508147, 6.61457699791305, 6.225435354444434, 6.640271560862522, 7.20382616038993, 5.9146059381818175, 7.336502460000003, 5.476399998424651]}],\n",
       "                        {\"coloraxis\": {\"colorbar\": {\"title\": {\"text\": \"CO2 per seat kg/100km\"}}, \"colorscale\": [[0.0, \"rgb(255,247,236)\"], [0.125, \"rgb(254,232,200)\"], [0.25, \"rgb(253,212,158)\"], [0.375, \"rgb(253,187,132)\"], [0.5, \"rgb(252,141,89)\"], [0.625, \"rgb(239,101,72)\"], [0.75, \"rgb(215,48,31)\"], [0.875, \"rgb(179,0,0)\"], [1.0, \"rgb(127,0,0)\"]]}, \"geo\": {\"center\": {}, \"domain\": {\"x\": [0.0, 1.0], \"y\": [0.0, 1.0]}, \"projection\": {\"type\": \"natural earth\"}}, \"height\": 600, \"legend\": {\"tracegroupgap\": 0}, \"template\": {\"data\": {\"bar\": [{\"error_x\": {\"color\": \"#2a3f5f\"}, \"error_y\": {\"color\": \"#2a3f5f\"}, \"marker\": {\"line\": {\"color\": \"#E5ECF6\", \"width\": 0.5}}, \"type\": \"bar\"}], \"barpolar\": [{\"marker\": {\"line\": {\"color\": \"#E5ECF6\", \"width\": 0.5}}, \"type\": \"barpolar\"}], \"carpet\": [{\"aaxis\": {\"endlinecolor\": \"#2a3f5f\", \"gridcolor\": \"white\", \"linecolor\": \"white\", \"minorgridcolor\": \"white\", \"startlinecolor\": \"#2a3f5f\"}, \"baxis\": {\"endlinecolor\": \"#2a3f5f\", \"gridcolor\": \"white\", \"linecolor\": \"white\", \"minorgridcolor\": \"white\", \"startlinecolor\": \"#2a3f5f\"}, \"type\": \"carpet\"}], \"choropleth\": [{\"colorbar\": {\"outlinewidth\": 0, \"ticks\": \"\"}, \"type\": \"choropleth\"}], \"contour\": [{\"colorbar\": {\"outlinewidth\": 0, \"ticks\": \"\"}, \"colorscale\": [[0.0, \"#0d0887\"], [0.1111111111111111, \"#46039f\"], [0.2222222222222222, \"#7201a8\"], [0.3333333333333333, \"#9c179e\"], [0.4444444444444444, \"#bd3786\"], [0.5555555555555556, \"#d8576b\"], [0.6666666666666666, \"#ed7953\"], [0.7777777777777778, \"#fb9f3a\"], [0.8888888888888888, \"#fdca26\"], [1.0, \"#f0f921\"]], \"type\": \"contour\"}], \"contourcarpet\": [{\"colorbar\": {\"outlinewidth\": 0, \"ticks\": \"\"}, \"type\": \"contourcarpet\"}], \"heatmap\": [{\"colorbar\": {\"outlinewidth\": 0, \"ticks\": \"\"}, \"colorscale\": [[0.0, \"#0d0887\"], [0.1111111111111111, \"#46039f\"], [0.2222222222222222, \"#7201a8\"], [0.3333333333333333, \"#9c179e\"], [0.4444444444444444, \"#bd3786\"], [0.5555555555555556, \"#d8576b\"], [0.6666666666666666, \"#ed7953\"], [0.7777777777777778, \"#fb9f3a\"], [0.8888888888888888, \"#fdca26\"], [1.0, \"#f0f921\"]], \"type\": \"heatmap\"}], \"heatmapgl\": [{\"colorbar\": {\"outlinewidth\": 0, \"ticks\": \"\"}, \"colorscale\": [[0.0, \"#0d0887\"], [0.1111111111111111, \"#46039f\"], [0.2222222222222222, \"#7201a8\"], [0.3333333333333333, \"#9c179e\"], [0.4444444444444444, \"#bd3786\"], [0.5555555555555556, \"#d8576b\"], [0.6666666666666666, \"#ed7953\"], [0.7777777777777778, \"#fb9f3a\"], [0.8888888888888888, \"#fdca26\"], [1.0, \"#f0f921\"]], \"type\": \"heatmapgl\"}], \"histogram\": [{\"marker\": {\"colorbar\": {\"outlinewidth\": 0, \"ticks\": \"\"}}, \"type\": \"histogram\"}], \"histogram2d\": [{\"colorbar\": {\"outlinewidth\": 0, \"ticks\": \"\"}, \"colorscale\": [[0.0, \"#0d0887\"], [0.1111111111111111, \"#46039f\"], [0.2222222222222222, \"#7201a8\"], [0.3333333333333333, \"#9c179e\"], [0.4444444444444444, \"#bd3786\"], [0.5555555555555556, \"#d8576b\"], [0.6666666666666666, \"#ed7953\"], [0.7777777777777778, \"#fb9f3a\"], [0.8888888888888888, \"#fdca26\"], [1.0, \"#f0f921\"]], \"type\": \"histogram2d\"}], \"histogram2dcontour\": [{\"colorbar\": {\"outlinewidth\": 0, \"ticks\": \"\"}, \"colorscale\": [[0.0, \"#0d0887\"], [0.1111111111111111, \"#46039f\"], [0.2222222222222222, \"#7201a8\"], [0.3333333333333333, \"#9c179e\"], [0.4444444444444444, \"#bd3786\"], [0.5555555555555556, \"#d8576b\"], [0.6666666666666666, \"#ed7953\"], [0.7777777777777778, \"#fb9f3a\"], [0.8888888888888888, \"#fdca26\"], [1.0, \"#f0f921\"]], \"type\": \"histogram2dcontour\"}], \"mesh3d\": [{\"colorbar\": {\"outlinewidth\": 0, \"ticks\": \"\"}, \"type\": \"mesh3d\"}], \"parcoords\": [{\"line\": {\"colorbar\": {\"outlinewidth\": 0, \"ticks\": \"\"}}, \"type\": \"parcoords\"}], \"pie\": [{\"automargin\": true, \"type\": \"pie\"}], \"scatter\": [{\"marker\": {\"colorbar\": {\"outlinewidth\": 0, \"ticks\": \"\"}}, \"type\": \"scatter\"}], \"scatter3d\": [{\"line\": {\"colorbar\": {\"outlinewidth\": 0, \"ticks\": \"\"}}, \"marker\": {\"colorbar\": {\"outlinewidth\": 0, \"ticks\": \"\"}}, \"type\": \"scatter3d\"}], \"scattercarpet\": [{\"marker\": {\"colorbar\": {\"outlinewidth\": 0, \"ticks\": \"\"}}, \"type\": \"scattercarpet\"}], \"scattergeo\": [{\"marker\": {\"colorbar\": {\"outlinewidth\": 0, \"ticks\": \"\"}}, \"type\": \"scattergeo\"}], \"scattergl\": [{\"marker\": {\"colorbar\": {\"outlinewidth\": 0, \"ticks\": \"\"}}, \"type\": \"scattergl\"}], \"scattermapbox\": [{\"marker\": {\"colorbar\": {\"outlinewidth\": 0, \"ticks\": \"\"}}, \"type\": \"scattermapbox\"}], \"scatterpolar\": [{\"marker\": {\"colorbar\": {\"outlinewidth\": 0, \"ticks\": \"\"}}, \"type\": \"scatterpolar\"}], \"scatterpolargl\": [{\"marker\": {\"colorbar\": {\"outlinewidth\": 0, \"ticks\": \"\"}}, \"type\": \"scatterpolargl\"}], \"scatterternary\": [{\"marker\": {\"colorbar\": {\"outlinewidth\": 0, \"ticks\": \"\"}}, \"type\": \"scatterternary\"}], \"surface\": [{\"colorbar\": {\"outlinewidth\": 0, \"ticks\": \"\"}, \"colorscale\": [[0.0, \"#0d0887\"], [0.1111111111111111, \"#46039f\"], [0.2222222222222222, \"#7201a8\"], [0.3333333333333333, \"#9c179e\"], [0.4444444444444444, \"#bd3786\"], [0.5555555555555556, \"#d8576b\"], [0.6666666666666666, \"#ed7953\"], [0.7777777777777778, \"#fb9f3a\"], [0.8888888888888888, \"#fdca26\"], [1.0, \"#f0f921\"]], \"type\": \"surface\"}], \"table\": [{\"cells\": {\"fill\": {\"color\": \"#EBF0F8\"}, \"line\": {\"color\": \"white\"}}, \"header\": {\"fill\": {\"color\": \"#C8D4E3\"}, \"line\": {\"color\": \"white\"}}, \"type\": \"table\"}]}, \"layout\": {\"annotationdefaults\": {\"arrowcolor\": \"#2a3f5f\", \"arrowhead\": 0, \"arrowwidth\": 1}, \"coloraxis\": {\"colorbar\": {\"outlinewidth\": 0, \"ticks\": \"\"}}, \"colorscale\": {\"diverging\": [[0, \"#8e0152\"], [0.1, \"#c51b7d\"], [0.2, \"#de77ae\"], [0.3, \"#f1b6da\"], [0.4, \"#fde0ef\"], [0.5, \"#f7f7f7\"], [0.6, \"#e6f5d0\"], [0.7, \"#b8e186\"], [0.8, \"#7fbc41\"], [0.9, \"#4d9221\"], [1, \"#276419\"]], \"sequential\": [[0.0, \"#0d0887\"], [0.1111111111111111, \"#46039f\"], [0.2222222222222222, \"#7201a8\"], [0.3333333333333333, \"#9c179e\"], [0.4444444444444444, \"#bd3786\"], [0.5555555555555556, \"#d8576b\"], [0.6666666666666666, \"#ed7953\"], [0.7777777777777778, \"#fb9f3a\"], [0.8888888888888888, \"#fdca26\"], [1.0, \"#f0f921\"]], \"sequentialminus\": [[0.0, \"#0d0887\"], [0.1111111111111111, \"#46039f\"], [0.2222222222222222, \"#7201a8\"], [0.3333333333333333, \"#9c179e\"], [0.4444444444444444, \"#bd3786\"], [0.5555555555555556, \"#d8576b\"], [0.6666666666666666, \"#ed7953\"], [0.7777777777777778, \"#fb9f3a\"], [0.8888888888888888, \"#fdca26\"], [1.0, \"#f0f921\"]]}, \"colorway\": [\"#636efa\", \"#EF553B\", \"#00cc96\", \"#ab63fa\", \"#FFA15A\", \"#19d3f3\", \"#FF6692\", \"#B6E880\", \"#FF97FF\", \"#FECB52\"], \"font\": {\"color\": \"#2a3f5f\"}, \"geo\": {\"bgcolor\": \"white\", \"lakecolor\": \"white\", \"landcolor\": \"#E5ECF6\", \"showlakes\": true, \"showland\": true, \"subunitcolor\": \"white\"}, \"hoverlabel\": {\"align\": \"left\"}, \"hovermode\": \"closest\", \"mapbox\": {\"style\": \"light\"}, \"paper_bgcolor\": \"white\", \"plot_bgcolor\": \"#E5ECF6\", \"polar\": {\"angularaxis\": {\"gridcolor\": \"white\", \"linecolor\": \"white\", \"ticks\": \"\"}, \"bgcolor\": \"#E5ECF6\", \"radialaxis\": {\"gridcolor\": \"white\", \"linecolor\": \"white\", \"ticks\": \"\"}}, \"scene\": {\"xaxis\": {\"backgroundcolor\": \"#E5ECF6\", \"gridcolor\": \"white\", \"gridwidth\": 2, \"linecolor\": \"white\", \"showbackground\": true, \"ticks\": \"\", \"zerolinecolor\": \"white\"}, \"yaxis\": {\"backgroundcolor\": \"#E5ECF6\", \"gridcolor\": \"white\", \"gridwidth\": 2, \"linecolor\": \"white\", \"showbackground\": true, \"ticks\": \"\", \"zerolinecolor\": \"white\"}, \"zaxis\": {\"backgroundcolor\": \"#E5ECF6\", \"gridcolor\": \"white\", \"gridwidth\": 2, \"linecolor\": \"white\", \"showbackground\": true, \"ticks\": \"\", \"zerolinecolor\": \"white\"}}, \"shapedefaults\": {\"line\": {\"color\": \"#2a3f5f\"}}, \"ternary\": {\"aaxis\": {\"gridcolor\": \"white\", \"linecolor\": \"white\", \"ticks\": \"\"}, \"baxis\": {\"gridcolor\": \"white\", \"linecolor\": \"white\", \"ticks\": \"\"}, \"bgcolor\": \"#E5ECF6\", \"caxis\": {\"gridcolor\": \"white\", \"linecolor\": \"white\", \"ticks\": \"\"}}, \"title\": {\"x\": 0.05}, \"xaxis\": {\"automargin\": true, \"gridcolor\": \"white\", \"linecolor\": \"white\", \"ticks\": \"\", \"title\": {\"standoff\": 15}, \"zerolinecolor\": \"white\", \"zerolinewidth\": 2}, \"yaxis\": {\"automargin\": true, \"gridcolor\": \"white\", \"linecolor\": \"white\", \"ticks\": \"\", \"title\": {\"standoff\": 15}, \"zerolinecolor\": \"white\", \"zerolinewidth\": 2}}}, \"title\": {\"text\": \"Average CO2 per seat kg/100km\"}},\n",
       "                        {\"responsive\": true}\n",
       "                    ).then(function(){\n",
       "                            \n",
       "var gd = document.getElementById('1e70ab44-e90a-4a63-91ec-f150c7d199dc');\n",
       "var x = new MutationObserver(function (mutations, observer) {{\n",
       "        var display = window.getComputedStyle(gd).display;\n",
       "        if (!display || display === 'none') {{\n",
       "            console.log([gd, 'removed!']);\n",
       "            Plotly.purge(gd);\n",
       "            observer.disconnect();\n",
       "        }}\n",
       "}});\n",
       "\n",
       "// Listen for the removal of the full notebook cells\n",
       "var notebookContainer = gd.closest('#notebook-container');\n",
       "if (notebookContainer) {{\n",
       "    x.observe(notebookContainer, {childList: true});\n",
       "}}\n",
       "\n",
       "// Listen for the clearing of the current output cell\n",
       "var outputEl = gd.closest('.output');\n",
       "if (outputEl) {{\n",
       "    x.observe(outputEl, {childList: true});\n",
       "}}\n",
       "\n",
       "                        })\n",
       "                };\n",
       "                });\n",
       "            </script>\n",
       "        </div>"
      ]
     },
     "metadata": {},
     "output_type": "display_data"
    }
   ],
   "source": [
    "fig = px.choropleth(\n",
    "    plot_country,\n",
    "    locations = \"Operator Country\",\n",
    "    locationmode = \"country names\",\n",
    "    color = \"CO2 per seat kg/100km\",\n",
    "    hover_name = \"CO2 per seat kg/100km\", \n",
    "    projection = \"natural earth\",\n",
    "    color_continuous_scale = px.colors.sequential.OrRd,\n",
    "    title = \"Average CO2 per seat kg/100km\")\n",
    "fig.show()"
   ]
  },
  {
   "cell_type": "markdown",
   "metadata": {},
   "source": [
    "Given the maps above we can see that data is lacking for a proper analysis of the africain continent. For the rest of the world the maps above make use hypothesise 2 things. First of all we can see that western countries (ie: USA, Canada, Europe) have a tendency to pollute more than. We hypothesis that this is due to a higher income than the rest of the world allowing people to travell more short distances. Poorer countries probably do not have a lot of internal flights since most of the population cannot afford to fly."
   ]
  },
  {
   "cell_type": "markdown",
   "metadata": {},
   "source": [
    "Let's first of all check if the hypothesis about the income is correct"
   ]
  },
  {
   "cell_type": "code",
   "execution_count": 104,
   "metadata": {},
   "outputs": [],
   "source": [
    "income_by_country = pd.read_csv(os.path.join(\".\",\"data\",\"gapminder\",\"income_per_person_gdppercapita_ppp_inflation_adjusted.csv.xz\"))"
   ]
  },
  {
   "cell_type": "code",
   "execution_count": 105,
   "metadata": {},
   "outputs": [
    {
     "data": {
      "text/html": [
       "<div>\n",
       "<style scoped>\n",
       "    .dataframe tbody tr th:only-of-type {\n",
       "        vertical-align: middle;\n",
       "    }\n",
       "\n",
       "    .dataframe tbody tr th {\n",
       "        vertical-align: top;\n",
       "    }\n",
       "\n",
       "    .dataframe thead th {\n",
       "        text-align: right;\n",
       "    }\n",
       "</style>\n",
       "<table border=\"1\" class=\"dataframe\">\n",
       "  <thead>\n",
       "    <tr style=\"text-align: right;\">\n",
       "      <th></th>\n",
       "      <th>country</th>\n",
       "      <th>2019</th>\n",
       "    </tr>\n",
       "  </thead>\n",
       "  <tbody>\n",
       "    <tr>\n",
       "      <th>0</th>\n",
       "      <td>Afghanistan</td>\n",
       "      <td>1950</td>\n",
       "    </tr>\n",
       "    <tr>\n",
       "      <th>1</th>\n",
       "      <td>Albania</td>\n",
       "      <td>13000</td>\n",
       "    </tr>\n",
       "    <tr>\n",
       "      <th>2</th>\n",
       "      <td>Algeria</td>\n",
       "      <td>13700</td>\n",
       "    </tr>\n",
       "    <tr>\n",
       "      <th>3</th>\n",
       "      <td>Andorra</td>\n",
       "      <td>53200</td>\n",
       "    </tr>\n",
       "    <tr>\n",
       "      <th>4</th>\n",
       "      <td>Angola</td>\n",
       "      <td>5760</td>\n",
       "    </tr>\n",
       "    <tr>\n",
       "      <th>...</th>\n",
       "      <td>...</td>\n",
       "      <td>...</td>\n",
       "    </tr>\n",
       "    <tr>\n",
       "      <th>188</th>\n",
       "      <td>Venezuela</td>\n",
       "      <td>14000</td>\n",
       "    </tr>\n",
       "    <tr>\n",
       "      <th>189</th>\n",
       "      <td>Vietnam</td>\n",
       "      <td>6870</td>\n",
       "    </tr>\n",
       "    <tr>\n",
       "      <th>190</th>\n",
       "      <td>Yemen</td>\n",
       "      <td>2500</td>\n",
       "    </tr>\n",
       "    <tr>\n",
       "      <th>191</th>\n",
       "      <td>Zambia</td>\n",
       "      <td>3980</td>\n",
       "    </tr>\n",
       "    <tr>\n",
       "      <th>192</th>\n",
       "      <td>Zimbabwe</td>\n",
       "      <td>2000</td>\n",
       "    </tr>\n",
       "  </tbody>\n",
       "</table>\n",
       "<p>193 rows × 2 columns</p>\n",
       "</div>"
      ],
      "text/plain": [
       "         country   2019\n",
       "0    Afghanistan   1950\n",
       "1        Albania  13000\n",
       "2        Algeria  13700\n",
       "3        Andorra  53200\n",
       "4         Angola   5760\n",
       "..           ...    ...\n",
       "188    Venezuela  14000\n",
       "189      Vietnam   6870\n",
       "190        Yemen   2500\n",
       "191       Zambia   3980\n",
       "192     Zimbabwe   2000\n",
       "\n",
       "[193 rows x 2 columns]"
      ]
     },
     "execution_count": 105,
     "metadata": {},
     "output_type": "execute_result"
    }
   ],
   "source": [
    "income_by_country[[\"country\", \"2019\"]]"
   ]
  },
  {
   "cell_type": "code",
   "execution_count": 107,
   "metadata": {},
   "outputs": [
    {
     "data": {
      "application/vnd.plotly.v1+json": {
       "config": {
        "plotlyServerURL": "https://plot.ly"
       },
       "data": [
        {
         "coloraxis": "coloraxis",
         "geo": "geo",
         "hoverlabel": {
          "namelength": 0
         },
         "hovertemplate": "country=%{location}<br>2019=%{z}",
         "locationmode": "country names",
         "locations": [
          "Afghanistan",
          "Albania",
          "Algeria",
          "Andorra",
          "Angola",
          "Antigua and Barbuda",
          "Argentina",
          "Armenia",
          "Australia",
          "Austria",
          "Azerbaijan",
          "Bahamas",
          "Bahrain",
          "Bangladesh",
          "Barbados",
          "Belarus",
          "Belgium",
          "Belize",
          "Benin",
          "Bhutan",
          "Bolivia",
          "Bosnia and Herzegovina",
          "Botswana",
          "Brazil",
          "Brunei",
          "Bulgaria",
          "Burkina Faso",
          "Burundi",
          "Cambodia",
          "Cameroon",
          "Canada",
          "Cape Verde",
          "Central African Republic",
          "Chad",
          "Chile",
          "China",
          "Colombia",
          "Comoros",
          "Congo, Dem. Rep.",
          "Congo, Rep.",
          "Costa Rica",
          "Cote d'Ivoire",
          "Croatia",
          "Cuba",
          "Cyprus",
          "Czech Republic",
          "Denmark",
          "Djibouti",
          "Dominica",
          "Dominican Republic",
          "Ecuador",
          "Egypt",
          "El Salvador",
          "Equatorial Guinea",
          "Eritrea",
          "Estonia",
          "Ethiopia",
          "Fiji",
          "Finland",
          "France",
          "Gabon",
          "Gambia",
          "Georgia",
          "Germany",
          "Ghana",
          "Greece",
          "Grenada",
          "Guatemala",
          "Guinea",
          "Guinea-Bissau",
          "Guyana",
          "Haiti",
          "Honduras",
          "Hungary",
          "Iceland",
          "India",
          "Indonesia",
          "Iran",
          "Iraq",
          "Ireland",
          "Israel",
          "Italy",
          "Jamaica",
          "Japan",
          "Jordan",
          "Kazakhstan",
          "Kenya",
          "Kiribati",
          "Kuwait",
          "Kyrgyz Republic",
          "Lao",
          "Latvia",
          "Lebanon",
          "Lesotho",
          "Liberia",
          "Libya",
          "Lithuania",
          "Luxembourg",
          "Macedonia, FYR",
          "Madagascar",
          "Malawi",
          "Malaysia",
          "Maldives",
          "Mali",
          "Malta",
          "Marshall Islands",
          "Mauritania",
          "Mauritius",
          "Mexico",
          "Micronesia, Fed. Sts.",
          "Moldova",
          "Monaco",
          "Mongolia",
          "Montenegro",
          "Morocco",
          "Mozambique",
          "Myanmar",
          "Namibia",
          "Nauru",
          "Nepal",
          "Netherlands",
          "New Zealand",
          "Nicaragua",
          "Niger",
          "Nigeria",
          "North Korea",
          "Norway",
          "Oman",
          "Pakistan",
          "Palau",
          "Palestine",
          "Panama",
          "Papua New Guinea",
          "Paraguay",
          "Peru",
          "Philippines",
          "Poland",
          "Portugal",
          "Qatar",
          "Romania",
          "Russia",
          "Rwanda",
          "Samoa",
          "San Marino",
          "Sao Tome and Principe",
          "Saudi Arabia",
          "Senegal",
          "Serbia",
          "Seychelles",
          "Sierra Leone",
          "Singapore",
          "Slovak Republic",
          "Slovenia",
          "Solomon Islands",
          "Somalia",
          "South Africa",
          "South Korea",
          "South Sudan",
          "Spain",
          "Sri Lanka",
          "St. Kitts and Nevis",
          "St. Lucia",
          "St. Vincent and the Grenadines",
          "Sudan",
          "Suriname",
          "Swaziland",
          "Sweden",
          "Switzerland",
          "Syria",
          "Tajikistan",
          "Tanzania",
          "Thailand",
          "Timor-Leste",
          "Togo",
          "Tonga",
          "Trinidad and Tobago",
          "Tunisia",
          "Turkey",
          "Turkmenistan",
          "Tuvalu",
          "Uganda",
          "Ukraine",
          "United Arab Emirates",
          "United Kingdom",
          "United States",
          "Uruguay",
          "Uzbekistan",
          "Vanuatu",
          "Venezuela",
          "Vietnam",
          "Yemen",
          "Zambia",
          "Zimbabwe"
         ],
         "name": "",
         "type": "choropleth",
         "z": [
          1950,
          13000,
          13700,
          53200,
          5760,
          21200,
          19300,
          8930,
          46400,
          44900,
          16900,
          22100,
          44400,
          3940,
          16200,
          17600,
          43200,
          7640,
          2260,
          10600,
          7100,
          12500,
          17000,
          14500,
          83100,
          19400,
          1770,
          678,
          4020,
          3250,
          44100,
          6600,
          713,
          1880,
          23800,
          16900,
          14000,
          1450,
          759,
          5660,
          16700,
          3930,
          23200,
          20600,
          32700,
          33000,
          47100,
          3650,
          10800,
          15800,
          10200,
          11200,
          8430,
          19300,
          1260,
          30400,
          1900,
          9700,
          40800,
          39500,
          18000,
          1580,
          10600,
          45700,
          4480,
          26000,
          13800,
          7640,
          1310,
          1590,
          8000,
          1740,
          4700,
          27600,
          48300,
          7340,
          12100,
          18000,
          15700,
          67000,
          33800,
          35500,
          8710,
          39400,
          8510,
          24600,
          3220,
          1880,
          68800,
          3610,
          6620,
          26500,
          13700,
          3060,
          829,
          18600,
          31700,
          99700,
          14500,
          1490,
          1160,
          28100,
          13400,
          2050,
          39000,
          3770,
          3780,
          21800,
          17600,
          3430,
          5540,
          61400,
          12600,
          17000,
          7980,
          1240,
          6520,
          10900,
          12700,
          2490,
          49200,
          36800,
          5650,
          992,
          5680,
          1390,
          65500,
          38400,
          5410,
          15600,
          2710,
          24500,
          2830,
          9490,
          13100,
          8350,
          28500,
          28300,
          123000,
          24300,
          25200,
          2020,
          6030,
          40000,
          3290,
          49800,
          2680,
          15500,
          28200,
          1590,
          85300,
          32400,
          31500,
          2120,
          631,
          12400,
          37700,
          1840,
          35500,
          12900,
          26200,
          11000,
          11700,
          4480,
          13300,
          7560,
          47800,
          57400,
          2900,
          3000,
          2890,
          17500,
          1270,
          1530,
          5520,
          30800,
          12000,
          25500,
          18800,
          3530,
          1880,
          8680,
          68900,
          40700,
          55600,
          22000,
          7040,
          2900,
          14000,
          6870,
          2500,
          3980,
          2000
         ]
        }
       ],
       "layout": {
        "coloraxis": {
         "colorbar": {
          "title": {
           "text": "2019"
          }
         },
         "colorscale": [
          [
           0,
           "rgb(255,247,236)"
          ],
          [
           0.125,
           "rgb(254,232,200)"
          ],
          [
           0.25,
           "rgb(253,212,158)"
          ],
          [
           0.375,
           "rgb(253,187,132)"
          ],
          [
           0.5,
           "rgb(252,141,89)"
          ],
          [
           0.625,
           "rgb(239,101,72)"
          ],
          [
           0.75,
           "rgb(215,48,31)"
          ],
          [
           0.875,
           "rgb(179,0,0)"
          ],
          [
           1,
           "rgb(127,0,0)"
          ]
         ]
        },
        "geo": {
         "center": {},
         "domain": {
          "x": [
           0,
           1
          ],
          "y": [
           0,
           1
          ]
         },
         "projection": {
          "type": "natural earth"
         }
        },
        "height": 600,
        "legend": {
         "tracegroupgap": 0
        },
        "margin": {
         "t": 60
        },
        "template": {
         "data": {
          "bar": [
           {
            "error_x": {
             "color": "#2a3f5f"
            },
            "error_y": {
             "color": "#2a3f5f"
            },
            "marker": {
             "line": {
              "color": "#E5ECF6",
              "width": 0.5
             }
            },
            "type": "bar"
           }
          ],
          "barpolar": [
           {
            "marker": {
             "line": {
              "color": "#E5ECF6",
              "width": 0.5
             }
            },
            "type": "barpolar"
           }
          ],
          "carpet": [
           {
            "aaxis": {
             "endlinecolor": "#2a3f5f",
             "gridcolor": "white",
             "linecolor": "white",
             "minorgridcolor": "white",
             "startlinecolor": "#2a3f5f"
            },
            "baxis": {
             "endlinecolor": "#2a3f5f",
             "gridcolor": "white",
             "linecolor": "white",
             "minorgridcolor": "white",
             "startlinecolor": "#2a3f5f"
            },
            "type": "carpet"
           }
          ],
          "choropleth": [
           {
            "colorbar": {
             "outlinewidth": 0,
             "ticks": ""
            },
            "type": "choropleth"
           }
          ],
          "contour": [
           {
            "colorbar": {
             "outlinewidth": 0,
             "ticks": ""
            },
            "colorscale": [
             [
              0,
              "#0d0887"
             ],
             [
              0.1111111111111111,
              "#46039f"
             ],
             [
              0.2222222222222222,
              "#7201a8"
             ],
             [
              0.3333333333333333,
              "#9c179e"
             ],
             [
              0.4444444444444444,
              "#bd3786"
             ],
             [
              0.5555555555555556,
              "#d8576b"
             ],
             [
              0.6666666666666666,
              "#ed7953"
             ],
             [
              0.7777777777777778,
              "#fb9f3a"
             ],
             [
              0.8888888888888888,
              "#fdca26"
             ],
             [
              1,
              "#f0f921"
             ]
            ],
            "type": "contour"
           }
          ],
          "contourcarpet": [
           {
            "colorbar": {
             "outlinewidth": 0,
             "ticks": ""
            },
            "type": "contourcarpet"
           }
          ],
          "heatmap": [
           {
            "colorbar": {
             "outlinewidth": 0,
             "ticks": ""
            },
            "colorscale": [
             [
              0,
              "#0d0887"
             ],
             [
              0.1111111111111111,
              "#46039f"
             ],
             [
              0.2222222222222222,
              "#7201a8"
             ],
             [
              0.3333333333333333,
              "#9c179e"
             ],
             [
              0.4444444444444444,
              "#bd3786"
             ],
             [
              0.5555555555555556,
              "#d8576b"
             ],
             [
              0.6666666666666666,
              "#ed7953"
             ],
             [
              0.7777777777777778,
              "#fb9f3a"
             ],
             [
              0.8888888888888888,
              "#fdca26"
             ],
             [
              1,
              "#f0f921"
             ]
            ],
            "type": "heatmap"
           }
          ],
          "heatmapgl": [
           {
            "colorbar": {
             "outlinewidth": 0,
             "ticks": ""
            },
            "colorscale": [
             [
              0,
              "#0d0887"
             ],
             [
              0.1111111111111111,
              "#46039f"
             ],
             [
              0.2222222222222222,
              "#7201a8"
             ],
             [
              0.3333333333333333,
              "#9c179e"
             ],
             [
              0.4444444444444444,
              "#bd3786"
             ],
             [
              0.5555555555555556,
              "#d8576b"
             ],
             [
              0.6666666666666666,
              "#ed7953"
             ],
             [
              0.7777777777777778,
              "#fb9f3a"
             ],
             [
              0.8888888888888888,
              "#fdca26"
             ],
             [
              1,
              "#f0f921"
             ]
            ],
            "type": "heatmapgl"
           }
          ],
          "histogram": [
           {
            "marker": {
             "colorbar": {
              "outlinewidth": 0,
              "ticks": ""
             }
            },
            "type": "histogram"
           }
          ],
          "histogram2d": [
           {
            "colorbar": {
             "outlinewidth": 0,
             "ticks": ""
            },
            "colorscale": [
             [
              0,
              "#0d0887"
             ],
             [
              0.1111111111111111,
              "#46039f"
             ],
             [
              0.2222222222222222,
              "#7201a8"
             ],
             [
              0.3333333333333333,
              "#9c179e"
             ],
             [
              0.4444444444444444,
              "#bd3786"
             ],
             [
              0.5555555555555556,
              "#d8576b"
             ],
             [
              0.6666666666666666,
              "#ed7953"
             ],
             [
              0.7777777777777778,
              "#fb9f3a"
             ],
             [
              0.8888888888888888,
              "#fdca26"
             ],
             [
              1,
              "#f0f921"
             ]
            ],
            "type": "histogram2d"
           }
          ],
          "histogram2dcontour": [
           {
            "colorbar": {
             "outlinewidth": 0,
             "ticks": ""
            },
            "colorscale": [
             [
              0,
              "#0d0887"
             ],
             [
              0.1111111111111111,
              "#46039f"
             ],
             [
              0.2222222222222222,
              "#7201a8"
             ],
             [
              0.3333333333333333,
              "#9c179e"
             ],
             [
              0.4444444444444444,
              "#bd3786"
             ],
             [
              0.5555555555555556,
              "#d8576b"
             ],
             [
              0.6666666666666666,
              "#ed7953"
             ],
             [
              0.7777777777777778,
              "#fb9f3a"
             ],
             [
              0.8888888888888888,
              "#fdca26"
             ],
             [
              1,
              "#f0f921"
             ]
            ],
            "type": "histogram2dcontour"
           }
          ],
          "mesh3d": [
           {
            "colorbar": {
             "outlinewidth": 0,
             "ticks": ""
            },
            "type": "mesh3d"
           }
          ],
          "parcoords": [
           {
            "line": {
             "colorbar": {
              "outlinewidth": 0,
              "ticks": ""
             }
            },
            "type": "parcoords"
           }
          ],
          "pie": [
           {
            "automargin": true,
            "type": "pie"
           }
          ],
          "scatter": [
           {
            "marker": {
             "colorbar": {
              "outlinewidth": 0,
              "ticks": ""
             }
            },
            "type": "scatter"
           }
          ],
          "scatter3d": [
           {
            "line": {
             "colorbar": {
              "outlinewidth": 0,
              "ticks": ""
             }
            },
            "marker": {
             "colorbar": {
              "outlinewidth": 0,
              "ticks": ""
             }
            },
            "type": "scatter3d"
           }
          ],
          "scattercarpet": [
           {
            "marker": {
             "colorbar": {
              "outlinewidth": 0,
              "ticks": ""
             }
            },
            "type": "scattercarpet"
           }
          ],
          "scattergeo": [
           {
            "marker": {
             "colorbar": {
              "outlinewidth": 0,
              "ticks": ""
             }
            },
            "type": "scattergeo"
           }
          ],
          "scattergl": [
           {
            "marker": {
             "colorbar": {
              "outlinewidth": 0,
              "ticks": ""
             }
            },
            "type": "scattergl"
           }
          ],
          "scattermapbox": [
           {
            "marker": {
             "colorbar": {
              "outlinewidth": 0,
              "ticks": ""
             }
            },
            "type": "scattermapbox"
           }
          ],
          "scatterpolar": [
           {
            "marker": {
             "colorbar": {
              "outlinewidth": 0,
              "ticks": ""
             }
            },
            "type": "scatterpolar"
           }
          ],
          "scatterpolargl": [
           {
            "marker": {
             "colorbar": {
              "outlinewidth": 0,
              "ticks": ""
             }
            },
            "type": "scatterpolargl"
           }
          ],
          "scatterternary": [
           {
            "marker": {
             "colorbar": {
              "outlinewidth": 0,
              "ticks": ""
             }
            },
            "type": "scatterternary"
           }
          ],
          "surface": [
           {
            "colorbar": {
             "outlinewidth": 0,
             "ticks": ""
            },
            "colorscale": [
             [
              0,
              "#0d0887"
             ],
             [
              0.1111111111111111,
              "#46039f"
             ],
             [
              0.2222222222222222,
              "#7201a8"
             ],
             [
              0.3333333333333333,
              "#9c179e"
             ],
             [
              0.4444444444444444,
              "#bd3786"
             ],
             [
              0.5555555555555556,
              "#d8576b"
             ],
             [
              0.6666666666666666,
              "#ed7953"
             ],
             [
              0.7777777777777778,
              "#fb9f3a"
             ],
             [
              0.8888888888888888,
              "#fdca26"
             ],
             [
              1,
              "#f0f921"
             ]
            ],
            "type": "surface"
           }
          ],
          "table": [
           {
            "cells": {
             "fill": {
              "color": "#EBF0F8"
             },
             "line": {
              "color": "white"
             }
            },
            "header": {
             "fill": {
              "color": "#C8D4E3"
             },
             "line": {
              "color": "white"
             }
            },
            "type": "table"
           }
          ]
         },
         "layout": {
          "annotationdefaults": {
           "arrowcolor": "#2a3f5f",
           "arrowhead": 0,
           "arrowwidth": 1
          },
          "coloraxis": {
           "colorbar": {
            "outlinewidth": 0,
            "ticks": ""
           }
          },
          "colorscale": {
           "diverging": [
            [
             0,
             "#8e0152"
            ],
            [
             0.1,
             "#c51b7d"
            ],
            [
             0.2,
             "#de77ae"
            ],
            [
             0.3,
             "#f1b6da"
            ],
            [
             0.4,
             "#fde0ef"
            ],
            [
             0.5,
             "#f7f7f7"
            ],
            [
             0.6,
             "#e6f5d0"
            ],
            [
             0.7,
             "#b8e186"
            ],
            [
             0.8,
             "#7fbc41"
            ],
            [
             0.9,
             "#4d9221"
            ],
            [
             1,
             "#276419"
            ]
           ],
           "sequential": [
            [
             0,
             "#0d0887"
            ],
            [
             0.1111111111111111,
             "#46039f"
            ],
            [
             0.2222222222222222,
             "#7201a8"
            ],
            [
             0.3333333333333333,
             "#9c179e"
            ],
            [
             0.4444444444444444,
             "#bd3786"
            ],
            [
             0.5555555555555556,
             "#d8576b"
            ],
            [
             0.6666666666666666,
             "#ed7953"
            ],
            [
             0.7777777777777778,
             "#fb9f3a"
            ],
            [
             0.8888888888888888,
             "#fdca26"
            ],
            [
             1,
             "#f0f921"
            ]
           ],
           "sequentialminus": [
            [
             0,
             "#0d0887"
            ],
            [
             0.1111111111111111,
             "#46039f"
            ],
            [
             0.2222222222222222,
             "#7201a8"
            ],
            [
             0.3333333333333333,
             "#9c179e"
            ],
            [
             0.4444444444444444,
             "#bd3786"
            ],
            [
             0.5555555555555556,
             "#d8576b"
            ],
            [
             0.6666666666666666,
             "#ed7953"
            ],
            [
             0.7777777777777778,
             "#fb9f3a"
            ],
            [
             0.8888888888888888,
             "#fdca26"
            ],
            [
             1,
             "#f0f921"
            ]
           ]
          },
          "colorway": [
           "#636efa",
           "#EF553B",
           "#00cc96",
           "#ab63fa",
           "#FFA15A",
           "#19d3f3",
           "#FF6692",
           "#B6E880",
           "#FF97FF",
           "#FECB52"
          ],
          "font": {
           "color": "#2a3f5f"
          },
          "geo": {
           "bgcolor": "white",
           "lakecolor": "white",
           "landcolor": "#E5ECF6",
           "showlakes": true,
           "showland": true,
           "subunitcolor": "white"
          },
          "hoverlabel": {
           "align": "left"
          },
          "hovermode": "closest",
          "mapbox": {
           "style": "light"
          },
          "paper_bgcolor": "white",
          "plot_bgcolor": "#E5ECF6",
          "polar": {
           "angularaxis": {
            "gridcolor": "white",
            "linecolor": "white",
            "ticks": ""
           },
           "bgcolor": "#E5ECF6",
           "radialaxis": {
            "gridcolor": "white",
            "linecolor": "white",
            "ticks": ""
           }
          },
          "scene": {
           "xaxis": {
            "backgroundcolor": "#E5ECF6",
            "gridcolor": "white",
            "gridwidth": 2,
            "linecolor": "white",
            "showbackground": true,
            "ticks": "",
            "zerolinecolor": "white"
           },
           "yaxis": {
            "backgroundcolor": "#E5ECF6",
            "gridcolor": "white",
            "gridwidth": 2,
            "linecolor": "white",
            "showbackground": true,
            "ticks": "",
            "zerolinecolor": "white"
           },
           "zaxis": {
            "backgroundcolor": "#E5ECF6",
            "gridcolor": "white",
            "gridwidth": 2,
            "linecolor": "white",
            "showbackground": true,
            "ticks": "",
            "zerolinecolor": "white"
           }
          },
          "shapedefaults": {
           "line": {
            "color": "#2a3f5f"
           }
          },
          "ternary": {
           "aaxis": {
            "gridcolor": "white",
            "linecolor": "white",
            "ticks": ""
           },
           "baxis": {
            "gridcolor": "white",
            "linecolor": "white",
            "ticks": ""
           },
           "bgcolor": "#E5ECF6",
           "caxis": {
            "gridcolor": "white",
            "linecolor": "white",
            "ticks": ""
           }
          },
          "title": {
           "x": 0.05
          },
          "xaxis": {
           "automargin": true,
           "gridcolor": "white",
           "linecolor": "white",
           "ticks": "",
           "title": {
            "standoff": 15
           },
           "zerolinecolor": "white",
           "zerolinewidth": 2
          },
          "yaxis": {
           "automargin": true,
           "gridcolor": "white",
           "linecolor": "white",
           "ticks": "",
           "title": {
            "standoff": 15
           },
           "zerolinecolor": "white",
           "zerolinewidth": 2
          }
         }
        }
       }
      },
      "text/html": [
       "<div>\n",
       "        \n",
       "        \n",
       "            <div id=\"08ac75e0-f796-4b75-8efb-8eda922283c5\" class=\"plotly-graph-div\" style=\"height:600px; width:100%;\"></div>\n",
       "            <script type=\"text/javascript\">\n",
       "                require([\"plotly\"], function(Plotly) {\n",
       "                    window.PLOTLYENV=window.PLOTLYENV || {};\n",
       "                    \n",
       "                if (document.getElementById(\"08ac75e0-f796-4b75-8efb-8eda922283c5\")) {\n",
       "                    Plotly.newPlot(\n",
       "                        '08ac75e0-f796-4b75-8efb-8eda922283c5',\n",
       "                        [{\"coloraxis\": \"coloraxis\", \"geo\": \"geo\", \"hoverlabel\": {\"namelength\": 0}, \"hovertemplate\": \"country=%{location}<br>2019=%{z}\", \"locationmode\": \"country names\", \"locations\": [\"Afghanistan\", \"Albania\", \"Algeria\", \"Andorra\", \"Angola\", \"Antigua and Barbuda\", \"Argentina\", \"Armenia\", \"Australia\", \"Austria\", \"Azerbaijan\", \"Bahamas\", \"Bahrain\", \"Bangladesh\", \"Barbados\", \"Belarus\", \"Belgium\", \"Belize\", \"Benin\", \"Bhutan\", \"Bolivia\", \"Bosnia and Herzegovina\", \"Botswana\", \"Brazil\", \"Brunei\", \"Bulgaria\", \"Burkina Faso\", \"Burundi\", \"Cambodia\", \"Cameroon\", \"Canada\", \"Cape Verde\", \"Central African Republic\", \"Chad\", \"Chile\", \"China\", \"Colombia\", \"Comoros\", \"Congo, Dem. Rep.\", \"Congo, Rep.\", \"Costa Rica\", \"Cote d'Ivoire\", \"Croatia\", \"Cuba\", \"Cyprus\", \"Czech Republic\", \"Denmark\", \"Djibouti\", \"Dominica\", \"Dominican Republic\", \"Ecuador\", \"Egypt\", \"El Salvador\", \"Equatorial Guinea\", \"Eritrea\", \"Estonia\", \"Ethiopia\", \"Fiji\", \"Finland\", \"France\", \"Gabon\", \"Gambia\", \"Georgia\", \"Germany\", \"Ghana\", \"Greece\", \"Grenada\", \"Guatemala\", \"Guinea\", \"Guinea-Bissau\", \"Guyana\", \"Haiti\", \"Honduras\", \"Hungary\", \"Iceland\", \"India\", \"Indonesia\", \"Iran\", \"Iraq\", \"Ireland\", \"Israel\", \"Italy\", \"Jamaica\", \"Japan\", \"Jordan\", \"Kazakhstan\", \"Kenya\", \"Kiribati\", \"Kuwait\", \"Kyrgyz Republic\", \"Lao\", \"Latvia\", \"Lebanon\", \"Lesotho\", \"Liberia\", \"Libya\", \"Lithuania\", \"Luxembourg\", \"Macedonia, FYR\", \"Madagascar\", \"Malawi\", \"Malaysia\", \"Maldives\", \"Mali\", \"Malta\", \"Marshall Islands\", \"Mauritania\", \"Mauritius\", \"Mexico\", \"Micronesia, Fed. Sts.\", \"Moldova\", \"Monaco\", \"Mongolia\", \"Montenegro\", \"Morocco\", \"Mozambique\", \"Myanmar\", \"Namibia\", \"Nauru\", \"Nepal\", \"Netherlands\", \"New Zealand\", \"Nicaragua\", \"Niger\", \"Nigeria\", \"North Korea\", \"Norway\", \"Oman\", \"Pakistan\", \"Palau\", \"Palestine\", \"Panama\", \"Papua New Guinea\", \"Paraguay\", \"Peru\", \"Philippines\", \"Poland\", \"Portugal\", \"Qatar\", \"Romania\", \"Russia\", \"Rwanda\", \"Samoa\", \"San Marino\", \"Sao Tome and Principe\", \"Saudi Arabia\", \"Senegal\", \"Serbia\", \"Seychelles\", \"Sierra Leone\", \"Singapore\", \"Slovak Republic\", \"Slovenia\", \"Solomon Islands\", \"Somalia\", \"South Africa\", \"South Korea\", \"South Sudan\", \"Spain\", \"Sri Lanka\", \"St. Kitts and Nevis\", \"St. Lucia\", \"St. Vincent and the Grenadines\", \"Sudan\", \"Suriname\", \"Swaziland\", \"Sweden\", \"Switzerland\", \"Syria\", \"Tajikistan\", \"Tanzania\", \"Thailand\", \"Timor-Leste\", \"Togo\", \"Tonga\", \"Trinidad and Tobago\", \"Tunisia\", \"Turkey\", \"Turkmenistan\", \"Tuvalu\", \"Uganda\", \"Ukraine\", \"United Arab Emirates\", \"United Kingdom\", \"United States\", \"Uruguay\", \"Uzbekistan\", \"Vanuatu\", \"Venezuela\", \"Vietnam\", \"Yemen\", \"Zambia\", \"Zimbabwe\"], \"name\": \"\", \"type\": \"choropleth\", \"z\": [1950, 13000, 13700, 53200, 5760, 21200, 19300, 8930, 46400, 44900, 16900, 22100, 44400, 3940, 16200, 17600, 43200, 7640, 2260, 10600, 7100, 12500, 17000, 14500, 83100, 19400, 1770, 678, 4020, 3250, 44100, 6600, 713, 1880, 23800, 16900, 14000, 1450, 759, 5660, 16700, 3930, 23200, 20600, 32700, 33000, 47100, 3650, 10800, 15800, 10200, 11200, 8430, 19300, 1260, 30400, 1900, 9700, 40800, 39500, 18000, 1580, 10600, 45700, 4480, 26000, 13800, 7640, 1310, 1590, 8000, 1740, 4700, 27600, 48300, 7340, 12100, 18000, 15700, 67000, 33800, 35500, 8710, 39400, 8510, 24600, 3220, 1880, 68800, 3610, 6620, 26500, 13700, 3060, 829, 18600, 31700, 99700, 14500, 1490, 1160, 28100, 13400, 2050, 39000, 3770, 3780, 21800, 17600, 3430, 5540, 61400, 12600, 17000, 7980, 1240, 6520, 10900, 12700, 2490, 49200, 36800, 5650, 992, 5680, 1390, 65500, 38400, 5410, 15600, 2710, 24500, 2830, 9490, 13100, 8350, 28500, 28300, 123000, 24300, 25200, 2020, 6030, 40000, 3290, 49800, 2680, 15500, 28200, 1590, 85300, 32400, 31500, 2120, 631, 12400, 37700, 1840, 35500, 12900, 26200, 11000, 11700, 4480, 13300, 7560, 47800, 57400, 2900, 3000, 2890, 17500, 1270, 1530, 5520, 30800, 12000, 25500, 18800, 3530, 1880, 8680, 68900, 40700, 55600, 22000, 7040, 2900, 14000, 6870, 2500, 3980, 2000]}],\n",
       "                        {\"coloraxis\": {\"colorbar\": {\"title\": {\"text\": \"2019\"}}, \"colorscale\": [[0.0, \"rgb(255,247,236)\"], [0.125, \"rgb(254,232,200)\"], [0.25, \"rgb(253,212,158)\"], [0.375, \"rgb(253,187,132)\"], [0.5, \"rgb(252,141,89)\"], [0.625, \"rgb(239,101,72)\"], [0.75, \"rgb(215,48,31)\"], [0.875, \"rgb(179,0,0)\"], [1.0, \"rgb(127,0,0)\"]]}, \"geo\": {\"center\": {}, \"domain\": {\"x\": [0.0, 1.0], \"y\": [0.0, 1.0]}, \"projection\": {\"type\": \"natural earth\"}}, \"height\": 600, \"legend\": {\"tracegroupgap\": 0}, \"margin\": {\"t\": 60}, \"template\": {\"data\": {\"bar\": [{\"error_x\": {\"color\": \"#2a3f5f\"}, \"error_y\": {\"color\": \"#2a3f5f\"}, \"marker\": {\"line\": {\"color\": \"#E5ECF6\", \"width\": 0.5}}, \"type\": \"bar\"}], \"barpolar\": [{\"marker\": {\"line\": {\"color\": \"#E5ECF6\", \"width\": 0.5}}, \"type\": \"barpolar\"}], \"carpet\": [{\"aaxis\": {\"endlinecolor\": \"#2a3f5f\", \"gridcolor\": \"white\", \"linecolor\": \"white\", \"minorgridcolor\": \"white\", \"startlinecolor\": \"#2a3f5f\"}, \"baxis\": {\"endlinecolor\": \"#2a3f5f\", \"gridcolor\": \"white\", \"linecolor\": \"white\", \"minorgridcolor\": \"white\", \"startlinecolor\": \"#2a3f5f\"}, \"type\": \"carpet\"}], \"choropleth\": [{\"colorbar\": {\"outlinewidth\": 0, \"ticks\": \"\"}, \"type\": \"choropleth\"}], \"contour\": [{\"colorbar\": {\"outlinewidth\": 0, \"ticks\": \"\"}, \"colorscale\": [[0.0, \"#0d0887\"], [0.1111111111111111, \"#46039f\"], [0.2222222222222222, \"#7201a8\"], [0.3333333333333333, \"#9c179e\"], [0.4444444444444444, \"#bd3786\"], [0.5555555555555556, \"#d8576b\"], [0.6666666666666666, \"#ed7953\"], [0.7777777777777778, \"#fb9f3a\"], [0.8888888888888888, \"#fdca26\"], [1.0, \"#f0f921\"]], \"type\": \"contour\"}], \"contourcarpet\": [{\"colorbar\": {\"outlinewidth\": 0, \"ticks\": \"\"}, \"type\": \"contourcarpet\"}], \"heatmap\": [{\"colorbar\": {\"outlinewidth\": 0, \"ticks\": \"\"}, \"colorscale\": [[0.0, \"#0d0887\"], [0.1111111111111111, \"#46039f\"], [0.2222222222222222, \"#7201a8\"], [0.3333333333333333, \"#9c179e\"], [0.4444444444444444, \"#bd3786\"], [0.5555555555555556, \"#d8576b\"], [0.6666666666666666, \"#ed7953\"], [0.7777777777777778, \"#fb9f3a\"], [0.8888888888888888, \"#fdca26\"], [1.0, \"#f0f921\"]], \"type\": \"heatmap\"}], \"heatmapgl\": [{\"colorbar\": {\"outlinewidth\": 0, \"ticks\": \"\"}, \"colorscale\": [[0.0, \"#0d0887\"], [0.1111111111111111, \"#46039f\"], [0.2222222222222222, \"#7201a8\"], [0.3333333333333333, \"#9c179e\"], [0.4444444444444444, \"#bd3786\"], [0.5555555555555556, \"#d8576b\"], [0.6666666666666666, \"#ed7953\"], [0.7777777777777778, \"#fb9f3a\"], [0.8888888888888888, \"#fdca26\"], [1.0, \"#f0f921\"]], \"type\": \"heatmapgl\"}], \"histogram\": [{\"marker\": {\"colorbar\": {\"outlinewidth\": 0, \"ticks\": \"\"}}, \"type\": \"histogram\"}], \"histogram2d\": [{\"colorbar\": {\"outlinewidth\": 0, \"ticks\": \"\"}, \"colorscale\": [[0.0, \"#0d0887\"], [0.1111111111111111, \"#46039f\"], [0.2222222222222222, \"#7201a8\"], [0.3333333333333333, \"#9c179e\"], [0.4444444444444444, \"#bd3786\"], [0.5555555555555556, \"#d8576b\"], [0.6666666666666666, \"#ed7953\"], [0.7777777777777778, \"#fb9f3a\"], [0.8888888888888888, \"#fdca26\"], [1.0, \"#f0f921\"]], \"type\": \"histogram2d\"}], \"histogram2dcontour\": [{\"colorbar\": {\"outlinewidth\": 0, \"ticks\": \"\"}, \"colorscale\": [[0.0, \"#0d0887\"], [0.1111111111111111, \"#46039f\"], [0.2222222222222222, \"#7201a8\"], [0.3333333333333333, \"#9c179e\"], [0.4444444444444444, \"#bd3786\"], [0.5555555555555556, \"#d8576b\"], [0.6666666666666666, \"#ed7953\"], [0.7777777777777778, \"#fb9f3a\"], [0.8888888888888888, \"#fdca26\"], [1.0, \"#f0f921\"]], \"type\": \"histogram2dcontour\"}], \"mesh3d\": [{\"colorbar\": {\"outlinewidth\": 0, \"ticks\": \"\"}, \"type\": \"mesh3d\"}], \"parcoords\": [{\"line\": {\"colorbar\": {\"outlinewidth\": 0, \"ticks\": \"\"}}, \"type\": \"parcoords\"}], \"pie\": [{\"automargin\": true, \"type\": \"pie\"}], \"scatter\": [{\"marker\": {\"colorbar\": {\"outlinewidth\": 0, \"ticks\": \"\"}}, \"type\": \"scatter\"}], \"scatter3d\": [{\"line\": {\"colorbar\": {\"outlinewidth\": 0, \"ticks\": \"\"}}, \"marker\": {\"colorbar\": {\"outlinewidth\": 0, \"ticks\": \"\"}}, \"type\": \"scatter3d\"}], \"scattercarpet\": [{\"marker\": {\"colorbar\": {\"outlinewidth\": 0, \"ticks\": \"\"}}, \"type\": \"scattercarpet\"}], \"scattergeo\": [{\"marker\": {\"colorbar\": {\"outlinewidth\": 0, \"ticks\": \"\"}}, \"type\": \"scattergeo\"}], \"scattergl\": [{\"marker\": {\"colorbar\": {\"outlinewidth\": 0, \"ticks\": \"\"}}, \"type\": \"scattergl\"}], \"scattermapbox\": [{\"marker\": {\"colorbar\": {\"outlinewidth\": 0, \"ticks\": \"\"}}, \"type\": \"scattermapbox\"}], \"scatterpolar\": [{\"marker\": {\"colorbar\": {\"outlinewidth\": 0, \"ticks\": \"\"}}, \"type\": \"scatterpolar\"}], \"scatterpolargl\": [{\"marker\": {\"colorbar\": {\"outlinewidth\": 0, \"ticks\": \"\"}}, \"type\": \"scatterpolargl\"}], \"scatterternary\": [{\"marker\": {\"colorbar\": {\"outlinewidth\": 0, \"ticks\": \"\"}}, \"type\": \"scatterternary\"}], \"surface\": [{\"colorbar\": {\"outlinewidth\": 0, \"ticks\": \"\"}, \"colorscale\": [[0.0, \"#0d0887\"], [0.1111111111111111, \"#46039f\"], [0.2222222222222222, \"#7201a8\"], [0.3333333333333333, \"#9c179e\"], [0.4444444444444444, \"#bd3786\"], [0.5555555555555556, \"#d8576b\"], [0.6666666666666666, \"#ed7953\"], [0.7777777777777778, \"#fb9f3a\"], [0.8888888888888888, \"#fdca26\"], [1.0, \"#f0f921\"]], \"type\": \"surface\"}], \"table\": [{\"cells\": {\"fill\": {\"color\": \"#EBF0F8\"}, \"line\": {\"color\": \"white\"}}, \"header\": {\"fill\": {\"color\": \"#C8D4E3\"}, \"line\": {\"color\": \"white\"}}, \"type\": \"table\"}]}, \"layout\": {\"annotationdefaults\": {\"arrowcolor\": \"#2a3f5f\", \"arrowhead\": 0, \"arrowwidth\": 1}, \"coloraxis\": {\"colorbar\": {\"outlinewidth\": 0, \"ticks\": \"\"}}, \"colorscale\": {\"diverging\": [[0, \"#8e0152\"], [0.1, \"#c51b7d\"], [0.2, \"#de77ae\"], [0.3, \"#f1b6da\"], [0.4, \"#fde0ef\"], [0.5, \"#f7f7f7\"], [0.6, \"#e6f5d0\"], [0.7, \"#b8e186\"], [0.8, \"#7fbc41\"], [0.9, \"#4d9221\"], [1, \"#276419\"]], \"sequential\": [[0.0, \"#0d0887\"], [0.1111111111111111, \"#46039f\"], [0.2222222222222222, \"#7201a8\"], [0.3333333333333333, \"#9c179e\"], [0.4444444444444444, \"#bd3786\"], [0.5555555555555556, \"#d8576b\"], [0.6666666666666666, \"#ed7953\"], [0.7777777777777778, \"#fb9f3a\"], [0.8888888888888888, \"#fdca26\"], [1.0, \"#f0f921\"]], \"sequentialminus\": [[0.0, \"#0d0887\"], [0.1111111111111111, \"#46039f\"], [0.2222222222222222, \"#7201a8\"], [0.3333333333333333, \"#9c179e\"], [0.4444444444444444, \"#bd3786\"], [0.5555555555555556, \"#d8576b\"], [0.6666666666666666, \"#ed7953\"], [0.7777777777777778, \"#fb9f3a\"], [0.8888888888888888, \"#fdca26\"], [1.0, \"#f0f921\"]]}, \"colorway\": [\"#636efa\", \"#EF553B\", \"#00cc96\", \"#ab63fa\", \"#FFA15A\", \"#19d3f3\", \"#FF6692\", \"#B6E880\", \"#FF97FF\", \"#FECB52\"], \"font\": {\"color\": \"#2a3f5f\"}, \"geo\": {\"bgcolor\": \"white\", \"lakecolor\": \"white\", \"landcolor\": \"#E5ECF6\", \"showlakes\": true, \"showland\": true, \"subunitcolor\": \"white\"}, \"hoverlabel\": {\"align\": \"left\"}, \"hovermode\": \"closest\", \"mapbox\": {\"style\": \"light\"}, \"paper_bgcolor\": \"white\", \"plot_bgcolor\": \"#E5ECF6\", \"polar\": {\"angularaxis\": {\"gridcolor\": \"white\", \"linecolor\": \"white\", \"ticks\": \"\"}, \"bgcolor\": \"#E5ECF6\", \"radialaxis\": {\"gridcolor\": \"white\", \"linecolor\": \"white\", \"ticks\": \"\"}}, \"scene\": {\"xaxis\": {\"backgroundcolor\": \"#E5ECF6\", \"gridcolor\": \"white\", \"gridwidth\": 2, \"linecolor\": \"white\", \"showbackground\": true, \"ticks\": \"\", \"zerolinecolor\": \"white\"}, \"yaxis\": {\"backgroundcolor\": \"#E5ECF6\", \"gridcolor\": \"white\", \"gridwidth\": 2, \"linecolor\": \"white\", \"showbackground\": true, \"ticks\": \"\", \"zerolinecolor\": \"white\"}, \"zaxis\": {\"backgroundcolor\": \"#E5ECF6\", \"gridcolor\": \"white\", \"gridwidth\": 2, \"linecolor\": \"white\", \"showbackground\": true, \"ticks\": \"\", \"zerolinecolor\": \"white\"}}, \"shapedefaults\": {\"line\": {\"color\": \"#2a3f5f\"}}, \"ternary\": {\"aaxis\": {\"gridcolor\": \"white\", \"linecolor\": \"white\", \"ticks\": \"\"}, \"baxis\": {\"gridcolor\": \"white\", \"linecolor\": \"white\", \"ticks\": \"\"}, \"bgcolor\": \"#E5ECF6\", \"caxis\": {\"gridcolor\": \"white\", \"linecolor\": \"white\", \"ticks\": \"\"}}, \"title\": {\"x\": 0.05}, \"xaxis\": {\"automargin\": true, \"gridcolor\": \"white\", \"linecolor\": \"white\", \"ticks\": \"\", \"title\": {\"standoff\": 15}, \"zerolinecolor\": \"white\", \"zerolinewidth\": 2}, \"yaxis\": {\"automargin\": true, \"gridcolor\": \"white\", \"linecolor\": \"white\", \"ticks\": \"\", \"title\": {\"standoff\": 15}, \"zerolinecolor\": \"white\", \"zerolinewidth\": 2}}}},\n",
       "                        {\"responsive\": true}\n",
       "                    ).then(function(){\n",
       "                            \n",
       "var gd = document.getElementById('08ac75e0-f796-4b75-8efb-8eda922283c5');\n",
       "var x = new MutationObserver(function (mutations, observer) {{\n",
       "        var display = window.getComputedStyle(gd).display;\n",
       "        if (!display || display === 'none') {{\n",
       "            console.log([gd, 'removed!']);\n",
       "            Plotly.purge(gd);\n",
       "            observer.disconnect();\n",
       "        }}\n",
       "}});\n",
       "\n",
       "// Listen for the removal of the full notebook cells\n",
       "var notebookContainer = gd.closest('#notebook-container');\n",
       "if (notebookContainer) {{\n",
       "    x.observe(notebookContainer, {childList: true});\n",
       "}}\n",
       "\n",
       "// Listen for the clearing of the current output cell\n",
       "var outputEl = gd.closest('.output');\n",
       "if (outputEl) {{\n",
       "    x.observe(outputEl, {childList: true});\n",
       "}}\n",
       "\n",
       "                        })\n",
       "                };\n",
       "                });\n",
       "            </script>\n",
       "        </div>"
      ]
     },
     "metadata": {},
     "output_type": "display_data"
    }
   ],
   "source": [
    "fig = px.choropleth(\n",
    "    income_by_country[[\"country\", \"2019\"]],\n",
    "    locations=\"country\",\n",
    "    locationmode=\"country names\",\n",
    "    color=\"2019\",\n",
    "    projection=\"natural earth\",\n",
    "    color_continuous_scale=px.colors.sequential.OrRd)\n",
    "\n",
    "fig.show()"
   ]
  },
  {
   "cell_type": "markdown",
   "metadata": {},
   "source": [
    "We can see that our hypotheis above appears to be true"
   ]
  },
  {
   "cell_type": "markdown",
   "metadata": {},
   "source": [
    "## Small polluters"
   ]
  },
  {
   "cell_type": "code",
   "execution_count": 108,
   "metadata": {},
   "outputs": [],
   "source": [
    "small_polluters = plot_airlines[plot_airlines[\"CO2 per seat kg/100km\"] < 5.55]"
   ]
  },
  {
   "cell_type": "code",
   "execution_count": 109,
   "metadata": {},
   "outputs": [
    {
     "data": {
      "text/html": [
       "<div>\n",
       "<style scoped>\n",
       "    .dataframe tbody tr th:only-of-type {\n",
       "        vertical-align: middle;\n",
       "    }\n",
       "\n",
       "    .dataframe tbody tr th {\n",
       "        vertical-align: top;\n",
       "    }\n",
       "\n",
       "    .dataframe thead th {\n",
       "        text-align: right;\n",
       "    }\n",
       "</style>\n",
       "<table border=\"1\" class=\"dataframe\">\n",
       "  <thead>\n",
       "    <tr style=\"text-align: right;\">\n",
       "      <th></th>\n",
       "      <th>Operator</th>\n",
       "      <th>CO2 per seat kg/100km</th>\n",
       "    </tr>\n",
       "  </thead>\n",
       "  <tbody>\n",
       "    <tr>\n",
       "      <th>7</th>\n",
       "      <td>Air Arabia</td>\n",
       "      <td>5.517454</td>\n",
       "    </tr>\n",
       "    <tr>\n",
       "      <th>20</th>\n",
       "      <td>AirAsia</td>\n",
       "      <td>5.410837</td>\n",
       "    </tr>\n",
       "    <tr>\n",
       "      <th>67</th>\n",
       "      <td>Frontier Airlines</td>\n",
       "      <td>5.494874</td>\n",
       "    </tr>\n",
       "    <tr>\n",
       "      <th>70</th>\n",
       "      <td>GoAir</td>\n",
       "      <td>5.152137</td>\n",
       "    </tr>\n",
       "    <tr>\n",
       "      <th>78</th>\n",
       "      <td>IndiGo</td>\n",
       "      <td>5.323199</td>\n",
       "    </tr>\n",
       "    <tr>\n",
       "      <th>79</th>\n",
       "      <td>Interjet</td>\n",
       "      <td>5.421159</td>\n",
       "    </tr>\n",
       "    <tr>\n",
       "      <th>96</th>\n",
       "      <td>Loong Air</td>\n",
       "      <td>5.526228</td>\n",
       "    </tr>\n",
       "    <tr>\n",
       "      <th>107</th>\n",
       "      <td>Pegasus</td>\n",
       "      <td>5.457661</td>\n",
       "    </tr>\n",
       "    <tr>\n",
       "      <th>132</th>\n",
       "      <td>Spring Airlines</td>\n",
       "      <td>5.507436</td>\n",
       "    </tr>\n",
       "    <tr>\n",
       "      <th>152</th>\n",
       "      <td>VietJetAir</td>\n",
       "      <td>5.415886</td>\n",
       "    </tr>\n",
       "    <tr>\n",
       "      <th>153</th>\n",
       "      <td>Vietnam Airlines</td>\n",
       "      <td>5.518614</td>\n",
       "    </tr>\n",
       "    <tr>\n",
       "      <th>156</th>\n",
       "      <td>Vistara</td>\n",
       "      <td>5.392584</td>\n",
       "    </tr>\n",
       "    <tr>\n",
       "      <th>158</th>\n",
       "      <td>Volaris</td>\n",
       "      <td>5.494373</td>\n",
       "    </tr>\n",
       "    <tr>\n",
       "      <th>159</th>\n",
       "      <td>Vueling</td>\n",
       "      <td>5.524038</td>\n",
       "    </tr>\n",
       "    <tr>\n",
       "      <th>163</th>\n",
       "      <td>Wizz Air</td>\n",
       "      <td>5.525247</td>\n",
       "    </tr>\n",
       "    <tr>\n",
       "      <th>167</th>\n",
       "      <td>flydubai</td>\n",
       "      <td>5.546615</td>\n",
       "    </tr>\n",
       "  </tbody>\n",
       "</table>\n",
       "</div>"
      ],
      "text/plain": [
       "              Operator  CO2 per seat kg/100km\n",
       "7           Air Arabia               5.517454\n",
       "20             AirAsia               5.410837\n",
       "67   Frontier Airlines               5.494874\n",
       "70               GoAir               5.152137\n",
       "78              IndiGo               5.323199\n",
       "79            Interjet               5.421159\n",
       "96           Loong Air               5.526228\n",
       "107            Pegasus               5.457661\n",
       "132    Spring Airlines               5.507436\n",
       "152         VietJetAir               5.415886\n",
       "153   Vietnam Airlines               5.518614\n",
       "156            Vistara               5.392584\n",
       "158            Volaris               5.494373\n",
       "159            Vueling               5.524038\n",
       "163           Wizz Air               5.525247\n",
       "167           flydubai               5.546615"
      ]
     },
     "execution_count": 109,
     "metadata": {},
     "output_type": "execute_result"
    }
   ],
   "source": [
    "small_polluters"
   ]
  },
  {
   "cell_type": "markdown",
   "metadata": {},
   "source": [
    "From looking at this list we can see that most of the airlines that are listed above are lowcost airlines. This could be explained by the fact that lowcost airlines tend to sqeeze more seats into an aircraft, will reducing what is included with the flight which would probably reduce the total mass of the plane. This question would require further reasearch."
   ]
  },
  {
   "cell_type": "code",
   "execution_count": 110,
   "metadata": {},
   "outputs": [],
   "source": [
    "aircrafts_used_by_small_polluters = aircrafts_airlines.reset_index().set_index(\"Operator\")\\\n",
    ".loc[small_polluters.Operator.values].groupby(\"Model\").\\\n",
    "count()[[\"Seats\"]].rename(columns={\"Seats\": \"Number of aircrafts\"})\\\n",
    ".join(all_aircrafts_corrected, how =\"inner\")"
   ]
  },
  {
   "cell_type": "code",
   "execution_count": 111,
   "metadata": {
    "scrolled": false
   },
   "outputs": [
    {
     "data": {
      "text/html": [
       "<div>\n",
       "<style scoped>\n",
       "    .dataframe tbody tr th:only-of-type {\n",
       "        vertical-align: middle;\n",
       "    }\n",
       "\n",
       "    .dataframe tbody tr th {\n",
       "        vertical-align: top;\n",
       "    }\n",
       "\n",
       "    .dataframe thead th {\n",
       "        text-align: right;\n",
       "    }\n",
       "</style>\n",
       "<table border=\"1\" class=\"dataframe\">\n",
       "  <thead>\n",
       "    <tr style=\"text-align: right;\">\n",
       "      <th></th>\n",
       "      <th>Number of aircrafts</th>\n",
       "      <th>Seats</th>\n",
       "      <th>First flight</th>\n",
       "      <th>Fuel burn kg/km</th>\n",
       "      <th>Fuel per seat L/100km</th>\n",
       "      <th>Sector km</th>\n",
       "      <th>CO2 per seat kg/100km</th>\n",
       "      <th>CO2 kg/km</th>\n",
       "    </tr>\n",
       "    <tr>\n",
       "      <th>Model</th>\n",
       "      <th></th>\n",
       "      <th></th>\n",
       "      <th></th>\n",
       "      <th></th>\n",
       "      <th></th>\n",
       "      <th></th>\n",
       "      <th></th>\n",
       "      <th></th>\n",
       "    </tr>\n",
       "  </thead>\n",
       "  <tbody>\n",
       "    <tr>\n",
       "      <th>ATR 72</th>\n",
       "      <td>29</td>\n",
       "      <td>70.000000</td>\n",
       "      <td>1997.0</td>\n",
       "      <td>1.420000</td>\n",
       "      <td>2.530000</td>\n",
       "      <td>560.000000</td>\n",
       "      <td>5.607659</td>\n",
       "      <td>4.382120</td>\n",
       "    </tr>\n",
       "    <tr>\n",
       "      <th>Airbus A318-100</th>\n",
       "      <td>11</td>\n",
       "      <td>124.000000</td>\n",
       "      <td>1995.0</td>\n",
       "      <td>2.930000</td>\n",
       "      <td>2.950000</td>\n",
       "      <td>1900.000000</td>\n",
       "      <td>6.538575</td>\n",
       "      <td>9.041980</td>\n",
       "    </tr>\n",
       "    <tr>\n",
       "      <th>Airbus A319-100</th>\n",
       "      <td>24</td>\n",
       "      <td>124.000000</td>\n",
       "      <td>1995.0</td>\n",
       "      <td>2.930000</td>\n",
       "      <td>2.950000</td>\n",
       "      <td>1900.000000</td>\n",
       "      <td>6.538575</td>\n",
       "      <td>9.041980</td>\n",
       "    </tr>\n",
       "    <tr>\n",
       "      <th>Airbus A320-200</th>\n",
       "      <td>672</td>\n",
       "      <td>150.000000</td>\n",
       "      <td>1987.0</td>\n",
       "      <td>3.020000</td>\n",
       "      <td>2.520000</td>\n",
       "      <td>2942.000000</td>\n",
       "      <td>5.585494</td>\n",
       "      <td>9.319720</td>\n",
       "    </tr>\n",
       "    <tr>\n",
       "      <th>Airbus A320neo</th>\n",
       "      <td>343</td>\n",
       "      <td>154.000000</td>\n",
       "      <td>2015.0</td>\n",
       "      <td>2.790000</td>\n",
       "      <td>2.250000</td>\n",
       "      <td>1220.000000</td>\n",
       "      <td>4.987049</td>\n",
       "      <td>8.609940</td>\n",
       "    </tr>\n",
       "    <tr>\n",
       "      <th>Airbus A321-200</th>\n",
       "      <td>174</td>\n",
       "      <td>180.000000</td>\n",
       "      <td>1996.0</td>\n",
       "      <td>3.610000</td>\n",
       "      <td>2.500000</td>\n",
       "      <td>1900.000000</td>\n",
       "      <td>5.541165</td>\n",
       "      <td>11.140460</td>\n",
       "    </tr>\n",
       "    <tr>\n",
       "      <th>Airbus A321neo</th>\n",
       "      <td>82</td>\n",
       "      <td>192.000000</td>\n",
       "      <td>2015.0</td>\n",
       "      <td>3.300000</td>\n",
       "      <td>2.190000</td>\n",
       "      <td>1220.000000</td>\n",
       "      <td>4.854061</td>\n",
       "      <td>10.183800</td>\n",
       "    </tr>\n",
       "    <tr>\n",
       "      <th>Airbus A330-200</th>\n",
       "      <td>4</td>\n",
       "      <td>258.333333</td>\n",
       "      <td>1997.0</td>\n",
       "      <td>6.000000</td>\n",
       "      <td>2.933333</td>\n",
       "      <td>6166.666667</td>\n",
       "      <td>6.501634</td>\n",
       "      <td>18.516000</td>\n",
       "    </tr>\n",
       "    <tr>\n",
       "      <th>Airbus A350-900</th>\n",
       "      <td>14</td>\n",
       "      <td>315.000000</td>\n",
       "      <td>2013.0</td>\n",
       "      <td>6.550000</td>\n",
       "      <td>2.600000</td>\n",
       "      <td>10662.000000</td>\n",
       "      <td>5.762812</td>\n",
       "      <td>20.213300</td>\n",
       "    </tr>\n",
       "    <tr>\n",
       "      <th>Boeing 737 MAX 8</th>\n",
       "      <td>14</td>\n",
       "      <td>165.333333</td>\n",
       "      <td>2017.0</td>\n",
       "      <td>2.870000</td>\n",
       "      <td>2.150000</td>\n",
       "      <td>3140.000000</td>\n",
       "      <td>4.765402</td>\n",
       "      <td>8.856820</td>\n",
       "    </tr>\n",
       "    <tr>\n",
       "      <th>Boeing 737 MAX 9</th>\n",
       "      <td>3</td>\n",
       "      <td>168.000000</td>\n",
       "      <td>2017.0</td>\n",
       "      <td>3.040000</td>\n",
       "      <td>2.276667</td>\n",
       "      <td>3140.000000</td>\n",
       "      <td>5.046154</td>\n",
       "      <td>9.381440</td>\n",
       "    </tr>\n",
       "    <tr>\n",
       "      <th>Boeing 737-300</th>\n",
       "      <td>4</td>\n",
       "      <td>126.000000</td>\n",
       "      <td>1984.0</td>\n",
       "      <td>3.490000</td>\n",
       "      <td>3.460000</td>\n",
       "      <td>939.000000</td>\n",
       "      <td>7.668972</td>\n",
       "      <td>10.770140</td>\n",
       "    </tr>\n",
       "    <tr>\n",
       "      <th>Boeing 737-800</th>\n",
       "      <td>93</td>\n",
       "      <td>161.333333</td>\n",
       "      <td>1997.0</td>\n",
       "      <td>3.403333</td>\n",
       "      <td>2.630000</td>\n",
       "      <td>1576.666667</td>\n",
       "      <td>5.829306</td>\n",
       "      <td>10.502687</td>\n",
       "    </tr>\n",
       "    <tr>\n",
       "      <th>Boeing 777-200</th>\n",
       "      <td>4</td>\n",
       "      <td>305.000000</td>\n",
       "      <td>1994.0</td>\n",
       "      <td>6.830000</td>\n",
       "      <td>2.800000</td>\n",
       "      <td>5600.000000</td>\n",
       "      <td>6.206105</td>\n",
       "      <td>21.077380</td>\n",
       "    </tr>\n",
       "    <tr>\n",
       "      <th>Boeing 787-9 Dreamliner</th>\n",
       "      <td>14</td>\n",
       "      <td>298.250000</td>\n",
       "      <td>2013.0</td>\n",
       "      <td>6.107500</td>\n",
       "      <td>2.562500</td>\n",
       "      <td>9033.500000</td>\n",
       "      <td>5.679694</td>\n",
       "      <td>18.847745</td>\n",
       "    </tr>\n",
       "  </tbody>\n",
       "</table>\n",
       "</div>"
      ],
      "text/plain": [
       "                         Number of aircrafts       Seats  First flight  \\\n",
       "Model                                                                    \n",
       "ATR 72                                    29   70.000000        1997.0   \n",
       "Airbus A318-100                           11  124.000000        1995.0   \n",
       "Airbus A319-100                           24  124.000000        1995.0   \n",
       "Airbus A320-200                          672  150.000000        1987.0   \n",
       "Airbus A320neo                           343  154.000000        2015.0   \n",
       "Airbus A321-200                          174  180.000000        1996.0   \n",
       "Airbus A321neo                            82  192.000000        2015.0   \n",
       "Airbus A330-200                            4  258.333333        1997.0   \n",
       "Airbus A350-900                           14  315.000000        2013.0   \n",
       "Boeing 737 MAX 8                          14  165.333333        2017.0   \n",
       "Boeing 737 MAX 9                           3  168.000000        2017.0   \n",
       "Boeing 737-300                             4  126.000000        1984.0   \n",
       "Boeing 737-800                            93  161.333333        1997.0   \n",
       "Boeing 777-200                             4  305.000000        1994.0   \n",
       "Boeing 787-9 Dreamliner                   14  298.250000        2013.0   \n",
       "\n",
       "                         Fuel burn kg/km  Fuel per seat L/100km     Sector km  \\\n",
       "Model                                                                           \n",
       "ATR 72                          1.420000               2.530000    560.000000   \n",
       "Airbus A318-100                 2.930000               2.950000   1900.000000   \n",
       "Airbus A319-100                 2.930000               2.950000   1900.000000   \n",
       "Airbus A320-200                 3.020000               2.520000   2942.000000   \n",
       "Airbus A320neo                  2.790000               2.250000   1220.000000   \n",
       "Airbus A321-200                 3.610000               2.500000   1900.000000   \n",
       "Airbus A321neo                  3.300000               2.190000   1220.000000   \n",
       "Airbus A330-200                 6.000000               2.933333   6166.666667   \n",
       "Airbus A350-900                 6.550000               2.600000  10662.000000   \n",
       "Boeing 737 MAX 8                2.870000               2.150000   3140.000000   \n",
       "Boeing 737 MAX 9                3.040000               2.276667   3140.000000   \n",
       "Boeing 737-300                  3.490000               3.460000    939.000000   \n",
       "Boeing 737-800                  3.403333               2.630000   1576.666667   \n",
       "Boeing 777-200                  6.830000               2.800000   5600.000000   \n",
       "Boeing 787-9 Dreamliner         6.107500               2.562500   9033.500000   \n",
       "\n",
       "                         CO2 per seat kg/100km  CO2 kg/km  \n",
       "Model                                                      \n",
       "ATR 72                                5.607659   4.382120  \n",
       "Airbus A318-100                       6.538575   9.041980  \n",
       "Airbus A319-100                       6.538575   9.041980  \n",
       "Airbus A320-200                       5.585494   9.319720  \n",
       "Airbus A320neo                        4.987049   8.609940  \n",
       "Airbus A321-200                       5.541165  11.140460  \n",
       "Airbus A321neo                        4.854061  10.183800  \n",
       "Airbus A330-200                       6.501634  18.516000  \n",
       "Airbus A350-900                       5.762812  20.213300  \n",
       "Boeing 737 MAX 8                      4.765402   8.856820  \n",
       "Boeing 737 MAX 9                      5.046154   9.381440  \n",
       "Boeing 737-300                        7.668972  10.770140  \n",
       "Boeing 737-800                        5.829306  10.502687  \n",
       "Boeing 777-200                        6.206105  21.077380  \n",
       "Boeing 787-9 Dreamliner               5.679694  18.847745  "
      ]
     },
     "execution_count": 111,
     "metadata": {},
     "output_type": "execute_result"
    }
   ],
   "source": [
    "aircrafts_used_by_small_polluters"
   ]
  },
  {
   "cell_type": "code",
   "execution_count": 112,
   "metadata": {},
   "outputs": [
    {
     "data": {
      "application/vnd.plotly.v1+json": {
       "config": {
        "plotlyServerURL": "https://plot.ly"
       },
       "data": [
        {
         "alignmentgroup": "True",
         "customdata": [
          [
           2017
          ],
          [
           2015
          ],
          [
           2015
          ],
          [
           2017
          ],
          [
           1996
          ],
          [
           1987
          ],
          [
           1997
          ],
          [
           2013
          ],
          [
           2013
          ],
          [
           1997
          ],
          [
           1994
          ],
          [
           1997
          ],
          [
           1995
          ],
          [
           1995
          ],
          [
           1984
          ]
         ],
         "hoverlabel": {
          "namelength": 0
         },
         "hovertemplate": "<b>%{hovertext}</b><br><br>Model=%{x}<br>Number of aircrafts=%{y}<br>First flight=%{customdata[0]}<br>CO2 per seat kg/100km=%{marker.color}",
         "hovertext": [
          "Boeing 737 MAX 8",
          "Airbus A321neo",
          "Airbus A320neo",
          "Boeing 737 MAX 9",
          "Airbus A321-200",
          "Airbus A320-200",
          "ATR 72",
          "Boeing 787-9 Dreamliner",
          "Airbus A350-900",
          "Boeing 737-800",
          "Boeing 777-200",
          "Airbus A330-200",
          "Airbus A318-100",
          "Airbus A319-100",
          "Boeing 737-300"
         ],
         "legendgroup": "",
         "marker": {
          "color": [
           4.7654019000000005,
           4.85406054,
           4.9870485,
           5.046154260000001,
           5.541165,
           5.5854943200000005,
           5.60765898,
           5.679694125000001,
           5.762811600000001,
           5.82930558,
           6.206104799999999,
           6.501633600000001,
           6.538574700000001,
           6.538574700000001,
           7.668972360000001
          ],
          "coloraxis": "coloraxis"
         },
         "name": "",
         "offsetgroup": "",
         "orientation": "v",
         "showlegend": false,
         "textposition": "auto",
         "type": "bar",
         "x": [
          "Boeing 737 MAX 8",
          "Airbus A321neo",
          "Airbus A320neo",
          "Boeing 737 MAX 9",
          "Airbus A321-200",
          "Airbus A320-200",
          "ATR 72",
          "Boeing 787-9 Dreamliner",
          "Airbus A350-900",
          "Boeing 737-800",
          "Boeing 777-200",
          "Airbus A330-200",
          "Airbus A318-100",
          "Airbus A319-100",
          "Boeing 737-300"
         ],
         "xaxis": "x",
         "y": [
          14,
          82,
          343,
          3,
          174,
          672,
          29,
          14,
          14,
          93,
          4,
          4,
          11,
          24,
          4
         ],
         "yaxis": "y"
        }
       ],
       "layout": {
        "barmode": "relative",
        "coloraxis": {
         "colorbar": {
          "title": {
           "text": "CO2 per seat kg/100km"
          }
         },
         "colorscale": [
          [
           0,
           "#0d0887"
          ],
          [
           0.1111111111111111,
           "#46039f"
          ],
          [
           0.2222222222222222,
           "#7201a8"
          ],
          [
           0.3333333333333333,
           "#9c179e"
          ],
          [
           0.4444444444444444,
           "#bd3786"
          ],
          [
           0.5555555555555556,
           "#d8576b"
          ],
          [
           0.6666666666666666,
           "#ed7953"
          ],
          [
           0.7777777777777778,
           "#fb9f3a"
          ],
          [
           0.8888888888888888,
           "#fdca26"
          ],
          [
           1,
           "#f0f921"
          ]
         ]
        },
        "height": 600,
        "legend": {
         "tracegroupgap": 0
        },
        "template": {
         "data": {
          "bar": [
           {
            "error_x": {
             "color": "#2a3f5f"
            },
            "error_y": {
             "color": "#2a3f5f"
            },
            "marker": {
             "line": {
              "color": "#E5ECF6",
              "width": 0.5
             }
            },
            "type": "bar"
           }
          ],
          "barpolar": [
           {
            "marker": {
             "line": {
              "color": "#E5ECF6",
              "width": 0.5
             }
            },
            "type": "barpolar"
           }
          ],
          "carpet": [
           {
            "aaxis": {
             "endlinecolor": "#2a3f5f",
             "gridcolor": "white",
             "linecolor": "white",
             "minorgridcolor": "white",
             "startlinecolor": "#2a3f5f"
            },
            "baxis": {
             "endlinecolor": "#2a3f5f",
             "gridcolor": "white",
             "linecolor": "white",
             "minorgridcolor": "white",
             "startlinecolor": "#2a3f5f"
            },
            "type": "carpet"
           }
          ],
          "choropleth": [
           {
            "colorbar": {
             "outlinewidth": 0,
             "ticks": ""
            },
            "type": "choropleth"
           }
          ],
          "contour": [
           {
            "colorbar": {
             "outlinewidth": 0,
             "ticks": ""
            },
            "colorscale": [
             [
              0,
              "#0d0887"
             ],
             [
              0.1111111111111111,
              "#46039f"
             ],
             [
              0.2222222222222222,
              "#7201a8"
             ],
             [
              0.3333333333333333,
              "#9c179e"
             ],
             [
              0.4444444444444444,
              "#bd3786"
             ],
             [
              0.5555555555555556,
              "#d8576b"
             ],
             [
              0.6666666666666666,
              "#ed7953"
             ],
             [
              0.7777777777777778,
              "#fb9f3a"
             ],
             [
              0.8888888888888888,
              "#fdca26"
             ],
             [
              1,
              "#f0f921"
             ]
            ],
            "type": "contour"
           }
          ],
          "contourcarpet": [
           {
            "colorbar": {
             "outlinewidth": 0,
             "ticks": ""
            },
            "type": "contourcarpet"
           }
          ],
          "heatmap": [
           {
            "colorbar": {
             "outlinewidth": 0,
             "ticks": ""
            },
            "colorscale": [
             [
              0,
              "#0d0887"
             ],
             [
              0.1111111111111111,
              "#46039f"
             ],
             [
              0.2222222222222222,
              "#7201a8"
             ],
             [
              0.3333333333333333,
              "#9c179e"
             ],
             [
              0.4444444444444444,
              "#bd3786"
             ],
             [
              0.5555555555555556,
              "#d8576b"
             ],
             [
              0.6666666666666666,
              "#ed7953"
             ],
             [
              0.7777777777777778,
              "#fb9f3a"
             ],
             [
              0.8888888888888888,
              "#fdca26"
             ],
             [
              1,
              "#f0f921"
             ]
            ],
            "type": "heatmap"
           }
          ],
          "heatmapgl": [
           {
            "colorbar": {
             "outlinewidth": 0,
             "ticks": ""
            },
            "colorscale": [
             [
              0,
              "#0d0887"
             ],
             [
              0.1111111111111111,
              "#46039f"
             ],
             [
              0.2222222222222222,
              "#7201a8"
             ],
             [
              0.3333333333333333,
              "#9c179e"
             ],
             [
              0.4444444444444444,
              "#bd3786"
             ],
             [
              0.5555555555555556,
              "#d8576b"
             ],
             [
              0.6666666666666666,
              "#ed7953"
             ],
             [
              0.7777777777777778,
              "#fb9f3a"
             ],
             [
              0.8888888888888888,
              "#fdca26"
             ],
             [
              1,
              "#f0f921"
             ]
            ],
            "type": "heatmapgl"
           }
          ],
          "histogram": [
           {
            "marker": {
             "colorbar": {
              "outlinewidth": 0,
              "ticks": ""
             }
            },
            "type": "histogram"
           }
          ],
          "histogram2d": [
           {
            "colorbar": {
             "outlinewidth": 0,
             "ticks": ""
            },
            "colorscale": [
             [
              0,
              "#0d0887"
             ],
             [
              0.1111111111111111,
              "#46039f"
             ],
             [
              0.2222222222222222,
              "#7201a8"
             ],
             [
              0.3333333333333333,
              "#9c179e"
             ],
             [
              0.4444444444444444,
              "#bd3786"
             ],
             [
              0.5555555555555556,
              "#d8576b"
             ],
             [
              0.6666666666666666,
              "#ed7953"
             ],
             [
              0.7777777777777778,
              "#fb9f3a"
             ],
             [
              0.8888888888888888,
              "#fdca26"
             ],
             [
              1,
              "#f0f921"
             ]
            ],
            "type": "histogram2d"
           }
          ],
          "histogram2dcontour": [
           {
            "colorbar": {
             "outlinewidth": 0,
             "ticks": ""
            },
            "colorscale": [
             [
              0,
              "#0d0887"
             ],
             [
              0.1111111111111111,
              "#46039f"
             ],
             [
              0.2222222222222222,
              "#7201a8"
             ],
             [
              0.3333333333333333,
              "#9c179e"
             ],
             [
              0.4444444444444444,
              "#bd3786"
             ],
             [
              0.5555555555555556,
              "#d8576b"
             ],
             [
              0.6666666666666666,
              "#ed7953"
             ],
             [
              0.7777777777777778,
              "#fb9f3a"
             ],
             [
              0.8888888888888888,
              "#fdca26"
             ],
             [
              1,
              "#f0f921"
             ]
            ],
            "type": "histogram2dcontour"
           }
          ],
          "mesh3d": [
           {
            "colorbar": {
             "outlinewidth": 0,
             "ticks": ""
            },
            "type": "mesh3d"
           }
          ],
          "parcoords": [
           {
            "line": {
             "colorbar": {
              "outlinewidth": 0,
              "ticks": ""
             }
            },
            "type": "parcoords"
           }
          ],
          "pie": [
           {
            "automargin": true,
            "type": "pie"
           }
          ],
          "scatter": [
           {
            "marker": {
             "colorbar": {
              "outlinewidth": 0,
              "ticks": ""
             }
            },
            "type": "scatter"
           }
          ],
          "scatter3d": [
           {
            "line": {
             "colorbar": {
              "outlinewidth": 0,
              "ticks": ""
             }
            },
            "marker": {
             "colorbar": {
              "outlinewidth": 0,
              "ticks": ""
             }
            },
            "type": "scatter3d"
           }
          ],
          "scattercarpet": [
           {
            "marker": {
             "colorbar": {
              "outlinewidth": 0,
              "ticks": ""
             }
            },
            "type": "scattercarpet"
           }
          ],
          "scattergeo": [
           {
            "marker": {
             "colorbar": {
              "outlinewidth": 0,
              "ticks": ""
             }
            },
            "type": "scattergeo"
           }
          ],
          "scattergl": [
           {
            "marker": {
             "colorbar": {
              "outlinewidth": 0,
              "ticks": ""
             }
            },
            "type": "scattergl"
           }
          ],
          "scattermapbox": [
           {
            "marker": {
             "colorbar": {
              "outlinewidth": 0,
              "ticks": ""
             }
            },
            "type": "scattermapbox"
           }
          ],
          "scatterpolar": [
           {
            "marker": {
             "colorbar": {
              "outlinewidth": 0,
              "ticks": ""
             }
            },
            "type": "scatterpolar"
           }
          ],
          "scatterpolargl": [
           {
            "marker": {
             "colorbar": {
              "outlinewidth": 0,
              "ticks": ""
             }
            },
            "type": "scatterpolargl"
           }
          ],
          "scatterternary": [
           {
            "marker": {
             "colorbar": {
              "outlinewidth": 0,
              "ticks": ""
             }
            },
            "type": "scatterternary"
           }
          ],
          "surface": [
           {
            "colorbar": {
             "outlinewidth": 0,
             "ticks": ""
            },
            "colorscale": [
             [
              0,
              "#0d0887"
             ],
             [
              0.1111111111111111,
              "#46039f"
             ],
             [
              0.2222222222222222,
              "#7201a8"
             ],
             [
              0.3333333333333333,
              "#9c179e"
             ],
             [
              0.4444444444444444,
              "#bd3786"
             ],
             [
              0.5555555555555556,
              "#d8576b"
             ],
             [
              0.6666666666666666,
              "#ed7953"
             ],
             [
              0.7777777777777778,
              "#fb9f3a"
             ],
             [
              0.8888888888888888,
              "#fdca26"
             ],
             [
              1,
              "#f0f921"
             ]
            ],
            "type": "surface"
           }
          ],
          "table": [
           {
            "cells": {
             "fill": {
              "color": "#EBF0F8"
             },
             "line": {
              "color": "white"
             }
            },
            "header": {
             "fill": {
              "color": "#C8D4E3"
             },
             "line": {
              "color": "white"
             }
            },
            "type": "table"
           }
          ]
         },
         "layout": {
          "annotationdefaults": {
           "arrowcolor": "#2a3f5f",
           "arrowhead": 0,
           "arrowwidth": 1
          },
          "coloraxis": {
           "colorbar": {
            "outlinewidth": 0,
            "ticks": ""
           }
          },
          "colorscale": {
           "diverging": [
            [
             0,
             "#8e0152"
            ],
            [
             0.1,
             "#c51b7d"
            ],
            [
             0.2,
             "#de77ae"
            ],
            [
             0.3,
             "#f1b6da"
            ],
            [
             0.4,
             "#fde0ef"
            ],
            [
             0.5,
             "#f7f7f7"
            ],
            [
             0.6,
             "#e6f5d0"
            ],
            [
             0.7,
             "#b8e186"
            ],
            [
             0.8,
             "#7fbc41"
            ],
            [
             0.9,
             "#4d9221"
            ],
            [
             1,
             "#276419"
            ]
           ],
           "sequential": [
            [
             0,
             "#0d0887"
            ],
            [
             0.1111111111111111,
             "#46039f"
            ],
            [
             0.2222222222222222,
             "#7201a8"
            ],
            [
             0.3333333333333333,
             "#9c179e"
            ],
            [
             0.4444444444444444,
             "#bd3786"
            ],
            [
             0.5555555555555556,
             "#d8576b"
            ],
            [
             0.6666666666666666,
             "#ed7953"
            ],
            [
             0.7777777777777778,
             "#fb9f3a"
            ],
            [
             0.8888888888888888,
             "#fdca26"
            ],
            [
             1,
             "#f0f921"
            ]
           ],
           "sequentialminus": [
            [
             0,
             "#0d0887"
            ],
            [
             0.1111111111111111,
             "#46039f"
            ],
            [
             0.2222222222222222,
             "#7201a8"
            ],
            [
             0.3333333333333333,
             "#9c179e"
            ],
            [
             0.4444444444444444,
             "#bd3786"
            ],
            [
             0.5555555555555556,
             "#d8576b"
            ],
            [
             0.6666666666666666,
             "#ed7953"
            ],
            [
             0.7777777777777778,
             "#fb9f3a"
            ],
            [
             0.8888888888888888,
             "#fdca26"
            ],
            [
             1,
             "#f0f921"
            ]
           ]
          },
          "colorway": [
           "#636efa",
           "#EF553B",
           "#00cc96",
           "#ab63fa",
           "#FFA15A",
           "#19d3f3",
           "#FF6692",
           "#B6E880",
           "#FF97FF",
           "#FECB52"
          ],
          "font": {
           "color": "#2a3f5f"
          },
          "geo": {
           "bgcolor": "white",
           "lakecolor": "white",
           "landcolor": "#E5ECF6",
           "showlakes": true,
           "showland": true,
           "subunitcolor": "white"
          },
          "hoverlabel": {
           "align": "left"
          },
          "hovermode": "closest",
          "mapbox": {
           "style": "light"
          },
          "paper_bgcolor": "white",
          "plot_bgcolor": "#E5ECF6",
          "polar": {
           "angularaxis": {
            "gridcolor": "white",
            "linecolor": "white",
            "ticks": ""
           },
           "bgcolor": "#E5ECF6",
           "radialaxis": {
            "gridcolor": "white",
            "linecolor": "white",
            "ticks": ""
           }
          },
          "scene": {
           "xaxis": {
            "backgroundcolor": "#E5ECF6",
            "gridcolor": "white",
            "gridwidth": 2,
            "linecolor": "white",
            "showbackground": true,
            "ticks": "",
            "zerolinecolor": "white"
           },
           "yaxis": {
            "backgroundcolor": "#E5ECF6",
            "gridcolor": "white",
            "gridwidth": 2,
            "linecolor": "white",
            "showbackground": true,
            "ticks": "",
            "zerolinecolor": "white"
           },
           "zaxis": {
            "backgroundcolor": "#E5ECF6",
            "gridcolor": "white",
            "gridwidth": 2,
            "linecolor": "white",
            "showbackground": true,
            "ticks": "",
            "zerolinecolor": "white"
           }
          },
          "shapedefaults": {
           "line": {
            "color": "#2a3f5f"
           }
          },
          "ternary": {
           "aaxis": {
            "gridcolor": "white",
            "linecolor": "white",
            "ticks": ""
           },
           "baxis": {
            "gridcolor": "white",
            "linecolor": "white",
            "ticks": ""
           },
           "bgcolor": "#E5ECF6",
           "caxis": {
            "gridcolor": "white",
            "linecolor": "white",
            "ticks": ""
           }
          },
          "title": {
           "x": 0.05
          },
          "xaxis": {
           "automargin": true,
           "gridcolor": "white",
           "linecolor": "white",
           "ticks": "",
           "title": {
            "standoff": 15
           },
           "zerolinecolor": "white",
           "zerolinewidth": 2
          },
          "yaxis": {
           "automargin": true,
           "gridcolor": "white",
           "linecolor": "white",
           "ticks": "",
           "title": {
            "standoff": 15
           },
           "zerolinecolor": "white",
           "zerolinewidth": 2
          }
         }
        },
        "title": {
         "text": "Jet's used by the airlines producing the least CO2. Colors indicate CO2 per seat"
        },
        "xaxis": {
         "anchor": "y",
         "domain": [
          0,
          1
         ],
         "title": {
          "text": "Model"
         }
        },
        "yaxis": {
         "anchor": "x",
         "domain": [
          0,
          1
         ],
         "title": {
          "text": "Number of aircrafts"
         }
        }
       }
      },
      "text/html": [
       "<div>\n",
       "        \n",
       "        \n",
       "            <div id=\"ac8bfdb8-766b-4b78-8ef5-a6d75690164e\" class=\"plotly-graph-div\" style=\"height:600px; width:100%;\"></div>\n",
       "            <script type=\"text/javascript\">\n",
       "                require([\"plotly\"], function(Plotly) {\n",
       "                    window.PLOTLYENV=window.PLOTLYENV || {};\n",
       "                    \n",
       "                if (document.getElementById(\"ac8bfdb8-766b-4b78-8ef5-a6d75690164e\")) {\n",
       "                    Plotly.newPlot(\n",
       "                        'ac8bfdb8-766b-4b78-8ef5-a6d75690164e',\n",
       "                        [{\"alignmentgroup\": \"True\", \"customdata\": [[2017.0], [2015.0], [2015.0], [2017.0], [1996.0], [1987.0], [1997.0], [2013.0], [2013.0], [1997.0], [1994.0], [1997.0], [1995.0], [1995.0], [1984.0]], \"hoverlabel\": {\"namelength\": 0}, \"hovertemplate\": \"<b>%{hovertext}</b><br><br>Model=%{x}<br>Number of aircrafts=%{y}<br>First flight=%{customdata[0]}<br>CO2 per seat kg/100km=%{marker.color}\", \"hovertext\": [\"Boeing 737 MAX 8\", \"Airbus A321neo\", \"Airbus A320neo\", \"Boeing 737 MAX 9\", \"Airbus A321-200\", \"Airbus A320-200\", \"ATR 72\", \"Boeing 787-9 Dreamliner\", \"Airbus A350-900\", \"Boeing 737-800\", \"Boeing 777-200\", \"Airbus A330-200\", \"Airbus A318-100\", \"Airbus A319-100\", \"Boeing 737-300\"], \"legendgroup\": \"\", \"marker\": {\"color\": [4.7654019000000005, 4.85406054, 4.9870485, 5.046154260000001, 5.541165, 5.5854943200000005, 5.60765898, 5.679694125000001, 5.762811600000001, 5.82930558, 6.206104799999999, 6.501633600000001, 6.538574700000001, 6.538574700000001, 7.668972360000001], \"coloraxis\": \"coloraxis\"}, \"name\": \"\", \"offsetgroup\": \"\", \"orientation\": \"v\", \"showlegend\": false, \"textposition\": \"auto\", \"type\": \"bar\", \"x\": [\"Boeing 737 MAX 8\", \"Airbus A321neo\", \"Airbus A320neo\", \"Boeing 737 MAX 9\", \"Airbus A321-200\", \"Airbus A320-200\", \"ATR 72\", \"Boeing 787-9 Dreamliner\", \"Airbus A350-900\", \"Boeing 737-800\", \"Boeing 777-200\", \"Airbus A330-200\", \"Airbus A318-100\", \"Airbus A319-100\", \"Boeing 737-300\"], \"xaxis\": \"x\", \"y\": [14, 82, 343, 3, 174, 672, 29, 14, 14, 93, 4, 4, 11, 24, 4], \"yaxis\": \"y\"}],\n",
       "                        {\"barmode\": \"relative\", \"coloraxis\": {\"colorbar\": {\"title\": {\"text\": \"CO2 per seat kg/100km\"}}, \"colorscale\": [[0.0, \"#0d0887\"], [0.1111111111111111, \"#46039f\"], [0.2222222222222222, \"#7201a8\"], [0.3333333333333333, \"#9c179e\"], [0.4444444444444444, \"#bd3786\"], [0.5555555555555556, \"#d8576b\"], [0.6666666666666666, \"#ed7953\"], [0.7777777777777778, \"#fb9f3a\"], [0.8888888888888888, \"#fdca26\"], [1.0, \"#f0f921\"]]}, \"height\": 600, \"legend\": {\"tracegroupgap\": 0}, \"template\": {\"data\": {\"bar\": [{\"error_x\": {\"color\": \"#2a3f5f\"}, \"error_y\": {\"color\": \"#2a3f5f\"}, \"marker\": {\"line\": {\"color\": \"#E5ECF6\", \"width\": 0.5}}, \"type\": \"bar\"}], \"barpolar\": [{\"marker\": {\"line\": {\"color\": \"#E5ECF6\", \"width\": 0.5}}, \"type\": \"barpolar\"}], \"carpet\": [{\"aaxis\": {\"endlinecolor\": \"#2a3f5f\", \"gridcolor\": \"white\", \"linecolor\": \"white\", \"minorgridcolor\": \"white\", \"startlinecolor\": \"#2a3f5f\"}, \"baxis\": {\"endlinecolor\": \"#2a3f5f\", \"gridcolor\": \"white\", \"linecolor\": \"white\", \"minorgridcolor\": \"white\", \"startlinecolor\": \"#2a3f5f\"}, \"type\": \"carpet\"}], \"choropleth\": [{\"colorbar\": {\"outlinewidth\": 0, \"ticks\": \"\"}, \"type\": \"choropleth\"}], \"contour\": [{\"colorbar\": {\"outlinewidth\": 0, \"ticks\": \"\"}, \"colorscale\": [[0.0, \"#0d0887\"], [0.1111111111111111, \"#46039f\"], [0.2222222222222222, \"#7201a8\"], [0.3333333333333333, \"#9c179e\"], [0.4444444444444444, \"#bd3786\"], [0.5555555555555556, \"#d8576b\"], [0.6666666666666666, \"#ed7953\"], [0.7777777777777778, \"#fb9f3a\"], [0.8888888888888888, \"#fdca26\"], [1.0, \"#f0f921\"]], \"type\": \"contour\"}], \"contourcarpet\": [{\"colorbar\": {\"outlinewidth\": 0, \"ticks\": \"\"}, \"type\": \"contourcarpet\"}], \"heatmap\": [{\"colorbar\": {\"outlinewidth\": 0, \"ticks\": \"\"}, \"colorscale\": [[0.0, \"#0d0887\"], [0.1111111111111111, \"#46039f\"], [0.2222222222222222, \"#7201a8\"], [0.3333333333333333, \"#9c179e\"], [0.4444444444444444, \"#bd3786\"], [0.5555555555555556, \"#d8576b\"], [0.6666666666666666, \"#ed7953\"], [0.7777777777777778, \"#fb9f3a\"], [0.8888888888888888, \"#fdca26\"], [1.0, \"#f0f921\"]], \"type\": \"heatmap\"}], \"heatmapgl\": [{\"colorbar\": {\"outlinewidth\": 0, \"ticks\": \"\"}, \"colorscale\": [[0.0, \"#0d0887\"], [0.1111111111111111, \"#46039f\"], [0.2222222222222222, \"#7201a8\"], [0.3333333333333333, \"#9c179e\"], [0.4444444444444444, \"#bd3786\"], [0.5555555555555556, \"#d8576b\"], [0.6666666666666666, \"#ed7953\"], [0.7777777777777778, \"#fb9f3a\"], [0.8888888888888888, \"#fdca26\"], [1.0, \"#f0f921\"]], \"type\": \"heatmapgl\"}], \"histogram\": [{\"marker\": {\"colorbar\": {\"outlinewidth\": 0, \"ticks\": \"\"}}, \"type\": \"histogram\"}], \"histogram2d\": [{\"colorbar\": {\"outlinewidth\": 0, \"ticks\": \"\"}, \"colorscale\": [[0.0, \"#0d0887\"], [0.1111111111111111, \"#46039f\"], [0.2222222222222222, \"#7201a8\"], [0.3333333333333333, \"#9c179e\"], [0.4444444444444444, \"#bd3786\"], [0.5555555555555556, \"#d8576b\"], [0.6666666666666666, \"#ed7953\"], [0.7777777777777778, \"#fb9f3a\"], [0.8888888888888888, \"#fdca26\"], [1.0, \"#f0f921\"]], \"type\": \"histogram2d\"}], \"histogram2dcontour\": [{\"colorbar\": {\"outlinewidth\": 0, \"ticks\": \"\"}, \"colorscale\": [[0.0, \"#0d0887\"], [0.1111111111111111, \"#46039f\"], [0.2222222222222222, \"#7201a8\"], [0.3333333333333333, \"#9c179e\"], [0.4444444444444444, \"#bd3786\"], [0.5555555555555556, \"#d8576b\"], [0.6666666666666666, \"#ed7953\"], [0.7777777777777778, \"#fb9f3a\"], [0.8888888888888888, \"#fdca26\"], [1.0, \"#f0f921\"]], \"type\": \"histogram2dcontour\"}], \"mesh3d\": [{\"colorbar\": {\"outlinewidth\": 0, \"ticks\": \"\"}, \"type\": \"mesh3d\"}], \"parcoords\": [{\"line\": {\"colorbar\": {\"outlinewidth\": 0, \"ticks\": \"\"}}, \"type\": \"parcoords\"}], \"pie\": [{\"automargin\": true, \"type\": \"pie\"}], \"scatter\": [{\"marker\": {\"colorbar\": {\"outlinewidth\": 0, \"ticks\": \"\"}}, \"type\": \"scatter\"}], \"scatter3d\": [{\"line\": {\"colorbar\": {\"outlinewidth\": 0, \"ticks\": \"\"}}, \"marker\": {\"colorbar\": {\"outlinewidth\": 0, \"ticks\": \"\"}}, \"type\": \"scatter3d\"}], \"scattercarpet\": [{\"marker\": {\"colorbar\": {\"outlinewidth\": 0, \"ticks\": \"\"}}, \"type\": \"scattercarpet\"}], \"scattergeo\": [{\"marker\": {\"colorbar\": {\"outlinewidth\": 0, \"ticks\": \"\"}}, \"type\": \"scattergeo\"}], \"scattergl\": [{\"marker\": {\"colorbar\": {\"outlinewidth\": 0, \"ticks\": \"\"}}, \"type\": \"scattergl\"}], \"scattermapbox\": [{\"marker\": {\"colorbar\": {\"outlinewidth\": 0, \"ticks\": \"\"}}, \"type\": \"scattermapbox\"}], \"scatterpolar\": [{\"marker\": {\"colorbar\": {\"outlinewidth\": 0, \"ticks\": \"\"}}, \"type\": \"scatterpolar\"}], \"scatterpolargl\": [{\"marker\": {\"colorbar\": {\"outlinewidth\": 0, \"ticks\": \"\"}}, \"type\": \"scatterpolargl\"}], \"scatterternary\": [{\"marker\": {\"colorbar\": {\"outlinewidth\": 0, \"ticks\": \"\"}}, \"type\": \"scatterternary\"}], \"surface\": [{\"colorbar\": {\"outlinewidth\": 0, \"ticks\": \"\"}, \"colorscale\": [[0.0, \"#0d0887\"], [0.1111111111111111, \"#46039f\"], [0.2222222222222222, \"#7201a8\"], [0.3333333333333333, \"#9c179e\"], [0.4444444444444444, \"#bd3786\"], [0.5555555555555556, \"#d8576b\"], [0.6666666666666666, \"#ed7953\"], [0.7777777777777778, \"#fb9f3a\"], [0.8888888888888888, \"#fdca26\"], [1.0, \"#f0f921\"]], \"type\": \"surface\"}], \"table\": [{\"cells\": {\"fill\": {\"color\": \"#EBF0F8\"}, \"line\": {\"color\": \"white\"}}, \"header\": {\"fill\": {\"color\": \"#C8D4E3\"}, \"line\": {\"color\": \"white\"}}, \"type\": \"table\"}]}, \"layout\": {\"annotationdefaults\": {\"arrowcolor\": \"#2a3f5f\", \"arrowhead\": 0, \"arrowwidth\": 1}, \"coloraxis\": {\"colorbar\": {\"outlinewidth\": 0, \"ticks\": \"\"}}, \"colorscale\": {\"diverging\": [[0, \"#8e0152\"], [0.1, \"#c51b7d\"], [0.2, \"#de77ae\"], [0.3, \"#f1b6da\"], [0.4, \"#fde0ef\"], [0.5, \"#f7f7f7\"], [0.6, \"#e6f5d0\"], [0.7, \"#b8e186\"], [0.8, \"#7fbc41\"], [0.9, \"#4d9221\"], [1, \"#276419\"]], \"sequential\": [[0.0, \"#0d0887\"], [0.1111111111111111, \"#46039f\"], [0.2222222222222222, \"#7201a8\"], [0.3333333333333333, \"#9c179e\"], [0.4444444444444444, \"#bd3786\"], [0.5555555555555556, \"#d8576b\"], [0.6666666666666666, \"#ed7953\"], [0.7777777777777778, \"#fb9f3a\"], [0.8888888888888888, \"#fdca26\"], [1.0, \"#f0f921\"]], \"sequentialminus\": [[0.0, \"#0d0887\"], [0.1111111111111111, \"#46039f\"], [0.2222222222222222, \"#7201a8\"], [0.3333333333333333, \"#9c179e\"], [0.4444444444444444, \"#bd3786\"], [0.5555555555555556, \"#d8576b\"], [0.6666666666666666, \"#ed7953\"], [0.7777777777777778, \"#fb9f3a\"], [0.8888888888888888, \"#fdca26\"], [1.0, \"#f0f921\"]]}, \"colorway\": [\"#636efa\", \"#EF553B\", \"#00cc96\", \"#ab63fa\", \"#FFA15A\", \"#19d3f3\", \"#FF6692\", \"#B6E880\", \"#FF97FF\", \"#FECB52\"], \"font\": {\"color\": \"#2a3f5f\"}, \"geo\": {\"bgcolor\": \"white\", \"lakecolor\": \"white\", \"landcolor\": \"#E5ECF6\", \"showlakes\": true, \"showland\": true, \"subunitcolor\": \"white\"}, \"hoverlabel\": {\"align\": \"left\"}, \"hovermode\": \"closest\", \"mapbox\": {\"style\": \"light\"}, \"paper_bgcolor\": \"white\", \"plot_bgcolor\": \"#E5ECF6\", \"polar\": {\"angularaxis\": {\"gridcolor\": \"white\", \"linecolor\": \"white\", \"ticks\": \"\"}, \"bgcolor\": \"#E5ECF6\", \"radialaxis\": {\"gridcolor\": \"white\", \"linecolor\": \"white\", \"ticks\": \"\"}}, \"scene\": {\"xaxis\": {\"backgroundcolor\": \"#E5ECF6\", \"gridcolor\": \"white\", \"gridwidth\": 2, \"linecolor\": \"white\", \"showbackground\": true, \"ticks\": \"\", \"zerolinecolor\": \"white\"}, \"yaxis\": {\"backgroundcolor\": \"#E5ECF6\", \"gridcolor\": \"white\", \"gridwidth\": 2, \"linecolor\": \"white\", \"showbackground\": true, \"ticks\": \"\", \"zerolinecolor\": \"white\"}, \"zaxis\": {\"backgroundcolor\": \"#E5ECF6\", \"gridcolor\": \"white\", \"gridwidth\": 2, \"linecolor\": \"white\", \"showbackground\": true, \"ticks\": \"\", \"zerolinecolor\": \"white\"}}, \"shapedefaults\": {\"line\": {\"color\": \"#2a3f5f\"}}, \"ternary\": {\"aaxis\": {\"gridcolor\": \"white\", \"linecolor\": \"white\", \"ticks\": \"\"}, \"baxis\": {\"gridcolor\": \"white\", \"linecolor\": \"white\", \"ticks\": \"\"}, \"bgcolor\": \"#E5ECF6\", \"caxis\": {\"gridcolor\": \"white\", \"linecolor\": \"white\", \"ticks\": \"\"}}, \"title\": {\"x\": 0.05}, \"xaxis\": {\"automargin\": true, \"gridcolor\": \"white\", \"linecolor\": \"white\", \"ticks\": \"\", \"title\": {\"standoff\": 15}, \"zerolinecolor\": \"white\", \"zerolinewidth\": 2}, \"yaxis\": {\"automargin\": true, \"gridcolor\": \"white\", \"linecolor\": \"white\", \"ticks\": \"\", \"title\": {\"standoff\": 15}, \"zerolinecolor\": \"white\", \"zerolinewidth\": 2}}}, \"title\": {\"text\": \"Jet's used by the airlines producing the least CO2. Colors indicate CO2 per seat\"}, \"xaxis\": {\"anchor\": \"y\", \"domain\": [0.0, 1.0], \"title\": {\"text\": \"Model\"}}, \"yaxis\": {\"anchor\": \"x\", \"domain\": [0.0, 1.0], \"title\": {\"text\": \"Number of aircrafts\"}}},\n",
       "                        {\"responsive\": true}\n",
       "                    ).then(function(){\n",
       "                            \n",
       "var gd = document.getElementById('ac8bfdb8-766b-4b78-8ef5-a6d75690164e');\n",
       "var x = new MutationObserver(function (mutations, observer) {{\n",
       "        var display = window.getComputedStyle(gd).display;\n",
       "        if (!display || display === 'none') {{\n",
       "            console.log([gd, 'removed!']);\n",
       "            Plotly.purge(gd);\n",
       "            observer.disconnect();\n",
       "        }}\n",
       "}});\n",
       "\n",
       "// Listen for the removal of the full notebook cells\n",
       "var notebookContainer = gd.closest('#notebook-container');\n",
       "if (notebookContainer) {{\n",
       "    x.observe(notebookContainer, {childList: true});\n",
       "}}\n",
       "\n",
       "// Listen for the clearing of the current output cell\n",
       "var outputEl = gd.closest('.output');\n",
       "if (outputEl) {{\n",
       "    x.observe(outputEl, {childList: true});\n",
       "}}\n",
       "\n",
       "                        })\n",
       "                };\n",
       "                });\n",
       "            </script>\n",
       "        </div>"
      ]
     },
     "metadata": {},
     "output_type": "display_data"
    }
   ],
   "source": [
    "px.bar(data_frame=aircrafts_used_by_small_polluters.sort_values(\"CO2 per seat kg/100km\").reset_index(),\n",
    "             x = \"Model\",\n",
    "             y = \"Number of aircrafts\",\n",
    "             hover_name=\"Model\",\n",
    "             hover_data=[\"First flight\"],\n",
    "             color= \"CO2 per seat kg/100km\",\n",
    "             color_discrete_sequence=np.repeat(px.colors.sequential.Inferno, 2),\n",
    "             title=\"Jet's used by the airlines producing the least CO2. Colors indicate CO2 per seat\",\n",
    "            )"
   ]
  },
  {
   "cell_type": "markdown",
   "metadata": {},
   "source": [
    "We can see that more recent aircrafts pollute less. The Neo and Max family at Airbus and Boeing respectevely are the newest kind of aircrafts that are being produced."
   ]
  },
  {
   "cell_type": "code",
   "execution_count": 113,
   "metadata": {},
   "outputs": [
    {
     "data": {
      "application/vnd.plotly.v1+json": {
       "config": {
        "plotlyServerURL": "https://plot.ly"
       },
       "data": [
        {
         "alignmentgroup": "True",
         "boxpoints": "all",
         "customdata": [
          [
           4.38212,
           5.60765898
          ],
          [
           9.04198,
           6.538574700000001
          ],
          [
           9.04198,
           6.538574700000001
          ],
          [
           9.31972,
           5.5854943200000005
          ],
          [
           8.60994,
           4.9870485
          ],
          [
           11.14046,
           5.541165
          ],
          [
           10.1838,
           4.85406054
          ],
          [
           18.516,
           6.501633600000001
          ],
          [
           20.2133,
           5.762811600000001
          ],
          [
           8.856819999999999,
           4.7654019000000005
          ],
          [
           9.38144,
           5.046154260000001
          ],
          [
           10.77014,
           7.668972360000001
          ],
          [
           10.502686666666666,
           5.82930558
          ],
          [
           21.077379999999998,
           6.206104799999999
          ],
          [
           18.847744999999996,
           5.679694125000001
          ]
         ],
         "hoverlabel": {
          "namelength": 0
         },
         "hovertemplate": "<b>%{hovertext}</b><br><br>CO2 per seat kg/100km=%{customdata[1]}<br>Sector km=%{y}<br>CO2 kg/km=%{customdata[0]}",
         "hovertext": [
          "ATR 72",
          "Airbus A318-100",
          "Airbus A319-100",
          "Airbus A320-200",
          "Airbus A320neo",
          "Airbus A321-200",
          "Airbus A321neo",
          "Airbus A330-200",
          "Airbus A350-900",
          "Boeing 737 MAX 8",
          "Boeing 737 MAX 9",
          "Boeing 737-300",
          "Boeing 737-800",
          "Boeing 777-200",
          "Boeing 787-9 Dreamliner"
         ],
         "legendgroup": "",
         "marker": {
          "color": "#636efa"
         },
         "name": "",
         "notched": false,
         "offsetgroup": "",
         "orientation": "v",
         "showlegend": false,
         "type": "box",
         "x": [
          5.60765898,
          6.538574700000001,
          6.538574700000001,
          5.5854943200000005,
          4.9870485,
          5.541165,
          4.85406054,
          6.501633600000001,
          5.762811600000001,
          4.7654019000000005,
          5.046154260000001,
          7.668972360000001,
          5.82930558,
          6.206104799999999,
          5.679694125000001
         ],
         "x0": " ",
         "xaxis": "x",
         "y": [
          560,
          1900,
          1900,
          2942,
          1220,
          1900,
          1220,
          6166.666666666667,
          10662,
          3140,
          3140,
          939,
          1576.6666666666667,
          5600,
          9033.5
         ],
         "y0": " ",
         "yaxis": "y"
        }
       ],
       "layout": {
        "boxmode": "group",
        "height": 600,
        "legend": {
         "tracegroupgap": 0
        },
        "template": {
         "data": {
          "bar": [
           {
            "error_x": {
             "color": "#2a3f5f"
            },
            "error_y": {
             "color": "#2a3f5f"
            },
            "marker": {
             "line": {
              "color": "#E5ECF6",
              "width": 0.5
             }
            },
            "type": "bar"
           }
          ],
          "barpolar": [
           {
            "marker": {
             "line": {
              "color": "#E5ECF6",
              "width": 0.5
             }
            },
            "type": "barpolar"
           }
          ],
          "carpet": [
           {
            "aaxis": {
             "endlinecolor": "#2a3f5f",
             "gridcolor": "white",
             "linecolor": "white",
             "minorgridcolor": "white",
             "startlinecolor": "#2a3f5f"
            },
            "baxis": {
             "endlinecolor": "#2a3f5f",
             "gridcolor": "white",
             "linecolor": "white",
             "minorgridcolor": "white",
             "startlinecolor": "#2a3f5f"
            },
            "type": "carpet"
           }
          ],
          "choropleth": [
           {
            "colorbar": {
             "outlinewidth": 0,
             "ticks": ""
            },
            "type": "choropleth"
           }
          ],
          "contour": [
           {
            "colorbar": {
             "outlinewidth": 0,
             "ticks": ""
            },
            "colorscale": [
             [
              0,
              "#0d0887"
             ],
             [
              0.1111111111111111,
              "#46039f"
             ],
             [
              0.2222222222222222,
              "#7201a8"
             ],
             [
              0.3333333333333333,
              "#9c179e"
             ],
             [
              0.4444444444444444,
              "#bd3786"
             ],
             [
              0.5555555555555556,
              "#d8576b"
             ],
             [
              0.6666666666666666,
              "#ed7953"
             ],
             [
              0.7777777777777778,
              "#fb9f3a"
             ],
             [
              0.8888888888888888,
              "#fdca26"
             ],
             [
              1,
              "#f0f921"
             ]
            ],
            "type": "contour"
           }
          ],
          "contourcarpet": [
           {
            "colorbar": {
             "outlinewidth": 0,
             "ticks": ""
            },
            "type": "contourcarpet"
           }
          ],
          "heatmap": [
           {
            "colorbar": {
             "outlinewidth": 0,
             "ticks": ""
            },
            "colorscale": [
             [
              0,
              "#0d0887"
             ],
             [
              0.1111111111111111,
              "#46039f"
             ],
             [
              0.2222222222222222,
              "#7201a8"
             ],
             [
              0.3333333333333333,
              "#9c179e"
             ],
             [
              0.4444444444444444,
              "#bd3786"
             ],
             [
              0.5555555555555556,
              "#d8576b"
             ],
             [
              0.6666666666666666,
              "#ed7953"
             ],
             [
              0.7777777777777778,
              "#fb9f3a"
             ],
             [
              0.8888888888888888,
              "#fdca26"
             ],
             [
              1,
              "#f0f921"
             ]
            ],
            "type": "heatmap"
           }
          ],
          "heatmapgl": [
           {
            "colorbar": {
             "outlinewidth": 0,
             "ticks": ""
            },
            "colorscale": [
             [
              0,
              "#0d0887"
             ],
             [
              0.1111111111111111,
              "#46039f"
             ],
             [
              0.2222222222222222,
              "#7201a8"
             ],
             [
              0.3333333333333333,
              "#9c179e"
             ],
             [
              0.4444444444444444,
              "#bd3786"
             ],
             [
              0.5555555555555556,
              "#d8576b"
             ],
             [
              0.6666666666666666,
              "#ed7953"
             ],
             [
              0.7777777777777778,
              "#fb9f3a"
             ],
             [
              0.8888888888888888,
              "#fdca26"
             ],
             [
              1,
              "#f0f921"
             ]
            ],
            "type": "heatmapgl"
           }
          ],
          "histogram": [
           {
            "marker": {
             "colorbar": {
              "outlinewidth": 0,
              "ticks": ""
             }
            },
            "type": "histogram"
           }
          ],
          "histogram2d": [
           {
            "colorbar": {
             "outlinewidth": 0,
             "ticks": ""
            },
            "colorscale": [
             [
              0,
              "#0d0887"
             ],
             [
              0.1111111111111111,
              "#46039f"
             ],
             [
              0.2222222222222222,
              "#7201a8"
             ],
             [
              0.3333333333333333,
              "#9c179e"
             ],
             [
              0.4444444444444444,
              "#bd3786"
             ],
             [
              0.5555555555555556,
              "#d8576b"
             ],
             [
              0.6666666666666666,
              "#ed7953"
             ],
             [
              0.7777777777777778,
              "#fb9f3a"
             ],
             [
              0.8888888888888888,
              "#fdca26"
             ],
             [
              1,
              "#f0f921"
             ]
            ],
            "type": "histogram2d"
           }
          ],
          "histogram2dcontour": [
           {
            "colorbar": {
             "outlinewidth": 0,
             "ticks": ""
            },
            "colorscale": [
             [
              0,
              "#0d0887"
             ],
             [
              0.1111111111111111,
              "#46039f"
             ],
             [
              0.2222222222222222,
              "#7201a8"
             ],
             [
              0.3333333333333333,
              "#9c179e"
             ],
             [
              0.4444444444444444,
              "#bd3786"
             ],
             [
              0.5555555555555556,
              "#d8576b"
             ],
             [
              0.6666666666666666,
              "#ed7953"
             ],
             [
              0.7777777777777778,
              "#fb9f3a"
             ],
             [
              0.8888888888888888,
              "#fdca26"
             ],
             [
              1,
              "#f0f921"
             ]
            ],
            "type": "histogram2dcontour"
           }
          ],
          "mesh3d": [
           {
            "colorbar": {
             "outlinewidth": 0,
             "ticks": ""
            },
            "type": "mesh3d"
           }
          ],
          "parcoords": [
           {
            "line": {
             "colorbar": {
              "outlinewidth": 0,
              "ticks": ""
             }
            },
            "type": "parcoords"
           }
          ],
          "pie": [
           {
            "automargin": true,
            "type": "pie"
           }
          ],
          "scatter": [
           {
            "marker": {
             "colorbar": {
              "outlinewidth": 0,
              "ticks": ""
             }
            },
            "type": "scatter"
           }
          ],
          "scatter3d": [
           {
            "line": {
             "colorbar": {
              "outlinewidth": 0,
              "ticks": ""
             }
            },
            "marker": {
             "colorbar": {
              "outlinewidth": 0,
              "ticks": ""
             }
            },
            "type": "scatter3d"
           }
          ],
          "scattercarpet": [
           {
            "marker": {
             "colorbar": {
              "outlinewidth": 0,
              "ticks": ""
             }
            },
            "type": "scattercarpet"
           }
          ],
          "scattergeo": [
           {
            "marker": {
             "colorbar": {
              "outlinewidth": 0,
              "ticks": ""
             }
            },
            "type": "scattergeo"
           }
          ],
          "scattergl": [
           {
            "marker": {
             "colorbar": {
              "outlinewidth": 0,
              "ticks": ""
             }
            },
            "type": "scattergl"
           }
          ],
          "scattermapbox": [
           {
            "marker": {
             "colorbar": {
              "outlinewidth": 0,
              "ticks": ""
             }
            },
            "type": "scattermapbox"
           }
          ],
          "scatterpolar": [
           {
            "marker": {
             "colorbar": {
              "outlinewidth": 0,
              "ticks": ""
             }
            },
            "type": "scatterpolar"
           }
          ],
          "scatterpolargl": [
           {
            "marker": {
             "colorbar": {
              "outlinewidth": 0,
              "ticks": ""
             }
            },
            "type": "scatterpolargl"
           }
          ],
          "scatterternary": [
           {
            "marker": {
             "colorbar": {
              "outlinewidth": 0,
              "ticks": ""
             }
            },
            "type": "scatterternary"
           }
          ],
          "surface": [
           {
            "colorbar": {
             "outlinewidth": 0,
             "ticks": ""
            },
            "colorscale": [
             [
              0,
              "#0d0887"
             ],
             [
              0.1111111111111111,
              "#46039f"
             ],
             [
              0.2222222222222222,
              "#7201a8"
             ],
             [
              0.3333333333333333,
              "#9c179e"
             ],
             [
              0.4444444444444444,
              "#bd3786"
             ],
             [
              0.5555555555555556,
              "#d8576b"
             ],
             [
              0.6666666666666666,
              "#ed7953"
             ],
             [
              0.7777777777777778,
              "#fb9f3a"
             ],
             [
              0.8888888888888888,
              "#fdca26"
             ],
             [
              1,
              "#f0f921"
             ]
            ],
            "type": "surface"
           }
          ],
          "table": [
           {
            "cells": {
             "fill": {
              "color": "#EBF0F8"
             },
             "line": {
              "color": "white"
             }
            },
            "header": {
             "fill": {
              "color": "#C8D4E3"
             },
             "line": {
              "color": "white"
             }
            },
            "type": "table"
           }
          ]
         },
         "layout": {
          "annotationdefaults": {
           "arrowcolor": "#2a3f5f",
           "arrowhead": 0,
           "arrowwidth": 1
          },
          "coloraxis": {
           "colorbar": {
            "outlinewidth": 0,
            "ticks": ""
           }
          },
          "colorscale": {
           "diverging": [
            [
             0,
             "#8e0152"
            ],
            [
             0.1,
             "#c51b7d"
            ],
            [
             0.2,
             "#de77ae"
            ],
            [
             0.3,
             "#f1b6da"
            ],
            [
             0.4,
             "#fde0ef"
            ],
            [
             0.5,
             "#f7f7f7"
            ],
            [
             0.6,
             "#e6f5d0"
            ],
            [
             0.7,
             "#b8e186"
            ],
            [
             0.8,
             "#7fbc41"
            ],
            [
             0.9,
             "#4d9221"
            ],
            [
             1,
             "#276419"
            ]
           ],
           "sequential": [
            [
             0,
             "#0d0887"
            ],
            [
             0.1111111111111111,
             "#46039f"
            ],
            [
             0.2222222222222222,
             "#7201a8"
            ],
            [
             0.3333333333333333,
             "#9c179e"
            ],
            [
             0.4444444444444444,
             "#bd3786"
            ],
            [
             0.5555555555555556,
             "#d8576b"
            ],
            [
             0.6666666666666666,
             "#ed7953"
            ],
            [
             0.7777777777777778,
             "#fb9f3a"
            ],
            [
             0.8888888888888888,
             "#fdca26"
            ],
            [
             1,
             "#f0f921"
            ]
           ],
           "sequentialminus": [
            [
             0,
             "#0d0887"
            ],
            [
             0.1111111111111111,
             "#46039f"
            ],
            [
             0.2222222222222222,
             "#7201a8"
            ],
            [
             0.3333333333333333,
             "#9c179e"
            ],
            [
             0.4444444444444444,
             "#bd3786"
            ],
            [
             0.5555555555555556,
             "#d8576b"
            ],
            [
             0.6666666666666666,
             "#ed7953"
            ],
            [
             0.7777777777777778,
             "#fb9f3a"
            ],
            [
             0.8888888888888888,
             "#fdca26"
            ],
            [
             1,
             "#f0f921"
            ]
           ]
          },
          "colorway": [
           "#636efa",
           "#EF553B",
           "#00cc96",
           "#ab63fa",
           "#FFA15A",
           "#19d3f3",
           "#FF6692",
           "#B6E880",
           "#FF97FF",
           "#FECB52"
          ],
          "font": {
           "color": "#2a3f5f"
          },
          "geo": {
           "bgcolor": "white",
           "lakecolor": "white",
           "landcolor": "#E5ECF6",
           "showlakes": true,
           "showland": true,
           "subunitcolor": "white"
          },
          "hoverlabel": {
           "align": "left"
          },
          "hovermode": "closest",
          "mapbox": {
           "style": "light"
          },
          "paper_bgcolor": "white",
          "plot_bgcolor": "#E5ECF6",
          "polar": {
           "angularaxis": {
            "gridcolor": "white",
            "linecolor": "white",
            "ticks": ""
           },
           "bgcolor": "#E5ECF6",
           "radialaxis": {
            "gridcolor": "white",
            "linecolor": "white",
            "ticks": ""
           }
          },
          "scene": {
           "xaxis": {
            "backgroundcolor": "#E5ECF6",
            "gridcolor": "white",
            "gridwidth": 2,
            "linecolor": "white",
            "showbackground": true,
            "ticks": "",
            "zerolinecolor": "white"
           },
           "yaxis": {
            "backgroundcolor": "#E5ECF6",
            "gridcolor": "white",
            "gridwidth": 2,
            "linecolor": "white",
            "showbackground": true,
            "ticks": "",
            "zerolinecolor": "white"
           },
           "zaxis": {
            "backgroundcolor": "#E5ECF6",
            "gridcolor": "white",
            "gridwidth": 2,
            "linecolor": "white",
            "showbackground": true,
            "ticks": "",
            "zerolinecolor": "white"
           }
          },
          "shapedefaults": {
           "line": {
            "color": "#2a3f5f"
           }
          },
          "ternary": {
           "aaxis": {
            "gridcolor": "white",
            "linecolor": "white",
            "ticks": ""
           },
           "baxis": {
            "gridcolor": "white",
            "linecolor": "white",
            "ticks": ""
           },
           "bgcolor": "#E5ECF6",
           "caxis": {
            "gridcolor": "white",
            "linecolor": "white",
            "ticks": ""
           }
          },
          "title": {
           "x": 0.05
          },
          "xaxis": {
           "automargin": true,
           "gridcolor": "white",
           "linecolor": "white",
           "ticks": "",
           "title": {
            "standoff": 15
           },
           "zerolinecolor": "white",
           "zerolinewidth": 2
          },
          "yaxis": {
           "automargin": true,
           "gridcolor": "white",
           "linecolor": "white",
           "ticks": "",
           "title": {
            "standoff": 15
           },
           "zerolinecolor": "white",
           "zerolinewidth": 2
          }
         }
        },
        "title": {
         "text": "Distance that the aircraft used by the least polluting airlines can fly vs CO2 per seat kg/100km"
        },
        "xaxis": {
         "anchor": "y",
         "domain": [
          0,
          1
         ],
         "title": {
          "text": "CO2 per seat kg/100km"
         }
        },
        "yaxis": {
         "anchor": "x",
         "domain": [
          0,
          1
         ],
         "title": {
          "text": "Sector km"
         }
        }
       }
      },
      "text/html": [
       "<div>\n",
       "        \n",
       "        \n",
       "            <div id=\"e40a8e3f-affc-4955-89d3-93c78282ea4e\" class=\"plotly-graph-div\" style=\"height:600px; width:100%;\"></div>\n",
       "            <script type=\"text/javascript\">\n",
       "                require([\"plotly\"], function(Plotly) {\n",
       "                    window.PLOTLYENV=window.PLOTLYENV || {};\n",
       "                    \n",
       "                if (document.getElementById(\"e40a8e3f-affc-4955-89d3-93c78282ea4e\")) {\n",
       "                    Plotly.newPlot(\n",
       "                        'e40a8e3f-affc-4955-89d3-93c78282ea4e',\n",
       "                        [{\"alignmentgroup\": \"True\", \"boxpoints\": \"all\", \"customdata\": [[4.38212, 5.60765898], [9.04198, 6.538574700000001], [9.04198, 6.538574700000001], [9.31972, 5.5854943200000005], [8.60994, 4.9870485], [11.14046, 5.541165], [10.1838, 4.85406054], [18.516, 6.501633600000001], [20.2133, 5.762811600000001], [8.856819999999999, 4.7654019000000005], [9.38144, 5.046154260000001], [10.77014, 7.668972360000001], [10.502686666666666, 5.82930558], [21.077379999999998, 6.206104799999999], [18.847744999999996, 5.679694125000001]], \"hoverlabel\": {\"namelength\": 0}, \"hovertemplate\": \"<b>%{hovertext}</b><br><br>CO2 per seat kg/100km=%{customdata[1]}<br>Sector km=%{y}<br>CO2 kg/km=%{customdata[0]}\", \"hovertext\": [\"ATR 72\", \"Airbus A318-100\", \"Airbus A319-100\", \"Airbus A320-200\", \"Airbus A320neo\", \"Airbus A321-200\", \"Airbus A321neo\", \"Airbus A330-200\", \"Airbus A350-900\", \"Boeing 737 MAX 8\", \"Boeing 737 MAX 9\", \"Boeing 737-300\", \"Boeing 737-800\", \"Boeing 777-200\", \"Boeing 787-9 Dreamliner\"], \"legendgroup\": \"\", \"marker\": {\"color\": \"#636efa\"}, \"name\": \"\", \"notched\": false, \"offsetgroup\": \"\", \"orientation\": \"v\", \"showlegend\": false, \"type\": \"box\", \"x\": [5.60765898, 6.538574700000001, 6.538574700000001, 5.5854943200000005, 4.9870485, 5.541165, 4.85406054, 6.501633600000001, 5.762811600000001, 4.7654019000000005, 5.046154260000001, 7.668972360000001, 5.82930558, 6.206104799999999, 5.679694125000001], \"x0\": \" \", \"xaxis\": \"x\", \"y\": [560.0, 1900.0, 1900.0, 2942.0, 1220.0, 1900.0, 1220.0, 6166.666666666667, 10662.0, 3140.0, 3140.0, 939.0, 1576.6666666666667, 5600.0, 9033.5], \"y0\": \" \", \"yaxis\": \"y\"}],\n",
       "                        {\"boxmode\": \"group\", \"height\": 600, \"legend\": {\"tracegroupgap\": 0}, \"template\": {\"data\": {\"bar\": [{\"error_x\": {\"color\": \"#2a3f5f\"}, \"error_y\": {\"color\": \"#2a3f5f\"}, \"marker\": {\"line\": {\"color\": \"#E5ECF6\", \"width\": 0.5}}, \"type\": \"bar\"}], \"barpolar\": [{\"marker\": {\"line\": {\"color\": \"#E5ECF6\", \"width\": 0.5}}, \"type\": \"barpolar\"}], \"carpet\": [{\"aaxis\": {\"endlinecolor\": \"#2a3f5f\", \"gridcolor\": \"white\", \"linecolor\": \"white\", \"minorgridcolor\": \"white\", \"startlinecolor\": \"#2a3f5f\"}, \"baxis\": {\"endlinecolor\": \"#2a3f5f\", \"gridcolor\": \"white\", \"linecolor\": \"white\", \"minorgridcolor\": \"white\", \"startlinecolor\": \"#2a3f5f\"}, \"type\": \"carpet\"}], \"choropleth\": [{\"colorbar\": {\"outlinewidth\": 0, \"ticks\": \"\"}, \"type\": \"choropleth\"}], \"contour\": [{\"colorbar\": {\"outlinewidth\": 0, \"ticks\": \"\"}, \"colorscale\": [[0.0, \"#0d0887\"], [0.1111111111111111, \"#46039f\"], [0.2222222222222222, \"#7201a8\"], [0.3333333333333333, \"#9c179e\"], [0.4444444444444444, \"#bd3786\"], [0.5555555555555556, \"#d8576b\"], [0.6666666666666666, \"#ed7953\"], [0.7777777777777778, \"#fb9f3a\"], [0.8888888888888888, \"#fdca26\"], [1.0, \"#f0f921\"]], \"type\": \"contour\"}], \"contourcarpet\": [{\"colorbar\": {\"outlinewidth\": 0, \"ticks\": \"\"}, \"type\": \"contourcarpet\"}], \"heatmap\": [{\"colorbar\": {\"outlinewidth\": 0, \"ticks\": \"\"}, \"colorscale\": [[0.0, \"#0d0887\"], [0.1111111111111111, \"#46039f\"], [0.2222222222222222, \"#7201a8\"], [0.3333333333333333, \"#9c179e\"], [0.4444444444444444, \"#bd3786\"], [0.5555555555555556, \"#d8576b\"], [0.6666666666666666, \"#ed7953\"], [0.7777777777777778, \"#fb9f3a\"], [0.8888888888888888, \"#fdca26\"], [1.0, \"#f0f921\"]], \"type\": \"heatmap\"}], \"heatmapgl\": [{\"colorbar\": {\"outlinewidth\": 0, \"ticks\": \"\"}, \"colorscale\": [[0.0, \"#0d0887\"], [0.1111111111111111, \"#46039f\"], [0.2222222222222222, \"#7201a8\"], [0.3333333333333333, \"#9c179e\"], [0.4444444444444444, \"#bd3786\"], [0.5555555555555556, \"#d8576b\"], [0.6666666666666666, \"#ed7953\"], [0.7777777777777778, \"#fb9f3a\"], [0.8888888888888888, \"#fdca26\"], [1.0, \"#f0f921\"]], \"type\": \"heatmapgl\"}], \"histogram\": [{\"marker\": {\"colorbar\": {\"outlinewidth\": 0, \"ticks\": \"\"}}, \"type\": \"histogram\"}], \"histogram2d\": [{\"colorbar\": {\"outlinewidth\": 0, \"ticks\": \"\"}, \"colorscale\": [[0.0, \"#0d0887\"], [0.1111111111111111, \"#46039f\"], [0.2222222222222222, \"#7201a8\"], [0.3333333333333333, \"#9c179e\"], [0.4444444444444444, \"#bd3786\"], [0.5555555555555556, \"#d8576b\"], [0.6666666666666666, \"#ed7953\"], [0.7777777777777778, \"#fb9f3a\"], [0.8888888888888888, \"#fdca26\"], [1.0, \"#f0f921\"]], \"type\": \"histogram2d\"}], \"histogram2dcontour\": [{\"colorbar\": {\"outlinewidth\": 0, \"ticks\": \"\"}, \"colorscale\": [[0.0, \"#0d0887\"], [0.1111111111111111, \"#46039f\"], [0.2222222222222222, \"#7201a8\"], [0.3333333333333333, \"#9c179e\"], [0.4444444444444444, \"#bd3786\"], [0.5555555555555556, \"#d8576b\"], [0.6666666666666666, \"#ed7953\"], [0.7777777777777778, \"#fb9f3a\"], [0.8888888888888888, \"#fdca26\"], [1.0, \"#f0f921\"]], \"type\": \"histogram2dcontour\"}], \"mesh3d\": [{\"colorbar\": {\"outlinewidth\": 0, \"ticks\": \"\"}, \"type\": \"mesh3d\"}], \"parcoords\": [{\"line\": {\"colorbar\": {\"outlinewidth\": 0, \"ticks\": \"\"}}, \"type\": \"parcoords\"}], \"pie\": [{\"automargin\": true, \"type\": \"pie\"}], \"scatter\": [{\"marker\": {\"colorbar\": {\"outlinewidth\": 0, \"ticks\": \"\"}}, \"type\": \"scatter\"}], \"scatter3d\": [{\"line\": {\"colorbar\": {\"outlinewidth\": 0, \"ticks\": \"\"}}, \"marker\": {\"colorbar\": {\"outlinewidth\": 0, \"ticks\": \"\"}}, \"type\": \"scatter3d\"}], \"scattercarpet\": [{\"marker\": {\"colorbar\": {\"outlinewidth\": 0, \"ticks\": \"\"}}, \"type\": \"scattercarpet\"}], \"scattergeo\": [{\"marker\": {\"colorbar\": {\"outlinewidth\": 0, \"ticks\": \"\"}}, \"type\": \"scattergeo\"}], \"scattergl\": [{\"marker\": {\"colorbar\": {\"outlinewidth\": 0, \"ticks\": \"\"}}, \"type\": \"scattergl\"}], \"scattermapbox\": [{\"marker\": {\"colorbar\": {\"outlinewidth\": 0, \"ticks\": \"\"}}, \"type\": \"scattermapbox\"}], \"scatterpolar\": [{\"marker\": {\"colorbar\": {\"outlinewidth\": 0, \"ticks\": \"\"}}, \"type\": \"scatterpolar\"}], \"scatterpolargl\": [{\"marker\": {\"colorbar\": {\"outlinewidth\": 0, \"ticks\": \"\"}}, \"type\": \"scatterpolargl\"}], \"scatterternary\": [{\"marker\": {\"colorbar\": {\"outlinewidth\": 0, \"ticks\": \"\"}}, \"type\": \"scatterternary\"}], \"surface\": [{\"colorbar\": {\"outlinewidth\": 0, \"ticks\": \"\"}, \"colorscale\": [[0.0, \"#0d0887\"], [0.1111111111111111, \"#46039f\"], [0.2222222222222222, \"#7201a8\"], [0.3333333333333333, \"#9c179e\"], [0.4444444444444444, \"#bd3786\"], [0.5555555555555556, \"#d8576b\"], [0.6666666666666666, \"#ed7953\"], [0.7777777777777778, \"#fb9f3a\"], [0.8888888888888888, \"#fdca26\"], [1.0, \"#f0f921\"]], \"type\": \"surface\"}], \"table\": [{\"cells\": {\"fill\": {\"color\": \"#EBF0F8\"}, \"line\": {\"color\": \"white\"}}, \"header\": {\"fill\": {\"color\": \"#C8D4E3\"}, \"line\": {\"color\": \"white\"}}, \"type\": \"table\"}]}, \"layout\": {\"annotationdefaults\": {\"arrowcolor\": \"#2a3f5f\", \"arrowhead\": 0, \"arrowwidth\": 1}, \"coloraxis\": {\"colorbar\": {\"outlinewidth\": 0, \"ticks\": \"\"}}, \"colorscale\": {\"diverging\": [[0, \"#8e0152\"], [0.1, \"#c51b7d\"], [0.2, \"#de77ae\"], [0.3, \"#f1b6da\"], [0.4, \"#fde0ef\"], [0.5, \"#f7f7f7\"], [0.6, \"#e6f5d0\"], [0.7, \"#b8e186\"], [0.8, \"#7fbc41\"], [0.9, \"#4d9221\"], [1, \"#276419\"]], \"sequential\": [[0.0, \"#0d0887\"], [0.1111111111111111, \"#46039f\"], [0.2222222222222222, \"#7201a8\"], [0.3333333333333333, \"#9c179e\"], [0.4444444444444444, \"#bd3786\"], [0.5555555555555556, \"#d8576b\"], [0.6666666666666666, \"#ed7953\"], [0.7777777777777778, \"#fb9f3a\"], [0.8888888888888888, \"#fdca26\"], [1.0, \"#f0f921\"]], \"sequentialminus\": [[0.0, \"#0d0887\"], [0.1111111111111111, \"#46039f\"], [0.2222222222222222, \"#7201a8\"], [0.3333333333333333, \"#9c179e\"], [0.4444444444444444, \"#bd3786\"], [0.5555555555555556, \"#d8576b\"], [0.6666666666666666, \"#ed7953\"], [0.7777777777777778, \"#fb9f3a\"], [0.8888888888888888, \"#fdca26\"], [1.0, \"#f0f921\"]]}, \"colorway\": [\"#636efa\", \"#EF553B\", \"#00cc96\", \"#ab63fa\", \"#FFA15A\", \"#19d3f3\", \"#FF6692\", \"#B6E880\", \"#FF97FF\", \"#FECB52\"], \"font\": {\"color\": \"#2a3f5f\"}, \"geo\": {\"bgcolor\": \"white\", \"lakecolor\": \"white\", \"landcolor\": \"#E5ECF6\", \"showlakes\": true, \"showland\": true, \"subunitcolor\": \"white\"}, \"hoverlabel\": {\"align\": \"left\"}, \"hovermode\": \"closest\", \"mapbox\": {\"style\": \"light\"}, \"paper_bgcolor\": \"white\", \"plot_bgcolor\": \"#E5ECF6\", \"polar\": {\"angularaxis\": {\"gridcolor\": \"white\", \"linecolor\": \"white\", \"ticks\": \"\"}, \"bgcolor\": \"#E5ECF6\", \"radialaxis\": {\"gridcolor\": \"white\", \"linecolor\": \"white\", \"ticks\": \"\"}}, \"scene\": {\"xaxis\": {\"backgroundcolor\": \"#E5ECF6\", \"gridcolor\": \"white\", \"gridwidth\": 2, \"linecolor\": \"white\", \"showbackground\": true, \"ticks\": \"\", \"zerolinecolor\": \"white\"}, \"yaxis\": {\"backgroundcolor\": \"#E5ECF6\", \"gridcolor\": \"white\", \"gridwidth\": 2, \"linecolor\": \"white\", \"showbackground\": true, \"ticks\": \"\", \"zerolinecolor\": \"white\"}, \"zaxis\": {\"backgroundcolor\": \"#E5ECF6\", \"gridcolor\": \"white\", \"gridwidth\": 2, \"linecolor\": \"white\", \"showbackground\": true, \"ticks\": \"\", \"zerolinecolor\": \"white\"}}, \"shapedefaults\": {\"line\": {\"color\": \"#2a3f5f\"}}, \"ternary\": {\"aaxis\": {\"gridcolor\": \"white\", \"linecolor\": \"white\", \"ticks\": \"\"}, \"baxis\": {\"gridcolor\": \"white\", \"linecolor\": \"white\", \"ticks\": \"\"}, \"bgcolor\": \"#E5ECF6\", \"caxis\": {\"gridcolor\": \"white\", \"linecolor\": \"white\", \"ticks\": \"\"}}, \"title\": {\"x\": 0.05}, \"xaxis\": {\"automargin\": true, \"gridcolor\": \"white\", \"linecolor\": \"white\", \"ticks\": \"\", \"title\": {\"standoff\": 15}, \"zerolinecolor\": \"white\", \"zerolinewidth\": 2}, \"yaxis\": {\"automargin\": true, \"gridcolor\": \"white\", \"linecolor\": \"white\", \"ticks\": \"\", \"title\": {\"standoff\": 15}, \"zerolinecolor\": \"white\", \"zerolinewidth\": 2}}}, \"title\": {\"text\": \"Distance that the aircraft used by the least polluting airlines can fly vs CO2 per seat kg/100km\"}, \"xaxis\": {\"anchor\": \"y\", \"domain\": [0.0, 1.0], \"title\": {\"text\": \"CO2 per seat kg/100km\"}}, \"yaxis\": {\"anchor\": \"x\", \"domain\": [0.0, 1.0], \"title\": {\"text\": \"Sector km\"}}},\n",
       "                        {\"responsive\": true}\n",
       "                    ).then(function(){\n",
       "                            \n",
       "var gd = document.getElementById('e40a8e3f-affc-4955-89d3-93c78282ea4e');\n",
       "var x = new MutationObserver(function (mutations, observer) {{\n",
       "        var display = window.getComputedStyle(gd).display;\n",
       "        if (!display || display === 'none') {{\n",
       "            console.log([gd, 'removed!']);\n",
       "            Plotly.purge(gd);\n",
       "            observer.disconnect();\n",
       "        }}\n",
       "}});\n",
       "\n",
       "// Listen for the removal of the full notebook cells\n",
       "var notebookContainer = gd.closest('#notebook-container');\n",
       "if (notebookContainer) {{\n",
       "    x.observe(notebookContainer, {childList: true});\n",
       "}}\n",
       "\n",
       "// Listen for the clearing of the current output cell\n",
       "var outputEl = gd.closest('.output');\n",
       "if (outputEl) {{\n",
       "    x.observe(outputEl, {childList: true});\n",
       "}}\n",
       "\n",
       "                        })\n",
       "                };\n",
       "                });\n",
       "            </script>\n",
       "        </div>"
      ]
     },
     "metadata": {},
     "output_type": "display_data"
    }
   ],
   "source": [
    "px.box(\n",
    "    aircrafts_used_by_small_polluters.reset_index(),\n",
    "    x=\"CO2 per seat kg/100km\",\n",
    "    y= \"Sector km\",\n",
    "    points=\"all\",\n",
    "    hover_data = [\"CO2 kg/km\", \"CO2 per seat kg/100km\"],\n",
    "    hover_name =\"Model\",\n",
    "    title = \"Distance that the aircraft used by the least polluting airlines can fly vs CO2 per seat kg/100km\")"
   ]
  },
  {
   "cell_type": "code",
   "execution_count": 114,
   "metadata": {
    "scrolled": true
   },
   "outputs": [],
   "source": [
    "aircrafts_used_by_small_polluters['Eco'] = \"True\""
   ]
  },
  {
   "cell_type": "code",
   "execution_count": 115,
   "metadata": {},
   "outputs": [
    {
     "data": {
      "text/html": [
       "<div>\n",
       "<style scoped>\n",
       "    .dataframe tbody tr th:only-of-type {\n",
       "        vertical-align: middle;\n",
       "    }\n",
       "\n",
       "    .dataframe tbody tr th {\n",
       "        vertical-align: top;\n",
       "    }\n",
       "\n",
       "    .dataframe thead th {\n",
       "        text-align: right;\n",
       "    }\n",
       "</style>\n",
       "<table border=\"1\" class=\"dataframe\">\n",
       "  <thead>\n",
       "    <tr style=\"text-align: right;\">\n",
       "      <th></th>\n",
       "      <th>Number of aircrafts</th>\n",
       "      <th>Seats</th>\n",
       "      <th>First flight</th>\n",
       "      <th>Fuel burn kg/km</th>\n",
       "      <th>Fuel per seat L/100km</th>\n",
       "      <th>Sector km</th>\n",
       "      <th>CO2 per seat kg/100km</th>\n",
       "      <th>CO2 kg/km</th>\n",
       "      <th>Eco</th>\n",
       "    </tr>\n",
       "    <tr>\n",
       "      <th>Model</th>\n",
       "      <th></th>\n",
       "      <th></th>\n",
       "      <th></th>\n",
       "      <th></th>\n",
       "      <th></th>\n",
       "      <th></th>\n",
       "      <th></th>\n",
       "      <th></th>\n",
       "      <th></th>\n",
       "    </tr>\n",
       "  </thead>\n",
       "  <tbody>\n",
       "    <tr>\n",
       "      <th>ATR 42</th>\n",
       "      <td>23</td>\n",
       "      <td>48.000000</td>\n",
       "      <td>1995.0</td>\n",
       "      <td>1.260000</td>\n",
       "      <td>3.150000</td>\n",
       "      <td>560.000000</td>\n",
       "      <td>6.981868</td>\n",
       "      <td>3.888360</td>\n",
       "      <td>False</td>\n",
       "    </tr>\n",
       "    <tr>\n",
       "      <th>ATR 72</th>\n",
       "      <td>7</td>\n",
       "      <td>70.000000</td>\n",
       "      <td>1997.0</td>\n",
       "      <td>1.420000</td>\n",
       "      <td>2.530000</td>\n",
       "      <td>560.000000</td>\n",
       "      <td>5.607659</td>\n",
       "      <td>4.382120</td>\n",
       "      <td>False</td>\n",
       "    </tr>\n",
       "    <tr>\n",
       "      <th>Airbus A319-100</th>\n",
       "      <td>3</td>\n",
       "      <td>124.000000</td>\n",
       "      <td>1995.0</td>\n",
       "      <td>2.930000</td>\n",
       "      <td>2.950000</td>\n",
       "      <td>1900.000000</td>\n",
       "      <td>6.538575</td>\n",
       "      <td>9.041980</td>\n",
       "      <td>False</td>\n",
       "    </tr>\n",
       "    <tr>\n",
       "      <th>Airbus A320-200</th>\n",
       "      <td>11</td>\n",
       "      <td>150.000000</td>\n",
       "      <td>1987.0</td>\n",
       "      <td>3.020000</td>\n",
       "      <td>2.520000</td>\n",
       "      <td>2942.000000</td>\n",
       "      <td>5.585494</td>\n",
       "      <td>9.319720</td>\n",
       "      <td>False</td>\n",
       "    </tr>\n",
       "    <tr>\n",
       "      <th>Bombardier CRJ-100</th>\n",
       "      <td>20</td>\n",
       "      <td>50.000000</td>\n",
       "      <td>1991.0</td>\n",
       "      <td>2.040000</td>\n",
       "      <td>5.090000</td>\n",
       "      <td>814.500000</td>\n",
       "      <td>11.281812</td>\n",
       "      <td>6.295440</td>\n",
       "      <td>False</td>\n",
       "    </tr>\n",
       "    <tr>\n",
       "      <th>Bombardier CRJ-1000</th>\n",
       "      <td>14</td>\n",
       "      <td>100.000000</td>\n",
       "      <td>2009.0</td>\n",
       "      <td>2.660000</td>\n",
       "      <td>3.330000</td>\n",
       "      <td>930.000000</td>\n",
       "      <td>7.380832</td>\n",
       "      <td>8.208760</td>\n",
       "      <td>False</td>\n",
       "    </tr>\n",
       "    <tr>\n",
       "      <th>Bombardier CRJ-200</th>\n",
       "      <td>475</td>\n",
       "      <td>50.000000</td>\n",
       "      <td>1995.0</td>\n",
       "      <td>1.990000</td>\n",
       "      <td>4.960000</td>\n",
       "      <td>815.000000</td>\n",
       "      <td>10.993671</td>\n",
       "      <td>6.141140</td>\n",
       "      <td>False</td>\n",
       "    </tr>\n",
       "    <tr>\n",
       "      <th>Bombardier CRJ-700</th>\n",
       "      <td>189</td>\n",
       "      <td>70.000000</td>\n",
       "      <td>1999.0</td>\n",
       "      <td>2.700000</td>\n",
       "      <td>4.805000</td>\n",
       "      <td>811.500000</td>\n",
       "      <td>10.650119</td>\n",
       "      <td>8.332200</td>\n",
       "      <td>False</td>\n",
       "    </tr>\n",
       "    <tr>\n",
       "      <th>Bombardier CRJ-900</th>\n",
       "      <td>268</td>\n",
       "      <td>88.000000</td>\n",
       "      <td>2001.0</td>\n",
       "      <td>3.125000</td>\n",
       "      <td>4.425000</td>\n",
       "      <td>810.500000</td>\n",
       "      <td>9.807862</td>\n",
       "      <td>9.643750</td>\n",
       "      <td>False</td>\n",
       "    </tr>\n",
       "    <tr>\n",
       "      <th>Dornier Do-328</th>\n",
       "      <td>5</td>\n",
       "      <td>31.500000</td>\n",
       "      <td>1991.0</td>\n",
       "      <td>1.150000</td>\n",
       "      <td>4.555000</td>\n",
       "      <td>830.000000</td>\n",
       "      <td>10.096003</td>\n",
       "      <td>3.548900</td>\n",
       "      <td>False</td>\n",
       "    </tr>\n",
       "    <tr>\n",
       "      <th>Embraer EMB-120 Brasilia</th>\n",
       "      <td>29</td>\n",
       "      <td>30.000000</td>\n",
       "      <td>1983.0</td>\n",
       "      <td>0.920000</td>\n",
       "      <td>3.820000</td>\n",
       "      <td>560.000000</td>\n",
       "      <td>8.466900</td>\n",
       "      <td>2.839120</td>\n",
       "      <td>False</td>\n",
       "    </tr>\n",
       "    <tr>\n",
       "      <th>Embraer ERJ-145</th>\n",
       "      <td>332</td>\n",
       "      <td>50.000000</td>\n",
       "      <td>1996.0</td>\n",
       "      <td>1.550000</td>\n",
       "      <td>3.860000</td>\n",
       "      <td>1107.000000</td>\n",
       "      <td>8.555559</td>\n",
       "      <td>4.783300</td>\n",
       "      <td>False</td>\n",
       "    </tr>\n",
       "    <tr>\n",
       "      <th>Embraer ERJ-170</th>\n",
       "      <td>93</td>\n",
       "      <td>80.000000</td>\n",
       "      <td>2002.0</td>\n",
       "      <td>2.600000</td>\n",
       "      <td>4.080000</td>\n",
       "      <td>1122.000000</td>\n",
       "      <td>9.043181</td>\n",
       "      <td>8.023600</td>\n",
       "      <td>False</td>\n",
       "    </tr>\n",
       "    <tr>\n",
       "      <th>Embraer ERJ-175</th>\n",
       "      <td>223</td>\n",
       "      <td>88.000000</td>\n",
       "      <td>2005.0</td>\n",
       "      <td>2.800000</td>\n",
       "      <td>3.970000</td>\n",
       "      <td>1120.000000</td>\n",
       "      <td>8.799370</td>\n",
       "      <td>8.640800</td>\n",
       "      <td>False</td>\n",
       "    </tr>\n",
       "    <tr>\n",
       "      <th>Embraer ERJ-190</th>\n",
       "      <td>119</td>\n",
       "      <td>114.000000</td>\n",
       "      <td>2004.0</td>\n",
       "      <td>3.240000</td>\n",
       "      <td>3.540000</td>\n",
       "      <td>1124.000000</td>\n",
       "      <td>7.846290</td>\n",
       "      <td>9.998640</td>\n",
       "      <td>False</td>\n",
       "    </tr>\n",
       "    <tr>\n",
       "      <th>Embraer ERJ-195</th>\n",
       "      <td>3</td>\n",
       "      <td>122.000000</td>\n",
       "      <td>2004.0</td>\n",
       "      <td>3.210000</td>\n",
       "      <td>3.280000</td>\n",
       "      <td>1124.000000</td>\n",
       "      <td>7.270008</td>\n",
       "      <td>9.906060</td>\n",
       "      <td>False</td>\n",
       "    </tr>\n",
       "    <tr>\n",
       "      <th>ATR 72</th>\n",
       "      <td>29</td>\n",
       "      <td>70.000000</td>\n",
       "      <td>1997.0</td>\n",
       "      <td>1.420000</td>\n",
       "      <td>2.530000</td>\n",
       "      <td>560.000000</td>\n",
       "      <td>5.607659</td>\n",
       "      <td>4.382120</td>\n",
       "      <td>True</td>\n",
       "    </tr>\n",
       "    <tr>\n",
       "      <th>Airbus A318-100</th>\n",
       "      <td>11</td>\n",
       "      <td>124.000000</td>\n",
       "      <td>1995.0</td>\n",
       "      <td>2.930000</td>\n",
       "      <td>2.950000</td>\n",
       "      <td>1900.000000</td>\n",
       "      <td>6.538575</td>\n",
       "      <td>9.041980</td>\n",
       "      <td>True</td>\n",
       "    </tr>\n",
       "    <tr>\n",
       "      <th>Airbus A319-100</th>\n",
       "      <td>24</td>\n",
       "      <td>124.000000</td>\n",
       "      <td>1995.0</td>\n",
       "      <td>2.930000</td>\n",
       "      <td>2.950000</td>\n",
       "      <td>1900.000000</td>\n",
       "      <td>6.538575</td>\n",
       "      <td>9.041980</td>\n",
       "      <td>True</td>\n",
       "    </tr>\n",
       "    <tr>\n",
       "      <th>Airbus A320-200</th>\n",
       "      <td>672</td>\n",
       "      <td>150.000000</td>\n",
       "      <td>1987.0</td>\n",
       "      <td>3.020000</td>\n",
       "      <td>2.520000</td>\n",
       "      <td>2942.000000</td>\n",
       "      <td>5.585494</td>\n",
       "      <td>9.319720</td>\n",
       "      <td>True</td>\n",
       "    </tr>\n",
       "    <tr>\n",
       "      <th>Airbus A320neo</th>\n",
       "      <td>343</td>\n",
       "      <td>154.000000</td>\n",
       "      <td>2015.0</td>\n",
       "      <td>2.790000</td>\n",
       "      <td>2.250000</td>\n",
       "      <td>1220.000000</td>\n",
       "      <td>4.987049</td>\n",
       "      <td>8.609940</td>\n",
       "      <td>True</td>\n",
       "    </tr>\n",
       "    <tr>\n",
       "      <th>Airbus A321-200</th>\n",
       "      <td>174</td>\n",
       "      <td>180.000000</td>\n",
       "      <td>1996.0</td>\n",
       "      <td>3.610000</td>\n",
       "      <td>2.500000</td>\n",
       "      <td>1900.000000</td>\n",
       "      <td>5.541165</td>\n",
       "      <td>11.140460</td>\n",
       "      <td>True</td>\n",
       "    </tr>\n",
       "    <tr>\n",
       "      <th>Airbus A321neo</th>\n",
       "      <td>82</td>\n",
       "      <td>192.000000</td>\n",
       "      <td>2015.0</td>\n",
       "      <td>3.300000</td>\n",
       "      <td>2.190000</td>\n",
       "      <td>1220.000000</td>\n",
       "      <td>4.854061</td>\n",
       "      <td>10.183800</td>\n",
       "      <td>True</td>\n",
       "    </tr>\n",
       "    <tr>\n",
       "      <th>Airbus A330-200</th>\n",
       "      <td>4</td>\n",
       "      <td>258.333333</td>\n",
       "      <td>1997.0</td>\n",
       "      <td>6.000000</td>\n",
       "      <td>2.933333</td>\n",
       "      <td>6166.666667</td>\n",
       "      <td>6.501634</td>\n",
       "      <td>18.516000</td>\n",
       "      <td>True</td>\n",
       "    </tr>\n",
       "    <tr>\n",
       "      <th>Airbus A350-900</th>\n",
       "      <td>14</td>\n",
       "      <td>315.000000</td>\n",
       "      <td>2013.0</td>\n",
       "      <td>6.550000</td>\n",
       "      <td>2.600000</td>\n",
       "      <td>10662.000000</td>\n",
       "      <td>5.762812</td>\n",
       "      <td>20.213300</td>\n",
       "      <td>True</td>\n",
       "    </tr>\n",
       "    <tr>\n",
       "      <th>Boeing 737 MAX 8</th>\n",
       "      <td>14</td>\n",
       "      <td>165.333333</td>\n",
       "      <td>2017.0</td>\n",
       "      <td>2.870000</td>\n",
       "      <td>2.150000</td>\n",
       "      <td>3140.000000</td>\n",
       "      <td>4.765402</td>\n",
       "      <td>8.856820</td>\n",
       "      <td>True</td>\n",
       "    </tr>\n",
       "    <tr>\n",
       "      <th>Boeing 737 MAX 9</th>\n",
       "      <td>3</td>\n",
       "      <td>168.000000</td>\n",
       "      <td>2017.0</td>\n",
       "      <td>3.040000</td>\n",
       "      <td>2.276667</td>\n",
       "      <td>3140.000000</td>\n",
       "      <td>5.046154</td>\n",
       "      <td>9.381440</td>\n",
       "      <td>True</td>\n",
       "    </tr>\n",
       "    <tr>\n",
       "      <th>Boeing 737-300</th>\n",
       "      <td>4</td>\n",
       "      <td>126.000000</td>\n",
       "      <td>1984.0</td>\n",
       "      <td>3.490000</td>\n",
       "      <td>3.460000</td>\n",
       "      <td>939.000000</td>\n",
       "      <td>7.668972</td>\n",
       "      <td>10.770140</td>\n",
       "      <td>True</td>\n",
       "    </tr>\n",
       "    <tr>\n",
       "      <th>Boeing 737-800</th>\n",
       "      <td>93</td>\n",
       "      <td>161.333333</td>\n",
       "      <td>1997.0</td>\n",
       "      <td>3.403333</td>\n",
       "      <td>2.630000</td>\n",
       "      <td>1576.666667</td>\n",
       "      <td>5.829306</td>\n",
       "      <td>10.502687</td>\n",
       "      <td>True</td>\n",
       "    </tr>\n",
       "    <tr>\n",
       "      <th>Boeing 777-200</th>\n",
       "      <td>4</td>\n",
       "      <td>305.000000</td>\n",
       "      <td>1994.0</td>\n",
       "      <td>6.830000</td>\n",
       "      <td>2.800000</td>\n",
       "      <td>5600.000000</td>\n",
       "      <td>6.206105</td>\n",
       "      <td>21.077380</td>\n",
       "      <td>True</td>\n",
       "    </tr>\n",
       "    <tr>\n",
       "      <th>Boeing 787-9 Dreamliner</th>\n",
       "      <td>14</td>\n",
       "      <td>298.250000</td>\n",
       "      <td>2013.0</td>\n",
       "      <td>6.107500</td>\n",
       "      <td>2.562500</td>\n",
       "      <td>9033.500000</td>\n",
       "      <td>5.679694</td>\n",
       "      <td>18.847745</td>\n",
       "      <td>True</td>\n",
       "    </tr>\n",
       "  </tbody>\n",
       "</table>\n",
       "</div>"
      ],
      "text/plain": [
       "                          Number of aircrafts       Seats  First flight  \\\n",
       "Model                                                                     \n",
       "ATR 42                                     23   48.000000        1995.0   \n",
       "ATR 72                                      7   70.000000        1997.0   \n",
       "Airbus A319-100                             3  124.000000        1995.0   \n",
       "Airbus A320-200                            11  150.000000        1987.0   \n",
       "Bombardier CRJ-100                         20   50.000000        1991.0   \n",
       "Bombardier CRJ-1000                        14  100.000000        2009.0   \n",
       "Bombardier CRJ-200                        475   50.000000        1995.0   \n",
       "Bombardier CRJ-700                        189   70.000000        1999.0   \n",
       "Bombardier CRJ-900                        268   88.000000        2001.0   \n",
       "Dornier Do-328                              5   31.500000        1991.0   \n",
       "Embraer EMB-120 Brasilia                   29   30.000000        1983.0   \n",
       "Embraer ERJ-145                           332   50.000000        1996.0   \n",
       "Embraer ERJ-170                            93   80.000000        2002.0   \n",
       "Embraer ERJ-175                           223   88.000000        2005.0   \n",
       "Embraer ERJ-190                           119  114.000000        2004.0   \n",
       "Embraer ERJ-195                             3  122.000000        2004.0   \n",
       "ATR 72                                     29   70.000000        1997.0   \n",
       "Airbus A318-100                            11  124.000000        1995.0   \n",
       "Airbus A319-100                            24  124.000000        1995.0   \n",
       "Airbus A320-200                           672  150.000000        1987.0   \n",
       "Airbus A320neo                            343  154.000000        2015.0   \n",
       "Airbus A321-200                           174  180.000000        1996.0   \n",
       "Airbus A321neo                             82  192.000000        2015.0   \n",
       "Airbus A330-200                             4  258.333333        1997.0   \n",
       "Airbus A350-900                            14  315.000000        2013.0   \n",
       "Boeing 737 MAX 8                           14  165.333333        2017.0   \n",
       "Boeing 737 MAX 9                            3  168.000000        2017.0   \n",
       "Boeing 737-300                              4  126.000000        1984.0   \n",
       "Boeing 737-800                             93  161.333333        1997.0   \n",
       "Boeing 777-200                              4  305.000000        1994.0   \n",
       "Boeing 787-9 Dreamliner                    14  298.250000        2013.0   \n",
       "\n",
       "                          Fuel burn kg/km  Fuel per seat L/100km  \\\n",
       "Model                                                              \n",
       "ATR 42                           1.260000               3.150000   \n",
       "ATR 72                           1.420000               2.530000   \n",
       "Airbus A319-100                  2.930000               2.950000   \n",
       "Airbus A320-200                  3.020000               2.520000   \n",
       "Bombardier CRJ-100               2.040000               5.090000   \n",
       "Bombardier CRJ-1000              2.660000               3.330000   \n",
       "Bombardier CRJ-200               1.990000               4.960000   \n",
       "Bombardier CRJ-700               2.700000               4.805000   \n",
       "Bombardier CRJ-900               3.125000               4.425000   \n",
       "Dornier Do-328                   1.150000               4.555000   \n",
       "Embraer EMB-120 Brasilia         0.920000               3.820000   \n",
       "Embraer ERJ-145                  1.550000               3.860000   \n",
       "Embraer ERJ-170                  2.600000               4.080000   \n",
       "Embraer ERJ-175                  2.800000               3.970000   \n",
       "Embraer ERJ-190                  3.240000               3.540000   \n",
       "Embraer ERJ-195                  3.210000               3.280000   \n",
       "ATR 72                           1.420000               2.530000   \n",
       "Airbus A318-100                  2.930000               2.950000   \n",
       "Airbus A319-100                  2.930000               2.950000   \n",
       "Airbus A320-200                  3.020000               2.520000   \n",
       "Airbus A320neo                   2.790000               2.250000   \n",
       "Airbus A321-200                  3.610000               2.500000   \n",
       "Airbus A321neo                   3.300000               2.190000   \n",
       "Airbus A330-200                  6.000000               2.933333   \n",
       "Airbus A350-900                  6.550000               2.600000   \n",
       "Boeing 737 MAX 8                 2.870000               2.150000   \n",
       "Boeing 737 MAX 9                 3.040000               2.276667   \n",
       "Boeing 737-300                   3.490000               3.460000   \n",
       "Boeing 737-800                   3.403333               2.630000   \n",
       "Boeing 777-200                   6.830000               2.800000   \n",
       "Boeing 787-9 Dreamliner          6.107500               2.562500   \n",
       "\n",
       "                             Sector km  CO2 per seat kg/100km  CO2 kg/km  \\\n",
       "Model                                                                      \n",
       "ATR 42                      560.000000               6.981868   3.888360   \n",
       "ATR 72                      560.000000               5.607659   4.382120   \n",
       "Airbus A319-100            1900.000000               6.538575   9.041980   \n",
       "Airbus A320-200            2942.000000               5.585494   9.319720   \n",
       "Bombardier CRJ-100          814.500000              11.281812   6.295440   \n",
       "Bombardier CRJ-1000         930.000000               7.380832   8.208760   \n",
       "Bombardier CRJ-200          815.000000              10.993671   6.141140   \n",
       "Bombardier CRJ-700          811.500000              10.650119   8.332200   \n",
       "Bombardier CRJ-900          810.500000               9.807862   9.643750   \n",
       "Dornier Do-328              830.000000              10.096003   3.548900   \n",
       "Embraer EMB-120 Brasilia    560.000000               8.466900   2.839120   \n",
       "Embraer ERJ-145            1107.000000               8.555559   4.783300   \n",
       "Embraer ERJ-170            1122.000000               9.043181   8.023600   \n",
       "Embraer ERJ-175            1120.000000               8.799370   8.640800   \n",
       "Embraer ERJ-190            1124.000000               7.846290   9.998640   \n",
       "Embraer ERJ-195            1124.000000               7.270008   9.906060   \n",
       "ATR 72                      560.000000               5.607659   4.382120   \n",
       "Airbus A318-100            1900.000000               6.538575   9.041980   \n",
       "Airbus A319-100            1900.000000               6.538575   9.041980   \n",
       "Airbus A320-200            2942.000000               5.585494   9.319720   \n",
       "Airbus A320neo             1220.000000               4.987049   8.609940   \n",
       "Airbus A321-200            1900.000000               5.541165  11.140460   \n",
       "Airbus A321neo             1220.000000               4.854061  10.183800   \n",
       "Airbus A330-200            6166.666667               6.501634  18.516000   \n",
       "Airbus A350-900           10662.000000               5.762812  20.213300   \n",
       "Boeing 737 MAX 8           3140.000000               4.765402   8.856820   \n",
       "Boeing 737 MAX 9           3140.000000               5.046154   9.381440   \n",
       "Boeing 737-300              939.000000               7.668972  10.770140   \n",
       "Boeing 737-800             1576.666667               5.829306  10.502687   \n",
       "Boeing 777-200             5600.000000               6.206105  21.077380   \n",
       "Boeing 787-9 Dreamliner    9033.500000               5.679694  18.847745   \n",
       "\n",
       "                            Eco  \n",
       "Model                            \n",
       "ATR 42                    False  \n",
       "ATR 72                    False  \n",
       "Airbus A319-100           False  \n",
       "Airbus A320-200           False  \n",
       "Bombardier CRJ-100        False  \n",
       "Bombardier CRJ-1000       False  \n",
       "Bombardier CRJ-200        False  \n",
       "Bombardier CRJ-700        False  \n",
       "Bombardier CRJ-900        False  \n",
       "Dornier Do-328            False  \n",
       "Embraer EMB-120 Brasilia  False  \n",
       "Embraer ERJ-145           False  \n",
       "Embraer ERJ-170           False  \n",
       "Embraer ERJ-175           False  \n",
       "Embraer ERJ-190           False  \n",
       "Embraer ERJ-195           False  \n",
       "ATR 72                     True  \n",
       "Airbus A318-100            True  \n",
       "Airbus A319-100            True  \n",
       "Airbus A320-200            True  \n",
       "Airbus A320neo             True  \n",
       "Airbus A321-200            True  \n",
       "Airbus A321neo             True  \n",
       "Airbus A330-200            True  \n",
       "Airbus A350-900            True  \n",
       "Boeing 737 MAX 8           True  \n",
       "Boeing 737 MAX 9           True  \n",
       "Boeing 737-300             True  \n",
       "Boeing 737-800             True  \n",
       "Boeing 777-200             True  \n",
       "Boeing 787-9 Dreamliner    True  "
      ]
     },
     "execution_count": 115,
     "metadata": {},
     "output_type": "execute_result"
    }
   ],
   "source": [
    "aircrafts_used_by_big_polluters[\"Eco\"] = \"False\"\n",
    "pd.concat([aircrafts_used_by_big_polluters, aircrafts_used_by_small_polluters])"
   ]
  },
  {
   "cell_type": "code",
   "execution_count": 116,
   "metadata": {},
   "outputs": [
    {
     "data": {
      "application/vnd.plotly.v1+json": {
       "config": {
        "plotlyServerURL": "https://plot.ly"
       },
       "data": [
        {
         "alignmentgroup": "True",
         "bingroup": "x",
         "histfunc": "sum",
         "hoverlabel": {
          "namelength": 0
         },
         "hovertemplate": "Eco=False<br>Sector km=%{x}<br>sum of Number of aircrafts=%{y}",
         "legendgroup": "Eco=False",
         "marker": {
          "color": "#636efa"
         },
         "name": "Eco=False",
         "nbinsx": 80,
         "offsetgroup": "Eco=False",
         "orientation": "v",
         "showlegend": true,
         "type": "histogram",
         "x": [
          560,
          560,
          1900,
          2942,
          814.5,
          930,
          815,
          811.5,
          810.5,
          830,
          560,
          1107,
          1122,
          1120,
          1124,
          1124
         ],
         "xaxis": "x",
         "y": [
          23,
          7,
          3,
          11,
          20,
          14,
          475,
          189,
          268,
          5,
          29,
          332,
          93,
          223,
          119,
          3
         ],
         "yaxis": "y"
        },
        {
         "alignmentgroup": "True",
         "boxpoints": "all",
         "fillcolor": "rgba(255,255,255,0)",
         "hoverlabel": {
          "namelength": 0
         },
         "hoveron": "points",
         "hovertemplate": "Eco=False<br>Sector km=%{x}",
         "jitter": 0,
         "legendgroup": "Eco=False",
         "line": {
          "color": "rgba(255,255,255,0)"
         },
         "marker": {
          "color": "#636efa",
          "symbol": "line-ns-open"
         },
         "name": "Eco=False",
         "offsetgroup": "Eco=False",
         "showlegend": false,
         "type": "box",
         "x": [
          560,
          560,
          1900,
          2942,
          814.5,
          930,
          815,
          811.5,
          810.5,
          830,
          560,
          1107,
          1122,
          1120,
          1124,
          1124
         ],
         "xaxis": "x2",
         "yaxis": "y2"
        },
        {
         "alignmentgroup": "True",
         "bingroup": "x",
         "histfunc": "sum",
         "hoverlabel": {
          "namelength": 0
         },
         "hovertemplate": "Eco=True<br>Sector km=%{x}<br>sum of Number of aircrafts=%{y}",
         "legendgroup": "Eco=True",
         "marker": {
          "color": "#EF553B"
         },
         "name": "Eco=True",
         "nbinsx": 80,
         "offsetgroup": "Eco=True",
         "orientation": "v",
         "showlegend": true,
         "type": "histogram",
         "x": [
          560,
          1900,
          1900,
          2942,
          1220,
          1900,
          1220,
          6166.666666666667,
          10662,
          3140,
          3140,
          939,
          1576.6666666666667,
          5600,
          9033.5
         ],
         "xaxis": "x",
         "y": [
          29,
          11,
          24,
          672,
          343,
          174,
          82,
          4,
          14,
          14,
          3,
          4,
          93,
          4,
          14
         ],
         "yaxis": "y"
        },
        {
         "alignmentgroup": "True",
         "boxpoints": "all",
         "fillcolor": "rgba(255,255,255,0)",
         "hoverlabel": {
          "namelength": 0
         },
         "hoveron": "points",
         "hovertemplate": "Eco=True<br>Sector km=%{x}",
         "jitter": 0,
         "legendgroup": "Eco=True",
         "line": {
          "color": "rgba(255,255,255,0)"
         },
         "marker": {
          "color": "#EF553B",
          "symbol": "line-ns-open"
         },
         "name": "Eco=True",
         "offsetgroup": "Eco=True",
         "showlegend": false,
         "type": "box",
         "x": [
          560,
          1900,
          1900,
          2942,
          1220,
          1900,
          1220,
          6166.666666666667,
          10662,
          3140,
          3140,
          939,
          1576.6666666666667,
          5600,
          9033.5
         ],
         "xaxis": "x2",
         "yaxis": "y2"
        }
       ],
       "layout": {
        "barmode": "relative",
        "height": 600,
        "legend": {
         "tracegroupgap": 0
        },
        "template": {
         "data": {
          "bar": [
           {
            "error_x": {
             "color": "#2a3f5f"
            },
            "error_y": {
             "color": "#2a3f5f"
            },
            "marker": {
             "line": {
              "color": "#E5ECF6",
              "width": 0.5
             }
            },
            "type": "bar"
           }
          ],
          "barpolar": [
           {
            "marker": {
             "line": {
              "color": "#E5ECF6",
              "width": 0.5
             }
            },
            "type": "barpolar"
           }
          ],
          "carpet": [
           {
            "aaxis": {
             "endlinecolor": "#2a3f5f",
             "gridcolor": "white",
             "linecolor": "white",
             "minorgridcolor": "white",
             "startlinecolor": "#2a3f5f"
            },
            "baxis": {
             "endlinecolor": "#2a3f5f",
             "gridcolor": "white",
             "linecolor": "white",
             "minorgridcolor": "white",
             "startlinecolor": "#2a3f5f"
            },
            "type": "carpet"
           }
          ],
          "choropleth": [
           {
            "colorbar": {
             "outlinewidth": 0,
             "ticks": ""
            },
            "type": "choropleth"
           }
          ],
          "contour": [
           {
            "colorbar": {
             "outlinewidth": 0,
             "ticks": ""
            },
            "colorscale": [
             [
              0,
              "#0d0887"
             ],
             [
              0.1111111111111111,
              "#46039f"
             ],
             [
              0.2222222222222222,
              "#7201a8"
             ],
             [
              0.3333333333333333,
              "#9c179e"
             ],
             [
              0.4444444444444444,
              "#bd3786"
             ],
             [
              0.5555555555555556,
              "#d8576b"
             ],
             [
              0.6666666666666666,
              "#ed7953"
             ],
             [
              0.7777777777777778,
              "#fb9f3a"
             ],
             [
              0.8888888888888888,
              "#fdca26"
             ],
             [
              1,
              "#f0f921"
             ]
            ],
            "type": "contour"
           }
          ],
          "contourcarpet": [
           {
            "colorbar": {
             "outlinewidth": 0,
             "ticks": ""
            },
            "type": "contourcarpet"
           }
          ],
          "heatmap": [
           {
            "colorbar": {
             "outlinewidth": 0,
             "ticks": ""
            },
            "colorscale": [
             [
              0,
              "#0d0887"
             ],
             [
              0.1111111111111111,
              "#46039f"
             ],
             [
              0.2222222222222222,
              "#7201a8"
             ],
             [
              0.3333333333333333,
              "#9c179e"
             ],
             [
              0.4444444444444444,
              "#bd3786"
             ],
             [
              0.5555555555555556,
              "#d8576b"
             ],
             [
              0.6666666666666666,
              "#ed7953"
             ],
             [
              0.7777777777777778,
              "#fb9f3a"
             ],
             [
              0.8888888888888888,
              "#fdca26"
             ],
             [
              1,
              "#f0f921"
             ]
            ],
            "type": "heatmap"
           }
          ],
          "heatmapgl": [
           {
            "colorbar": {
             "outlinewidth": 0,
             "ticks": ""
            },
            "colorscale": [
             [
              0,
              "#0d0887"
             ],
             [
              0.1111111111111111,
              "#46039f"
             ],
             [
              0.2222222222222222,
              "#7201a8"
             ],
             [
              0.3333333333333333,
              "#9c179e"
             ],
             [
              0.4444444444444444,
              "#bd3786"
             ],
             [
              0.5555555555555556,
              "#d8576b"
             ],
             [
              0.6666666666666666,
              "#ed7953"
             ],
             [
              0.7777777777777778,
              "#fb9f3a"
             ],
             [
              0.8888888888888888,
              "#fdca26"
             ],
             [
              1,
              "#f0f921"
             ]
            ],
            "type": "heatmapgl"
           }
          ],
          "histogram": [
           {
            "marker": {
             "colorbar": {
              "outlinewidth": 0,
              "ticks": ""
             }
            },
            "type": "histogram"
           }
          ],
          "histogram2d": [
           {
            "colorbar": {
             "outlinewidth": 0,
             "ticks": ""
            },
            "colorscale": [
             [
              0,
              "#0d0887"
             ],
             [
              0.1111111111111111,
              "#46039f"
             ],
             [
              0.2222222222222222,
              "#7201a8"
             ],
             [
              0.3333333333333333,
              "#9c179e"
             ],
             [
              0.4444444444444444,
              "#bd3786"
             ],
             [
              0.5555555555555556,
              "#d8576b"
             ],
             [
              0.6666666666666666,
              "#ed7953"
             ],
             [
              0.7777777777777778,
              "#fb9f3a"
             ],
             [
              0.8888888888888888,
              "#fdca26"
             ],
             [
              1,
              "#f0f921"
             ]
            ],
            "type": "histogram2d"
           }
          ],
          "histogram2dcontour": [
           {
            "colorbar": {
             "outlinewidth": 0,
             "ticks": ""
            },
            "colorscale": [
             [
              0,
              "#0d0887"
             ],
             [
              0.1111111111111111,
              "#46039f"
             ],
             [
              0.2222222222222222,
              "#7201a8"
             ],
             [
              0.3333333333333333,
              "#9c179e"
             ],
             [
              0.4444444444444444,
              "#bd3786"
             ],
             [
              0.5555555555555556,
              "#d8576b"
             ],
             [
              0.6666666666666666,
              "#ed7953"
             ],
             [
              0.7777777777777778,
              "#fb9f3a"
             ],
             [
              0.8888888888888888,
              "#fdca26"
             ],
             [
              1,
              "#f0f921"
             ]
            ],
            "type": "histogram2dcontour"
           }
          ],
          "mesh3d": [
           {
            "colorbar": {
             "outlinewidth": 0,
             "ticks": ""
            },
            "type": "mesh3d"
           }
          ],
          "parcoords": [
           {
            "line": {
             "colorbar": {
              "outlinewidth": 0,
              "ticks": ""
             }
            },
            "type": "parcoords"
           }
          ],
          "pie": [
           {
            "automargin": true,
            "type": "pie"
           }
          ],
          "scatter": [
           {
            "marker": {
             "colorbar": {
              "outlinewidth": 0,
              "ticks": ""
             }
            },
            "type": "scatter"
           }
          ],
          "scatter3d": [
           {
            "line": {
             "colorbar": {
              "outlinewidth": 0,
              "ticks": ""
             }
            },
            "marker": {
             "colorbar": {
              "outlinewidth": 0,
              "ticks": ""
             }
            },
            "type": "scatter3d"
           }
          ],
          "scattercarpet": [
           {
            "marker": {
             "colorbar": {
              "outlinewidth": 0,
              "ticks": ""
             }
            },
            "type": "scattercarpet"
           }
          ],
          "scattergeo": [
           {
            "marker": {
             "colorbar": {
              "outlinewidth": 0,
              "ticks": ""
             }
            },
            "type": "scattergeo"
           }
          ],
          "scattergl": [
           {
            "marker": {
             "colorbar": {
              "outlinewidth": 0,
              "ticks": ""
             }
            },
            "type": "scattergl"
           }
          ],
          "scattermapbox": [
           {
            "marker": {
             "colorbar": {
              "outlinewidth": 0,
              "ticks": ""
             }
            },
            "type": "scattermapbox"
           }
          ],
          "scatterpolar": [
           {
            "marker": {
             "colorbar": {
              "outlinewidth": 0,
              "ticks": ""
             }
            },
            "type": "scatterpolar"
           }
          ],
          "scatterpolargl": [
           {
            "marker": {
             "colorbar": {
              "outlinewidth": 0,
              "ticks": ""
             }
            },
            "type": "scatterpolargl"
           }
          ],
          "scatterternary": [
           {
            "marker": {
             "colorbar": {
              "outlinewidth": 0,
              "ticks": ""
             }
            },
            "type": "scatterternary"
           }
          ],
          "surface": [
           {
            "colorbar": {
             "outlinewidth": 0,
             "ticks": ""
            },
            "colorscale": [
             [
              0,
              "#0d0887"
             ],
             [
              0.1111111111111111,
              "#46039f"
             ],
             [
              0.2222222222222222,
              "#7201a8"
             ],
             [
              0.3333333333333333,
              "#9c179e"
             ],
             [
              0.4444444444444444,
              "#bd3786"
             ],
             [
              0.5555555555555556,
              "#d8576b"
             ],
             [
              0.6666666666666666,
              "#ed7953"
             ],
             [
              0.7777777777777778,
              "#fb9f3a"
             ],
             [
              0.8888888888888888,
              "#fdca26"
             ],
             [
              1,
              "#f0f921"
             ]
            ],
            "type": "surface"
           }
          ],
          "table": [
           {
            "cells": {
             "fill": {
              "color": "#EBF0F8"
             },
             "line": {
              "color": "white"
             }
            },
            "header": {
             "fill": {
              "color": "#C8D4E3"
             },
             "line": {
              "color": "white"
             }
            },
            "type": "table"
           }
          ]
         },
         "layout": {
          "annotationdefaults": {
           "arrowcolor": "#2a3f5f",
           "arrowhead": 0,
           "arrowwidth": 1
          },
          "coloraxis": {
           "colorbar": {
            "outlinewidth": 0,
            "ticks": ""
           }
          },
          "colorscale": {
           "diverging": [
            [
             0,
             "#8e0152"
            ],
            [
             0.1,
             "#c51b7d"
            ],
            [
             0.2,
             "#de77ae"
            ],
            [
             0.3,
             "#f1b6da"
            ],
            [
             0.4,
             "#fde0ef"
            ],
            [
             0.5,
             "#f7f7f7"
            ],
            [
             0.6,
             "#e6f5d0"
            ],
            [
             0.7,
             "#b8e186"
            ],
            [
             0.8,
             "#7fbc41"
            ],
            [
             0.9,
             "#4d9221"
            ],
            [
             1,
             "#276419"
            ]
           ],
           "sequential": [
            [
             0,
             "#0d0887"
            ],
            [
             0.1111111111111111,
             "#46039f"
            ],
            [
             0.2222222222222222,
             "#7201a8"
            ],
            [
             0.3333333333333333,
             "#9c179e"
            ],
            [
             0.4444444444444444,
             "#bd3786"
            ],
            [
             0.5555555555555556,
             "#d8576b"
            ],
            [
             0.6666666666666666,
             "#ed7953"
            ],
            [
             0.7777777777777778,
             "#fb9f3a"
            ],
            [
             0.8888888888888888,
             "#fdca26"
            ],
            [
             1,
             "#f0f921"
            ]
           ],
           "sequentialminus": [
            [
             0,
             "#0d0887"
            ],
            [
             0.1111111111111111,
             "#46039f"
            ],
            [
             0.2222222222222222,
             "#7201a8"
            ],
            [
             0.3333333333333333,
             "#9c179e"
            ],
            [
             0.4444444444444444,
             "#bd3786"
            ],
            [
             0.5555555555555556,
             "#d8576b"
            ],
            [
             0.6666666666666666,
             "#ed7953"
            ],
            [
             0.7777777777777778,
             "#fb9f3a"
            ],
            [
             0.8888888888888888,
             "#fdca26"
            ],
            [
             1,
             "#f0f921"
            ]
           ]
          },
          "colorway": [
           "#636efa",
           "#EF553B",
           "#00cc96",
           "#ab63fa",
           "#FFA15A",
           "#19d3f3",
           "#FF6692",
           "#B6E880",
           "#FF97FF",
           "#FECB52"
          ],
          "font": {
           "color": "#2a3f5f"
          },
          "geo": {
           "bgcolor": "white",
           "lakecolor": "white",
           "landcolor": "#E5ECF6",
           "showlakes": true,
           "showland": true,
           "subunitcolor": "white"
          },
          "hoverlabel": {
           "align": "left"
          },
          "hovermode": "closest",
          "mapbox": {
           "style": "light"
          },
          "paper_bgcolor": "white",
          "plot_bgcolor": "#E5ECF6",
          "polar": {
           "angularaxis": {
            "gridcolor": "white",
            "linecolor": "white",
            "ticks": ""
           },
           "bgcolor": "#E5ECF6",
           "radialaxis": {
            "gridcolor": "white",
            "linecolor": "white",
            "ticks": ""
           }
          },
          "scene": {
           "xaxis": {
            "backgroundcolor": "#E5ECF6",
            "gridcolor": "white",
            "gridwidth": 2,
            "linecolor": "white",
            "showbackground": true,
            "ticks": "",
            "zerolinecolor": "white"
           },
           "yaxis": {
            "backgroundcolor": "#E5ECF6",
            "gridcolor": "white",
            "gridwidth": 2,
            "linecolor": "white",
            "showbackground": true,
            "ticks": "",
            "zerolinecolor": "white"
           },
           "zaxis": {
            "backgroundcolor": "#E5ECF6",
            "gridcolor": "white",
            "gridwidth": 2,
            "linecolor": "white",
            "showbackground": true,
            "ticks": "",
            "zerolinecolor": "white"
           }
          },
          "shapedefaults": {
           "line": {
            "color": "#2a3f5f"
           }
          },
          "ternary": {
           "aaxis": {
            "gridcolor": "white",
            "linecolor": "white",
            "ticks": ""
           },
           "baxis": {
            "gridcolor": "white",
            "linecolor": "white",
            "ticks": ""
           },
           "bgcolor": "#E5ECF6",
           "caxis": {
            "gridcolor": "white",
            "linecolor": "white",
            "ticks": ""
           }
          },
          "title": {
           "x": 0.05
          },
          "xaxis": {
           "automargin": true,
           "gridcolor": "white",
           "linecolor": "white",
           "ticks": "",
           "title": {
            "standoff": 15
           },
           "zerolinecolor": "white",
           "zerolinewidth": 2
          },
          "yaxis": {
           "automargin": true,
           "gridcolor": "white",
           "linecolor": "white",
           "ticks": "",
           "title": {
            "standoff": 15
           },
           "zerolinecolor": "white",
           "zerolinewidth": 2
          }
         }
        },
        "title": {
         "text": "Average range of the big polluter aircrafts"
        },
        "xaxis": {
         "anchor": "y",
         "domain": [
          0,
          1
         ],
         "title": {
          "text": "Sector km"
         }
        },
        "xaxis2": {
         "anchor": "y2",
         "domain": [
          0,
          1
         ],
         "matches": "x",
         "showgrid": true,
         "showticklabels": false
        },
        "yaxis": {
         "anchor": "x",
         "domain": [
          0,
          0.7326
         ],
         "title": {
          "text": "sum of Number of aircrafts"
         }
        },
        "yaxis2": {
         "anchor": "x2",
         "domain": [
          0.7426,
          1
         ],
         "matches": "y2",
         "showgrid": false,
         "showline": false,
         "showticklabels": false,
         "ticks": ""
        }
       }
      },
      "text/html": [
       "<div>\n",
       "        \n",
       "        \n",
       "            <div id=\"08aa7db2-1a88-4e72-94fb-dedbcc5a60c9\" class=\"plotly-graph-div\" style=\"height:600px; width:100%;\"></div>\n",
       "            <script type=\"text/javascript\">\n",
       "                require([\"plotly\"], function(Plotly) {\n",
       "                    window.PLOTLYENV=window.PLOTLYENV || {};\n",
       "                    \n",
       "                if (document.getElementById(\"08aa7db2-1a88-4e72-94fb-dedbcc5a60c9\")) {\n",
       "                    Plotly.newPlot(\n",
       "                        '08aa7db2-1a88-4e72-94fb-dedbcc5a60c9',\n",
       "                        [{\"alignmentgroup\": \"True\", \"bingroup\": \"x\", \"histfunc\": \"sum\", \"hoverlabel\": {\"namelength\": 0}, \"hovertemplate\": \"Eco=False<br>Sector km=%{x}<br>sum of Number of aircrafts=%{y}\", \"legendgroup\": \"Eco=False\", \"marker\": {\"color\": \"#636efa\"}, \"name\": \"Eco=False\", \"nbinsx\": 80, \"offsetgroup\": \"Eco=False\", \"orientation\": \"v\", \"showlegend\": true, \"type\": \"histogram\", \"x\": [560.0, 560.0, 1900.0, 2942.0, 814.5, 930.0, 815.0, 811.5, 810.5, 830.0, 560.0, 1107.0, 1122.0, 1120.0, 1124.0, 1124.0], \"xaxis\": \"x\", \"y\": [23, 7, 3, 11, 20, 14, 475, 189, 268, 5, 29, 332, 93, 223, 119, 3], \"yaxis\": \"y\"}, {\"alignmentgroup\": \"True\", \"boxpoints\": \"all\", \"fillcolor\": \"rgba(255,255,255,0)\", \"hoverlabel\": {\"namelength\": 0}, \"hoveron\": \"points\", \"hovertemplate\": \"Eco=False<br>Sector km=%{x}\", \"jitter\": 0, \"legendgroup\": \"Eco=False\", \"line\": {\"color\": \"rgba(255,255,255,0)\"}, \"marker\": {\"color\": \"#636efa\", \"symbol\": \"line-ns-open\"}, \"name\": \"Eco=False\", \"offsetgroup\": \"Eco=False\", \"showlegend\": false, \"type\": \"box\", \"x\": [560.0, 560.0, 1900.0, 2942.0, 814.5, 930.0, 815.0, 811.5, 810.5, 830.0, 560.0, 1107.0, 1122.0, 1120.0, 1124.0, 1124.0], \"xaxis\": \"x2\", \"yaxis\": \"y2\"}, {\"alignmentgroup\": \"True\", \"bingroup\": \"x\", \"histfunc\": \"sum\", \"hoverlabel\": {\"namelength\": 0}, \"hovertemplate\": \"Eco=True<br>Sector km=%{x}<br>sum of Number of aircrafts=%{y}\", \"legendgroup\": \"Eco=True\", \"marker\": {\"color\": \"#EF553B\"}, \"name\": \"Eco=True\", \"nbinsx\": 80, \"offsetgroup\": \"Eco=True\", \"orientation\": \"v\", \"showlegend\": true, \"type\": \"histogram\", \"x\": [560.0, 1900.0, 1900.0, 2942.0, 1220.0, 1900.0, 1220.0, 6166.666666666667, 10662.0, 3140.0, 3140.0, 939.0, 1576.6666666666667, 5600.0, 9033.5], \"xaxis\": \"x\", \"y\": [29, 11, 24, 672, 343, 174, 82, 4, 14, 14, 3, 4, 93, 4, 14], \"yaxis\": \"y\"}, {\"alignmentgroup\": \"True\", \"boxpoints\": \"all\", \"fillcolor\": \"rgba(255,255,255,0)\", \"hoverlabel\": {\"namelength\": 0}, \"hoveron\": \"points\", \"hovertemplate\": \"Eco=True<br>Sector km=%{x}\", \"jitter\": 0, \"legendgroup\": \"Eco=True\", \"line\": {\"color\": \"rgba(255,255,255,0)\"}, \"marker\": {\"color\": \"#EF553B\", \"symbol\": \"line-ns-open\"}, \"name\": \"Eco=True\", \"offsetgroup\": \"Eco=True\", \"showlegend\": false, \"type\": \"box\", \"x\": [560.0, 1900.0, 1900.0, 2942.0, 1220.0, 1900.0, 1220.0, 6166.666666666667, 10662.0, 3140.0, 3140.0, 939.0, 1576.6666666666667, 5600.0, 9033.5], \"xaxis\": \"x2\", \"yaxis\": \"y2\"}],\n",
       "                        {\"barmode\": \"relative\", \"height\": 600, \"legend\": {\"tracegroupgap\": 0}, \"template\": {\"data\": {\"bar\": [{\"error_x\": {\"color\": \"#2a3f5f\"}, \"error_y\": {\"color\": \"#2a3f5f\"}, \"marker\": {\"line\": {\"color\": \"#E5ECF6\", \"width\": 0.5}}, \"type\": \"bar\"}], \"barpolar\": [{\"marker\": {\"line\": {\"color\": \"#E5ECF6\", \"width\": 0.5}}, \"type\": \"barpolar\"}], \"carpet\": [{\"aaxis\": {\"endlinecolor\": \"#2a3f5f\", \"gridcolor\": \"white\", \"linecolor\": \"white\", \"minorgridcolor\": \"white\", \"startlinecolor\": \"#2a3f5f\"}, \"baxis\": {\"endlinecolor\": \"#2a3f5f\", \"gridcolor\": \"white\", \"linecolor\": \"white\", \"minorgridcolor\": \"white\", \"startlinecolor\": \"#2a3f5f\"}, \"type\": \"carpet\"}], \"choropleth\": [{\"colorbar\": {\"outlinewidth\": 0, \"ticks\": \"\"}, \"type\": \"choropleth\"}], \"contour\": [{\"colorbar\": {\"outlinewidth\": 0, \"ticks\": \"\"}, \"colorscale\": [[0.0, \"#0d0887\"], [0.1111111111111111, \"#46039f\"], [0.2222222222222222, \"#7201a8\"], [0.3333333333333333, \"#9c179e\"], [0.4444444444444444, \"#bd3786\"], [0.5555555555555556, \"#d8576b\"], [0.6666666666666666, \"#ed7953\"], [0.7777777777777778, \"#fb9f3a\"], [0.8888888888888888, \"#fdca26\"], [1.0, \"#f0f921\"]], \"type\": \"contour\"}], \"contourcarpet\": [{\"colorbar\": {\"outlinewidth\": 0, \"ticks\": \"\"}, \"type\": \"contourcarpet\"}], \"heatmap\": [{\"colorbar\": {\"outlinewidth\": 0, \"ticks\": \"\"}, \"colorscale\": [[0.0, \"#0d0887\"], [0.1111111111111111, \"#46039f\"], [0.2222222222222222, \"#7201a8\"], [0.3333333333333333, \"#9c179e\"], [0.4444444444444444, \"#bd3786\"], [0.5555555555555556, \"#d8576b\"], [0.6666666666666666, \"#ed7953\"], [0.7777777777777778, \"#fb9f3a\"], [0.8888888888888888, \"#fdca26\"], [1.0, \"#f0f921\"]], \"type\": \"heatmap\"}], \"heatmapgl\": [{\"colorbar\": {\"outlinewidth\": 0, \"ticks\": \"\"}, \"colorscale\": [[0.0, \"#0d0887\"], [0.1111111111111111, \"#46039f\"], [0.2222222222222222, \"#7201a8\"], [0.3333333333333333, \"#9c179e\"], [0.4444444444444444, \"#bd3786\"], [0.5555555555555556, \"#d8576b\"], [0.6666666666666666, \"#ed7953\"], [0.7777777777777778, \"#fb9f3a\"], [0.8888888888888888, \"#fdca26\"], [1.0, \"#f0f921\"]], \"type\": \"heatmapgl\"}], \"histogram\": [{\"marker\": {\"colorbar\": {\"outlinewidth\": 0, \"ticks\": \"\"}}, \"type\": \"histogram\"}], \"histogram2d\": [{\"colorbar\": {\"outlinewidth\": 0, \"ticks\": \"\"}, \"colorscale\": [[0.0, \"#0d0887\"], [0.1111111111111111, \"#46039f\"], [0.2222222222222222, \"#7201a8\"], [0.3333333333333333, \"#9c179e\"], [0.4444444444444444, \"#bd3786\"], [0.5555555555555556, \"#d8576b\"], [0.6666666666666666, \"#ed7953\"], [0.7777777777777778, \"#fb9f3a\"], [0.8888888888888888, \"#fdca26\"], [1.0, \"#f0f921\"]], \"type\": \"histogram2d\"}], \"histogram2dcontour\": [{\"colorbar\": {\"outlinewidth\": 0, \"ticks\": \"\"}, \"colorscale\": [[0.0, \"#0d0887\"], [0.1111111111111111, \"#46039f\"], [0.2222222222222222, \"#7201a8\"], [0.3333333333333333, \"#9c179e\"], [0.4444444444444444, \"#bd3786\"], [0.5555555555555556, \"#d8576b\"], [0.6666666666666666, \"#ed7953\"], [0.7777777777777778, \"#fb9f3a\"], [0.8888888888888888, \"#fdca26\"], [1.0, \"#f0f921\"]], \"type\": \"histogram2dcontour\"}], \"mesh3d\": [{\"colorbar\": {\"outlinewidth\": 0, \"ticks\": \"\"}, \"type\": \"mesh3d\"}], \"parcoords\": [{\"line\": {\"colorbar\": {\"outlinewidth\": 0, \"ticks\": \"\"}}, \"type\": \"parcoords\"}], \"pie\": [{\"automargin\": true, \"type\": \"pie\"}], \"scatter\": [{\"marker\": {\"colorbar\": {\"outlinewidth\": 0, \"ticks\": \"\"}}, \"type\": \"scatter\"}], \"scatter3d\": [{\"line\": {\"colorbar\": {\"outlinewidth\": 0, \"ticks\": \"\"}}, \"marker\": {\"colorbar\": {\"outlinewidth\": 0, \"ticks\": \"\"}}, \"type\": \"scatter3d\"}], \"scattercarpet\": [{\"marker\": {\"colorbar\": {\"outlinewidth\": 0, \"ticks\": \"\"}}, \"type\": \"scattercarpet\"}], \"scattergeo\": [{\"marker\": {\"colorbar\": {\"outlinewidth\": 0, \"ticks\": \"\"}}, \"type\": \"scattergeo\"}], \"scattergl\": [{\"marker\": {\"colorbar\": {\"outlinewidth\": 0, \"ticks\": \"\"}}, \"type\": \"scattergl\"}], \"scattermapbox\": [{\"marker\": {\"colorbar\": {\"outlinewidth\": 0, \"ticks\": \"\"}}, \"type\": \"scattermapbox\"}], \"scatterpolar\": [{\"marker\": {\"colorbar\": {\"outlinewidth\": 0, \"ticks\": \"\"}}, \"type\": \"scatterpolar\"}], \"scatterpolargl\": [{\"marker\": {\"colorbar\": {\"outlinewidth\": 0, \"ticks\": \"\"}}, \"type\": \"scatterpolargl\"}], \"scatterternary\": [{\"marker\": {\"colorbar\": {\"outlinewidth\": 0, \"ticks\": \"\"}}, \"type\": \"scatterternary\"}], \"surface\": [{\"colorbar\": {\"outlinewidth\": 0, \"ticks\": \"\"}, \"colorscale\": [[0.0, \"#0d0887\"], [0.1111111111111111, \"#46039f\"], [0.2222222222222222, \"#7201a8\"], [0.3333333333333333, \"#9c179e\"], [0.4444444444444444, \"#bd3786\"], [0.5555555555555556, \"#d8576b\"], [0.6666666666666666, \"#ed7953\"], [0.7777777777777778, \"#fb9f3a\"], [0.8888888888888888, \"#fdca26\"], [1.0, \"#f0f921\"]], \"type\": \"surface\"}], \"table\": [{\"cells\": {\"fill\": {\"color\": \"#EBF0F8\"}, \"line\": {\"color\": \"white\"}}, \"header\": {\"fill\": {\"color\": \"#C8D4E3\"}, \"line\": {\"color\": \"white\"}}, \"type\": \"table\"}]}, \"layout\": {\"annotationdefaults\": {\"arrowcolor\": \"#2a3f5f\", \"arrowhead\": 0, \"arrowwidth\": 1}, \"coloraxis\": {\"colorbar\": {\"outlinewidth\": 0, \"ticks\": \"\"}}, \"colorscale\": {\"diverging\": [[0, \"#8e0152\"], [0.1, \"#c51b7d\"], [0.2, \"#de77ae\"], [0.3, \"#f1b6da\"], [0.4, \"#fde0ef\"], [0.5, \"#f7f7f7\"], [0.6, \"#e6f5d0\"], [0.7, \"#b8e186\"], [0.8, \"#7fbc41\"], [0.9, \"#4d9221\"], [1, \"#276419\"]], \"sequential\": [[0.0, \"#0d0887\"], [0.1111111111111111, \"#46039f\"], [0.2222222222222222, \"#7201a8\"], [0.3333333333333333, \"#9c179e\"], [0.4444444444444444, \"#bd3786\"], [0.5555555555555556, \"#d8576b\"], [0.6666666666666666, \"#ed7953\"], [0.7777777777777778, \"#fb9f3a\"], [0.8888888888888888, \"#fdca26\"], [1.0, \"#f0f921\"]], \"sequentialminus\": [[0.0, \"#0d0887\"], [0.1111111111111111, \"#46039f\"], [0.2222222222222222, \"#7201a8\"], [0.3333333333333333, \"#9c179e\"], [0.4444444444444444, \"#bd3786\"], [0.5555555555555556, \"#d8576b\"], [0.6666666666666666, \"#ed7953\"], [0.7777777777777778, \"#fb9f3a\"], [0.8888888888888888, \"#fdca26\"], [1.0, \"#f0f921\"]]}, \"colorway\": [\"#636efa\", \"#EF553B\", \"#00cc96\", \"#ab63fa\", \"#FFA15A\", \"#19d3f3\", \"#FF6692\", \"#B6E880\", \"#FF97FF\", \"#FECB52\"], \"font\": {\"color\": \"#2a3f5f\"}, \"geo\": {\"bgcolor\": \"white\", \"lakecolor\": \"white\", \"landcolor\": \"#E5ECF6\", \"showlakes\": true, \"showland\": true, \"subunitcolor\": \"white\"}, \"hoverlabel\": {\"align\": \"left\"}, \"hovermode\": \"closest\", \"mapbox\": {\"style\": \"light\"}, \"paper_bgcolor\": \"white\", \"plot_bgcolor\": \"#E5ECF6\", \"polar\": {\"angularaxis\": {\"gridcolor\": \"white\", \"linecolor\": \"white\", \"ticks\": \"\"}, \"bgcolor\": \"#E5ECF6\", \"radialaxis\": {\"gridcolor\": \"white\", \"linecolor\": \"white\", \"ticks\": \"\"}}, \"scene\": {\"xaxis\": {\"backgroundcolor\": \"#E5ECF6\", \"gridcolor\": \"white\", \"gridwidth\": 2, \"linecolor\": \"white\", \"showbackground\": true, \"ticks\": \"\", \"zerolinecolor\": \"white\"}, \"yaxis\": {\"backgroundcolor\": \"#E5ECF6\", \"gridcolor\": \"white\", \"gridwidth\": 2, \"linecolor\": \"white\", \"showbackground\": true, \"ticks\": \"\", \"zerolinecolor\": \"white\"}, \"zaxis\": {\"backgroundcolor\": \"#E5ECF6\", \"gridcolor\": \"white\", \"gridwidth\": 2, \"linecolor\": \"white\", \"showbackground\": true, \"ticks\": \"\", \"zerolinecolor\": \"white\"}}, \"shapedefaults\": {\"line\": {\"color\": \"#2a3f5f\"}}, \"ternary\": {\"aaxis\": {\"gridcolor\": \"white\", \"linecolor\": \"white\", \"ticks\": \"\"}, \"baxis\": {\"gridcolor\": \"white\", \"linecolor\": \"white\", \"ticks\": \"\"}, \"bgcolor\": \"#E5ECF6\", \"caxis\": {\"gridcolor\": \"white\", \"linecolor\": \"white\", \"ticks\": \"\"}}, \"title\": {\"x\": 0.05}, \"xaxis\": {\"automargin\": true, \"gridcolor\": \"white\", \"linecolor\": \"white\", \"ticks\": \"\", \"title\": {\"standoff\": 15}, \"zerolinecolor\": \"white\", \"zerolinewidth\": 2}, \"yaxis\": {\"automargin\": true, \"gridcolor\": \"white\", \"linecolor\": \"white\", \"ticks\": \"\", \"title\": {\"standoff\": 15}, \"zerolinecolor\": \"white\", \"zerolinewidth\": 2}}}, \"title\": {\"text\": \"Average range of the big polluter aircrafts\"}, \"xaxis\": {\"anchor\": \"y\", \"domain\": [0.0, 1.0], \"title\": {\"text\": \"Sector km\"}}, \"xaxis2\": {\"anchor\": \"y2\", \"domain\": [0.0, 1.0], \"matches\": \"x\", \"showgrid\": true, \"showticklabels\": false}, \"yaxis\": {\"anchor\": \"x\", \"domain\": [0.0, 0.7326], \"title\": {\"text\": \"sum of Number of aircrafts\"}}, \"yaxis2\": {\"anchor\": \"x2\", \"domain\": [0.7426, 1.0], \"matches\": \"y2\", \"showgrid\": false, \"showline\": false, \"showticklabels\": false, \"ticks\": \"\"}},\n",
       "                        {\"responsive\": true}\n",
       "                    ).then(function(){\n",
       "                            \n",
       "var gd = document.getElementById('08aa7db2-1a88-4e72-94fb-dedbcc5a60c9');\n",
       "var x = new MutationObserver(function (mutations, observer) {{\n",
       "        var display = window.getComputedStyle(gd).display;\n",
       "        if (!display || display === 'none') {{\n",
       "            console.log([gd, 'removed!']);\n",
       "            Plotly.purge(gd);\n",
       "            observer.disconnect();\n",
       "        }}\n",
       "}});\n",
       "\n",
       "// Listen for the removal of the full notebook cells\n",
       "var notebookContainer = gd.closest('#notebook-container');\n",
       "if (notebookContainer) {{\n",
       "    x.observe(notebookContainer, {childList: true});\n",
       "}}\n",
       "\n",
       "// Listen for the clearing of the current output cell\n",
       "var outputEl = gd.closest('.output');\n",
       "if (outputEl) {{\n",
       "    x.observe(outputEl, {childList: true});\n",
       "}}\n",
       "\n",
       "                        })\n",
       "                };\n",
       "                });\n",
       "            </script>\n",
       "        </div>"
      ]
     },
     "metadata": {},
     "output_type": "display_data"
    }
   ],
   "source": [
    "px.histogram(\n",
    "    pd.concat([aircrafts_used_by_big_polluters, aircrafts_used_by_small_polluters]),\n",
    "    x = \"Sector km\",\n",
    "    y =\"Number of aircrafts\",\n",
    "    color = \"Eco\",\n",
    "    histfunc=\"sum\",\n",
    "    nbins=80,\n",
    "    marginal=\"rug\",\n",
    "    title = \"Average range of the big polluter aircrafts\")"
   ]
  },
  {
   "cell_type": "markdown",
   "metadata": {},
   "source": [
    "We can see from the histogram above that airlines that are polluting less are operating flights with aircrafts that are designed to fly further."
   ]
  },
  {
   "cell_type": "markdown",
   "metadata": {},
   "source": [
    "We can conclude from this analysis that we have found significant differences between local airlines and low cost airlines. Flying with a low cost will most likely reduce your CO2 emissions compared to flying with a regional jet. The reason of being of these 2 types of flights is entirely different. The purpose of regional flights is to allow passengers to stop over in one of the main hubs of the airline before continuing on with another flight. So these flights can be more expensive (burn more fuel) than flights operated by a low-cost airline. \n",
    "\n",
    "Low-cost are on the other hand trying to minimize the operating costs. Since fuel accounts for approximately 25% of operating costs (according to https://www.statista.com/statistics/591285/aviation-industry-fuel-cost/) low cost airlines have a large incentive to opperate fleets of aircrafts that burn less fuel."
   ]
  },
  {
   "cell_type": "code",
   "execution_count": null,
   "metadata": {},
   "outputs": [],
   "source": []
  }
 ],
 "metadata": {
  "kernelspec": {
   "display_name": "Python 3",
   "language": "python",
   "name": "python3"
  },
  "language_info": {
   "codemirror_mode": {
    "name": "ipython",
    "version": 3
   },
   "file_extension": ".py",
   "mimetype": "text/x-python",
   "name": "python",
   "nbconvert_exporter": "python",
   "pygments_lexer": "ipython3",
   "version": "3.6.9"
  }
 },
 "nbformat": 4,
 "nbformat_minor": 4
}
