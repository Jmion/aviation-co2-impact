{
 "cells": [
  {
   "cell_type": "markdown",
   "metadata": {},
   "source": [
    "## Routes of CO2 emissions"
   ]
  },
  {
   "cell_type": "code",
   "execution_count": null,
   "metadata": {},
   "outputs": [],
   "source": [
    "# Some amazing visualization libraries used for data \n",
    "import folium\n",
    "from geopy.geocoders import Nominatim\n",
    "from folium.plugins import MarkerCluster\n",
    "import plotly.cexpress as px\n",
    "import plotly.figure_factory as ff\n",
    "import plotly.graph_objects as go"
   ]
  },
  {
   "cell_type": "markdown",
   "metadata": {},
   "source": [
    "### Using average co2 emission per operator"
   ]
  },
  {
   "cell_type": "code",
   "execution_count": 377,
   "metadata": {},
   "outputs": [],
   "source": [
    "# Helper to load opensky dataset\n",
    "def load_dataset_opensky(filename, sep=','):\n",
    "    dirpath = os.path.join(\".\",\"data\", \"opensky-network\")\n",
    "    filepath = os.path.join(dirpath, filename)\n",
    "    raw_data = pd.read_csv(filepath, sep, header=None, encoding='utf-8', low_memory=False)\n",
    "    return raw_data\n",
    "# Helper to load openflight datasets\n",
    "def load_dataset_openflight(filename, sep=','):\n",
    "    dirpath = os.path.join(\".\",\"data\", \"openflight\")\n",
    "    filepath = os.path.join(dirpath, filename)\n",
    "    raw_data = pd.read_csv(filepath, sep, header=None, encoding='utf-8')\n",
    "    return raw_data\n",
    "# Helper to clearn the data in openflight datasets\n",
    "def remove_backslash_n(dataset):\n",
    "    return dataset.replace('\\\\N', np.nan)\n",
    "\n",
    "from math import sin, cos, sqrt, atan2, radians\n",
    "#Ref: https://stackoverflow.com/questions/19412462/getting-distance-between-two-points-based-on-latitude-longitude\n",
    "def distance(lat1, lon1, lat2, lon2):\n",
    "    \"\"\" Return the distance between two lat/long coordinates\"\"\"\n",
    "    # approximate radius of earth in km\n",
    "    R = 6373.0\n",
    "    # convert to radian and take abs value\n",
    "    lat1 = radians(abs(lat1))\n",
    "    lon1 = radians(abs(lon1))\n",
    "    lat2 = radians(abs(lat2))\n",
    "    lon2 = radians(abs(lon2))\n",
    "    \n",
    "    dlon = lon2 - lon1\n",
    "    dlat = lat2 - lat1\n",
    "\n",
    "    a = sin(dlat / 2)**2 + cos(lat1) * cos(lat2) * sin(dlon / 2)**2\n",
    "    c = 2 * atan2(sqrt(a), sqrt(1 - a))\n",
    "\n",
    "    distance = R * c\n",
    "    return distance\n",
    "\n",
    "# Helpers to compute add columns\n",
    "def distance_from_row(row):\n",
    "    return distance(row['lat_dep'], row['long_dep'], row['lat_dest'], row['long_dest'])\n",
    "def co2_total(row):\n",
    "    return row['distance']/100*row['CO2 kg/km']\n",
    "def co2_total_per_seat(row):\n",
    "    return row['distance']/100*row['CO2 per seat kg/100km']\n",
    "\n",
    "# Helper to get a range of colors\n",
    "from colour import Color\n",
    "from math import floor\n",
    "green = Color(\"green\")\n",
    "\n",
    "colors = list(green.range_to(Color(\"red\"),50))\n",
    "def get_color(v):\n",
    "    return colors[floor(v*len(colors)-0.0001)].get_hex()\n",
    "green.get_hex()\n",
    "\n",
    "# Helper to plot interactive scattergeo plot\n",
    "def plot_scatterplot(dataset, feature='CO2 per seat kg/100km', title='Insert a title please !', europe=False):\n",
    "    \"\"\"Plot a dataset of routes on a map\"\"\"\n",
    "    route_plot = go.Figure()\n",
    "    # We reset index in order to go through it below\n",
    "    dataset = dataset.reset_index()\n",
    "    for i in range(len(dataset)):\n",
    "        route_plot.add_trace(\n",
    "            go.Scattergeo(\n",
    "                lon = [dataset['long_dep'][i], dataset['long_dest'][i]],\n",
    "                lat = [dataset['lat_dep'][i], dataset['lat_dest'][i]],\n",
    "                mode = 'lines',\n",
    "                line = dict(\n",
    "                    width = 1,\n",
    "                    color = get_color((dataset['CO2 per seat kg/100km'][i]-dataset['CO2 per seat kg/100km'].min())\\\n",
    "                                      /(dataset['CO2 per seat kg/100km'].max()-dataset['CO2 per seat kg/100km'].min()))\n",
    "                ),   \n",
    "                opacity = 1.0,\n",
    "                #hoverinfo = 'text',\n",
    "                #text = co2_dataset['operator'][i] + ' : ' + co2_dataset['departure'][i] +  ' - ' + co2_dataset['destination'][i],\n",
    "            )\n",
    "        )\n",
    "    if (not(europe)):\n",
    "        route_plot.update_layout(\n",
    "            title_text = title,\n",
    "            showlegend = False,\n",
    "            geo = go.layout.Geo(\n",
    "                showland = True,\n",
    "                landcolor = 'rgb(243, 243, 243)',\n",
    "                countrycolor = 'rgb(204, 204, 204)',\n",
    "            ),\n",
    "        )\n",
    "    else:\n",
    "        route_plot.update_layout(\n",
    "            title_text = title,\n",
    "            showlegend = False,\n",
    "            geo = go.layout.Geo(\n",
    "                scope='europe',\n",
    "                showland = True,\n",
    "                landcolor = 'rgb(243, 243, 243)',\n",
    "                countrycolor = 'rgb(204, 204, 204)',\n",
    "            ),\n",
    "        )\n",
    "    \n",
    "    \n",
    "            \n",
    "\n",
    "    route_plot.show()\n",
    "\n",
    "\n",
    "# Define the list of european countries\n",
    "eu_countries = ['Austria', 'Belgium', 'Bulgaria', 'Croatia', 'Cyprus',\\\n",
    "                'Czech Republic', 'Denmark', 'Estonia', 'Finland', 'France',\\\n",
    "                'Germany', 'Greece', 'Hungary', 'Ireland', 'Italy', 'Latvia',\\\n",
    "                'Luxembourg', 'Lithuania', 'Malta', 'Netherlands', 'Poland',\\\n",
    "                'Portugal', 'Romania', 'Slovakia', 'Slovenia', 'Spain',\\\n",
    "                'Sweden', 'United Kingdom']"
   ]
  },
  {
   "cell_type": "code",
   "execution_count": 363,
   "metadata": {},
   "outputs": [
    {
     "data": {
      "text/html": [
       "<div>\n",
       "<style scoped>\n",
       "    .dataframe tbody tr th:only-of-type {\n",
       "        vertical-align: middle;\n",
       "    }\n",
       "\n",
       "    .dataframe tbody tr th {\n",
       "        vertical-align: top;\n",
       "    }\n",
       "\n",
       "    .dataframe thead th {\n",
       "        text-align: right;\n",
       "    }\n",
       "</style>\n",
       "<table border=\"1\" class=\"dataframe\">\n",
       "  <thead>\n",
       "    <tr style=\"text-align: right;\">\n",
       "      <th></th>\n",
       "      <th>operator</th>\n",
       "      <th>model</th>\n",
       "      <th>departure</th>\n",
       "      <th>destination</th>\n",
       "    </tr>\n",
       "  </thead>\n",
       "  <tbody>\n",
       "    <tr>\n",
       "      <td>45</td>\n",
       "      <td>Indian Air Force</td>\n",
       "      <td>C-17A Globemaster III</td>\n",
       "      <td>VEGK</td>\n",
       "      <td>VIDX</td>\n",
       "    </tr>\n",
       "    <tr>\n",
       "      <td>45</td>\n",
       "      <td>Indian Air Force</td>\n",
       "      <td>C-17A Globemaster III</td>\n",
       "      <td>VIDP</td>\n",
       "      <td>VEGK</td>\n",
       "    </tr>\n",
       "    <tr>\n",
       "      <td>45</td>\n",
       "      <td>Indian Air Force</td>\n",
       "      <td>C-17A Globemaster III</td>\n",
       "      <td>VIDX</td>\n",
       "      <td>VOYK</td>\n",
       "    </tr>\n",
       "    <tr>\n",
       "      <td>45</td>\n",
       "      <td>Indian Air Force</td>\n",
       "      <td>C-17A Globemaster III</td>\n",
       "      <td>VOMM</td>\n",
       "      <td>VIDX</td>\n",
       "    </tr>\n",
       "    <tr>\n",
       "      <td>45</td>\n",
       "      <td>Indian Air Force</td>\n",
       "      <td>C-17A Globemaster III</td>\n",
       "      <td>VIDX</td>\n",
       "      <td>VOMM</td>\n",
       "    </tr>\n",
       "  </tbody>\n",
       "</table>\n",
       "</div>"
      ],
      "text/plain": [
       "            operator                  model departure destination\n",
       "45  Indian Air Force  C-17A Globemaster III      VEGK        VIDX\n",
       "45  Indian Air Force  C-17A Globemaster III      VIDP        VEGK\n",
       "45  Indian Air Force  C-17A Globemaster III      VIDX        VOYK\n",
       "45  Indian Air Force  C-17A Globemaster III      VOMM        VIDX\n",
       "45  Indian Air Force  C-17A Globemaster III      VIDX        VOMM"
      ]
     },
     "execution_count": 363,
     "metadata": {},
     "output_type": "execute_result"
    }
   ],
   "source": [
    "# Load the opensky datasets\n",
    "aircrafts_raw = load_dataset_opensky('aircraftDatabase.csv.xz')\n",
    "flights_records_raw = load_dataset_opensky('log.csv.xz')\n",
    "\n",
    "# Name the columns\n",
    "aircrafts_raw.columns = [\"icao24\",\"registration\",\"manufacturericao\",\"manufacturername\",\"model\",\"typecode\",\"serialnumber\",\"linenumber\",\"icaoaircrafttype\",\"operator\",\"operatorcallsign\",\"operatoricao\",\"operatoriata\",\"owner\",\"testreg\",\"registered\",\"reguntil\",\"status\",\"built\",\"firstflightdate\",\"seatconfiguration\",\"engines\",\"modes\",\"adsb\",\"acars\",\"notes\",\"categoryDescription\"]\n",
    "flights_records_raw.columns = ['icao24', 'duration', 'callsign', 'departure', 'destination']\n",
    "\n",
    "# Remove first row because it didn't load properly\n",
    "aircrafts_raw = aircrafts_raw.drop(0, axis=0)\n",
    "flights_records_raw = flights_records_raw.drop(0, axis=0)\n",
    "\n",
    "# Join aircrafts_raw and fligths_records_raw to get a dataset with operator, model, departure and destination\n",
    "dataset_raw = aircrafts_raw.join(flights_records_raw.set_index('icao24'), on='icao24')\\\n",
    "[['operator','model','departure', 'destination']]\n",
    "\n",
    "# Drop the nan values\n",
    "dataset_raw = dataset_raw.dropna()\n",
    "dataset_raw.head()"
   ]
  },
  {
   "cell_type": "code",
   "execution_count": 364,
   "metadata": {},
   "outputs": [
    {
     "data": {
      "text/html": [
       "<div>\n",
       "<style scoped>\n",
       "    .dataframe tbody tr th:only-of-type {\n",
       "        vertical-align: middle;\n",
       "    }\n",
       "\n",
       "    .dataframe tbody tr th {\n",
       "        vertical-align: top;\n",
       "    }\n",
       "\n",
       "    .dataframe thead th {\n",
       "        text-align: right;\n",
       "    }\n",
       "</style>\n",
       "<table border=\"1\" class=\"dataframe\">\n",
       "  <thead>\n",
       "    <tr style=\"text-align: right;\">\n",
       "      <th></th>\n",
       "      <th>operator</th>\n",
       "      <th>model</th>\n",
       "      <th>departure</th>\n",
       "      <th>destination</th>\n",
       "      <th>name_dep</th>\n",
       "      <th>icao_x</th>\n",
       "      <th>lat_dep</th>\n",
       "      <th>long_dep</th>\n",
       "      <th>name_dest</th>\n",
       "      <th>icao_y</th>\n",
       "      <th>lat_dest</th>\n",
       "      <th>long_dest</th>\n",
       "    </tr>\n",
       "  </thead>\n",
       "  <tbody>\n",
       "    <tr>\n",
       "      <td>0</td>\n",
       "      <td>Air India Regional</td>\n",
       "      <td>ATR 72 600</td>\n",
       "      <td>VEGK</td>\n",
       "      <td>VIDP</td>\n",
       "      <td>Gorakhpur Airport</td>\n",
       "      <td>VEGK</td>\n",
       "      <td>26.7397</td>\n",
       "      <td>83.449699</td>\n",
       "      <td>Indira Gandhi International Airport</td>\n",
       "      <td>VIDP</td>\n",
       "      <td>28.5665</td>\n",
       "      <td>77.103104</td>\n",
       "    </tr>\n",
       "    <tr>\n",
       "      <td>1</td>\n",
       "      <td>Air India Regional</td>\n",
       "      <td>ATR 72 600</td>\n",
       "      <td>VEGK</td>\n",
       "      <td>VIDP</td>\n",
       "      <td>Gorakhpur Airport</td>\n",
       "      <td>VEGK</td>\n",
       "      <td>26.7397</td>\n",
       "      <td>83.449699</td>\n",
       "      <td>Indira Gandhi International Airport</td>\n",
       "      <td>VIDP</td>\n",
       "      <td>28.5665</td>\n",
       "      <td>77.103104</td>\n",
       "    </tr>\n",
       "    <tr>\n",
       "      <td>2</td>\n",
       "      <td>Air India Regional</td>\n",
       "      <td>ATR 72 600</td>\n",
       "      <td>VEGK</td>\n",
       "      <td>VIDP</td>\n",
       "      <td>Gorakhpur Airport</td>\n",
       "      <td>VEGK</td>\n",
       "      <td>26.7397</td>\n",
       "      <td>83.449699</td>\n",
       "      <td>Indira Gandhi International Airport</td>\n",
       "      <td>VIDP</td>\n",
       "      <td>28.5665</td>\n",
       "      <td>77.103104</td>\n",
       "    </tr>\n",
       "    <tr>\n",
       "      <td>3</td>\n",
       "      <td>Air India Regional</td>\n",
       "      <td>ATR 72 600</td>\n",
       "      <td>VEGK</td>\n",
       "      <td>VIDP</td>\n",
       "      <td>Gorakhpur Airport</td>\n",
       "      <td>VEGK</td>\n",
       "      <td>26.7397</td>\n",
       "      <td>83.449699</td>\n",
       "      <td>Indira Gandhi International Airport</td>\n",
       "      <td>VIDP</td>\n",
       "      <td>28.5665</td>\n",
       "      <td>77.103104</td>\n",
       "    </tr>\n",
       "    <tr>\n",
       "      <td>4</td>\n",
       "      <td>Air India Regional</td>\n",
       "      <td>ATR 72 600</td>\n",
       "      <td>VEGK</td>\n",
       "      <td>VIDP</td>\n",
       "      <td>Gorakhpur Airport</td>\n",
       "      <td>VEGK</td>\n",
       "      <td>26.7397</td>\n",
       "      <td>83.449699</td>\n",
       "      <td>Indira Gandhi International Airport</td>\n",
       "      <td>VIDP</td>\n",
       "      <td>28.5665</td>\n",
       "      <td>77.103104</td>\n",
       "    </tr>\n",
       "  </tbody>\n",
       "</table>\n",
       "</div>"
      ],
      "text/plain": [
       "             operator       model departure destination           name_dep  \\\n",
       "0  Air India Regional  ATR 72 600      VEGK        VIDP  Gorakhpur Airport   \n",
       "1  Air India Regional  ATR 72 600      VEGK        VIDP  Gorakhpur Airport   \n",
       "2  Air India Regional  ATR 72 600      VEGK        VIDP  Gorakhpur Airport   \n",
       "3  Air India Regional  ATR 72 600      VEGK        VIDP  Gorakhpur Airport   \n",
       "4  Air India Regional  ATR 72 600      VEGK        VIDP  Gorakhpur Airport   \n",
       "\n",
       "  icao_x  lat_dep   long_dep                            name_dest icao_y  \\\n",
       "0   VEGK  26.7397  83.449699  Indira Gandhi International Airport   VIDP   \n",
       "1   VEGK  26.7397  83.449699  Indira Gandhi International Airport   VIDP   \n",
       "2   VEGK  26.7397  83.449699  Indira Gandhi International Airport   VIDP   \n",
       "3   VEGK  26.7397  83.449699  Indira Gandhi International Airport   VIDP   \n",
       "4   VEGK  26.7397  83.449699  Indira Gandhi International Airport   VIDP   \n",
       "\n",
       "   lat_dest  long_dest  \n",
       "0   28.5665  77.103104  \n",
       "1   28.5665  77.103104  \n",
       "2   28.5665  77.103104  \n",
       "3   28.5665  77.103104  \n",
       "4   28.5665  77.103104  "
      ]
     },
     "execution_count": 364,
     "metadata": {},
     "output_type": "execute_result"
    }
   ],
   "source": [
    "# Load the openflight datasets\n",
    "airports_raw = load_dataset_openflight('airports.dat.xz')\n",
    "airports_raw.columns = ['Airport_ID', 'Name', 'City', 'Country', 'IATA', 'ICAO', 'Latitude', 'Longitude', 'Altitude', 'Timezone', 'DST', 'Tz_database', 'Type', 'Source']\n",
    "airports  = remove_backslash_n(airports_raw)\n",
    "location_airports_departure = airports[['Name', 'ICAO', 'Latitude', 'Longitude']]\n",
    "location_airports_destination = location_airports_departure.copy()\n",
    "location_airports_departure.columns = ['name_dep', 'icao', 'lat_dep', 'long_dep']\n",
    "location_airports_destination.columns = ['name_dest', 'icao', 'lat_dest', 'long_dest']\n",
    "airports_country = airports[['ICAO', 'Country']]\n",
    "airports_country.columns = ['icao', 'country']\n",
    "airports_country = airports_country.drop_duplicates()\n",
    "\n",
    "# Retrieve the EU airports\n",
    "eu_airports_country = airports_country[airports_country.country.isin(eu_countries)]\n",
    "# print(eu_airports_country['country'].sort_values().drop_duplicates().count())\n",
    "\n",
    "# Retrieve the Swiss airports\n",
    "swiss_airports = airports_country[airports_country.country.isin(['Switzerland'])]\n",
    "swiss_airports = swiss_airports.drop_duplicates()\n",
    "\n",
    "# Create a dataset with flight routes\n",
    "merged_dep = pd.merge(left=dataset_raw,right=location_airports_departure, left_on='departure', right_on='icao')\n",
    "merged_route = pd.merge(left=merged_dep,right=location_airports_destination, left_on='destination', right_on='icao')\n",
    "merged_route.head()"
   ]
  },
  {
   "cell_type": "code",
   "execution_count": 365,
   "metadata": {},
   "outputs": [
    {
     "data": {
      "text/html": [
       "<div>\n",
       "<style scoped>\n",
       "    .dataframe tbody tr th:only-of-type {\n",
       "        vertical-align: middle;\n",
       "    }\n",
       "\n",
       "    .dataframe tbody tr th {\n",
       "        vertical-align: top;\n",
       "    }\n",
       "\n",
       "    .dataframe thead th {\n",
       "        text-align: right;\n",
       "    }\n",
       "</style>\n",
       "<table border=\"1\" class=\"dataframe\">\n",
       "  <thead>\n",
       "    <tr style=\"text-align: right;\">\n",
       "      <th></th>\n",
       "      <th>operator</th>\n",
       "      <th>departure</th>\n",
       "      <th>destination</th>\n",
       "      <th>name_dep</th>\n",
       "      <th>lat_dep</th>\n",
       "      <th>long_dep</th>\n",
       "      <th>name_dest</th>\n",
       "      <th>lat_dest</th>\n",
       "      <th>long_dest</th>\n",
       "      <th>Operator</th>\n",
       "      <th>CO2 per seat kg/100km</th>\n",
       "      <th>CO2 kg/km</th>\n",
       "      <th>distance</th>\n",
       "      <th>CO2 kg</th>\n",
       "      <th>CO2 per seat kg</th>\n",
       "    </tr>\n",
       "  </thead>\n",
       "  <tbody>\n",
       "    <tr>\n",
       "      <td>0</td>\n",
       "      <td>Ethiopian Airlines</td>\n",
       "      <td>OLBA</td>\n",
       "      <td>VIDP</td>\n",
       "      <td>Beirut Rafic Hariri International Airport</td>\n",
       "      <td>33.820900</td>\n",
       "      <td>35.488400</td>\n",
       "      <td>Indira Gandhi International Airport</td>\n",
       "      <td>28.5665</td>\n",
       "      <td>77.103104</td>\n",
       "      <td>Ethiopian Airlines</td>\n",
       "      <td>6.106321</td>\n",
       "      <td>14.275292</td>\n",
       "      <td>3975.573512</td>\n",
       "      <td>567.524732</td>\n",
       "      <td>242.761295</td>\n",
       "    </tr>\n",
       "    <tr>\n",
       "      <td>1</td>\n",
       "      <td>Ethiopian Airlines</td>\n",
       "      <td>LEMD</td>\n",
       "      <td>VIDP</td>\n",
       "      <td>Adolfo Suárez Madrid–Barajas Airport</td>\n",
       "      <td>40.471926</td>\n",
       "      <td>-3.562640</td>\n",
       "      <td>Indira Gandhi International Airport</td>\n",
       "      <td>28.5665</td>\n",
       "      <td>77.103104</td>\n",
       "      <td>Ethiopian Airlines</td>\n",
       "      <td>6.106321</td>\n",
       "      <td>14.275292</td>\n",
       "      <td>6676.170542</td>\n",
       "      <td>953.042846</td>\n",
       "      <td>407.668428</td>\n",
       "    </tr>\n",
       "    <tr>\n",
       "      <td>2</td>\n",
       "      <td>Ethiopian Airlines</td>\n",
       "      <td>LLBG</td>\n",
       "      <td>VIDP</td>\n",
       "      <td>Ben Gurion International Airport</td>\n",
       "      <td>32.011398</td>\n",
       "      <td>34.886700</td>\n",
       "      <td>Indira Gandhi International Airport</td>\n",
       "      <td>28.5665</td>\n",
       "      <td>77.103104</td>\n",
       "      <td>Ethiopian Airlines</td>\n",
       "      <td>6.106321</td>\n",
       "      <td>14.275292</td>\n",
       "      <td>4047.381070</td>\n",
       "      <td>577.775470</td>\n",
       "      <td>247.146095</td>\n",
       "    </tr>\n",
       "    <tr>\n",
       "      <td>3</td>\n",
       "      <td>Ethiopian Airlines</td>\n",
       "      <td>OERK</td>\n",
       "      <td>VIDP</td>\n",
       "      <td>King Khaled International Airport</td>\n",
       "      <td>24.957600</td>\n",
       "      <td>46.698799</td>\n",
       "      <td>Indira Gandhi International Airport</td>\n",
       "      <td>28.5665</td>\n",
       "      <td>77.103104</td>\n",
       "      <td>Ethiopian Airlines</td>\n",
       "      <td>6.106321</td>\n",
       "      <td>14.275292</td>\n",
       "      <td>3038.021244</td>\n",
       "      <td>433.686407</td>\n",
       "      <td>185.511340</td>\n",
       "    </tr>\n",
       "    <tr>\n",
       "      <td>4</td>\n",
       "      <td>Ethiopian Airlines</td>\n",
       "      <td>ZUCK</td>\n",
       "      <td>VIDP</td>\n",
       "      <td>Chongqing Jiangbei International Airport</td>\n",
       "      <td>29.719200</td>\n",
       "      <td>106.641998</td>\n",
       "      <td>Indira Gandhi International Airport</td>\n",
       "      <td>28.5665</td>\n",
       "      <td>77.103104</td>\n",
       "      <td>Ethiopian Airlines</td>\n",
       "      <td>6.106321</td>\n",
       "      <td>14.275292</td>\n",
       "      <td>2864.765565</td>\n",
       "      <td>408.953653</td>\n",
       "      <td>174.931792</td>\n",
       "    </tr>\n",
       "  </tbody>\n",
       "</table>\n",
       "</div>"
      ],
      "text/plain": [
       "             operator departure destination  \\\n",
       "0  Ethiopian Airlines      OLBA        VIDP   \n",
       "1  Ethiopian Airlines      LEMD        VIDP   \n",
       "2  Ethiopian Airlines      LLBG        VIDP   \n",
       "3  Ethiopian Airlines      OERK        VIDP   \n",
       "4  Ethiopian Airlines      ZUCK        VIDP   \n",
       "\n",
       "                                    name_dep    lat_dep    long_dep  \\\n",
       "0  Beirut Rafic Hariri International Airport  33.820900   35.488400   \n",
       "1       Adolfo Suárez Madrid–Barajas Airport  40.471926   -3.562640   \n",
       "2           Ben Gurion International Airport  32.011398   34.886700   \n",
       "3          King Khaled International Airport  24.957600   46.698799   \n",
       "4   Chongqing Jiangbei International Airport  29.719200  106.641998   \n",
       "\n",
       "                             name_dest  lat_dest  long_dest  \\\n",
       "0  Indira Gandhi International Airport   28.5665  77.103104   \n",
       "1  Indira Gandhi International Airport   28.5665  77.103104   \n",
       "2  Indira Gandhi International Airport   28.5665  77.103104   \n",
       "3  Indira Gandhi International Airport   28.5665  77.103104   \n",
       "4  Indira Gandhi International Airport   28.5665  77.103104   \n",
       "\n",
       "             Operator  CO2 per seat kg/100km  CO2 kg/km     distance  \\\n",
       "0  Ethiopian Airlines               6.106321  14.275292  3975.573512   \n",
       "1  Ethiopian Airlines               6.106321  14.275292  6676.170542   \n",
       "2  Ethiopian Airlines               6.106321  14.275292  4047.381070   \n",
       "3  Ethiopian Airlines               6.106321  14.275292  3038.021244   \n",
       "4  Ethiopian Airlines               6.106321  14.275292  2864.765565   \n",
       "\n",
       "       CO2 kg  CO2 per seat kg  \n",
       "0  567.524732       242.761295  \n",
       "1  953.042846       407.668428  \n",
       "2  577.775470       247.146095  \n",
       "3  433.686407       185.511340  \n",
       "4  408.953653       174.931792  "
      ]
     },
     "execution_count": 365,
     "metadata": {},
     "output_type": "execute_result"
    }
   ],
   "source": [
    "# Get a smaller dataset with flight routes, model is not interesting because we'll consider average co2 emissions/companies\n",
    "# later on\n",
    "clean_routes = merged_route[['operator', 'departure', 'destination', 'name_dep',\n",
    "       'lat_dep', 'long_dep', 'name_dest', 'lat_dest', 'long_dest']]\n",
    "\n",
    "# Retrieve co2 emissions information for each companies\n",
    "co2_airlines_dataset = plot_airlines[['Operator', 'CO2 per seat kg/100km', 'CO2 kg/km']]\n",
    "\n",
    "# Merge the two previous datasets\n",
    "co2_dataset = pd.merge(left=clean_routes,right=co2_airlines_dataset, left_on='operator', right_on='Operator')\n",
    "co2_dataset = co2_dataset.drop_duplicates()\n",
    "\n",
    "# Add columns to the dataset\n",
    "co2_dataset['distance'] = co2_dataset[['lat_dep', 'long_dep', 'lat_dest', 'long_dest']].apply(distance_from_row, axis=1)\n",
    "co2_dataset['CO2 kg'] = co2_dataset[['distance', 'CO2 kg/km']].apply(co2_total, axis=1)\n",
    "co2_dataset['CO2 per seat kg'] = co2_dataset[['distance', 'CO2 per seat kg/100km']].apply(co2_total_per_seat, axis=1)\n",
    "\n",
    "# Clean the dataset\n",
    "co2_dataset = co2_dataset[co2_dataset.distance != 0]\n",
    "co2_dataset = co2_dataset.reset_index().drop('index', axis=1)\n",
    "\n",
    "# Get the less polluting company for each route\n",
    "idx = co2_dataset.groupby(['departure', 'destination'])['CO2 per seat kg/100km'].transform(min) == co2_dataset['CO2 per seat kg/100km']\n",
    "co2_dataset_bestcompany = co2_dataset[idx]\n",
    "co2_dataset_bestcompany.head()"
   ]
  },
  {
   "cell_type": "code",
   "execution_count": 368,
   "metadata": {},
   "outputs": [
    {
     "data": {
      "application/vnd.plotly.v1+json": {
       "config": {
        "plotlyServerURL": "https://plot.ly"
       },
       "data": [
        {
         "lat": [
          46.23809814453125,
          48.110298156738004
         ],
         "line": {
          "color": "#469d00",
          "width": 1
         },
         "lon": [
          6.108950138092041,
          16.569700241089002
         ],
         "mode": "lines",
         "opacity": 1,
         "type": "scattergeo"
        },
        {
         "lat": [
          46.23809814453125,
          45.6306
         ],
         "line": {
          "color": "#469d00",
          "width": 1
         },
         "lon": [
          6.108950138092041,
          8.728110000000001
         ],
         "mode": "lines",
         "opacity": 1,
         "type": "scattergeo"
        },
        {
         "lat": [
          46.23809814453125,
          40.976898
         ],
         "line": {
          "color": "#239000",
          "width": 1
         },
         "lon": [
          6.108950138092041,
          28.8146
         ],
         "mode": "lines",
         "opacity": 1,
         "type": "scattergeo"
        },
        {
         "lat": [
          46.23809814453125,
          40.99300003051758
         ],
         "line": {
          "color": "#239000",
          "width": 1
         },
         "lon": [
          6.108950138092041,
          29.21649932861328
         ],
         "mode": "lines",
         "opacity": 1,
         "type": "scattergeo"
        },
        {
         "lat": [
          46.23809814453125,
          47.464698999999996
         ],
         "line": {
          "color": "#319500",
          "width": 1
         },
         "lon": [
          6.108950138092041,
          8.54917
         ],
         "mode": "lines",
         "opacity": 1,
         "type": "scattergeo"
        },
        {
         "lat": [
          46.23809814453125,
          25.273056
         ],
         "line": {
          "color": "#319500",
          "width": 1
         },
         "lon": [
          6.108950138092041,
          51.608056
         ],
         "mode": "lines",
         "opacity": 1,
         "type": "scattergeo"
        },
        {
         "lat": [
          46.23809814453125,
          25.261101
         ],
         "line": {
          "color": "#319500",
          "width": 1
         },
         "lon": [
          6.108950138092041,
          51.565102
         ],
         "mode": "lines",
         "opacity": 1,
         "type": "scattergeo"
        },
        {
         "lat": [
          46.23809814453125,
          51.4706
         ],
         "line": {
          "color": "#319500",
          "width": 1
         },
         "lon": [
          6.108950138092041,
          -0.461941
         ],
         "mode": "lines",
         "opacity": 1,
         "type": "scattergeo"
        },
        {
         "lat": [
          46.23809814453125,
          22.308901000000002
         ],
         "line": {
          "color": "#319500",
          "width": 1
         },
         "lon": [
          6.108950138092041,
          113.915001
         ],
         "mode": "lines",
         "opacity": 1,
         "type": "scattergeo"
        },
        {
         "lat": [
          46.23809814453125,
          35.552299
         ],
         "line": {
          "color": "#319500",
          "width": 1
         },
         "lon": [
          6.108950138092041,
          139.779999
         ],
         "mode": "lines",
         "opacity": 1,
         "type": "scattergeo"
        },
        {
         "lat": [
          46.23809814453125,
          39.87189865112305
         ],
         "line": {
          "color": "#319500",
          "width": 1
         },
         "lon": [
          6.108950138092041,
          -75.24109649658203
         ],
         "mode": "lines",
         "opacity": 1,
         "type": "scattergeo"
        },
        {
         "lat": [
          46.23809814453125,
          -6.1255698204
         ],
         "line": {
          "color": "#319500",
          "width": 1
         },
         "lon": [
          6.108950138092041,
          106.65599823
         ],
         "mode": "lines",
         "opacity": 1,
         "type": "scattergeo"
        },
        {
         "lat": [
          46.23809814453125,
          40.63980103
         ],
         "line": {
          "color": "#319500",
          "width": 1
         },
         "lon": [
          6.108950138092041,
          -73.77890015
         ],
         "mode": "lines",
         "opacity": 1,
         "type": "scattergeo"
        },
        {
         "lat": [
          46.23809814453125,
          40.471926
         ],
         "line": {
          "color": "#319500",
          "width": 1
         },
         "lon": [
          6.108950138092041,
          -3.56264
         ],
         "mode": "lines",
         "opacity": 1,
         "type": "scattergeo"
        },
        {
         "lat": [
          46.23809814453125,
          46.40639877319336
         ],
         "line": {
          "color": "#319500",
          "width": 1
         },
         "lon": [
          6.108950138092041,
          6.258059978485107
         ],
         "mode": "lines",
         "opacity": 1,
         "type": "scattergeo"
        },
        {
         "lat": [
          46.23809814453125,
          15.186
         ],
         "line": {
          "color": "#319500",
          "width": 1
         },
         "lon": [
          6.108950138092041,
          120.559998
         ],
         "mode": "lines",
         "opacity": 1,
         "type": "scattergeo"
        },
        {
         "lat": [
          46.23809814453125,
          48.969398498535156
         ],
         "line": {
          "color": "#469d00",
          "width": 1
         },
         "lon": [
          6.108950138092041,
          2.441390037536621
         ],
         "mode": "lines",
         "opacity": 1,
         "type": "scattergeo"
        },
        {
         "lat": [
          46.23809814453125,
          48.92779922485352
         ],
         "line": {
          "color": "#469d00",
          "width": 1
         },
         "lon": [
          6.108950138092041,
          2.835279941558838
         ],
         "mode": "lines",
         "opacity": 1,
         "type": "scattergeo"
        },
        {
         "lat": [
          46.23809814453125,
          48.83769989013672
         ],
         "line": {
          "color": "#469d00",
          "width": 1
         },
         "lon": [
          6.108950138092041,
          3.016119956970215
         ],
         "mode": "lines",
         "opacity": 1,
         "type": "scattergeo"
        },
        {
         "lat": [
          46.23809814453125,
          49.0672
         ],
         "line": {
          "color": "#469d00",
          "width": 1
         },
         "lon": [
          6.108950138092041,
          3.3569400000000003
         ],
         "mode": "lines",
         "opacity": 1,
         "type": "scattergeo"
        },
        {
         "lat": [
          46.23809814453125,
          49.046397999999996
         ],
         "line": {
          "color": "#469d00",
          "width": 1
         },
         "lon": [
          6.108950138092041,
          2.3530599999999997
         ],
         "mode": "lines",
         "opacity": 1,
         "type": "scattergeo"
        },
        {
         "lat": [
          46.23809814453125,
          50.033333
         ],
         "line": {
          "color": "#469d00",
          "width": 1
         },
         "lon": [
          6.108950138092041,
          8.570556
         ],
         "mode": "lines",
         "opacity": 1,
         "type": "scattergeo"
        },
        {
         "lat": [
          46.23809814453125,
          48.353802
         ],
         "line": {
          "color": "#469d00",
          "width": 1
         },
         "lon": [
          6.108950138092041,
          11.7861
         ],
         "mode": "lines",
         "opacity": 1,
         "type": "scattergeo"
        },
        {
         "lat": [
          46.23809814453125,
          25.252799987800003
         ],
         "line": {
          "color": "#80af00",
          "width": 1
         },
         "lon": [
          6.108950138092041,
          55.3643989563
         ],
         "mode": "lines",
         "opacity": 1,
         "type": "scattergeo"
        },
        {
         "lat": [
          46.23809814453125,
          42.696693420410156
         ],
         "line": {
          "color": "#f00",
          "width": 1
         },
         "lon": [
          6.108950138092041,
          23.411436080932614
         ],
         "mode": "lines",
         "opacity": 1,
         "type": "scattergeo"
        },
        {
         "lat": [
          46.23809814453125,
          44.5711111
         ],
         "line": {
          "color": "#f00",
          "width": 1
         },
         "lon": [
          6.108950138092041,
          26.085
         ],
         "mode": "lines",
         "opacity": 1,
         "type": "scattergeo"
        },
        {
         "lat": [
          46.23809814453125,
          49.012798
         ],
         "line": {
          "color": "#3f9a00",
          "width": 1
         },
         "lon": [
          6.108950138092041,
          2.55
         ],
         "mode": "lines",
         "opacity": 1,
         "type": "scattergeo"
        },
        {
         "lat": [
          46.23809814453125,
          14.67
         ],
         "line": {
          "color": "#3f9a00",
          "width": 1
         },
         "lon": [
          6.108950138092041,
          -17.073332999999998
         ],
         "mode": "lines",
         "opacity": 1,
         "type": "scattergeo"
        },
        {
         "lat": [
          46.23809814453125,
          33.36750030517578
         ],
         "line": {
          "color": "#3f9a00",
          "width": 1
         },
         "lon": [
          6.108950138092041,
          -7.589970111846924
         ],
         "mode": "lines",
         "opacity": 1,
         "type": "scattergeo"
        },
        {
         "lat": [
          46.23809814453125,
          38.7813
         ],
         "line": {
          "color": "#3f9a00",
          "width": 1
         },
         "lon": [
          6.108950138092041,
          -9.13592
         ],
         "mode": "lines",
         "opacity": 1,
         "type": "scattergeo"
        },
        {
         "lat": [
          46.23809814453125,
          14.739700317382812
         ],
         "line": {
          "color": "#3f9a00",
          "width": 1
         },
         "lon": [
          6.108950138092041,
          -17.49020004272461
         ],
         "mode": "lines",
         "opacity": 1,
         "type": "scattergeo"
        },
        {
         "lat": [
          46.23809814453125,
          11.894800186157227
         ],
         "line": {
          "color": "#3f9a00",
          "width": 1
         },
         "lon": [
          6.108950138092041,
          -15.65369987487793
         ],
         "mode": "lines",
         "opacity": 1,
         "type": "scattergeo"
        },
        {
         "lat": [
          46.23809814453125,
          45.725556
         ],
         "line": {
          "color": "#3f9a00",
          "width": 1
         },
         "lon": [
          6.108950138092041,
          5.081111
         ],
         "mode": "lines",
         "opacity": 1,
         "type": "scattergeo"
        },
        {
         "lat": [
          46.23809814453125,
          18.31
         ],
         "line": {
          "color": "#3f9a00",
          "width": 1
         },
         "lon": [
          6.108950138092041,
          -15.969722199999998
         ],
         "mode": "lines",
         "opacity": 1,
         "type": "scattergeo"
        },
        {
         "lat": [
          46.23809814453125,
          43.522701
         ],
         "line": {
          "color": "#3f9a00",
          "width": 1
         },
         "lon": [
          6.108950138092041,
          4.92384
         ],
         "mode": "lines",
         "opacity": 1,
         "type": "scattergeo"
        },
        {
         "lat": [
          46.23809814453125,
          13.338000297546387
         ],
         "line": {
          "color": "#3f9a00",
          "width": 1
         },
         "lon": [
          6.108950138092041,
          -16.65220069885254
         ],
         "mode": "lines",
         "opacity": 1,
         "type": "scattergeo"
        },
        {
         "lat": [
          46.23809814453125,
          59.41329956049999
         ],
         "line": {
          "color": "#3f9a00",
          "width": 1
         },
         "lon": [
          6.108950138092041,
          24.8327999115
         ],
         "mode": "lines",
         "opacity": 1,
         "type": "scattergeo"
        },
        {
         "lat": [
          46.23809814453125,
          14.924500465393065
         ],
         "line": {
          "color": "#3f9a00",
          "width": 1
         },
         "lon": [
          6.108950138092041,
          -23.49349975585937
         ],
         "mode": "lines",
         "opacity": 1,
         "type": "scattergeo"
        },
        {
         "lat": [
          46.23809814453125,
          33.655398999999996
         ],
         "line": {
          "color": "#3f9a00",
          "width": 1
         },
         "lon": [
          6.108950138092041,
          -7.22145
         ],
         "mode": "lines",
         "opacity": 1,
         "type": "scattergeo"
        },
        {
         "lat": [
          46.23809814453125,
          32.011398315429695
         ],
         "line": {
          "color": "#1d8d00",
          "width": 1
         },
         "lon": [
          6.108950138092041,
          34.88669967651367
         ],
         "mode": "lines",
         "opacity": 1,
         "type": "scattergeo"
        },
        {
         "lat": [
          46.23809814453125,
          50.9014015198
         ],
         "line": {
          "color": "#1d8d00",
          "width": 1
         },
         "lon": [
          6.108950138092041,
          4.48443984985
         ],
         "mode": "lines",
         "opacity": 1,
         "type": "scattergeo"
        },
        {
         "lat": [
          46.23809814453125,
          52.1656990051
         ],
         "line": {
          "color": "#1d8d00",
          "width": 1
         },
         "lon": [
          6.108950138092041,
          20.9671001434
         ],
         "mode": "lines",
         "opacity": 1,
         "type": "scattergeo"
        },
        {
         "lat": [
          46.23809814453125,
          37.9364013672
         ],
         "line": {
          "color": "#058300",
          "width": 1
         },
         "lon": [
          6.108950138092041,
          23.944499969499997
         ],
         "mode": "lines",
         "opacity": 1,
         "type": "scattergeo"
        },
        {
         "lat": [
          46.23809814453125,
          37.893299
         ],
         "line": {
          "color": "#058300",
          "width": 1
         },
         "lon": [
          6.108950138092041,
          23.726101
         ],
         "mode": "lines",
         "opacity": 1,
         "type": "scattergeo"
        },
        {
         "lat": [
          46.23809814453125,
          38.1088981628418
         ],
         "line": {
          "color": "#058300",
          "width": 1
         },
         "lon": [
          6.108950138092041,
          23.78380012512207
         ],
         "mode": "lines",
         "opacity": 1,
         "type": "scattergeo"
        },
        {
         "lat": [
          46.23809814453125,
          51.40230178833008
         ],
         "line": {
          "color": "#469d00",
          "width": 1
         },
         "lon": [
          6.108950138092041,
          6.9373297691345215
         ],
         "mode": "lines",
         "opacity": 1,
         "type": "scattergeo"
        },
        {
         "lat": [
          46.23809814453125,
          51.330799102799986
         ],
         "line": {
          "color": "#469d00",
          "width": 1
         },
         "lon": [
          6.108950138092041,
          0.032499998807900006
         ],
         "mode": "lines",
         "opacity": 1,
         "type": "scattergeo"
        },
        {
         "lat": [
          46.23809814453125,
          51.148102
         ],
         "line": {
          "color": "#469d00",
          "width": 1
         },
         "lon": [
          6.108950138092041,
          -0.190278
         ],
         "mode": "lines",
         "opacity": 1,
         "type": "scattergeo"
        },
        {
         "lat": [
          46.23809814453125,
          60.121
         ],
         "line": {
          "color": "#469d00",
          "width": 1
         },
         "lon": [
          6.108950138092041,
          11.0502
         ],
         "mode": "lines",
         "opacity": 1,
         "type": "scattergeo"
        },
        {
         "lat": [
          46.23809814453125,
          51.505299
         ],
         "line": {
          "color": "#469d00",
          "width": 1
         },
         "lon": [
          6.108950138092041,
          0.055277999999999994
         ],
         "mode": "lines",
         "opacity": 1,
         "type": "scattergeo"
        },
        {
         "lat": [
          46.23809814453125,
          51.5530014038
         ],
         "line": {
          "color": "#469d00",
          "width": 1
         },
         "lon": [
          6.108950138092041,
          -0.418166995049
         ],
         "mode": "lines",
         "opacity": 1,
         "type": "scattergeo"
        },
        {
         "lat": [
          46.23809814453125,
          51.2136001587
         ],
         "line": {
          "color": "#469d00",
          "width": 1
         },
         "lon": [
          6.108950138092041,
          -0.138611003757
         ],
         "mode": "lines",
         "opacity": 1,
         "type": "scattergeo"
        },
        {
         "lat": [
          46.23809814453125,
          51.469722747799985
         ],
         "line": {
          "color": "#469d00",
          "width": 1
         },
         "lon": [
          6.108950138092041,
          -0.179444000125
         ],
         "mode": "lines",
         "opacity": 1,
         "type": "scattergeo"
        },
        {
         "lat": [
          46.23809814453125,
          51.5008010864
         ],
         "line": {
          "color": "#469d00",
          "width": 1
         },
         "lon": [
          6.108950138092041,
          -0.774443984032
         ],
         "mode": "lines",
         "opacity": 1,
         "type": "scattergeo"
        },
        {
         "lat": [
          46.23809814453125,
          51.6557998657
         ],
         "line": {
          "color": "#469d00",
          "width": 1
         },
         "lon": [
          6.108950138092041,
          -0.325832992792
         ],
         "mode": "lines",
         "opacity": 1,
         "type": "scattergeo"
        },
        {
         "lat": [
          46.23809814453125,
          51.65250015260001
         ],
         "line": {
          "color": "#469d00",
          "width": 1
         },
         "lon": [
          6.108950138092041,
          0.15583300590500002
         ],
         "mode": "lines",
         "opacity": 1,
         "type": "scattergeo"
        },
        {
         "lat": [
          46.23809814453125,
          41.7994
         ],
         "line": {
          "color": "#3f9a00",
          "width": 1
         },
         "lon": [
          6.108950138092041,
          12.5949
         ],
         "mode": "lines",
         "opacity": 1,
         "type": "scattergeo"
        },
        {
         "lat": [
          46.23809814453125,
          41.800277799999996
         ],
         "line": {
          "color": "#3f9a00",
          "width": 1
         },
         "lon": [
          6.108950138092041,
          12.238888900000001
         ],
         "mode": "lines",
         "opacity": 1,
         "type": "scattergeo"
        },
        {
         "lat": [
          46.23809814453125,
          45.445099
         ],
         "line": {
          "color": "#3f9a00",
          "width": 1
         },
         "lon": [
          6.108950138092041,
          9.27674
         ],
         "mode": "lines",
         "opacity": 1,
         "type": "scattergeo"
        },
        {
         "lat": [
          46.23809814453125,
          42.430199
         ],
         "line": {
          "color": "#3f9a00",
          "width": 1
         },
         "lon": [
          6.108950138092041,
          12.0642
         ],
         "mode": "lines",
         "opacity": 1,
         "type": "scattergeo"
        },
        {
         "lat": [
          46.23809814453125,
          41.654499
         ],
         "line": {
          "color": "#3f9a00",
          "width": 1
         },
         "lon": [
          6.108950138092041,
          12.4452
         ],
         "mode": "lines",
         "opacity": 1,
         "type": "scattergeo"
        },
        {
         "lat": [
          46.23809814453125,
          50.63740158081055
         ],
         "line": {
          "color": "#56a200",
          "width": 1
         },
         "lon": [
          6.108950138092041,
          5.443220138549805
         ],
         "mode": "lines",
         "opacity": 1,
         "type": "scattergeo"
        },
        {
         "lat": [
          46.23809814453125,
          45.505299
         ],
         "line": {
          "color": "#56a200",
          "width": 1
         },
         "lon": [
          6.108950138092041,
          12.3519
         ],
         "mode": "lines",
         "opacity": 1,
         "type": "scattergeo"
        },
        {
         "lat": [
          46.23809814453125,
          50.459202000000005
         ],
         "line": {
          "color": "#56a200",
          "width": 1
         },
         "lon": [
          6.108950138092041,
          4.4538199999999994
         ],
         "mode": "lines",
         "opacity": 1,
         "type": "scattergeo"
        },
        {
         "lat": [
          46.23809814453125,
          51.21166610717773
         ],
         "line": {
          "color": "#56a200",
          "width": 1
         },
         "lon": [
          6.108950138092041,
          4.580832958221436
         ],
         "mode": "lines",
         "opacity": 1,
         "type": "scattergeo"
        },
        {
         "lat": [
          46.23809814453125,
          51.264702
         ],
         "line": {
          "color": "#56a200",
          "width": 1
         },
         "lon": [
          6.108950138092041,
          4.75333
         ],
         "mode": "lines",
         "opacity": 1,
         "type": "scattergeo"
        },
        {
         "lat": [
          46.23809814453125,
          39.551700591999996
         ],
         "line": {
          "color": "#56a200",
          "width": 1
         },
         "lon": [
          6.108950138092041,
          2.73881006241
         ],
         "mode": "lines",
         "opacity": 1,
         "type": "scattergeo"
        },
        {
         "lat": [
          46.23809814453125,
          51.189399719200004
         ],
         "line": {
          "color": "#56a200",
          "width": 1
         },
         "lon": [
          6.108950138092041,
          4.46027994156
         ],
         "mode": "lines",
         "opacity": 1,
         "type": "scattergeo"
        },
        {
         "lat": [
          46.23809814453125,
          38.905398999999996
         ],
         "line": {
          "color": "#56a200",
          "width": 1
         },
         "lon": [
          6.108950138092041,
          16.2423
         ],
         "mode": "lines",
         "opacity": 1,
         "type": "scattergeo"
        },
        {
         "lat": [
          46.23809814453125,
          50.487999
         ],
         "line": {
          "color": "#56a200",
          "width": 1
         },
         "lon": [
          6.108950138092041,
          4.76892
         ],
         "mode": "lines",
         "opacity": 1,
         "type": "scattergeo"
        },
        {
         "lat": [
          46.23809814453125,
          50.791901
         ],
         "line": {
          "color": "#56a200",
          "width": 1
         },
         "lon": [
          6.108950138092041,
          5.20167
         ],
         "mode": "lines",
         "opacity": 1,
         "type": "scattergeo"
        },
        {
         "lat": [
          46.23809814453125,
          50.75859832763672
         ],
         "line": {
          "color": "#56a200",
          "width": 1
         },
         "lon": [
          6.108950138092041,
          4.768330097198486
         ],
         "mode": "lines",
         "opacity": 1,
         "type": "scattergeo"
        },
        {
         "lat": [
          46.23809814453125,
          50.781700134277344
         ],
         "line": {
          "color": "#56a200",
          "width": 1
         },
         "lon": [
          6.108950138092041,
          4.957779884338379
         ],
         "mode": "lines",
         "opacity": 1,
         "type": "scattergeo"
        },
        {
         "lat": [
          46.23809814453125,
          50.2433013916
         ],
         "line": {
          "color": "#56a200",
          "width": 1
         },
         "lon": [
          6.108950138092041,
          4.64583015442
         ],
         "mode": "lines",
         "opacity": 1,
         "type": "scattergeo"
        },
        {
         "lat": [
          46.23809814453125,
          51.12
         ],
         "line": {
          "color": "#56a200",
          "width": 1
         },
         "lon": [
          6.108950138092041,
          5.3072222
         ],
         "mode": "lines",
         "opacity": 1,
         "type": "scattergeo"
        },
        {
         "lat": [
          46.23809814453125,
          50.482498
         ],
         "line": {
          "color": "#56a200",
          "width": 1
         },
         "lon": [
          6.108950138092041,
          5.9103
         ],
         "mode": "lines",
         "opacity": 1,
         "type": "scattergeo"
        },
        {
         "lat": [
          46.23809814453125,
          50.970001
         ],
         "line": {
          "color": "#56a200",
          "width": 1
         },
         "lon": [
          6.108950138092041,
          5.37507
         ],
         "mode": "lines",
         "opacity": 1,
         "type": "scattergeo"
        },
        {
         "lat": [
          46.23809814453125,
          13.681099891662598
         ],
         "line": {
          "color": "#a6b900",
          "width": 1
         },
         "lon": [
          6.108950138092041,
          100.74700164794922
         ],
         "mode": "lines",
         "opacity": 1,
         "type": "scattergeo"
        },
        {
         "lat": [
          46.23809814453125,
          40.69250106811523
         ],
         "line": {
          "color": "#319500",
          "width": 1
         },
         "lon": [
          6.108950138092041,
          -74.168701171875
         ],
         "mode": "lines",
         "opacity": 1,
         "type": "scattergeo"
        },
        {
         "lat": [
          46.23809814453125,
          53.421299
         ],
         "line": {
          "color": "#1d8d00",
          "width": 1
         },
         "lon": [
          6.108950138092041,
          -6.27007
         ],
         "mode": "lines",
         "opacity": 1,
         "type": "scattergeo"
        },
        {
         "lat": [
          46.23809814453125,
          53.352199554399995
         ],
         "line": {
          "color": "#1d8d00",
          "width": 1
         },
         "lon": [
          6.108950138092041,
          -6.48611021042
         ],
         "mode": "lines",
         "opacity": 1,
         "type": "scattergeo"
        },
        {
         "lat": [
          46.23809814453125,
          53.301700591999996
         ],
         "line": {
          "color": "#1d8d00",
          "width": 1
         },
         "lon": [
          6.108950138092041,
          -6.451330184940001
         ],
         "mode": "lines",
         "opacity": 1,
         "type": "scattergeo"
        },
        {
         "lat": [
          46.23809814453125,
          52.308601
         ],
         "line": {
          "color": "#239000",
          "width": 1
         },
         "lon": [
          6.108950138092041,
          4.76389
         ],
         "mode": "lines",
         "opacity": 1,
         "type": "scattergeo"
        },
        {
         "lat": [
          46.23809814453125,
          51.956902
         ],
         "line": {
          "color": "#239000",
          "width": 1
         },
         "lon": [
          6.108950138092041,
          4.43722
         ],
         "mode": "lines",
         "opacity": 1,
         "type": "scattergeo"
        },
        {
         "lat": [
          46.23809814453125,
          54.377601623535156
         ],
         "line": {
          "color": "#f00",
          "width": 1
         },
         "lon": [
          6.108950138092041,
          18.46619987487793
         ],
         "mode": "lines",
         "opacity": 1,
         "type": "scattergeo"
        },
        {
         "lat": [
          46.23809814453125,
          56.92359924316406
         ],
         "line": {
          "color": "#319500",
          "width": 1
         },
         "lon": [
          6.108950138092041,
          23.971099853515625
         ],
         "mode": "lines",
         "opacity": 1,
         "type": "scattergeo"
        },
        {
         "lat": [
          46.23809814453125,
          56.9422
         ],
         "line": {
          "color": "#319500",
          "width": 1
         },
         "lon": [
          6.108950138092041,
          23.2239
         ],
         "mode": "lines",
         "opacity": 1,
         "type": "scattergeo"
        },
        {
         "lat": [
          47.464698999999996,
          47.59
         ],
         "line": {
          "color": "#469d00",
          "width": 1
         },
         "lon": [
          8.54917,
          7.5291667
         ],
         "mode": "lines",
         "opacity": 1,
         "type": "scattergeo"
        },
        {
         "lat": [
          47.464698999999996,
          48.32229995727539
         ],
         "line": {
          "color": "#469d00",
          "width": 1
         },
         "lon": [
          8.54917,
          11.948699951171875
         ],
         "mode": "lines",
         "opacity": 1,
         "type": "scattergeo"
        },
        {
         "lat": [
          47.464698999999996,
          40.976898
         ],
         "line": {
          "color": "#239000",
          "width": 1
         },
         "lon": [
          8.54917,
          28.8146
         ],
         "mode": "lines",
         "opacity": 1,
         "type": "scattergeo"
        },
        {
         "lat": [
          47.464698999999996,
          41.13819885253906
         ],
         "line": {
          "color": "#239000",
          "width": 1
         },
         "lon": [
          8.54917,
          27.919099807739254
         ],
         "mode": "lines",
         "opacity": 1,
         "type": "scattergeo"
        },
        {
         "lat": [
          47.464698999999996,
          25.273056
         ],
         "line": {
          "color": "#319500",
          "width": 1
         },
         "lon": [
          8.54917,
          51.608056
         ],
         "mode": "lines",
         "opacity": 1,
         "type": "scattergeo"
        },
        {
         "lat": [
          47.464698999999996,
          13.681099891662598
         ],
         "line": {
          "color": "#319500",
          "width": 1
         },
         "lon": [
          8.54917,
          100.74700164794922
         ],
         "mode": "lines",
         "opacity": 1,
         "type": "scattergeo"
        },
        {
         "lat": [
          47.464698999999996,
          25.261101
         ],
         "line": {
          "color": "#319500",
          "width": 1
         },
         "lon": [
          8.54917,
          51.565102
         ],
         "mode": "lines",
         "opacity": 1,
         "type": "scattergeo"
        },
        {
         "lat": [
          47.464698999999996,
          51.4706
         ],
         "line": {
          "color": "#319500",
          "width": 1
         },
         "lon": [
          8.54917,
          -0.461941
         ],
         "mode": "lines",
         "opacity": 1,
         "type": "scattergeo"
        },
        {
         "lat": [
          47.464698999999996,
          22.308901000000002
         ],
         "line": {
          "color": "#319500",
          "width": 1
         },
         "lon": [
          8.54917,
          113.915001
         ],
         "mode": "lines",
         "opacity": 1,
         "type": "scattergeo"
        },
        {
         "lat": [
          47.464698999999996,
          48.969398498535156
         ],
         "line": {
          "color": "#319500",
          "width": 1
         },
         "lon": [
          8.54917,
          2.441390037536621
         ],
         "mode": "lines",
         "opacity": 1,
         "type": "scattergeo"
        },
        {
         "lat": [
          47.464698999999996,
          35.552299
         ],
         "line": {
          "color": "#319500",
          "width": 1
         },
         "lon": [
          8.54917,
          139.779999
         ],
         "mode": "lines",
         "opacity": 1,
         "type": "scattergeo"
        },
        {
         "lat": [
          47.464698999999996,
          48.110298156738004
         ],
         "line": {
          "color": "#319500",
          "width": 1
         },
         "lon": [
          8.54917,
          16.569700241089002
         ],
         "mode": "lines",
         "opacity": 1,
         "type": "scattergeo"
        },
        {
         "lat": [
          47.464698999999996,
          45.6306
         ],
         "line": {
          "color": "#319500",
          "width": 1
         },
         "lon": [
          8.54917,
          8.728110000000001
         ],
         "mode": "lines",
         "opacity": 1,
         "type": "scattergeo"
        },
        {
         "lat": [
          47.464698999999996,
          -6.1255698204
         ],
         "line": {
          "color": "#319500",
          "width": 1
         },
         "lon": [
          8.54917,
          106.65599823
         ],
         "mode": "lines",
         "opacity": 1,
         "type": "scattergeo"
        },
        {
         "lat": [
          47.464698999999996,
          23.843347
         ],
         "line": {
          "color": "#319500",
          "width": 1
         },
         "lon": [
          8.54917,
          90.39778299999999
         ],
         "mode": "lines",
         "opacity": 1,
         "type": "scattergeo"
        },
        {
         "lat": [
          47.464698999999996,
          40.63980103
         ],
         "line": {
          "color": "#319500",
          "width": 1
         },
         "lon": [
          8.54917,
          -73.77890015
         ],
         "mode": "lines",
         "opacity": 1,
         "type": "scattergeo"
        },
        {
         "lat": [
          47.464698999999996,
          40.471926
         ],
         "line": {
          "color": "#319500",
          "width": 1
         },
         "lon": [
          8.54917,
          -3.56264
         ],
         "mode": "lines",
         "opacity": 1,
         "type": "scattergeo"
        },
        {
         "lat": [
          47.464698999999996,
          39.9429016113
         ],
         "line": {
          "color": "#319500",
          "width": 1
         },
         "lon": [
          8.54917,
          -74.845703125
         ],
         "mode": "lines",
         "opacity": 1,
         "type": "scattergeo"
        },
        {
         "lat": [
          47.464698999999996,
          -34.945
         ],
         "line": {
          "color": "#319500",
          "width": 1
         },
         "lon": [
          8.54917,
          138.53100600000002
         ],
         "mode": "lines",
         "opacity": 1,
         "type": "scattergeo"
        },
        {
         "lat": [
          47.464698999999996,
          25.117300033600003
         ],
         "line": {
          "color": "#319500",
          "width": 1
         },
         "lon": [
          8.54917,
          51.3149986267
         ],
         "mode": "lines",
         "opacity": 1,
         "type": "scattergeo"
        },
        {
         "lat": [
          47.464698999999996,
          50.033333
         ],
         "line": {
          "color": "#469d00",
          "width": 1
         },
         "lon": [
          8.54917,
          8.570556
         ],
         "mode": "lines",
         "opacity": 1,
         "type": "scattergeo"
        },
        {
         "lat": [
          47.464698999999996,
          43.6772003174
         ],
         "line": {
          "color": "#3f9a00",
          "width": 1
         },
         "lon": [
          8.54917,
          -79.63059997559999
         ],
         "mode": "lines",
         "opacity": 1,
         "type": "scattergeo"
        },
        {
         "lat": [
          47.464698999999996,
          49.193901061999995
         ],
         "line": {
          "color": "#3f9a00",
          "width": 1
         },
         "lon": [
          8.54917,
          -123.183998108
         ],
         "mode": "lines",
         "opacity": 1,
         "type": "scattergeo"
        },
        {
         "lat": [
          47.464698999999996,
          49.012798
         ],
         "line": {
          "color": "#3f9a00",
          "width": 1
         },
         "lon": [
          8.54917,
          2.55
         ],
         "mode": "lines",
         "opacity": 1,
         "type": "scattergeo"
        },
        {
         "lat": [
          47.464698999999996,
          14.67
         ],
         "line": {
          "color": "#3f9a00",
          "width": 1
         },
         "lon": [
          8.54917,
          -17.073332999999998
         ],
         "mode": "lines",
         "opacity": 1,
         "type": "scattergeo"
        },
        {
         "lat": [
          47.464698999999996,
          59.651901245116996
         ],
         "line": {
          "color": "#3f9a00",
          "width": 1
         },
         "lon": [
          8.54917,
          17.918600082397
         ],
         "mode": "lines",
         "opacity": 1,
         "type": "scattergeo"
        },
        {
         "lat": [
          47.464698999999996,
          48.353802
         ],
         "line": {
          "color": "#3f9a00",
          "width": 1
         },
         "lon": [
          8.54917,
          11.7861
         ],
         "mode": "lines",
         "opacity": 1,
         "type": "scattergeo"
        },
        {
         "lat": [
          47.464698999999996,
          53.35369873046875
         ],
         "line": {
          "color": "#3f9a00",
          "width": 1
         },
         "lon": [
          8.54917,
          -2.2749500274658203
         ],
         "mode": "lines",
         "opacity": 1,
         "type": "scattergeo"
        },
        {
         "lat": [
          47.464698999999996,
          48.92779922485352
         ],
         "line": {
          "color": "#3f9a00",
          "width": 1
         },
         "lon": [
          8.54917,
          2.835279941558838
         ],
         "mode": "lines",
         "opacity": 1,
         "type": "scattergeo"
        },
        {
         "lat": [
          47.464698999999996,
          33.36750030517578
         ],
         "line": {
          "color": "#3f9a00",
          "width": 1
         },
         "lon": [
          8.54917,
          -7.589970111846924
         ],
         "mode": "lines",
         "opacity": 1,
         "type": "scattergeo"
        },
        {
         "lat": [
          47.464698999999996,
          46.23809814453125
         ],
         "line": {
          "color": "#3f9a00",
          "width": 1
         },
         "lon": [
          8.54917,
          6.108950138092041
         ],
         "mode": "lines",
         "opacity": 1,
         "type": "scattergeo"
        },
        {
         "lat": [
          47.464698999999996,
          14.739700317382812
         ],
         "line": {
          "color": "#3f9a00",
          "width": 1
         },
         "lon": [
          8.54917,
          -17.49020004272461
         ],
         "mode": "lines",
         "opacity": 1,
         "type": "scattergeo"
        },
        {
         "lat": [
          47.464698999999996,
          46.40639877319336
         ],
         "line": {
          "color": "#3f9a00",
          "width": 1
         },
         "lon": [
          8.54917,
          6.258059978485107
         ],
         "mode": "lines",
         "opacity": 1,
         "type": "scattergeo"
        },
        {
         "lat": [
          47.464698999999996,
          48.554401
         ],
         "line": {
          "color": "#3f9a00",
          "width": 1
         },
         "lon": [
          8.54917,
          7.778060000000001
         ],
         "mode": "lines",
         "opacity": 1,
         "type": "scattergeo"
        },
        {
         "lat": [
          47.464698999999996,
          48.53829956054688
         ],
         "line": {
          "color": "#3f9a00",
          "width": 1
         },
         "lon": [
          8.54917,
          7.628230094909668
         ],
         "mode": "lines",
         "opacity": 1,
         "type": "scattergeo"
        },
        {
         "lat": [
          47.464698999999996,
          13.338000297546387
         ],
         "line": {
          "color": "#3f9a00",
          "width": 1
         },
         "lon": [
          8.54917,
          -16.65220069885254
         ],
         "mode": "lines",
         "opacity": 1,
         "type": "scattergeo"
        },
        {
         "lat": [
          47.464698999999996,
          14.924500465393065
         ],
         "line": {
          "color": "#3f9a00",
          "width": 1
         },
         "lon": [
          8.54917,
          -23.49349975585937
         ],
         "mode": "lines",
         "opacity": 1,
         "type": "scattergeo"
        },
        {
         "lat": [
          47.464698999999996,
          33.655398999999996
         ],
         "line": {
          "color": "#3f9a00",
          "width": 1
         },
         "lon": [
          8.54917,
          -7.22145
         ],
         "mode": "lines",
         "opacity": 1,
         "type": "scattergeo"
        },
        {
         "lat": [
          47.464698999999996,
          51.87469863891602
         ],
         "line": {
          "color": "#1d8d00",
          "width": 1
         },
         "lon": [
          8.54917,
          -0.36833301186561584
         ],
         "mode": "lines",
         "opacity": 1,
         "type": "scattergeo"
        },
        {
         "lat": [
          47.464698999999996,
          32.114700317382805
         ],
         "line": {
          "color": "#1d8d00",
          "width": 1
         },
         "lon": [
          8.54917,
          34.78219985961914
         ],
         "mode": "lines",
         "opacity": 1,
         "type": "scattergeo"
        },
        {
         "lat": [
          47.464698999999996,
          43.439271921999996
         ],
         "line": {
          "color": "#1d8d00",
          "width": 1
         },
         "lon": [
          8.54917,
          5.22142410278
         ],
         "mode": "lines",
         "opacity": 1,
         "type": "scattergeo"
        },
        {
         "lat": [
          47.464698999999996,
          55.40879821777344
         ],
         "line": {
          "color": "#058300",
          "width": 1
         },
         "lon": [
          8.54917,
          37.90629959106445
         ],
         "mode": "lines",
         "opacity": 1,
         "type": "scattergeo"
        },
        {
         "lat": [
          47.464698999999996,
          32.011398315429695
         ],
         "line": {
          "color": "#058300",
          "width": 1
         },
         "lon": [
          8.54917,
          34.88669967651367
         ],
         "mode": "lines",
         "opacity": 1,
         "type": "scattergeo"
        },
        {
         "lat": [
          47.464698999999996,
          37.9364013672
         ],
         "line": {
          "color": "#058300",
          "width": 1
         },
         "lon": [
          8.54917,
          23.944499969499997
         ],
         "mode": "lines",
         "opacity": 1,
         "type": "scattergeo"
        },
        {
         "lat": [
          47.464698999999996,
          34.875099182128906
         ],
         "line": {
          "color": "#058300",
          "width": 1
         },
         "lon": [
          8.54917,
          33.62490081787109
         ],
         "mode": "lines",
         "opacity": 1,
         "type": "scattergeo"
        },
        {
         "lat": [
          47.464698999999996,
          36.40539932250977
         ],
         "line": {
          "color": "#058300",
          "width": 1
         },
         "lon": [
          8.54917,
          28.086200714111328
         ],
         "mode": "lines",
         "opacity": 1,
         "type": "scattergeo"
        },
        {
         "lat": [
          47.464698999999996,
          35.3396987915
         ],
         "line": {
          "color": "#058300",
          "width": 1
         },
         "lon": [
          8.54917,
          25.1802997589
         ],
         "mode": "lines",
         "opacity": 1,
         "type": "scattergeo"
        },
        {
         "lat": [
          47.464698999999996,
          37.893299
         ],
         "line": {
          "color": "#058300",
          "width": 1
         },
         "lon": [
          8.54917,
          23.726101
         ],
         "mode": "lines",
         "opacity": 1,
         "type": "scattergeo"
        },
        {
         "lat": [
          47.464698999999996,
          51.330799102799986
         ],
         "line": {
          "color": "#469d00",
          "width": 1
         },
         "lon": [
          8.54917,
          0.032499998807900006
         ],
         "mode": "lines",
         "opacity": 1,
         "type": "scattergeo"
        },
        {
         "lat": [
          47.464698999999996,
          51.5530014038
         ],
         "line": {
          "color": "#469d00",
          "width": 1
         },
         "lon": [
          8.54917,
          -0.418166995049
         ],
         "mode": "lines",
         "opacity": 1,
         "type": "scattergeo"
        },
        {
         "lat": [
          47.464698999999996,
          51.469722747799985
         ],
         "line": {
          "color": "#469d00",
          "width": 1
         },
         "lon": [
          8.54917,
          -0.179444000125
         ],
         "mode": "lines",
         "opacity": 1,
         "type": "scattergeo"
        },
        {
         "lat": [
          47.464698999999996,
          51.5008010864
         ],
         "line": {
          "color": "#469d00",
          "width": 1
         },
         "lon": [
          8.54917,
          -0.774443984032
         ],
         "mode": "lines",
         "opacity": 1,
         "type": "scattergeo"
        },
        {
         "lat": [
          47.464698999999996,
          51.6557998657
         ],
         "line": {
          "color": "#469d00",
          "width": 1
         },
         "lon": [
          8.54917,
          -0.325832992792
         ],
         "mode": "lines",
         "opacity": 1,
         "type": "scattergeo"
        },
        {
         "lat": [
          47.464698999999996,
          47.843299865722656
         ],
         "line": {
          "color": "#77ac00",
          "width": 1
         },
         "lon": [
          8.54917,
          16.260099411010742
         ],
         "mode": "lines",
         "opacity": 1,
         "type": "scattergeo"
        },
        {
         "lat": [
          47.464698999999996,
          41.800277799999996
         ],
         "line": {
          "color": "#3f9a00",
          "width": 1
         },
         "lon": [
          8.54917,
          12.238888900000001
         ],
         "mode": "lines",
         "opacity": 1,
         "type": "scattergeo"
        },
        {
         "lat": [
          47.464698999999996,
          42.430199
         ],
         "line": {
          "color": "#3f9a00",
          "width": 1
         },
         "lon": [
          8.54917,
          12.0642
         ],
         "mode": "lines",
         "opacity": 1,
         "type": "scattergeo"
        },
        {
         "lat": [
          47.464698999999996,
          41.654499
         ],
         "line": {
          "color": "#3f9a00",
          "width": 1
         },
         "lon": [
          8.54917,
          12.4452
         ],
         "mode": "lines",
         "opacity": 1,
         "type": "scattergeo"
        },
        {
         "lat": [
          47.464698999999996,
          50.63740158081055
         ],
         "line": {
          "color": "#56a200",
          "width": 1
         },
         "lon": [
          8.54917,
          5.443220138549805
         ],
         "mode": "lines",
         "opacity": 1,
         "type": "scattergeo"
        },
        {
         "lat": [
          47.464698999999996,
          50.9014015198
         ],
         "line": {
          "color": "#56a200",
          "width": 1
         },
         "lon": [
          8.54917,
          4.48443984985
         ],
         "mode": "lines",
         "opacity": 1,
         "type": "scattergeo"
        },
        {
         "lat": [
          47.464698999999996,
          51.21166610717773
         ],
         "line": {
          "color": "#56a200",
          "width": 1
         },
         "lon": [
          8.54917,
          4.580832958221436
         ],
         "mode": "lines",
         "opacity": 1,
         "type": "scattergeo"
        },
        {
         "lat": [
          47.464698999999996,
          51.189399719200004
         ],
         "line": {
          "color": "#56a200",
          "width": 1
         },
         "lon": [
          8.54917,
          4.46027994156
         ],
         "mode": "lines",
         "opacity": 1,
         "type": "scattergeo"
        },
        {
         "lat": [
          47.464698999999996,
          37.61899948120117
         ],
         "line": {
          "color": "#319500",
          "width": 1
         },
         "lon": [
          8.54917,
          -122.375
         ],
         "mode": "lines",
         "opacity": 1,
         "type": "scattergeo"
        },
        {
         "lat": [
          47.464698999999996,
          53.421299
         ],
         "line": {
          "color": "#1d8d00",
          "width": 1
         },
         "lon": [
          8.54917,
          -6.27007
         ],
         "mode": "lines",
         "opacity": 1,
         "type": "scattergeo"
        },
        {
         "lat": [
          47.464698999999996,
          53.352199554399995
         ],
         "line": {
          "color": "#1d8d00",
          "width": 1
         },
         "lon": [
          8.54917,
          -6.48611021042
         ],
         "mode": "lines",
         "opacity": 1,
         "type": "scattergeo"
        },
        {
         "lat": [
          47.464698999999996,
          53.301700591999996
         ],
         "line": {
          "color": "#1d8d00",
          "width": 1
         },
         "lon": [
          8.54917,
          -6.451330184940001
         ],
         "mode": "lines",
         "opacity": 1,
         "type": "scattergeo"
        },
        {
         "lat": [
          47.464698999999996,
          50.865898132299996
         ],
         "line": {
          "color": "#469d00",
          "width": 1
         },
         "lon": [
          8.54917,
          7.1427397728
         ],
         "mode": "lines",
         "opacity": 1,
         "type": "scattergeo"
        },
        {
         "lat": [
          47.464698999999996,
          52.5597
         ],
         "line": {
          "color": "#469d00",
          "width": 1
         },
         "lon": [
          8.54917,
          13.2877
         ],
         "mode": "lines",
         "opacity": 1,
         "type": "scattergeo"
        },
        {
         "lat": [
          47.464698999999996,
          51.289501
         ],
         "line": {
          "color": "#469d00",
          "width": 1
         },
         "lon": [
          8.54917,
          6.766780000000001
         ],
         "mode": "lines",
         "opacity": 1,
         "type": "scattergeo"
        },
        {
         "lat": [
          47.464698999999996,
          51.40230178833008
         ],
         "line": {
          "color": "#469d00",
          "width": 1
         },
         "lon": [
          8.54917,
          6.9373297691345215
         ],
         "mode": "lines",
         "opacity": 1,
         "type": "scattergeo"
        },
        {
         "lat": [
          47.464698999999996,
          53.630401611328004
         ],
         "line": {
          "color": "#469d00",
          "width": 1
         },
         "lon": [
          8.54917,
          9.988229751586902
         ],
         "mode": "lines",
         "opacity": 1,
         "type": "scattergeo"
        },
        {
         "lat": [
          47.464698999999996,
          51.230278000000006
         ],
         "line": {
          "color": "#469d00",
          "width": 1
         },
         "lon": [
          8.54917,
          6.504444
         ],
         "mode": "lines",
         "opacity": 1,
         "type": "scattergeo"
        },
        {
         "lat": [
          47.464698999999996,
          49.6963005065918
         ],
         "line": {
          "color": "#469d00",
          "width": 1
         },
         "lon": [
          8.54917,
          18.111099243164066
         ],
         "mode": "lines",
         "opacity": 1,
         "type": "scattergeo"
        },
        {
         "lat": [
          47.464698999999996,
          52.308601
         ],
         "line": {
          "color": "#239000",
          "width": 1
         },
         "lon": [
          8.54917,
          4.76389
         ],
         "mode": "lines",
         "opacity": 1,
         "type": "scattergeo"
        },
        {
         "lat": [
          47.464698999999996,
          51.956902
         ],
         "line": {
          "color": "#239000",
          "width": 1
         },
         "lon": [
          8.54917,
          4.43722
         ],
         "mode": "lines",
         "opacity": 1,
         "type": "scattergeo"
        },
        {
         "lat": [
          47.464698999999996,
          52.380001
         ],
         "line": {
          "color": "#f00",
          "width": 1
         },
         "lon": [
          8.54917,
          13.5225
         ],
         "mode": "lines",
         "opacity": 1,
         "type": "scattergeo"
        },
        {
         "lat": [
          47.464698999999996,
          56.92359924316406
         ],
         "line": {
          "color": "#319500",
          "width": 1
         },
         "lon": [
          8.54917,
          23.971099853515625
         ],
         "mode": "lines",
         "opacity": 1,
         "type": "scattergeo"
        },
        {
         "lat": [
          47.464698999999996,
          56.9422
         ],
         "line": {
          "color": "#319500",
          "width": 1
         },
         "lon": [
          8.54917,
          23.2239
         ],
         "mode": "lines",
         "opacity": 1,
         "type": "scattergeo"
        },
        {
         "lat": [
          47.464698999999996,
          59.4486198425293
         ],
         "line": {
          "color": "#319500",
          "width": 1
         },
         "lon": [
          8.54917,
          24.75322723388672
         ],
         "mode": "lines",
         "opacity": 1,
         "type": "scattergeo"
        },
        {
         "lat": [
          47.464698999999996,
          52.205002
         ],
         "line": {
          "color": "#77ac00",
          "width": 1
         },
         "lon": [
          8.54917,
          0.175
         ],
         "mode": "lines",
         "opacity": 1,
         "type": "scattergeo"
        },
        {
         "lat": [
          46.40639877319336,
          51.4706
         ],
         "line": {
          "color": "#469d00",
          "width": 1
         },
         "lon": [
          6.258059978485107,
          -0.461941
         ],
         "mode": "lines",
         "opacity": 1,
         "type": "scattergeo"
        },
        {
         "lat": [
          46.40639877319336,
          53.421299
         ],
         "line": {
          "color": "#1d8d00",
          "width": 1
         },
         "lon": [
          6.258059978485107,
          -6.27007
         ],
         "mode": "lines",
         "opacity": 1,
         "type": "scattergeo"
        }
       ],
       "layout": {
        "geo": {
         "countrycolor": "rgb(204, 204, 204)",
         "landcolor": "rgb(243, 243, 243)",
         "showland": true
        },
        "showlegend": false,
        "template": {
         "data": {
          "bar": [
           {
            "error_x": {
             "color": "#2a3f5f"
            },
            "error_y": {
             "color": "#2a3f5f"
            },
            "marker": {
             "line": {
              "color": "#E5ECF6",
              "width": 0.5
             }
            },
            "type": "bar"
           }
          ],
          "barpolar": [
           {
            "marker": {
             "line": {
              "color": "#E5ECF6",
              "width": 0.5
             }
            },
            "type": "barpolar"
           }
          ],
          "carpet": [
           {
            "aaxis": {
             "endlinecolor": "#2a3f5f",
             "gridcolor": "white",
             "linecolor": "white",
             "minorgridcolor": "white",
             "startlinecolor": "#2a3f5f"
            },
            "baxis": {
             "endlinecolor": "#2a3f5f",
             "gridcolor": "white",
             "linecolor": "white",
             "minorgridcolor": "white",
             "startlinecolor": "#2a3f5f"
            },
            "type": "carpet"
           }
          ],
          "choropleth": [
           {
            "colorbar": {
             "outlinewidth": 0,
             "ticks": ""
            },
            "type": "choropleth"
           }
          ],
          "contour": [
           {
            "colorbar": {
             "outlinewidth": 0,
             "ticks": ""
            },
            "colorscale": [
             [
              0,
              "#0d0887"
             ],
             [
              0.1111111111111111,
              "#46039f"
             ],
             [
              0.2222222222222222,
              "#7201a8"
             ],
             [
              0.3333333333333333,
              "#9c179e"
             ],
             [
              0.4444444444444444,
              "#bd3786"
             ],
             [
              0.5555555555555556,
              "#d8576b"
             ],
             [
              0.6666666666666666,
              "#ed7953"
             ],
             [
              0.7777777777777778,
              "#fb9f3a"
             ],
             [
              0.8888888888888888,
              "#fdca26"
             ],
             [
              1,
              "#f0f921"
             ]
            ],
            "type": "contour"
           }
          ],
          "contourcarpet": [
           {
            "colorbar": {
             "outlinewidth": 0,
             "ticks": ""
            },
            "type": "contourcarpet"
           }
          ],
          "heatmap": [
           {
            "colorbar": {
             "outlinewidth": 0,
             "ticks": ""
            },
            "colorscale": [
             [
              0,
              "#0d0887"
             ],
             [
              0.1111111111111111,
              "#46039f"
             ],
             [
              0.2222222222222222,
              "#7201a8"
             ],
             [
              0.3333333333333333,
              "#9c179e"
             ],
             [
              0.4444444444444444,
              "#bd3786"
             ],
             [
              0.5555555555555556,
              "#d8576b"
             ],
             [
              0.6666666666666666,
              "#ed7953"
             ],
             [
              0.7777777777777778,
              "#fb9f3a"
             ],
             [
              0.8888888888888888,
              "#fdca26"
             ],
             [
              1,
              "#f0f921"
             ]
            ],
            "type": "heatmap"
           }
          ],
          "heatmapgl": [
           {
            "colorbar": {
             "outlinewidth": 0,
             "ticks": ""
            },
            "colorscale": [
             [
              0,
              "#0d0887"
             ],
             [
              0.1111111111111111,
              "#46039f"
             ],
             [
              0.2222222222222222,
              "#7201a8"
             ],
             [
              0.3333333333333333,
              "#9c179e"
             ],
             [
              0.4444444444444444,
              "#bd3786"
             ],
             [
              0.5555555555555556,
              "#d8576b"
             ],
             [
              0.6666666666666666,
              "#ed7953"
             ],
             [
              0.7777777777777778,
              "#fb9f3a"
             ],
             [
              0.8888888888888888,
              "#fdca26"
             ],
             [
              1,
              "#f0f921"
             ]
            ],
            "type": "heatmapgl"
           }
          ],
          "histogram": [
           {
            "marker": {
             "colorbar": {
              "outlinewidth": 0,
              "ticks": ""
             }
            },
            "type": "histogram"
           }
          ],
          "histogram2d": [
           {
            "colorbar": {
             "outlinewidth": 0,
             "ticks": ""
            },
            "colorscale": [
             [
              0,
              "#0d0887"
             ],
             [
              0.1111111111111111,
              "#46039f"
             ],
             [
              0.2222222222222222,
              "#7201a8"
             ],
             [
              0.3333333333333333,
              "#9c179e"
             ],
             [
              0.4444444444444444,
              "#bd3786"
             ],
             [
              0.5555555555555556,
              "#d8576b"
             ],
             [
              0.6666666666666666,
              "#ed7953"
             ],
             [
              0.7777777777777778,
              "#fb9f3a"
             ],
             [
              0.8888888888888888,
              "#fdca26"
             ],
             [
              1,
              "#f0f921"
             ]
            ],
            "type": "histogram2d"
           }
          ],
          "histogram2dcontour": [
           {
            "colorbar": {
             "outlinewidth": 0,
             "ticks": ""
            },
            "colorscale": [
             [
              0,
              "#0d0887"
             ],
             [
              0.1111111111111111,
              "#46039f"
             ],
             [
              0.2222222222222222,
              "#7201a8"
             ],
             [
              0.3333333333333333,
              "#9c179e"
             ],
             [
              0.4444444444444444,
              "#bd3786"
             ],
             [
              0.5555555555555556,
              "#d8576b"
             ],
             [
              0.6666666666666666,
              "#ed7953"
             ],
             [
              0.7777777777777778,
              "#fb9f3a"
             ],
             [
              0.8888888888888888,
              "#fdca26"
             ],
             [
              1,
              "#f0f921"
             ]
            ],
            "type": "histogram2dcontour"
           }
          ],
          "mesh3d": [
           {
            "colorbar": {
             "outlinewidth": 0,
             "ticks": ""
            },
            "type": "mesh3d"
           }
          ],
          "parcoords": [
           {
            "line": {
             "colorbar": {
              "outlinewidth": 0,
              "ticks": ""
             }
            },
            "type": "parcoords"
           }
          ],
          "pie": [
           {
            "automargin": true,
            "type": "pie"
           }
          ],
          "scatter": [
           {
            "marker": {
             "colorbar": {
              "outlinewidth": 0,
              "ticks": ""
             }
            },
            "type": "scatter"
           }
          ],
          "scatter3d": [
           {
            "line": {
             "colorbar": {
              "outlinewidth": 0,
              "ticks": ""
             }
            },
            "marker": {
             "colorbar": {
              "outlinewidth": 0,
              "ticks": ""
             }
            },
            "type": "scatter3d"
           }
          ],
          "scattercarpet": [
           {
            "marker": {
             "colorbar": {
              "outlinewidth": 0,
              "ticks": ""
             }
            },
            "type": "scattercarpet"
           }
          ],
          "scattergeo": [
           {
            "marker": {
             "colorbar": {
              "outlinewidth": 0,
              "ticks": ""
             }
            },
            "type": "scattergeo"
           }
          ],
          "scattergl": [
           {
            "marker": {
             "colorbar": {
              "outlinewidth": 0,
              "ticks": ""
             }
            },
            "type": "scattergl"
           }
          ],
          "scattermapbox": [
           {
            "marker": {
             "colorbar": {
              "outlinewidth": 0,
              "ticks": ""
             }
            },
            "type": "scattermapbox"
           }
          ],
          "scatterpolar": [
           {
            "marker": {
             "colorbar": {
              "outlinewidth": 0,
              "ticks": ""
             }
            },
            "type": "scatterpolar"
           }
          ],
          "scatterpolargl": [
           {
            "marker": {
             "colorbar": {
              "outlinewidth": 0,
              "ticks": ""
             }
            },
            "type": "scatterpolargl"
           }
          ],
          "scatterternary": [
           {
            "marker": {
             "colorbar": {
              "outlinewidth": 0,
              "ticks": ""
             }
            },
            "type": "scatterternary"
           }
          ],
          "surface": [
           {
            "colorbar": {
             "outlinewidth": 0,
             "ticks": ""
            },
            "colorscale": [
             [
              0,
              "#0d0887"
             ],
             [
              0.1111111111111111,
              "#46039f"
             ],
             [
              0.2222222222222222,
              "#7201a8"
             ],
             [
              0.3333333333333333,
              "#9c179e"
             ],
             [
              0.4444444444444444,
              "#bd3786"
             ],
             [
              0.5555555555555556,
              "#d8576b"
             ],
             [
              0.6666666666666666,
              "#ed7953"
             ],
             [
              0.7777777777777778,
              "#fb9f3a"
             ],
             [
              0.8888888888888888,
              "#fdca26"
             ],
             [
              1,
              "#f0f921"
             ]
            ],
            "type": "surface"
           }
          ],
          "table": [
           {
            "cells": {
             "fill": {
              "color": "#EBF0F8"
             },
             "line": {
              "color": "white"
             }
            },
            "header": {
             "fill": {
              "color": "#C8D4E3"
             },
             "line": {
              "color": "white"
             }
            },
            "type": "table"
           }
          ]
         },
         "layout": {
          "annotationdefaults": {
           "arrowcolor": "#2a3f5f",
           "arrowhead": 0,
           "arrowwidth": 1
          },
          "coloraxis": {
           "colorbar": {
            "outlinewidth": 0,
            "ticks": ""
           }
          },
          "colorscale": {
           "diverging": [
            [
             0,
             "#8e0152"
            ],
            [
             0.1,
             "#c51b7d"
            ],
            [
             0.2,
             "#de77ae"
            ],
            [
             0.3,
             "#f1b6da"
            ],
            [
             0.4,
             "#fde0ef"
            ],
            [
             0.5,
             "#f7f7f7"
            ],
            [
             0.6,
             "#e6f5d0"
            ],
            [
             0.7,
             "#b8e186"
            ],
            [
             0.8,
             "#7fbc41"
            ],
            [
             0.9,
             "#4d9221"
            ],
            [
             1,
             "#276419"
            ]
           ],
           "sequential": [
            [
             0,
             "#0d0887"
            ],
            [
             0.1111111111111111,
             "#46039f"
            ],
            [
             0.2222222222222222,
             "#7201a8"
            ],
            [
             0.3333333333333333,
             "#9c179e"
            ],
            [
             0.4444444444444444,
             "#bd3786"
            ],
            [
             0.5555555555555556,
             "#d8576b"
            ],
            [
             0.6666666666666666,
             "#ed7953"
            ],
            [
             0.7777777777777778,
             "#fb9f3a"
            ],
            [
             0.8888888888888888,
             "#fdca26"
            ],
            [
             1,
             "#f0f921"
            ]
           ],
           "sequentialminus": [
            [
             0,
             "#0d0887"
            ],
            [
             0.1111111111111111,
             "#46039f"
            ],
            [
             0.2222222222222222,
             "#7201a8"
            ],
            [
             0.3333333333333333,
             "#9c179e"
            ],
            [
             0.4444444444444444,
             "#bd3786"
            ],
            [
             0.5555555555555556,
             "#d8576b"
            ],
            [
             0.6666666666666666,
             "#ed7953"
            ],
            [
             0.7777777777777778,
             "#fb9f3a"
            ],
            [
             0.8888888888888888,
             "#fdca26"
            ],
            [
             1,
             "#f0f921"
            ]
           ]
          },
          "colorway": [
           "#636efa",
           "#EF553B",
           "#00cc96",
           "#ab63fa",
           "#FFA15A",
           "#19d3f3",
           "#FF6692",
           "#B6E880",
           "#FF97FF",
           "#FECB52"
          ],
          "font": {
           "color": "#2a3f5f"
          },
          "geo": {
           "bgcolor": "white",
           "lakecolor": "white",
           "landcolor": "#E5ECF6",
           "showlakes": true,
           "showland": true,
           "subunitcolor": "white"
          },
          "hoverlabel": {
           "align": "left"
          },
          "hovermode": "closest",
          "mapbox": {
           "style": "light"
          },
          "paper_bgcolor": "white",
          "plot_bgcolor": "#E5ECF6",
          "polar": {
           "angularaxis": {
            "gridcolor": "white",
            "linecolor": "white",
            "ticks": ""
           },
           "bgcolor": "#E5ECF6",
           "radialaxis": {
            "gridcolor": "white",
            "linecolor": "white",
            "ticks": ""
           }
          },
          "scene": {
           "xaxis": {
            "backgroundcolor": "#E5ECF6",
            "gridcolor": "white",
            "gridwidth": 2,
            "linecolor": "white",
            "showbackground": true,
            "ticks": "",
            "zerolinecolor": "white"
           },
           "yaxis": {
            "backgroundcolor": "#E5ECF6",
            "gridcolor": "white",
            "gridwidth": 2,
            "linecolor": "white",
            "showbackground": true,
            "ticks": "",
            "zerolinecolor": "white"
           },
           "zaxis": {
            "backgroundcolor": "#E5ECF6",
            "gridcolor": "white",
            "gridwidth": 2,
            "linecolor": "white",
            "showbackground": true,
            "ticks": "",
            "zerolinecolor": "white"
           }
          },
          "shapedefaults": {
           "line": {
            "color": "#2a3f5f"
           }
          },
          "ternary": {
           "aaxis": {
            "gridcolor": "white",
            "linecolor": "white",
            "ticks": ""
           },
           "baxis": {
            "gridcolor": "white",
            "linecolor": "white",
            "ticks": ""
           },
           "bgcolor": "#E5ECF6",
           "caxis": {
            "gridcolor": "white",
            "linecolor": "white",
            "ticks": ""
           }
          },
          "title": {
           "x": 0.05
          },
          "xaxis": {
           "automargin": true,
           "gridcolor": "white",
           "linecolor": "white",
           "ticks": "",
           "title": {
            "standoff": 15
           },
           "zerolinecolor": "white",
           "zerolinewidth": 2
          },
          "yaxis": {
           "automargin": true,
           "gridcolor": "white",
           "linecolor": "white",
           "ticks": "",
           "title": {
            "standoff": 15
           },
           "zerolinecolor": "white",
           "zerolinewidth": 2
          }
         }
        },
        "title": {
         "text": "Flight routes starting from Swiss airports"
        }
       }
      },
      "text/html": [
       "<div>\n",
       "        \n",
       "        \n",
       "            <div id=\"24f6cff7-78ac-412b-b412-71677dc282a1\" class=\"plotly-graph-div\" style=\"height:525px; width:100%;\"></div>\n",
       "            <script type=\"text/javascript\">\n",
       "                require([\"plotly\"], function(Plotly) {\n",
       "                    window.PLOTLYENV=window.PLOTLYENV || {};\n",
       "                    \n",
       "                if (document.getElementById(\"24f6cff7-78ac-412b-b412-71677dc282a1\")) {\n",
       "                    Plotly.newPlot(\n",
       "                        '24f6cff7-78ac-412b-b412-71677dc282a1',\n",
       "                        [{\"lat\": [46.23809814453125, 48.110298156738004], \"line\": {\"color\": \"#469d00\", \"width\": 1}, \"lon\": [6.108950138092041, 16.569700241089002], \"mode\": \"lines\", \"opacity\": 1.0, \"type\": \"scattergeo\"}, {\"lat\": [46.23809814453125, 45.6306], \"line\": {\"color\": \"#469d00\", \"width\": 1}, \"lon\": [6.108950138092041, 8.728110000000001], \"mode\": \"lines\", \"opacity\": 1.0, \"type\": \"scattergeo\"}, {\"lat\": [46.23809814453125, 40.976898], \"line\": {\"color\": \"#239000\", \"width\": 1}, \"lon\": [6.108950138092041, 28.8146], \"mode\": \"lines\", \"opacity\": 1.0, \"type\": \"scattergeo\"}, {\"lat\": [46.23809814453125, 40.99300003051758], \"line\": {\"color\": \"#239000\", \"width\": 1}, \"lon\": [6.108950138092041, 29.21649932861328], \"mode\": \"lines\", \"opacity\": 1.0, \"type\": \"scattergeo\"}, {\"lat\": [46.23809814453125, 47.464698999999996], \"line\": {\"color\": \"#319500\", \"width\": 1}, \"lon\": [6.108950138092041, 8.54917], \"mode\": \"lines\", \"opacity\": 1.0, \"type\": \"scattergeo\"}, {\"lat\": [46.23809814453125, 25.273056], \"line\": {\"color\": \"#319500\", \"width\": 1}, \"lon\": [6.108950138092041, 51.608056], \"mode\": \"lines\", \"opacity\": 1.0, \"type\": \"scattergeo\"}, {\"lat\": [46.23809814453125, 25.261101], \"line\": {\"color\": \"#319500\", \"width\": 1}, \"lon\": [6.108950138092041, 51.565102], \"mode\": \"lines\", \"opacity\": 1.0, \"type\": \"scattergeo\"}, {\"lat\": [46.23809814453125, 51.4706], \"line\": {\"color\": \"#319500\", \"width\": 1}, \"lon\": [6.108950138092041, -0.461941], \"mode\": \"lines\", \"opacity\": 1.0, \"type\": \"scattergeo\"}, {\"lat\": [46.23809814453125, 22.308901000000002], \"line\": {\"color\": \"#319500\", \"width\": 1}, \"lon\": [6.108950138092041, 113.915001], \"mode\": \"lines\", \"opacity\": 1.0, \"type\": \"scattergeo\"}, {\"lat\": [46.23809814453125, 35.552299], \"line\": {\"color\": \"#319500\", \"width\": 1}, \"lon\": [6.108950138092041, 139.779999], \"mode\": \"lines\", \"opacity\": 1.0, \"type\": \"scattergeo\"}, {\"lat\": [46.23809814453125, 39.87189865112305], \"line\": {\"color\": \"#319500\", \"width\": 1}, \"lon\": [6.108950138092041, -75.24109649658203], \"mode\": \"lines\", \"opacity\": 1.0, \"type\": \"scattergeo\"}, {\"lat\": [46.23809814453125, -6.1255698204], \"line\": {\"color\": \"#319500\", \"width\": 1}, \"lon\": [6.108950138092041, 106.65599823], \"mode\": \"lines\", \"opacity\": 1.0, \"type\": \"scattergeo\"}, {\"lat\": [46.23809814453125, 40.63980103], \"line\": {\"color\": \"#319500\", \"width\": 1}, \"lon\": [6.108950138092041, -73.77890015], \"mode\": \"lines\", \"opacity\": 1.0, \"type\": \"scattergeo\"}, {\"lat\": [46.23809814453125, 40.471926], \"line\": {\"color\": \"#319500\", \"width\": 1}, \"lon\": [6.108950138092041, -3.56264], \"mode\": \"lines\", \"opacity\": 1.0, \"type\": \"scattergeo\"}, {\"lat\": [46.23809814453125, 46.40639877319336], \"line\": {\"color\": \"#319500\", \"width\": 1}, \"lon\": [6.108950138092041, 6.258059978485107], \"mode\": \"lines\", \"opacity\": 1.0, \"type\": \"scattergeo\"}, {\"lat\": [46.23809814453125, 15.186], \"line\": {\"color\": \"#319500\", \"width\": 1}, \"lon\": [6.108950138092041, 120.559998], \"mode\": \"lines\", \"opacity\": 1.0, \"type\": \"scattergeo\"}, {\"lat\": [46.23809814453125, 48.969398498535156], \"line\": {\"color\": \"#469d00\", \"width\": 1}, \"lon\": [6.108950138092041, 2.441390037536621], \"mode\": \"lines\", \"opacity\": 1.0, \"type\": \"scattergeo\"}, {\"lat\": [46.23809814453125, 48.92779922485352], \"line\": {\"color\": \"#469d00\", \"width\": 1}, \"lon\": [6.108950138092041, 2.835279941558838], \"mode\": \"lines\", \"opacity\": 1.0, \"type\": \"scattergeo\"}, {\"lat\": [46.23809814453125, 48.83769989013672], \"line\": {\"color\": \"#469d00\", \"width\": 1}, \"lon\": [6.108950138092041, 3.016119956970215], \"mode\": \"lines\", \"opacity\": 1.0, \"type\": \"scattergeo\"}, {\"lat\": [46.23809814453125, 49.0672], \"line\": {\"color\": \"#469d00\", \"width\": 1}, \"lon\": [6.108950138092041, 3.3569400000000003], \"mode\": \"lines\", \"opacity\": 1.0, \"type\": \"scattergeo\"}, {\"lat\": [46.23809814453125, 49.046397999999996], \"line\": {\"color\": \"#469d00\", \"width\": 1}, \"lon\": [6.108950138092041, 2.3530599999999997], \"mode\": \"lines\", \"opacity\": 1.0, \"type\": \"scattergeo\"}, {\"lat\": [46.23809814453125, 50.033333], \"line\": {\"color\": \"#469d00\", \"width\": 1}, \"lon\": [6.108950138092041, 8.570556], \"mode\": \"lines\", \"opacity\": 1.0, \"type\": \"scattergeo\"}, {\"lat\": [46.23809814453125, 48.353802], \"line\": {\"color\": \"#469d00\", \"width\": 1}, \"lon\": [6.108950138092041, 11.7861], \"mode\": \"lines\", \"opacity\": 1.0, \"type\": \"scattergeo\"}, {\"lat\": [46.23809814453125, 25.252799987800003], \"line\": {\"color\": \"#80af00\", \"width\": 1}, \"lon\": [6.108950138092041, 55.3643989563], \"mode\": \"lines\", \"opacity\": 1.0, \"type\": \"scattergeo\"}, {\"lat\": [46.23809814453125, 42.696693420410156], \"line\": {\"color\": \"#f00\", \"width\": 1}, \"lon\": [6.108950138092041, 23.411436080932614], \"mode\": \"lines\", \"opacity\": 1.0, \"type\": \"scattergeo\"}, {\"lat\": [46.23809814453125, 44.5711111], \"line\": {\"color\": \"#f00\", \"width\": 1}, \"lon\": [6.108950138092041, 26.085], \"mode\": \"lines\", \"opacity\": 1.0, \"type\": \"scattergeo\"}, {\"lat\": [46.23809814453125, 49.012798], \"line\": {\"color\": \"#3f9a00\", \"width\": 1}, \"lon\": [6.108950138092041, 2.55], \"mode\": \"lines\", \"opacity\": 1.0, \"type\": \"scattergeo\"}, {\"lat\": [46.23809814453125, 14.67], \"line\": {\"color\": \"#3f9a00\", \"width\": 1}, \"lon\": [6.108950138092041, -17.073332999999998], \"mode\": \"lines\", \"opacity\": 1.0, \"type\": \"scattergeo\"}, {\"lat\": [46.23809814453125, 33.36750030517578], \"line\": {\"color\": \"#3f9a00\", \"width\": 1}, \"lon\": [6.108950138092041, -7.589970111846924], \"mode\": \"lines\", \"opacity\": 1.0, \"type\": \"scattergeo\"}, {\"lat\": [46.23809814453125, 38.7813], \"line\": {\"color\": \"#3f9a00\", \"width\": 1}, \"lon\": [6.108950138092041, -9.13592], \"mode\": \"lines\", \"opacity\": 1.0, \"type\": \"scattergeo\"}, {\"lat\": [46.23809814453125, 14.739700317382812], \"line\": {\"color\": \"#3f9a00\", \"width\": 1}, \"lon\": [6.108950138092041, -17.49020004272461], \"mode\": \"lines\", \"opacity\": 1.0, \"type\": \"scattergeo\"}, {\"lat\": [46.23809814453125, 11.894800186157227], \"line\": {\"color\": \"#3f9a00\", \"width\": 1}, \"lon\": [6.108950138092041, -15.65369987487793], \"mode\": \"lines\", \"opacity\": 1.0, \"type\": \"scattergeo\"}, {\"lat\": [46.23809814453125, 45.725556], \"line\": {\"color\": \"#3f9a00\", \"width\": 1}, \"lon\": [6.108950138092041, 5.081111], \"mode\": \"lines\", \"opacity\": 1.0, \"type\": \"scattergeo\"}, {\"lat\": [46.23809814453125, 18.31], \"line\": {\"color\": \"#3f9a00\", \"width\": 1}, \"lon\": [6.108950138092041, -15.969722199999998], \"mode\": \"lines\", \"opacity\": 1.0, \"type\": \"scattergeo\"}, {\"lat\": [46.23809814453125, 43.522701], \"line\": {\"color\": \"#3f9a00\", \"width\": 1}, \"lon\": [6.108950138092041, 4.92384], \"mode\": \"lines\", \"opacity\": 1.0, \"type\": \"scattergeo\"}, {\"lat\": [46.23809814453125, 13.338000297546387], \"line\": {\"color\": \"#3f9a00\", \"width\": 1}, \"lon\": [6.108950138092041, -16.65220069885254], \"mode\": \"lines\", \"opacity\": 1.0, \"type\": \"scattergeo\"}, {\"lat\": [46.23809814453125, 59.41329956049999], \"line\": {\"color\": \"#3f9a00\", \"width\": 1}, \"lon\": [6.108950138092041, 24.8327999115], \"mode\": \"lines\", \"opacity\": 1.0, \"type\": \"scattergeo\"}, {\"lat\": [46.23809814453125, 14.924500465393065], \"line\": {\"color\": \"#3f9a00\", \"width\": 1}, \"lon\": [6.108950138092041, -23.49349975585937], \"mode\": \"lines\", \"opacity\": 1.0, \"type\": \"scattergeo\"}, {\"lat\": [46.23809814453125, 33.655398999999996], \"line\": {\"color\": \"#3f9a00\", \"width\": 1}, \"lon\": [6.108950138092041, -7.22145], \"mode\": \"lines\", \"opacity\": 1.0, \"type\": \"scattergeo\"}, {\"lat\": [46.23809814453125, 32.011398315429695], \"line\": {\"color\": \"#1d8d00\", \"width\": 1}, \"lon\": [6.108950138092041, 34.88669967651367], \"mode\": \"lines\", \"opacity\": 1.0, \"type\": \"scattergeo\"}, {\"lat\": [46.23809814453125, 50.9014015198], \"line\": {\"color\": \"#1d8d00\", \"width\": 1}, \"lon\": [6.108950138092041, 4.48443984985], \"mode\": \"lines\", \"opacity\": 1.0, \"type\": \"scattergeo\"}, {\"lat\": [46.23809814453125, 52.1656990051], \"line\": {\"color\": \"#1d8d00\", \"width\": 1}, \"lon\": [6.108950138092041, 20.9671001434], \"mode\": \"lines\", \"opacity\": 1.0, \"type\": \"scattergeo\"}, {\"lat\": [46.23809814453125, 37.9364013672], \"line\": {\"color\": \"#058300\", \"width\": 1}, \"lon\": [6.108950138092041, 23.944499969499997], \"mode\": \"lines\", \"opacity\": 1.0, \"type\": \"scattergeo\"}, {\"lat\": [46.23809814453125, 37.893299], \"line\": {\"color\": \"#058300\", \"width\": 1}, \"lon\": [6.108950138092041, 23.726101], \"mode\": \"lines\", \"opacity\": 1.0, \"type\": \"scattergeo\"}, {\"lat\": [46.23809814453125, 38.1088981628418], \"line\": {\"color\": \"#058300\", \"width\": 1}, \"lon\": [6.108950138092041, 23.78380012512207], \"mode\": \"lines\", \"opacity\": 1.0, \"type\": \"scattergeo\"}, {\"lat\": [46.23809814453125, 51.40230178833008], \"line\": {\"color\": \"#469d00\", \"width\": 1}, \"lon\": [6.108950138092041, 6.9373297691345215], \"mode\": \"lines\", \"opacity\": 1.0, \"type\": \"scattergeo\"}, {\"lat\": [46.23809814453125, 51.330799102799986], \"line\": {\"color\": \"#469d00\", \"width\": 1}, \"lon\": [6.108950138092041, 0.032499998807900006], \"mode\": \"lines\", \"opacity\": 1.0, \"type\": \"scattergeo\"}, {\"lat\": [46.23809814453125, 51.148102], \"line\": {\"color\": \"#469d00\", \"width\": 1}, \"lon\": [6.108950138092041, -0.190278], \"mode\": \"lines\", \"opacity\": 1.0, \"type\": \"scattergeo\"}, {\"lat\": [46.23809814453125, 60.121], \"line\": {\"color\": \"#469d00\", \"width\": 1}, \"lon\": [6.108950138092041, 11.0502], \"mode\": \"lines\", \"opacity\": 1.0, \"type\": \"scattergeo\"}, {\"lat\": [46.23809814453125, 51.505299], \"line\": {\"color\": \"#469d00\", \"width\": 1}, \"lon\": [6.108950138092041, 0.055277999999999994], \"mode\": \"lines\", \"opacity\": 1.0, \"type\": \"scattergeo\"}, {\"lat\": [46.23809814453125, 51.5530014038], \"line\": {\"color\": \"#469d00\", \"width\": 1}, \"lon\": [6.108950138092041, -0.418166995049], \"mode\": \"lines\", \"opacity\": 1.0, \"type\": \"scattergeo\"}, {\"lat\": [46.23809814453125, 51.2136001587], \"line\": {\"color\": \"#469d00\", \"width\": 1}, \"lon\": [6.108950138092041, -0.138611003757], \"mode\": \"lines\", \"opacity\": 1.0, \"type\": \"scattergeo\"}, {\"lat\": [46.23809814453125, 51.469722747799985], \"line\": {\"color\": \"#469d00\", \"width\": 1}, \"lon\": [6.108950138092041, -0.179444000125], \"mode\": \"lines\", \"opacity\": 1.0, \"type\": \"scattergeo\"}, {\"lat\": [46.23809814453125, 51.5008010864], \"line\": {\"color\": \"#469d00\", \"width\": 1}, \"lon\": [6.108950138092041, -0.774443984032], \"mode\": \"lines\", \"opacity\": 1.0, \"type\": \"scattergeo\"}, {\"lat\": [46.23809814453125, 51.6557998657], \"line\": {\"color\": \"#469d00\", \"width\": 1}, \"lon\": [6.108950138092041, -0.325832992792], \"mode\": \"lines\", \"opacity\": 1.0, \"type\": \"scattergeo\"}, {\"lat\": [46.23809814453125, 51.65250015260001], \"line\": {\"color\": \"#469d00\", \"width\": 1}, \"lon\": [6.108950138092041, 0.15583300590500002], \"mode\": \"lines\", \"opacity\": 1.0, \"type\": \"scattergeo\"}, {\"lat\": [46.23809814453125, 41.7994], \"line\": {\"color\": \"#3f9a00\", \"width\": 1}, \"lon\": [6.108950138092041, 12.5949], \"mode\": \"lines\", \"opacity\": 1.0, \"type\": \"scattergeo\"}, {\"lat\": [46.23809814453125, 41.800277799999996], \"line\": {\"color\": \"#3f9a00\", \"width\": 1}, \"lon\": [6.108950138092041, 12.238888900000001], \"mode\": \"lines\", \"opacity\": 1.0, \"type\": \"scattergeo\"}, {\"lat\": [46.23809814453125, 45.445099], \"line\": {\"color\": \"#3f9a00\", \"width\": 1}, \"lon\": [6.108950138092041, 9.27674], \"mode\": \"lines\", \"opacity\": 1.0, \"type\": \"scattergeo\"}, {\"lat\": [46.23809814453125, 42.430199], \"line\": {\"color\": \"#3f9a00\", \"width\": 1}, \"lon\": [6.108950138092041, 12.0642], \"mode\": \"lines\", \"opacity\": 1.0, \"type\": \"scattergeo\"}, {\"lat\": [46.23809814453125, 41.654499], \"line\": {\"color\": \"#3f9a00\", \"width\": 1}, \"lon\": [6.108950138092041, 12.4452], \"mode\": \"lines\", \"opacity\": 1.0, \"type\": \"scattergeo\"}, {\"lat\": [46.23809814453125, 50.63740158081055], \"line\": {\"color\": \"#56a200\", \"width\": 1}, \"lon\": [6.108950138092041, 5.443220138549805], \"mode\": \"lines\", \"opacity\": 1.0, \"type\": \"scattergeo\"}, {\"lat\": [46.23809814453125, 45.505299], \"line\": {\"color\": \"#56a200\", \"width\": 1}, \"lon\": [6.108950138092041, 12.3519], \"mode\": \"lines\", \"opacity\": 1.0, \"type\": \"scattergeo\"}, {\"lat\": [46.23809814453125, 50.459202000000005], \"line\": {\"color\": \"#56a200\", \"width\": 1}, \"lon\": [6.108950138092041, 4.4538199999999994], \"mode\": \"lines\", \"opacity\": 1.0, \"type\": \"scattergeo\"}, {\"lat\": [46.23809814453125, 51.21166610717773], \"line\": {\"color\": \"#56a200\", \"width\": 1}, \"lon\": [6.108950138092041, 4.580832958221436], \"mode\": \"lines\", \"opacity\": 1.0, \"type\": \"scattergeo\"}, {\"lat\": [46.23809814453125, 51.264702], \"line\": {\"color\": \"#56a200\", \"width\": 1}, \"lon\": [6.108950138092041, 4.75333], \"mode\": \"lines\", \"opacity\": 1.0, \"type\": \"scattergeo\"}, {\"lat\": [46.23809814453125, 39.551700591999996], \"line\": {\"color\": \"#56a200\", \"width\": 1}, \"lon\": [6.108950138092041, 2.73881006241], \"mode\": \"lines\", \"opacity\": 1.0, \"type\": \"scattergeo\"}, {\"lat\": [46.23809814453125, 51.189399719200004], \"line\": {\"color\": \"#56a200\", \"width\": 1}, \"lon\": [6.108950138092041, 4.46027994156], \"mode\": \"lines\", \"opacity\": 1.0, \"type\": \"scattergeo\"}, {\"lat\": [46.23809814453125, 38.905398999999996], \"line\": {\"color\": \"#56a200\", \"width\": 1}, \"lon\": [6.108950138092041, 16.2423], \"mode\": \"lines\", \"opacity\": 1.0, \"type\": \"scattergeo\"}, {\"lat\": [46.23809814453125, 50.487999], \"line\": {\"color\": \"#56a200\", \"width\": 1}, \"lon\": [6.108950138092041, 4.76892], \"mode\": \"lines\", \"opacity\": 1.0, \"type\": \"scattergeo\"}, {\"lat\": [46.23809814453125, 50.791901], \"line\": {\"color\": \"#56a200\", \"width\": 1}, \"lon\": [6.108950138092041, 5.20167], \"mode\": \"lines\", \"opacity\": 1.0, \"type\": \"scattergeo\"}, {\"lat\": [46.23809814453125, 50.75859832763672], \"line\": {\"color\": \"#56a200\", \"width\": 1}, \"lon\": [6.108950138092041, 4.768330097198486], \"mode\": \"lines\", \"opacity\": 1.0, \"type\": \"scattergeo\"}, {\"lat\": [46.23809814453125, 50.781700134277344], \"line\": {\"color\": \"#56a200\", \"width\": 1}, \"lon\": [6.108950138092041, 4.957779884338379], \"mode\": \"lines\", \"opacity\": 1.0, \"type\": \"scattergeo\"}, {\"lat\": [46.23809814453125, 50.2433013916], \"line\": {\"color\": \"#56a200\", \"width\": 1}, \"lon\": [6.108950138092041, 4.64583015442], \"mode\": \"lines\", \"opacity\": 1.0, \"type\": \"scattergeo\"}, {\"lat\": [46.23809814453125, 51.12], \"line\": {\"color\": \"#56a200\", \"width\": 1}, \"lon\": [6.108950138092041, 5.3072222], \"mode\": \"lines\", \"opacity\": 1.0, \"type\": \"scattergeo\"}, {\"lat\": [46.23809814453125, 50.482498], \"line\": {\"color\": \"#56a200\", \"width\": 1}, \"lon\": [6.108950138092041, 5.9103], \"mode\": \"lines\", \"opacity\": 1.0, \"type\": \"scattergeo\"}, {\"lat\": [46.23809814453125, 50.970001], \"line\": {\"color\": \"#56a200\", \"width\": 1}, \"lon\": [6.108950138092041, 5.37507], \"mode\": \"lines\", \"opacity\": 1.0, \"type\": \"scattergeo\"}, {\"lat\": [46.23809814453125, 13.681099891662598], \"line\": {\"color\": \"#a6b900\", \"width\": 1}, \"lon\": [6.108950138092041, 100.74700164794922], \"mode\": \"lines\", \"opacity\": 1.0, \"type\": \"scattergeo\"}, {\"lat\": [46.23809814453125, 40.69250106811523], \"line\": {\"color\": \"#319500\", \"width\": 1}, \"lon\": [6.108950138092041, -74.168701171875], \"mode\": \"lines\", \"opacity\": 1.0, \"type\": \"scattergeo\"}, {\"lat\": [46.23809814453125, 53.421299], \"line\": {\"color\": \"#1d8d00\", \"width\": 1}, \"lon\": [6.108950138092041, -6.27007], \"mode\": \"lines\", \"opacity\": 1.0, \"type\": \"scattergeo\"}, {\"lat\": [46.23809814453125, 53.352199554399995], \"line\": {\"color\": \"#1d8d00\", \"width\": 1}, \"lon\": [6.108950138092041, -6.48611021042], \"mode\": \"lines\", \"opacity\": 1.0, \"type\": \"scattergeo\"}, {\"lat\": [46.23809814453125, 53.301700591999996], \"line\": {\"color\": \"#1d8d00\", \"width\": 1}, \"lon\": [6.108950138092041, -6.451330184940001], \"mode\": \"lines\", \"opacity\": 1.0, \"type\": \"scattergeo\"}, {\"lat\": [46.23809814453125, 52.308601], \"line\": {\"color\": \"#239000\", \"width\": 1}, \"lon\": [6.108950138092041, 4.76389], \"mode\": \"lines\", \"opacity\": 1.0, \"type\": \"scattergeo\"}, {\"lat\": [46.23809814453125, 51.956902], \"line\": {\"color\": \"#239000\", \"width\": 1}, \"lon\": [6.108950138092041, 4.43722], \"mode\": \"lines\", \"opacity\": 1.0, \"type\": \"scattergeo\"}, {\"lat\": [46.23809814453125, 54.377601623535156], \"line\": {\"color\": \"#f00\", \"width\": 1}, \"lon\": [6.108950138092041, 18.46619987487793], \"mode\": \"lines\", \"opacity\": 1.0, \"type\": \"scattergeo\"}, {\"lat\": [46.23809814453125, 56.92359924316406], \"line\": {\"color\": \"#319500\", \"width\": 1}, \"lon\": [6.108950138092041, 23.971099853515625], \"mode\": \"lines\", \"opacity\": 1.0, \"type\": \"scattergeo\"}, {\"lat\": [46.23809814453125, 56.9422], \"line\": {\"color\": \"#319500\", \"width\": 1}, \"lon\": [6.108950138092041, 23.2239], \"mode\": \"lines\", \"opacity\": 1.0, \"type\": \"scattergeo\"}, {\"lat\": [47.464698999999996, 47.59], \"line\": {\"color\": \"#469d00\", \"width\": 1}, \"lon\": [8.54917, 7.5291667], \"mode\": \"lines\", \"opacity\": 1.0, \"type\": \"scattergeo\"}, {\"lat\": [47.464698999999996, 48.32229995727539], \"line\": {\"color\": \"#469d00\", \"width\": 1}, \"lon\": [8.54917, 11.948699951171875], \"mode\": \"lines\", \"opacity\": 1.0, \"type\": \"scattergeo\"}, {\"lat\": [47.464698999999996, 40.976898], \"line\": {\"color\": \"#239000\", \"width\": 1}, \"lon\": [8.54917, 28.8146], \"mode\": \"lines\", \"opacity\": 1.0, \"type\": \"scattergeo\"}, {\"lat\": [47.464698999999996, 41.13819885253906], \"line\": {\"color\": \"#239000\", \"width\": 1}, \"lon\": [8.54917, 27.919099807739254], \"mode\": \"lines\", \"opacity\": 1.0, \"type\": \"scattergeo\"}, {\"lat\": [47.464698999999996, 25.273056], \"line\": {\"color\": \"#319500\", \"width\": 1}, \"lon\": [8.54917, 51.608056], \"mode\": \"lines\", \"opacity\": 1.0, \"type\": \"scattergeo\"}, {\"lat\": [47.464698999999996, 13.681099891662598], \"line\": {\"color\": \"#319500\", \"width\": 1}, \"lon\": [8.54917, 100.74700164794922], \"mode\": \"lines\", \"opacity\": 1.0, \"type\": \"scattergeo\"}, {\"lat\": [47.464698999999996, 25.261101], \"line\": {\"color\": \"#319500\", \"width\": 1}, \"lon\": [8.54917, 51.565102], \"mode\": \"lines\", \"opacity\": 1.0, \"type\": \"scattergeo\"}, {\"lat\": [47.464698999999996, 51.4706], \"line\": {\"color\": \"#319500\", \"width\": 1}, \"lon\": [8.54917, -0.461941], \"mode\": \"lines\", \"opacity\": 1.0, \"type\": \"scattergeo\"}, {\"lat\": [47.464698999999996, 22.308901000000002], \"line\": {\"color\": \"#319500\", \"width\": 1}, \"lon\": [8.54917, 113.915001], \"mode\": \"lines\", \"opacity\": 1.0, \"type\": \"scattergeo\"}, {\"lat\": [47.464698999999996, 48.969398498535156], \"line\": {\"color\": \"#319500\", \"width\": 1}, \"lon\": [8.54917, 2.441390037536621], \"mode\": \"lines\", \"opacity\": 1.0, \"type\": \"scattergeo\"}, {\"lat\": [47.464698999999996, 35.552299], \"line\": {\"color\": \"#319500\", \"width\": 1}, \"lon\": [8.54917, 139.779999], \"mode\": \"lines\", \"opacity\": 1.0, \"type\": \"scattergeo\"}, {\"lat\": [47.464698999999996, 48.110298156738004], \"line\": {\"color\": \"#319500\", \"width\": 1}, \"lon\": [8.54917, 16.569700241089002], \"mode\": \"lines\", \"opacity\": 1.0, \"type\": \"scattergeo\"}, {\"lat\": [47.464698999999996, 45.6306], \"line\": {\"color\": \"#319500\", \"width\": 1}, \"lon\": [8.54917, 8.728110000000001], \"mode\": \"lines\", \"opacity\": 1.0, \"type\": \"scattergeo\"}, {\"lat\": [47.464698999999996, -6.1255698204], \"line\": {\"color\": \"#319500\", \"width\": 1}, \"lon\": [8.54917, 106.65599823], \"mode\": \"lines\", \"opacity\": 1.0, \"type\": \"scattergeo\"}, {\"lat\": [47.464698999999996, 23.843347], \"line\": {\"color\": \"#319500\", \"width\": 1}, \"lon\": [8.54917, 90.39778299999999], \"mode\": \"lines\", \"opacity\": 1.0, \"type\": \"scattergeo\"}, {\"lat\": [47.464698999999996, 40.63980103], \"line\": {\"color\": \"#319500\", \"width\": 1}, \"lon\": [8.54917, -73.77890015], \"mode\": \"lines\", \"opacity\": 1.0, \"type\": \"scattergeo\"}, {\"lat\": [47.464698999999996, 40.471926], \"line\": {\"color\": \"#319500\", \"width\": 1}, \"lon\": [8.54917, -3.56264], \"mode\": \"lines\", \"opacity\": 1.0, \"type\": \"scattergeo\"}, {\"lat\": [47.464698999999996, 39.9429016113], \"line\": {\"color\": \"#319500\", \"width\": 1}, \"lon\": [8.54917, -74.845703125], \"mode\": \"lines\", \"opacity\": 1.0, \"type\": \"scattergeo\"}, {\"lat\": [47.464698999999996, -34.945], \"line\": {\"color\": \"#319500\", \"width\": 1}, \"lon\": [8.54917, 138.53100600000002], \"mode\": \"lines\", \"opacity\": 1.0, \"type\": \"scattergeo\"}, {\"lat\": [47.464698999999996, 25.117300033600003], \"line\": {\"color\": \"#319500\", \"width\": 1}, \"lon\": [8.54917, 51.3149986267], \"mode\": \"lines\", \"opacity\": 1.0, \"type\": \"scattergeo\"}, {\"lat\": [47.464698999999996, 50.033333], \"line\": {\"color\": \"#469d00\", \"width\": 1}, \"lon\": [8.54917, 8.570556], \"mode\": \"lines\", \"opacity\": 1.0, \"type\": \"scattergeo\"}, {\"lat\": [47.464698999999996, 43.6772003174], \"line\": {\"color\": \"#3f9a00\", \"width\": 1}, \"lon\": [8.54917, -79.63059997559999], \"mode\": \"lines\", \"opacity\": 1.0, \"type\": \"scattergeo\"}, {\"lat\": [47.464698999999996, 49.193901061999995], \"line\": {\"color\": \"#3f9a00\", \"width\": 1}, \"lon\": [8.54917, -123.183998108], \"mode\": \"lines\", \"opacity\": 1.0, \"type\": \"scattergeo\"}, {\"lat\": [47.464698999999996, 49.012798], \"line\": {\"color\": \"#3f9a00\", \"width\": 1}, \"lon\": [8.54917, 2.55], \"mode\": \"lines\", \"opacity\": 1.0, \"type\": \"scattergeo\"}, {\"lat\": [47.464698999999996, 14.67], \"line\": {\"color\": \"#3f9a00\", \"width\": 1}, \"lon\": [8.54917, -17.073332999999998], \"mode\": \"lines\", \"opacity\": 1.0, \"type\": \"scattergeo\"}, {\"lat\": [47.464698999999996, 59.651901245116996], \"line\": {\"color\": \"#3f9a00\", \"width\": 1}, \"lon\": [8.54917, 17.918600082397], \"mode\": \"lines\", \"opacity\": 1.0, \"type\": \"scattergeo\"}, {\"lat\": [47.464698999999996, 48.353802], \"line\": {\"color\": \"#3f9a00\", \"width\": 1}, \"lon\": [8.54917, 11.7861], \"mode\": \"lines\", \"opacity\": 1.0, \"type\": \"scattergeo\"}, {\"lat\": [47.464698999999996, 53.35369873046875], \"line\": {\"color\": \"#3f9a00\", \"width\": 1}, \"lon\": [8.54917, -2.2749500274658203], \"mode\": \"lines\", \"opacity\": 1.0, \"type\": \"scattergeo\"}, {\"lat\": [47.464698999999996, 48.92779922485352], \"line\": {\"color\": \"#3f9a00\", \"width\": 1}, \"lon\": [8.54917, 2.835279941558838], \"mode\": \"lines\", \"opacity\": 1.0, \"type\": \"scattergeo\"}, {\"lat\": [47.464698999999996, 33.36750030517578], \"line\": {\"color\": \"#3f9a00\", \"width\": 1}, \"lon\": [8.54917, -7.589970111846924], \"mode\": \"lines\", \"opacity\": 1.0, \"type\": \"scattergeo\"}, {\"lat\": [47.464698999999996, 46.23809814453125], \"line\": {\"color\": \"#3f9a00\", \"width\": 1}, \"lon\": [8.54917, 6.108950138092041], \"mode\": \"lines\", \"opacity\": 1.0, \"type\": \"scattergeo\"}, {\"lat\": [47.464698999999996, 14.739700317382812], \"line\": {\"color\": \"#3f9a00\", \"width\": 1}, \"lon\": [8.54917, -17.49020004272461], \"mode\": \"lines\", \"opacity\": 1.0, \"type\": \"scattergeo\"}, {\"lat\": [47.464698999999996, 46.40639877319336], \"line\": {\"color\": \"#3f9a00\", \"width\": 1}, \"lon\": [8.54917, 6.258059978485107], \"mode\": \"lines\", \"opacity\": 1.0, \"type\": \"scattergeo\"}, {\"lat\": [47.464698999999996, 48.554401], \"line\": {\"color\": \"#3f9a00\", \"width\": 1}, \"lon\": [8.54917, 7.778060000000001], \"mode\": \"lines\", \"opacity\": 1.0, \"type\": \"scattergeo\"}, {\"lat\": [47.464698999999996, 48.53829956054688], \"line\": {\"color\": \"#3f9a00\", \"width\": 1}, \"lon\": [8.54917, 7.628230094909668], \"mode\": \"lines\", \"opacity\": 1.0, \"type\": \"scattergeo\"}, {\"lat\": [47.464698999999996, 13.338000297546387], \"line\": {\"color\": \"#3f9a00\", \"width\": 1}, \"lon\": [8.54917, -16.65220069885254], \"mode\": \"lines\", \"opacity\": 1.0, \"type\": \"scattergeo\"}, {\"lat\": [47.464698999999996, 14.924500465393065], \"line\": {\"color\": \"#3f9a00\", \"width\": 1}, \"lon\": [8.54917, -23.49349975585937], \"mode\": \"lines\", \"opacity\": 1.0, \"type\": \"scattergeo\"}, {\"lat\": [47.464698999999996, 33.655398999999996], \"line\": {\"color\": \"#3f9a00\", \"width\": 1}, \"lon\": [8.54917, -7.22145], \"mode\": \"lines\", \"opacity\": 1.0, \"type\": \"scattergeo\"}, {\"lat\": [47.464698999999996, 51.87469863891602], \"line\": {\"color\": \"#1d8d00\", \"width\": 1}, \"lon\": [8.54917, -0.36833301186561584], \"mode\": \"lines\", \"opacity\": 1.0, \"type\": \"scattergeo\"}, {\"lat\": [47.464698999999996, 32.114700317382805], \"line\": {\"color\": \"#1d8d00\", \"width\": 1}, \"lon\": [8.54917, 34.78219985961914], \"mode\": \"lines\", \"opacity\": 1.0, \"type\": \"scattergeo\"}, {\"lat\": [47.464698999999996, 43.439271921999996], \"line\": {\"color\": \"#1d8d00\", \"width\": 1}, \"lon\": [8.54917, 5.22142410278], \"mode\": \"lines\", \"opacity\": 1.0, \"type\": \"scattergeo\"}, {\"lat\": [47.464698999999996, 55.40879821777344], \"line\": {\"color\": \"#058300\", \"width\": 1}, \"lon\": [8.54917, 37.90629959106445], \"mode\": \"lines\", \"opacity\": 1.0, \"type\": \"scattergeo\"}, {\"lat\": [47.464698999999996, 32.011398315429695], \"line\": {\"color\": \"#058300\", \"width\": 1}, \"lon\": [8.54917, 34.88669967651367], \"mode\": \"lines\", \"opacity\": 1.0, \"type\": \"scattergeo\"}, {\"lat\": [47.464698999999996, 37.9364013672], \"line\": {\"color\": \"#058300\", \"width\": 1}, \"lon\": [8.54917, 23.944499969499997], \"mode\": \"lines\", \"opacity\": 1.0, \"type\": \"scattergeo\"}, {\"lat\": [47.464698999999996, 34.875099182128906], \"line\": {\"color\": \"#058300\", \"width\": 1}, \"lon\": [8.54917, 33.62490081787109], \"mode\": \"lines\", \"opacity\": 1.0, \"type\": \"scattergeo\"}, {\"lat\": [47.464698999999996, 36.40539932250977], \"line\": {\"color\": \"#058300\", \"width\": 1}, \"lon\": [8.54917, 28.086200714111328], \"mode\": \"lines\", \"opacity\": 1.0, \"type\": \"scattergeo\"}, {\"lat\": [47.464698999999996, 35.3396987915], \"line\": {\"color\": \"#058300\", \"width\": 1}, \"lon\": [8.54917, 25.1802997589], \"mode\": \"lines\", \"opacity\": 1.0, \"type\": \"scattergeo\"}, {\"lat\": [47.464698999999996, 37.893299], \"line\": {\"color\": \"#058300\", \"width\": 1}, \"lon\": [8.54917, 23.726101], \"mode\": \"lines\", \"opacity\": 1.0, \"type\": \"scattergeo\"}, {\"lat\": [47.464698999999996, 51.330799102799986], \"line\": {\"color\": \"#469d00\", \"width\": 1}, \"lon\": [8.54917, 0.032499998807900006], \"mode\": \"lines\", \"opacity\": 1.0, \"type\": \"scattergeo\"}, {\"lat\": [47.464698999999996, 51.5530014038], \"line\": {\"color\": \"#469d00\", \"width\": 1}, \"lon\": [8.54917, -0.418166995049], \"mode\": \"lines\", \"opacity\": 1.0, \"type\": \"scattergeo\"}, {\"lat\": [47.464698999999996, 51.469722747799985], \"line\": {\"color\": \"#469d00\", \"width\": 1}, \"lon\": [8.54917, -0.179444000125], \"mode\": \"lines\", \"opacity\": 1.0, \"type\": \"scattergeo\"}, {\"lat\": [47.464698999999996, 51.5008010864], \"line\": {\"color\": \"#469d00\", \"width\": 1}, \"lon\": [8.54917, -0.774443984032], \"mode\": \"lines\", \"opacity\": 1.0, \"type\": \"scattergeo\"}, {\"lat\": [47.464698999999996, 51.6557998657], \"line\": {\"color\": \"#469d00\", \"width\": 1}, \"lon\": [8.54917, -0.325832992792], \"mode\": \"lines\", \"opacity\": 1.0, \"type\": \"scattergeo\"}, {\"lat\": [47.464698999999996, 47.843299865722656], \"line\": {\"color\": \"#77ac00\", \"width\": 1}, \"lon\": [8.54917, 16.260099411010742], \"mode\": \"lines\", \"opacity\": 1.0, \"type\": \"scattergeo\"}, {\"lat\": [47.464698999999996, 41.800277799999996], \"line\": {\"color\": \"#3f9a00\", \"width\": 1}, \"lon\": [8.54917, 12.238888900000001], \"mode\": \"lines\", \"opacity\": 1.0, \"type\": \"scattergeo\"}, {\"lat\": [47.464698999999996, 42.430199], \"line\": {\"color\": \"#3f9a00\", \"width\": 1}, \"lon\": [8.54917, 12.0642], \"mode\": \"lines\", \"opacity\": 1.0, \"type\": \"scattergeo\"}, {\"lat\": [47.464698999999996, 41.654499], \"line\": {\"color\": \"#3f9a00\", \"width\": 1}, \"lon\": [8.54917, 12.4452], \"mode\": \"lines\", \"opacity\": 1.0, \"type\": \"scattergeo\"}, {\"lat\": [47.464698999999996, 50.63740158081055], \"line\": {\"color\": \"#56a200\", \"width\": 1}, \"lon\": [8.54917, 5.443220138549805], \"mode\": \"lines\", \"opacity\": 1.0, \"type\": \"scattergeo\"}, {\"lat\": [47.464698999999996, 50.9014015198], \"line\": {\"color\": \"#56a200\", \"width\": 1}, \"lon\": [8.54917, 4.48443984985], \"mode\": \"lines\", \"opacity\": 1.0, \"type\": \"scattergeo\"}, {\"lat\": [47.464698999999996, 51.21166610717773], \"line\": {\"color\": \"#56a200\", \"width\": 1}, \"lon\": [8.54917, 4.580832958221436], \"mode\": \"lines\", \"opacity\": 1.0, \"type\": \"scattergeo\"}, {\"lat\": [47.464698999999996, 51.189399719200004], \"line\": {\"color\": \"#56a200\", \"width\": 1}, \"lon\": [8.54917, 4.46027994156], \"mode\": \"lines\", \"opacity\": 1.0, \"type\": \"scattergeo\"}, {\"lat\": [47.464698999999996, 37.61899948120117], \"line\": {\"color\": \"#319500\", \"width\": 1}, \"lon\": [8.54917, -122.375], \"mode\": \"lines\", \"opacity\": 1.0, \"type\": \"scattergeo\"}, {\"lat\": [47.464698999999996, 53.421299], \"line\": {\"color\": \"#1d8d00\", \"width\": 1}, \"lon\": [8.54917, -6.27007], \"mode\": \"lines\", \"opacity\": 1.0, \"type\": \"scattergeo\"}, {\"lat\": [47.464698999999996, 53.352199554399995], \"line\": {\"color\": \"#1d8d00\", \"width\": 1}, \"lon\": [8.54917, -6.48611021042], \"mode\": \"lines\", \"opacity\": 1.0, \"type\": \"scattergeo\"}, {\"lat\": [47.464698999999996, 53.301700591999996], \"line\": {\"color\": \"#1d8d00\", \"width\": 1}, \"lon\": [8.54917, -6.451330184940001], \"mode\": \"lines\", \"opacity\": 1.0, \"type\": \"scattergeo\"}, {\"lat\": [47.464698999999996, 50.865898132299996], \"line\": {\"color\": \"#469d00\", \"width\": 1}, \"lon\": [8.54917, 7.1427397728], \"mode\": \"lines\", \"opacity\": 1.0, \"type\": \"scattergeo\"}, {\"lat\": [47.464698999999996, 52.5597], \"line\": {\"color\": \"#469d00\", \"width\": 1}, \"lon\": [8.54917, 13.2877], \"mode\": \"lines\", \"opacity\": 1.0, \"type\": \"scattergeo\"}, {\"lat\": [47.464698999999996, 51.289501], \"line\": {\"color\": \"#469d00\", \"width\": 1}, \"lon\": [8.54917, 6.766780000000001], \"mode\": \"lines\", \"opacity\": 1.0, \"type\": \"scattergeo\"}, {\"lat\": [47.464698999999996, 51.40230178833008], \"line\": {\"color\": \"#469d00\", \"width\": 1}, \"lon\": [8.54917, 6.9373297691345215], \"mode\": \"lines\", \"opacity\": 1.0, \"type\": \"scattergeo\"}, {\"lat\": [47.464698999999996, 53.630401611328004], \"line\": {\"color\": \"#469d00\", \"width\": 1}, \"lon\": [8.54917, 9.988229751586902], \"mode\": \"lines\", \"opacity\": 1.0, \"type\": \"scattergeo\"}, {\"lat\": [47.464698999999996, 51.230278000000006], \"line\": {\"color\": \"#469d00\", \"width\": 1}, \"lon\": [8.54917, 6.504444], \"mode\": \"lines\", \"opacity\": 1.0, \"type\": \"scattergeo\"}, {\"lat\": [47.464698999999996, 49.6963005065918], \"line\": {\"color\": \"#469d00\", \"width\": 1}, \"lon\": [8.54917, 18.111099243164066], \"mode\": \"lines\", \"opacity\": 1.0, \"type\": \"scattergeo\"}, {\"lat\": [47.464698999999996, 52.308601], \"line\": {\"color\": \"#239000\", \"width\": 1}, \"lon\": [8.54917, 4.76389], \"mode\": \"lines\", \"opacity\": 1.0, \"type\": \"scattergeo\"}, {\"lat\": [47.464698999999996, 51.956902], \"line\": {\"color\": \"#239000\", \"width\": 1}, \"lon\": [8.54917, 4.43722], \"mode\": \"lines\", \"opacity\": 1.0, \"type\": \"scattergeo\"}, {\"lat\": [47.464698999999996, 52.380001], \"line\": {\"color\": \"#f00\", \"width\": 1}, \"lon\": [8.54917, 13.5225], \"mode\": \"lines\", \"opacity\": 1.0, \"type\": \"scattergeo\"}, {\"lat\": [47.464698999999996, 56.92359924316406], \"line\": {\"color\": \"#319500\", \"width\": 1}, \"lon\": [8.54917, 23.971099853515625], \"mode\": \"lines\", \"opacity\": 1.0, \"type\": \"scattergeo\"}, {\"lat\": [47.464698999999996, 56.9422], \"line\": {\"color\": \"#319500\", \"width\": 1}, \"lon\": [8.54917, 23.2239], \"mode\": \"lines\", \"opacity\": 1.0, \"type\": \"scattergeo\"}, {\"lat\": [47.464698999999996, 59.4486198425293], \"line\": {\"color\": \"#319500\", \"width\": 1}, \"lon\": [8.54917, 24.75322723388672], \"mode\": \"lines\", \"opacity\": 1.0, \"type\": \"scattergeo\"}, {\"lat\": [47.464698999999996, 52.205002], \"line\": {\"color\": \"#77ac00\", \"width\": 1}, \"lon\": [8.54917, 0.175], \"mode\": \"lines\", \"opacity\": 1.0, \"type\": \"scattergeo\"}, {\"lat\": [46.40639877319336, 51.4706], \"line\": {\"color\": \"#469d00\", \"width\": 1}, \"lon\": [6.258059978485107, -0.461941], \"mode\": \"lines\", \"opacity\": 1.0, \"type\": \"scattergeo\"}, {\"lat\": [46.40639877319336, 53.421299], \"line\": {\"color\": \"#1d8d00\", \"width\": 1}, \"lon\": [6.258059978485107, -6.27007], \"mode\": \"lines\", \"opacity\": 1.0, \"type\": \"scattergeo\"}],\n",
       "                        {\"geo\": {\"countrycolor\": \"rgb(204, 204, 204)\", \"landcolor\": \"rgb(243, 243, 243)\", \"showland\": true}, \"showlegend\": false, \"template\": {\"data\": {\"bar\": [{\"error_x\": {\"color\": \"#2a3f5f\"}, \"error_y\": {\"color\": \"#2a3f5f\"}, \"marker\": {\"line\": {\"color\": \"#E5ECF6\", \"width\": 0.5}}, \"type\": \"bar\"}], \"barpolar\": [{\"marker\": {\"line\": {\"color\": \"#E5ECF6\", \"width\": 0.5}}, \"type\": \"barpolar\"}], \"carpet\": [{\"aaxis\": {\"endlinecolor\": \"#2a3f5f\", \"gridcolor\": \"white\", \"linecolor\": \"white\", \"minorgridcolor\": \"white\", \"startlinecolor\": \"#2a3f5f\"}, \"baxis\": {\"endlinecolor\": \"#2a3f5f\", \"gridcolor\": \"white\", \"linecolor\": \"white\", \"minorgridcolor\": \"white\", \"startlinecolor\": \"#2a3f5f\"}, \"type\": \"carpet\"}], \"choropleth\": [{\"colorbar\": {\"outlinewidth\": 0, \"ticks\": \"\"}, \"type\": \"choropleth\"}], \"contour\": [{\"colorbar\": {\"outlinewidth\": 0, \"ticks\": \"\"}, \"colorscale\": [[0.0, \"#0d0887\"], [0.1111111111111111, \"#46039f\"], [0.2222222222222222, \"#7201a8\"], [0.3333333333333333, \"#9c179e\"], [0.4444444444444444, \"#bd3786\"], [0.5555555555555556, \"#d8576b\"], [0.6666666666666666, \"#ed7953\"], [0.7777777777777778, \"#fb9f3a\"], [0.8888888888888888, \"#fdca26\"], [1.0, \"#f0f921\"]], \"type\": \"contour\"}], \"contourcarpet\": [{\"colorbar\": {\"outlinewidth\": 0, \"ticks\": \"\"}, \"type\": \"contourcarpet\"}], \"heatmap\": [{\"colorbar\": {\"outlinewidth\": 0, \"ticks\": \"\"}, \"colorscale\": [[0.0, \"#0d0887\"], [0.1111111111111111, \"#46039f\"], [0.2222222222222222, \"#7201a8\"], [0.3333333333333333, \"#9c179e\"], [0.4444444444444444, \"#bd3786\"], [0.5555555555555556, \"#d8576b\"], [0.6666666666666666, \"#ed7953\"], [0.7777777777777778, \"#fb9f3a\"], [0.8888888888888888, \"#fdca26\"], [1.0, \"#f0f921\"]], \"type\": \"heatmap\"}], \"heatmapgl\": [{\"colorbar\": {\"outlinewidth\": 0, \"ticks\": \"\"}, \"colorscale\": [[0.0, \"#0d0887\"], [0.1111111111111111, \"#46039f\"], [0.2222222222222222, \"#7201a8\"], [0.3333333333333333, \"#9c179e\"], [0.4444444444444444, \"#bd3786\"], [0.5555555555555556, \"#d8576b\"], [0.6666666666666666, \"#ed7953\"], [0.7777777777777778, \"#fb9f3a\"], [0.8888888888888888, \"#fdca26\"], [1.0, \"#f0f921\"]], \"type\": \"heatmapgl\"}], \"histogram\": [{\"marker\": {\"colorbar\": {\"outlinewidth\": 0, \"ticks\": \"\"}}, \"type\": \"histogram\"}], \"histogram2d\": [{\"colorbar\": {\"outlinewidth\": 0, \"ticks\": \"\"}, \"colorscale\": [[0.0, \"#0d0887\"], [0.1111111111111111, \"#46039f\"], [0.2222222222222222, \"#7201a8\"], [0.3333333333333333, \"#9c179e\"], [0.4444444444444444, \"#bd3786\"], [0.5555555555555556, \"#d8576b\"], [0.6666666666666666, \"#ed7953\"], [0.7777777777777778, \"#fb9f3a\"], [0.8888888888888888, \"#fdca26\"], [1.0, \"#f0f921\"]], \"type\": \"histogram2d\"}], \"histogram2dcontour\": [{\"colorbar\": {\"outlinewidth\": 0, \"ticks\": \"\"}, \"colorscale\": [[0.0, \"#0d0887\"], [0.1111111111111111, \"#46039f\"], [0.2222222222222222, \"#7201a8\"], [0.3333333333333333, \"#9c179e\"], [0.4444444444444444, \"#bd3786\"], [0.5555555555555556, \"#d8576b\"], [0.6666666666666666, \"#ed7953\"], [0.7777777777777778, \"#fb9f3a\"], [0.8888888888888888, \"#fdca26\"], [1.0, \"#f0f921\"]], \"type\": \"histogram2dcontour\"}], \"mesh3d\": [{\"colorbar\": {\"outlinewidth\": 0, \"ticks\": \"\"}, \"type\": \"mesh3d\"}], \"parcoords\": [{\"line\": {\"colorbar\": {\"outlinewidth\": 0, \"ticks\": \"\"}}, \"type\": \"parcoords\"}], \"pie\": [{\"automargin\": true, \"type\": \"pie\"}], \"scatter\": [{\"marker\": {\"colorbar\": {\"outlinewidth\": 0, \"ticks\": \"\"}}, \"type\": \"scatter\"}], \"scatter3d\": [{\"line\": {\"colorbar\": {\"outlinewidth\": 0, \"ticks\": \"\"}}, \"marker\": {\"colorbar\": {\"outlinewidth\": 0, \"ticks\": \"\"}}, \"type\": \"scatter3d\"}], \"scattercarpet\": [{\"marker\": {\"colorbar\": {\"outlinewidth\": 0, \"ticks\": \"\"}}, \"type\": \"scattercarpet\"}], \"scattergeo\": [{\"marker\": {\"colorbar\": {\"outlinewidth\": 0, \"ticks\": \"\"}}, \"type\": \"scattergeo\"}], \"scattergl\": [{\"marker\": {\"colorbar\": {\"outlinewidth\": 0, \"ticks\": \"\"}}, \"type\": \"scattergl\"}], \"scattermapbox\": [{\"marker\": {\"colorbar\": {\"outlinewidth\": 0, \"ticks\": \"\"}}, \"type\": \"scattermapbox\"}], \"scatterpolar\": [{\"marker\": {\"colorbar\": {\"outlinewidth\": 0, \"ticks\": \"\"}}, \"type\": \"scatterpolar\"}], \"scatterpolargl\": [{\"marker\": {\"colorbar\": {\"outlinewidth\": 0, \"ticks\": \"\"}}, \"type\": \"scatterpolargl\"}], \"scatterternary\": [{\"marker\": {\"colorbar\": {\"outlinewidth\": 0, \"ticks\": \"\"}}, \"type\": \"scatterternary\"}], \"surface\": [{\"colorbar\": {\"outlinewidth\": 0, \"ticks\": \"\"}, \"colorscale\": [[0.0, \"#0d0887\"], [0.1111111111111111, \"#46039f\"], [0.2222222222222222, \"#7201a8\"], [0.3333333333333333, \"#9c179e\"], [0.4444444444444444, \"#bd3786\"], [0.5555555555555556, \"#d8576b\"], [0.6666666666666666, \"#ed7953\"], [0.7777777777777778, \"#fb9f3a\"], [0.8888888888888888, \"#fdca26\"], [1.0, \"#f0f921\"]], \"type\": \"surface\"}], \"table\": [{\"cells\": {\"fill\": {\"color\": \"#EBF0F8\"}, \"line\": {\"color\": \"white\"}}, \"header\": {\"fill\": {\"color\": \"#C8D4E3\"}, \"line\": {\"color\": \"white\"}}, \"type\": \"table\"}]}, \"layout\": {\"annotationdefaults\": {\"arrowcolor\": \"#2a3f5f\", \"arrowhead\": 0, \"arrowwidth\": 1}, \"coloraxis\": {\"colorbar\": {\"outlinewidth\": 0, \"ticks\": \"\"}}, \"colorscale\": {\"diverging\": [[0, \"#8e0152\"], [0.1, \"#c51b7d\"], [0.2, \"#de77ae\"], [0.3, \"#f1b6da\"], [0.4, \"#fde0ef\"], [0.5, \"#f7f7f7\"], [0.6, \"#e6f5d0\"], [0.7, \"#b8e186\"], [0.8, \"#7fbc41\"], [0.9, \"#4d9221\"], [1, \"#276419\"]], \"sequential\": [[0.0, \"#0d0887\"], [0.1111111111111111, \"#46039f\"], [0.2222222222222222, \"#7201a8\"], [0.3333333333333333, \"#9c179e\"], [0.4444444444444444, \"#bd3786\"], [0.5555555555555556, \"#d8576b\"], [0.6666666666666666, \"#ed7953\"], [0.7777777777777778, \"#fb9f3a\"], [0.8888888888888888, \"#fdca26\"], [1.0, \"#f0f921\"]], \"sequentialminus\": [[0.0, \"#0d0887\"], [0.1111111111111111, \"#46039f\"], [0.2222222222222222, \"#7201a8\"], [0.3333333333333333, \"#9c179e\"], [0.4444444444444444, \"#bd3786\"], [0.5555555555555556, \"#d8576b\"], [0.6666666666666666, \"#ed7953\"], [0.7777777777777778, \"#fb9f3a\"], [0.8888888888888888, \"#fdca26\"], [1.0, \"#f0f921\"]]}, \"colorway\": [\"#636efa\", \"#EF553B\", \"#00cc96\", \"#ab63fa\", \"#FFA15A\", \"#19d3f3\", \"#FF6692\", \"#B6E880\", \"#FF97FF\", \"#FECB52\"], \"font\": {\"color\": \"#2a3f5f\"}, \"geo\": {\"bgcolor\": \"white\", \"lakecolor\": \"white\", \"landcolor\": \"#E5ECF6\", \"showlakes\": true, \"showland\": true, \"subunitcolor\": \"white\"}, \"hoverlabel\": {\"align\": \"left\"}, \"hovermode\": \"closest\", \"mapbox\": {\"style\": \"light\"}, \"paper_bgcolor\": \"white\", \"plot_bgcolor\": \"#E5ECF6\", \"polar\": {\"angularaxis\": {\"gridcolor\": \"white\", \"linecolor\": \"white\", \"ticks\": \"\"}, \"bgcolor\": \"#E5ECF6\", \"radialaxis\": {\"gridcolor\": \"white\", \"linecolor\": \"white\", \"ticks\": \"\"}}, \"scene\": {\"xaxis\": {\"backgroundcolor\": \"#E5ECF6\", \"gridcolor\": \"white\", \"gridwidth\": 2, \"linecolor\": \"white\", \"showbackground\": true, \"ticks\": \"\", \"zerolinecolor\": \"white\"}, \"yaxis\": {\"backgroundcolor\": \"#E5ECF6\", \"gridcolor\": \"white\", \"gridwidth\": 2, \"linecolor\": \"white\", \"showbackground\": true, \"ticks\": \"\", \"zerolinecolor\": \"white\"}, \"zaxis\": {\"backgroundcolor\": \"#E5ECF6\", \"gridcolor\": \"white\", \"gridwidth\": 2, \"linecolor\": \"white\", \"showbackground\": true, \"ticks\": \"\", \"zerolinecolor\": \"white\"}}, \"shapedefaults\": {\"line\": {\"color\": \"#2a3f5f\"}}, \"ternary\": {\"aaxis\": {\"gridcolor\": \"white\", \"linecolor\": \"white\", \"ticks\": \"\"}, \"baxis\": {\"gridcolor\": \"white\", \"linecolor\": \"white\", \"ticks\": \"\"}, \"bgcolor\": \"#E5ECF6\", \"caxis\": {\"gridcolor\": \"white\", \"linecolor\": \"white\", \"ticks\": \"\"}}, \"title\": {\"x\": 0.05}, \"xaxis\": {\"automargin\": true, \"gridcolor\": \"white\", \"linecolor\": \"white\", \"ticks\": \"\", \"title\": {\"standoff\": 15}, \"zerolinecolor\": \"white\", \"zerolinewidth\": 2}, \"yaxis\": {\"automargin\": true, \"gridcolor\": \"white\", \"linecolor\": \"white\", \"ticks\": \"\", \"title\": {\"standoff\": 15}, \"zerolinecolor\": \"white\", \"zerolinewidth\": 2}}}, \"title\": {\"text\": \"Flight routes starting from Swiss airports\"}},\n",
       "                        {\"responsive\": true}\n",
       "                    ).then(function(){\n",
       "                            \n",
       "var gd = document.getElementById('24f6cff7-78ac-412b-b412-71677dc282a1');\n",
       "var x = new MutationObserver(function (mutations, observer) {{\n",
       "        var display = window.getComputedStyle(gd).display;\n",
       "        if (!display || display === 'none') {{\n",
       "            console.log([gd, 'removed!']);\n",
       "            Plotly.purge(gd);\n",
       "            observer.disconnect();\n",
       "        }}\n",
       "}});\n",
       "\n",
       "// Listen for the removal of the full notebook cells\n",
       "var notebookContainer = gd.closest('#notebook-container');\n",
       "if (notebookContainer) {{\n",
       "    x.observe(notebookContainer, {childList: true});\n",
       "}}\n",
       "\n",
       "// Listen for the clearing of the current output cell\n",
       "var outputEl = gd.closest('.output');\n",
       "if (outputEl) {{\n",
       "    x.observe(outputEl, {childList: true});\n",
       "}}\n",
       "\n",
       "                        })\n",
       "                };\n",
       "                });\n",
       "            </script>\n",
       "        </div>"
      ]
     },
     "metadata": {},
     "output_type": "display_data"
    }
   ],
   "source": [
    "# Make a dataset with the routes starting from Switzerland\n",
    "co2_dataset_bestcompany_from_switzerland = pd.merge(left=co2_dataset_bestcompany,right=swiss_airports, left_on='departure', right_on='icao')\n",
    "\n",
    "# Plot the routes starting from Switzerland \n",
    "plot_scatterplot(co2_dataset_bestcompany_from_switzerland, feature='CO2 per seat kg/100km', title='Flight routes starting from Swiss airports')"
   ]
  },
  {
   "cell_type": "markdown",
   "metadata": {},
   "source": [
    "*We observe that there is a lack of contrast due to outlier companies that have very high CO2 emissions per seat/100km, we have to delete them to have a better view.*"
   ]
  },
  {
   "cell_type": "code",
   "execution_count": 370,
   "metadata": {},
   "outputs": [
    {
     "data": {
      "application/vnd.plotly.v1+json": {
       "config": {
        "plotlyServerURL": "https://plot.ly"
       },
       "data": [
        {
         "lat": [
          46.23809814453125,
          13.681099891662598
         ],
         "line": {
          "color": "#f00",
          "width": 1
         },
         "lon": [
          6.108950138092041,
          100.74700164794922
         ],
         "mode": "lines",
         "opacity": 1,
         "type": "scattergeo"
        },
        {
         "lat": [
          46.23809814453125,
          25.252799987800003
         ],
         "line": {
          "color": "#ea4c00",
          "width": 1
         },
         "lon": [
          6.108950138092041,
          55.3643989563
         ],
         "mode": "lines",
         "opacity": 1,
         "type": "scattergeo"
        },
        {
         "lat": [
          47.464698999999996,
          47.843299865722656
         ],
         "line": {
          "color": "#e85500",
          "width": 1
         },
         "lon": [
          8.54917,
          16.260099411010742
         ],
         "mode": "lines",
         "opacity": 1,
         "type": "scattergeo"
        },
        {
         "lat": [
          47.464698999999996,
          52.205002
         ],
         "line": {
          "color": "#e55e00",
          "width": 1
         },
         "lon": [
          8.54917,
          0.175
         ],
         "mode": "lines",
         "opacity": 1,
         "type": "scattergeo"
        },
        {
         "lat": [
          46.23809814453125,
          50.459202000000005
         ],
         "line": {
          "color": "#cba600",
          "width": 1
         },
         "lon": [
          6.108950138092041,
          4.4538199999999994
         ],
         "mode": "lines",
         "opacity": 1,
         "type": "scattergeo"
        },
        {
         "lat": [
          46.23809814453125,
          51.21166610717773
         ],
         "line": {
          "color": "#cba600",
          "width": 1
         },
         "lon": [
          6.108950138092041,
          4.580832958221436
         ],
         "mode": "lines",
         "opacity": 1,
         "type": "scattergeo"
        },
        {
         "lat": [
          46.23809814453125,
          51.264702
         ],
         "line": {
          "color": "#cba600",
          "width": 1
         },
         "lon": [
          6.108950138092041,
          4.75333
         ],
         "mode": "lines",
         "opacity": 1,
         "type": "scattergeo"
        },
        {
         "lat": [
          46.23809814453125,
          39.551700591999996
         ],
         "line": {
          "color": "#cba600",
          "width": 1
         },
         "lon": [
          6.108950138092041,
          2.73881006241
         ],
         "mode": "lines",
         "opacity": 1,
         "type": "scattergeo"
        },
        {
         "lat": [
          46.23809814453125,
          51.189399719200004
         ],
         "line": {
          "color": "#cba600",
          "width": 1
         },
         "lon": [
          6.108950138092041,
          4.46027994156
         ],
         "mode": "lines",
         "opacity": 1,
         "type": "scattergeo"
        },
        {
         "lat": [
          46.23809814453125,
          38.905398999999996
         ],
         "line": {
          "color": "#cba600",
          "width": 1
         },
         "lon": [
          6.108950138092041,
          16.2423
         ],
         "mode": "lines",
         "opacity": 1,
         "type": "scattergeo"
        },
        {
         "lat": [
          46.23809814453125,
          50.791901
         ],
         "line": {
          "color": "#cba600",
          "width": 1
         },
         "lon": [
          6.108950138092041,
          5.20167
         ],
         "mode": "lines",
         "opacity": 1,
         "type": "scattergeo"
        },
        {
         "lat": [
          46.23809814453125,
          50.75859832763672
         ],
         "line": {
          "color": "#cba600",
          "width": 1
         },
         "lon": [
          6.108950138092041,
          4.768330097198486
         ],
         "mode": "lines",
         "opacity": 1,
         "type": "scattergeo"
        },
        {
         "lat": [
          46.23809814453125,
          50.781700134277344
         ],
         "line": {
          "color": "#cba600",
          "width": 1
         },
         "lon": [
          6.108950138092041,
          4.957779884338379
         ],
         "mode": "lines",
         "opacity": 1,
         "type": "scattergeo"
        },
        {
         "lat": [
          46.23809814453125,
          50.2433013916
         ],
         "line": {
          "color": "#cba600",
          "width": 1
         },
         "lon": [
          6.108950138092041,
          4.64583015442
         ],
         "mode": "lines",
         "opacity": 1,
         "type": "scattergeo"
        },
        {
         "lat": [
          46.23809814453125,
          51.12
         ],
         "line": {
          "color": "#cba600",
          "width": 1
         },
         "lon": [
          6.108950138092041,
          5.3072222
         ],
         "mode": "lines",
         "opacity": 1,
         "type": "scattergeo"
        },
        {
         "lat": [
          46.23809814453125,
          50.482498
         ],
         "line": {
          "color": "#cba600",
          "width": 1
         },
         "lon": [
          6.108950138092041,
          5.9103
         ],
         "mode": "lines",
         "opacity": 1,
         "type": "scattergeo"
        },
        {
         "lat": [
          46.23809814453125,
          50.970001
         ],
         "line": {
          "color": "#cba600",
          "width": 1
         },
         "lon": [
          6.108950138092041,
          5.37507
         ],
         "mode": "lines",
         "opacity": 1,
         "type": "scattergeo"
        },
        {
         "lat": [
          46.23809814453125,
          50.487999
         ],
         "line": {
          "color": "#cba600",
          "width": 1
         },
         "lon": [
          6.108950138092041,
          4.76892
         ],
         "mode": "lines",
         "opacity": 1,
         "type": "scattergeo"
        },
        {
         "lat": [
          46.23809814453125,
          45.505299
         ],
         "line": {
          "color": "#cba600",
          "width": 1
         },
         "lon": [
          6.108950138092041,
          12.3519
         ],
         "mode": "lines",
         "opacity": 1,
         "type": "scattergeo"
        },
        {
         "lat": [
          47.464698999999996,
          51.189399719200004
         ],
         "line": {
          "color": "#cba600",
          "width": 1
         },
         "lon": [
          8.54917,
          4.46027994156
         ],
         "mode": "lines",
         "opacity": 1,
         "type": "scattergeo"
        },
        {
         "lat": [
          46.23809814453125,
          50.63740158081055
         ],
         "line": {
          "color": "#cba600",
          "width": 1
         },
         "lon": [
          6.108950138092041,
          5.443220138549805
         ],
         "mode": "lines",
         "opacity": 1,
         "type": "scattergeo"
        },
        {
         "lat": [
          47.464698999999996,
          50.63740158081055
         ],
         "line": {
          "color": "#cba600",
          "width": 1
         },
         "lon": [
          8.54917,
          5.443220138549805
         ],
         "mode": "lines",
         "opacity": 1,
         "type": "scattergeo"
        },
        {
         "lat": [
          47.464698999999996,
          50.9014015198
         ],
         "line": {
          "color": "#cba600",
          "width": 1
         },
         "lon": [
          8.54917,
          4.48443984985
         ],
         "mode": "lines",
         "opacity": 1,
         "type": "scattergeo"
        },
        {
         "lat": [
          47.464698999999996,
          51.21166610717773
         ],
         "line": {
          "color": "#cba600",
          "width": 1
         },
         "lon": [
          8.54917,
          4.580832958221436
         ],
         "mode": "lines",
         "opacity": 1,
         "type": "scattergeo"
        },
        {
         "lat": [
          47.464698999999996,
          51.289501
         ],
         "line": {
          "color": "#c3b700",
          "width": 1
         },
         "lon": [
          8.54917,
          6.766780000000001
         ],
         "mode": "lines",
         "opacity": 1,
         "type": "scattergeo"
        },
        {
         "lat": [
          47.464698999999996,
          49.6963005065918
         ],
         "line": {
          "color": "#c3b700",
          "width": 1
         },
         "lon": [
          8.54917,
          18.111099243164066
         ],
         "mode": "lines",
         "opacity": 1,
         "type": "scattergeo"
        },
        {
         "lat": [
          47.464698999999996,
          51.230278000000006
         ],
         "line": {
          "color": "#c3b700",
          "width": 1
         },
         "lon": [
          8.54917,
          6.504444
         ],
         "mode": "lines",
         "opacity": 1,
         "type": "scattergeo"
        },
        {
         "lat": [
          47.464698999999996,
          53.630401611328004
         ],
         "line": {
          "color": "#c3b700",
          "width": 1
         },
         "lon": [
          8.54917,
          9.988229751586902
         ],
         "mode": "lines",
         "opacity": 1,
         "type": "scattergeo"
        },
        {
         "lat": [
          47.464698999999996,
          51.40230178833008
         ],
         "line": {
          "color": "#c3b700",
          "width": 1
         },
         "lon": [
          8.54917,
          6.9373297691345215
         ],
         "mode": "lines",
         "opacity": 1,
         "type": "scattergeo"
        },
        {
         "lat": [
          47.464698999999996,
          50.865898132299996
         ],
         "line": {
          "color": "#c3b700",
          "width": 1
         },
         "lon": [
          8.54917,
          7.1427397728
         ],
         "mode": "lines",
         "opacity": 1,
         "type": "scattergeo"
        },
        {
         "lat": [
          47.464698999999996,
          52.5597
         ],
         "line": {
          "color": "#c3b700",
          "width": 1
         },
         "lon": [
          8.54917,
          13.2877
         ],
         "mode": "lines",
         "opacity": 1,
         "type": "scattergeo"
        },
        {
         "lat": [
          46.23809814453125,
          50.033333
         ],
         "line": {
          "color": "#c3b700",
          "width": 1
         },
         "lon": [
          6.108950138092041,
          8.570556
         ],
         "mode": "lines",
         "opacity": 1,
         "type": "scattergeo"
        },
        {
         "lat": [
          46.23809814453125,
          48.353802
         ],
         "line": {
          "color": "#c3b700",
          "width": 1
         },
         "lon": [
          6.108950138092041,
          11.7861
         ],
         "mode": "lines",
         "opacity": 1,
         "type": "scattergeo"
        },
        {
         "lat": [
          47.464698999999996,
          50.033333
         ],
         "line": {
          "color": "#c3b700",
          "width": 1
         },
         "lon": [
          8.54917,
          8.570556
         ],
         "mode": "lines",
         "opacity": 1,
         "type": "scattergeo"
        },
        {
         "lat": [
          47.464698999999996,
          48.32229995727539
         ],
         "line": {
          "color": "#c1bd00",
          "width": 1
         },
         "lon": [
          8.54917,
          11.948699951171875
         ],
         "mode": "lines",
         "opacity": 1,
         "type": "scattergeo"
        },
        {
         "lat": [
          47.464698999999996,
          47.59
         ],
         "line": {
          "color": "#c1bd00",
          "width": 1
         },
         "lon": [
          8.54917,
          7.5291667
         ],
         "mode": "lines",
         "opacity": 1,
         "type": "scattergeo"
        },
        {
         "lat": [
          46.23809814453125,
          45.6306
         ],
         "line": {
          "color": "#c1bd00",
          "width": 1
         },
         "lon": [
          6.108950138092041,
          8.728110000000001
         ],
         "mode": "lines",
         "opacity": 1,
         "type": "scattergeo"
        },
        {
         "lat": [
          46.23809814453125,
          48.110298156738004
         ],
         "line": {
          "color": "#c1bd00",
          "width": 1
         },
         "lon": [
          6.108950138092041,
          16.569700241089002
         ],
         "mode": "lines",
         "opacity": 1,
         "type": "scattergeo"
        },
        {
         "lat": [
          46.23809814453125,
          48.92779922485352
         ],
         "line": {
          "color": "#c1bd00",
          "width": 1
         },
         "lon": [
          6.108950138092041,
          2.835279941558838
         ],
         "mode": "lines",
         "opacity": 1,
         "type": "scattergeo"
        },
        {
         "lat": [
          46.23809814453125,
          48.969398498535156
         ],
         "line": {
          "color": "#c1bd00",
          "width": 1
         },
         "lon": [
          6.108950138092041,
          2.441390037536621
         ],
         "mode": "lines",
         "opacity": 1,
         "type": "scattergeo"
        },
        {
         "lat": [
          46.23809814453125,
          48.83769989013672
         ],
         "line": {
          "color": "#c1bd00",
          "width": 1
         },
         "lon": [
          6.108950138092041,
          3.016119956970215
         ],
         "mode": "lines",
         "opacity": 1,
         "type": "scattergeo"
        },
        {
         "lat": [
          46.23809814453125,
          49.0672
         ],
         "line": {
          "color": "#c1bd00",
          "width": 1
         },
         "lon": [
          6.108950138092041,
          3.3569400000000003
         ],
         "mode": "lines",
         "opacity": 1,
         "type": "scattergeo"
        },
        {
         "lat": [
          46.23809814453125,
          49.046397999999996
         ],
         "line": {
          "color": "#c1bd00",
          "width": 1
         },
         "lon": [
          6.108950138092041,
          2.3530599999999997
         ],
         "mode": "lines",
         "opacity": 1,
         "type": "scattergeo"
        },
        {
         "lat": [
          46.23809814453125,
          51.469722747799985
         ],
         "line": {
          "color": "#babe00",
          "width": 1
         },
         "lon": [
          6.108950138092041,
          -0.179444000125
         ],
         "mode": "lines",
         "opacity": 1,
         "type": "scattergeo"
        },
        {
         "lat": [
          47.464698999999996,
          51.330799102799986
         ],
         "line": {
          "color": "#babe00",
          "width": 1
         },
         "lon": [
          8.54917,
          0.032499998807900006
         ],
         "mode": "lines",
         "opacity": 1,
         "type": "scattergeo"
        },
        {
         "lat": [
          47.464698999999996,
          51.469722747799985
         ],
         "line": {
          "color": "#babe00",
          "width": 1
         },
         "lon": [
          8.54917,
          -0.179444000125
         ],
         "mode": "lines",
         "opacity": 1,
         "type": "scattergeo"
        },
        {
         "lat": [
          47.464698999999996,
          51.5008010864
         ],
         "line": {
          "color": "#babe00",
          "width": 1
         },
         "lon": [
          8.54917,
          -0.774443984032
         ],
         "mode": "lines",
         "opacity": 1,
         "type": "scattergeo"
        },
        {
         "lat": [
          46.23809814453125,
          51.65250015260001
         ],
         "line": {
          "color": "#babe00",
          "width": 1
         },
         "lon": [
          6.108950138092041,
          0.15583300590500002
         ],
         "mode": "lines",
         "opacity": 1,
         "type": "scattergeo"
        },
        {
         "lat": [
          46.23809814453125,
          51.6557998657
         ],
         "line": {
          "color": "#babe00",
          "width": 1
         },
         "lon": [
          6.108950138092041,
          -0.325832992792
         ],
         "mode": "lines",
         "opacity": 1,
         "type": "scattergeo"
        },
        {
         "lat": [
          46.23809814453125,
          51.5008010864
         ],
         "line": {
          "color": "#babe00",
          "width": 1
         },
         "lon": [
          6.108950138092041,
          -0.774443984032
         ],
         "mode": "lines",
         "opacity": 1,
         "type": "scattergeo"
        },
        {
         "lat": [
          47.464698999999996,
          51.5530014038
         ],
         "line": {
          "color": "#babe00",
          "width": 1
         },
         "lon": [
          8.54917,
          -0.418166995049
         ],
         "mode": "lines",
         "opacity": 1,
         "type": "scattergeo"
        },
        {
         "lat": [
          46.23809814453125,
          51.2136001587
         ],
         "line": {
          "color": "#babe00",
          "width": 1
         },
         "lon": [
          6.108950138092041,
          -0.138611003757
         ],
         "mode": "lines",
         "opacity": 1,
         "type": "scattergeo"
        },
        {
         "lat": [
          46.23809814453125,
          51.5530014038
         ],
         "line": {
          "color": "#babe00",
          "width": 1
         },
         "lon": [
          6.108950138092041,
          -0.418166995049
         ],
         "mode": "lines",
         "opacity": 1,
         "type": "scattergeo"
        },
        {
         "lat": [
          46.23809814453125,
          51.505299
         ],
         "line": {
          "color": "#babe00",
          "width": 1
         },
         "lon": [
          6.108950138092041,
          0.055277999999999994
         ],
         "mode": "lines",
         "opacity": 1,
         "type": "scattergeo"
        },
        {
         "lat": [
          46.23809814453125,
          60.121
         ],
         "line": {
          "color": "#babe00",
          "width": 1
         },
         "lon": [
          6.108950138092041,
          11.0502
         ],
         "mode": "lines",
         "opacity": 1,
         "type": "scattergeo"
        },
        {
         "lat": [
          46.23809814453125,
          51.148102
         ],
         "line": {
          "color": "#babe00",
          "width": 1
         },
         "lon": [
          6.108950138092041,
          -0.190278
         ],
         "mode": "lines",
         "opacity": 1,
         "type": "scattergeo"
        },
        {
         "lat": [
          46.23809814453125,
          51.330799102799986
         ],
         "line": {
          "color": "#babe00",
          "width": 1
         },
         "lon": [
          6.108950138092041,
          0.032499998807900006
         ],
         "mode": "lines",
         "opacity": 1,
         "type": "scattergeo"
        },
        {
         "lat": [
          46.23809814453125,
          51.40230178833008
         ],
         "line": {
          "color": "#babe00",
          "width": 1
         },
         "lon": [
          6.108950138092041,
          6.9373297691345215
         ],
         "mode": "lines",
         "opacity": 1,
         "type": "scattergeo"
        },
        {
         "lat": [
          47.464698999999996,
          51.6557998657
         ],
         "line": {
          "color": "#babe00",
          "width": 1
         },
         "lon": [
          8.54917,
          -0.325832992792
         ],
         "mode": "lines",
         "opacity": 1,
         "type": "scattergeo"
        },
        {
         "lat": [
          46.40639877319336,
          51.4706
         ],
         "line": {
          "color": "#babe00",
          "width": 1
         },
         "lon": [
          6.258059978485107,
          -0.461941
         ],
         "mode": "lines",
         "opacity": 1,
         "type": "scattergeo"
        },
        {
         "lat": [
          47.464698999999996,
          48.353802
         ],
         "line": {
          "color": "#babe00",
          "width": 1
         },
         "lon": [
          8.54917,
          11.7861
         ],
         "mode": "lines",
         "opacity": 1,
         "type": "scattergeo"
        },
        {
         "lat": [
          47.464698999999996,
          48.92779922485352
         ],
         "line": {
          "color": "#babe00",
          "width": 1
         },
         "lon": [
          8.54917,
          2.835279941558838
         ],
         "mode": "lines",
         "opacity": 1,
         "type": "scattergeo"
        },
        {
         "lat": [
          47.464698999999996,
          14.924500465393065
         ],
         "line": {
          "color": "#babe00",
          "width": 1
         },
         "lon": [
          8.54917,
          -23.49349975585937
         ],
         "mode": "lines",
         "opacity": 1,
         "type": "scattergeo"
        },
        {
         "lat": [
          47.464698999999996,
          59.651901245116996
         ],
         "line": {
          "color": "#babe00",
          "width": 1
         },
         "lon": [
          8.54917,
          17.918600082397
         ],
         "mode": "lines",
         "opacity": 1,
         "type": "scattergeo"
        },
        {
         "lat": [
          47.464698999999996,
          14.67
         ],
         "line": {
          "color": "#babe00",
          "width": 1
         },
         "lon": [
          8.54917,
          -17.073332999999998
         ],
         "mode": "lines",
         "opacity": 1,
         "type": "scattergeo"
        },
        {
         "lat": [
          47.464698999999996,
          49.012798
         ],
         "line": {
          "color": "#babe00",
          "width": 1
         },
         "lon": [
          8.54917,
          2.55
         ],
         "mode": "lines",
         "opacity": 1,
         "type": "scattergeo"
        },
        {
         "lat": [
          47.464698999999996,
          46.23809814453125
         ],
         "line": {
          "color": "#babe00",
          "width": 1
         },
         "lon": [
          8.54917,
          6.108950138092041
         ],
         "mode": "lines",
         "opacity": 1,
         "type": "scattergeo"
        },
        {
         "lat": [
          47.464698999999996,
          33.655398999999996
         ],
         "line": {
          "color": "#babe00",
          "width": 1
         },
         "lon": [
          8.54917,
          -7.22145
         ],
         "mode": "lines",
         "opacity": 1,
         "type": "scattergeo"
        },
        {
         "lat": [
          47.464698999999996,
          13.338000297546387
         ],
         "line": {
          "color": "#babe00",
          "width": 1
         },
         "lon": [
          8.54917,
          -16.65220069885254
         ],
         "mode": "lines",
         "opacity": 1,
         "type": "scattergeo"
        },
        {
         "lat": [
          47.464698999999996,
          48.53829956054688
         ],
         "line": {
          "color": "#babe00",
          "width": 1
         },
         "lon": [
          8.54917,
          7.628230094909668
         ],
         "mode": "lines",
         "opacity": 1,
         "type": "scattergeo"
        },
        {
         "lat": [
          47.464698999999996,
          48.554401
         ],
         "line": {
          "color": "#babe00",
          "width": 1
         },
         "lon": [
          8.54917,
          7.778060000000001
         ],
         "mode": "lines",
         "opacity": 1,
         "type": "scattergeo"
        },
        {
         "lat": [
          47.464698999999996,
          33.36750030517578
         ],
         "line": {
          "color": "#babe00",
          "width": 1
         },
         "lon": [
          8.54917,
          -7.589970111846924
         ],
         "mode": "lines",
         "opacity": 1,
         "type": "scattergeo"
        },
        {
         "lat": [
          46.23809814453125,
          33.36750030517578
         ],
         "line": {
          "color": "#babe00",
          "width": 1
         },
         "lon": [
          6.108950138092041,
          -7.589970111846924
         ],
         "mode": "lines",
         "opacity": 1,
         "type": "scattergeo"
        },
        {
         "lat": [
          46.23809814453125,
          13.338000297546387
         ],
         "line": {
          "color": "#babe00",
          "width": 1
         },
         "lon": [
          6.108950138092041,
          -16.65220069885254
         ],
         "mode": "lines",
         "opacity": 1,
         "type": "scattergeo"
        },
        {
         "lat": [
          46.23809814453125,
          11.894800186157227
         ],
         "line": {
          "color": "#babe00",
          "width": 1
         },
         "lon": [
          6.108950138092041,
          -15.65369987487793
         ],
         "mode": "lines",
         "opacity": 1,
         "type": "scattergeo"
        },
        {
         "lat": [
          47.464698999999996,
          53.35369873046875
         ],
         "line": {
          "color": "#babe00",
          "width": 1
         },
         "lon": [
          8.54917,
          -2.2749500274658203
         ],
         "mode": "lines",
         "opacity": 1,
         "type": "scattergeo"
        },
        {
         "lat": [
          46.23809814453125,
          33.655398999999996
         ],
         "line": {
          "color": "#babe00",
          "width": 1
         },
         "lon": [
          6.108950138092041,
          -7.22145
         ],
         "mode": "lines",
         "opacity": 1,
         "type": "scattergeo"
        },
        {
         "lat": [
          46.23809814453125,
          14.924500465393065
         ],
         "line": {
          "color": "#babe00",
          "width": 1
         },
         "lon": [
          6.108950138092041,
          -23.49349975585937
         ],
         "mode": "lines",
         "opacity": 1,
         "type": "scattergeo"
        },
        {
         "lat": [
          46.23809814453125,
          59.41329956049999
         ],
         "line": {
          "color": "#babe00",
          "width": 1
         },
         "lon": [
          6.108950138092041,
          24.8327999115
         ],
         "mode": "lines",
         "opacity": 1,
         "type": "scattergeo"
        },
        {
         "lat": [
          46.23809814453125,
          43.522701
         ],
         "line": {
          "color": "#babe00",
          "width": 1
         },
         "lon": [
          6.108950138092041,
          4.92384
         ],
         "mode": "lines",
         "opacity": 1,
         "type": "scattergeo"
        },
        {
         "lat": [
          46.23809814453125,
          18.31
         ],
         "line": {
          "color": "#babe00",
          "width": 1
         },
         "lon": [
          6.108950138092041,
          -15.969722199999998
         ],
         "mode": "lines",
         "opacity": 1,
         "type": "scattergeo"
        },
        {
         "lat": [
          46.23809814453125,
          45.725556
         ],
         "line": {
          "color": "#babe00",
          "width": 1
         },
         "lon": [
          6.108950138092041,
          5.081111
         ],
         "mode": "lines",
         "opacity": 1,
         "type": "scattergeo"
        },
        {
         "lat": [
          47.464698999999996,
          46.40639877319336
         ],
         "line": {
          "color": "#babe00",
          "width": 1
         },
         "lon": [
          8.54917,
          6.258059978485107
         ],
         "mode": "lines",
         "opacity": 1,
         "type": "scattergeo"
        },
        {
         "lat": [
          46.23809814453125,
          14.739700317382812
         ],
         "line": {
          "color": "#babe00",
          "width": 1
         },
         "lon": [
          6.108950138092041,
          -17.49020004272461
         ],
         "mode": "lines",
         "opacity": 1,
         "type": "scattergeo"
        },
        {
         "lat": [
          46.23809814453125,
          38.7813
         ],
         "line": {
          "color": "#babe00",
          "width": 1
         },
         "lon": [
          6.108950138092041,
          -9.13592
         ],
         "mode": "lines",
         "opacity": 1,
         "type": "scattergeo"
        },
        {
         "lat": [
          47.464698999999996,
          14.739700317382812
         ],
         "line": {
          "color": "#babe00",
          "width": 1
         },
         "lon": [
          8.54917,
          -17.49020004272461
         ],
         "mode": "lines",
         "opacity": 1,
         "type": "scattergeo"
        },
        {
         "lat": [
          46.23809814453125,
          14.67
         ],
         "line": {
          "color": "#babe00",
          "width": 1
         },
         "lon": [
          6.108950138092041,
          -17.073332999999998
         ],
         "mode": "lines",
         "opacity": 1,
         "type": "scattergeo"
        },
        {
         "lat": [
          46.23809814453125,
          49.012798
         ],
         "line": {
          "color": "#babe00",
          "width": 1
         },
         "lon": [
          6.108950138092041,
          2.55
         ],
         "mode": "lines",
         "opacity": 1,
         "type": "scattergeo"
        },
        {
         "lat": [
          46.23809814453125,
          41.7994
         ],
         "line": {
          "color": "#b0bc00",
          "width": 1
         },
         "lon": [
          6.108950138092041,
          12.5949
         ],
         "mode": "lines",
         "opacity": 1,
         "type": "scattergeo"
        },
        {
         "lat": [
          47.464698999999996,
          41.654499
         ],
         "line": {
          "color": "#b0bc00",
          "width": 1
         },
         "lon": [
          8.54917,
          12.4452
         ],
         "mode": "lines",
         "opacity": 1,
         "type": "scattergeo"
        },
        {
         "lat": [
          47.464698999999996,
          41.800277799999996
         ],
         "line": {
          "color": "#b0bc00",
          "width": 1
         },
         "lon": [
          8.54917,
          12.238888900000001
         ],
         "mode": "lines",
         "opacity": 1,
         "type": "scattergeo"
        },
        {
         "lat": [
          47.464698999999996,
          42.430199
         ],
         "line": {
          "color": "#b0bc00",
          "width": 1
         },
         "lon": [
          8.54917,
          12.0642
         ],
         "mode": "lines",
         "opacity": 1,
         "type": "scattergeo"
        },
        {
         "lat": [
          46.23809814453125,
          41.654499
         ],
         "line": {
          "color": "#b0bc00",
          "width": 1
         },
         "lon": [
          6.108950138092041,
          12.4452
         ],
         "mode": "lines",
         "opacity": 1,
         "type": "scattergeo"
        },
        {
         "lat": [
          46.23809814453125,
          42.430199
         ],
         "line": {
          "color": "#b0bc00",
          "width": 1
         },
         "lon": [
          6.108950138092041,
          12.0642
         ],
         "mode": "lines",
         "opacity": 1,
         "type": "scattergeo"
        },
        {
         "lat": [
          46.23809814453125,
          45.445099
         ],
         "line": {
          "color": "#b0bc00",
          "width": 1
         },
         "lon": [
          6.108950138092041,
          9.27674
         ],
         "mode": "lines",
         "opacity": 1,
         "type": "scattergeo"
        },
        {
         "lat": [
          46.23809814453125,
          41.800277799999996
         ],
         "line": {
          "color": "#b0bc00",
          "width": 1
         },
         "lon": [
          6.108950138092041,
          12.238888900000001
         ],
         "mode": "lines",
         "opacity": 1,
         "type": "scattergeo"
        },
        {
         "lat": [
          47.464698999999996,
          49.193901061999995
         ],
         "line": {
          "color": "#b0bc00",
          "width": 1
         },
         "lon": [
          8.54917,
          -123.183998108
         ],
         "mode": "lines",
         "opacity": 1,
         "type": "scattergeo"
        },
        {
         "lat": [
          47.464698999999996,
          43.6772003174
         ],
         "line": {
          "color": "#b0bc00",
          "width": 1
         },
         "lon": [
          8.54917,
          -79.63059997559999
         ],
         "mode": "lines",
         "opacity": 1,
         "type": "scattergeo"
        },
        {
         "lat": [
          47.464698999999996,
          59.4486198425293
         ],
         "line": {
          "color": "#89b100",
          "width": 1
         },
         "lon": [
          8.54917,
          24.75322723388672
         ],
         "mode": "lines",
         "opacity": 1,
         "type": "scattergeo"
        },
        {
         "lat": [
          46.23809814453125,
          56.92359924316406
         ],
         "line": {
          "color": "#89b100",
          "width": 1
         },
         "lon": [
          6.108950138092041,
          23.971099853515625
         ],
         "mode": "lines",
         "opacity": 1,
         "type": "scattergeo"
        },
        {
         "lat": [
          46.23809814453125,
          56.9422
         ],
         "line": {
          "color": "#89b100",
          "width": 1
         },
         "lon": [
          6.108950138092041,
          23.2239
         ],
         "mode": "lines",
         "opacity": 1,
         "type": "scattergeo"
        },
        {
         "lat": [
          47.464698999999996,
          56.9422
         ],
         "line": {
          "color": "#89b100",
          "width": 1
         },
         "lon": [
          8.54917,
          23.2239
         ],
         "mode": "lines",
         "opacity": 1,
         "type": "scattergeo"
        },
        {
         "lat": [
          47.464698999999996,
          56.92359924316406
         ],
         "line": {
          "color": "#89b100",
          "width": 1
         },
         "lon": [
          8.54917,
          23.971099853515625
         ],
         "mode": "lines",
         "opacity": 1,
         "type": "scattergeo"
        },
        {
         "lat": [
          46.23809814453125,
          40.69250106811523
         ],
         "line": {
          "color": "#80af00",
          "width": 1
         },
         "lon": [
          6.108950138092041,
          -74.168701171875
         ],
         "mode": "lines",
         "opacity": 1,
         "type": "scattergeo"
        },
        {
         "lat": [
          47.464698999999996,
          37.61899948120117
         ],
         "line": {
          "color": "#80af00",
          "width": 1
         },
         "lon": [
          8.54917,
          -122.375
         ],
         "mode": "lines",
         "opacity": 1,
         "type": "scattergeo"
        },
        {
         "lat": [
          46.23809814453125,
          25.261101
         ],
         "line": {
          "color": "#80af00",
          "width": 1
         },
         "lon": [
          6.108950138092041,
          51.565102
         ],
         "mode": "lines",
         "opacity": 1,
         "type": "scattergeo"
        },
        {
         "lat": [
          46.23809814453125,
          51.4706
         ],
         "line": {
          "color": "#80af00",
          "width": 1
         },
         "lon": [
          6.108950138092041,
          -0.461941
         ],
         "mode": "lines",
         "opacity": 1,
         "type": "scattergeo"
        },
        {
         "lat": [
          46.23809814453125,
          22.308901000000002
         ],
         "line": {
          "color": "#80af00",
          "width": 1
         },
         "lon": [
          6.108950138092041,
          113.915001
         ],
         "mode": "lines",
         "opacity": 1,
         "type": "scattergeo"
        },
        {
         "lat": [
          46.23809814453125,
          35.552299
         ],
         "line": {
          "color": "#80af00",
          "width": 1
         },
         "lon": [
          6.108950138092041,
          139.779999
         ],
         "mode": "lines",
         "opacity": 1,
         "type": "scattergeo"
        },
        {
         "lat": [
          46.23809814453125,
          39.87189865112305
         ],
         "line": {
          "color": "#80af00",
          "width": 1
         },
         "lon": [
          6.108950138092041,
          -75.24109649658203
         ],
         "mode": "lines",
         "opacity": 1,
         "type": "scattergeo"
        },
        {
         "lat": [
          46.23809814453125,
          -6.1255698204
         ],
         "line": {
          "color": "#80af00",
          "width": 1
         },
         "lon": [
          6.108950138092041,
          106.65599823
         ],
         "mode": "lines",
         "opacity": 1,
         "type": "scattergeo"
        },
        {
         "lat": [
          46.23809814453125,
          15.186
         ],
         "line": {
          "color": "#80af00",
          "width": 1
         },
         "lon": [
          6.108950138092041,
          120.559998
         ],
         "mode": "lines",
         "opacity": 1,
         "type": "scattergeo"
        },
        {
         "lat": [
          46.23809814453125,
          46.40639877319336
         ],
         "line": {
          "color": "#80af00",
          "width": 1
         },
         "lon": [
          6.108950138092041,
          6.258059978485107
         ],
         "mode": "lines",
         "opacity": 1,
         "type": "scattergeo"
        },
        {
         "lat": [
          47.464698999999996,
          39.9429016113
         ],
         "line": {
          "color": "#80af00",
          "width": 1
         },
         "lon": [
          8.54917,
          -74.845703125
         ],
         "mode": "lines",
         "opacity": 1,
         "type": "scattergeo"
        },
        {
         "lat": [
          47.464698999999996,
          25.261101
         ],
         "line": {
          "color": "#80af00",
          "width": 1
         },
         "lon": [
          8.54917,
          51.565102
         ],
         "mode": "lines",
         "opacity": 1,
         "type": "scattergeo"
        },
        {
         "lat": [
          47.464698999999996,
          25.117300033600003
         ],
         "line": {
          "color": "#80af00",
          "width": 1
         },
         "lon": [
          8.54917,
          51.3149986267
         ],
         "mode": "lines",
         "opacity": 1,
         "type": "scattergeo"
        },
        {
         "lat": [
          47.464698999999996,
          48.969398498535156
         ],
         "line": {
          "color": "#80af00",
          "width": 1
         },
         "lon": [
          8.54917,
          2.441390037536621
         ],
         "mode": "lines",
         "opacity": 1,
         "type": "scattergeo"
        },
        {
         "lat": [
          46.23809814453125,
          47.464698999999996
         ],
         "line": {
          "color": "#80af00",
          "width": 1
         },
         "lon": [
          6.108950138092041,
          8.54917
         ],
         "mode": "lines",
         "opacity": 1,
         "type": "scattergeo"
        },
        {
         "lat": [
          47.464698999999996,
          25.273056
         ],
         "line": {
          "color": "#80af00",
          "width": 1
         },
         "lon": [
          8.54917,
          51.608056
         ],
         "mode": "lines",
         "opacity": 1,
         "type": "scattergeo"
        },
        {
         "lat": [
          47.464698999999996,
          13.681099891662598
         ],
         "line": {
          "color": "#80af00",
          "width": 1
         },
         "lon": [
          8.54917,
          100.74700164794922
         ],
         "mode": "lines",
         "opacity": 1,
         "type": "scattergeo"
        },
        {
         "lat": [
          46.23809814453125,
          40.63980103
         ],
         "line": {
          "color": "#80af00",
          "width": 1
         },
         "lon": [
          6.108950138092041,
          -73.77890015
         ],
         "mode": "lines",
         "opacity": 1,
         "type": "scattergeo"
        },
        {
         "lat": [
          47.464698999999996,
          -34.945
         ],
         "line": {
          "color": "#80af00",
          "width": 1
         },
         "lon": [
          8.54917,
          138.53100600000002
         ],
         "mode": "lines",
         "opacity": 1,
         "type": "scattergeo"
        },
        {
         "lat": [
          47.464698999999996,
          51.4706
         ],
         "line": {
          "color": "#80af00",
          "width": 1
         },
         "lon": [
          8.54917,
          -0.461941
         ],
         "mode": "lines",
         "opacity": 1,
         "type": "scattergeo"
        },
        {
         "lat": [
          47.464698999999996,
          22.308901000000002
         ],
         "line": {
          "color": "#80af00",
          "width": 1
         },
         "lon": [
          8.54917,
          113.915001
         ],
         "mode": "lines",
         "opacity": 1,
         "type": "scattergeo"
        },
        {
         "lat": [
          46.23809814453125,
          40.471926
         ],
         "line": {
          "color": "#80af00",
          "width": 1
         },
         "lon": [
          6.108950138092041,
          -3.56264
         ],
         "mode": "lines",
         "opacity": 1,
         "type": "scattergeo"
        },
        {
         "lat": [
          47.464698999999996,
          35.552299
         ],
         "line": {
          "color": "#80af00",
          "width": 1
         },
         "lon": [
          8.54917,
          139.779999
         ],
         "mode": "lines",
         "opacity": 1,
         "type": "scattergeo"
        },
        {
         "lat": [
          46.23809814453125,
          25.273056
         ],
         "line": {
          "color": "#80af00",
          "width": 1
         },
         "lon": [
          6.108950138092041,
          51.608056
         ],
         "mode": "lines",
         "opacity": 1,
         "type": "scattergeo"
        },
        {
         "lat": [
          47.464698999999996,
          45.6306
         ],
         "line": {
          "color": "#80af00",
          "width": 1
         },
         "lon": [
          8.54917,
          8.728110000000001
         ],
         "mode": "lines",
         "opacity": 1,
         "type": "scattergeo"
        },
        {
         "lat": [
          47.464698999999996,
          -6.1255698204
         ],
         "line": {
          "color": "#80af00",
          "width": 1
         },
         "lon": [
          8.54917,
          106.65599823
         ],
         "mode": "lines",
         "opacity": 1,
         "type": "scattergeo"
        },
        {
         "lat": [
          47.464698999999996,
          23.843347
         ],
         "line": {
          "color": "#80af00",
          "width": 1
         },
         "lon": [
          8.54917,
          90.39778299999999
         ],
         "mode": "lines",
         "opacity": 1,
         "type": "scattergeo"
        },
        {
         "lat": [
          47.464698999999996,
          40.63980103
         ],
         "line": {
          "color": "#80af00",
          "width": 1
         },
         "lon": [
          8.54917,
          -73.77890015
         ],
         "mode": "lines",
         "opacity": 1,
         "type": "scattergeo"
        },
        {
         "lat": [
          47.464698999999996,
          40.471926
         ],
         "line": {
          "color": "#80af00",
          "width": 1
         },
         "lon": [
          8.54917,
          -3.56264
         ],
         "mode": "lines",
         "opacity": 1,
         "type": "scattergeo"
        },
        {
         "lat": [
          47.464698999999996,
          48.110298156738004
         ],
         "line": {
          "color": "#80af00",
          "width": 1
         },
         "lon": [
          8.54917,
          16.569700241089002
         ],
         "mode": "lines",
         "opacity": 1,
         "type": "scattergeo"
        },
        {
         "lat": [
          46.23809814453125,
          40.976898
         ],
         "line": {
          "color": "#66a700",
          "width": 1
         },
         "lon": [
          6.108950138092041,
          28.8146
         ],
         "mode": "lines",
         "opacity": 1,
         "type": "scattergeo"
        },
        {
         "lat": [
          46.23809814453125,
          40.99300003051758
         ],
         "line": {
          "color": "#66a700",
          "width": 1
         },
         "lon": [
          6.108950138092041,
          29.21649932861328
         ],
         "mode": "lines",
         "opacity": 1,
         "type": "scattergeo"
        },
        {
         "lat": [
          47.464698999999996,
          41.13819885253906
         ],
         "line": {
          "color": "#66a700",
          "width": 1
         },
         "lon": [
          8.54917,
          27.919099807739254
         ],
         "mode": "lines",
         "opacity": 1,
         "type": "scattergeo"
        },
        {
         "lat": [
          47.464698999999996,
          40.976898
         ],
         "line": {
          "color": "#66a700",
          "width": 1
         },
         "lon": [
          8.54917,
          28.8146
         ],
         "mode": "lines",
         "opacity": 1,
         "type": "scattergeo"
        },
        {
         "lat": [
          46.23809814453125,
          51.956902
         ],
         "line": {
          "color": "#56a200",
          "width": 1
         },
         "lon": [
          6.108950138092041,
          4.43722
         ],
         "mode": "lines",
         "opacity": 1,
         "type": "scattergeo"
        },
        {
         "lat": [
          46.23809814453125,
          52.308601
         ],
         "line": {
          "color": "#56a200",
          "width": 1
         },
         "lon": [
          6.108950138092041,
          4.76389
         ],
         "mode": "lines",
         "opacity": 1,
         "type": "scattergeo"
        },
        {
         "lat": [
          47.464698999999996,
          52.308601
         ],
         "line": {
          "color": "#56a200",
          "width": 1
         },
         "lon": [
          8.54917,
          4.76389
         ],
         "mode": "lines",
         "opacity": 1,
         "type": "scattergeo"
        },
        {
         "lat": [
          47.464698999999996,
          51.956902
         ],
         "line": {
          "color": "#56a200",
          "width": 1
         },
         "lon": [
          8.54917,
          4.43722
         ],
         "mode": "lines",
         "opacity": 1,
         "type": "scattergeo"
        },
        {
         "lat": [
          47.464698999999996,
          53.421299
         ],
         "line": {
          "color": "#4e9f00",
          "width": 1
         },
         "lon": [
          8.54917,
          -6.27007
         ],
         "mode": "lines",
         "opacity": 1,
         "type": "scattergeo"
        },
        {
         "lat": [
          47.464698999999996,
          53.301700591999996
         ],
         "line": {
          "color": "#4e9f00",
          "width": 1
         },
         "lon": [
          8.54917,
          -6.451330184940001
         ],
         "mode": "lines",
         "opacity": 1,
         "type": "scattergeo"
        },
        {
         "lat": [
          47.464698999999996,
          53.352199554399995
         ],
         "line": {
          "color": "#4e9f00",
          "width": 1
         },
         "lon": [
          8.54917,
          -6.48611021042
         ],
         "mode": "lines",
         "opacity": 1,
         "type": "scattergeo"
        },
        {
         "lat": [
          46.40639877319336,
          53.421299
         ],
         "line": {
          "color": "#4e9f00",
          "width": 1
         },
         "lon": [
          6.258059978485107,
          -6.27007
         ],
         "mode": "lines",
         "opacity": 1,
         "type": "scattergeo"
        },
        {
         "lat": [
          46.23809814453125,
          53.421299
         ],
         "line": {
          "color": "#4e9f00",
          "width": 1
         },
         "lon": [
          6.108950138092041,
          -6.27007
         ],
         "mode": "lines",
         "opacity": 1,
         "type": "scattergeo"
        },
        {
         "lat": [
          46.23809814453125,
          53.352199554399995
         ],
         "line": {
          "color": "#4e9f00",
          "width": 1
         },
         "lon": [
          6.108950138092041,
          -6.48611021042
         ],
         "mode": "lines",
         "opacity": 1,
         "type": "scattergeo"
        },
        {
         "lat": [
          46.23809814453125,
          53.301700591999996
         ],
         "line": {
          "color": "#4e9f00",
          "width": 1
         },
         "lon": [
          6.108950138092041,
          -6.451330184940001
         ],
         "mode": "lines",
         "opacity": 1,
         "type": "scattergeo"
        },
        {
         "lat": [
          46.23809814453125,
          52.1656990051
         ],
         "line": {
          "color": "#469d00",
          "width": 1
         },
         "lon": [
          6.108950138092041,
          20.9671001434
         ],
         "mode": "lines",
         "opacity": 1,
         "type": "scattergeo"
        },
        {
         "lat": [
          47.464698999999996,
          32.114700317382805
         ],
         "line": {
          "color": "#469d00",
          "width": 1
         },
         "lon": [
          8.54917,
          34.78219985961914
         ],
         "mode": "lines",
         "opacity": 1,
         "type": "scattergeo"
        },
        {
         "lat": [
          46.23809814453125,
          32.011398315429695
         ],
         "line": {
          "color": "#469d00",
          "width": 1
         },
         "lon": [
          6.108950138092041,
          34.88669967651367
         ],
         "mode": "lines",
         "opacity": 1,
         "type": "scattergeo"
        },
        {
         "lat": [
          47.464698999999996,
          51.87469863891602
         ],
         "line": {
          "color": "#469d00",
          "width": 1
         },
         "lon": [
          8.54917,
          -0.36833301186561584
         ],
         "mode": "lines",
         "opacity": 1,
         "type": "scattergeo"
        },
        {
         "lat": [
          46.23809814453125,
          50.9014015198
         ],
         "line": {
          "color": "#469d00",
          "width": 1
         },
         "lon": [
          6.108950138092041,
          4.48443984985
         ],
         "mode": "lines",
         "opacity": 1,
         "type": "scattergeo"
        },
        {
         "lat": [
          47.464698999999996,
          43.439271921999996
         ],
         "line": {
          "color": "#469d00",
          "width": 1
         },
         "lon": [
          8.54917,
          5.22142410278
         ],
         "mode": "lines",
         "opacity": 1,
         "type": "scattergeo"
        },
        {
         "lat": [
          47.464698999999996,
          55.40879821777344
         ],
         "line": {
          "color": "#180",
          "width": 1
         },
         "lon": [
          8.54917,
          37.90629959106445
         ],
         "mode": "lines",
         "opacity": 1,
         "type": "scattergeo"
        },
        {
         "lat": [
          47.464698999999996,
          35.3396987915
         ],
         "line": {
          "color": "#180",
          "width": 1
         },
         "lon": [
          8.54917,
          25.1802997589
         ],
         "mode": "lines",
         "opacity": 1,
         "type": "scattergeo"
        },
        {
         "lat": [
          47.464698999999996,
          32.011398315429695
         ],
         "line": {
          "color": "#180",
          "width": 1
         },
         "lon": [
          8.54917,
          34.88669967651367
         ],
         "mode": "lines",
         "opacity": 1,
         "type": "scattergeo"
        },
        {
         "lat": [
          47.464698999999996,
          37.9364013672
         ],
         "line": {
          "color": "#180",
          "width": 1
         },
         "lon": [
          8.54917,
          23.944499969499997
         ],
         "mode": "lines",
         "opacity": 1,
         "type": "scattergeo"
        },
        {
         "lat": [
          47.464698999999996,
          34.875099182128906
         ],
         "line": {
          "color": "#180",
          "width": 1
         },
         "lon": [
          8.54917,
          33.62490081787109
         ],
         "mode": "lines",
         "opacity": 1,
         "type": "scattergeo"
        },
        {
         "lat": [
          47.464698999999996,
          36.40539932250977
         ],
         "line": {
          "color": "#180",
          "width": 1
         },
         "lon": [
          8.54917,
          28.086200714111328
         ],
         "mode": "lines",
         "opacity": 1,
         "type": "scattergeo"
        },
        {
         "lat": [
          46.23809814453125,
          38.1088981628418
         ],
         "line": {
          "color": "#180",
          "width": 1
         },
         "lon": [
          6.108950138092041,
          23.78380012512207
         ],
         "mode": "lines",
         "opacity": 1,
         "type": "scattergeo"
        },
        {
         "lat": [
          46.23809814453125,
          37.893299
         ],
         "line": {
          "color": "#180",
          "width": 1
         },
         "lon": [
          6.108950138092041,
          23.726101
         ],
         "mode": "lines",
         "opacity": 1,
         "type": "scattergeo"
        },
        {
         "lat": [
          46.23809814453125,
          37.9364013672
         ],
         "line": {
          "color": "#180",
          "width": 1
         },
         "lon": [
          6.108950138092041,
          23.944499969499997
         ],
         "mode": "lines",
         "opacity": 1,
         "type": "scattergeo"
        },
        {
         "lat": [
          47.464698999999996,
          37.893299
         ],
         "line": {
          "color": "#180",
          "width": 1
         },
         "lon": [
          8.54917,
          23.726101
         ],
         "mode": "lines",
         "opacity": 1,
         "type": "scattergeo"
        },
        {
         "lat": [
          46.23809814453125,
          42.696693420410156
         ],
         "line": {
          "color": "#f00",
          "width": 1
         },
         "lon": [
          6.108950138092041,
          23.411436080932614
         ],
         "mode": "lines",
         "opacity": 1,
         "type": "scattergeo"
        },
        {
         "lat": [
          46.23809814453125,
          44.5711111
         ],
         "line": {
          "color": "#f00",
          "width": 1
         },
         "lon": [
          6.108950138092041,
          26.085
         ],
         "mode": "lines",
         "opacity": 1,
         "type": "scattergeo"
        }
       ],
       "layout": {
        "geo": {
         "countrycolor": "rgb(204, 204, 204)",
         "landcolor": "rgb(243, 243, 243)",
         "showland": true
        },
        "showlegend": false,
        "template": {
         "data": {
          "bar": [
           {
            "error_x": {
             "color": "#2a3f5f"
            },
            "error_y": {
             "color": "#2a3f5f"
            },
            "marker": {
             "line": {
              "color": "#E5ECF6",
              "width": 0.5
             }
            },
            "type": "bar"
           }
          ],
          "barpolar": [
           {
            "marker": {
             "line": {
              "color": "#E5ECF6",
              "width": 0.5
             }
            },
            "type": "barpolar"
           }
          ],
          "carpet": [
           {
            "aaxis": {
             "endlinecolor": "#2a3f5f",
             "gridcolor": "white",
             "linecolor": "white",
             "minorgridcolor": "white",
             "startlinecolor": "#2a3f5f"
            },
            "baxis": {
             "endlinecolor": "#2a3f5f",
             "gridcolor": "white",
             "linecolor": "white",
             "minorgridcolor": "white",
             "startlinecolor": "#2a3f5f"
            },
            "type": "carpet"
           }
          ],
          "choropleth": [
           {
            "colorbar": {
             "outlinewidth": 0,
             "ticks": ""
            },
            "type": "choropleth"
           }
          ],
          "contour": [
           {
            "colorbar": {
             "outlinewidth": 0,
             "ticks": ""
            },
            "colorscale": [
             [
              0,
              "#0d0887"
             ],
             [
              0.1111111111111111,
              "#46039f"
             ],
             [
              0.2222222222222222,
              "#7201a8"
             ],
             [
              0.3333333333333333,
              "#9c179e"
             ],
             [
              0.4444444444444444,
              "#bd3786"
             ],
             [
              0.5555555555555556,
              "#d8576b"
             ],
             [
              0.6666666666666666,
              "#ed7953"
             ],
             [
              0.7777777777777778,
              "#fb9f3a"
             ],
             [
              0.8888888888888888,
              "#fdca26"
             ],
             [
              1,
              "#f0f921"
             ]
            ],
            "type": "contour"
           }
          ],
          "contourcarpet": [
           {
            "colorbar": {
             "outlinewidth": 0,
             "ticks": ""
            },
            "type": "contourcarpet"
           }
          ],
          "heatmap": [
           {
            "colorbar": {
             "outlinewidth": 0,
             "ticks": ""
            },
            "colorscale": [
             [
              0,
              "#0d0887"
             ],
             [
              0.1111111111111111,
              "#46039f"
             ],
             [
              0.2222222222222222,
              "#7201a8"
             ],
             [
              0.3333333333333333,
              "#9c179e"
             ],
             [
              0.4444444444444444,
              "#bd3786"
             ],
             [
              0.5555555555555556,
              "#d8576b"
             ],
             [
              0.6666666666666666,
              "#ed7953"
             ],
             [
              0.7777777777777778,
              "#fb9f3a"
             ],
             [
              0.8888888888888888,
              "#fdca26"
             ],
             [
              1,
              "#f0f921"
             ]
            ],
            "type": "heatmap"
           }
          ],
          "heatmapgl": [
           {
            "colorbar": {
             "outlinewidth": 0,
             "ticks": ""
            },
            "colorscale": [
             [
              0,
              "#0d0887"
             ],
             [
              0.1111111111111111,
              "#46039f"
             ],
             [
              0.2222222222222222,
              "#7201a8"
             ],
             [
              0.3333333333333333,
              "#9c179e"
             ],
             [
              0.4444444444444444,
              "#bd3786"
             ],
             [
              0.5555555555555556,
              "#d8576b"
             ],
             [
              0.6666666666666666,
              "#ed7953"
             ],
             [
              0.7777777777777778,
              "#fb9f3a"
             ],
             [
              0.8888888888888888,
              "#fdca26"
             ],
             [
              1,
              "#f0f921"
             ]
            ],
            "type": "heatmapgl"
           }
          ],
          "histogram": [
           {
            "marker": {
             "colorbar": {
              "outlinewidth": 0,
              "ticks": ""
             }
            },
            "type": "histogram"
           }
          ],
          "histogram2d": [
           {
            "colorbar": {
             "outlinewidth": 0,
             "ticks": ""
            },
            "colorscale": [
             [
              0,
              "#0d0887"
             ],
             [
              0.1111111111111111,
              "#46039f"
             ],
             [
              0.2222222222222222,
              "#7201a8"
             ],
             [
              0.3333333333333333,
              "#9c179e"
             ],
             [
              0.4444444444444444,
              "#bd3786"
             ],
             [
              0.5555555555555556,
              "#d8576b"
             ],
             [
              0.6666666666666666,
              "#ed7953"
             ],
             [
              0.7777777777777778,
              "#fb9f3a"
             ],
             [
              0.8888888888888888,
              "#fdca26"
             ],
             [
              1,
              "#f0f921"
             ]
            ],
            "type": "histogram2d"
           }
          ],
          "histogram2dcontour": [
           {
            "colorbar": {
             "outlinewidth": 0,
             "ticks": ""
            },
            "colorscale": [
             [
              0,
              "#0d0887"
             ],
             [
              0.1111111111111111,
              "#46039f"
             ],
             [
              0.2222222222222222,
              "#7201a8"
             ],
             [
              0.3333333333333333,
              "#9c179e"
             ],
             [
              0.4444444444444444,
              "#bd3786"
             ],
             [
              0.5555555555555556,
              "#d8576b"
             ],
             [
              0.6666666666666666,
              "#ed7953"
             ],
             [
              0.7777777777777778,
              "#fb9f3a"
             ],
             [
              0.8888888888888888,
              "#fdca26"
             ],
             [
              1,
              "#f0f921"
             ]
            ],
            "type": "histogram2dcontour"
           }
          ],
          "mesh3d": [
           {
            "colorbar": {
             "outlinewidth": 0,
             "ticks": ""
            },
            "type": "mesh3d"
           }
          ],
          "parcoords": [
           {
            "line": {
             "colorbar": {
              "outlinewidth": 0,
              "ticks": ""
             }
            },
            "type": "parcoords"
           }
          ],
          "pie": [
           {
            "automargin": true,
            "type": "pie"
           }
          ],
          "scatter": [
           {
            "marker": {
             "colorbar": {
              "outlinewidth": 0,
              "ticks": ""
             }
            },
            "type": "scatter"
           }
          ],
          "scatter3d": [
           {
            "line": {
             "colorbar": {
              "outlinewidth": 0,
              "ticks": ""
             }
            },
            "marker": {
             "colorbar": {
              "outlinewidth": 0,
              "ticks": ""
             }
            },
            "type": "scatter3d"
           }
          ],
          "scattercarpet": [
           {
            "marker": {
             "colorbar": {
              "outlinewidth": 0,
              "ticks": ""
             }
            },
            "type": "scattercarpet"
           }
          ],
          "scattergeo": [
           {
            "marker": {
             "colorbar": {
              "outlinewidth": 0,
              "ticks": ""
             }
            },
            "type": "scattergeo"
           }
          ],
          "scattergl": [
           {
            "marker": {
             "colorbar": {
              "outlinewidth": 0,
              "ticks": ""
             }
            },
            "type": "scattergl"
           }
          ],
          "scattermapbox": [
           {
            "marker": {
             "colorbar": {
              "outlinewidth": 0,
              "ticks": ""
             }
            },
            "type": "scattermapbox"
           }
          ],
          "scatterpolar": [
           {
            "marker": {
             "colorbar": {
              "outlinewidth": 0,
              "ticks": ""
             }
            },
            "type": "scatterpolar"
           }
          ],
          "scatterpolargl": [
           {
            "marker": {
             "colorbar": {
              "outlinewidth": 0,
              "ticks": ""
             }
            },
            "type": "scatterpolargl"
           }
          ],
          "scatterternary": [
           {
            "marker": {
             "colorbar": {
              "outlinewidth": 0,
              "ticks": ""
             }
            },
            "type": "scatterternary"
           }
          ],
          "surface": [
           {
            "colorbar": {
             "outlinewidth": 0,
             "ticks": ""
            },
            "colorscale": [
             [
              0,
              "#0d0887"
             ],
             [
              0.1111111111111111,
              "#46039f"
             ],
             [
              0.2222222222222222,
              "#7201a8"
             ],
             [
              0.3333333333333333,
              "#9c179e"
             ],
             [
              0.4444444444444444,
              "#bd3786"
             ],
             [
              0.5555555555555556,
              "#d8576b"
             ],
             [
              0.6666666666666666,
              "#ed7953"
             ],
             [
              0.7777777777777778,
              "#fb9f3a"
             ],
             [
              0.8888888888888888,
              "#fdca26"
             ],
             [
              1,
              "#f0f921"
             ]
            ],
            "type": "surface"
           }
          ],
          "table": [
           {
            "cells": {
             "fill": {
              "color": "#EBF0F8"
             },
             "line": {
              "color": "white"
             }
            },
            "header": {
             "fill": {
              "color": "#C8D4E3"
             },
             "line": {
              "color": "white"
             }
            },
            "type": "table"
           }
          ]
         },
         "layout": {
          "annotationdefaults": {
           "arrowcolor": "#2a3f5f",
           "arrowhead": 0,
           "arrowwidth": 1
          },
          "coloraxis": {
           "colorbar": {
            "outlinewidth": 0,
            "ticks": ""
           }
          },
          "colorscale": {
           "diverging": [
            [
             0,
             "#8e0152"
            ],
            [
             0.1,
             "#c51b7d"
            ],
            [
             0.2,
             "#de77ae"
            ],
            [
             0.3,
             "#f1b6da"
            ],
            [
             0.4,
             "#fde0ef"
            ],
            [
             0.5,
             "#f7f7f7"
            ],
            [
             0.6,
             "#e6f5d0"
            ],
            [
             0.7,
             "#b8e186"
            ],
            [
             0.8,
             "#7fbc41"
            ],
            [
             0.9,
             "#4d9221"
            ],
            [
             1,
             "#276419"
            ]
           ],
           "sequential": [
            [
             0,
             "#0d0887"
            ],
            [
             0.1111111111111111,
             "#46039f"
            ],
            [
             0.2222222222222222,
             "#7201a8"
            ],
            [
             0.3333333333333333,
             "#9c179e"
            ],
            [
             0.4444444444444444,
             "#bd3786"
            ],
            [
             0.5555555555555556,
             "#d8576b"
            ],
            [
             0.6666666666666666,
             "#ed7953"
            ],
            [
             0.7777777777777778,
             "#fb9f3a"
            ],
            [
             0.8888888888888888,
             "#fdca26"
            ],
            [
             1,
             "#f0f921"
            ]
           ],
           "sequentialminus": [
            [
             0,
             "#0d0887"
            ],
            [
             0.1111111111111111,
             "#46039f"
            ],
            [
             0.2222222222222222,
             "#7201a8"
            ],
            [
             0.3333333333333333,
             "#9c179e"
            ],
            [
             0.4444444444444444,
             "#bd3786"
            ],
            [
             0.5555555555555556,
             "#d8576b"
            ],
            [
             0.6666666666666666,
             "#ed7953"
            ],
            [
             0.7777777777777778,
             "#fb9f3a"
            ],
            [
             0.8888888888888888,
             "#fdca26"
            ],
            [
             1,
             "#f0f921"
            ]
           ]
          },
          "colorway": [
           "#636efa",
           "#EF553B",
           "#00cc96",
           "#ab63fa",
           "#FFA15A",
           "#19d3f3",
           "#FF6692",
           "#B6E880",
           "#FF97FF",
           "#FECB52"
          ],
          "font": {
           "color": "#2a3f5f"
          },
          "geo": {
           "bgcolor": "white",
           "lakecolor": "white",
           "landcolor": "#E5ECF6",
           "showlakes": true,
           "showland": true,
           "subunitcolor": "white"
          },
          "hoverlabel": {
           "align": "left"
          },
          "hovermode": "closest",
          "mapbox": {
           "style": "light"
          },
          "paper_bgcolor": "white",
          "plot_bgcolor": "#E5ECF6",
          "polar": {
           "angularaxis": {
            "gridcolor": "white",
            "linecolor": "white",
            "ticks": ""
           },
           "bgcolor": "#E5ECF6",
           "radialaxis": {
            "gridcolor": "white",
            "linecolor": "white",
            "ticks": ""
           }
          },
          "scene": {
           "xaxis": {
            "backgroundcolor": "#E5ECF6",
            "gridcolor": "white",
            "gridwidth": 2,
            "linecolor": "white",
            "showbackground": true,
            "ticks": "",
            "zerolinecolor": "white"
           },
           "yaxis": {
            "backgroundcolor": "#E5ECF6",
            "gridcolor": "white",
            "gridwidth": 2,
            "linecolor": "white",
            "showbackground": true,
            "ticks": "",
            "zerolinecolor": "white"
           },
           "zaxis": {
            "backgroundcolor": "#E5ECF6",
            "gridcolor": "white",
            "gridwidth": 2,
            "linecolor": "white",
            "showbackground": true,
            "ticks": "",
            "zerolinecolor": "white"
           }
          },
          "shapedefaults": {
           "line": {
            "color": "#2a3f5f"
           }
          },
          "ternary": {
           "aaxis": {
            "gridcolor": "white",
            "linecolor": "white",
            "ticks": ""
           },
           "baxis": {
            "gridcolor": "white",
            "linecolor": "white",
            "ticks": ""
           },
           "bgcolor": "#E5ECF6",
           "caxis": {
            "gridcolor": "white",
            "linecolor": "white",
            "ticks": ""
           }
          },
          "title": {
           "x": 0.05
          },
          "xaxis": {
           "automargin": true,
           "gridcolor": "white",
           "linecolor": "white",
           "ticks": "",
           "title": {
            "standoff": 15
           },
           "zerolinecolor": "white",
           "zerolinewidth": 2
          },
          "yaxis": {
           "automargin": true,
           "gridcolor": "white",
           "linecolor": "white",
           "ticks": "",
           "title": {
            "standoff": 15
           },
           "zerolinecolor": "white",
           "zerolinewidth": 2
          }
         }
        },
        "title": {
         "text": "Flight routes starting from Swiss airports"
        }
       }
      },
      "text/html": [
       "<div>\n",
       "        \n",
       "        \n",
       "            <div id=\"5b82fa47-a198-4f77-b85a-d6ca115221a2\" class=\"plotly-graph-div\" style=\"height:525px; width:100%;\"></div>\n",
       "            <script type=\"text/javascript\">\n",
       "                require([\"plotly\"], function(Plotly) {\n",
       "                    window.PLOTLYENV=window.PLOTLYENV || {};\n",
       "                    \n",
       "                if (document.getElementById(\"5b82fa47-a198-4f77-b85a-d6ca115221a2\")) {\n",
       "                    Plotly.newPlot(\n",
       "                        '5b82fa47-a198-4f77-b85a-d6ca115221a2',\n",
       "                        [{\"lat\": [46.23809814453125, 13.681099891662598], \"line\": {\"color\": \"#f00\", \"width\": 1}, \"lon\": [6.108950138092041, 100.74700164794922], \"mode\": \"lines\", \"opacity\": 1.0, \"type\": \"scattergeo\"}, {\"lat\": [46.23809814453125, 25.252799987800003], \"line\": {\"color\": \"#ea4c00\", \"width\": 1}, \"lon\": [6.108950138092041, 55.3643989563], \"mode\": \"lines\", \"opacity\": 1.0, \"type\": \"scattergeo\"}, {\"lat\": [47.464698999999996, 47.843299865722656], \"line\": {\"color\": \"#e85500\", \"width\": 1}, \"lon\": [8.54917, 16.260099411010742], \"mode\": \"lines\", \"opacity\": 1.0, \"type\": \"scattergeo\"}, {\"lat\": [47.464698999999996, 52.205002], \"line\": {\"color\": \"#e55e00\", \"width\": 1}, \"lon\": [8.54917, 0.175], \"mode\": \"lines\", \"opacity\": 1.0, \"type\": \"scattergeo\"}, {\"lat\": [46.23809814453125, 50.459202000000005], \"line\": {\"color\": \"#cba600\", \"width\": 1}, \"lon\": [6.108950138092041, 4.4538199999999994], \"mode\": \"lines\", \"opacity\": 1.0, \"type\": \"scattergeo\"}, {\"lat\": [46.23809814453125, 51.21166610717773], \"line\": {\"color\": \"#cba600\", \"width\": 1}, \"lon\": [6.108950138092041, 4.580832958221436], \"mode\": \"lines\", \"opacity\": 1.0, \"type\": \"scattergeo\"}, {\"lat\": [46.23809814453125, 51.264702], \"line\": {\"color\": \"#cba600\", \"width\": 1}, \"lon\": [6.108950138092041, 4.75333], \"mode\": \"lines\", \"opacity\": 1.0, \"type\": \"scattergeo\"}, {\"lat\": [46.23809814453125, 39.551700591999996], \"line\": {\"color\": \"#cba600\", \"width\": 1}, \"lon\": [6.108950138092041, 2.73881006241], \"mode\": \"lines\", \"opacity\": 1.0, \"type\": \"scattergeo\"}, {\"lat\": [46.23809814453125, 51.189399719200004], \"line\": {\"color\": \"#cba600\", \"width\": 1}, \"lon\": [6.108950138092041, 4.46027994156], \"mode\": \"lines\", \"opacity\": 1.0, \"type\": \"scattergeo\"}, {\"lat\": [46.23809814453125, 38.905398999999996], \"line\": {\"color\": \"#cba600\", \"width\": 1}, \"lon\": [6.108950138092041, 16.2423], \"mode\": \"lines\", \"opacity\": 1.0, \"type\": \"scattergeo\"}, {\"lat\": [46.23809814453125, 50.791901], \"line\": {\"color\": \"#cba600\", \"width\": 1}, \"lon\": [6.108950138092041, 5.20167], \"mode\": \"lines\", \"opacity\": 1.0, \"type\": \"scattergeo\"}, {\"lat\": [46.23809814453125, 50.75859832763672], \"line\": {\"color\": \"#cba600\", \"width\": 1}, \"lon\": [6.108950138092041, 4.768330097198486], \"mode\": \"lines\", \"opacity\": 1.0, \"type\": \"scattergeo\"}, {\"lat\": [46.23809814453125, 50.781700134277344], \"line\": {\"color\": \"#cba600\", \"width\": 1}, \"lon\": [6.108950138092041, 4.957779884338379], \"mode\": \"lines\", \"opacity\": 1.0, \"type\": \"scattergeo\"}, {\"lat\": [46.23809814453125, 50.2433013916], \"line\": {\"color\": \"#cba600\", \"width\": 1}, \"lon\": [6.108950138092041, 4.64583015442], \"mode\": \"lines\", \"opacity\": 1.0, \"type\": \"scattergeo\"}, {\"lat\": [46.23809814453125, 51.12], \"line\": {\"color\": \"#cba600\", \"width\": 1}, \"lon\": [6.108950138092041, 5.3072222], \"mode\": \"lines\", \"opacity\": 1.0, \"type\": \"scattergeo\"}, {\"lat\": [46.23809814453125, 50.482498], \"line\": {\"color\": \"#cba600\", \"width\": 1}, \"lon\": [6.108950138092041, 5.9103], \"mode\": \"lines\", \"opacity\": 1.0, \"type\": \"scattergeo\"}, {\"lat\": [46.23809814453125, 50.970001], \"line\": {\"color\": \"#cba600\", \"width\": 1}, \"lon\": [6.108950138092041, 5.37507], \"mode\": \"lines\", \"opacity\": 1.0, \"type\": \"scattergeo\"}, {\"lat\": [46.23809814453125, 50.487999], \"line\": {\"color\": \"#cba600\", \"width\": 1}, \"lon\": [6.108950138092041, 4.76892], \"mode\": \"lines\", \"opacity\": 1.0, \"type\": \"scattergeo\"}, {\"lat\": [46.23809814453125, 45.505299], \"line\": {\"color\": \"#cba600\", \"width\": 1}, \"lon\": [6.108950138092041, 12.3519], \"mode\": \"lines\", \"opacity\": 1.0, \"type\": \"scattergeo\"}, {\"lat\": [47.464698999999996, 51.189399719200004], \"line\": {\"color\": \"#cba600\", \"width\": 1}, \"lon\": [8.54917, 4.46027994156], \"mode\": \"lines\", \"opacity\": 1.0, \"type\": \"scattergeo\"}, {\"lat\": [46.23809814453125, 50.63740158081055], \"line\": {\"color\": \"#cba600\", \"width\": 1}, \"lon\": [6.108950138092041, 5.443220138549805], \"mode\": \"lines\", \"opacity\": 1.0, \"type\": \"scattergeo\"}, {\"lat\": [47.464698999999996, 50.63740158081055], \"line\": {\"color\": \"#cba600\", \"width\": 1}, \"lon\": [8.54917, 5.443220138549805], \"mode\": \"lines\", \"opacity\": 1.0, \"type\": \"scattergeo\"}, {\"lat\": [47.464698999999996, 50.9014015198], \"line\": {\"color\": \"#cba600\", \"width\": 1}, \"lon\": [8.54917, 4.48443984985], \"mode\": \"lines\", \"opacity\": 1.0, \"type\": \"scattergeo\"}, {\"lat\": [47.464698999999996, 51.21166610717773], \"line\": {\"color\": \"#cba600\", \"width\": 1}, \"lon\": [8.54917, 4.580832958221436], \"mode\": \"lines\", \"opacity\": 1.0, \"type\": \"scattergeo\"}, {\"lat\": [47.464698999999996, 51.289501], \"line\": {\"color\": \"#c3b700\", \"width\": 1}, \"lon\": [8.54917, 6.766780000000001], \"mode\": \"lines\", \"opacity\": 1.0, \"type\": \"scattergeo\"}, {\"lat\": [47.464698999999996, 49.6963005065918], \"line\": {\"color\": \"#c3b700\", \"width\": 1}, \"lon\": [8.54917, 18.111099243164066], \"mode\": \"lines\", \"opacity\": 1.0, \"type\": \"scattergeo\"}, {\"lat\": [47.464698999999996, 51.230278000000006], \"line\": {\"color\": \"#c3b700\", \"width\": 1}, \"lon\": [8.54917, 6.504444], \"mode\": \"lines\", \"opacity\": 1.0, \"type\": \"scattergeo\"}, {\"lat\": [47.464698999999996, 53.630401611328004], \"line\": {\"color\": \"#c3b700\", \"width\": 1}, \"lon\": [8.54917, 9.988229751586902], \"mode\": \"lines\", \"opacity\": 1.0, \"type\": \"scattergeo\"}, {\"lat\": [47.464698999999996, 51.40230178833008], \"line\": {\"color\": \"#c3b700\", \"width\": 1}, \"lon\": [8.54917, 6.9373297691345215], \"mode\": \"lines\", \"opacity\": 1.0, \"type\": \"scattergeo\"}, {\"lat\": [47.464698999999996, 50.865898132299996], \"line\": {\"color\": \"#c3b700\", \"width\": 1}, \"lon\": [8.54917, 7.1427397728], \"mode\": \"lines\", \"opacity\": 1.0, \"type\": \"scattergeo\"}, {\"lat\": [47.464698999999996, 52.5597], \"line\": {\"color\": \"#c3b700\", \"width\": 1}, \"lon\": [8.54917, 13.2877], \"mode\": \"lines\", \"opacity\": 1.0, \"type\": \"scattergeo\"}, {\"lat\": [46.23809814453125, 50.033333], \"line\": {\"color\": \"#c3b700\", \"width\": 1}, \"lon\": [6.108950138092041, 8.570556], \"mode\": \"lines\", \"opacity\": 1.0, \"type\": \"scattergeo\"}, {\"lat\": [46.23809814453125, 48.353802], \"line\": {\"color\": \"#c3b700\", \"width\": 1}, \"lon\": [6.108950138092041, 11.7861], \"mode\": \"lines\", \"opacity\": 1.0, \"type\": \"scattergeo\"}, {\"lat\": [47.464698999999996, 50.033333], \"line\": {\"color\": \"#c3b700\", \"width\": 1}, \"lon\": [8.54917, 8.570556], \"mode\": \"lines\", \"opacity\": 1.0, \"type\": \"scattergeo\"}, {\"lat\": [47.464698999999996, 48.32229995727539], \"line\": {\"color\": \"#c1bd00\", \"width\": 1}, \"lon\": [8.54917, 11.948699951171875], \"mode\": \"lines\", \"opacity\": 1.0, \"type\": \"scattergeo\"}, {\"lat\": [47.464698999999996, 47.59], \"line\": {\"color\": \"#c1bd00\", \"width\": 1}, \"lon\": [8.54917, 7.5291667], \"mode\": \"lines\", \"opacity\": 1.0, \"type\": \"scattergeo\"}, {\"lat\": [46.23809814453125, 45.6306], \"line\": {\"color\": \"#c1bd00\", \"width\": 1}, \"lon\": [6.108950138092041, 8.728110000000001], \"mode\": \"lines\", \"opacity\": 1.0, \"type\": \"scattergeo\"}, {\"lat\": [46.23809814453125, 48.110298156738004], \"line\": {\"color\": \"#c1bd00\", \"width\": 1}, \"lon\": [6.108950138092041, 16.569700241089002], \"mode\": \"lines\", \"opacity\": 1.0, \"type\": \"scattergeo\"}, {\"lat\": [46.23809814453125, 48.92779922485352], \"line\": {\"color\": \"#c1bd00\", \"width\": 1}, \"lon\": [6.108950138092041, 2.835279941558838], \"mode\": \"lines\", \"opacity\": 1.0, \"type\": \"scattergeo\"}, {\"lat\": [46.23809814453125, 48.969398498535156], \"line\": {\"color\": \"#c1bd00\", \"width\": 1}, \"lon\": [6.108950138092041, 2.441390037536621], \"mode\": \"lines\", \"opacity\": 1.0, \"type\": \"scattergeo\"}, {\"lat\": [46.23809814453125, 48.83769989013672], \"line\": {\"color\": \"#c1bd00\", \"width\": 1}, \"lon\": [6.108950138092041, 3.016119956970215], \"mode\": \"lines\", \"opacity\": 1.0, \"type\": \"scattergeo\"}, {\"lat\": [46.23809814453125, 49.0672], \"line\": {\"color\": \"#c1bd00\", \"width\": 1}, \"lon\": [6.108950138092041, 3.3569400000000003], \"mode\": \"lines\", \"opacity\": 1.0, \"type\": \"scattergeo\"}, {\"lat\": [46.23809814453125, 49.046397999999996], \"line\": {\"color\": \"#c1bd00\", \"width\": 1}, \"lon\": [6.108950138092041, 2.3530599999999997], \"mode\": \"lines\", \"opacity\": 1.0, \"type\": \"scattergeo\"}, {\"lat\": [46.23809814453125, 51.469722747799985], \"line\": {\"color\": \"#babe00\", \"width\": 1}, \"lon\": [6.108950138092041, -0.179444000125], \"mode\": \"lines\", \"opacity\": 1.0, \"type\": \"scattergeo\"}, {\"lat\": [47.464698999999996, 51.330799102799986], \"line\": {\"color\": \"#babe00\", \"width\": 1}, \"lon\": [8.54917, 0.032499998807900006], \"mode\": \"lines\", \"opacity\": 1.0, \"type\": \"scattergeo\"}, {\"lat\": [47.464698999999996, 51.469722747799985], \"line\": {\"color\": \"#babe00\", \"width\": 1}, \"lon\": [8.54917, -0.179444000125], \"mode\": \"lines\", \"opacity\": 1.0, \"type\": \"scattergeo\"}, {\"lat\": [47.464698999999996, 51.5008010864], \"line\": {\"color\": \"#babe00\", \"width\": 1}, \"lon\": [8.54917, -0.774443984032], \"mode\": \"lines\", \"opacity\": 1.0, \"type\": \"scattergeo\"}, {\"lat\": [46.23809814453125, 51.65250015260001], \"line\": {\"color\": \"#babe00\", \"width\": 1}, \"lon\": [6.108950138092041, 0.15583300590500002], \"mode\": \"lines\", \"opacity\": 1.0, \"type\": \"scattergeo\"}, {\"lat\": [46.23809814453125, 51.6557998657], \"line\": {\"color\": \"#babe00\", \"width\": 1}, \"lon\": [6.108950138092041, -0.325832992792], \"mode\": \"lines\", \"opacity\": 1.0, \"type\": \"scattergeo\"}, {\"lat\": [46.23809814453125, 51.5008010864], \"line\": {\"color\": \"#babe00\", \"width\": 1}, \"lon\": [6.108950138092041, -0.774443984032], \"mode\": \"lines\", \"opacity\": 1.0, \"type\": \"scattergeo\"}, {\"lat\": [47.464698999999996, 51.5530014038], \"line\": {\"color\": \"#babe00\", \"width\": 1}, \"lon\": [8.54917, -0.418166995049], \"mode\": \"lines\", \"opacity\": 1.0, \"type\": \"scattergeo\"}, {\"lat\": [46.23809814453125, 51.2136001587], \"line\": {\"color\": \"#babe00\", \"width\": 1}, \"lon\": [6.108950138092041, -0.138611003757], \"mode\": \"lines\", \"opacity\": 1.0, \"type\": \"scattergeo\"}, {\"lat\": [46.23809814453125, 51.5530014038], \"line\": {\"color\": \"#babe00\", \"width\": 1}, \"lon\": [6.108950138092041, -0.418166995049], \"mode\": \"lines\", \"opacity\": 1.0, \"type\": \"scattergeo\"}, {\"lat\": [46.23809814453125, 51.505299], \"line\": {\"color\": \"#babe00\", \"width\": 1}, \"lon\": [6.108950138092041, 0.055277999999999994], \"mode\": \"lines\", \"opacity\": 1.0, \"type\": \"scattergeo\"}, {\"lat\": [46.23809814453125, 60.121], \"line\": {\"color\": \"#babe00\", \"width\": 1}, \"lon\": [6.108950138092041, 11.0502], \"mode\": \"lines\", \"opacity\": 1.0, \"type\": \"scattergeo\"}, {\"lat\": [46.23809814453125, 51.148102], \"line\": {\"color\": \"#babe00\", \"width\": 1}, \"lon\": [6.108950138092041, -0.190278], \"mode\": \"lines\", \"opacity\": 1.0, \"type\": \"scattergeo\"}, {\"lat\": [46.23809814453125, 51.330799102799986], \"line\": {\"color\": \"#babe00\", \"width\": 1}, \"lon\": [6.108950138092041, 0.032499998807900006], \"mode\": \"lines\", \"opacity\": 1.0, \"type\": \"scattergeo\"}, {\"lat\": [46.23809814453125, 51.40230178833008], \"line\": {\"color\": \"#babe00\", \"width\": 1}, \"lon\": [6.108950138092041, 6.9373297691345215], \"mode\": \"lines\", \"opacity\": 1.0, \"type\": \"scattergeo\"}, {\"lat\": [47.464698999999996, 51.6557998657], \"line\": {\"color\": \"#babe00\", \"width\": 1}, \"lon\": [8.54917, -0.325832992792], \"mode\": \"lines\", \"opacity\": 1.0, \"type\": \"scattergeo\"}, {\"lat\": [46.40639877319336, 51.4706], \"line\": {\"color\": \"#babe00\", \"width\": 1}, \"lon\": [6.258059978485107, -0.461941], \"mode\": \"lines\", \"opacity\": 1.0, \"type\": \"scattergeo\"}, {\"lat\": [47.464698999999996, 48.353802], \"line\": {\"color\": \"#babe00\", \"width\": 1}, \"lon\": [8.54917, 11.7861], \"mode\": \"lines\", \"opacity\": 1.0, \"type\": \"scattergeo\"}, {\"lat\": [47.464698999999996, 48.92779922485352], \"line\": {\"color\": \"#babe00\", \"width\": 1}, \"lon\": [8.54917, 2.835279941558838], \"mode\": \"lines\", \"opacity\": 1.0, \"type\": \"scattergeo\"}, {\"lat\": [47.464698999999996, 14.924500465393065], \"line\": {\"color\": \"#babe00\", \"width\": 1}, \"lon\": [8.54917, -23.49349975585937], \"mode\": \"lines\", \"opacity\": 1.0, \"type\": \"scattergeo\"}, {\"lat\": [47.464698999999996, 59.651901245116996], \"line\": {\"color\": \"#babe00\", \"width\": 1}, \"lon\": [8.54917, 17.918600082397], \"mode\": \"lines\", \"opacity\": 1.0, \"type\": \"scattergeo\"}, {\"lat\": [47.464698999999996, 14.67], \"line\": {\"color\": \"#babe00\", \"width\": 1}, \"lon\": [8.54917, -17.073332999999998], \"mode\": \"lines\", \"opacity\": 1.0, \"type\": \"scattergeo\"}, {\"lat\": [47.464698999999996, 49.012798], \"line\": {\"color\": \"#babe00\", \"width\": 1}, \"lon\": [8.54917, 2.55], \"mode\": \"lines\", \"opacity\": 1.0, \"type\": \"scattergeo\"}, {\"lat\": [47.464698999999996, 46.23809814453125], \"line\": {\"color\": \"#babe00\", \"width\": 1}, \"lon\": [8.54917, 6.108950138092041], \"mode\": \"lines\", \"opacity\": 1.0, \"type\": \"scattergeo\"}, {\"lat\": [47.464698999999996, 33.655398999999996], \"line\": {\"color\": \"#babe00\", \"width\": 1}, \"lon\": [8.54917, -7.22145], \"mode\": \"lines\", \"opacity\": 1.0, \"type\": \"scattergeo\"}, {\"lat\": [47.464698999999996, 13.338000297546387], \"line\": {\"color\": \"#babe00\", \"width\": 1}, \"lon\": [8.54917, -16.65220069885254], \"mode\": \"lines\", \"opacity\": 1.0, \"type\": \"scattergeo\"}, {\"lat\": [47.464698999999996, 48.53829956054688], \"line\": {\"color\": \"#babe00\", \"width\": 1}, \"lon\": [8.54917, 7.628230094909668], \"mode\": \"lines\", \"opacity\": 1.0, \"type\": \"scattergeo\"}, {\"lat\": [47.464698999999996, 48.554401], \"line\": {\"color\": \"#babe00\", \"width\": 1}, \"lon\": [8.54917, 7.778060000000001], \"mode\": \"lines\", \"opacity\": 1.0, \"type\": \"scattergeo\"}, {\"lat\": [47.464698999999996, 33.36750030517578], \"line\": {\"color\": \"#babe00\", \"width\": 1}, \"lon\": [8.54917, -7.589970111846924], \"mode\": \"lines\", \"opacity\": 1.0, \"type\": \"scattergeo\"}, {\"lat\": [46.23809814453125, 33.36750030517578], \"line\": {\"color\": \"#babe00\", \"width\": 1}, \"lon\": [6.108950138092041, -7.589970111846924], \"mode\": \"lines\", \"opacity\": 1.0, \"type\": \"scattergeo\"}, {\"lat\": [46.23809814453125, 13.338000297546387], \"line\": {\"color\": \"#babe00\", \"width\": 1}, \"lon\": [6.108950138092041, -16.65220069885254], \"mode\": \"lines\", \"opacity\": 1.0, \"type\": \"scattergeo\"}, {\"lat\": [46.23809814453125, 11.894800186157227], \"line\": {\"color\": \"#babe00\", \"width\": 1}, \"lon\": [6.108950138092041, -15.65369987487793], \"mode\": \"lines\", \"opacity\": 1.0, \"type\": \"scattergeo\"}, {\"lat\": [47.464698999999996, 53.35369873046875], \"line\": {\"color\": \"#babe00\", \"width\": 1}, \"lon\": [8.54917, -2.2749500274658203], \"mode\": \"lines\", \"opacity\": 1.0, \"type\": \"scattergeo\"}, {\"lat\": [46.23809814453125, 33.655398999999996], \"line\": {\"color\": \"#babe00\", \"width\": 1}, \"lon\": [6.108950138092041, -7.22145], \"mode\": \"lines\", \"opacity\": 1.0, \"type\": \"scattergeo\"}, {\"lat\": [46.23809814453125, 14.924500465393065], \"line\": {\"color\": \"#babe00\", \"width\": 1}, \"lon\": [6.108950138092041, -23.49349975585937], \"mode\": \"lines\", \"opacity\": 1.0, \"type\": \"scattergeo\"}, {\"lat\": [46.23809814453125, 59.41329956049999], \"line\": {\"color\": \"#babe00\", \"width\": 1}, \"lon\": [6.108950138092041, 24.8327999115], \"mode\": \"lines\", \"opacity\": 1.0, \"type\": \"scattergeo\"}, {\"lat\": [46.23809814453125, 43.522701], \"line\": {\"color\": \"#babe00\", \"width\": 1}, \"lon\": [6.108950138092041, 4.92384], \"mode\": \"lines\", \"opacity\": 1.0, \"type\": \"scattergeo\"}, {\"lat\": [46.23809814453125, 18.31], \"line\": {\"color\": \"#babe00\", \"width\": 1}, \"lon\": [6.108950138092041, -15.969722199999998], \"mode\": \"lines\", \"opacity\": 1.0, \"type\": \"scattergeo\"}, {\"lat\": [46.23809814453125, 45.725556], \"line\": {\"color\": \"#babe00\", \"width\": 1}, \"lon\": [6.108950138092041, 5.081111], \"mode\": \"lines\", \"opacity\": 1.0, \"type\": \"scattergeo\"}, {\"lat\": [47.464698999999996, 46.40639877319336], \"line\": {\"color\": \"#babe00\", \"width\": 1}, \"lon\": [8.54917, 6.258059978485107], \"mode\": \"lines\", \"opacity\": 1.0, \"type\": \"scattergeo\"}, {\"lat\": [46.23809814453125, 14.739700317382812], \"line\": {\"color\": \"#babe00\", \"width\": 1}, \"lon\": [6.108950138092041, -17.49020004272461], \"mode\": \"lines\", \"opacity\": 1.0, \"type\": \"scattergeo\"}, {\"lat\": [46.23809814453125, 38.7813], \"line\": {\"color\": \"#babe00\", \"width\": 1}, \"lon\": [6.108950138092041, -9.13592], \"mode\": \"lines\", \"opacity\": 1.0, \"type\": \"scattergeo\"}, {\"lat\": [47.464698999999996, 14.739700317382812], \"line\": {\"color\": \"#babe00\", \"width\": 1}, \"lon\": [8.54917, -17.49020004272461], \"mode\": \"lines\", \"opacity\": 1.0, \"type\": \"scattergeo\"}, {\"lat\": [46.23809814453125, 14.67], \"line\": {\"color\": \"#babe00\", \"width\": 1}, \"lon\": [6.108950138092041, -17.073332999999998], \"mode\": \"lines\", \"opacity\": 1.0, \"type\": \"scattergeo\"}, {\"lat\": [46.23809814453125, 49.012798], \"line\": {\"color\": \"#babe00\", \"width\": 1}, \"lon\": [6.108950138092041, 2.55], \"mode\": \"lines\", \"opacity\": 1.0, \"type\": \"scattergeo\"}, {\"lat\": [46.23809814453125, 41.7994], \"line\": {\"color\": \"#b0bc00\", \"width\": 1}, \"lon\": [6.108950138092041, 12.5949], \"mode\": \"lines\", \"opacity\": 1.0, \"type\": \"scattergeo\"}, {\"lat\": [47.464698999999996, 41.654499], \"line\": {\"color\": \"#b0bc00\", \"width\": 1}, \"lon\": [8.54917, 12.4452], \"mode\": \"lines\", \"opacity\": 1.0, \"type\": \"scattergeo\"}, {\"lat\": [47.464698999999996, 41.800277799999996], \"line\": {\"color\": \"#b0bc00\", \"width\": 1}, \"lon\": [8.54917, 12.238888900000001], \"mode\": \"lines\", \"opacity\": 1.0, \"type\": \"scattergeo\"}, {\"lat\": [47.464698999999996, 42.430199], \"line\": {\"color\": \"#b0bc00\", \"width\": 1}, \"lon\": [8.54917, 12.0642], \"mode\": \"lines\", \"opacity\": 1.0, \"type\": \"scattergeo\"}, {\"lat\": [46.23809814453125, 41.654499], \"line\": {\"color\": \"#b0bc00\", \"width\": 1}, \"lon\": [6.108950138092041, 12.4452], \"mode\": \"lines\", \"opacity\": 1.0, \"type\": \"scattergeo\"}, {\"lat\": [46.23809814453125, 42.430199], \"line\": {\"color\": \"#b0bc00\", \"width\": 1}, \"lon\": [6.108950138092041, 12.0642], \"mode\": \"lines\", \"opacity\": 1.0, \"type\": \"scattergeo\"}, {\"lat\": [46.23809814453125, 45.445099], \"line\": {\"color\": \"#b0bc00\", \"width\": 1}, \"lon\": [6.108950138092041, 9.27674], \"mode\": \"lines\", \"opacity\": 1.0, \"type\": \"scattergeo\"}, {\"lat\": [46.23809814453125, 41.800277799999996], \"line\": {\"color\": \"#b0bc00\", \"width\": 1}, \"lon\": [6.108950138092041, 12.238888900000001], \"mode\": \"lines\", \"opacity\": 1.0, \"type\": \"scattergeo\"}, {\"lat\": [47.464698999999996, 49.193901061999995], \"line\": {\"color\": \"#b0bc00\", \"width\": 1}, \"lon\": [8.54917, -123.183998108], \"mode\": \"lines\", \"opacity\": 1.0, \"type\": \"scattergeo\"}, {\"lat\": [47.464698999999996, 43.6772003174], \"line\": {\"color\": \"#b0bc00\", \"width\": 1}, \"lon\": [8.54917, -79.63059997559999], \"mode\": \"lines\", \"opacity\": 1.0, \"type\": \"scattergeo\"}, {\"lat\": [47.464698999999996, 59.4486198425293], \"line\": {\"color\": \"#89b100\", \"width\": 1}, \"lon\": [8.54917, 24.75322723388672], \"mode\": \"lines\", \"opacity\": 1.0, \"type\": \"scattergeo\"}, {\"lat\": [46.23809814453125, 56.92359924316406], \"line\": {\"color\": \"#89b100\", \"width\": 1}, \"lon\": [6.108950138092041, 23.971099853515625], \"mode\": \"lines\", \"opacity\": 1.0, \"type\": \"scattergeo\"}, {\"lat\": [46.23809814453125, 56.9422], \"line\": {\"color\": \"#89b100\", \"width\": 1}, \"lon\": [6.108950138092041, 23.2239], \"mode\": \"lines\", \"opacity\": 1.0, \"type\": \"scattergeo\"}, {\"lat\": [47.464698999999996, 56.9422], \"line\": {\"color\": \"#89b100\", \"width\": 1}, \"lon\": [8.54917, 23.2239], \"mode\": \"lines\", \"opacity\": 1.0, \"type\": \"scattergeo\"}, {\"lat\": [47.464698999999996, 56.92359924316406], \"line\": {\"color\": \"#89b100\", \"width\": 1}, \"lon\": [8.54917, 23.971099853515625], \"mode\": \"lines\", \"opacity\": 1.0, \"type\": \"scattergeo\"}, {\"lat\": [46.23809814453125, 40.69250106811523], \"line\": {\"color\": \"#80af00\", \"width\": 1}, \"lon\": [6.108950138092041, -74.168701171875], \"mode\": \"lines\", \"opacity\": 1.0, \"type\": \"scattergeo\"}, {\"lat\": [47.464698999999996, 37.61899948120117], \"line\": {\"color\": \"#80af00\", \"width\": 1}, \"lon\": [8.54917, -122.375], \"mode\": \"lines\", \"opacity\": 1.0, \"type\": \"scattergeo\"}, {\"lat\": [46.23809814453125, 25.261101], \"line\": {\"color\": \"#80af00\", \"width\": 1}, \"lon\": [6.108950138092041, 51.565102], \"mode\": \"lines\", \"opacity\": 1.0, \"type\": \"scattergeo\"}, {\"lat\": [46.23809814453125, 51.4706], \"line\": {\"color\": \"#80af00\", \"width\": 1}, \"lon\": [6.108950138092041, -0.461941], \"mode\": \"lines\", \"opacity\": 1.0, \"type\": \"scattergeo\"}, {\"lat\": [46.23809814453125, 22.308901000000002], \"line\": {\"color\": \"#80af00\", \"width\": 1}, \"lon\": [6.108950138092041, 113.915001], \"mode\": \"lines\", \"opacity\": 1.0, \"type\": \"scattergeo\"}, {\"lat\": [46.23809814453125, 35.552299], \"line\": {\"color\": \"#80af00\", \"width\": 1}, \"lon\": [6.108950138092041, 139.779999], \"mode\": \"lines\", \"opacity\": 1.0, \"type\": \"scattergeo\"}, {\"lat\": [46.23809814453125, 39.87189865112305], \"line\": {\"color\": \"#80af00\", \"width\": 1}, \"lon\": [6.108950138092041, -75.24109649658203], \"mode\": \"lines\", \"opacity\": 1.0, \"type\": \"scattergeo\"}, {\"lat\": [46.23809814453125, -6.1255698204], \"line\": {\"color\": \"#80af00\", \"width\": 1}, \"lon\": [6.108950138092041, 106.65599823], \"mode\": \"lines\", \"opacity\": 1.0, \"type\": \"scattergeo\"}, {\"lat\": [46.23809814453125, 15.186], \"line\": {\"color\": \"#80af00\", \"width\": 1}, \"lon\": [6.108950138092041, 120.559998], \"mode\": \"lines\", \"opacity\": 1.0, \"type\": \"scattergeo\"}, {\"lat\": [46.23809814453125, 46.40639877319336], \"line\": {\"color\": \"#80af00\", \"width\": 1}, \"lon\": [6.108950138092041, 6.258059978485107], \"mode\": \"lines\", \"opacity\": 1.0, \"type\": \"scattergeo\"}, {\"lat\": [47.464698999999996, 39.9429016113], \"line\": {\"color\": \"#80af00\", \"width\": 1}, \"lon\": [8.54917, -74.845703125], \"mode\": \"lines\", \"opacity\": 1.0, \"type\": \"scattergeo\"}, {\"lat\": [47.464698999999996, 25.261101], \"line\": {\"color\": \"#80af00\", \"width\": 1}, \"lon\": [8.54917, 51.565102], \"mode\": \"lines\", \"opacity\": 1.0, \"type\": \"scattergeo\"}, {\"lat\": [47.464698999999996, 25.117300033600003], \"line\": {\"color\": \"#80af00\", \"width\": 1}, \"lon\": [8.54917, 51.3149986267], \"mode\": \"lines\", \"opacity\": 1.0, \"type\": \"scattergeo\"}, {\"lat\": [47.464698999999996, 48.969398498535156], \"line\": {\"color\": \"#80af00\", \"width\": 1}, \"lon\": [8.54917, 2.441390037536621], \"mode\": \"lines\", \"opacity\": 1.0, \"type\": \"scattergeo\"}, {\"lat\": [46.23809814453125, 47.464698999999996], \"line\": {\"color\": \"#80af00\", \"width\": 1}, \"lon\": [6.108950138092041, 8.54917], \"mode\": \"lines\", \"opacity\": 1.0, \"type\": \"scattergeo\"}, {\"lat\": [47.464698999999996, 25.273056], \"line\": {\"color\": \"#80af00\", \"width\": 1}, \"lon\": [8.54917, 51.608056], \"mode\": \"lines\", \"opacity\": 1.0, \"type\": \"scattergeo\"}, {\"lat\": [47.464698999999996, 13.681099891662598], \"line\": {\"color\": \"#80af00\", \"width\": 1}, \"lon\": [8.54917, 100.74700164794922], \"mode\": \"lines\", \"opacity\": 1.0, \"type\": \"scattergeo\"}, {\"lat\": [46.23809814453125, 40.63980103], \"line\": {\"color\": \"#80af00\", \"width\": 1}, \"lon\": [6.108950138092041, -73.77890015], \"mode\": \"lines\", \"opacity\": 1.0, \"type\": \"scattergeo\"}, {\"lat\": [47.464698999999996, -34.945], \"line\": {\"color\": \"#80af00\", \"width\": 1}, \"lon\": [8.54917, 138.53100600000002], \"mode\": \"lines\", \"opacity\": 1.0, \"type\": \"scattergeo\"}, {\"lat\": [47.464698999999996, 51.4706], \"line\": {\"color\": \"#80af00\", \"width\": 1}, \"lon\": [8.54917, -0.461941], \"mode\": \"lines\", \"opacity\": 1.0, \"type\": \"scattergeo\"}, {\"lat\": [47.464698999999996, 22.308901000000002], \"line\": {\"color\": \"#80af00\", \"width\": 1}, \"lon\": [8.54917, 113.915001], \"mode\": \"lines\", \"opacity\": 1.0, \"type\": \"scattergeo\"}, {\"lat\": [46.23809814453125, 40.471926], \"line\": {\"color\": \"#80af00\", \"width\": 1}, \"lon\": [6.108950138092041, -3.56264], \"mode\": \"lines\", \"opacity\": 1.0, \"type\": \"scattergeo\"}, {\"lat\": [47.464698999999996, 35.552299], \"line\": {\"color\": \"#80af00\", \"width\": 1}, \"lon\": [8.54917, 139.779999], \"mode\": \"lines\", \"opacity\": 1.0, \"type\": \"scattergeo\"}, {\"lat\": [46.23809814453125, 25.273056], \"line\": {\"color\": \"#80af00\", \"width\": 1}, \"lon\": [6.108950138092041, 51.608056], \"mode\": \"lines\", \"opacity\": 1.0, \"type\": \"scattergeo\"}, {\"lat\": [47.464698999999996, 45.6306], \"line\": {\"color\": \"#80af00\", \"width\": 1}, \"lon\": [8.54917, 8.728110000000001], \"mode\": \"lines\", \"opacity\": 1.0, \"type\": \"scattergeo\"}, {\"lat\": [47.464698999999996, -6.1255698204], \"line\": {\"color\": \"#80af00\", \"width\": 1}, \"lon\": [8.54917, 106.65599823], \"mode\": \"lines\", \"opacity\": 1.0, \"type\": \"scattergeo\"}, {\"lat\": [47.464698999999996, 23.843347], \"line\": {\"color\": \"#80af00\", \"width\": 1}, \"lon\": [8.54917, 90.39778299999999], \"mode\": \"lines\", \"opacity\": 1.0, \"type\": \"scattergeo\"}, {\"lat\": [47.464698999999996, 40.63980103], \"line\": {\"color\": \"#80af00\", \"width\": 1}, \"lon\": [8.54917, -73.77890015], \"mode\": \"lines\", \"opacity\": 1.0, \"type\": \"scattergeo\"}, {\"lat\": [47.464698999999996, 40.471926], \"line\": {\"color\": \"#80af00\", \"width\": 1}, \"lon\": [8.54917, -3.56264], \"mode\": \"lines\", \"opacity\": 1.0, \"type\": \"scattergeo\"}, {\"lat\": [47.464698999999996, 48.110298156738004], \"line\": {\"color\": \"#80af00\", \"width\": 1}, \"lon\": [8.54917, 16.569700241089002], \"mode\": \"lines\", \"opacity\": 1.0, \"type\": \"scattergeo\"}, {\"lat\": [46.23809814453125, 40.976898], \"line\": {\"color\": \"#66a700\", \"width\": 1}, \"lon\": [6.108950138092041, 28.8146], \"mode\": \"lines\", \"opacity\": 1.0, \"type\": \"scattergeo\"}, {\"lat\": [46.23809814453125, 40.99300003051758], \"line\": {\"color\": \"#66a700\", \"width\": 1}, \"lon\": [6.108950138092041, 29.21649932861328], \"mode\": \"lines\", \"opacity\": 1.0, \"type\": \"scattergeo\"}, {\"lat\": [47.464698999999996, 41.13819885253906], \"line\": {\"color\": \"#66a700\", \"width\": 1}, \"lon\": [8.54917, 27.919099807739254], \"mode\": \"lines\", \"opacity\": 1.0, \"type\": \"scattergeo\"}, {\"lat\": [47.464698999999996, 40.976898], \"line\": {\"color\": \"#66a700\", \"width\": 1}, \"lon\": [8.54917, 28.8146], \"mode\": \"lines\", \"opacity\": 1.0, \"type\": \"scattergeo\"}, {\"lat\": [46.23809814453125, 51.956902], \"line\": {\"color\": \"#56a200\", \"width\": 1}, \"lon\": [6.108950138092041, 4.43722], \"mode\": \"lines\", \"opacity\": 1.0, \"type\": \"scattergeo\"}, {\"lat\": [46.23809814453125, 52.308601], \"line\": {\"color\": \"#56a200\", \"width\": 1}, \"lon\": [6.108950138092041, 4.76389], \"mode\": \"lines\", \"opacity\": 1.0, \"type\": \"scattergeo\"}, {\"lat\": [47.464698999999996, 52.308601], \"line\": {\"color\": \"#56a200\", \"width\": 1}, \"lon\": [8.54917, 4.76389], \"mode\": \"lines\", \"opacity\": 1.0, \"type\": \"scattergeo\"}, {\"lat\": [47.464698999999996, 51.956902], \"line\": {\"color\": \"#56a200\", \"width\": 1}, \"lon\": [8.54917, 4.43722], \"mode\": \"lines\", \"opacity\": 1.0, \"type\": \"scattergeo\"}, {\"lat\": [47.464698999999996, 53.421299], \"line\": {\"color\": \"#4e9f00\", \"width\": 1}, \"lon\": [8.54917, -6.27007], \"mode\": \"lines\", \"opacity\": 1.0, \"type\": \"scattergeo\"}, {\"lat\": [47.464698999999996, 53.301700591999996], \"line\": {\"color\": \"#4e9f00\", \"width\": 1}, \"lon\": [8.54917, -6.451330184940001], \"mode\": \"lines\", \"opacity\": 1.0, \"type\": \"scattergeo\"}, {\"lat\": [47.464698999999996, 53.352199554399995], \"line\": {\"color\": \"#4e9f00\", \"width\": 1}, \"lon\": [8.54917, -6.48611021042], \"mode\": \"lines\", \"opacity\": 1.0, \"type\": \"scattergeo\"}, {\"lat\": [46.40639877319336, 53.421299], \"line\": {\"color\": \"#4e9f00\", \"width\": 1}, \"lon\": [6.258059978485107, -6.27007], \"mode\": \"lines\", \"opacity\": 1.0, \"type\": \"scattergeo\"}, {\"lat\": [46.23809814453125, 53.421299], \"line\": {\"color\": \"#4e9f00\", \"width\": 1}, \"lon\": [6.108950138092041, -6.27007], \"mode\": \"lines\", \"opacity\": 1.0, \"type\": \"scattergeo\"}, {\"lat\": [46.23809814453125, 53.352199554399995], \"line\": {\"color\": \"#4e9f00\", \"width\": 1}, \"lon\": [6.108950138092041, -6.48611021042], \"mode\": \"lines\", \"opacity\": 1.0, \"type\": \"scattergeo\"}, {\"lat\": [46.23809814453125, 53.301700591999996], \"line\": {\"color\": \"#4e9f00\", \"width\": 1}, \"lon\": [6.108950138092041, -6.451330184940001], \"mode\": \"lines\", \"opacity\": 1.0, \"type\": \"scattergeo\"}, {\"lat\": [46.23809814453125, 52.1656990051], \"line\": {\"color\": \"#469d00\", \"width\": 1}, \"lon\": [6.108950138092041, 20.9671001434], \"mode\": \"lines\", \"opacity\": 1.0, \"type\": \"scattergeo\"}, {\"lat\": [47.464698999999996, 32.114700317382805], \"line\": {\"color\": \"#469d00\", \"width\": 1}, \"lon\": [8.54917, 34.78219985961914], \"mode\": \"lines\", \"opacity\": 1.0, \"type\": \"scattergeo\"}, {\"lat\": [46.23809814453125, 32.011398315429695], \"line\": {\"color\": \"#469d00\", \"width\": 1}, \"lon\": [6.108950138092041, 34.88669967651367], \"mode\": \"lines\", \"opacity\": 1.0, \"type\": \"scattergeo\"}, {\"lat\": [47.464698999999996, 51.87469863891602], \"line\": {\"color\": \"#469d00\", \"width\": 1}, \"lon\": [8.54917, -0.36833301186561584], \"mode\": \"lines\", \"opacity\": 1.0, \"type\": \"scattergeo\"}, {\"lat\": [46.23809814453125, 50.9014015198], \"line\": {\"color\": \"#469d00\", \"width\": 1}, \"lon\": [6.108950138092041, 4.48443984985], \"mode\": \"lines\", \"opacity\": 1.0, \"type\": \"scattergeo\"}, {\"lat\": [47.464698999999996, 43.439271921999996], \"line\": {\"color\": \"#469d00\", \"width\": 1}, \"lon\": [8.54917, 5.22142410278], \"mode\": \"lines\", \"opacity\": 1.0, \"type\": \"scattergeo\"}, {\"lat\": [47.464698999999996, 55.40879821777344], \"line\": {\"color\": \"#180\", \"width\": 1}, \"lon\": [8.54917, 37.90629959106445], \"mode\": \"lines\", \"opacity\": 1.0, \"type\": \"scattergeo\"}, {\"lat\": [47.464698999999996, 35.3396987915], \"line\": {\"color\": \"#180\", \"width\": 1}, \"lon\": [8.54917, 25.1802997589], \"mode\": \"lines\", \"opacity\": 1.0, \"type\": \"scattergeo\"}, {\"lat\": [47.464698999999996, 32.011398315429695], \"line\": {\"color\": \"#180\", \"width\": 1}, \"lon\": [8.54917, 34.88669967651367], \"mode\": \"lines\", \"opacity\": 1.0, \"type\": \"scattergeo\"}, {\"lat\": [47.464698999999996, 37.9364013672], \"line\": {\"color\": \"#180\", \"width\": 1}, \"lon\": [8.54917, 23.944499969499997], \"mode\": \"lines\", \"opacity\": 1.0, \"type\": \"scattergeo\"}, {\"lat\": [47.464698999999996, 34.875099182128906], \"line\": {\"color\": \"#180\", \"width\": 1}, \"lon\": [8.54917, 33.62490081787109], \"mode\": \"lines\", \"opacity\": 1.0, \"type\": \"scattergeo\"}, {\"lat\": [47.464698999999996, 36.40539932250977], \"line\": {\"color\": \"#180\", \"width\": 1}, \"lon\": [8.54917, 28.086200714111328], \"mode\": \"lines\", \"opacity\": 1.0, \"type\": \"scattergeo\"}, {\"lat\": [46.23809814453125, 38.1088981628418], \"line\": {\"color\": \"#180\", \"width\": 1}, \"lon\": [6.108950138092041, 23.78380012512207], \"mode\": \"lines\", \"opacity\": 1.0, \"type\": \"scattergeo\"}, {\"lat\": [46.23809814453125, 37.893299], \"line\": {\"color\": \"#180\", \"width\": 1}, \"lon\": [6.108950138092041, 23.726101], \"mode\": \"lines\", \"opacity\": 1.0, \"type\": \"scattergeo\"}, {\"lat\": [46.23809814453125, 37.9364013672], \"line\": {\"color\": \"#180\", \"width\": 1}, \"lon\": [6.108950138092041, 23.944499969499997], \"mode\": \"lines\", \"opacity\": 1.0, \"type\": \"scattergeo\"}, {\"lat\": [47.464698999999996, 37.893299], \"line\": {\"color\": \"#180\", \"width\": 1}, \"lon\": [8.54917, 23.726101], \"mode\": \"lines\", \"opacity\": 1.0, \"type\": \"scattergeo\"}, {\"lat\": [46.23809814453125, 42.696693420410156], \"line\": {\"color\": \"#f00\", \"width\": 1}, \"lon\": [6.108950138092041, 23.411436080932614], \"mode\": \"lines\", \"opacity\": 1.0, \"type\": \"scattergeo\"}, {\"lat\": [46.23809814453125, 44.5711111], \"line\": {\"color\": \"#f00\", \"width\": 1}, \"lon\": [6.108950138092041, 26.085], \"mode\": \"lines\", \"opacity\": 1.0, \"type\": \"scattergeo\"}],\n",
       "                        {\"geo\": {\"countrycolor\": \"rgb(204, 204, 204)\", \"landcolor\": \"rgb(243, 243, 243)\", \"showland\": true}, \"showlegend\": false, \"template\": {\"data\": {\"bar\": [{\"error_x\": {\"color\": \"#2a3f5f\"}, \"error_y\": {\"color\": \"#2a3f5f\"}, \"marker\": {\"line\": {\"color\": \"#E5ECF6\", \"width\": 0.5}}, \"type\": \"bar\"}], \"barpolar\": [{\"marker\": {\"line\": {\"color\": \"#E5ECF6\", \"width\": 0.5}}, \"type\": \"barpolar\"}], \"carpet\": [{\"aaxis\": {\"endlinecolor\": \"#2a3f5f\", \"gridcolor\": \"white\", \"linecolor\": \"white\", \"minorgridcolor\": \"white\", \"startlinecolor\": \"#2a3f5f\"}, \"baxis\": {\"endlinecolor\": \"#2a3f5f\", \"gridcolor\": \"white\", \"linecolor\": \"white\", \"minorgridcolor\": \"white\", \"startlinecolor\": \"#2a3f5f\"}, \"type\": \"carpet\"}], \"choropleth\": [{\"colorbar\": {\"outlinewidth\": 0, \"ticks\": \"\"}, \"type\": \"choropleth\"}], \"contour\": [{\"colorbar\": {\"outlinewidth\": 0, \"ticks\": \"\"}, \"colorscale\": [[0.0, \"#0d0887\"], [0.1111111111111111, \"#46039f\"], [0.2222222222222222, \"#7201a8\"], [0.3333333333333333, \"#9c179e\"], [0.4444444444444444, \"#bd3786\"], [0.5555555555555556, \"#d8576b\"], [0.6666666666666666, \"#ed7953\"], [0.7777777777777778, \"#fb9f3a\"], [0.8888888888888888, \"#fdca26\"], [1.0, \"#f0f921\"]], \"type\": \"contour\"}], \"contourcarpet\": [{\"colorbar\": {\"outlinewidth\": 0, \"ticks\": \"\"}, \"type\": \"contourcarpet\"}], \"heatmap\": [{\"colorbar\": {\"outlinewidth\": 0, \"ticks\": \"\"}, \"colorscale\": [[0.0, \"#0d0887\"], [0.1111111111111111, \"#46039f\"], [0.2222222222222222, \"#7201a8\"], [0.3333333333333333, \"#9c179e\"], [0.4444444444444444, \"#bd3786\"], [0.5555555555555556, \"#d8576b\"], [0.6666666666666666, \"#ed7953\"], [0.7777777777777778, \"#fb9f3a\"], [0.8888888888888888, \"#fdca26\"], [1.0, \"#f0f921\"]], \"type\": \"heatmap\"}], \"heatmapgl\": [{\"colorbar\": {\"outlinewidth\": 0, \"ticks\": \"\"}, \"colorscale\": [[0.0, \"#0d0887\"], [0.1111111111111111, \"#46039f\"], [0.2222222222222222, \"#7201a8\"], [0.3333333333333333, \"#9c179e\"], [0.4444444444444444, \"#bd3786\"], [0.5555555555555556, \"#d8576b\"], [0.6666666666666666, \"#ed7953\"], [0.7777777777777778, \"#fb9f3a\"], [0.8888888888888888, \"#fdca26\"], [1.0, \"#f0f921\"]], \"type\": \"heatmapgl\"}], \"histogram\": [{\"marker\": {\"colorbar\": {\"outlinewidth\": 0, \"ticks\": \"\"}}, \"type\": \"histogram\"}], \"histogram2d\": [{\"colorbar\": {\"outlinewidth\": 0, \"ticks\": \"\"}, \"colorscale\": [[0.0, \"#0d0887\"], [0.1111111111111111, \"#46039f\"], [0.2222222222222222, \"#7201a8\"], [0.3333333333333333, \"#9c179e\"], [0.4444444444444444, \"#bd3786\"], [0.5555555555555556, \"#d8576b\"], [0.6666666666666666, \"#ed7953\"], [0.7777777777777778, \"#fb9f3a\"], [0.8888888888888888, \"#fdca26\"], [1.0, \"#f0f921\"]], \"type\": \"histogram2d\"}], \"histogram2dcontour\": [{\"colorbar\": {\"outlinewidth\": 0, \"ticks\": \"\"}, \"colorscale\": [[0.0, \"#0d0887\"], [0.1111111111111111, \"#46039f\"], [0.2222222222222222, \"#7201a8\"], [0.3333333333333333, \"#9c179e\"], [0.4444444444444444, \"#bd3786\"], [0.5555555555555556, \"#d8576b\"], [0.6666666666666666, \"#ed7953\"], [0.7777777777777778, \"#fb9f3a\"], [0.8888888888888888, \"#fdca26\"], [1.0, \"#f0f921\"]], \"type\": \"histogram2dcontour\"}], \"mesh3d\": [{\"colorbar\": {\"outlinewidth\": 0, \"ticks\": \"\"}, \"type\": \"mesh3d\"}], \"parcoords\": [{\"line\": {\"colorbar\": {\"outlinewidth\": 0, \"ticks\": \"\"}}, \"type\": \"parcoords\"}], \"pie\": [{\"automargin\": true, \"type\": \"pie\"}], \"scatter\": [{\"marker\": {\"colorbar\": {\"outlinewidth\": 0, \"ticks\": \"\"}}, \"type\": \"scatter\"}], \"scatter3d\": [{\"line\": {\"colorbar\": {\"outlinewidth\": 0, \"ticks\": \"\"}}, \"marker\": {\"colorbar\": {\"outlinewidth\": 0, \"ticks\": \"\"}}, \"type\": \"scatter3d\"}], \"scattercarpet\": [{\"marker\": {\"colorbar\": {\"outlinewidth\": 0, \"ticks\": \"\"}}, \"type\": \"scattercarpet\"}], \"scattergeo\": [{\"marker\": {\"colorbar\": {\"outlinewidth\": 0, \"ticks\": \"\"}}, \"type\": \"scattergeo\"}], \"scattergl\": [{\"marker\": {\"colorbar\": {\"outlinewidth\": 0, \"ticks\": \"\"}}, \"type\": \"scattergl\"}], \"scattermapbox\": [{\"marker\": {\"colorbar\": {\"outlinewidth\": 0, \"ticks\": \"\"}}, \"type\": \"scattermapbox\"}], \"scatterpolar\": [{\"marker\": {\"colorbar\": {\"outlinewidth\": 0, \"ticks\": \"\"}}, \"type\": \"scatterpolar\"}], \"scatterpolargl\": [{\"marker\": {\"colorbar\": {\"outlinewidth\": 0, \"ticks\": \"\"}}, \"type\": \"scatterpolargl\"}], \"scatterternary\": [{\"marker\": {\"colorbar\": {\"outlinewidth\": 0, \"ticks\": \"\"}}, \"type\": \"scatterternary\"}], \"surface\": [{\"colorbar\": {\"outlinewidth\": 0, \"ticks\": \"\"}, \"colorscale\": [[0.0, \"#0d0887\"], [0.1111111111111111, \"#46039f\"], [0.2222222222222222, \"#7201a8\"], [0.3333333333333333, \"#9c179e\"], [0.4444444444444444, \"#bd3786\"], [0.5555555555555556, \"#d8576b\"], [0.6666666666666666, \"#ed7953\"], [0.7777777777777778, \"#fb9f3a\"], [0.8888888888888888, \"#fdca26\"], [1.0, \"#f0f921\"]], \"type\": \"surface\"}], \"table\": [{\"cells\": {\"fill\": {\"color\": \"#EBF0F8\"}, \"line\": {\"color\": \"white\"}}, \"header\": {\"fill\": {\"color\": \"#C8D4E3\"}, \"line\": {\"color\": \"white\"}}, \"type\": \"table\"}]}, \"layout\": {\"annotationdefaults\": {\"arrowcolor\": \"#2a3f5f\", \"arrowhead\": 0, \"arrowwidth\": 1}, \"coloraxis\": {\"colorbar\": {\"outlinewidth\": 0, \"ticks\": \"\"}}, \"colorscale\": {\"diverging\": [[0, \"#8e0152\"], [0.1, \"#c51b7d\"], [0.2, \"#de77ae\"], [0.3, \"#f1b6da\"], [0.4, \"#fde0ef\"], [0.5, \"#f7f7f7\"], [0.6, \"#e6f5d0\"], [0.7, \"#b8e186\"], [0.8, \"#7fbc41\"], [0.9, \"#4d9221\"], [1, \"#276419\"]], \"sequential\": [[0.0, \"#0d0887\"], [0.1111111111111111, \"#46039f\"], [0.2222222222222222, \"#7201a8\"], [0.3333333333333333, \"#9c179e\"], [0.4444444444444444, \"#bd3786\"], [0.5555555555555556, \"#d8576b\"], [0.6666666666666666, \"#ed7953\"], [0.7777777777777778, \"#fb9f3a\"], [0.8888888888888888, \"#fdca26\"], [1.0, \"#f0f921\"]], \"sequentialminus\": [[0.0, \"#0d0887\"], [0.1111111111111111, \"#46039f\"], [0.2222222222222222, \"#7201a8\"], [0.3333333333333333, \"#9c179e\"], [0.4444444444444444, \"#bd3786\"], [0.5555555555555556, \"#d8576b\"], [0.6666666666666666, \"#ed7953\"], [0.7777777777777778, \"#fb9f3a\"], [0.8888888888888888, \"#fdca26\"], [1.0, \"#f0f921\"]]}, \"colorway\": [\"#636efa\", \"#EF553B\", \"#00cc96\", \"#ab63fa\", \"#FFA15A\", \"#19d3f3\", \"#FF6692\", \"#B6E880\", \"#FF97FF\", \"#FECB52\"], \"font\": {\"color\": \"#2a3f5f\"}, \"geo\": {\"bgcolor\": \"white\", \"lakecolor\": \"white\", \"landcolor\": \"#E5ECF6\", \"showlakes\": true, \"showland\": true, \"subunitcolor\": \"white\"}, \"hoverlabel\": {\"align\": \"left\"}, \"hovermode\": \"closest\", \"mapbox\": {\"style\": \"light\"}, \"paper_bgcolor\": \"white\", \"plot_bgcolor\": \"#E5ECF6\", \"polar\": {\"angularaxis\": {\"gridcolor\": \"white\", \"linecolor\": \"white\", \"ticks\": \"\"}, \"bgcolor\": \"#E5ECF6\", \"radialaxis\": {\"gridcolor\": \"white\", \"linecolor\": \"white\", \"ticks\": \"\"}}, \"scene\": {\"xaxis\": {\"backgroundcolor\": \"#E5ECF6\", \"gridcolor\": \"white\", \"gridwidth\": 2, \"linecolor\": \"white\", \"showbackground\": true, \"ticks\": \"\", \"zerolinecolor\": \"white\"}, \"yaxis\": {\"backgroundcolor\": \"#E5ECF6\", \"gridcolor\": \"white\", \"gridwidth\": 2, \"linecolor\": \"white\", \"showbackground\": true, \"ticks\": \"\", \"zerolinecolor\": \"white\"}, \"zaxis\": {\"backgroundcolor\": \"#E5ECF6\", \"gridcolor\": \"white\", \"gridwidth\": 2, \"linecolor\": \"white\", \"showbackground\": true, \"ticks\": \"\", \"zerolinecolor\": \"white\"}}, \"shapedefaults\": {\"line\": {\"color\": \"#2a3f5f\"}}, \"ternary\": {\"aaxis\": {\"gridcolor\": \"white\", \"linecolor\": \"white\", \"ticks\": \"\"}, \"baxis\": {\"gridcolor\": \"white\", \"linecolor\": \"white\", \"ticks\": \"\"}, \"bgcolor\": \"#E5ECF6\", \"caxis\": {\"gridcolor\": \"white\", \"linecolor\": \"white\", \"ticks\": \"\"}}, \"title\": {\"x\": 0.05}, \"xaxis\": {\"automargin\": true, \"gridcolor\": \"white\", \"linecolor\": \"white\", \"ticks\": \"\", \"title\": {\"standoff\": 15}, \"zerolinecolor\": \"white\", \"zerolinewidth\": 2}, \"yaxis\": {\"automargin\": true, \"gridcolor\": \"white\", \"linecolor\": \"white\", \"ticks\": \"\", \"title\": {\"standoff\": 15}, \"zerolinecolor\": \"white\", \"zerolinewidth\": 2}}}, \"title\": {\"text\": \"Flight routes starting from Swiss airports\"}},\n",
       "                        {\"responsive\": true}\n",
       "                    ).then(function(){\n",
       "                            \n",
       "var gd = document.getElementById('5b82fa47-a198-4f77-b85a-d6ca115221a2');\n",
       "var x = new MutationObserver(function (mutations, observer) {{\n",
       "        var display = window.getComputedStyle(gd).display;\n",
       "        if (!display || display === 'none') {{\n",
       "            console.log([gd, 'removed!']);\n",
       "            Plotly.purge(gd);\n",
       "            observer.disconnect();\n",
       "        }}\n",
       "}});\n",
       "\n",
       "// Listen for the removal of the full notebook cells\n",
       "var notebookContainer = gd.closest('#notebook-container');\n",
       "if (notebookContainer) {{\n",
       "    x.observe(notebookContainer, {childList: true});\n",
       "}}\n",
       "\n",
       "// Listen for the clearing of the current output cell\n",
       "var outputEl = gd.closest('.output');\n",
       "if (outputEl) {{\n",
       "    x.observe(outputEl, {childList: true});\n",
       "}}\n",
       "\n",
       "                        })\n",
       "                };\n",
       "                });\n",
       "            </script>\n",
       "        </div>"
      ]
     },
     "metadata": {},
     "output_type": "display_data"
    }
   ],
   "source": [
    "plot_scatterplot(co2_dataset_bestcompany_from_switzerland.sort_values(by='CO2 per seat kg/100km', ascending=False)[2:],\\\n",
    "                 feature='CO2 per seat kg/100km', title='Flight routes starting from Swiss airports without outliers')"
   ]
  },
  {
   "cell_type": "code",
   "execution_count": 380,
   "metadata": {},
   "outputs": [
    {
     "name": "stdout",
     "output_type": "stream",
     "text": [
      "max: 8.044998394186043 || min: 5.525246744181813\n"
     ]
    }
   ],
   "source": [
    "print('max: {} || min: {}'.format(co2_dataset_bestcompany_from_switzerland['CO2 per seat kg/100km'].max(), co2_dataset_bestcompany_from_switzerland['CO2 per seat kg/100km'].min()))"
   ]
  },
  {
   "cell_type": "markdown",
   "metadata": {},
   "source": [
    "*We now plot what are the less polluting by km routes from Switzerland to EU countries and we directly remove the outliers which remain the same.*"
   ]
  },
  {
   "cell_type": "code",
   "execution_count": 378,
   "metadata": {},
   "outputs": [
    {
     "data": {
      "application/vnd.plotly.v1+json": {
       "config": {
        "plotlyServerURL": "https://plot.ly"
       },
       "data": [
        {
         "lat": [
          47.464698999999996,
          47.843299865722656
         ],
         "line": {
          "color": "#f00",
          "width": 1
         },
         "lon": [
          8.54917,
          16.260099411010742
         ],
         "mode": "lines",
         "opacity": 1,
         "type": "scattergeo"
        },
        {
         "lat": [
          47.464698999999996,
          52.205002
         ],
         "line": {
          "color": "#f00",
          "width": 1
         },
         "lon": [
          8.54917,
          0.175
         ],
         "mode": "lines",
         "opacity": 1,
         "type": "scattergeo"
        },
        {
         "lat": [
          47.464698999999996,
          50.9014015198
         ],
         "line": {
          "color": "#e06e00",
          "width": 1
         },
         "lon": [
          8.54917,
          4.48443984985
         ],
         "mode": "lines",
         "opacity": 1,
         "type": "scattergeo"
        },
        {
         "lat": [
          47.464698999999996,
          50.9014015198
         ],
         "line": {
          "color": "#e06e00",
          "width": 1
         },
         "lon": [
          8.54917,
          4.48443984985
         ],
         "mode": "lines",
         "opacity": 1,
         "type": "scattergeo"
        },
        {
         "lat": [
          47.464698999999996,
          51.21166610717773
         ],
         "line": {
          "color": "#e06e00",
          "width": 1
         },
         "lon": [
          8.54917,
          4.580832958221436
         ],
         "mode": "lines",
         "opacity": 1,
         "type": "scattergeo"
        },
        {
         "lat": [
          47.464698999999996,
          51.21166610717773
         ],
         "line": {
          "color": "#e06e00",
          "width": 1
         },
         "lon": [
          8.54917,
          4.580832958221436
         ],
         "mode": "lines",
         "opacity": 1,
         "type": "scattergeo"
        },
        {
         "lat": [
          46.23809814453125,
          51.264702
         ],
         "line": {
          "color": "#e06e00",
          "width": 1
         },
         "lon": [
          6.108950138092041,
          4.75333
         ],
         "mode": "lines",
         "opacity": 1,
         "type": "scattergeo"
        },
        {
         "lat": [
          46.23809814453125,
          51.264702
         ],
         "line": {
          "color": "#e06e00",
          "width": 1
         },
         "lon": [
          6.108950138092041,
          4.75333
         ],
         "mode": "lines",
         "opacity": 1,
         "type": "scattergeo"
        },
        {
         "lat": [
          47.464698999999996,
          50.9014015198
         ],
         "line": {
          "color": "#e06e00",
          "width": 1
         },
         "lon": [
          8.54917,
          4.48443984985
         ],
         "mode": "lines",
         "opacity": 1,
         "type": "scattergeo"
        },
        {
         "lat": [
          46.23809814453125,
          39.551700591999996
         ],
         "line": {
          "color": "#e06e00",
          "width": 1
         },
         "lon": [
          6.108950138092041,
          2.73881006241
         ],
         "mode": "lines",
         "opacity": 1,
         "type": "scattergeo"
        },
        {
         "lat": [
          46.23809814453125,
          51.189399719200004
         ],
         "line": {
          "color": "#e06e00",
          "width": 1
         },
         "lon": [
          6.108950138092041,
          4.46027994156
         ],
         "mode": "lines",
         "opacity": 1,
         "type": "scattergeo"
        },
        {
         "lat": [
          47.464698999999996,
          51.189399719200004
         ],
         "line": {
          "color": "#e06e00",
          "width": 1
         },
         "lon": [
          8.54917,
          4.46027994156
         ],
         "mode": "lines",
         "opacity": 1,
         "type": "scattergeo"
        },
        {
         "lat": [
          46.23809814453125,
          38.905398999999996
         ],
         "line": {
          "color": "#e06e00",
          "width": 1
         },
         "lon": [
          6.108950138092041,
          16.2423
         ],
         "mode": "lines",
         "opacity": 1,
         "type": "scattergeo"
        },
        {
         "lat": [
          46.23809814453125,
          50.487999
         ],
         "line": {
          "color": "#e06e00",
          "width": 1
         },
         "lon": [
          6.108950138092041,
          4.76892
         ],
         "mode": "lines",
         "opacity": 1,
         "type": "scattergeo"
        },
        {
         "lat": [
          47.464698999999996,
          50.9014015198
         ],
         "line": {
          "color": "#e06e00",
          "width": 1
         },
         "lon": [
          8.54917,
          4.48443984985
         ],
         "mode": "lines",
         "opacity": 1,
         "type": "scattergeo"
        },
        {
         "lat": [
          46.23809814453125,
          51.21166610717773
         ],
         "line": {
          "color": "#e06e00",
          "width": 1
         },
         "lon": [
          6.108950138092041,
          4.580832958221436
         ],
         "mode": "lines",
         "opacity": 1,
         "type": "scattergeo"
        },
        {
         "lat": [
          47.464698999999996,
          50.9014015198
         ],
         "line": {
          "color": "#e06e00",
          "width": 1
         },
         "lon": [
          8.54917,
          4.48443984985
         ],
         "mode": "lines",
         "opacity": 1,
         "type": "scattergeo"
        },
        {
         "lat": [
          46.23809814453125,
          50.791901
         ],
         "line": {
          "color": "#e06e00",
          "width": 1
         },
         "lon": [
          6.108950138092041,
          5.20167
         ],
         "mode": "lines",
         "opacity": 1,
         "type": "scattergeo"
        },
        {
         "lat": [
          46.23809814453125,
          51.21166610717773
         ],
         "line": {
          "color": "#e06e00",
          "width": 1
         },
         "lon": [
          6.108950138092041,
          4.580832958221436
         ],
         "mode": "lines",
         "opacity": 1,
         "type": "scattergeo"
        },
        {
         "lat": [
          46.23809814453125,
          50.459202000000005
         ],
         "line": {
          "color": "#e06e00",
          "width": 1
         },
         "lon": [
          6.108950138092041,
          4.4538199999999994
         ],
         "mode": "lines",
         "opacity": 1,
         "type": "scattergeo"
        },
        {
         "lat": [
          46.23809814453125,
          50.459202000000005
         ],
         "line": {
          "color": "#e06e00",
          "width": 1
         },
         "lon": [
          6.108950138092041,
          4.4538199999999994
         ],
         "mode": "lines",
         "opacity": 1,
         "type": "scattergeo"
        },
        {
         "lat": [
          46.23809814453125,
          50.459202000000005
         ],
         "line": {
          "color": "#e06e00",
          "width": 1
         },
         "lon": [
          6.108950138092041,
          4.4538199999999994
         ],
         "mode": "lines",
         "opacity": 1,
         "type": "scattergeo"
        },
        {
         "lat": [
          46.23809814453125,
          50.459202000000005
         ],
         "line": {
          "color": "#e06e00",
          "width": 1
         },
         "lon": [
          6.108950138092041,
          4.4538199999999994
         ],
         "mode": "lines",
         "opacity": 1,
         "type": "scattergeo"
        },
        {
         "lat": [
          46.23809814453125,
          45.505299
         ],
         "line": {
          "color": "#e06e00",
          "width": 1
         },
         "lon": [
          6.108950138092041,
          12.3519
         ],
         "mode": "lines",
         "opacity": 1,
         "type": "scattergeo"
        },
        {
         "lat": [
          47.464698999999996,
          50.63740158081055
         ],
         "line": {
          "color": "#e06e00",
          "width": 1
         },
         "lon": [
          8.54917,
          5.443220138549805
         ],
         "mode": "lines",
         "opacity": 1,
         "type": "scattergeo"
        },
        {
         "lat": [
          47.464698999999996,
          50.63740158081055
         ],
         "line": {
          "color": "#e06e00",
          "width": 1
         },
         "lon": [
          8.54917,
          5.443220138549805
         ],
         "mode": "lines",
         "opacity": 1,
         "type": "scattergeo"
        },
        {
         "lat": [
          47.464698999999996,
          50.63740158081055
         ],
         "line": {
          "color": "#e06e00",
          "width": 1
         },
         "lon": [
          8.54917,
          5.443220138549805
         ],
         "mode": "lines",
         "opacity": 1,
         "type": "scattergeo"
        },
        {
         "lat": [
          46.23809814453125,
          50.63740158081055
         ],
         "line": {
          "color": "#e06e00",
          "width": 1
         },
         "lon": [
          6.108950138092041,
          5.443220138549805
         ],
         "mode": "lines",
         "opacity": 1,
         "type": "scattergeo"
        },
        {
         "lat": [
          46.23809814453125,
          50.63740158081055
         ],
         "line": {
          "color": "#e06e00",
          "width": 1
         },
         "lon": [
          6.108950138092041,
          5.443220138549805
         ],
         "mode": "lines",
         "opacity": 1,
         "type": "scattergeo"
        },
        {
         "lat": [
          46.23809814453125,
          50.791901
         ],
         "line": {
          "color": "#e06e00",
          "width": 1
         },
         "lon": [
          6.108950138092041,
          5.20167
         ],
         "mode": "lines",
         "opacity": 1,
         "type": "scattergeo"
        },
        {
         "lat": [
          46.23809814453125,
          50.63740158081055
         ],
         "line": {
          "color": "#e06e00",
          "width": 1
         },
         "lon": [
          6.108950138092041,
          5.443220138549805
         ],
         "mode": "lines",
         "opacity": 1,
         "type": "scattergeo"
        },
        {
         "lat": [
          46.23809814453125,
          51.12
         ],
         "line": {
          "color": "#e06e00",
          "width": 1
         },
         "lon": [
          6.108950138092041,
          5.3072222
         ],
         "mode": "lines",
         "opacity": 1,
         "type": "scattergeo"
        },
        {
         "lat": [
          46.23809814453125,
          50.970001
         ],
         "line": {
          "color": "#e06e00",
          "width": 1
         },
         "lon": [
          6.108950138092041,
          5.37507
         ],
         "mode": "lines",
         "opacity": 1,
         "type": "scattergeo"
        },
        {
         "lat": [
          46.23809814453125,
          50.482498
         ],
         "line": {
          "color": "#e06e00",
          "width": 1
         },
         "lon": [
          6.108950138092041,
          5.9103
         ],
         "mode": "lines",
         "opacity": 1,
         "type": "scattergeo"
        },
        {
         "lat": [
          46.23809814453125,
          50.482498
         ],
         "line": {
          "color": "#e06e00",
          "width": 1
         },
         "lon": [
          6.108950138092041,
          5.9103
         ],
         "mode": "lines",
         "opacity": 1,
         "type": "scattergeo"
        },
        {
         "lat": [
          46.23809814453125,
          51.12
         ],
         "line": {
          "color": "#e06e00",
          "width": 1
         },
         "lon": [
          6.108950138092041,
          5.3072222
         ],
         "mode": "lines",
         "opacity": 1,
         "type": "scattergeo"
        },
        {
         "lat": [
          46.23809814453125,
          51.12
         ],
         "line": {
          "color": "#e06e00",
          "width": 1
         },
         "lon": [
          6.108950138092041,
          5.3072222
         ],
         "mode": "lines",
         "opacity": 1,
         "type": "scattergeo"
        },
        {
         "lat": [
          46.23809814453125,
          51.12
         ],
         "line": {
          "color": "#e06e00",
          "width": 1
         },
         "lon": [
          6.108950138092041,
          5.3072222
         ],
         "mode": "lines",
         "opacity": 1,
         "type": "scattergeo"
        },
        {
         "lat": [
          46.23809814453125,
          50.2433013916
         ],
         "line": {
          "color": "#e06e00",
          "width": 1
         },
         "lon": [
          6.108950138092041,
          4.64583015442
         ],
         "mode": "lines",
         "opacity": 1,
         "type": "scattergeo"
        },
        {
         "lat": [
          46.23809814453125,
          50.2433013916
         ],
         "line": {
          "color": "#e06e00",
          "width": 1
         },
         "lon": [
          6.108950138092041,
          4.64583015442
         ],
         "mode": "lines",
         "opacity": 1,
         "type": "scattergeo"
        },
        {
         "lat": [
          46.23809814453125,
          50.781700134277344
         ],
         "line": {
          "color": "#e06e00",
          "width": 1
         },
         "lon": [
          6.108950138092041,
          4.957779884338379
         ],
         "mode": "lines",
         "opacity": 1,
         "type": "scattergeo"
        },
        {
         "lat": [
          46.23809814453125,
          50.781700134277344
         ],
         "line": {
          "color": "#e06e00",
          "width": 1
         },
         "lon": [
          6.108950138092041,
          4.957779884338379
         ],
         "mode": "lines",
         "opacity": 1,
         "type": "scattergeo"
        },
        {
         "lat": [
          46.23809814453125,
          50.781700134277344
         ],
         "line": {
          "color": "#e06e00",
          "width": 1
         },
         "lon": [
          6.108950138092041,
          4.957779884338379
         ],
         "mode": "lines",
         "opacity": 1,
         "type": "scattergeo"
        },
        {
         "lat": [
          46.23809814453125,
          50.75859832763672
         ],
         "line": {
          "color": "#e06e00",
          "width": 1
         },
         "lon": [
          6.108950138092041,
          4.768330097198486
         ],
         "mode": "lines",
         "opacity": 1,
         "type": "scattergeo"
        },
        {
         "lat": [
          46.23809814453125,
          50.75859832763672
         ],
         "line": {
          "color": "#e06e00",
          "width": 1
         },
         "lon": [
          6.108950138092041,
          4.768330097198486
         ],
         "mode": "lines",
         "opacity": 1,
         "type": "scattergeo"
        },
        {
         "lat": [
          46.23809814453125,
          50.791901
         ],
         "line": {
          "color": "#e06e00",
          "width": 1
         },
         "lon": [
          6.108950138092041,
          5.20167
         ],
         "mode": "lines",
         "opacity": 1,
         "type": "scattergeo"
        },
        {
         "lat": [
          46.23809814453125,
          50.791901
         ],
         "line": {
          "color": "#e06e00",
          "width": 1
         },
         "lon": [
          6.108950138092041,
          5.20167
         ],
         "mode": "lines",
         "opacity": 1,
         "type": "scattergeo"
        },
        {
         "lat": [
          46.23809814453125,
          50.970001
         ],
         "line": {
          "color": "#e06e00",
          "width": 1
         },
         "lon": [
          6.108950138092041,
          5.37507
         ],
         "mode": "lines",
         "opacity": 1,
         "type": "scattergeo"
        },
        {
         "lat": [
          47.464698999999996,
          51.40230178833008
         ],
         "line": {
          "color": "#d39200",
          "width": 1
         },
         "lon": [
          8.54917,
          6.9373297691345215
         ],
         "mode": "lines",
         "opacity": 1,
         "type": "scattergeo"
        },
        {
         "lat": [
          47.464698999999996,
          50.865898132299996
         ],
         "line": {
          "color": "#d39200",
          "width": 1
         },
         "lon": [
          8.54917,
          7.1427397728
         ],
         "mode": "lines",
         "opacity": 1,
         "type": "scattergeo"
        },
        {
         "lat": [
          47.464698999999996,
          52.5597
         ],
         "line": {
          "color": "#d39200",
          "width": 1
         },
         "lon": [
          8.54917,
          13.2877
         ],
         "mode": "lines",
         "opacity": 1,
         "type": "scattergeo"
        },
        {
         "lat": [
          47.464698999999996,
          51.289501
         ],
         "line": {
          "color": "#d39200",
          "width": 1
         },
         "lon": [
          8.54917,
          6.766780000000001
         ],
         "mode": "lines",
         "opacity": 1,
         "type": "scattergeo"
        },
        {
         "lat": [
          47.464698999999996,
          53.630401611328004
         ],
         "line": {
          "color": "#d39200",
          "width": 1
         },
         "lon": [
          8.54917,
          9.988229751586902
         ],
         "mode": "lines",
         "opacity": 1,
         "type": "scattergeo"
        },
        {
         "lat": [
          47.464698999999996,
          51.230278000000006
         ],
         "line": {
          "color": "#d39200",
          "width": 1
         },
         "lon": [
          8.54917,
          6.504444
         ],
         "mode": "lines",
         "opacity": 1,
         "type": "scattergeo"
        },
        {
         "lat": [
          47.464698999999996,
          49.6963005065918
         ],
         "line": {
          "color": "#d39200",
          "width": 1
         },
         "lon": [
          8.54917,
          18.111099243164066
         ],
         "mode": "lines",
         "opacity": 1,
         "type": "scattergeo"
        },
        {
         "lat": [
          47.464698999999996,
          50.033333
         ],
         "line": {
          "color": "#d39200",
          "width": 1
         },
         "lon": [
          8.54917,
          8.570556
         ],
         "mode": "lines",
         "opacity": 1,
         "type": "scattergeo"
        },
        {
         "lat": [
          46.23809814453125,
          50.033333
         ],
         "line": {
          "color": "#d39200",
          "width": 1
         },
         "lon": [
          6.108950138092041,
          8.570556
         ],
         "mode": "lines",
         "opacity": 1,
         "type": "scattergeo"
        },
        {
         "lat": [
          46.23809814453125,
          50.033333
         ],
         "line": {
          "color": "#d39200",
          "width": 1
         },
         "lon": [
          6.108950138092041,
          8.570556
         ],
         "mode": "lines",
         "opacity": 1,
         "type": "scattergeo"
        },
        {
         "lat": [
          46.23809814453125,
          50.033333
         ],
         "line": {
          "color": "#d39200",
          "width": 1
         },
         "lon": [
          6.108950138092041,
          8.570556
         ],
         "mode": "lines",
         "opacity": 1,
         "type": "scattergeo"
        },
        {
         "lat": [
          46.23809814453125,
          48.353802
         ],
         "line": {
          "color": "#d39200",
          "width": 1
         },
         "lon": [
          6.108950138092041,
          11.7861
         ],
         "mode": "lines",
         "opacity": 1,
         "type": "scattergeo"
        },
        {
         "lat": [
          46.23809814453125,
          48.353802
         ],
         "line": {
          "color": "#d39200",
          "width": 1
         },
         "lon": [
          6.108950138092041,
          11.7861
         ],
         "mode": "lines",
         "opacity": 1,
         "type": "scattergeo"
        },
        {
         "lat": [
          47.464698999999996,
          50.033333
         ],
         "line": {
          "color": "#d39200",
          "width": 1
         },
         "lon": [
          8.54917,
          8.570556
         ],
         "mode": "lines",
         "opacity": 1,
         "type": "scattergeo"
        },
        {
         "lat": [
          47.464698999999996,
          50.033333
         ],
         "line": {
          "color": "#d39200",
          "width": 1
         },
         "lon": [
          8.54917,
          8.570556
         ],
         "mode": "lines",
         "opacity": 1,
         "type": "scattergeo"
        },
        {
         "lat": [
          47.464698999999996,
          47.59
         ],
         "line": {
          "color": "#d39200",
          "width": 1
         },
         "lon": [
          8.54917,
          7.5291667
         ],
         "mode": "lines",
         "opacity": 1,
         "type": "scattergeo"
        },
        {
         "lat": [
          47.464698999999996,
          48.32229995727539
         ],
         "line": {
          "color": "#d39200",
          "width": 1
         },
         "lon": [
          8.54917,
          11.948699951171875
         ],
         "mode": "lines",
         "opacity": 1,
         "type": "scattergeo"
        },
        {
         "lat": [
          46.23809814453125,
          48.110298156738004
         ],
         "line": {
          "color": "#d39200",
          "width": 1
         },
         "lon": [
          6.108950138092041,
          16.569700241089002
         ],
         "mode": "lines",
         "opacity": 1,
         "type": "scattergeo"
        },
        {
         "lat": [
          46.23809814453125,
          48.110298156738004
         ],
         "line": {
          "color": "#d39200",
          "width": 1
         },
         "lon": [
          6.108950138092041,
          16.569700241089002
         ],
         "mode": "lines",
         "opacity": 1,
         "type": "scattergeo"
        },
        {
         "lat": [
          46.23809814453125,
          48.110298156738004
         ],
         "line": {
          "color": "#d39200",
          "width": 1
         },
         "lon": [
          6.108950138092041,
          16.569700241089002
         ],
         "mode": "lines",
         "opacity": 1,
         "type": "scattergeo"
        },
        {
         "lat": [
          46.23809814453125,
          45.6306
         ],
         "line": {
          "color": "#d39200",
          "width": 1
         },
         "lon": [
          6.108950138092041,
          8.728110000000001
         ],
         "mode": "lines",
         "opacity": 1,
         "type": "scattergeo"
        },
        {
         "lat": [
          46.23809814453125,
          45.6306
         ],
         "line": {
          "color": "#d39200",
          "width": 1
         },
         "lon": [
          6.108950138092041,
          8.728110000000001
         ],
         "mode": "lines",
         "opacity": 1,
         "type": "scattergeo"
        },
        {
         "lat": [
          46.23809814453125,
          45.6306
         ],
         "line": {
          "color": "#d39200",
          "width": 1
         },
         "lon": [
          6.108950138092041,
          8.728110000000001
         ],
         "mode": "lines",
         "opacity": 1,
         "type": "scattergeo"
        },
        {
         "lat": [
          46.23809814453125,
          48.83769989013672
         ],
         "line": {
          "color": "#d09900",
          "width": 1
         },
         "lon": [
          6.108950138092041,
          3.016119956970215
         ],
         "mode": "lines",
         "opacity": 1,
         "type": "scattergeo"
        },
        {
         "lat": [
          46.23809814453125,
          48.92779922485352
         ],
         "line": {
          "color": "#d09900",
          "width": 1
         },
         "lon": [
          6.108950138092041,
          2.835279941558838
         ],
         "mode": "lines",
         "opacity": 1,
         "type": "scattergeo"
        },
        {
         "lat": [
          46.23809814453125,
          49.046397999999996
         ],
         "line": {
          "color": "#d09900",
          "width": 1
         },
         "lon": [
          6.108950138092041,
          2.3530599999999997
         ],
         "mode": "lines",
         "opacity": 1,
         "type": "scattergeo"
        },
        {
         "lat": [
          46.23809814453125,
          49.0672
         ],
         "line": {
          "color": "#d09900",
          "width": 1
         },
         "lon": [
          6.108950138092041,
          3.3569400000000003
         ],
         "mode": "lines",
         "opacity": 1,
         "type": "scattergeo"
        },
        {
         "lat": [
          46.23809814453125,
          48.83769989013672
         ],
         "line": {
          "color": "#d09900",
          "width": 1
         },
         "lon": [
          6.108950138092041,
          3.016119956970215
         ],
         "mode": "lines",
         "opacity": 1,
         "type": "scattergeo"
        },
        {
         "lat": [
          46.23809814453125,
          48.92779922485352
         ],
         "line": {
          "color": "#d09900",
          "width": 1
         },
         "lon": [
          6.108950138092041,
          2.835279941558838
         ],
         "mode": "lines",
         "opacity": 1,
         "type": "scattergeo"
        },
        {
         "lat": [
          46.23809814453125,
          48.92779922485352
         ],
         "line": {
          "color": "#d09900",
          "width": 1
         },
         "lon": [
          6.108950138092041,
          2.835279941558838
         ],
         "mode": "lines",
         "opacity": 1,
         "type": "scattergeo"
        },
        {
         "lat": [
          46.23809814453125,
          48.969398498535156
         ],
         "line": {
          "color": "#d09900",
          "width": 1
         },
         "lon": [
          6.108950138092041,
          2.441390037536621
         ],
         "mode": "lines",
         "opacity": 1,
         "type": "scattergeo"
        },
        {
         "lat": [
          46.23809814453125,
          48.969398498535156
         ],
         "line": {
          "color": "#d09900",
          "width": 1
         },
         "lon": [
          6.108950138092041,
          2.441390037536621
         ],
         "mode": "lines",
         "opacity": 1,
         "type": "scattergeo"
        },
        {
         "lat": [
          46.23809814453125,
          48.969398498535156
         ],
         "line": {
          "color": "#d09900",
          "width": 1
         },
         "lon": [
          6.108950138092041,
          2.441390037536621
         ],
         "mode": "lines",
         "opacity": 1,
         "type": "scattergeo"
        },
        {
         "lat": [
          46.23809814453125,
          51.5530014038
         ],
         "line": {
          "color": "#cea000",
          "width": 1
         },
         "lon": [
          6.108950138092041,
          -0.418166995049
         ],
         "mode": "lines",
         "opacity": 1,
         "type": "scattergeo"
        },
        {
         "lat": [
          46.23809814453125,
          51.2136001587
         ],
         "line": {
          "color": "#cea000",
          "width": 1
         },
         "lon": [
          6.108950138092041,
          -0.138611003757
         ],
         "mode": "lines",
         "opacity": 1,
         "type": "scattergeo"
        },
        {
         "lat": [
          46.40639877319336,
          51.4706
         ],
         "line": {
          "color": "#cea000",
          "width": 1
         },
         "lon": [
          6.258059978485107,
          -0.461941
         ],
         "mode": "lines",
         "opacity": 1,
         "type": "scattergeo"
        },
        {
         "lat": [
          46.23809814453125,
          51.40230178833008
         ],
         "line": {
          "color": "#cea000",
          "width": 1
         },
         "lon": [
          6.108950138092041,
          6.9373297691345215
         ],
         "mode": "lines",
         "opacity": 1,
         "type": "scattergeo"
        },
        {
         "lat": [
          46.23809814453125,
          51.330799102799986
         ],
         "line": {
          "color": "#cea000",
          "width": 1
         },
         "lon": [
          6.108950138092041,
          0.032499998807900006
         ],
         "mode": "lines",
         "opacity": 1,
         "type": "scattergeo"
        },
        {
         "lat": [
          47.464698999999996,
          51.330799102799986
         ],
         "line": {
          "color": "#cea000",
          "width": 1
         },
         "lon": [
          8.54917,
          0.032499998807900006
         ],
         "mode": "lines",
         "opacity": 1,
         "type": "scattergeo"
        },
        {
         "lat": [
          47.464698999999996,
          51.330799102799986
         ],
         "line": {
          "color": "#cea000",
          "width": 1
         },
         "lon": [
          8.54917,
          0.032499998807900006
         ],
         "mode": "lines",
         "opacity": 1,
         "type": "scattergeo"
        },
        {
         "lat": [
          46.23809814453125,
          51.148102
         ],
         "line": {
          "color": "#cea000",
          "width": 1
         },
         "lon": [
          6.108950138092041,
          -0.190278
         ],
         "mode": "lines",
         "opacity": 1,
         "type": "scattergeo"
        },
        {
         "lat": [
          46.23809814453125,
          51.505299
         ],
         "line": {
          "color": "#cea000",
          "width": 1
         },
         "lon": [
          6.108950138092041,
          0.055277999999999994
         ],
         "mode": "lines",
         "opacity": 1,
         "type": "scattergeo"
        },
        {
         "lat": [
          46.23809814453125,
          51.2136001587
         ],
         "line": {
          "color": "#cea000",
          "width": 1
         },
         "lon": [
          6.108950138092041,
          -0.138611003757
         ],
         "mode": "lines",
         "opacity": 1,
         "type": "scattergeo"
        },
        {
         "lat": [
          47.464698999999996,
          51.469722747799985
         ],
         "line": {
          "color": "#cea000",
          "width": 1
         },
         "lon": [
          8.54917,
          -0.179444000125
         ],
         "mode": "lines",
         "opacity": 1,
         "type": "scattergeo"
        },
        {
         "lat": [
          47.464698999999996,
          51.469722747799985
         ],
         "line": {
          "color": "#cea000",
          "width": 1
         },
         "lon": [
          8.54917,
          -0.179444000125
         ],
         "mode": "lines",
         "opacity": 1,
         "type": "scattergeo"
        },
        {
         "lat": [
          46.23809814453125,
          51.6557998657
         ],
         "line": {
          "color": "#cea000",
          "width": 1
         },
         "lon": [
          6.108950138092041,
          -0.325832992792
         ],
         "mode": "lines",
         "opacity": 1,
         "type": "scattergeo"
        },
        {
         "lat": [
          47.464698999999996,
          51.5008010864
         ],
         "line": {
          "color": "#cea000",
          "width": 1
         },
         "lon": [
          8.54917,
          -0.774443984032
         ],
         "mode": "lines",
         "opacity": 1,
         "type": "scattergeo"
        },
        {
         "lat": [
          47.464698999999996,
          51.5008010864
         ],
         "line": {
          "color": "#cea000",
          "width": 1
         },
         "lon": [
          8.54917,
          -0.774443984032
         ],
         "mode": "lines",
         "opacity": 1,
         "type": "scattergeo"
        },
        {
         "lat": [
          46.23809814453125,
          51.5008010864
         ],
         "line": {
          "color": "#cea000",
          "width": 1
         },
         "lon": [
          6.108950138092041,
          -0.774443984032
         ],
         "mode": "lines",
         "opacity": 1,
         "type": "scattergeo"
        },
        {
         "lat": [
          46.23809814453125,
          51.5008010864
         ],
         "line": {
          "color": "#cea000",
          "width": 1
         },
         "lon": [
          6.108950138092041,
          -0.774443984032
         ],
         "mode": "lines",
         "opacity": 1,
         "type": "scattergeo"
        },
        {
         "lat": [
          46.23809814453125,
          51.65250015260001
         ],
         "line": {
          "color": "#cea000",
          "width": 1
         },
         "lon": [
          6.108950138092041,
          0.15583300590500002
         ],
         "mode": "lines",
         "opacity": 1,
         "type": "scattergeo"
        },
        {
         "lat": [
          46.23809814453125,
          51.5008010864
         ],
         "line": {
          "color": "#cea000",
          "width": 1
         },
         "lon": [
          6.108950138092041,
          -0.774443984032
         ],
         "mode": "lines",
         "opacity": 1,
         "type": "scattergeo"
        },
        {
         "lat": [
          46.23809814453125,
          51.469722747799985
         ],
         "line": {
          "color": "#cea000",
          "width": 1
         },
         "lon": [
          6.108950138092041,
          -0.179444000125
         ],
         "mode": "lines",
         "opacity": 1,
         "type": "scattergeo"
        },
        {
         "lat": [
          47.464698999999996,
          51.5530014038
         ],
         "line": {
          "color": "#cea000",
          "width": 1
         },
         "lon": [
          8.54917,
          -0.418166995049
         ],
         "mode": "lines",
         "opacity": 1,
         "type": "scattergeo"
        },
        {
         "lat": [
          46.23809814453125,
          51.2136001587
         ],
         "line": {
          "color": "#cea000",
          "width": 1
         },
         "lon": [
          6.108950138092041,
          -0.138611003757
         ],
         "mode": "lines",
         "opacity": 1,
         "type": "scattergeo"
        },
        {
         "lat": [
          46.23809814453125,
          51.469722747799985
         ],
         "line": {
          "color": "#cea000",
          "width": 1
         },
         "lon": [
          6.108950138092041,
          -0.179444000125
         ],
         "mode": "lines",
         "opacity": 1,
         "type": "scattergeo"
        },
        {
         "lat": [
          46.23809814453125,
          51.469722747799985
         ],
         "line": {
          "color": "#cea000",
          "width": 1
         },
         "lon": [
          6.108950138092041,
          -0.179444000125
         ],
         "mode": "lines",
         "opacity": 1,
         "type": "scattergeo"
        },
        {
         "lat": [
          47.464698999999996,
          51.6557998657
         ],
         "line": {
          "color": "#cea000",
          "width": 1
         },
         "lon": [
          8.54917,
          -0.325832992792
         ],
         "mode": "lines",
         "opacity": 1,
         "type": "scattergeo"
        },
        {
         "lat": [
          46.23809814453125,
          45.725556
         ],
         "line": {
          "color": "#cea000",
          "width": 1
         },
         "lon": [
          6.108950138092041,
          5.081111
         ],
         "mode": "lines",
         "opacity": 1,
         "type": "scattergeo"
        },
        {
         "lat": [
          46.23809814453125,
          45.725556
         ],
         "line": {
          "color": "#cea000",
          "width": 1
         },
         "lon": [
          6.108950138092041,
          5.081111
         ],
         "mode": "lines",
         "opacity": 1,
         "type": "scattergeo"
        },
        {
         "lat": [
          47.464698999999996,
          48.353802
         ],
         "line": {
          "color": "#cea000",
          "width": 1
         },
         "lon": [
          8.54917,
          11.7861
         ],
         "mode": "lines",
         "opacity": 1,
         "type": "scattergeo"
        },
        {
         "lat": [
          47.464698999999996,
          53.35369873046875
         ],
         "line": {
          "color": "#cea000",
          "width": 1
         },
         "lon": [
          8.54917,
          -2.2749500274658203
         ],
         "mode": "lines",
         "opacity": 1,
         "type": "scattergeo"
        },
        {
         "lat": [
          47.464698999999996,
          48.92779922485352
         ],
         "line": {
          "color": "#cea000",
          "width": 1
         },
         "lon": [
          8.54917,
          2.835279941558838
         ],
         "mode": "lines",
         "opacity": 1,
         "type": "scattergeo"
        },
        {
         "lat": [
          46.23809814453125,
          49.012798
         ],
         "line": {
          "color": "#cea000",
          "width": 1
         },
         "lon": [
          6.108950138092041,
          2.55
         ],
         "mode": "lines",
         "opacity": 1,
         "type": "scattergeo"
        },
        {
         "lat": [
          47.464698999999996,
          49.012798
         ],
         "line": {
          "color": "#cea000",
          "width": 1
         },
         "lon": [
          8.54917,
          2.55
         ],
         "mode": "lines",
         "opacity": 1,
         "type": "scattergeo"
        },
        {
         "lat": [
          46.23809814453125,
          38.7813
         ],
         "line": {
          "color": "#cea000",
          "width": 1
         },
         "lon": [
          6.108950138092041,
          -9.13592
         ],
         "mode": "lines",
         "opacity": 1,
         "type": "scattergeo"
        },
        {
         "lat": [
          47.464698999999996,
          48.53829956054688
         ],
         "line": {
          "color": "#cea000",
          "width": 1
         },
         "lon": [
          8.54917,
          7.628230094909668
         ],
         "mode": "lines",
         "opacity": 1,
         "type": "scattergeo"
        },
        {
         "lat": [
          47.464698999999996,
          48.53829956054688
         ],
         "line": {
          "color": "#cea000",
          "width": 1
         },
         "lon": [
          8.54917,
          7.628230094909668
         ],
         "mode": "lines",
         "opacity": 1,
         "type": "scattergeo"
        },
        {
         "lat": [
          46.23809814453125,
          43.522701
         ],
         "line": {
          "color": "#cea000",
          "width": 1
         },
         "lon": [
          6.108950138092041,
          4.92384
         ],
         "mode": "lines",
         "opacity": 1,
         "type": "scattergeo"
        },
        {
         "lat": [
          46.23809814453125,
          59.41329956049999
         ],
         "line": {
          "color": "#cea000",
          "width": 1
         },
         "lon": [
          6.108950138092041,
          24.8327999115
         ],
         "mode": "lines",
         "opacity": 1,
         "type": "scattergeo"
        },
        {
         "lat": [
          47.464698999999996,
          48.554401
         ],
         "line": {
          "color": "#cea000",
          "width": 1
         },
         "lon": [
          8.54917,
          7.778060000000001
         ],
         "mode": "lines",
         "opacity": 1,
         "type": "scattergeo"
        },
        {
         "lat": [
          47.464698999999996,
          53.35369873046875
         ],
         "line": {
          "color": "#cea000",
          "width": 1
         },
         "lon": [
          8.54917,
          -2.2749500274658203
         ],
         "mode": "lines",
         "opacity": 1,
         "type": "scattergeo"
        },
        {
         "lat": [
          47.464698999999996,
          59.651901245116996
         ],
         "line": {
          "color": "#cea000",
          "width": 1
         },
         "lon": [
          8.54917,
          17.918600082397
         ],
         "mode": "lines",
         "opacity": 1,
         "type": "scattergeo"
        },
        {
         "lat": [
          47.464698999999996,
          48.53829956054688
         ],
         "line": {
          "color": "#cea000",
          "width": 1
         },
         "lon": [
          8.54917,
          7.628230094909668
         ],
         "mode": "lines",
         "opacity": 1,
         "type": "scattergeo"
        },
        {
         "lat": [
          46.23809814453125,
          45.445099
         ],
         "line": {
          "color": "#cba600",
          "width": 1
         },
         "lon": [
          6.108950138092041,
          9.27674
         ],
         "mode": "lines",
         "opacity": 1,
         "type": "scattergeo"
        },
        {
         "lat": [
          47.464698999999996,
          41.800277799999996
         ],
         "line": {
          "color": "#cba600",
          "width": 1
         },
         "lon": [
          8.54917,
          12.238888900000001
         ],
         "mode": "lines",
         "opacity": 1,
         "type": "scattergeo"
        },
        {
         "lat": [
          46.23809814453125,
          41.7994
         ],
         "line": {
          "color": "#cba600",
          "width": 1
         },
         "lon": [
          6.108950138092041,
          12.5949
         ],
         "mode": "lines",
         "opacity": 1,
         "type": "scattergeo"
        },
        {
         "lat": [
          46.23809814453125,
          41.800277799999996
         ],
         "line": {
          "color": "#cba600",
          "width": 1
         },
         "lon": [
          6.108950138092041,
          12.238888900000001
         ],
         "mode": "lines",
         "opacity": 1,
         "type": "scattergeo"
        },
        {
         "lat": [
          46.23809814453125,
          45.445099
         ],
         "line": {
          "color": "#cba600",
          "width": 1
         },
         "lon": [
          6.108950138092041,
          9.27674
         ],
         "mode": "lines",
         "opacity": 1,
         "type": "scattergeo"
        },
        {
         "lat": [
          46.23809814453125,
          42.430199
         ],
         "line": {
          "color": "#cba600",
          "width": 1
         },
         "lon": [
          6.108950138092041,
          12.0642
         ],
         "mode": "lines",
         "opacity": 1,
         "type": "scattergeo"
        },
        {
         "lat": [
          47.464698999999996,
          42.430199
         ],
         "line": {
          "color": "#cba600",
          "width": 1
         },
         "lon": [
          8.54917,
          12.0642
         ],
         "mode": "lines",
         "opacity": 1,
         "type": "scattergeo"
        },
        {
         "lat": [
          46.23809814453125,
          41.654499
         ],
         "line": {
          "color": "#cba600",
          "width": 1
         },
         "lon": [
          6.108950138092041,
          12.4452
         ],
         "mode": "lines",
         "opacity": 1,
         "type": "scattergeo"
        },
        {
         "lat": [
          47.464698999999996,
          41.654499
         ],
         "line": {
          "color": "#cba600",
          "width": 1
         },
         "lon": [
          8.54917,
          12.4452
         ],
         "mode": "lines",
         "opacity": 1,
         "type": "scattergeo"
        },
        {
         "lat": [
          47.464698999999996,
          41.800277799999996
         ],
         "line": {
          "color": "#cba600",
          "width": 1
         },
         "lon": [
          8.54917,
          12.238888900000001
         ],
         "mode": "lines",
         "opacity": 1,
         "type": "scattergeo"
        },
        {
         "lat": [
          47.464698999999996,
          41.800277799999996
         ],
         "line": {
          "color": "#cba600",
          "width": 1
         },
         "lon": [
          8.54917,
          12.238888900000001
         ],
         "mode": "lines",
         "opacity": 1,
         "type": "scattergeo"
        },
        {
         "lat": [
          46.23809814453125,
          41.800277799999996
         ],
         "line": {
          "color": "#cba600",
          "width": 1
         },
         "lon": [
          6.108950138092041,
          12.238888900000001
         ],
         "mode": "lines",
         "opacity": 1,
         "type": "scattergeo"
        },
        {
         "lat": [
          46.23809814453125,
          41.800277799999996
         ],
         "line": {
          "color": "#cba600",
          "width": 1
         },
         "lon": [
          6.108950138092041,
          12.238888900000001
         ],
         "mode": "lines",
         "opacity": 1,
         "type": "scattergeo"
        },
        {
         "lat": [
          46.23809814453125,
          41.800277799999996
         ],
         "line": {
          "color": "#cba600",
          "width": 1
         },
         "lon": [
          6.108950138092041,
          12.238888900000001
         ],
         "mode": "lines",
         "opacity": 1,
         "type": "scattergeo"
        },
        {
         "lat": [
          47.464698999999996,
          41.800277799999996
         ],
         "line": {
          "color": "#cba600",
          "width": 1
         },
         "lon": [
          8.54917,
          12.238888900000001
         ],
         "mode": "lines",
         "opacity": 1,
         "type": "scattergeo"
        },
        {
         "lat": [
          46.23809814453125,
          56.92359924316406
         ],
         "line": {
          "color": "#babe00",
          "width": 1
         },
         "lon": [
          6.108950138092041,
          23.971099853515625
         ],
         "mode": "lines",
         "opacity": 1,
         "type": "scattergeo"
        },
        {
         "lat": [
          47.464698999999996,
          56.92359924316406
         ],
         "line": {
          "color": "#babe00",
          "width": 1
         },
         "lon": [
          8.54917,
          23.971099853515625
         ],
         "mode": "lines",
         "opacity": 1,
         "type": "scattergeo"
        },
        {
         "lat": [
          46.23809814453125,
          56.9422
         ],
         "line": {
          "color": "#babe00",
          "width": 1
         },
         "lon": [
          6.108950138092041,
          23.2239
         ],
         "mode": "lines",
         "opacity": 1,
         "type": "scattergeo"
        },
        {
         "lat": [
          46.23809814453125,
          56.92359924316406
         ],
         "line": {
          "color": "#babe00",
          "width": 1
         },
         "lon": [
          6.108950138092041,
          23.971099853515625
         ],
         "mode": "lines",
         "opacity": 1,
         "type": "scattergeo"
        },
        {
         "lat": [
          47.464698999999996,
          56.9422
         ],
         "line": {
          "color": "#babe00",
          "width": 1
         },
         "lon": [
          8.54917,
          23.2239
         ],
         "mode": "lines",
         "opacity": 1,
         "type": "scattergeo"
        },
        {
         "lat": [
          47.464698999999996,
          56.92359924316406
         ],
         "line": {
          "color": "#babe00",
          "width": 1
         },
         "lon": [
          8.54917,
          23.971099853515625
         ],
         "mode": "lines",
         "opacity": 1,
         "type": "scattergeo"
        },
        {
         "lat": [
          47.464698999999996,
          59.4486198425293
         ],
         "line": {
          "color": "#babe00",
          "width": 1
         },
         "lon": [
          8.54917,
          24.75322723388672
         ],
         "mode": "lines",
         "opacity": 1,
         "type": "scattergeo"
        },
        {
         "lat": [
          46.23809814453125,
          51.4706
         ],
         "line": {
          "color": "#a6b900",
          "width": 1
         },
         "lon": [
          6.108950138092041,
          -0.461941
         ],
         "mode": "lines",
         "opacity": 1,
         "type": "scattergeo"
        },
        {
         "lat": [
          47.464698999999996,
          48.969398498535156
         ],
         "line": {
          "color": "#a6b900",
          "width": 1
         },
         "lon": [
          8.54917,
          2.441390037536621
         ],
         "mode": "lines",
         "opacity": 1,
         "type": "scattergeo"
        },
        {
         "lat": [
          46.23809814453125,
          51.4706
         ],
         "line": {
          "color": "#a6b900",
          "width": 1
         },
         "lon": [
          6.108950138092041,
          -0.461941
         ],
         "mode": "lines",
         "opacity": 1,
         "type": "scattergeo"
        },
        {
         "lat": [
          46.23809814453125,
          40.471926
         ],
         "line": {
          "color": "#a6b900",
          "width": 1
         },
         "lon": [
          6.108950138092041,
          -3.56264
         ],
         "mode": "lines",
         "opacity": 1,
         "type": "scattergeo"
        },
        {
         "lat": [
          47.464698999999996,
          51.4706
         ],
         "line": {
          "color": "#a6b900",
          "width": 1
         },
         "lon": [
          8.54917,
          -0.461941
         ],
         "mode": "lines",
         "opacity": 1,
         "type": "scattergeo"
        },
        {
         "lat": [
          47.464698999999996,
          51.4706
         ],
         "line": {
          "color": "#a6b900",
          "width": 1
         },
         "lon": [
          8.54917,
          -0.461941
         ],
         "mode": "lines",
         "opacity": 1,
         "type": "scattergeo"
        },
        {
         "lat": [
          47.464698999999996,
          51.4706
         ],
         "line": {
          "color": "#a6b900",
          "width": 1
         },
         "lon": [
          8.54917,
          -0.461941
         ],
         "mode": "lines",
         "opacity": 1,
         "type": "scattergeo"
        },
        {
         "lat": [
          47.464698999999996,
          45.6306
         ],
         "line": {
          "color": "#a6b900",
          "width": 1
         },
         "lon": [
          8.54917,
          8.728110000000001
         ],
         "mode": "lines",
         "opacity": 1,
         "type": "scattergeo"
        },
        {
         "lat": [
          47.464698999999996,
          48.110298156738004
         ],
         "line": {
          "color": "#a6b900",
          "width": 1
         },
         "lon": [
          8.54917,
          16.569700241089002
         ],
         "mode": "lines",
         "opacity": 1,
         "type": "scattergeo"
        },
        {
         "lat": [
          47.464698999999996,
          40.471926
         ],
         "line": {
          "color": "#a6b900",
          "width": 1
         },
         "lon": [
          8.54917,
          -3.56264
         ],
         "mode": "lines",
         "opacity": 1,
         "type": "scattergeo"
        },
        {
         "lat": [
          47.464698999999996,
          51.4706
         ],
         "line": {
          "color": "#a6b900",
          "width": 1
         },
         "lon": [
          8.54917,
          -0.461941
         ],
         "mode": "lines",
         "opacity": 1,
         "type": "scattergeo"
        },
        {
         "lat": [
          47.464698999999996,
          51.4706
         ],
         "line": {
          "color": "#a6b900",
          "width": 1
         },
         "lon": [
          8.54917,
          -0.461941
         ],
         "mode": "lines",
         "opacity": 1,
         "type": "scattergeo"
        },
        {
         "lat": [
          47.464698999999996,
          51.956902
         ],
         "line": {
          "color": "#6fa900",
          "width": 1
         },
         "lon": [
          8.54917,
          4.43722
         ],
         "mode": "lines",
         "opacity": 1,
         "type": "scattergeo"
        },
        {
         "lat": [
          46.23809814453125,
          51.956902
         ],
         "line": {
          "color": "#6fa900",
          "width": 1
         },
         "lon": [
          6.108950138092041,
          4.43722
         ],
         "mode": "lines",
         "opacity": 1,
         "type": "scattergeo"
        },
        {
         "lat": [
          47.464698999999996,
          52.308601
         ],
         "line": {
          "color": "#6fa900",
          "width": 1
         },
         "lon": [
          8.54917,
          4.76389
         ],
         "mode": "lines",
         "opacity": 1,
         "type": "scattergeo"
        },
        {
         "lat": [
          46.23809814453125,
          52.308601
         ],
         "line": {
          "color": "#6fa900",
          "width": 1
         },
         "lon": [
          6.108950138092041,
          4.76389
         ],
         "mode": "lines",
         "opacity": 1,
         "type": "scattergeo"
        },
        {
         "lat": [
          46.23809814453125,
          53.352199554399995
         ],
         "line": {
          "color": "#66a700",
          "width": 1
         },
         "lon": [
          6.108950138092041,
          -6.48611021042
         ],
         "mode": "lines",
         "opacity": 1,
         "type": "scattergeo"
        },
        {
         "lat": [
          47.464698999999996,
          53.301700591999996
         ],
         "line": {
          "color": "#66a700",
          "width": 1
         },
         "lon": [
          8.54917,
          -6.451330184940001
         ],
         "mode": "lines",
         "opacity": 1,
         "type": "scattergeo"
        },
        {
         "lat": [
          46.23809814453125,
          53.421299
         ],
         "line": {
          "color": "#66a700",
          "width": 1
         },
         "lon": [
          6.108950138092041,
          -6.27007
         ],
         "mode": "lines",
         "opacity": 1,
         "type": "scattergeo"
        },
        {
         "lat": [
          47.464698999999996,
          53.421299
         ],
         "line": {
          "color": "#66a700",
          "width": 1
         },
         "lon": [
          8.54917,
          -6.27007
         ],
         "mode": "lines",
         "opacity": 1,
         "type": "scattergeo"
        },
        {
         "lat": [
          46.40639877319336,
          53.421299
         ],
         "line": {
          "color": "#66a700",
          "width": 1
         },
         "lon": [
          6.258059978485107,
          -6.27007
         ],
         "mode": "lines",
         "opacity": 1,
         "type": "scattergeo"
        },
        {
         "lat": [
          46.23809814453125,
          53.301700591999996
         ],
         "line": {
          "color": "#66a700",
          "width": 1
         },
         "lon": [
          6.108950138092041,
          -6.451330184940001
         ],
         "mode": "lines",
         "opacity": 1,
         "type": "scattergeo"
        },
        {
         "lat": [
          47.464698999999996,
          53.352199554399995
         ],
         "line": {
          "color": "#66a700",
          "width": 1
         },
         "lon": [
          8.54917,
          -6.48611021042
         ],
         "mode": "lines",
         "opacity": 1,
         "type": "scattergeo"
        },
        {
         "lat": [
          46.23809814453125,
          52.1656990051
         ],
         "line": {
          "color": "#5ea400",
          "width": 1
         },
         "lon": [
          6.108950138092041,
          20.9671001434
         ],
         "mode": "lines",
         "opacity": 1,
         "type": "scattergeo"
        },
        {
         "lat": [
          46.23809814453125,
          50.9014015198
         ],
         "line": {
          "color": "#5ea400",
          "width": 1
         },
         "lon": [
          6.108950138092041,
          4.48443984985
         ],
         "mode": "lines",
         "opacity": 1,
         "type": "scattergeo"
        },
        {
         "lat": [
          47.464698999999996,
          43.439271921999996
         ],
         "line": {
          "color": "#5ea400",
          "width": 1
         },
         "lon": [
          8.54917,
          5.22142410278
         ],
         "mode": "lines",
         "opacity": 1,
         "type": "scattergeo"
        },
        {
         "lat": [
          47.464698999999996,
          51.87469863891602
         ],
         "line": {
          "color": "#5ea400",
          "width": 1
         },
         "lon": [
          8.54917,
          -0.36833301186561584
         ],
         "mode": "lines",
         "opacity": 1,
         "type": "scattergeo"
        },
        {
         "lat": [
          46.23809814453125,
          37.9364013672
         ],
         "line": {
          "color": "#180",
          "width": 1
         },
         "lon": [
          6.108950138092041,
          23.944499969499997
         ],
         "mode": "lines",
         "opacity": 1,
         "type": "scattergeo"
        },
        {
         "lat": [
          47.464698999999996,
          34.875099182128906
         ],
         "line": {
          "color": "#180",
          "width": 1
         },
         "lon": [
          8.54917,
          33.62490081787109
         ],
         "mode": "lines",
         "opacity": 1,
         "type": "scattergeo"
        },
        {
         "lat": [
          46.23809814453125,
          38.1088981628418
         ],
         "line": {
          "color": "#180",
          "width": 1
         },
         "lon": [
          6.108950138092041,
          23.78380012512207
         ],
         "mode": "lines",
         "opacity": 1,
         "type": "scattergeo"
        },
        {
         "lat": [
          47.464698999999996,
          35.3396987915
         ],
         "line": {
          "color": "#180",
          "width": 1
         },
         "lon": [
          8.54917,
          25.1802997589
         ],
         "mode": "lines",
         "opacity": 1,
         "type": "scattergeo"
        },
        {
         "lat": [
          47.464698999999996,
          36.40539932250977
         ],
         "line": {
          "color": "#180",
          "width": 1
         },
         "lon": [
          8.54917,
          28.086200714111328
         ],
         "mode": "lines",
         "opacity": 1,
         "type": "scattergeo"
        },
        {
         "lat": [
          47.464698999999996,
          37.9364013672
         ],
         "line": {
          "color": "#180",
          "width": 1
         },
         "lon": [
          8.54917,
          23.944499969499997
         ],
         "mode": "lines",
         "opacity": 1,
         "type": "scattergeo"
        },
        {
         "lat": [
          46.23809814453125,
          37.893299
         ],
         "line": {
          "color": "#180",
          "width": 1
         },
         "lon": [
          6.108950138092041,
          23.726101
         ],
         "mode": "lines",
         "opacity": 1,
         "type": "scattergeo"
        },
        {
         "lat": [
          47.464698999999996,
          37.893299
         ],
         "line": {
          "color": "#180",
          "width": 1
         },
         "lon": [
          8.54917,
          23.726101
         ],
         "mode": "lines",
         "opacity": 1,
         "type": "scattergeo"
        },
        {
         "lat": [
          46.23809814453125,
          44.5711111
         ],
         "line": {
          "color": "#f00",
          "width": 1
         },
         "lon": [
          6.108950138092041,
          26.085
         ],
         "mode": "lines",
         "opacity": 1,
         "type": "scattergeo"
        },
        {
         "lat": [
          46.23809814453125,
          42.696693420410156
         ],
         "line": {
          "color": "#f00",
          "width": 1
         },
         "lon": [
          6.108950138092041,
          23.411436080932614
         ],
         "mode": "lines",
         "opacity": 1,
         "type": "scattergeo"
        }
       ],
       "layout": {
        "geo": {
         "countrycolor": "rgb(204, 204, 204)",
         "landcolor": "rgb(243, 243, 243)",
         "scope": "europe",
         "showland": true
        },
        "showlegend": false,
        "template": {
         "data": {
          "bar": [
           {
            "error_x": {
             "color": "#2a3f5f"
            },
            "error_y": {
             "color": "#2a3f5f"
            },
            "marker": {
             "line": {
              "color": "#E5ECF6",
              "width": 0.5
             }
            },
            "type": "bar"
           }
          ],
          "barpolar": [
           {
            "marker": {
             "line": {
              "color": "#E5ECF6",
              "width": 0.5
             }
            },
            "type": "barpolar"
           }
          ],
          "carpet": [
           {
            "aaxis": {
             "endlinecolor": "#2a3f5f",
             "gridcolor": "white",
             "linecolor": "white",
             "minorgridcolor": "white",
             "startlinecolor": "#2a3f5f"
            },
            "baxis": {
             "endlinecolor": "#2a3f5f",
             "gridcolor": "white",
             "linecolor": "white",
             "minorgridcolor": "white",
             "startlinecolor": "#2a3f5f"
            },
            "type": "carpet"
           }
          ],
          "choropleth": [
           {
            "colorbar": {
             "outlinewidth": 0,
             "ticks": ""
            },
            "type": "choropleth"
           }
          ],
          "contour": [
           {
            "colorbar": {
             "outlinewidth": 0,
             "ticks": ""
            },
            "colorscale": [
             [
              0,
              "#0d0887"
             ],
             [
              0.1111111111111111,
              "#46039f"
             ],
             [
              0.2222222222222222,
              "#7201a8"
             ],
             [
              0.3333333333333333,
              "#9c179e"
             ],
             [
              0.4444444444444444,
              "#bd3786"
             ],
             [
              0.5555555555555556,
              "#d8576b"
             ],
             [
              0.6666666666666666,
              "#ed7953"
             ],
             [
              0.7777777777777778,
              "#fb9f3a"
             ],
             [
              0.8888888888888888,
              "#fdca26"
             ],
             [
              1,
              "#f0f921"
             ]
            ],
            "type": "contour"
           }
          ],
          "contourcarpet": [
           {
            "colorbar": {
             "outlinewidth": 0,
             "ticks": ""
            },
            "type": "contourcarpet"
           }
          ],
          "heatmap": [
           {
            "colorbar": {
             "outlinewidth": 0,
             "ticks": ""
            },
            "colorscale": [
             [
              0,
              "#0d0887"
             ],
             [
              0.1111111111111111,
              "#46039f"
             ],
             [
              0.2222222222222222,
              "#7201a8"
             ],
             [
              0.3333333333333333,
              "#9c179e"
             ],
             [
              0.4444444444444444,
              "#bd3786"
             ],
             [
              0.5555555555555556,
              "#d8576b"
             ],
             [
              0.6666666666666666,
              "#ed7953"
             ],
             [
              0.7777777777777778,
              "#fb9f3a"
             ],
             [
              0.8888888888888888,
              "#fdca26"
             ],
             [
              1,
              "#f0f921"
             ]
            ],
            "type": "heatmap"
           }
          ],
          "heatmapgl": [
           {
            "colorbar": {
             "outlinewidth": 0,
             "ticks": ""
            },
            "colorscale": [
             [
              0,
              "#0d0887"
             ],
             [
              0.1111111111111111,
              "#46039f"
             ],
             [
              0.2222222222222222,
              "#7201a8"
             ],
             [
              0.3333333333333333,
              "#9c179e"
             ],
             [
              0.4444444444444444,
              "#bd3786"
             ],
             [
              0.5555555555555556,
              "#d8576b"
             ],
             [
              0.6666666666666666,
              "#ed7953"
             ],
             [
              0.7777777777777778,
              "#fb9f3a"
             ],
             [
              0.8888888888888888,
              "#fdca26"
             ],
             [
              1,
              "#f0f921"
             ]
            ],
            "type": "heatmapgl"
           }
          ],
          "histogram": [
           {
            "marker": {
             "colorbar": {
              "outlinewidth": 0,
              "ticks": ""
             }
            },
            "type": "histogram"
           }
          ],
          "histogram2d": [
           {
            "colorbar": {
             "outlinewidth": 0,
             "ticks": ""
            },
            "colorscale": [
             [
              0,
              "#0d0887"
             ],
             [
              0.1111111111111111,
              "#46039f"
             ],
             [
              0.2222222222222222,
              "#7201a8"
             ],
             [
              0.3333333333333333,
              "#9c179e"
             ],
             [
              0.4444444444444444,
              "#bd3786"
             ],
             [
              0.5555555555555556,
              "#d8576b"
             ],
             [
              0.6666666666666666,
              "#ed7953"
             ],
             [
              0.7777777777777778,
              "#fb9f3a"
             ],
             [
              0.8888888888888888,
              "#fdca26"
             ],
             [
              1,
              "#f0f921"
             ]
            ],
            "type": "histogram2d"
           }
          ],
          "histogram2dcontour": [
           {
            "colorbar": {
             "outlinewidth": 0,
             "ticks": ""
            },
            "colorscale": [
             [
              0,
              "#0d0887"
             ],
             [
              0.1111111111111111,
              "#46039f"
             ],
             [
              0.2222222222222222,
              "#7201a8"
             ],
             [
              0.3333333333333333,
              "#9c179e"
             ],
             [
              0.4444444444444444,
              "#bd3786"
             ],
             [
              0.5555555555555556,
              "#d8576b"
             ],
             [
              0.6666666666666666,
              "#ed7953"
             ],
             [
              0.7777777777777778,
              "#fb9f3a"
             ],
             [
              0.8888888888888888,
              "#fdca26"
             ],
             [
              1,
              "#f0f921"
             ]
            ],
            "type": "histogram2dcontour"
           }
          ],
          "mesh3d": [
           {
            "colorbar": {
             "outlinewidth": 0,
             "ticks": ""
            },
            "type": "mesh3d"
           }
          ],
          "parcoords": [
           {
            "line": {
             "colorbar": {
              "outlinewidth": 0,
              "ticks": ""
             }
            },
            "type": "parcoords"
           }
          ],
          "pie": [
           {
            "automargin": true,
            "type": "pie"
           }
          ],
          "scatter": [
           {
            "marker": {
             "colorbar": {
              "outlinewidth": 0,
              "ticks": ""
             }
            },
            "type": "scatter"
           }
          ],
          "scatter3d": [
           {
            "line": {
             "colorbar": {
              "outlinewidth": 0,
              "ticks": ""
             }
            },
            "marker": {
             "colorbar": {
              "outlinewidth": 0,
              "ticks": ""
             }
            },
            "type": "scatter3d"
           }
          ],
          "scattercarpet": [
           {
            "marker": {
             "colorbar": {
              "outlinewidth": 0,
              "ticks": ""
             }
            },
            "type": "scattercarpet"
           }
          ],
          "scattergeo": [
           {
            "marker": {
             "colorbar": {
              "outlinewidth": 0,
              "ticks": ""
             }
            },
            "type": "scattergeo"
           }
          ],
          "scattergl": [
           {
            "marker": {
             "colorbar": {
              "outlinewidth": 0,
              "ticks": ""
             }
            },
            "type": "scattergl"
           }
          ],
          "scattermapbox": [
           {
            "marker": {
             "colorbar": {
              "outlinewidth": 0,
              "ticks": ""
             }
            },
            "type": "scattermapbox"
           }
          ],
          "scatterpolar": [
           {
            "marker": {
             "colorbar": {
              "outlinewidth": 0,
              "ticks": ""
             }
            },
            "type": "scatterpolar"
           }
          ],
          "scatterpolargl": [
           {
            "marker": {
             "colorbar": {
              "outlinewidth": 0,
              "ticks": ""
             }
            },
            "type": "scatterpolargl"
           }
          ],
          "scatterternary": [
           {
            "marker": {
             "colorbar": {
              "outlinewidth": 0,
              "ticks": ""
             }
            },
            "type": "scatterternary"
           }
          ],
          "surface": [
           {
            "colorbar": {
             "outlinewidth": 0,
             "ticks": ""
            },
            "colorscale": [
             [
              0,
              "#0d0887"
             ],
             [
              0.1111111111111111,
              "#46039f"
             ],
             [
              0.2222222222222222,
              "#7201a8"
             ],
             [
              0.3333333333333333,
              "#9c179e"
             ],
             [
              0.4444444444444444,
              "#bd3786"
             ],
             [
              0.5555555555555556,
              "#d8576b"
             ],
             [
              0.6666666666666666,
              "#ed7953"
             ],
             [
              0.7777777777777778,
              "#fb9f3a"
             ],
             [
              0.8888888888888888,
              "#fdca26"
             ],
             [
              1,
              "#f0f921"
             ]
            ],
            "type": "surface"
           }
          ],
          "table": [
           {
            "cells": {
             "fill": {
              "color": "#EBF0F8"
             },
             "line": {
              "color": "white"
             }
            },
            "header": {
             "fill": {
              "color": "#C8D4E3"
             },
             "line": {
              "color": "white"
             }
            },
            "type": "table"
           }
          ]
         },
         "layout": {
          "annotationdefaults": {
           "arrowcolor": "#2a3f5f",
           "arrowhead": 0,
           "arrowwidth": 1
          },
          "coloraxis": {
           "colorbar": {
            "outlinewidth": 0,
            "ticks": ""
           }
          },
          "colorscale": {
           "diverging": [
            [
             0,
             "#8e0152"
            ],
            [
             0.1,
             "#c51b7d"
            ],
            [
             0.2,
             "#de77ae"
            ],
            [
             0.3,
             "#f1b6da"
            ],
            [
             0.4,
             "#fde0ef"
            ],
            [
             0.5,
             "#f7f7f7"
            ],
            [
             0.6,
             "#e6f5d0"
            ],
            [
             0.7,
             "#b8e186"
            ],
            [
             0.8,
             "#7fbc41"
            ],
            [
             0.9,
             "#4d9221"
            ],
            [
             1,
             "#276419"
            ]
           ],
           "sequential": [
            [
             0,
             "#0d0887"
            ],
            [
             0.1111111111111111,
             "#46039f"
            ],
            [
             0.2222222222222222,
             "#7201a8"
            ],
            [
             0.3333333333333333,
             "#9c179e"
            ],
            [
             0.4444444444444444,
             "#bd3786"
            ],
            [
             0.5555555555555556,
             "#d8576b"
            ],
            [
             0.6666666666666666,
             "#ed7953"
            ],
            [
             0.7777777777777778,
             "#fb9f3a"
            ],
            [
             0.8888888888888888,
             "#fdca26"
            ],
            [
             1,
             "#f0f921"
            ]
           ],
           "sequentialminus": [
            [
             0,
             "#0d0887"
            ],
            [
             0.1111111111111111,
             "#46039f"
            ],
            [
             0.2222222222222222,
             "#7201a8"
            ],
            [
             0.3333333333333333,
             "#9c179e"
            ],
            [
             0.4444444444444444,
             "#bd3786"
            ],
            [
             0.5555555555555556,
             "#d8576b"
            ],
            [
             0.6666666666666666,
             "#ed7953"
            ],
            [
             0.7777777777777778,
             "#fb9f3a"
            ],
            [
             0.8888888888888888,
             "#fdca26"
            ],
            [
             1,
             "#f0f921"
            ]
           ]
          },
          "colorway": [
           "#636efa",
           "#EF553B",
           "#00cc96",
           "#ab63fa",
           "#FFA15A",
           "#19d3f3",
           "#FF6692",
           "#B6E880",
           "#FF97FF",
           "#FECB52"
          ],
          "font": {
           "color": "#2a3f5f"
          },
          "geo": {
           "bgcolor": "white",
           "lakecolor": "white",
           "landcolor": "#E5ECF6",
           "showlakes": true,
           "showland": true,
           "subunitcolor": "white"
          },
          "hoverlabel": {
           "align": "left"
          },
          "hovermode": "closest",
          "mapbox": {
           "style": "light"
          },
          "paper_bgcolor": "white",
          "plot_bgcolor": "#E5ECF6",
          "polar": {
           "angularaxis": {
            "gridcolor": "white",
            "linecolor": "white",
            "ticks": ""
           },
           "bgcolor": "#E5ECF6",
           "radialaxis": {
            "gridcolor": "white",
            "linecolor": "white",
            "ticks": ""
           }
          },
          "scene": {
           "xaxis": {
            "backgroundcolor": "#E5ECF6",
            "gridcolor": "white",
            "gridwidth": 2,
            "linecolor": "white",
            "showbackground": true,
            "ticks": "",
            "zerolinecolor": "white"
           },
           "yaxis": {
            "backgroundcolor": "#E5ECF6",
            "gridcolor": "white",
            "gridwidth": 2,
            "linecolor": "white",
            "showbackground": true,
            "ticks": "",
            "zerolinecolor": "white"
           },
           "zaxis": {
            "backgroundcolor": "#E5ECF6",
            "gridcolor": "white",
            "gridwidth": 2,
            "linecolor": "white",
            "showbackground": true,
            "ticks": "",
            "zerolinecolor": "white"
           }
          },
          "shapedefaults": {
           "line": {
            "color": "#2a3f5f"
           }
          },
          "ternary": {
           "aaxis": {
            "gridcolor": "white",
            "linecolor": "white",
            "ticks": ""
           },
           "baxis": {
            "gridcolor": "white",
            "linecolor": "white",
            "ticks": ""
           },
           "bgcolor": "#E5ECF6",
           "caxis": {
            "gridcolor": "white",
            "linecolor": "white",
            "ticks": ""
           }
          },
          "title": {
           "x": 0.05
          },
          "xaxis": {
           "automargin": true,
           "gridcolor": "white",
           "linecolor": "white",
           "ticks": "",
           "title": {
            "standoff": 15
           },
           "zerolinecolor": "white",
           "zerolinewidth": 2
          },
          "yaxis": {
           "automargin": true,
           "gridcolor": "white",
           "linecolor": "white",
           "ticks": "",
           "title": {
            "standoff": 15
           },
           "zerolinecolor": "white",
           "zerolinewidth": 2
          }
         }
        },
        "title": {
         "text": "Flight routes starting from Swiss airports to EU countries without outliers"
        }
       }
      },
      "text/html": [
       "<div>\n",
       "        \n",
       "        \n",
       "            <div id=\"7f6ea066-072c-417e-836b-55120714ee48\" class=\"plotly-graph-div\" style=\"height:525px; width:100%;\"></div>\n",
       "            <script type=\"text/javascript\">\n",
       "                require([\"plotly\"], function(Plotly) {\n",
       "                    window.PLOTLYENV=window.PLOTLYENV || {};\n",
       "                    \n",
       "                if (document.getElementById(\"7f6ea066-072c-417e-836b-55120714ee48\")) {\n",
       "                    Plotly.newPlot(\n",
       "                        '7f6ea066-072c-417e-836b-55120714ee48',\n",
       "                        [{\"lat\": [47.464698999999996, 47.843299865722656], \"line\": {\"color\": \"#f00\", \"width\": 1}, \"lon\": [8.54917, 16.260099411010742], \"mode\": \"lines\", \"opacity\": 1.0, \"type\": \"scattergeo\"}, {\"lat\": [47.464698999999996, 52.205002], \"line\": {\"color\": \"#f00\", \"width\": 1}, \"lon\": [8.54917, 0.175], \"mode\": \"lines\", \"opacity\": 1.0, \"type\": \"scattergeo\"}, {\"lat\": [47.464698999999996, 50.9014015198], \"line\": {\"color\": \"#e06e00\", \"width\": 1}, \"lon\": [8.54917, 4.48443984985], \"mode\": \"lines\", \"opacity\": 1.0, \"type\": \"scattergeo\"}, {\"lat\": [47.464698999999996, 50.9014015198], \"line\": {\"color\": \"#e06e00\", \"width\": 1}, \"lon\": [8.54917, 4.48443984985], \"mode\": \"lines\", \"opacity\": 1.0, \"type\": \"scattergeo\"}, {\"lat\": [47.464698999999996, 51.21166610717773], \"line\": {\"color\": \"#e06e00\", \"width\": 1}, \"lon\": [8.54917, 4.580832958221436], \"mode\": \"lines\", \"opacity\": 1.0, \"type\": \"scattergeo\"}, {\"lat\": [47.464698999999996, 51.21166610717773], \"line\": {\"color\": \"#e06e00\", \"width\": 1}, \"lon\": [8.54917, 4.580832958221436], \"mode\": \"lines\", \"opacity\": 1.0, \"type\": \"scattergeo\"}, {\"lat\": [46.23809814453125, 51.264702], \"line\": {\"color\": \"#e06e00\", \"width\": 1}, \"lon\": [6.108950138092041, 4.75333], \"mode\": \"lines\", \"opacity\": 1.0, \"type\": \"scattergeo\"}, {\"lat\": [46.23809814453125, 51.264702], \"line\": {\"color\": \"#e06e00\", \"width\": 1}, \"lon\": [6.108950138092041, 4.75333], \"mode\": \"lines\", \"opacity\": 1.0, \"type\": \"scattergeo\"}, {\"lat\": [47.464698999999996, 50.9014015198], \"line\": {\"color\": \"#e06e00\", \"width\": 1}, \"lon\": [8.54917, 4.48443984985], \"mode\": \"lines\", \"opacity\": 1.0, \"type\": \"scattergeo\"}, {\"lat\": [46.23809814453125, 39.551700591999996], \"line\": {\"color\": \"#e06e00\", \"width\": 1}, \"lon\": [6.108950138092041, 2.73881006241], \"mode\": \"lines\", \"opacity\": 1.0, \"type\": \"scattergeo\"}, {\"lat\": [46.23809814453125, 51.189399719200004], \"line\": {\"color\": \"#e06e00\", \"width\": 1}, \"lon\": [6.108950138092041, 4.46027994156], \"mode\": \"lines\", \"opacity\": 1.0, \"type\": \"scattergeo\"}, {\"lat\": [47.464698999999996, 51.189399719200004], \"line\": {\"color\": \"#e06e00\", \"width\": 1}, \"lon\": [8.54917, 4.46027994156], \"mode\": \"lines\", \"opacity\": 1.0, \"type\": \"scattergeo\"}, {\"lat\": [46.23809814453125, 38.905398999999996], \"line\": {\"color\": \"#e06e00\", \"width\": 1}, \"lon\": [6.108950138092041, 16.2423], \"mode\": \"lines\", \"opacity\": 1.0, \"type\": \"scattergeo\"}, {\"lat\": [46.23809814453125, 50.487999], \"line\": {\"color\": \"#e06e00\", \"width\": 1}, \"lon\": [6.108950138092041, 4.76892], \"mode\": \"lines\", \"opacity\": 1.0, \"type\": \"scattergeo\"}, {\"lat\": [47.464698999999996, 50.9014015198], \"line\": {\"color\": \"#e06e00\", \"width\": 1}, \"lon\": [8.54917, 4.48443984985], \"mode\": \"lines\", \"opacity\": 1.0, \"type\": \"scattergeo\"}, {\"lat\": [46.23809814453125, 51.21166610717773], \"line\": {\"color\": \"#e06e00\", \"width\": 1}, \"lon\": [6.108950138092041, 4.580832958221436], \"mode\": \"lines\", \"opacity\": 1.0, \"type\": \"scattergeo\"}, {\"lat\": [47.464698999999996, 50.9014015198], \"line\": {\"color\": \"#e06e00\", \"width\": 1}, \"lon\": [8.54917, 4.48443984985], \"mode\": \"lines\", \"opacity\": 1.0, \"type\": \"scattergeo\"}, {\"lat\": [46.23809814453125, 50.791901], \"line\": {\"color\": \"#e06e00\", \"width\": 1}, \"lon\": [6.108950138092041, 5.20167], \"mode\": \"lines\", \"opacity\": 1.0, \"type\": \"scattergeo\"}, {\"lat\": [46.23809814453125, 51.21166610717773], \"line\": {\"color\": \"#e06e00\", \"width\": 1}, \"lon\": [6.108950138092041, 4.580832958221436], \"mode\": \"lines\", \"opacity\": 1.0, \"type\": \"scattergeo\"}, {\"lat\": [46.23809814453125, 50.459202000000005], \"line\": {\"color\": \"#e06e00\", \"width\": 1}, \"lon\": [6.108950138092041, 4.4538199999999994], \"mode\": \"lines\", \"opacity\": 1.0, \"type\": \"scattergeo\"}, {\"lat\": [46.23809814453125, 50.459202000000005], \"line\": {\"color\": \"#e06e00\", \"width\": 1}, \"lon\": [6.108950138092041, 4.4538199999999994], \"mode\": \"lines\", \"opacity\": 1.0, \"type\": \"scattergeo\"}, {\"lat\": [46.23809814453125, 50.459202000000005], \"line\": {\"color\": \"#e06e00\", \"width\": 1}, \"lon\": [6.108950138092041, 4.4538199999999994], \"mode\": \"lines\", \"opacity\": 1.0, \"type\": \"scattergeo\"}, {\"lat\": [46.23809814453125, 50.459202000000005], \"line\": {\"color\": \"#e06e00\", \"width\": 1}, \"lon\": [6.108950138092041, 4.4538199999999994], \"mode\": \"lines\", \"opacity\": 1.0, \"type\": \"scattergeo\"}, {\"lat\": [46.23809814453125, 45.505299], \"line\": {\"color\": \"#e06e00\", \"width\": 1}, \"lon\": [6.108950138092041, 12.3519], \"mode\": \"lines\", \"opacity\": 1.0, \"type\": \"scattergeo\"}, {\"lat\": [47.464698999999996, 50.63740158081055], \"line\": {\"color\": \"#e06e00\", \"width\": 1}, \"lon\": [8.54917, 5.443220138549805], \"mode\": \"lines\", \"opacity\": 1.0, \"type\": \"scattergeo\"}, {\"lat\": [47.464698999999996, 50.63740158081055], \"line\": {\"color\": \"#e06e00\", \"width\": 1}, \"lon\": [8.54917, 5.443220138549805], \"mode\": \"lines\", \"opacity\": 1.0, \"type\": \"scattergeo\"}, {\"lat\": [47.464698999999996, 50.63740158081055], \"line\": {\"color\": \"#e06e00\", \"width\": 1}, \"lon\": [8.54917, 5.443220138549805], \"mode\": \"lines\", \"opacity\": 1.0, \"type\": \"scattergeo\"}, {\"lat\": [46.23809814453125, 50.63740158081055], \"line\": {\"color\": \"#e06e00\", \"width\": 1}, \"lon\": [6.108950138092041, 5.443220138549805], \"mode\": \"lines\", \"opacity\": 1.0, \"type\": \"scattergeo\"}, {\"lat\": [46.23809814453125, 50.63740158081055], \"line\": {\"color\": \"#e06e00\", \"width\": 1}, \"lon\": [6.108950138092041, 5.443220138549805], \"mode\": \"lines\", \"opacity\": 1.0, \"type\": \"scattergeo\"}, {\"lat\": [46.23809814453125, 50.791901], \"line\": {\"color\": \"#e06e00\", \"width\": 1}, \"lon\": [6.108950138092041, 5.20167], \"mode\": \"lines\", \"opacity\": 1.0, \"type\": \"scattergeo\"}, {\"lat\": [46.23809814453125, 50.63740158081055], \"line\": {\"color\": \"#e06e00\", \"width\": 1}, \"lon\": [6.108950138092041, 5.443220138549805], \"mode\": \"lines\", \"opacity\": 1.0, \"type\": \"scattergeo\"}, {\"lat\": [46.23809814453125, 51.12], \"line\": {\"color\": \"#e06e00\", \"width\": 1}, \"lon\": [6.108950138092041, 5.3072222], \"mode\": \"lines\", \"opacity\": 1.0, \"type\": \"scattergeo\"}, {\"lat\": [46.23809814453125, 50.970001], \"line\": {\"color\": \"#e06e00\", \"width\": 1}, \"lon\": [6.108950138092041, 5.37507], \"mode\": \"lines\", \"opacity\": 1.0, \"type\": \"scattergeo\"}, {\"lat\": [46.23809814453125, 50.482498], \"line\": {\"color\": \"#e06e00\", \"width\": 1}, \"lon\": [6.108950138092041, 5.9103], \"mode\": \"lines\", \"opacity\": 1.0, \"type\": \"scattergeo\"}, {\"lat\": [46.23809814453125, 50.482498], \"line\": {\"color\": \"#e06e00\", \"width\": 1}, \"lon\": [6.108950138092041, 5.9103], \"mode\": \"lines\", \"opacity\": 1.0, \"type\": \"scattergeo\"}, {\"lat\": [46.23809814453125, 51.12], \"line\": {\"color\": \"#e06e00\", \"width\": 1}, \"lon\": [6.108950138092041, 5.3072222], \"mode\": \"lines\", \"opacity\": 1.0, \"type\": \"scattergeo\"}, {\"lat\": [46.23809814453125, 51.12], \"line\": {\"color\": \"#e06e00\", \"width\": 1}, \"lon\": [6.108950138092041, 5.3072222], \"mode\": \"lines\", \"opacity\": 1.0, \"type\": \"scattergeo\"}, {\"lat\": [46.23809814453125, 51.12], \"line\": {\"color\": \"#e06e00\", \"width\": 1}, \"lon\": [6.108950138092041, 5.3072222], \"mode\": \"lines\", \"opacity\": 1.0, \"type\": \"scattergeo\"}, {\"lat\": [46.23809814453125, 50.2433013916], \"line\": {\"color\": \"#e06e00\", \"width\": 1}, \"lon\": [6.108950138092041, 4.64583015442], \"mode\": \"lines\", \"opacity\": 1.0, \"type\": \"scattergeo\"}, {\"lat\": [46.23809814453125, 50.2433013916], \"line\": {\"color\": \"#e06e00\", \"width\": 1}, \"lon\": [6.108950138092041, 4.64583015442], \"mode\": \"lines\", \"opacity\": 1.0, \"type\": \"scattergeo\"}, {\"lat\": [46.23809814453125, 50.781700134277344], \"line\": {\"color\": \"#e06e00\", \"width\": 1}, \"lon\": [6.108950138092041, 4.957779884338379], \"mode\": \"lines\", \"opacity\": 1.0, \"type\": \"scattergeo\"}, {\"lat\": [46.23809814453125, 50.781700134277344], \"line\": {\"color\": \"#e06e00\", \"width\": 1}, \"lon\": [6.108950138092041, 4.957779884338379], \"mode\": \"lines\", \"opacity\": 1.0, \"type\": \"scattergeo\"}, {\"lat\": [46.23809814453125, 50.781700134277344], \"line\": {\"color\": \"#e06e00\", \"width\": 1}, \"lon\": [6.108950138092041, 4.957779884338379], \"mode\": \"lines\", \"opacity\": 1.0, \"type\": \"scattergeo\"}, {\"lat\": [46.23809814453125, 50.75859832763672], \"line\": {\"color\": \"#e06e00\", \"width\": 1}, \"lon\": [6.108950138092041, 4.768330097198486], \"mode\": \"lines\", \"opacity\": 1.0, \"type\": \"scattergeo\"}, {\"lat\": [46.23809814453125, 50.75859832763672], \"line\": {\"color\": \"#e06e00\", \"width\": 1}, \"lon\": [6.108950138092041, 4.768330097198486], \"mode\": \"lines\", \"opacity\": 1.0, \"type\": \"scattergeo\"}, {\"lat\": [46.23809814453125, 50.791901], \"line\": {\"color\": \"#e06e00\", \"width\": 1}, \"lon\": [6.108950138092041, 5.20167], \"mode\": \"lines\", \"opacity\": 1.0, \"type\": \"scattergeo\"}, {\"lat\": [46.23809814453125, 50.791901], \"line\": {\"color\": \"#e06e00\", \"width\": 1}, \"lon\": [6.108950138092041, 5.20167], \"mode\": \"lines\", \"opacity\": 1.0, \"type\": \"scattergeo\"}, {\"lat\": [46.23809814453125, 50.970001], \"line\": {\"color\": \"#e06e00\", \"width\": 1}, \"lon\": [6.108950138092041, 5.37507], \"mode\": \"lines\", \"opacity\": 1.0, \"type\": \"scattergeo\"}, {\"lat\": [47.464698999999996, 51.40230178833008], \"line\": {\"color\": \"#d39200\", \"width\": 1}, \"lon\": [8.54917, 6.9373297691345215], \"mode\": \"lines\", \"opacity\": 1.0, \"type\": \"scattergeo\"}, {\"lat\": [47.464698999999996, 50.865898132299996], \"line\": {\"color\": \"#d39200\", \"width\": 1}, \"lon\": [8.54917, 7.1427397728], \"mode\": \"lines\", \"opacity\": 1.0, \"type\": \"scattergeo\"}, {\"lat\": [47.464698999999996, 52.5597], \"line\": {\"color\": \"#d39200\", \"width\": 1}, \"lon\": [8.54917, 13.2877], \"mode\": \"lines\", \"opacity\": 1.0, \"type\": \"scattergeo\"}, {\"lat\": [47.464698999999996, 51.289501], \"line\": {\"color\": \"#d39200\", \"width\": 1}, \"lon\": [8.54917, 6.766780000000001], \"mode\": \"lines\", \"opacity\": 1.0, \"type\": \"scattergeo\"}, {\"lat\": [47.464698999999996, 53.630401611328004], \"line\": {\"color\": \"#d39200\", \"width\": 1}, \"lon\": [8.54917, 9.988229751586902], \"mode\": \"lines\", \"opacity\": 1.0, \"type\": \"scattergeo\"}, {\"lat\": [47.464698999999996, 51.230278000000006], \"line\": {\"color\": \"#d39200\", \"width\": 1}, \"lon\": [8.54917, 6.504444], \"mode\": \"lines\", \"opacity\": 1.0, \"type\": \"scattergeo\"}, {\"lat\": [47.464698999999996, 49.6963005065918], \"line\": {\"color\": \"#d39200\", \"width\": 1}, \"lon\": [8.54917, 18.111099243164066], \"mode\": \"lines\", \"opacity\": 1.0, \"type\": \"scattergeo\"}, {\"lat\": [47.464698999999996, 50.033333], \"line\": {\"color\": \"#d39200\", \"width\": 1}, \"lon\": [8.54917, 8.570556], \"mode\": \"lines\", \"opacity\": 1.0, \"type\": \"scattergeo\"}, {\"lat\": [46.23809814453125, 50.033333], \"line\": {\"color\": \"#d39200\", \"width\": 1}, \"lon\": [6.108950138092041, 8.570556], \"mode\": \"lines\", \"opacity\": 1.0, \"type\": \"scattergeo\"}, {\"lat\": [46.23809814453125, 50.033333], \"line\": {\"color\": \"#d39200\", \"width\": 1}, \"lon\": [6.108950138092041, 8.570556], \"mode\": \"lines\", \"opacity\": 1.0, \"type\": \"scattergeo\"}, {\"lat\": [46.23809814453125, 50.033333], \"line\": {\"color\": \"#d39200\", \"width\": 1}, \"lon\": [6.108950138092041, 8.570556], \"mode\": \"lines\", \"opacity\": 1.0, \"type\": \"scattergeo\"}, {\"lat\": [46.23809814453125, 48.353802], \"line\": {\"color\": \"#d39200\", \"width\": 1}, \"lon\": [6.108950138092041, 11.7861], \"mode\": \"lines\", \"opacity\": 1.0, \"type\": \"scattergeo\"}, {\"lat\": [46.23809814453125, 48.353802], \"line\": {\"color\": \"#d39200\", \"width\": 1}, \"lon\": [6.108950138092041, 11.7861], \"mode\": \"lines\", \"opacity\": 1.0, \"type\": \"scattergeo\"}, {\"lat\": [47.464698999999996, 50.033333], \"line\": {\"color\": \"#d39200\", \"width\": 1}, \"lon\": [8.54917, 8.570556], \"mode\": \"lines\", \"opacity\": 1.0, \"type\": \"scattergeo\"}, {\"lat\": [47.464698999999996, 50.033333], \"line\": {\"color\": \"#d39200\", \"width\": 1}, \"lon\": [8.54917, 8.570556], \"mode\": \"lines\", \"opacity\": 1.0, \"type\": \"scattergeo\"}, {\"lat\": [47.464698999999996, 47.59], \"line\": {\"color\": \"#d39200\", \"width\": 1}, \"lon\": [8.54917, 7.5291667], \"mode\": \"lines\", \"opacity\": 1.0, \"type\": \"scattergeo\"}, {\"lat\": [47.464698999999996, 48.32229995727539], \"line\": {\"color\": \"#d39200\", \"width\": 1}, \"lon\": [8.54917, 11.948699951171875], \"mode\": \"lines\", \"opacity\": 1.0, \"type\": \"scattergeo\"}, {\"lat\": [46.23809814453125, 48.110298156738004], \"line\": {\"color\": \"#d39200\", \"width\": 1}, \"lon\": [6.108950138092041, 16.569700241089002], \"mode\": \"lines\", \"opacity\": 1.0, \"type\": \"scattergeo\"}, {\"lat\": [46.23809814453125, 48.110298156738004], \"line\": {\"color\": \"#d39200\", \"width\": 1}, \"lon\": [6.108950138092041, 16.569700241089002], \"mode\": \"lines\", \"opacity\": 1.0, \"type\": \"scattergeo\"}, {\"lat\": [46.23809814453125, 48.110298156738004], \"line\": {\"color\": \"#d39200\", \"width\": 1}, \"lon\": [6.108950138092041, 16.569700241089002], \"mode\": \"lines\", \"opacity\": 1.0, \"type\": \"scattergeo\"}, {\"lat\": [46.23809814453125, 45.6306], \"line\": {\"color\": \"#d39200\", \"width\": 1}, \"lon\": [6.108950138092041, 8.728110000000001], \"mode\": \"lines\", \"opacity\": 1.0, \"type\": \"scattergeo\"}, {\"lat\": [46.23809814453125, 45.6306], \"line\": {\"color\": \"#d39200\", \"width\": 1}, \"lon\": [6.108950138092041, 8.728110000000001], \"mode\": \"lines\", \"opacity\": 1.0, \"type\": \"scattergeo\"}, {\"lat\": [46.23809814453125, 45.6306], \"line\": {\"color\": \"#d39200\", \"width\": 1}, \"lon\": [6.108950138092041, 8.728110000000001], \"mode\": \"lines\", \"opacity\": 1.0, \"type\": \"scattergeo\"}, {\"lat\": [46.23809814453125, 48.83769989013672], \"line\": {\"color\": \"#d09900\", \"width\": 1}, \"lon\": [6.108950138092041, 3.016119956970215], \"mode\": \"lines\", \"opacity\": 1.0, \"type\": \"scattergeo\"}, {\"lat\": [46.23809814453125, 48.92779922485352], \"line\": {\"color\": \"#d09900\", \"width\": 1}, \"lon\": [6.108950138092041, 2.835279941558838], \"mode\": \"lines\", \"opacity\": 1.0, \"type\": \"scattergeo\"}, {\"lat\": [46.23809814453125, 49.046397999999996], \"line\": {\"color\": \"#d09900\", \"width\": 1}, \"lon\": [6.108950138092041, 2.3530599999999997], \"mode\": \"lines\", \"opacity\": 1.0, \"type\": \"scattergeo\"}, {\"lat\": [46.23809814453125, 49.0672], \"line\": {\"color\": \"#d09900\", \"width\": 1}, \"lon\": [6.108950138092041, 3.3569400000000003], \"mode\": \"lines\", \"opacity\": 1.0, \"type\": \"scattergeo\"}, {\"lat\": [46.23809814453125, 48.83769989013672], \"line\": {\"color\": \"#d09900\", \"width\": 1}, \"lon\": [6.108950138092041, 3.016119956970215], \"mode\": \"lines\", \"opacity\": 1.0, \"type\": \"scattergeo\"}, {\"lat\": [46.23809814453125, 48.92779922485352], \"line\": {\"color\": \"#d09900\", \"width\": 1}, \"lon\": [6.108950138092041, 2.835279941558838], \"mode\": \"lines\", \"opacity\": 1.0, \"type\": \"scattergeo\"}, {\"lat\": [46.23809814453125, 48.92779922485352], \"line\": {\"color\": \"#d09900\", \"width\": 1}, \"lon\": [6.108950138092041, 2.835279941558838], \"mode\": \"lines\", \"opacity\": 1.0, \"type\": \"scattergeo\"}, {\"lat\": [46.23809814453125, 48.969398498535156], \"line\": {\"color\": \"#d09900\", \"width\": 1}, \"lon\": [6.108950138092041, 2.441390037536621], \"mode\": \"lines\", \"opacity\": 1.0, \"type\": \"scattergeo\"}, {\"lat\": [46.23809814453125, 48.969398498535156], \"line\": {\"color\": \"#d09900\", \"width\": 1}, \"lon\": [6.108950138092041, 2.441390037536621], \"mode\": \"lines\", \"opacity\": 1.0, \"type\": \"scattergeo\"}, {\"lat\": [46.23809814453125, 48.969398498535156], \"line\": {\"color\": \"#d09900\", \"width\": 1}, \"lon\": [6.108950138092041, 2.441390037536621], \"mode\": \"lines\", \"opacity\": 1.0, \"type\": \"scattergeo\"}, {\"lat\": [46.23809814453125, 51.5530014038], \"line\": {\"color\": \"#cea000\", \"width\": 1}, \"lon\": [6.108950138092041, -0.418166995049], \"mode\": \"lines\", \"opacity\": 1.0, \"type\": \"scattergeo\"}, {\"lat\": [46.23809814453125, 51.2136001587], \"line\": {\"color\": \"#cea000\", \"width\": 1}, \"lon\": [6.108950138092041, -0.138611003757], \"mode\": \"lines\", \"opacity\": 1.0, \"type\": \"scattergeo\"}, {\"lat\": [46.40639877319336, 51.4706], \"line\": {\"color\": \"#cea000\", \"width\": 1}, \"lon\": [6.258059978485107, -0.461941], \"mode\": \"lines\", \"opacity\": 1.0, \"type\": \"scattergeo\"}, {\"lat\": [46.23809814453125, 51.40230178833008], \"line\": {\"color\": \"#cea000\", \"width\": 1}, \"lon\": [6.108950138092041, 6.9373297691345215], \"mode\": \"lines\", \"opacity\": 1.0, \"type\": \"scattergeo\"}, {\"lat\": [46.23809814453125, 51.330799102799986], \"line\": {\"color\": \"#cea000\", \"width\": 1}, \"lon\": [6.108950138092041, 0.032499998807900006], \"mode\": \"lines\", \"opacity\": 1.0, \"type\": \"scattergeo\"}, {\"lat\": [47.464698999999996, 51.330799102799986], \"line\": {\"color\": \"#cea000\", \"width\": 1}, \"lon\": [8.54917, 0.032499998807900006], \"mode\": \"lines\", \"opacity\": 1.0, \"type\": \"scattergeo\"}, {\"lat\": [47.464698999999996, 51.330799102799986], \"line\": {\"color\": \"#cea000\", \"width\": 1}, \"lon\": [8.54917, 0.032499998807900006], \"mode\": \"lines\", \"opacity\": 1.0, \"type\": \"scattergeo\"}, {\"lat\": [46.23809814453125, 51.148102], \"line\": {\"color\": \"#cea000\", \"width\": 1}, \"lon\": [6.108950138092041, -0.190278], \"mode\": \"lines\", \"opacity\": 1.0, \"type\": \"scattergeo\"}, {\"lat\": [46.23809814453125, 51.505299], \"line\": {\"color\": \"#cea000\", \"width\": 1}, \"lon\": [6.108950138092041, 0.055277999999999994], \"mode\": \"lines\", \"opacity\": 1.0, \"type\": \"scattergeo\"}, {\"lat\": [46.23809814453125, 51.2136001587], \"line\": {\"color\": \"#cea000\", \"width\": 1}, \"lon\": [6.108950138092041, -0.138611003757], \"mode\": \"lines\", \"opacity\": 1.0, \"type\": \"scattergeo\"}, {\"lat\": [47.464698999999996, 51.469722747799985], \"line\": {\"color\": \"#cea000\", \"width\": 1}, \"lon\": [8.54917, -0.179444000125], \"mode\": \"lines\", \"opacity\": 1.0, \"type\": \"scattergeo\"}, {\"lat\": [47.464698999999996, 51.469722747799985], \"line\": {\"color\": \"#cea000\", \"width\": 1}, \"lon\": [8.54917, -0.179444000125], \"mode\": \"lines\", \"opacity\": 1.0, \"type\": \"scattergeo\"}, {\"lat\": [46.23809814453125, 51.6557998657], \"line\": {\"color\": \"#cea000\", \"width\": 1}, \"lon\": [6.108950138092041, -0.325832992792], \"mode\": \"lines\", \"opacity\": 1.0, \"type\": \"scattergeo\"}, {\"lat\": [47.464698999999996, 51.5008010864], \"line\": {\"color\": \"#cea000\", \"width\": 1}, \"lon\": [8.54917, -0.774443984032], \"mode\": \"lines\", \"opacity\": 1.0, \"type\": \"scattergeo\"}, {\"lat\": [47.464698999999996, 51.5008010864], \"line\": {\"color\": \"#cea000\", \"width\": 1}, \"lon\": [8.54917, -0.774443984032], \"mode\": \"lines\", \"opacity\": 1.0, \"type\": \"scattergeo\"}, {\"lat\": [46.23809814453125, 51.5008010864], \"line\": {\"color\": \"#cea000\", \"width\": 1}, \"lon\": [6.108950138092041, -0.774443984032], \"mode\": \"lines\", \"opacity\": 1.0, \"type\": \"scattergeo\"}, {\"lat\": [46.23809814453125, 51.5008010864], \"line\": {\"color\": \"#cea000\", \"width\": 1}, \"lon\": [6.108950138092041, -0.774443984032], \"mode\": \"lines\", \"opacity\": 1.0, \"type\": \"scattergeo\"}, {\"lat\": [46.23809814453125, 51.65250015260001], \"line\": {\"color\": \"#cea000\", \"width\": 1}, \"lon\": [6.108950138092041, 0.15583300590500002], \"mode\": \"lines\", \"opacity\": 1.0, \"type\": \"scattergeo\"}, {\"lat\": [46.23809814453125, 51.5008010864], \"line\": {\"color\": \"#cea000\", \"width\": 1}, \"lon\": [6.108950138092041, -0.774443984032], \"mode\": \"lines\", \"opacity\": 1.0, \"type\": \"scattergeo\"}, {\"lat\": [46.23809814453125, 51.469722747799985], \"line\": {\"color\": \"#cea000\", \"width\": 1}, \"lon\": [6.108950138092041, -0.179444000125], \"mode\": \"lines\", \"opacity\": 1.0, \"type\": \"scattergeo\"}, {\"lat\": [47.464698999999996, 51.5530014038], \"line\": {\"color\": \"#cea000\", \"width\": 1}, \"lon\": [8.54917, -0.418166995049], \"mode\": \"lines\", \"opacity\": 1.0, \"type\": \"scattergeo\"}, {\"lat\": [46.23809814453125, 51.2136001587], \"line\": {\"color\": \"#cea000\", \"width\": 1}, \"lon\": [6.108950138092041, -0.138611003757], \"mode\": \"lines\", \"opacity\": 1.0, \"type\": \"scattergeo\"}, {\"lat\": [46.23809814453125, 51.469722747799985], \"line\": {\"color\": \"#cea000\", \"width\": 1}, \"lon\": [6.108950138092041, -0.179444000125], \"mode\": \"lines\", \"opacity\": 1.0, \"type\": \"scattergeo\"}, {\"lat\": [46.23809814453125, 51.469722747799985], \"line\": {\"color\": \"#cea000\", \"width\": 1}, \"lon\": [6.108950138092041, -0.179444000125], \"mode\": \"lines\", \"opacity\": 1.0, \"type\": \"scattergeo\"}, {\"lat\": [47.464698999999996, 51.6557998657], \"line\": {\"color\": \"#cea000\", \"width\": 1}, \"lon\": [8.54917, -0.325832992792], \"mode\": \"lines\", \"opacity\": 1.0, \"type\": \"scattergeo\"}, {\"lat\": [46.23809814453125, 45.725556], \"line\": {\"color\": \"#cea000\", \"width\": 1}, \"lon\": [6.108950138092041, 5.081111], \"mode\": \"lines\", \"opacity\": 1.0, \"type\": \"scattergeo\"}, {\"lat\": [46.23809814453125, 45.725556], \"line\": {\"color\": \"#cea000\", \"width\": 1}, \"lon\": [6.108950138092041, 5.081111], \"mode\": \"lines\", \"opacity\": 1.0, \"type\": \"scattergeo\"}, {\"lat\": [47.464698999999996, 48.353802], \"line\": {\"color\": \"#cea000\", \"width\": 1}, \"lon\": [8.54917, 11.7861], \"mode\": \"lines\", \"opacity\": 1.0, \"type\": \"scattergeo\"}, {\"lat\": [47.464698999999996, 53.35369873046875], \"line\": {\"color\": \"#cea000\", \"width\": 1}, \"lon\": [8.54917, -2.2749500274658203], \"mode\": \"lines\", \"opacity\": 1.0, \"type\": \"scattergeo\"}, {\"lat\": [47.464698999999996, 48.92779922485352], \"line\": {\"color\": \"#cea000\", \"width\": 1}, \"lon\": [8.54917, 2.835279941558838], \"mode\": \"lines\", \"opacity\": 1.0, \"type\": \"scattergeo\"}, {\"lat\": [46.23809814453125, 49.012798], \"line\": {\"color\": \"#cea000\", \"width\": 1}, \"lon\": [6.108950138092041, 2.55], \"mode\": \"lines\", \"opacity\": 1.0, \"type\": \"scattergeo\"}, {\"lat\": [47.464698999999996, 49.012798], \"line\": {\"color\": \"#cea000\", \"width\": 1}, \"lon\": [8.54917, 2.55], \"mode\": \"lines\", \"opacity\": 1.0, \"type\": \"scattergeo\"}, {\"lat\": [46.23809814453125, 38.7813], \"line\": {\"color\": \"#cea000\", \"width\": 1}, \"lon\": [6.108950138092041, -9.13592], \"mode\": \"lines\", \"opacity\": 1.0, \"type\": \"scattergeo\"}, {\"lat\": [47.464698999999996, 48.53829956054688], \"line\": {\"color\": \"#cea000\", \"width\": 1}, \"lon\": [8.54917, 7.628230094909668], \"mode\": \"lines\", \"opacity\": 1.0, \"type\": \"scattergeo\"}, {\"lat\": [47.464698999999996, 48.53829956054688], \"line\": {\"color\": \"#cea000\", \"width\": 1}, \"lon\": [8.54917, 7.628230094909668], \"mode\": \"lines\", \"opacity\": 1.0, \"type\": \"scattergeo\"}, {\"lat\": [46.23809814453125, 43.522701], \"line\": {\"color\": \"#cea000\", \"width\": 1}, \"lon\": [6.108950138092041, 4.92384], \"mode\": \"lines\", \"opacity\": 1.0, \"type\": \"scattergeo\"}, {\"lat\": [46.23809814453125, 59.41329956049999], \"line\": {\"color\": \"#cea000\", \"width\": 1}, \"lon\": [6.108950138092041, 24.8327999115], \"mode\": \"lines\", \"opacity\": 1.0, \"type\": \"scattergeo\"}, {\"lat\": [47.464698999999996, 48.554401], \"line\": {\"color\": \"#cea000\", \"width\": 1}, \"lon\": [8.54917, 7.778060000000001], \"mode\": \"lines\", \"opacity\": 1.0, \"type\": \"scattergeo\"}, {\"lat\": [47.464698999999996, 53.35369873046875], \"line\": {\"color\": \"#cea000\", \"width\": 1}, \"lon\": [8.54917, -2.2749500274658203], \"mode\": \"lines\", \"opacity\": 1.0, \"type\": \"scattergeo\"}, {\"lat\": [47.464698999999996, 59.651901245116996], \"line\": {\"color\": \"#cea000\", \"width\": 1}, \"lon\": [8.54917, 17.918600082397], \"mode\": \"lines\", \"opacity\": 1.0, \"type\": \"scattergeo\"}, {\"lat\": [47.464698999999996, 48.53829956054688], \"line\": {\"color\": \"#cea000\", \"width\": 1}, \"lon\": [8.54917, 7.628230094909668], \"mode\": \"lines\", \"opacity\": 1.0, \"type\": \"scattergeo\"}, {\"lat\": [46.23809814453125, 45.445099], \"line\": {\"color\": \"#cba600\", \"width\": 1}, \"lon\": [6.108950138092041, 9.27674], \"mode\": \"lines\", \"opacity\": 1.0, \"type\": \"scattergeo\"}, {\"lat\": [47.464698999999996, 41.800277799999996], \"line\": {\"color\": \"#cba600\", \"width\": 1}, \"lon\": [8.54917, 12.238888900000001], \"mode\": \"lines\", \"opacity\": 1.0, \"type\": \"scattergeo\"}, {\"lat\": [46.23809814453125, 41.7994], \"line\": {\"color\": \"#cba600\", \"width\": 1}, \"lon\": [6.108950138092041, 12.5949], \"mode\": \"lines\", \"opacity\": 1.0, \"type\": \"scattergeo\"}, {\"lat\": [46.23809814453125, 41.800277799999996], \"line\": {\"color\": \"#cba600\", \"width\": 1}, \"lon\": [6.108950138092041, 12.238888900000001], \"mode\": \"lines\", \"opacity\": 1.0, \"type\": \"scattergeo\"}, {\"lat\": [46.23809814453125, 45.445099], \"line\": {\"color\": \"#cba600\", \"width\": 1}, \"lon\": [6.108950138092041, 9.27674], \"mode\": \"lines\", \"opacity\": 1.0, \"type\": \"scattergeo\"}, {\"lat\": [46.23809814453125, 42.430199], \"line\": {\"color\": \"#cba600\", \"width\": 1}, \"lon\": [6.108950138092041, 12.0642], \"mode\": \"lines\", \"opacity\": 1.0, \"type\": \"scattergeo\"}, {\"lat\": [47.464698999999996, 42.430199], \"line\": {\"color\": \"#cba600\", \"width\": 1}, \"lon\": [8.54917, 12.0642], \"mode\": \"lines\", \"opacity\": 1.0, \"type\": \"scattergeo\"}, {\"lat\": [46.23809814453125, 41.654499], \"line\": {\"color\": \"#cba600\", \"width\": 1}, \"lon\": [6.108950138092041, 12.4452], \"mode\": \"lines\", \"opacity\": 1.0, \"type\": \"scattergeo\"}, {\"lat\": [47.464698999999996, 41.654499], \"line\": {\"color\": \"#cba600\", \"width\": 1}, \"lon\": [8.54917, 12.4452], \"mode\": \"lines\", \"opacity\": 1.0, \"type\": \"scattergeo\"}, {\"lat\": [47.464698999999996, 41.800277799999996], \"line\": {\"color\": \"#cba600\", \"width\": 1}, \"lon\": [8.54917, 12.238888900000001], \"mode\": \"lines\", \"opacity\": 1.0, \"type\": \"scattergeo\"}, {\"lat\": [47.464698999999996, 41.800277799999996], \"line\": {\"color\": \"#cba600\", \"width\": 1}, \"lon\": [8.54917, 12.238888900000001], \"mode\": \"lines\", \"opacity\": 1.0, \"type\": \"scattergeo\"}, {\"lat\": [46.23809814453125, 41.800277799999996], \"line\": {\"color\": \"#cba600\", \"width\": 1}, \"lon\": [6.108950138092041, 12.238888900000001], \"mode\": \"lines\", \"opacity\": 1.0, \"type\": \"scattergeo\"}, {\"lat\": [46.23809814453125, 41.800277799999996], \"line\": {\"color\": \"#cba600\", \"width\": 1}, \"lon\": [6.108950138092041, 12.238888900000001], \"mode\": \"lines\", \"opacity\": 1.0, \"type\": \"scattergeo\"}, {\"lat\": [46.23809814453125, 41.800277799999996], \"line\": {\"color\": \"#cba600\", \"width\": 1}, \"lon\": [6.108950138092041, 12.238888900000001], \"mode\": \"lines\", \"opacity\": 1.0, \"type\": \"scattergeo\"}, {\"lat\": [47.464698999999996, 41.800277799999996], \"line\": {\"color\": \"#cba600\", \"width\": 1}, \"lon\": [8.54917, 12.238888900000001], \"mode\": \"lines\", \"opacity\": 1.0, \"type\": \"scattergeo\"}, {\"lat\": [46.23809814453125, 56.92359924316406], \"line\": {\"color\": \"#babe00\", \"width\": 1}, \"lon\": [6.108950138092041, 23.971099853515625], \"mode\": \"lines\", \"opacity\": 1.0, \"type\": \"scattergeo\"}, {\"lat\": [47.464698999999996, 56.92359924316406], \"line\": {\"color\": \"#babe00\", \"width\": 1}, \"lon\": [8.54917, 23.971099853515625], \"mode\": \"lines\", \"opacity\": 1.0, \"type\": \"scattergeo\"}, {\"lat\": [46.23809814453125, 56.9422], \"line\": {\"color\": \"#babe00\", \"width\": 1}, \"lon\": [6.108950138092041, 23.2239], \"mode\": \"lines\", \"opacity\": 1.0, \"type\": \"scattergeo\"}, {\"lat\": [46.23809814453125, 56.92359924316406], \"line\": {\"color\": \"#babe00\", \"width\": 1}, \"lon\": [6.108950138092041, 23.971099853515625], \"mode\": \"lines\", \"opacity\": 1.0, \"type\": \"scattergeo\"}, {\"lat\": [47.464698999999996, 56.9422], \"line\": {\"color\": \"#babe00\", \"width\": 1}, \"lon\": [8.54917, 23.2239], \"mode\": \"lines\", \"opacity\": 1.0, \"type\": \"scattergeo\"}, {\"lat\": [47.464698999999996, 56.92359924316406], \"line\": {\"color\": \"#babe00\", \"width\": 1}, \"lon\": [8.54917, 23.971099853515625], \"mode\": \"lines\", \"opacity\": 1.0, \"type\": \"scattergeo\"}, {\"lat\": [47.464698999999996, 59.4486198425293], \"line\": {\"color\": \"#babe00\", \"width\": 1}, \"lon\": [8.54917, 24.75322723388672], \"mode\": \"lines\", \"opacity\": 1.0, \"type\": \"scattergeo\"}, {\"lat\": [46.23809814453125, 51.4706], \"line\": {\"color\": \"#a6b900\", \"width\": 1}, \"lon\": [6.108950138092041, -0.461941], \"mode\": \"lines\", \"opacity\": 1.0, \"type\": \"scattergeo\"}, {\"lat\": [47.464698999999996, 48.969398498535156], \"line\": {\"color\": \"#a6b900\", \"width\": 1}, \"lon\": [8.54917, 2.441390037536621], \"mode\": \"lines\", \"opacity\": 1.0, \"type\": \"scattergeo\"}, {\"lat\": [46.23809814453125, 51.4706], \"line\": {\"color\": \"#a6b900\", \"width\": 1}, \"lon\": [6.108950138092041, -0.461941], \"mode\": \"lines\", \"opacity\": 1.0, \"type\": \"scattergeo\"}, {\"lat\": [46.23809814453125, 40.471926], \"line\": {\"color\": \"#a6b900\", \"width\": 1}, \"lon\": [6.108950138092041, -3.56264], \"mode\": \"lines\", \"opacity\": 1.0, \"type\": \"scattergeo\"}, {\"lat\": [47.464698999999996, 51.4706], \"line\": {\"color\": \"#a6b900\", \"width\": 1}, \"lon\": [8.54917, -0.461941], \"mode\": \"lines\", \"opacity\": 1.0, \"type\": \"scattergeo\"}, {\"lat\": [47.464698999999996, 51.4706], \"line\": {\"color\": \"#a6b900\", \"width\": 1}, \"lon\": [8.54917, -0.461941], \"mode\": \"lines\", \"opacity\": 1.0, \"type\": \"scattergeo\"}, {\"lat\": [47.464698999999996, 51.4706], \"line\": {\"color\": \"#a6b900\", \"width\": 1}, \"lon\": [8.54917, -0.461941], \"mode\": \"lines\", \"opacity\": 1.0, \"type\": \"scattergeo\"}, {\"lat\": [47.464698999999996, 45.6306], \"line\": {\"color\": \"#a6b900\", \"width\": 1}, \"lon\": [8.54917, 8.728110000000001], \"mode\": \"lines\", \"opacity\": 1.0, \"type\": \"scattergeo\"}, {\"lat\": [47.464698999999996, 48.110298156738004], \"line\": {\"color\": \"#a6b900\", \"width\": 1}, \"lon\": [8.54917, 16.569700241089002], \"mode\": \"lines\", \"opacity\": 1.0, \"type\": \"scattergeo\"}, {\"lat\": [47.464698999999996, 40.471926], \"line\": {\"color\": \"#a6b900\", \"width\": 1}, \"lon\": [8.54917, -3.56264], \"mode\": \"lines\", \"opacity\": 1.0, \"type\": \"scattergeo\"}, {\"lat\": [47.464698999999996, 51.4706], \"line\": {\"color\": \"#a6b900\", \"width\": 1}, \"lon\": [8.54917, -0.461941], \"mode\": \"lines\", \"opacity\": 1.0, \"type\": \"scattergeo\"}, {\"lat\": [47.464698999999996, 51.4706], \"line\": {\"color\": \"#a6b900\", \"width\": 1}, \"lon\": [8.54917, -0.461941], \"mode\": \"lines\", \"opacity\": 1.0, \"type\": \"scattergeo\"}, {\"lat\": [47.464698999999996, 51.956902], \"line\": {\"color\": \"#6fa900\", \"width\": 1}, \"lon\": [8.54917, 4.43722], \"mode\": \"lines\", \"opacity\": 1.0, \"type\": \"scattergeo\"}, {\"lat\": [46.23809814453125, 51.956902], \"line\": {\"color\": \"#6fa900\", \"width\": 1}, \"lon\": [6.108950138092041, 4.43722], \"mode\": \"lines\", \"opacity\": 1.0, \"type\": \"scattergeo\"}, {\"lat\": [47.464698999999996, 52.308601], \"line\": {\"color\": \"#6fa900\", \"width\": 1}, \"lon\": [8.54917, 4.76389], \"mode\": \"lines\", \"opacity\": 1.0, \"type\": \"scattergeo\"}, {\"lat\": [46.23809814453125, 52.308601], \"line\": {\"color\": \"#6fa900\", \"width\": 1}, \"lon\": [6.108950138092041, 4.76389], \"mode\": \"lines\", \"opacity\": 1.0, \"type\": \"scattergeo\"}, {\"lat\": [46.23809814453125, 53.352199554399995], \"line\": {\"color\": \"#66a700\", \"width\": 1}, \"lon\": [6.108950138092041, -6.48611021042], \"mode\": \"lines\", \"opacity\": 1.0, \"type\": \"scattergeo\"}, {\"lat\": [47.464698999999996, 53.301700591999996], \"line\": {\"color\": \"#66a700\", \"width\": 1}, \"lon\": [8.54917, -6.451330184940001], \"mode\": \"lines\", \"opacity\": 1.0, \"type\": \"scattergeo\"}, {\"lat\": [46.23809814453125, 53.421299], \"line\": {\"color\": \"#66a700\", \"width\": 1}, \"lon\": [6.108950138092041, -6.27007], \"mode\": \"lines\", \"opacity\": 1.0, \"type\": \"scattergeo\"}, {\"lat\": [47.464698999999996, 53.421299], \"line\": {\"color\": \"#66a700\", \"width\": 1}, \"lon\": [8.54917, -6.27007], \"mode\": \"lines\", \"opacity\": 1.0, \"type\": \"scattergeo\"}, {\"lat\": [46.40639877319336, 53.421299], \"line\": {\"color\": \"#66a700\", \"width\": 1}, \"lon\": [6.258059978485107, -6.27007], \"mode\": \"lines\", \"opacity\": 1.0, \"type\": \"scattergeo\"}, {\"lat\": [46.23809814453125, 53.301700591999996], \"line\": {\"color\": \"#66a700\", \"width\": 1}, \"lon\": [6.108950138092041, -6.451330184940001], \"mode\": \"lines\", \"opacity\": 1.0, \"type\": \"scattergeo\"}, {\"lat\": [47.464698999999996, 53.352199554399995], \"line\": {\"color\": \"#66a700\", \"width\": 1}, \"lon\": [8.54917, -6.48611021042], \"mode\": \"lines\", \"opacity\": 1.0, \"type\": \"scattergeo\"}, {\"lat\": [46.23809814453125, 52.1656990051], \"line\": {\"color\": \"#5ea400\", \"width\": 1}, \"lon\": [6.108950138092041, 20.9671001434], \"mode\": \"lines\", \"opacity\": 1.0, \"type\": \"scattergeo\"}, {\"lat\": [46.23809814453125, 50.9014015198], \"line\": {\"color\": \"#5ea400\", \"width\": 1}, \"lon\": [6.108950138092041, 4.48443984985], \"mode\": \"lines\", \"opacity\": 1.0, \"type\": \"scattergeo\"}, {\"lat\": [47.464698999999996, 43.439271921999996], \"line\": {\"color\": \"#5ea400\", \"width\": 1}, \"lon\": [8.54917, 5.22142410278], \"mode\": \"lines\", \"opacity\": 1.0, \"type\": \"scattergeo\"}, {\"lat\": [47.464698999999996, 51.87469863891602], \"line\": {\"color\": \"#5ea400\", \"width\": 1}, \"lon\": [8.54917, -0.36833301186561584], \"mode\": \"lines\", \"opacity\": 1.0, \"type\": \"scattergeo\"}, {\"lat\": [46.23809814453125, 37.9364013672], \"line\": {\"color\": \"#180\", \"width\": 1}, \"lon\": [6.108950138092041, 23.944499969499997], \"mode\": \"lines\", \"opacity\": 1.0, \"type\": \"scattergeo\"}, {\"lat\": [47.464698999999996, 34.875099182128906], \"line\": {\"color\": \"#180\", \"width\": 1}, \"lon\": [8.54917, 33.62490081787109], \"mode\": \"lines\", \"opacity\": 1.0, \"type\": \"scattergeo\"}, {\"lat\": [46.23809814453125, 38.1088981628418], \"line\": {\"color\": \"#180\", \"width\": 1}, \"lon\": [6.108950138092041, 23.78380012512207], \"mode\": \"lines\", \"opacity\": 1.0, \"type\": \"scattergeo\"}, {\"lat\": [47.464698999999996, 35.3396987915], \"line\": {\"color\": \"#180\", \"width\": 1}, \"lon\": [8.54917, 25.1802997589], \"mode\": \"lines\", \"opacity\": 1.0, \"type\": \"scattergeo\"}, {\"lat\": [47.464698999999996, 36.40539932250977], \"line\": {\"color\": \"#180\", \"width\": 1}, \"lon\": [8.54917, 28.086200714111328], \"mode\": \"lines\", \"opacity\": 1.0, \"type\": \"scattergeo\"}, {\"lat\": [47.464698999999996, 37.9364013672], \"line\": {\"color\": \"#180\", \"width\": 1}, \"lon\": [8.54917, 23.944499969499997], \"mode\": \"lines\", \"opacity\": 1.0, \"type\": \"scattergeo\"}, {\"lat\": [46.23809814453125, 37.893299], \"line\": {\"color\": \"#180\", \"width\": 1}, \"lon\": [6.108950138092041, 23.726101], \"mode\": \"lines\", \"opacity\": 1.0, \"type\": \"scattergeo\"}, {\"lat\": [47.464698999999996, 37.893299], \"line\": {\"color\": \"#180\", \"width\": 1}, \"lon\": [8.54917, 23.726101], \"mode\": \"lines\", \"opacity\": 1.0, \"type\": \"scattergeo\"}, {\"lat\": [46.23809814453125, 44.5711111], \"line\": {\"color\": \"#f00\", \"width\": 1}, \"lon\": [6.108950138092041, 26.085], \"mode\": \"lines\", \"opacity\": 1.0, \"type\": \"scattergeo\"}, {\"lat\": [46.23809814453125, 42.696693420410156], \"line\": {\"color\": \"#f00\", \"width\": 1}, \"lon\": [6.108950138092041, 23.411436080932614], \"mode\": \"lines\", \"opacity\": 1.0, \"type\": \"scattergeo\"}],\n",
       "                        {\"geo\": {\"countrycolor\": \"rgb(204, 204, 204)\", \"landcolor\": \"rgb(243, 243, 243)\", \"scope\": \"europe\", \"showland\": true}, \"showlegend\": false, \"template\": {\"data\": {\"bar\": [{\"error_x\": {\"color\": \"#2a3f5f\"}, \"error_y\": {\"color\": \"#2a3f5f\"}, \"marker\": {\"line\": {\"color\": \"#E5ECF6\", \"width\": 0.5}}, \"type\": \"bar\"}], \"barpolar\": [{\"marker\": {\"line\": {\"color\": \"#E5ECF6\", \"width\": 0.5}}, \"type\": \"barpolar\"}], \"carpet\": [{\"aaxis\": {\"endlinecolor\": \"#2a3f5f\", \"gridcolor\": \"white\", \"linecolor\": \"white\", \"minorgridcolor\": \"white\", \"startlinecolor\": \"#2a3f5f\"}, \"baxis\": {\"endlinecolor\": \"#2a3f5f\", \"gridcolor\": \"white\", \"linecolor\": \"white\", \"minorgridcolor\": \"white\", \"startlinecolor\": \"#2a3f5f\"}, \"type\": \"carpet\"}], \"choropleth\": [{\"colorbar\": {\"outlinewidth\": 0, \"ticks\": \"\"}, \"type\": \"choropleth\"}], \"contour\": [{\"colorbar\": {\"outlinewidth\": 0, \"ticks\": \"\"}, \"colorscale\": [[0.0, \"#0d0887\"], [0.1111111111111111, \"#46039f\"], [0.2222222222222222, \"#7201a8\"], [0.3333333333333333, \"#9c179e\"], [0.4444444444444444, \"#bd3786\"], [0.5555555555555556, \"#d8576b\"], [0.6666666666666666, \"#ed7953\"], [0.7777777777777778, \"#fb9f3a\"], [0.8888888888888888, \"#fdca26\"], [1.0, \"#f0f921\"]], \"type\": \"contour\"}], \"contourcarpet\": [{\"colorbar\": {\"outlinewidth\": 0, \"ticks\": \"\"}, \"type\": \"contourcarpet\"}], \"heatmap\": [{\"colorbar\": {\"outlinewidth\": 0, \"ticks\": \"\"}, \"colorscale\": [[0.0, \"#0d0887\"], [0.1111111111111111, \"#46039f\"], [0.2222222222222222, \"#7201a8\"], [0.3333333333333333, \"#9c179e\"], [0.4444444444444444, \"#bd3786\"], [0.5555555555555556, \"#d8576b\"], [0.6666666666666666, \"#ed7953\"], [0.7777777777777778, \"#fb9f3a\"], [0.8888888888888888, \"#fdca26\"], [1.0, \"#f0f921\"]], \"type\": \"heatmap\"}], \"heatmapgl\": [{\"colorbar\": {\"outlinewidth\": 0, \"ticks\": \"\"}, \"colorscale\": [[0.0, \"#0d0887\"], [0.1111111111111111, \"#46039f\"], [0.2222222222222222, \"#7201a8\"], [0.3333333333333333, \"#9c179e\"], [0.4444444444444444, \"#bd3786\"], [0.5555555555555556, \"#d8576b\"], [0.6666666666666666, \"#ed7953\"], [0.7777777777777778, \"#fb9f3a\"], [0.8888888888888888, \"#fdca26\"], [1.0, \"#f0f921\"]], \"type\": \"heatmapgl\"}], \"histogram\": [{\"marker\": {\"colorbar\": {\"outlinewidth\": 0, \"ticks\": \"\"}}, \"type\": \"histogram\"}], \"histogram2d\": [{\"colorbar\": {\"outlinewidth\": 0, \"ticks\": \"\"}, \"colorscale\": [[0.0, \"#0d0887\"], [0.1111111111111111, \"#46039f\"], [0.2222222222222222, \"#7201a8\"], [0.3333333333333333, \"#9c179e\"], [0.4444444444444444, \"#bd3786\"], [0.5555555555555556, \"#d8576b\"], [0.6666666666666666, \"#ed7953\"], [0.7777777777777778, \"#fb9f3a\"], [0.8888888888888888, \"#fdca26\"], [1.0, \"#f0f921\"]], \"type\": \"histogram2d\"}], \"histogram2dcontour\": [{\"colorbar\": {\"outlinewidth\": 0, \"ticks\": \"\"}, \"colorscale\": [[0.0, \"#0d0887\"], [0.1111111111111111, \"#46039f\"], [0.2222222222222222, \"#7201a8\"], [0.3333333333333333, \"#9c179e\"], [0.4444444444444444, \"#bd3786\"], [0.5555555555555556, \"#d8576b\"], [0.6666666666666666, \"#ed7953\"], [0.7777777777777778, \"#fb9f3a\"], [0.8888888888888888, \"#fdca26\"], [1.0, \"#f0f921\"]], \"type\": \"histogram2dcontour\"}], \"mesh3d\": [{\"colorbar\": {\"outlinewidth\": 0, \"ticks\": \"\"}, \"type\": \"mesh3d\"}], \"parcoords\": [{\"line\": {\"colorbar\": {\"outlinewidth\": 0, \"ticks\": \"\"}}, \"type\": \"parcoords\"}], \"pie\": [{\"automargin\": true, \"type\": \"pie\"}], \"scatter\": [{\"marker\": {\"colorbar\": {\"outlinewidth\": 0, \"ticks\": \"\"}}, \"type\": \"scatter\"}], \"scatter3d\": [{\"line\": {\"colorbar\": {\"outlinewidth\": 0, \"ticks\": \"\"}}, \"marker\": {\"colorbar\": {\"outlinewidth\": 0, \"ticks\": \"\"}}, \"type\": \"scatter3d\"}], \"scattercarpet\": [{\"marker\": {\"colorbar\": {\"outlinewidth\": 0, \"ticks\": \"\"}}, \"type\": \"scattercarpet\"}], \"scattergeo\": [{\"marker\": {\"colorbar\": {\"outlinewidth\": 0, \"ticks\": \"\"}}, \"type\": \"scattergeo\"}], \"scattergl\": [{\"marker\": {\"colorbar\": {\"outlinewidth\": 0, \"ticks\": \"\"}}, \"type\": \"scattergl\"}], \"scattermapbox\": [{\"marker\": {\"colorbar\": {\"outlinewidth\": 0, \"ticks\": \"\"}}, \"type\": \"scattermapbox\"}], \"scatterpolar\": [{\"marker\": {\"colorbar\": {\"outlinewidth\": 0, \"ticks\": \"\"}}, \"type\": \"scatterpolar\"}], \"scatterpolargl\": [{\"marker\": {\"colorbar\": {\"outlinewidth\": 0, \"ticks\": \"\"}}, \"type\": \"scatterpolargl\"}], \"scatterternary\": [{\"marker\": {\"colorbar\": {\"outlinewidth\": 0, \"ticks\": \"\"}}, \"type\": \"scatterternary\"}], \"surface\": [{\"colorbar\": {\"outlinewidth\": 0, \"ticks\": \"\"}, \"colorscale\": [[0.0, \"#0d0887\"], [0.1111111111111111, \"#46039f\"], [0.2222222222222222, \"#7201a8\"], [0.3333333333333333, \"#9c179e\"], [0.4444444444444444, \"#bd3786\"], [0.5555555555555556, \"#d8576b\"], [0.6666666666666666, \"#ed7953\"], [0.7777777777777778, \"#fb9f3a\"], [0.8888888888888888, \"#fdca26\"], [1.0, \"#f0f921\"]], \"type\": \"surface\"}], \"table\": [{\"cells\": {\"fill\": {\"color\": \"#EBF0F8\"}, \"line\": {\"color\": \"white\"}}, \"header\": {\"fill\": {\"color\": \"#C8D4E3\"}, \"line\": {\"color\": \"white\"}}, \"type\": \"table\"}]}, \"layout\": {\"annotationdefaults\": {\"arrowcolor\": \"#2a3f5f\", \"arrowhead\": 0, \"arrowwidth\": 1}, \"coloraxis\": {\"colorbar\": {\"outlinewidth\": 0, \"ticks\": \"\"}}, \"colorscale\": {\"diverging\": [[0, \"#8e0152\"], [0.1, \"#c51b7d\"], [0.2, \"#de77ae\"], [0.3, \"#f1b6da\"], [0.4, \"#fde0ef\"], [0.5, \"#f7f7f7\"], [0.6, \"#e6f5d0\"], [0.7, \"#b8e186\"], [0.8, \"#7fbc41\"], [0.9, \"#4d9221\"], [1, \"#276419\"]], \"sequential\": [[0.0, \"#0d0887\"], [0.1111111111111111, \"#46039f\"], [0.2222222222222222, \"#7201a8\"], [0.3333333333333333, \"#9c179e\"], [0.4444444444444444, \"#bd3786\"], [0.5555555555555556, \"#d8576b\"], [0.6666666666666666, \"#ed7953\"], [0.7777777777777778, \"#fb9f3a\"], [0.8888888888888888, \"#fdca26\"], [1.0, \"#f0f921\"]], \"sequentialminus\": [[0.0, \"#0d0887\"], [0.1111111111111111, \"#46039f\"], [0.2222222222222222, \"#7201a8\"], [0.3333333333333333, \"#9c179e\"], [0.4444444444444444, \"#bd3786\"], [0.5555555555555556, \"#d8576b\"], [0.6666666666666666, \"#ed7953\"], [0.7777777777777778, \"#fb9f3a\"], [0.8888888888888888, \"#fdca26\"], [1.0, \"#f0f921\"]]}, \"colorway\": [\"#636efa\", \"#EF553B\", \"#00cc96\", \"#ab63fa\", \"#FFA15A\", \"#19d3f3\", \"#FF6692\", \"#B6E880\", \"#FF97FF\", \"#FECB52\"], \"font\": {\"color\": \"#2a3f5f\"}, \"geo\": {\"bgcolor\": \"white\", \"lakecolor\": \"white\", \"landcolor\": \"#E5ECF6\", \"showlakes\": true, \"showland\": true, \"subunitcolor\": \"white\"}, \"hoverlabel\": {\"align\": \"left\"}, \"hovermode\": \"closest\", \"mapbox\": {\"style\": \"light\"}, \"paper_bgcolor\": \"white\", \"plot_bgcolor\": \"#E5ECF6\", \"polar\": {\"angularaxis\": {\"gridcolor\": \"white\", \"linecolor\": \"white\", \"ticks\": \"\"}, \"bgcolor\": \"#E5ECF6\", \"radialaxis\": {\"gridcolor\": \"white\", \"linecolor\": \"white\", \"ticks\": \"\"}}, \"scene\": {\"xaxis\": {\"backgroundcolor\": \"#E5ECF6\", \"gridcolor\": \"white\", \"gridwidth\": 2, \"linecolor\": \"white\", \"showbackground\": true, \"ticks\": \"\", \"zerolinecolor\": \"white\"}, \"yaxis\": {\"backgroundcolor\": \"#E5ECF6\", \"gridcolor\": \"white\", \"gridwidth\": 2, \"linecolor\": \"white\", \"showbackground\": true, \"ticks\": \"\", \"zerolinecolor\": \"white\"}, \"zaxis\": {\"backgroundcolor\": \"#E5ECF6\", \"gridcolor\": \"white\", \"gridwidth\": 2, \"linecolor\": \"white\", \"showbackground\": true, \"ticks\": \"\", \"zerolinecolor\": \"white\"}}, \"shapedefaults\": {\"line\": {\"color\": \"#2a3f5f\"}}, \"ternary\": {\"aaxis\": {\"gridcolor\": \"white\", \"linecolor\": \"white\", \"ticks\": \"\"}, \"baxis\": {\"gridcolor\": \"white\", \"linecolor\": \"white\", \"ticks\": \"\"}, \"bgcolor\": \"#E5ECF6\", \"caxis\": {\"gridcolor\": \"white\", \"linecolor\": \"white\", \"ticks\": \"\"}}, \"title\": {\"x\": 0.05}, \"xaxis\": {\"automargin\": true, \"gridcolor\": \"white\", \"linecolor\": \"white\", \"ticks\": \"\", \"title\": {\"standoff\": 15}, \"zerolinecolor\": \"white\", \"zerolinewidth\": 2}, \"yaxis\": {\"automargin\": true, \"gridcolor\": \"white\", \"linecolor\": \"white\", \"ticks\": \"\", \"title\": {\"standoff\": 15}, \"zerolinecolor\": \"white\", \"zerolinewidth\": 2}}}, \"title\": {\"text\": \"Flight routes starting from Swiss airports to EU countries without outliers\"}},\n",
       "                        {\"responsive\": true}\n",
       "                    ).then(function(){\n",
       "                            \n",
       "var gd = document.getElementById('7f6ea066-072c-417e-836b-55120714ee48');\n",
       "var x = new MutationObserver(function (mutations, observer) {{\n",
       "        var display = window.getComputedStyle(gd).display;\n",
       "        if (!display || display === 'none') {{\n",
       "            console.log([gd, 'removed!']);\n",
       "            Plotly.purge(gd);\n",
       "            observer.disconnect();\n",
       "        }}\n",
       "}});\n",
       "\n",
       "// Listen for the removal of the full notebook cells\n",
       "var notebookContainer = gd.closest('#notebook-container');\n",
       "if (notebookContainer) {{\n",
       "    x.observe(notebookContainer, {childList: true});\n",
       "}}\n",
       "\n",
       "// Listen for the clearing of the current output cell\n",
       "var outputEl = gd.closest('.output');\n",
       "if (outputEl) {{\n",
       "    x.observe(outputEl, {childList: true});\n",
       "}}\n",
       "\n",
       "                        })\n",
       "                };\n",
       "                });\n",
       "            </script>\n",
       "        </div>"
      ]
     },
     "metadata": {},
     "output_type": "display_data"
    }
   ],
   "source": [
    "co2_dataset_bestcompany_model_from_switzerland_to_europe = pd.merge(left=co2_dataset_bestcompany_model_from_switzerland,right=eu_airports_country, left_on='destination', right_on='icao')\n",
    "plot_scatterplot(co2_dataset_bestcompany_model_from_switzerland_to_europe.sort_values(by='CO2 per seat kg/100km', ascending=False)[2:],\\\n",
    "                 feature='CO2 per seat kg/100km', title='Flight routes starting from Swiss airports to EU countries without outliers', europe=True)\n"
   ]
  },
  {
   "cell_type": "markdown",
   "metadata": {},
   "source": [
    "*We clearly saw that there are better destinations to go for if you care for the environment even for the similar distances. In fact, we see a broad range of colors for distance which are similar.*"
   ]
  }
 ],
 "metadata": {
  "kernelspec": {
   "display_name": "Python 3",
   "language": "python",
   "name": "python3"
  },
  "language_info": {
   "codemirror_mode": {
    "name": "ipython",
    "version": 3
   },
   "file_extension": ".py",
   "mimetype": "text/x-python",
   "name": "python",
   "nbconvert_exporter": "python",
   "pygments_lexer": "ipython3",
   "version": "3.7.3"
  }
 },
 "nbformat": 4,
 "nbformat_minor": 4
}
